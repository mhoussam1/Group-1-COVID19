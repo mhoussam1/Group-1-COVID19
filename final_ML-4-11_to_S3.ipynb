{
 "cells": [
  {
   "cell_type": "code",
   "execution_count": 77,
   "metadata": {},
   "outputs": [],
   "source": [
    "import pandas as pd"
   ]
  },
  {
   "cell_type": "code",
   "execution_count": 78,
   "metadata": {},
   "outputs": [],
   "source": [
    "#importaing data\n",
    "data = pd.read_csv(\"https://processedataproj.s3.amazonaws.com/finalcovidData_12Apr2022_1649725827436/finalcovidData_12Apr2022_1649725827436_part00002.csv\")\n",
    "covid_data = pd.DataFrame(data)"
   ]
  },
  {
   "cell_type": "code",
   "execution_count": 79,
   "metadata": {},
   "outputs": [
    {
     "data": {
      "text/html": [
       "<div>\n",
       "<style scoped>\n",
       "    .dataframe tbody tr th:only-of-type {\n",
       "        vertical-align: middle;\n",
       "    }\n",
       "\n",
       "    .dataframe tbody tr th {\n",
       "        vertical-align: top;\n",
       "    }\n",
       "\n",
       "    .dataframe thead th {\n",
       "        text-align: right;\n",
       "    }\n",
       "</style>\n",
       "<table border=\"1\" class=\"dataframe\">\n",
       "  <thead>\n",
       "    <tr style=\"text-align: right;\">\n",
       "      <th></th>\n",
       "      <th>Country</th>\n",
       "      <th>Infection_Risk</th>\n",
       "      <th>Case_Fatality_Rate</th>\n",
       "      <th>Recovery_Proporation</th>\n",
       "      <th>NewCases</th>\n",
       "      <th>NewDeaths</th>\n",
       "      <th>NewRecovered</th>\n",
       "      <th>ActiveCases</th>\n",
       "      <th>Serious_Critical</th>\n",
       "    </tr>\n",
       "  </thead>\n",
       "  <tbody>\n",
       "    <tr>\n",
       "      <th>0</th>\n",
       "      <td>USA</td>\n",
       "      <td>24.47</td>\n",
       "      <td>1.23</td>\n",
       "      <td>80.26</td>\n",
       "      <td>0</td>\n",
       "      <td>0</td>\n",
       "      <td>0</td>\n",
       "      <td>15147900</td>\n",
       "      <td>1822</td>\n",
       "    </tr>\n",
       "    <tr>\n",
       "      <th>1</th>\n",
       "      <td>India</td>\n",
       "      <td>3.07</td>\n",
       "      <td>1.21</td>\n",
       "      <td>98.76</td>\n",
       "      <td>0</td>\n",
       "      <td>0</td>\n",
       "      <td>0</td>\n",
       "      <td>12567</td>\n",
       "      <td>8944</td>\n",
       "    </tr>\n",
       "    <tr>\n",
       "      <th>2</th>\n",
       "      <td>Brazil</td>\n",
       "      <td>13.94</td>\n",
       "      <td>2.20</td>\n",
       "      <td>95.95</td>\n",
       "      <td>0</td>\n",
       "      <td>0</td>\n",
       "      <td>0</td>\n",
       "      <td>554619</td>\n",
       "      <td>8318</td>\n",
       "    </tr>\n",
       "    <tr>\n",
       "      <th>3</th>\n",
       "      <td>France</td>\n",
       "      <td>39.68</td>\n",
       "      <td>0.55</td>\n",
       "      <td>89.97</td>\n",
       "      <td>0</td>\n",
       "      <td>0</td>\n",
       "      <td>0</td>\n",
       "      <td>2464855</td>\n",
       "      <td>1486</td>\n",
       "    </tr>\n",
       "    <tr>\n",
       "      <th>4</th>\n",
       "      <td>Germany</td>\n",
       "      <td>25.69</td>\n",
       "      <td>0.60</td>\n",
       "      <td>79.26</td>\n",
       "      <td>0</td>\n",
       "      <td>0</td>\n",
       "      <td>183900</td>\n",
       "      <td>4359212</td>\n",
       "      <td>2494</td>\n",
       "    </tr>\n",
       "  </tbody>\n",
       "</table>\n",
       "</div>"
      ],
      "text/plain": [
       "   Country  Infection_Risk  Case_Fatality_Rate  Recovery_Proporation  \\\n",
       "0      USA           24.47                1.23                 80.26   \n",
       "1    India            3.07                1.21                 98.76   \n",
       "2   Brazil           13.94                2.20                 95.95   \n",
       "3   France           39.68                0.55                 89.97   \n",
       "4  Germany           25.69                0.60                 79.26   \n",
       "\n",
       "   NewCases  NewDeaths  NewRecovered  ActiveCases  Serious_Critical  \n",
       "0         0          0             0     15147900              1822  \n",
       "1         0          0             0        12567              8944  \n",
       "2         0          0             0       554619              8318  \n",
       "3         0          0             0      2464855              1486  \n",
       "4         0          0        183900      4359212              2494  "
      ]
     },
     "execution_count": 79,
     "metadata": {},
     "output_type": "execute_result"
    }
   ],
   "source": [
    "#checking data\n",
    "covid_data.head(5)"
   ]
  },
  {
   "cell_type": "code",
   "execution_count": 80,
   "metadata": {},
   "outputs": [],
   "source": [
    "covid_data_df = covid_data.set_index('Country')"
   ]
  },
  {
   "cell_type": "code",
   "execution_count": 81,
   "metadata": {},
   "outputs": [
    {
     "data": {
      "text/html": [
       "<div>\n",
       "<style scoped>\n",
       "    .dataframe tbody tr th:only-of-type {\n",
       "        vertical-align: middle;\n",
       "    }\n",
       "\n",
       "    .dataframe tbody tr th {\n",
       "        vertical-align: top;\n",
       "    }\n",
       "\n",
       "    .dataframe thead th {\n",
       "        text-align: right;\n",
       "    }\n",
       "</style>\n",
       "<table border=\"1\" class=\"dataframe\">\n",
       "  <thead>\n",
       "    <tr style=\"text-align: right;\">\n",
       "      <th></th>\n",
       "      <th>Infection_Risk</th>\n",
       "      <th>Case_Fatality_Rate</th>\n",
       "      <th>Recovery_Proporation</th>\n",
       "      <th>NewCases</th>\n",
       "      <th>NewDeaths</th>\n",
       "      <th>NewRecovered</th>\n",
       "      <th>ActiveCases</th>\n",
       "      <th>Serious_Critical</th>\n",
       "    </tr>\n",
       "    <tr>\n",
       "      <th>Country</th>\n",
       "      <th></th>\n",
       "      <th></th>\n",
       "      <th></th>\n",
       "      <th></th>\n",
       "      <th></th>\n",
       "      <th></th>\n",
       "      <th></th>\n",
       "      <th></th>\n",
       "    </tr>\n",
       "  </thead>\n",
       "  <tbody>\n",
       "    <tr>\n",
       "      <th>USA</th>\n",
       "      <td>24.47</td>\n",
       "      <td>1.23</td>\n",
       "      <td>80.26</td>\n",
       "      <td>0</td>\n",
       "      <td>0</td>\n",
       "      <td>0</td>\n",
       "      <td>15147900</td>\n",
       "      <td>1822</td>\n",
       "    </tr>\n",
       "    <tr>\n",
       "      <th>India</th>\n",
       "      <td>3.07</td>\n",
       "      <td>1.21</td>\n",
       "      <td>98.76</td>\n",
       "      <td>0</td>\n",
       "      <td>0</td>\n",
       "      <td>0</td>\n",
       "      <td>12567</td>\n",
       "      <td>8944</td>\n",
       "    </tr>\n",
       "    <tr>\n",
       "      <th>Brazil</th>\n",
       "      <td>13.94</td>\n",
       "      <td>2.20</td>\n",
       "      <td>95.95</td>\n",
       "      <td>0</td>\n",
       "      <td>0</td>\n",
       "      <td>0</td>\n",
       "      <td>554619</td>\n",
       "      <td>8318</td>\n",
       "    </tr>\n",
       "    <tr>\n",
       "      <th>France</th>\n",
       "      <td>39.68</td>\n",
       "      <td>0.55</td>\n",
       "      <td>89.97</td>\n",
       "      <td>0</td>\n",
       "      <td>0</td>\n",
       "      <td>0</td>\n",
       "      <td>2464855</td>\n",
       "      <td>1486</td>\n",
       "    </tr>\n",
       "    <tr>\n",
       "      <th>Germany</th>\n",
       "      <td>25.69</td>\n",
       "      <td>0.60</td>\n",
       "      <td>79.26</td>\n",
       "      <td>0</td>\n",
       "      <td>0</td>\n",
       "      <td>183900</td>\n",
       "      <td>4359212</td>\n",
       "      <td>2494</td>\n",
       "    </tr>\n",
       "    <tr>\n",
       "      <th>...</th>\n",
       "      <td>...</td>\n",
       "      <td>...</td>\n",
       "      <td>...</td>\n",
       "      <td>...</td>\n",
       "      <td>...</td>\n",
       "      <td>...</td>\n",
       "      <td>...</td>\n",
       "      <td>...</td>\n",
       "    </tr>\n",
       "    <tr>\n",
       "      <th>Falkland Islands</th>\n",
       "      <td>3.36</td>\n",
       "      <td>0.00</td>\n",
       "      <td>0.00</td>\n",
       "      <td>0</td>\n",
       "      <td>0</td>\n",
       "      <td>0</td>\n",
       "      <td>0</td>\n",
       "      <td>0</td>\n",
       "    </tr>\n",
       "    <tr>\n",
       "      <th>Vatican City</th>\n",
       "      <td>3.60</td>\n",
       "      <td>0.00</td>\n",
       "      <td>96.55</td>\n",
       "      <td>0</td>\n",
       "      <td>0</td>\n",
       "      <td>0</td>\n",
       "      <td>1</td>\n",
       "      <td>0</td>\n",
       "    </tr>\n",
       "    <tr>\n",
       "      <th>Western Sahara</th>\n",
       "      <td>0.00</td>\n",
       "      <td>10.00</td>\n",
       "      <td>80.00</td>\n",
       "      <td>0</td>\n",
       "      <td>0</td>\n",
       "      <td>0</td>\n",
       "      <td>1</td>\n",
       "      <td>0</td>\n",
       "    </tr>\n",
       "    <tr>\n",
       "      <th>Marshall Islands</th>\n",
       "      <td>0.01</td>\n",
       "      <td>0.00</td>\n",
       "      <td>100.00</td>\n",
       "      <td>0</td>\n",
       "      <td>0</td>\n",
       "      <td>0</td>\n",
       "      <td>0</td>\n",
       "      <td>0</td>\n",
       "    </tr>\n",
       "    <tr>\n",
       "      <th>China</th>\n",
       "      <td>0.01</td>\n",
       "      <td>2.97</td>\n",
       "      <td>80.56</td>\n",
       "      <td>1405</td>\n",
       "      <td>0</td>\n",
       "      <td>1848</td>\n",
       "      <td>25724</td>\n",
       "      <td>54</td>\n",
       "    </tr>\n",
       "  </tbody>\n",
       "</table>\n",
       "<p>384 rows × 8 columns</p>\n",
       "</div>"
      ],
      "text/plain": [
       "                  Infection_Risk  Case_Fatality_Rate  Recovery_Proporation  \\\n",
       "Country                                                                      \n",
       "USA                        24.47                1.23                 80.26   \n",
       "India                       3.07                1.21                 98.76   \n",
       "Brazil                     13.94                2.20                 95.95   \n",
       "France                     39.68                0.55                 89.97   \n",
       "Germany                    25.69                0.60                 79.26   \n",
       "...                          ...                 ...                   ...   \n",
       "Falkland Islands            3.36                0.00                  0.00   \n",
       "Vatican City                3.60                0.00                 96.55   \n",
       "Western Sahara              0.00               10.00                 80.00   \n",
       "Marshall Islands            0.01                0.00                100.00   \n",
       "China                       0.01                2.97                 80.56   \n",
       "\n",
       "                  NewCases  NewDeaths  NewRecovered  ActiveCases  \\\n",
       "Country                                                            \n",
       "USA                      0          0             0     15147900   \n",
       "India                    0          0             0        12567   \n",
       "Brazil                   0          0             0       554619   \n",
       "France                   0          0             0      2464855   \n",
       "Germany                  0          0        183900      4359212   \n",
       "...                    ...        ...           ...          ...   \n",
       "Falkland Islands         0          0             0            0   \n",
       "Vatican City             0          0             0            1   \n",
       "Western Sahara           0          0             0            1   \n",
       "Marshall Islands         0          0             0            0   \n",
       "China                 1405          0          1848        25724   \n",
       "\n",
       "                  Serious_Critical  \n",
       "Country                             \n",
       "USA                           1822  \n",
       "India                         8944  \n",
       "Brazil                        8318  \n",
       "France                        1486  \n",
       "Germany                       2494  \n",
       "...                            ...  \n",
       "Falkland Islands                 0  \n",
       "Vatican City                     0  \n",
       "Western Sahara                   0  \n",
       "Marshall Islands                 0  \n",
       "China                           54  \n",
       "\n",
       "[384 rows x 8 columns]"
      ]
     },
     "execution_count": 81,
     "metadata": {},
     "output_type": "execute_result"
    }
   ],
   "source": [
    "covid_data_df"
   ]
  },
  {
   "cell_type": "code",
   "execution_count": 82,
   "metadata": {},
   "outputs": [],
   "source": [
    "#import for kmean\n",
    "import pandas as pd\n",
    "import plotly.express as px\n",
    "import hvplot.pandas\n",
    "from sklearn.cluster import KMeans"
   ]
  },
  {
   "cell_type": "code",
   "execution_count": 83,
   "metadata": {},
   "outputs": [
    {
     "data": {
      "text/html": [
       "<div>\n",
       "<style scoped>\n",
       "    .dataframe tbody tr th:only-of-type {\n",
       "        vertical-align: middle;\n",
       "    }\n",
       "\n",
       "    .dataframe tbody tr th {\n",
       "        vertical-align: top;\n",
       "    }\n",
       "\n",
       "    .dataframe thead th {\n",
       "        text-align: right;\n",
       "    }\n",
       "</style>\n",
       "<table border=\"1\" class=\"dataframe\">\n",
       "  <thead>\n",
       "    <tr style=\"text-align: right;\">\n",
       "      <th></th>\n",
       "      <th>Serious_Critical</th>\n",
       "      <th>Infection_Risk_0.0</th>\n",
       "      <th>Infection_Risk_0.01</th>\n",
       "      <th>Infection_Risk_0.03</th>\n",
       "      <th>Infection_Risk_0.04</th>\n",
       "      <th>Infection_Risk_0.05</th>\n",
       "      <th>Infection_Risk_0.09</th>\n",
       "      <th>Infection_Risk_0.1</th>\n",
       "      <th>Infection_Risk_0.12</th>\n",
       "      <th>Infection_Risk_0.14</th>\n",
       "      <th>...</th>\n",
       "      <th>ActiveCases_554619</th>\n",
       "      <th>ActiveCases_602026</th>\n",
       "      <th>ActiveCases_852084</th>\n",
       "      <th>ActiveCases_1280678</th>\n",
       "      <th>ActiveCases_1284016</th>\n",
       "      <th>ActiveCases_1980568</th>\n",
       "      <th>ActiveCases_2464855</th>\n",
       "      <th>ActiveCases_4359212</th>\n",
       "      <th>ActiveCases_4432211</th>\n",
       "      <th>ActiveCases_15147900</th>\n",
       "    </tr>\n",
       "    <tr>\n",
       "      <th>Country</th>\n",
       "      <th></th>\n",
       "      <th></th>\n",
       "      <th></th>\n",
       "      <th></th>\n",
       "      <th></th>\n",
       "      <th></th>\n",
       "      <th></th>\n",
       "      <th></th>\n",
       "      <th></th>\n",
       "      <th></th>\n",
       "      <th></th>\n",
       "      <th></th>\n",
       "      <th></th>\n",
       "      <th></th>\n",
       "      <th></th>\n",
       "      <th></th>\n",
       "      <th></th>\n",
       "      <th></th>\n",
       "      <th></th>\n",
       "      <th></th>\n",
       "      <th></th>\n",
       "    </tr>\n",
       "  </thead>\n",
       "  <tbody>\n",
       "    <tr>\n",
       "      <th>USA</th>\n",
       "      <td>1822</td>\n",
       "      <td>0</td>\n",
       "      <td>0</td>\n",
       "      <td>0</td>\n",
       "      <td>0</td>\n",
       "      <td>0</td>\n",
       "      <td>0</td>\n",
       "      <td>0</td>\n",
       "      <td>0</td>\n",
       "      <td>0</td>\n",
       "      <td>...</td>\n",
       "      <td>0</td>\n",
       "      <td>0</td>\n",
       "      <td>0</td>\n",
       "      <td>0</td>\n",
       "      <td>0</td>\n",
       "      <td>0</td>\n",
       "      <td>0</td>\n",
       "      <td>0</td>\n",
       "      <td>0</td>\n",
       "      <td>1</td>\n",
       "    </tr>\n",
       "    <tr>\n",
       "      <th>India</th>\n",
       "      <td>8944</td>\n",
       "      <td>0</td>\n",
       "      <td>0</td>\n",
       "      <td>0</td>\n",
       "      <td>0</td>\n",
       "      <td>0</td>\n",
       "      <td>0</td>\n",
       "      <td>0</td>\n",
       "      <td>0</td>\n",
       "      <td>0</td>\n",
       "      <td>...</td>\n",
       "      <td>0</td>\n",
       "      <td>0</td>\n",
       "      <td>0</td>\n",
       "      <td>0</td>\n",
       "      <td>0</td>\n",
       "      <td>0</td>\n",
       "      <td>0</td>\n",
       "      <td>0</td>\n",
       "      <td>0</td>\n",
       "      <td>0</td>\n",
       "    </tr>\n",
       "    <tr>\n",
       "      <th>Brazil</th>\n",
       "      <td>8318</td>\n",
       "      <td>0</td>\n",
       "      <td>0</td>\n",
       "      <td>0</td>\n",
       "      <td>0</td>\n",
       "      <td>0</td>\n",
       "      <td>0</td>\n",
       "      <td>0</td>\n",
       "      <td>0</td>\n",
       "      <td>0</td>\n",
       "      <td>...</td>\n",
       "      <td>1</td>\n",
       "      <td>0</td>\n",
       "      <td>0</td>\n",
       "      <td>0</td>\n",
       "      <td>0</td>\n",
       "      <td>0</td>\n",
       "      <td>0</td>\n",
       "      <td>0</td>\n",
       "      <td>0</td>\n",
       "      <td>0</td>\n",
       "    </tr>\n",
       "    <tr>\n",
       "      <th>France</th>\n",
       "      <td>1486</td>\n",
       "      <td>0</td>\n",
       "      <td>0</td>\n",
       "      <td>0</td>\n",
       "      <td>0</td>\n",
       "      <td>0</td>\n",
       "      <td>0</td>\n",
       "      <td>0</td>\n",
       "      <td>0</td>\n",
       "      <td>0</td>\n",
       "      <td>...</td>\n",
       "      <td>0</td>\n",
       "      <td>0</td>\n",
       "      <td>0</td>\n",
       "      <td>0</td>\n",
       "      <td>0</td>\n",
       "      <td>0</td>\n",
       "      <td>1</td>\n",
       "      <td>0</td>\n",
       "      <td>0</td>\n",
       "      <td>0</td>\n",
       "    </tr>\n",
       "    <tr>\n",
       "      <th>Germany</th>\n",
       "      <td>2494</td>\n",
       "      <td>0</td>\n",
       "      <td>0</td>\n",
       "      <td>0</td>\n",
       "      <td>0</td>\n",
       "      <td>0</td>\n",
       "      <td>0</td>\n",
       "      <td>0</td>\n",
       "      <td>0</td>\n",
       "      <td>0</td>\n",
       "      <td>...</td>\n",
       "      <td>0</td>\n",
       "      <td>0</td>\n",
       "      <td>0</td>\n",
       "      <td>0</td>\n",
       "      <td>0</td>\n",
       "      <td>0</td>\n",
       "      <td>0</td>\n",
       "      <td>1</td>\n",
       "      <td>0</td>\n",
       "      <td>0</td>\n",
       "    </tr>\n",
       "    <tr>\n",
       "      <th>Russia</th>\n",
       "      <td>2300</td>\n",
       "      <td>0</td>\n",
       "      <td>0</td>\n",
       "      <td>0</td>\n",
       "      <td>0</td>\n",
       "      <td>0</td>\n",
       "      <td>0</td>\n",
       "      <td>0</td>\n",
       "      <td>0</td>\n",
       "      <td>0</td>\n",
       "      <td>...</td>\n",
       "      <td>0</td>\n",
       "      <td>0</td>\n",
       "      <td>0</td>\n",
       "      <td>0</td>\n",
       "      <td>0</td>\n",
       "      <td>0</td>\n",
       "      <td>0</td>\n",
       "      <td>0</td>\n",
       "      <td>0</td>\n",
       "      <td>0</td>\n",
       "    </tr>\n",
       "    <tr>\n",
       "      <th>Turkey</th>\n",
       "      <td>975</td>\n",
       "      <td>0</td>\n",
       "      <td>0</td>\n",
       "      <td>0</td>\n",
       "      <td>0</td>\n",
       "      <td>0</td>\n",
       "      <td>0</td>\n",
       "      <td>0</td>\n",
       "      <td>0</td>\n",
       "      <td>0</td>\n",
       "      <td>...</td>\n",
       "      <td>0</td>\n",
       "      <td>0</td>\n",
       "      <td>0</td>\n",
       "      <td>0</td>\n",
       "      <td>0</td>\n",
       "      <td>0</td>\n",
       "      <td>0</td>\n",
       "      <td>0</td>\n",
       "      <td>0</td>\n",
       "      <td>0</td>\n",
       "    </tr>\n",
       "    <tr>\n",
       "      <th>Italy</th>\n",
       "      <td>489</td>\n",
       "      <td>0</td>\n",
       "      <td>0</td>\n",
       "      <td>0</td>\n",
       "      <td>0</td>\n",
       "      <td>0</td>\n",
       "      <td>0</td>\n",
       "      <td>0</td>\n",
       "      <td>0</td>\n",
       "      <td>0</td>\n",
       "      <td>...</td>\n",
       "      <td>0</td>\n",
       "      <td>0</td>\n",
       "      <td>0</td>\n",
       "      <td>0</td>\n",
       "      <td>1</td>\n",
       "      <td>0</td>\n",
       "      <td>0</td>\n",
       "      <td>0</td>\n",
       "      <td>0</td>\n",
       "      <td>0</td>\n",
       "    </tr>\n",
       "    <tr>\n",
       "      <th>Spain</th>\n",
       "      <td>420</td>\n",
       "      <td>0</td>\n",
       "      <td>0</td>\n",
       "      <td>0</td>\n",
       "      <td>0</td>\n",
       "      <td>0</td>\n",
       "      <td>0</td>\n",
       "      <td>0</td>\n",
       "      <td>0</td>\n",
       "      <td>0</td>\n",
       "      <td>...</td>\n",
       "      <td>0</td>\n",
       "      <td>0</td>\n",
       "      <td>0</td>\n",
       "      <td>0</td>\n",
       "      <td>0</td>\n",
       "      <td>0</td>\n",
       "      <td>0</td>\n",
       "      <td>0</td>\n",
       "      <td>0</td>\n",
       "      <td>0</td>\n",
       "    </tr>\n",
       "    <tr>\n",
       "      <th>Vietnam</th>\n",
       "      <td>1942</td>\n",
       "      <td>0</td>\n",
       "      <td>0</td>\n",
       "      <td>0</td>\n",
       "      <td>0</td>\n",
       "      <td>0</td>\n",
       "      <td>0</td>\n",
       "      <td>0</td>\n",
       "      <td>0</td>\n",
       "      <td>0</td>\n",
       "      <td>...</td>\n",
       "      <td>0</td>\n",
       "      <td>0</td>\n",
       "      <td>0</td>\n",
       "      <td>0</td>\n",
       "      <td>0</td>\n",
       "      <td>1</td>\n",
       "      <td>0</td>\n",
       "      <td>0</td>\n",
       "      <td>0</td>\n",
       "      <td>0</td>\n",
       "    </tr>\n",
       "  </tbody>\n",
       "</table>\n",
       "<p>10 rows × 795 columns</p>\n",
       "</div>"
      ],
      "text/plain": [
       "         Serious_Critical  Infection_Risk_0.0  Infection_Risk_0.01  \\\n",
       "Country                                                              \n",
       "USA                  1822                   0                    0   \n",
       "India                8944                   0                    0   \n",
       "Brazil               8318                   0                    0   \n",
       "France               1486                   0                    0   \n",
       "Germany              2494                   0                    0   \n",
       "Russia               2300                   0                    0   \n",
       "Turkey                975                   0                    0   \n",
       "Italy                 489                   0                    0   \n",
       "Spain                 420                   0                    0   \n",
       "Vietnam              1942                   0                    0   \n",
       "\n",
       "         Infection_Risk_0.03  Infection_Risk_0.04  Infection_Risk_0.05  \\\n",
       "Country                                                                  \n",
       "USA                        0                    0                    0   \n",
       "India                      0                    0                    0   \n",
       "Brazil                     0                    0                    0   \n",
       "France                     0                    0                    0   \n",
       "Germany                    0                    0                    0   \n",
       "Russia                     0                    0                    0   \n",
       "Turkey                     0                    0                    0   \n",
       "Italy                      0                    0                    0   \n",
       "Spain                      0                    0                    0   \n",
       "Vietnam                    0                    0                    0   \n",
       "\n",
       "         Infection_Risk_0.09  Infection_Risk_0.1  Infection_Risk_0.12  \\\n",
       "Country                                                                 \n",
       "USA                        0                   0                    0   \n",
       "India                      0                   0                    0   \n",
       "Brazil                     0                   0                    0   \n",
       "France                     0                   0                    0   \n",
       "Germany                    0                   0                    0   \n",
       "Russia                     0                   0                    0   \n",
       "Turkey                     0                   0                    0   \n",
       "Italy                      0                   0                    0   \n",
       "Spain                      0                   0                    0   \n",
       "Vietnam                    0                   0                    0   \n",
       "\n",
       "         Infection_Risk_0.14  ...  ActiveCases_554619  ActiveCases_602026  \\\n",
       "Country                       ...                                           \n",
       "USA                        0  ...                   0                   0   \n",
       "India                      0  ...                   0                   0   \n",
       "Brazil                     0  ...                   1                   0   \n",
       "France                     0  ...                   0                   0   \n",
       "Germany                    0  ...                   0                   0   \n",
       "Russia                     0  ...                   0                   0   \n",
       "Turkey                     0  ...                   0                   0   \n",
       "Italy                      0  ...                   0                   0   \n",
       "Spain                      0  ...                   0                   0   \n",
       "Vietnam                    0  ...                   0                   0   \n",
       "\n",
       "         ActiveCases_852084  ActiveCases_1280678  ActiveCases_1284016  \\\n",
       "Country                                                                 \n",
       "USA                       0                    0                    0   \n",
       "India                     0                    0                    0   \n",
       "Brazil                    0                    0                    0   \n",
       "France                    0                    0                    0   \n",
       "Germany                   0                    0                    0   \n",
       "Russia                    0                    0                    0   \n",
       "Turkey                    0                    0                    0   \n",
       "Italy                     0                    0                    1   \n",
       "Spain                     0                    0                    0   \n",
       "Vietnam                   0                    0                    0   \n",
       "\n",
       "         ActiveCases_1980568  ActiveCases_2464855  ActiveCases_4359212  \\\n",
       "Country                                                                  \n",
       "USA                        0                    0                    0   \n",
       "India                      0                    0                    0   \n",
       "Brazil                     0                    0                    0   \n",
       "France                     0                    1                    0   \n",
       "Germany                    0                    0                    1   \n",
       "Russia                     0                    0                    0   \n",
       "Turkey                     0                    0                    0   \n",
       "Italy                      0                    0                    0   \n",
       "Spain                      0                    0                    0   \n",
       "Vietnam                    1                    0                    0   \n",
       "\n",
       "         ActiveCases_4432211  ActiveCases_15147900  \n",
       "Country                                             \n",
       "USA                        0                     1  \n",
       "India                      0                     0  \n",
       "Brazil                     0                     0  \n",
       "France                     0                     0  \n",
       "Germany                    0                     0  \n",
       "Russia                     0                     0  \n",
       "Turkey                     0                     0  \n",
       "Italy                      0                     0  \n",
       "Spain                      0                     0  \n",
       "Vietnam                    0                     0  \n",
       "\n",
       "[10 rows x 795 columns]"
      ]
     },
     "execution_count": 83,
     "metadata": {},
     "output_type": "execute_result"
    }
   ],
   "source": [
    "X = pd.get_dummies(covid_data_df, columns = [\"Infection_Risk\", \"Case_Fatality_Rate\", \"Recovery_Proporation\", \"NewCases\", \"NewDeaths\", \"NewRecovered\", \"ActiveCases\"],  )\n",
    "X.head(10)"
   ]
  },
  {
   "cell_type": "code",
   "execution_count": 84,
   "metadata": {},
   "outputs": [],
   "source": [
    "from sklearn.preprocessing import StandardScaler, MinMaxScaler"
   ]
  },
  {
   "cell_type": "code",
   "execution_count": 85,
   "metadata": {},
   "outputs": [
    {
     "name": "stdout",
     "output_type": "stream",
     "text": [
      "[[ 1.51660781 -0.07235746 -0.10259784 ... -0.05109761 -0.05109761\n",
      "  13.82027496]\n",
      " [ 8.52303336 -0.07235746 -0.10259784 ... -0.05109761 -0.05109761\n",
      "  -0.07235746]\n",
      " [ 7.90719197 -0.07235746 -0.10259784 ... -0.05109761 -0.05109761\n",
      "  -0.07235746]\n",
      " [ 1.18606035 -0.07235746 -0.10259784 ... -0.05109761 -0.05109761\n",
      "  -0.07235746]\n",
      " [ 2.17770272 -0.07235746 -0.10259784 ... 19.57038579 -0.05109761\n",
      "  -0.07235746]]\n"
     ]
    }
   ],
   "source": [
    "# Standardize the data with StandardScaler().\n",
    "covid_scaled = StandardScaler().fit_transform(X)\n",
    "print(covid_scaled [0:5])"
   ]
  },
  {
   "cell_type": "code",
   "execution_count": 86,
   "metadata": {},
   "outputs": [],
   "source": [
    "from sklearn.decomposition import PCA"
   ]
  },
  {
   "cell_type": "code",
   "execution_count": 87,
   "metadata": {},
   "outputs": [
    {
     "data": {
      "text/plain": [
       "array([[-1.49176834,  0.53560334, -0.01663228],\n",
       "       [-1.18196565,  1.77783883,  0.09309877],\n",
       "       [-1.20768942,  2.30579192,  0.0114018 ],\n",
       "       ...,\n",
       "       [-1.57163531,  0.19650594,  0.03470229],\n",
       "       [-1.37090853,  0.22818067, -0.03194724],\n",
       "       [ 1.39477191,  0.47517776, -0.23338528]])"
      ]
     },
     "execution_count": 87,
     "metadata": {},
     "output_type": "execute_result"
    }
   ],
   "source": [
    "# Using PCA to reduce dimension to three principal components.\n",
    "# Initialize PCA model\n",
    "pca = PCA(n_components=3)\n",
    "covid_pca = pca.fit_transform(covid_scaled)\n",
    "covid_pca"
   ]
  },
  {
   "cell_type": "code",
   "execution_count": 88,
   "metadata": {},
   "outputs": [
    {
     "data": {
      "text/html": [
       "<div>\n",
       "<style scoped>\n",
       "    .dataframe tbody tr th:only-of-type {\n",
       "        vertical-align: middle;\n",
       "    }\n",
       "\n",
       "    .dataframe tbody tr th {\n",
       "        vertical-align: top;\n",
       "    }\n",
       "\n",
       "    .dataframe thead th {\n",
       "        text-align: right;\n",
       "    }\n",
       "</style>\n",
       "<table border=\"1\" class=\"dataframe\">\n",
       "  <thead>\n",
       "    <tr style=\"text-align: right;\">\n",
       "      <th></th>\n",
       "      <th>PC 1</th>\n",
       "      <th>PC 2</th>\n",
       "      <th>PC 3</th>\n",
       "    </tr>\n",
       "    <tr>\n",
       "      <th>Country</th>\n",
       "      <th></th>\n",
       "      <th></th>\n",
       "      <th></th>\n",
       "    </tr>\n",
       "  </thead>\n",
       "  <tbody>\n",
       "    <tr>\n",
       "      <th>USA</th>\n",
       "      <td>-1.491768</td>\n",
       "      <td>0.535603</td>\n",
       "      <td>-0.016632</td>\n",
       "    </tr>\n",
       "    <tr>\n",
       "      <th>India</th>\n",
       "      <td>-1.181966</td>\n",
       "      <td>1.777839</td>\n",
       "      <td>0.093099</td>\n",
       "    </tr>\n",
       "    <tr>\n",
       "      <th>Brazil</th>\n",
       "      <td>-1.207689</td>\n",
       "      <td>2.305792</td>\n",
       "      <td>0.011402</td>\n",
       "    </tr>\n",
       "    <tr>\n",
       "      <th>France</th>\n",
       "      <td>-1.480032</td>\n",
       "      <td>0.684485</td>\n",
       "      <td>-0.160825</td>\n",
       "    </tr>\n",
       "    <tr>\n",
       "      <th>Germany</th>\n",
       "      <td>-0.355057</td>\n",
       "      <td>1.421254</td>\n",
       "      <td>-0.132906</td>\n",
       "    </tr>\n",
       "    <tr>\n",
       "      <th>Russia</th>\n",
       "      <td>9.712793</td>\n",
       "      <td>9.531533</td>\n",
       "      <td>19.076563</td>\n",
       "    </tr>\n",
       "    <tr>\n",
       "      <th>Turkey</th>\n",
       "      <td>-1.532091</td>\n",
       "      <td>0.331000</td>\n",
       "      <td>0.056124</td>\n",
       "    </tr>\n",
       "    <tr>\n",
       "      <th>Italy</th>\n",
       "      <td>-1.185695</td>\n",
       "      <td>0.079630</td>\n",
       "      <td>0.420733</td>\n",
       "    </tr>\n",
       "    <tr>\n",
       "      <th>Spain</th>\n",
       "      <td>-1.586326</td>\n",
       "      <td>0.263786</td>\n",
       "      <td>-0.025419</td>\n",
       "    </tr>\n",
       "    <tr>\n",
       "      <th>Vietnam</th>\n",
       "      <td>10.619579</td>\n",
       "      <td>24.935098</td>\n",
       "      <td>-14.603647</td>\n",
       "    </tr>\n",
       "  </tbody>\n",
       "</table>\n",
       "</div>"
      ],
      "text/plain": [
       "              PC 1       PC 2       PC 3\n",
       "Country                                 \n",
       "USA      -1.491768   0.535603  -0.016632\n",
       "India    -1.181966   1.777839   0.093099\n",
       "Brazil   -1.207689   2.305792   0.011402\n",
       "France   -1.480032   0.684485  -0.160825\n",
       "Germany  -0.355057   1.421254  -0.132906\n",
       "Russia    9.712793   9.531533  19.076563\n",
       "Turkey   -1.532091   0.331000   0.056124\n",
       "Italy    -1.185695   0.079630   0.420733\n",
       "Spain    -1.586326   0.263786  -0.025419\n",
       "Vietnam  10.619579  24.935098 -14.603647"
      ]
     },
     "execution_count": 88,
     "metadata": {},
     "output_type": "execute_result"
    }
   ],
   "source": [
    "# Create a DataFrame with the three principal components.\n",
    "pcs_df = pd.DataFrame(\n",
    "    data=covid_pca, columns=['PC 1','PC 2','PC 3'],index=covid_data_df.index)\n",
    "pcs_df.head(10)"
   ]
  },
  {
   "cell_type": "code",
   "execution_count": 89,
   "metadata": {},
   "outputs": [
    {
     "name": "stderr",
     "output_type": "stream",
     "text": [
      "C:\\Users\\Charles\\anaconda\\envs\\mlenv\\lib\\site-packages\\sklearn\\cluster\\_kmeans.py:1036: UserWarning:\n",
      "\n",
      "KMeans is known to have a memory leak on Windows with MKL, when there are less chunks than available threads. You can avoid it by setting the environment variable OMP_NUM_THREADS=2.\n",
      "\n"
     ]
    },
    {
     "data": {},
     "metadata": {},
     "output_type": "display_data"
    },
    {
     "data": {
      "application/vnd.holoviews_exec.v0+json": "",
      "text/html": [
       "<div id='4053'>\n",
       "\n",
       "\n",
       "\n",
       "\n",
       "\n",
       "  <div class=\"bk-root\" id=\"d4fcb954-1c68-44c7-8388-99c286e5a421\" data-root-id=\"4053\"></div>\n",
       "</div>\n",
       "<script type=\"application/javascript\">(function(root) {\n",
       "  function embed_document(root) {\n",
       "    var docs_json = {\"6f66295d-4a4c-43dd-b93d-4d25a4e57a72\":{\"defs\":[{\"extends\":null,\"module\":null,\"name\":\"ReactiveHTML1\",\"overrides\":[],\"properties\":[]},{\"extends\":null,\"module\":null,\"name\":\"FlexBox1\",\"overrides\":[],\"properties\":[{\"default\":\"flex-start\",\"kind\":null,\"name\":\"align_content\"},{\"default\":\"flex-start\",\"kind\":null,\"name\":\"align_items\"},{\"default\":\"row\",\"kind\":null,\"name\":\"flex_direction\"},{\"default\":\"wrap\",\"kind\":null,\"name\":\"flex_wrap\"},{\"default\":\"flex-start\",\"kind\":null,\"name\":\"justify_content\"}]},{\"extends\":null,\"module\":null,\"name\":\"TemplateActions1\",\"overrides\":[],\"properties\":[{\"default\":0,\"kind\":null,\"name\":\"open_modal\"},{\"default\":0,\"kind\":null,\"name\":\"close_modal\"}]},{\"extends\":null,\"module\":null,\"name\":\"MaterialTemplateActions1\",\"overrides\":[],\"properties\":[{\"default\":0,\"kind\":null,\"name\":\"open_modal\"},{\"default\":0,\"kind\":null,\"name\":\"close_modal\"}]}],\"roots\":{\"references\":[{\"attributes\":{},\"id\":\"4100\",\"type\":\"AllLabels\"},{\"attributes\":{\"ticks\":[1,2,3,4,5,6,7,8,9,10]},\"id\":\"4097\",\"type\":\"FixedTicker\"},{\"attributes\":{},\"id\":\"4105\",\"type\":\"AllLabels\"},{\"attributes\":{\"line_color\":\"#30a2da\",\"line_width\":2,\"x\":{\"field\":\"k\"},\"y\":{\"field\":\"inertia\"}},\"id\":\"4091\",\"type\":\"Line\"},{\"attributes\":{\"coordinates\":null,\"data_source\":{\"id\":\"4088\"},\"glyph\":{\"id\":\"4091\"},\"group\":null,\"hover_glyph\":null,\"muted_glyph\":{\"id\":\"4093\"},\"nonselection_glyph\":{\"id\":\"4092\"},\"selection_glyph\":{\"id\":\"4096\"},\"view\":{\"id\":\"4095\"}},\"id\":\"4094\",\"type\":\"GlyphRenderer\"},{\"attributes\":{\"end\":9259.292715282501,\"reset_end\":9259.292715282501,\"reset_start\":-116.72759705885699,\"start\":-116.72759705885699,\"tags\":[[[\"inertia\",\"inertia\",null]]]},\"id\":\"4056\",\"type\":\"Range1d\"},{\"attributes\":{\"callback\":null,\"renderers\":[{\"id\":\"4094\"}],\"tags\":[\"hv_created\"],\"tooltips\":[[\"k\",\"@{k}\"],[\"inertia\",\"@{inertia}\"]]},\"id\":\"4057\",\"type\":\"HoverTool\"},{\"attributes\":{\"margin\":[5,5,5,5],\"name\":\"HSpacer08129\",\"sizing_mode\":\"stretch_width\"},\"id\":\"4054\",\"type\":\"Spacer\"},{\"attributes\":{\"source\":{\"id\":\"4088\"}},\"id\":\"4095\",\"type\":\"CDSView\"},{\"attributes\":{\"end\":10.0,\"reset_end\":10.0,\"reset_start\":1.0,\"start\":1.0,\"tags\":[[[\"k\",\"k\",null]]]},\"id\":\"4055\",\"type\":\"Range1d\"},{\"attributes\":{\"line_alpha\":0.1,\"line_color\":\"#30a2da\",\"line_width\":2,\"x\":{\"field\":\"k\"},\"y\":{\"field\":\"inertia\"}},\"id\":\"4092\",\"type\":\"Line\"},{\"attributes\":{},\"id\":\"4112\",\"type\":\"UnionRenderers\"},{\"attributes\":{},\"id\":\"4089\",\"type\":\"Selection\"},{\"attributes\":{},\"id\":\"4063\",\"type\":\"LinearScale\"},{\"attributes\":{\"children\":[{\"id\":\"4054\"},{\"id\":\"4058\"},{\"id\":\"4124\"}],\"margin\":[0,0,0,0],\"name\":\"Row08125\",\"tags\":[\"embedded\"]},\"id\":\"4053\",\"type\":\"Row\"},{\"attributes\":{\"coordinates\":null,\"group\":null,\"text\":\"Elbow Curve\",\"text_color\":\"black\",\"text_font_size\":\"12pt\"},\"id\":\"4059\",\"type\":\"Title\"},{\"attributes\":{\"data\":{\"inertia\":{\"__ndarray__\":\"87yPlfqOwEA4WKPCcye3QDK9SBrcHLBAFvcbdszDpEAWU2vDyFSeQMcOM8fWbpVAK2c5kJjJkECSG9SF9siLQJIPuD6GWIhAPji4A9zEhEA=\",\"dtype\":\"float64\",\"order\":\"little\",\"shape\":[10]},\"k\":[1,2,3,4,5,6,7,8,9,10]},\"selected\":{\"id\":\"4089\"},\"selection_policy\":{\"id\":\"4112\"}},\"id\":\"4088\",\"type\":\"ColumnDataSource\"},{\"attributes\":{\"axis\":{\"id\":\"4067\"},\"coordinates\":null,\"grid_line_color\":null,\"group\":null,\"ticker\":null},\"id\":\"4070\",\"type\":\"Grid\"},{\"attributes\":{\"tools\":[{\"id\":\"4057\"},{\"id\":\"4075\"},{\"id\":\"4076\"},{\"id\":\"4077\"},{\"id\":\"4078\"},{\"id\":\"4079\"}]},\"id\":\"4081\",\"type\":\"Toolbar\"},{\"attributes\":{\"margin\":[5,5,5,5],\"name\":\"HSpacer08130\",\"sizing_mode\":\"stretch_width\"},\"id\":\"4124\",\"type\":\"Spacer\"},{\"attributes\":{\"below\":[{\"id\":\"4067\"}],\"center\":[{\"id\":\"4070\"},{\"id\":\"4074\"}],\"height\":300,\"left\":[{\"id\":\"4071\"}],\"margin\":[5,5,5,5],\"min_border_bottom\":10,\"min_border_left\":10,\"min_border_right\":10,\"min_border_top\":10,\"renderers\":[{\"id\":\"4094\"}],\"sizing_mode\":\"fixed\",\"title\":{\"id\":\"4059\"},\"toolbar\":{\"id\":\"4081\"},\"width\":700,\"x_range\":{\"id\":\"4055\"},\"x_scale\":{\"id\":\"4063\"},\"y_range\":{\"id\":\"4056\"},\"y_scale\":{\"id\":\"4065\"}},\"id\":\"4058\",\"subtype\":\"Figure\",\"type\":\"Plot\"},{\"attributes\":{},\"id\":\"4065\",\"type\":\"LinearScale\"},{\"attributes\":{},\"id\":\"4104\",\"type\":\"BasicTickFormatter\"},{\"attributes\":{\"axis_label\":\"k\",\"coordinates\":null,\"formatter\":{\"id\":\"4099\"},\"group\":null,\"major_label_policy\":{\"id\":\"4100\"},\"ticker\":{\"id\":\"4097\"}},\"id\":\"4067\",\"type\":\"LinearAxis\"},{\"attributes\":{\"axis\":{\"id\":\"4071\"},\"coordinates\":null,\"dimension\":1,\"grid_line_color\":null,\"group\":null,\"ticker\":null},\"id\":\"4074\",\"type\":\"Grid\"},{\"attributes\":{},\"id\":\"4076\",\"type\":\"PanTool\"},{\"attributes\":{\"axis_label\":\"inertia\",\"coordinates\":null,\"formatter\":{\"id\":\"4104\"},\"group\":null,\"major_label_policy\":{\"id\":\"4105\"},\"ticker\":{\"id\":\"4072\"}},\"id\":\"4071\",\"type\":\"LinearAxis\"},{\"attributes\":{},\"id\":\"4072\",\"type\":\"BasicTicker\"},{\"attributes\":{\"line_color\":\"#30a2da\",\"line_width\":2,\"x\":{\"field\":\"k\"},\"y\":{\"field\":\"inertia\"}},\"id\":\"4096\",\"type\":\"Line\"},{\"attributes\":{},\"id\":\"4077\",\"type\":\"WheelZoomTool\"},{\"attributes\":{},\"id\":\"4075\",\"type\":\"SaveTool\"},{\"attributes\":{\"overlay\":{\"id\":\"4080\"}},\"id\":\"4078\",\"type\":\"BoxZoomTool\"},{\"attributes\":{},\"id\":\"4079\",\"type\":\"ResetTool\"},{\"attributes\":{\"bottom_units\":\"screen\",\"coordinates\":null,\"fill_alpha\":0.5,\"fill_color\":\"lightgrey\",\"group\":null,\"left_units\":\"screen\",\"level\":\"overlay\",\"line_alpha\":1.0,\"line_color\":\"black\",\"line_dash\":[4,4],\"line_width\":2,\"right_units\":\"screen\",\"syncable\":false,\"top_units\":\"screen\"},\"id\":\"4080\",\"type\":\"BoxAnnotation\"},{\"attributes\":{\"line_alpha\":0.2,\"line_color\":\"#30a2da\",\"line_width\":2,\"x\":{\"field\":\"k\"},\"y\":{\"field\":\"inertia\"}},\"id\":\"4093\",\"type\":\"Line\"},{\"attributes\":{},\"id\":\"4099\",\"type\":\"BasicTickFormatter\"}],\"root_ids\":[\"4053\"]},\"title\":\"Bokeh Application\",\"version\":\"2.4.2\"}};\n",
       "    var render_items = [{\"docid\":\"6f66295d-4a4c-43dd-b93d-4d25a4e57a72\",\"root_ids\":[\"4053\"],\"roots\":{\"4053\":\"d4fcb954-1c68-44c7-8388-99c286e5a421\"}}];\n",
       "    root.Bokeh.embed.embed_items_notebook(docs_json, render_items);\n",
       "  }\n",
       "  if (root.Bokeh !== undefined && root.Bokeh.Panel !== undefined) {\n",
       "    embed_document(root);\n",
       "  } else {\n",
       "    var attempts = 0;\n",
       "    var timer = setInterval(function(root) {\n",
       "      if (root.Bokeh !== undefined && root.Bokeh.Panel !== undefined) {\n",
       "        clearInterval(timer);\n",
       "        embed_document(root);\n",
       "      } else if (document.readyState == \"complete\") {\n",
       "        attempts++;\n",
       "        if (attempts > 200) {\n",
       "          clearInterval(timer);\n",
       "          console.log(\"Bokeh: ERROR: Unable to run BokehJS code because BokehJS library is missing\");\n",
       "        }\n",
       "      }\n",
       "    }, 25, root)\n",
       "  }\n",
       "})(window);</script>"
      ],
      "text/plain": [
       ":Curve   [k]   (inertia)"
      ]
     },
     "execution_count": 89,
     "metadata": {
      "application/vnd.holoviews_exec.v0+json": {
       "id": "4053"
      }
     },
     "output_type": "execute_result"
    }
   ],
   "source": [
    "inertia = []\n",
    "k = list(range(1, 11))\n",
    "\n",
    "# Calculate the inertia for the range of K values\n",
    "for i in k:\n",
    "    km = KMeans(n_clusters=i, random_state=0)\n",
    "    km.fit(pcs_df)\n",
    "    inertia.append(km.inertia_)\n",
    "\n",
    "# Create the elbow curve\n",
    "elbow_data = {\"k\": k, \"inertia\": inertia}\n",
    "df_elbow = pd.DataFrame(elbow_data).hvplot.line(x=\"k\", y=\"inertia\", xticks=k, title=\"Elbow Curve\")\n",
    "df_elbow"
   ]
  },
  {
   "cell_type": "markdown",
   "metadata": {},
   "source": [
    "## 6 Clusters"
   ]
  },
  {
   "cell_type": "code",
   "execution_count": 90,
   "metadata": {},
   "outputs": [
    {
     "data": {
      "text/plain": [
       "KMeans(n_clusters=6, random_state=0)"
      ]
     },
     "execution_count": 90,
     "metadata": {},
     "output_type": "execute_result"
    }
   ],
   "source": [
    "#INITIALIZING CLUSTERING TO 6 AS SHOWN IN THE ELBOW CURVE\n",
    "model = KMeans(n_clusters=6, random_state=0)\n",
    "model"
   ]
  },
  {
   "cell_type": "code",
   "execution_count": 91,
   "metadata": {},
   "outputs": [
    {
     "data": {
      "text/plain": [
       "KMeans(n_clusters=6, random_state=0)"
      ]
     },
     "execution_count": 91,
     "metadata": {},
     "output_type": "execute_result"
    }
   ],
   "source": [
    "# Fitting model\n",
    "model.fit(covid_data_df)"
   ]
  },
  {
   "cell_type": "code",
   "execution_count": 108,
   "metadata": {},
   "outputs": [
    {
     "name": "stdout",
     "output_type": "stream",
     "text": [
      "[1 0 4 3 2 4 0 3 4 3 0 3 0 4 0 0 4 4 0 4 0 0 4 4 0 4 0 0 0 0 0 4 4 4 0 0 0\n",
      " 0 0 0 0 0 0 0 0 0 0 0 0 0 0 0 0 0 0 0 0 0 0 0 4 0 0 0 0 0 0 0 0 0 0 0 0 0\n",
      " 0 0 0 0 0 0 0 0 4 0 4 0 0 0 0 0 0 0 0 0 0 0 0 0 0 0 0 0 0 0 0 0 0 0 0 0 0\n",
      " 0 0 0 0 0 0 0 0 0 0 0 0 0 0 0 0 0 0 0 0 0 0 0 0 0 0 0 0 0 0 0 0 0 0 0 0 0\n",
      " 0 0 0 0 0 0 0 0 0 0 0 0 0 0 0 0 0 0 0 0 0 0 0 0 0 0 0 0 0 0 0 0 0 0 0 0 0\n",
      " 0 0 0 0 0 0 0 1 0 4 3 2 4 0 3 4 3 0 3 0 4 0 0 4 4 0 4 0 0 4 4 0 4 0 0 0 0\n",
      " 0 4 4 4 0 0 0 0 0 0 0 0 0 0 0 0 0 0 0 0 0 0 0 0 0 0 0 0 0 0 4 0 0 0 0 0 0\n",
      " 0 0 0 0 0 0 0 0 0 0 0 0 0 0 0 4 0 4 0 0 0 0 0 0 0 0 0 0 0 0 0 0 0 0 0 0 0\n",
      " 0 0 0 0 0 0 0 0 0 0 0 0 0 0 0 0 0 0 0 0 0 0 0 0 0 0 0 0 0 0 0 0 0 0 0 0 0\n",
      " 0 0 0 0 0 0 0 0 0 0 0 0 0 0 0 0 0 0 0 0 0 0 0 0 0 0 0 0 0 0 0 0 0 0 0 0 0\n",
      " 0 0 0 0 0 0 0 0 0 0 0 0 0 0]\n"
     ]
    }
   ],
   "source": [
    "# Get the predictions\n",
    "predictions = model.predict(covid_data_df)\n",
    "print(predictions)"
   ]
  },
  {
   "cell_type": "code",
   "execution_count": 109,
   "metadata": {},
   "outputs": [
    {
     "data": {
      "text/html": [
       "<div>\n",
       "<style scoped>\n",
       "    .dataframe tbody tr th:only-of-type {\n",
       "        vertical-align: middle;\n",
       "    }\n",
       "\n",
       "    .dataframe tbody tr th {\n",
       "        vertical-align: top;\n",
       "    }\n",
       "\n",
       "    .dataframe thead th {\n",
       "        text-align: right;\n",
       "    }\n",
       "</style>\n",
       "<table border=\"1\" class=\"dataframe\">\n",
       "  <thead>\n",
       "    <tr style=\"text-align: right;\">\n",
       "      <th></th>\n",
       "      <th>Infection_Risk</th>\n",
       "      <th>Case_Fatality_Rate</th>\n",
       "      <th>Recovery_Proporation</th>\n",
       "      <th>NewCases</th>\n",
       "      <th>NewDeaths</th>\n",
       "      <th>NewRecovered</th>\n",
       "      <th>ActiveCases</th>\n",
       "      <th>Serious_Critical</th>\n",
       "      <th>class</th>\n",
       "    </tr>\n",
       "    <tr>\n",
       "      <th>Country</th>\n",
       "      <th></th>\n",
       "      <th></th>\n",
       "      <th></th>\n",
       "      <th></th>\n",
       "      <th></th>\n",
       "      <th></th>\n",
       "      <th></th>\n",
       "      <th></th>\n",
       "      <th></th>\n",
       "    </tr>\n",
       "  </thead>\n",
       "  <tbody>\n",
       "    <tr>\n",
       "      <th>USA</th>\n",
       "      <td>24.47</td>\n",
       "      <td>1.23</td>\n",
       "      <td>80.26</td>\n",
       "      <td>0</td>\n",
       "      <td>0</td>\n",
       "      <td>0</td>\n",
       "      <td>15147900</td>\n",
       "      <td>1822</td>\n",
       "      <td>1</td>\n",
       "    </tr>\n",
       "    <tr>\n",
       "      <th>India</th>\n",
       "      <td>3.07</td>\n",
       "      <td>1.21</td>\n",
       "      <td>98.76</td>\n",
       "      <td>0</td>\n",
       "      <td>0</td>\n",
       "      <td>0</td>\n",
       "      <td>12567</td>\n",
       "      <td>8944</td>\n",
       "      <td>0</td>\n",
       "    </tr>\n",
       "    <tr>\n",
       "      <th>Brazil</th>\n",
       "      <td>13.94</td>\n",
       "      <td>2.20</td>\n",
       "      <td>95.95</td>\n",
       "      <td>0</td>\n",
       "      <td>0</td>\n",
       "      <td>0</td>\n",
       "      <td>554619</td>\n",
       "      <td>8318</td>\n",
       "      <td>4</td>\n",
       "    </tr>\n",
       "    <tr>\n",
       "      <th>France</th>\n",
       "      <td>39.68</td>\n",
       "      <td>0.55</td>\n",
       "      <td>89.97</td>\n",
       "      <td>0</td>\n",
       "      <td>0</td>\n",
       "      <td>0</td>\n",
       "      <td>2464855</td>\n",
       "      <td>1486</td>\n",
       "      <td>3</td>\n",
       "    </tr>\n",
       "    <tr>\n",
       "      <th>Germany</th>\n",
       "      <td>25.69</td>\n",
       "      <td>0.60</td>\n",
       "      <td>79.26</td>\n",
       "      <td>0</td>\n",
       "      <td>0</td>\n",
       "      <td>183900</td>\n",
       "      <td>4359212</td>\n",
       "      <td>2494</td>\n",
       "      <td>2</td>\n",
       "    </tr>\n",
       "  </tbody>\n",
       "</table>\n",
       "</div>"
      ],
      "text/plain": [
       "         Infection_Risk  Case_Fatality_Rate  Recovery_Proporation  NewCases  \\\n",
       "Country                                                                       \n",
       "USA               24.47                1.23                 80.26         0   \n",
       "India              3.07                1.21                 98.76         0   \n",
       "Brazil            13.94                2.20                 95.95         0   \n",
       "France            39.68                0.55                 89.97         0   \n",
       "Germany           25.69                0.60                 79.26         0   \n",
       "\n",
       "         NewDeaths  NewRecovered  ActiveCases  Serious_Critical  class  \n",
       "Country                                                                 \n",
       "USA              0             0     15147900              1822      1  \n",
       "India            0             0        12567              8944      0  \n",
       "Brazil           0             0       554619              8318      4  \n",
       "France           0             0      2464855              1486      3  \n",
       "Germany          0        183900      4359212              2494      2  "
      ]
     },
     "execution_count": 109,
     "metadata": {},
     "output_type": "execute_result"
    }
   ],
   "source": [
    "# Add a new class column to the covid_data\n",
    "covid_data_df[\"class\"] = model.labels_\n",
    "covid_data_df.head()"
   ]
  },
  {
   "cell_type": "code",
   "execution_count": 110,
   "metadata": {},
   "outputs": [],
   "source": [
    "cluster6_apr_df = covid_data_df"
   ]
  },
  {
   "cell_type": "code",
   "execution_count": 111,
   "metadata": {},
   "outputs": [],
   "source": [
    "import boto3\n",
    "from io import StringIO\n",
    "from botocore.client import Config\n",
    "\n",
    "##load transformed dataframe to AWS S3 Bucket\n",
    "ACCESS_KEY_ID =''\n",
    "ACCESS_SECRET_KEY =''\n",
    "BUCKET_NAME = 'mltos3'\n",
    "\n",
    "\n",
    "def upload_df(data,i):\n",
    "    s3 = boto3.client('s3', aws_access_key_id=ACCESS_KEY_ID, aws_secret_access_key=ACCESS_SECRET_KEY)\n",
    "    csv_buf=StringIO()\n",
    "    data.to_csv(csv_buf, header=True, index=False)\n",
    "    csv_buf.seek(0)\n",
    "    s3.put_object(Bucket=BUCKET_NAME, Body=csv_buf.getvalue(), Key='datasets/'+i)\n",
    "\n",
    "upload_df(cluster6_apr_df,'cluster6_apr.csv')"
   ]
  },
  {
   "cell_type": "code",
   "execution_count": 112,
   "metadata": {},
   "outputs": [],
   "source": [
    "import plotly.express as px\n",
    "import hvplot.pandas"
   ]
  },
  {
   "cell_type": "code",
   "execution_count": 113,
   "metadata": {},
   "outputs": [
    {
     "data": {},
     "metadata": {},
     "output_type": "display_data"
    },
    {
     "data": {
      "application/vnd.holoviews_exec.v0+json": "",
      "text/html": [
       "<div id='5608'>\n",
       "\n",
       "\n",
       "\n",
       "\n",
       "\n",
       "  <div class=\"bk-root\" id=\"cc91082f-5abe-47cf-aa5a-4912d8c3a5b8\" data-root-id=\"5608\"></div>\n",
       "</div>\n",
       "<script type=\"application/javascript\">(function(root) {\n",
       "  function embed_document(root) {\n",
       "    var docs_json = {\"5d14c1ae-843b-4bbd-b782-7145a641fab3\":{\"defs\":[{\"extends\":null,\"module\":null,\"name\":\"ReactiveHTML1\",\"overrides\":[],\"properties\":[]},{\"extends\":null,\"module\":null,\"name\":\"FlexBox1\",\"overrides\":[],\"properties\":[{\"default\":\"flex-start\",\"kind\":null,\"name\":\"align_content\"},{\"default\":\"flex-start\",\"kind\":null,\"name\":\"align_items\"},{\"default\":\"row\",\"kind\":null,\"name\":\"flex_direction\"},{\"default\":\"wrap\",\"kind\":null,\"name\":\"flex_wrap\"},{\"default\":\"flex-start\",\"kind\":null,\"name\":\"justify_content\"}]},{\"extends\":null,\"module\":null,\"name\":\"TemplateActions1\",\"overrides\":[],\"properties\":[{\"default\":0,\"kind\":null,\"name\":\"open_modal\"},{\"default\":0,\"kind\":null,\"name\":\"close_modal\"}]},{\"extends\":null,\"module\":null,\"name\":\"MaterialTemplateActions1\",\"overrides\":[],\"properties\":[{\"default\":0,\"kind\":null,\"name\":\"open_modal\"},{\"default\":0,\"kind\":null,\"name\":\"close_modal\"}]}],\"roots\":{\"references\":[{\"attributes\":{},\"id\":\"5622\",\"type\":\"LinearScale\"},{\"attributes\":{},\"id\":\"5668\",\"type\":\"UnionRenderers\"},{\"attributes\":{\"overlay\":{\"id\":\"5639\"}},\"id\":\"5637\",\"type\":\"BoxZoomTool\"},{\"attributes\":{},\"id\":\"5691\",\"type\":\"UnionRenderers\"},{\"attributes\":{\"label\":{\"value\":\"1\"},\"renderers\":[{\"id\":\"5680\"}]},\"id\":\"5694\",\"type\":\"LegendItem\"},{\"attributes\":{\"source\":{\"id\":\"5674\"}},\"id\":\"5681\",\"type\":\"CDSView\"},{\"attributes\":{},\"id\":\"5638\",\"type\":\"ResetTool\"},{\"attributes\":{\"data\":{\"Case_Fatality_Rate\":{\"__ndarray__\":\"mpmZmZmZ4T9I4XoUrkfxP4XrUbgehds/7FG4HoXr0T+amZmZmZnhP0jhehSuR/E/hetRuB6F2z/sUbgehevRPw==\",\"dtype\":\"float64\",\"order\":\"little\",\"shape\":[8]},\"Infection_Risk\":{\"__ndarray__\":\"16NwPQrXQ0AfhetRuJ44QPYoXI/C9SNAZmZmZmYGR0DXo3A9CtdDQB+F61G4njhA9ihcj8L1I0BmZmZmZgZHQA==\",\"dtype\":\"float64\",\"order\":\"little\",\"shape\":[8]},\"class\":[3,3,3,3,3,3,3,3]},\"selected\":{\"id\":\"5721\"},\"selection_policy\":{\"id\":\"5741\"}},\"id\":\"5720\",\"type\":\"ColumnDataSource\"},{\"attributes\":{},\"id\":\"5654\",\"type\":\"Selection\"},{\"attributes\":{\"data\":{\"Case_Fatality_Rate\":{\"__ndarray__\":\"rkfhehSu8z+uR+F6FK7zPw==\",\"dtype\":\"float64\",\"order\":\"little\",\"shape\":[2]},\"Infection_Risk\":{\"__ndarray__\":\"uB6F61F4OEC4HoXrUXg4QA==\",\"dtype\":\"float64\",\"order\":\"little\",\"shape\":[2]},\"class\":[1,1]},\"selected\":{\"id\":\"5675\"},\"selection_policy\":{\"id\":\"5691\"}},\"id\":\"5674\",\"type\":\"ColumnDataSource\"},{\"attributes\":{\"fill_color\":{\"value\":\"#8b8b8b\"},\"hatch_color\":{\"value\":\"#8b8b8b\"},\"line_color\":{\"value\":\"#8b8b8b\"},\"size\":{\"value\":5.477225575051661},\"x\":{\"field\":\"Case_Fatality_Rate\"},\"y\":{\"field\":\"Infection_Risk\"}},\"id\":\"5749\",\"type\":\"Scatter\"},{\"attributes\":{},\"id\":\"5648\",\"type\":\"BasicTickFormatter\"},{\"attributes\":{\"bottom_units\":\"screen\",\"coordinates\":null,\"fill_alpha\":0.5,\"fill_color\":\"lightgrey\",\"group\":null,\"left_units\":\"screen\",\"level\":\"overlay\",\"line_alpha\":1.0,\"line_color\":\"black\",\"line_dash\":[4,4],\"line_width\":2,\"right_units\":\"screen\",\"syncable\":false,\"top_units\":\"screen\"},\"id\":\"5639\",\"type\":\"BoxAnnotation\"},{\"attributes\":{},\"id\":\"5769\",\"type\":\"UnionRenderers\"},{\"attributes\":{},\"id\":\"5651\",\"type\":\"BasicTickFormatter\"},{\"attributes\":{\"label\":{\"value\":\"4\"},\"renderers\":[{\"id\":\"5752\"}]},\"id\":\"5772\",\"type\":\"LegendItem\"},{\"attributes\":{\"margin\":[5,5,5,5],\"name\":\"HSpacer11614\",\"sizing_mode\":\"stretch_width\"},\"id\":\"5936\",\"type\":\"Spacer\"},{\"attributes\":{},\"id\":\"5747\",\"type\":\"Selection\"},{\"attributes\":{\"tools\":[{\"id\":\"5612\"},{\"id\":\"5634\"},{\"id\":\"5635\"},{\"id\":\"5636\"},{\"id\":\"5637\"},{\"id\":\"5638\"}]},\"id\":\"5640\",\"type\":\"Toolbar\"},{\"attributes\":{\"angle\":{\"value\":0.0},\"fill_alpha\":{\"value\":1.0},\"fill_color\":{\"value\":\"#e5ae38\"},\"hatch_alpha\":{\"value\":1.0},\"hatch_color\":{\"value\":\"#e5ae38\"},\"hatch_scale\":{\"value\":12.0},\"hatch_weight\":{\"value\":1.0},\"line_alpha\":{\"value\":1.0},\"line_cap\":{\"value\":\"butt\"},\"line_color\":{\"value\":\"#e5ae38\"},\"line_dash\":{\"value\":[]},\"line_dash_offset\":{\"value\":0},\"line_join\":{\"value\":\"bevel\"},\"line_width\":{\"value\":1},\"marker\":{\"value\":\"circle\"},\"size\":{\"value\":5.477225575051661},\"x\":{\"field\":\"Case_Fatality_Rate\"},\"y\":{\"field\":\"Infection_Risk\"}},\"id\":\"5719\",\"type\":\"Scatter\"},{\"attributes\":{\"axis_label\":\"Infection_Risk\",\"coordinates\":null,\"formatter\":{\"id\":\"5651\"},\"group\":null,\"major_label_policy\":{\"id\":\"5652\"},\"ticker\":{\"id\":\"5631\"}},\"id\":\"5630\",\"type\":\"LinearAxis\"},{\"attributes\":{\"angle\":{\"value\":0.0},\"fill_alpha\":{\"value\":1.0},\"fill_color\":{\"value\":\"#6d904f\"},\"hatch_alpha\":{\"value\":1.0},\"hatch_color\":{\"value\":\"#6d904f\"},\"hatch_scale\":{\"value\":12.0},\"hatch_weight\":{\"value\":1.0},\"line_alpha\":{\"value\":1.0},\"line_cap\":{\"value\":\"butt\"},\"line_color\":{\"value\":\"#6d904f\"},\"line_dash\":{\"value\":[]},\"line_dash_offset\":{\"value\":0},\"line_join\":{\"value\":\"bevel\"},\"line_width\":{\"value\":1},\"marker\":{\"value\":\"circle\"},\"size\":{\"value\":5.477225575051661},\"x\":{\"field\":\"Case_Fatality_Rate\"},\"y\":{\"field\":\"Infection_Risk\"}},\"id\":\"5745\",\"type\":\"Scatter\"},{\"attributes\":{\"fill_alpha\":{\"value\":0.2},\"fill_color\":{\"value\":\"#8b8b8b\"},\"hatch_alpha\":{\"value\":0.2},\"hatch_color\":{\"value\":\"#8b8b8b\"},\"line_alpha\":{\"value\":0.2},\"line_color\":{\"value\":\"#8b8b8b\"},\"size\":{\"value\":5.477225575051661},\"x\":{\"field\":\"Case_Fatality_Rate\"},\"y\":{\"field\":\"Infection_Risk\"}},\"id\":\"5751\",\"type\":\"Scatter\"},{\"attributes\":{\"fill_color\":{\"value\":\"#30a2da\"},\"hatch_color\":{\"value\":\"#30a2da\"},\"line_color\":{\"value\":\"#30a2da\"},\"size\":{\"value\":5.477225575051661},\"x\":{\"field\":\"Case_Fatality_Rate\"},\"y\":{\"field\":\"Infection_Risk\"}},\"id\":\"5656\",\"type\":\"Scatter\"},{\"attributes\":{},\"id\":\"5649\",\"type\":\"AllLabels\"},{\"attributes\":{\"fill_color\":{\"value\":\"#6d904f\"},\"hatch_color\":{\"value\":\"#6d904f\"},\"line_color\":{\"value\":\"#6d904f\"},\"size\":{\"value\":5.477225575051661},\"x\":{\"field\":\"Case_Fatality_Rate\"},\"y\":{\"field\":\"Infection_Risk\"}},\"id\":\"5723\",\"type\":\"Scatter\"},{\"attributes\":{\"fill_alpha\":{\"value\":0.1},\"fill_color\":{\"value\":\"#8b8b8b\"},\"hatch_alpha\":{\"value\":0.1},\"hatch_color\":{\"value\":\"#8b8b8b\"},\"line_alpha\":{\"value\":0.1},\"line_color\":{\"value\":\"#8b8b8b\"},\"size\":{\"value\":5.477225575051661},\"x\":{\"field\":\"Case_Fatality_Rate\"},\"y\":{\"field\":\"Infection_Risk\"}},\"id\":\"5750\",\"type\":\"Scatter\"},{\"attributes\":{\"source\":{\"id\":\"5746\"}},\"id\":\"5753\",\"type\":\"CDSView\"},{\"attributes\":{},\"id\":\"5741\",\"type\":\"UnionRenderers\"},{\"attributes\":{\"fill_alpha\":{\"value\":0.2},\"fill_color\":{\"value\":\"#30a2da\"},\"hatch_alpha\":{\"value\":0.2},\"hatch_color\":{\"value\":\"#30a2da\"},\"line_alpha\":{\"value\":0.2},\"line_color\":{\"value\":\"#30a2da\"},\"size\":{\"value\":5.477225575051661},\"x\":{\"field\":\"Case_Fatality_Rate\"},\"y\":{\"field\":\"Infection_Risk\"}},\"id\":\"5658\",\"type\":\"Scatter\"},{\"attributes\":{\"coordinates\":null,\"data_source\":{\"id\":\"5746\"},\"glyph\":{\"id\":\"5749\"},\"group\":null,\"hover_glyph\":null,\"muted_glyph\":{\"id\":\"5751\"},\"nonselection_glyph\":{\"id\":\"5750\"},\"selection_glyph\":{\"id\":\"5773\"},\"view\":{\"id\":\"5753\"}},\"id\":\"5752\",\"type\":\"GlyphRenderer\"},{\"attributes\":{\"label\":{\"value\":\"3\"},\"renderers\":[{\"id\":\"5726\"}]},\"id\":\"5744\",\"type\":\"LegendItem\"},{\"attributes\":{\"angle\":{\"value\":0.0},\"fill_alpha\":{\"value\":1.0},\"fill_color\":{\"value\":\"#fc4f30\"},\"hatch_alpha\":{\"value\":1.0},\"hatch_color\":{\"value\":\"#fc4f30\"},\"hatch_scale\":{\"value\":12.0},\"hatch_weight\":{\"value\":1.0},\"line_alpha\":{\"value\":1.0},\"line_cap\":{\"value\":\"butt\"},\"line_color\":{\"value\":\"#fc4f30\"},\"line_dash\":{\"value\":[]},\"line_dash_offset\":{\"value\":0},\"line_join\":{\"value\":\"bevel\"},\"line_width\":{\"value\":1},\"marker\":{\"value\":\"circle\"},\"size\":{\"value\":5.477225575051661},\"x\":{\"field\":\"Case_Fatality_Rate\"},\"y\":{\"field\":\"Infection_Risk\"}},\"id\":\"5695\",\"type\":\"Scatter\"},{\"attributes\":{\"coordinates\":null,\"data_source\":{\"id\":\"5674\"},\"glyph\":{\"id\":\"5677\"},\"group\":null,\"hover_glyph\":null,\"muted_glyph\":{\"id\":\"5679\"},\"nonselection_glyph\":{\"id\":\"5678\"},\"selection_glyph\":{\"id\":\"5695\"},\"view\":{\"id\":\"5681\"}},\"id\":\"5680\",\"type\":\"GlyphRenderer\"},{\"attributes\":{},\"id\":\"5721\",\"type\":\"Selection\"},{\"attributes\":{},\"id\":\"5652\",\"type\":\"AllLabels\"},{\"attributes\":{\"fill_color\":{\"value\":\"#e5ae38\"},\"hatch_color\":{\"value\":\"#e5ae38\"},\"line_color\":{\"value\":\"#e5ae38\"},\"size\":{\"value\":5.477225575051661},\"x\":{\"field\":\"Case_Fatality_Rate\"},\"y\":{\"field\":\"Infection_Risk\"}},\"id\":\"5699\",\"type\":\"Scatter\"},{\"attributes\":{\"fill_alpha\":{\"value\":0.2},\"fill_color\":{\"value\":\"#6d904f\"},\"hatch_alpha\":{\"value\":0.2},\"hatch_color\":{\"value\":\"#6d904f\"},\"line_alpha\":{\"value\":0.2},\"line_color\":{\"value\":\"#6d904f\"},\"size\":{\"value\":5.477225575051661},\"x\":{\"field\":\"Case_Fatality_Rate\"},\"y\":{\"field\":\"Infection_Risk\"}},\"id\":\"5725\",\"type\":\"Scatter\"},{\"attributes\":{\"end\":18.927857142857142,\"reset_end\":18.927857142857142,\"reset_start\":-0.7778571428571428,\"start\":-0.7778571428571428,\"tags\":[[[\"Case_Fatality_Rate\",\"Case_Fatality_Rate\",null]]]},\"id\":\"5610\",\"type\":\"Range1d\"},{\"attributes\":{},\"id\":\"5715\",\"type\":\"UnionRenderers\"},{\"attributes\":{\"fill_alpha\":{\"value\":0.1},\"fill_color\":{\"value\":\"#6d904f\"},\"hatch_alpha\":{\"value\":0.1},\"hatch_color\":{\"value\":\"#6d904f\"},\"line_alpha\":{\"value\":0.1},\"line_color\":{\"value\":\"#6d904f\"},\"size\":{\"value\":5.477225575051661},\"x\":{\"field\":\"Case_Fatality_Rate\"},\"y\":{\"field\":\"Infection_Risk\"}},\"id\":\"5724\",\"type\":\"Scatter\"},{\"attributes\":{\"source\":{\"id\":\"5720\"}},\"id\":\"5727\",\"type\":\"CDSView\"},{\"attributes\":{\"label\":{\"value\":\"2\"},\"renderers\":[{\"id\":\"5702\"}]},\"id\":\"5718\",\"type\":\"LegendItem\"},{\"attributes\":{\"click_policy\":\"mute\",\"coordinates\":null,\"group\":null,\"items\":[{\"id\":\"5672\"},{\"id\":\"5694\"},{\"id\":\"5718\"},{\"id\":\"5744\"},{\"id\":\"5772\"}],\"location\":[0,0],\"title\":\"class\"},\"id\":\"5671\",\"type\":\"Legend\"},{\"attributes\":{\"coordinates\":null,\"data_source\":{\"id\":\"5720\"},\"glyph\":{\"id\":\"5723\"},\"group\":null,\"hover_glyph\":null,\"muted_glyph\":{\"id\":\"5725\"},\"nonselection_glyph\":{\"id\":\"5724\"},\"selection_glyph\":{\"id\":\"5745\"},\"view\":{\"id\":\"5727\"}},\"id\":\"5726\",\"type\":\"GlyphRenderer\"},{\"attributes\":{\"fill_alpha\":{\"value\":0.1},\"fill_color\":{\"value\":\"#30a2da\"},\"hatch_alpha\":{\"value\":0.1},\"hatch_color\":{\"value\":\"#30a2da\"},\"line_alpha\":{\"value\":0.1},\"line_color\":{\"value\":\"#30a2da\"},\"size\":{\"value\":5.477225575051661},\"x\":{\"field\":\"Case_Fatality_Rate\"},\"y\":{\"field\":\"Infection_Risk\"}},\"id\":\"5657\",\"type\":\"Scatter\"},{\"attributes\":{\"angle\":{\"value\":0.0},\"fill_alpha\":{\"value\":1.0},\"fill_color\":{\"value\":\"#30a2da\"},\"hatch_alpha\":{\"value\":1.0},\"hatch_color\":{\"value\":\"#30a2da\"},\"hatch_scale\":{\"value\":12.0},\"hatch_weight\":{\"value\":1.0},\"line_alpha\":{\"value\":1.0},\"line_cap\":{\"value\":\"butt\"},\"line_color\":{\"value\":\"#30a2da\"},\"line_dash\":{\"value\":[]},\"line_dash_offset\":{\"value\":0},\"line_join\":{\"value\":\"bevel\"},\"line_width\":{\"value\":1},\"marker\":{\"value\":\"circle\"},\"size\":{\"value\":5.477225575051661},\"x\":{\"field\":\"Case_Fatality_Rate\"},\"y\":{\"field\":\"Infection_Risk\"}},\"id\":\"5673\",\"type\":\"Scatter\"},{\"attributes\":{\"end\":57.958999999999996,\"reset_end\":57.958999999999996,\"reset_start\":-5.269,\"start\":-5.269,\"tags\":[[[\"Infection_Risk\",\"Infection_Risk\",null]]]},\"id\":\"5611\",\"type\":\"Range1d\"},{\"attributes\":{},\"id\":\"5697\",\"type\":\"Selection\"},{\"attributes\":{\"data\":{\"Case_Fatality_Rate\":{\"__ndarray__\":\"MzMzMzMz4z8zMzMzMzPjPw==\",\"dtype\":\"float64\",\"order\":\"little\",\"shape\":[2]},\"Infection_Risk\":{\"__ndarray__\":\"cT0K16OwOUBI4XoUrsc5QA==\",\"dtype\":\"float64\",\"order\":\"little\",\"shape\":[2]},\"class\":[2,2]},\"selected\":{\"id\":\"5697\"},\"selection_policy\":{\"id\":\"5715\"}},\"id\":\"5696\",\"type\":\"ColumnDataSource\"},{\"attributes\":{\"fill_alpha\":{\"value\":0.2},\"fill_color\":{\"value\":\"#e5ae38\"},\"hatch_alpha\":{\"value\":0.2},\"hatch_color\":{\"value\":\"#e5ae38\"},\"line_alpha\":{\"value\":0.2},\"line_color\":{\"value\":\"#e5ae38\"},\"size\":{\"value\":5.477225575051661},\"x\":{\"field\":\"Case_Fatality_Rate\"},\"y\":{\"field\":\"Infection_Risk\"}},\"id\":\"5701\",\"type\":\"Scatter\"},{\"attributes\":{\"fill_color\":{\"value\":\"#fc4f30\"},\"hatch_color\":{\"value\":\"#fc4f30\"},\"line_color\":{\"value\":\"#fc4f30\"},\"size\":{\"value\":5.477225575051661},\"x\":{\"field\":\"Case_Fatality_Rate\"},\"y\":{\"field\":\"Infection_Risk\"}},\"id\":\"5677\",\"type\":\"Scatter\"},{\"attributes\":{\"label\":{\"value\":\"0\"},\"renderers\":[{\"id\":\"5659\"}]},\"id\":\"5672\",\"type\":\"LegendItem\"},{\"attributes\":{\"callback\":null,\"renderers\":[{\"id\":\"5659\"},{\"id\":\"5680\"},{\"id\":\"5702\"},{\"id\":\"5726\"},{\"id\":\"5752\"}],\"tags\":[\"hv_created\"],\"tooltips\":[[\"class\",\"@{class}\"],[\"Case_Fatality_Rate\",\"@{Case_Fatality_Rate}\"],[\"Infection_Risk\",\"@{Infection_Risk}\"]]},\"id\":\"5612\",\"type\":\"HoverTool\"},{\"attributes\":{},\"id\":\"5627\",\"type\":\"BasicTicker\"},{\"attributes\":{\"source\":{\"id\":\"5653\"}},\"id\":\"5660\",\"type\":\"CDSView\"},{\"attributes\":{\"source\":{\"id\":\"5696\"}},\"id\":\"5703\",\"type\":\"CDSView\"},{\"attributes\":{\"fill_alpha\":{\"value\":0.1},\"fill_color\":{\"value\":\"#e5ae38\"},\"hatch_alpha\":{\"value\":0.1},\"hatch_color\":{\"value\":\"#e5ae38\"},\"line_alpha\":{\"value\":0.1},\"line_color\":{\"value\":\"#e5ae38\"},\"size\":{\"value\":5.477225575051661},\"x\":{\"field\":\"Case_Fatality_Rate\"},\"y\":{\"field\":\"Infection_Risk\"}},\"id\":\"5700\",\"type\":\"Scatter\"},{\"attributes\":{\"data\":{\"Case_Fatality_Rate\":{\"__ndarray__\":\"mpmZmZmZAUCPwvUoXI8AQHsUrkfheuw/4XoUrkfh2j/hehSuR+H+P83MzMzMzBZA7FG4HoXrwT89CtejcD3aP5qZmZmZmek/w/UoXI/C5T/2KFyPwvXYPxSuR+F6FPo/zczMzMzM7D8K16NwPQrXPylcj8L1KMw/pHA9CtejBECamZmZmZkBQI/C9ShcjwBAexSuR+F67D/hehSuR+HaP+F6FK5H4f4/zczMzMzMFkDsUbgehevBPz0K16NwPdo/mpmZmZmZ6T/D9Shcj8LlP/YoXI/C9dg/FK5H4XoU+j/NzMzMzMzsPwrXo3A9Ctc/KVyPwvUozD+kcD0K16MEQA==\",\"dtype\":\"float64\",\"order\":\"little\",\"shape\":[32]},\"Infection_Risk\":{\"__ndarray__\":\"4XoUrkfhK0CF61G4HoUoQHE9CtejsDhAUrgehetRFUCamZmZmZkvQEjhehSuRxFA7FG4HoUrMkCPwvUoXG9FQD0K16NwfUBAUrgehetRFUAK16NwPepDQLgehetR+DFASOF6FK7HPUC4HoXrUTgwQD0K16Nw/UFAj8L1KFyPEEDhehSuR+ErQIXrUbgehShAcT0K16OwOEBSuB6F61EVQJqZmZmZmS9ASOF6FK5HEUDsUbgehSsyQI/C9Shcb0VAPQrXo3B9QEBSuB6F61EVQArXo3A96kNAuB6F61H4MUBI4XoUrsc9QLgehetRODBAPQrXo3D9QUCPwvUoXI8QQA==\",\"dtype\":\"float64\",\"order\":\"little\",\"shape\":[32]},\"class\":[4,4,4,4,4,4,4,4,4,4,4,4,4,4,4,4,4,4,4,4,4,4,4,4,4,4,4,4,4,4,4,4]},\"selected\":{\"id\":\"5747\"},\"selection_policy\":{\"id\":\"5769\"}},\"id\":\"5746\",\"type\":\"ColumnDataSource\"},{\"attributes\":{\"below\":[{\"id\":\"5626\"}],\"center\":[{\"id\":\"5629\"},{\"id\":\"5633\"}],\"height\":300,\"left\":[{\"id\":\"5630\"}],\"margin\":[5,5,5,5],\"min_border_bottom\":10,\"min_border_left\":10,\"min_border_right\":10,\"min_border_top\":10,\"renderers\":[{\"id\":\"5659\"},{\"id\":\"5680\"},{\"id\":\"5702\"},{\"id\":\"5726\"},{\"id\":\"5752\"}],\"right\":[{\"id\":\"5671\"}],\"sizing_mode\":\"fixed\",\"title\":{\"id\":\"5618\"},\"toolbar\":{\"id\":\"5640\"},\"width\":700,\"x_range\":{\"id\":\"5610\"},\"x_scale\":{\"id\":\"5622\"},\"y_range\":{\"id\":\"5611\"},\"y_scale\":{\"id\":\"5624\"}},\"id\":\"5617\",\"subtype\":\"Figure\",\"type\":\"Plot\"},{\"attributes\":{\"coordinates\":null,\"data_source\":{\"id\":\"5696\"},\"glyph\":{\"id\":\"5699\"},\"group\":null,\"hover_glyph\":null,\"muted_glyph\":{\"id\":\"5701\"},\"nonselection_glyph\":{\"id\":\"5700\"},\"selection_glyph\":{\"id\":\"5719\"},\"view\":{\"id\":\"5703\"}},\"id\":\"5702\",\"type\":\"GlyphRenderer\"},{\"attributes\":{\"coordinates\":null,\"group\":null,\"text_color\":\"black\",\"text_font_size\":\"12pt\"},\"id\":\"5618\",\"type\":\"Title\"},{\"attributes\":{\"angle\":{\"value\":0.0},\"fill_alpha\":{\"value\":1.0},\"fill_color\":{\"value\":\"#8b8b8b\"},\"hatch_alpha\":{\"value\":1.0},\"hatch_color\":{\"value\":\"#8b8b8b\"},\"hatch_scale\":{\"value\":12.0},\"hatch_weight\":{\"value\":1.0},\"line_alpha\":{\"value\":1.0},\"line_cap\":{\"value\":\"butt\"},\"line_color\":{\"value\":\"#8b8b8b\"},\"line_dash\":{\"value\":[]},\"line_dash_offset\":{\"value\":0},\"line_join\":{\"value\":\"bevel\"},\"line_width\":{\"value\":1},\"marker\":{\"value\":\"circle\"},\"size\":{\"value\":5.477225575051661},\"x\":{\"field\":\"Case_Fatality_Rate\"},\"y\":{\"field\":\"Infection_Risk\"}},\"id\":\"5773\",\"type\":\"Scatter\"},{\"attributes\":{\"margin\":[5,5,5,5],\"name\":\"HSpacer11613\",\"sizing_mode\":\"stretch_width\"},\"id\":\"5609\",\"type\":\"Spacer\"},{\"attributes\":{},\"id\":\"5635\",\"type\":\"PanTool\"},{\"attributes\":{},\"id\":\"5631\",\"type\":\"BasicTicker\"},{\"attributes\":{\"children\":[{\"id\":\"5609\"},{\"id\":\"5617\"},{\"id\":\"5936\"}],\"margin\":[0,0,0,0],\"name\":\"Row11609\",\"tags\":[\"embedded\"]},\"id\":\"5608\",\"type\":\"Row\"},{\"attributes\":{\"axis_label\":\"Case_Fatality_Rate\",\"coordinates\":null,\"formatter\":{\"id\":\"5648\"},\"group\":null,\"major_label_policy\":{\"id\":\"5649\"},\"ticker\":{\"id\":\"5627\"}},\"id\":\"5626\",\"type\":\"LinearAxis\"},{\"attributes\":{\"axis\":{\"id\":\"5630\"},\"coordinates\":null,\"dimension\":1,\"grid_line_color\":null,\"group\":null,\"ticker\":null},\"id\":\"5633\",\"type\":\"Grid\"},{\"attributes\":{\"data\":{\"Case_Fatality_Rate\":{\"__ndarray__\":\"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\",\"dtype\":\"float64\",\"order\":\"little\",\"shape\":[340]},\"Infection_Risk\":{\"__ndarray__\":\"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\",\"dtype\":\"float64\",\"order\":\"little\",\"shape\":[340]},\"class\":[0,0,0,0,0,0,0,0,0,0,0,0,0,0,0,0,0,0,0,0,0,0,0,0,0,0,0,0,0,0,0,0,0,0,0,0,0,0,0,0,0,0,0,0,0,0,0,0,0,0,0,0,0,0,0,0,0,0,0,0,0,0,0,0,0,0,0,0,0,0,0,0,0,0,0,0,0,0,0,0,0,0,0,0,0,0,0,0,0,0,0,0,0,0,0,0,0,0,0,0,0,0,0,0,0,0,0,0,0,0,0,0,0,0,0,0,0,0,0,0,0,0,0,0,0,0,0,0,0,0,0,0,0,0,0,0,0,0,0,0,0,0,0,0,0,0,0,0,0,0,0,0,0,0,0,0,0,0,0,0,0,0,0,0,0,0,0,0,0,0,0,0,0,0,0,0,0,0,0,0,0,0,0,0,0,0,0,0,0,0,0,0,0,0,0,0,0,0,0,0,0,0,0,0,0,0,0,0,0,0,0,0,0,0,0,0,0,0,0,0,0,0,0,0,0,0,0,0,0,0,0,0,0,0,0,0,0,0,0,0,0,0,0,0,0,0,0,0,0,0,0,0,0,0,0,0,0,0,0,0,0,0,0,0,0,0,0,0,0,0,0,0,0,0,0,0,0,0,0,0,0,0,0,0,0,0,0,0,0,0,0,0,0,0,0,0,0,0,0,0,0,0,0,0,0,0,0,0,0,0,0,0,0,0,0,0,0,0,0,0,0,0,0,0,0,0,0,0,0,0,0,0,0,0,0,0,0,0,0,0]},\"selected\":{\"id\":\"5654\"},\"selection_policy\":{\"id\":\"5668\"}},\"id\":\"5653\",\"type\":\"ColumnDataSource\"},{\"attributes\":{\"fill_alpha\":{\"value\":0.2},\"fill_color\":{\"value\":\"#fc4f30\"},\"hatch_alpha\":{\"value\":0.2},\"hatch_color\":{\"value\":\"#fc4f30\"},\"line_alpha\":{\"value\":0.2},\"line_color\":{\"value\":\"#fc4f30\"},\"size\":{\"value\":5.477225575051661},\"x\":{\"field\":\"Case_Fatality_Rate\"},\"y\":{\"field\":\"Infection_Risk\"}},\"id\":\"5679\",\"type\":\"Scatter\"},{\"attributes\":{\"coordinates\":null,\"data_source\":{\"id\":\"5653\"},\"glyph\":{\"id\":\"5656\"},\"group\":null,\"hover_glyph\":null,\"muted_glyph\":{\"id\":\"5658\"},\"nonselection_glyph\":{\"id\":\"5657\"},\"selection_glyph\":{\"id\":\"5673\"},\"view\":{\"id\":\"5660\"}},\"id\":\"5659\",\"type\":\"GlyphRenderer\"},{\"attributes\":{},\"id\":\"5624\",\"type\":\"LinearScale\"},{\"attributes\":{},\"id\":\"5634\",\"type\":\"SaveTool\"},{\"attributes\":{\"axis\":{\"id\":\"5626\"},\"coordinates\":null,\"grid_line_color\":null,\"group\":null,\"ticker\":null},\"id\":\"5629\",\"type\":\"Grid\"},{\"attributes\":{\"fill_alpha\":{\"value\":0.1},\"fill_color\":{\"value\":\"#fc4f30\"},\"hatch_alpha\":{\"value\":0.1},\"hatch_color\":{\"value\":\"#fc4f30\"},\"line_alpha\":{\"value\":0.1},\"line_color\":{\"value\":\"#fc4f30\"},\"size\":{\"value\":5.477225575051661},\"x\":{\"field\":\"Case_Fatality_Rate\"},\"y\":{\"field\":\"Infection_Risk\"}},\"id\":\"5678\",\"type\":\"Scatter\"},{\"attributes\":{},\"id\":\"5675\",\"type\":\"Selection\"},{\"attributes\":{},\"id\":\"5636\",\"type\":\"WheelZoomTool\"}],\"root_ids\":[\"5608\"]},\"title\":\"Bokeh Application\",\"version\":\"2.4.2\"}};\n",
       "    var render_items = [{\"docid\":\"5d14c1ae-843b-4bbd-b782-7145a641fab3\",\"root_ids\":[\"5608\"],\"roots\":{\"5608\":\"cc91082f-5abe-47cf-aa5a-4912d8c3a5b8\"}}];\n",
       "    root.Bokeh.embed.embed_items_notebook(docs_json, render_items);\n",
       "  }\n",
       "  if (root.Bokeh !== undefined && root.Bokeh.Panel !== undefined) {\n",
       "    embed_document(root);\n",
       "  } else {\n",
       "    var attempts = 0;\n",
       "    var timer = setInterval(function(root) {\n",
       "      if (root.Bokeh !== undefined && root.Bokeh.Panel !== undefined) {\n",
       "        clearInterval(timer);\n",
       "        embed_document(root);\n",
       "      } else if (document.readyState == \"complete\") {\n",
       "        attempts++;\n",
       "        if (attempts > 200) {\n",
       "          clearInterval(timer);\n",
       "          console.log(\"Bokeh: ERROR: Unable to run BokehJS code because BokehJS library is missing\");\n",
       "        }\n",
       "      }\n",
       "    }, 25, root)\n",
       "  }\n",
       "})(window);</script>"
      ],
      "text/plain": [
       ":NdOverlay   [class]\n",
       "   :Scatter   [Case_Fatality_Rate]   (Infection_Risk)"
      ]
     },
     "execution_count": 113,
     "metadata": {
      "application/vnd.holoviews_exec.v0+json": {
       "id": "5608"
      }
     },
     "output_type": "execute_result"
    }
   ],
   "source": [
    "# Create a scatterplot of covid_data\n",
    "covid_data_df.hvplot.scatter(x=\"Case_Fatality_Rate\", y=\"Infection_Risk\", by=\"class\")"
   ]
  },
  {
   "cell_type": "code",
   "execution_count": 114,
   "metadata": {},
   "outputs": [
    {
     "data": {},
     "metadata": {},
     "output_type": "display_data"
    },
    {
     "data": {
      "application/vnd.holoviews_exec.v0+json": "",
      "text/html": [
       "<div id='6028'>\n",
       "\n",
       "\n",
       "\n",
       "\n",
       "\n",
       "  <div class=\"bk-root\" id=\"dcb9c15b-ef56-4c6c-8fb1-d0e84961aa7f\" data-root-id=\"6028\"></div>\n",
       "</div>\n",
       "<script type=\"application/javascript\">(function(root) {\n",
       "  function embed_document(root) {\n",
       "    var docs_json = {\"26bfa669-4d68-4d53-9fb8-c83ab7201f26\":{\"defs\":[{\"extends\":null,\"module\":null,\"name\":\"ReactiveHTML1\",\"overrides\":[],\"properties\":[]},{\"extends\":null,\"module\":null,\"name\":\"FlexBox1\",\"overrides\":[],\"properties\":[{\"default\":\"flex-start\",\"kind\":null,\"name\":\"align_content\"},{\"default\":\"flex-start\",\"kind\":null,\"name\":\"align_items\"},{\"default\":\"row\",\"kind\":null,\"name\":\"flex_direction\"},{\"default\":\"wrap\",\"kind\":null,\"name\":\"flex_wrap\"},{\"default\":\"flex-start\",\"kind\":null,\"name\":\"justify_content\"}]},{\"extends\":null,\"module\":null,\"name\":\"TemplateActions1\",\"overrides\":[],\"properties\":[{\"default\":0,\"kind\":null,\"name\":\"open_modal\"},{\"default\":0,\"kind\":null,\"name\":\"close_modal\"}]},{\"extends\":null,\"module\":null,\"name\":\"MaterialTemplateActions1\",\"overrides\":[],\"properties\":[{\"default\":0,\"kind\":null,\"name\":\"open_modal\"},{\"default\":0,\"kind\":null,\"name\":\"close_modal\"}]}],\"roots\":{\"references\":[{\"attributes\":{},\"id\":\"6069\",\"type\":\"AllLabels\"},{\"attributes\":{\"angle\":{\"value\":0.0},\"fill_alpha\":{\"value\":1.0},\"fill_color\":{\"value\":\"#e5ae38\"},\"hatch_alpha\":{\"value\":1.0},\"hatch_color\":{\"value\":\"#e5ae38\"},\"hatch_scale\":{\"value\":12.0},\"hatch_weight\":{\"value\":1.0},\"line_alpha\":{\"value\":1.0},\"line_cap\":{\"value\":\"butt\"},\"line_color\":{\"value\":\"#e5ae38\"},\"line_dash\":{\"value\":[]},\"line_dash_offset\":{\"value\":0},\"line_join\":{\"value\":\"bevel\"},\"line_width\":{\"value\":1},\"marker\":{\"value\":\"circle\"},\"size\":{\"value\":5.477225575051661},\"x\":{\"field\":\"NewDeaths\"},\"y\":{\"field\":\"Infection_Risk\"}},\"id\":\"6139\",\"type\":\"Scatter\"},{\"attributes\":{},\"id\":\"6042\",\"type\":\"LinearScale\"},{\"attributes\":{},\"id\":\"6071\",\"type\":\"BasicTickFormatter\"},{\"attributes\":{\"fill_color\":{\"value\":\"#6d904f\"},\"hatch_color\":{\"value\":\"#6d904f\"},\"line_color\":{\"value\":\"#6d904f\"},\"size\":{\"value\":5.477225575051661},\"x\":{\"field\":\"NewDeaths\"},\"y\":{\"field\":\"Infection_Risk\"}},\"id\":\"6143\",\"type\":\"Scatter\"},{\"attributes\":{\"fill_alpha\":{\"value\":0.2},\"fill_color\":{\"value\":\"#8b8b8b\"},\"hatch_alpha\":{\"value\":0.2},\"hatch_color\":{\"value\":\"#8b8b8b\"},\"line_alpha\":{\"value\":0.2},\"line_color\":{\"value\":\"#8b8b8b\"},\"size\":{\"value\":5.477225575051661},\"x\":{\"field\":\"NewDeaths\"},\"y\":{\"field\":\"Infection_Risk\"}},\"id\":\"6171\",\"type\":\"Scatter\"},{\"attributes\":{},\"id\":\"6161\",\"type\":\"UnionRenderers\"},{\"attributes\":{\"label\":{\"value\":\"4\"},\"renderers\":[{\"id\":\"6172\"}]},\"id\":\"6192\",\"type\":\"LegendItem\"},{\"attributes\":{},\"id\":\"6068\",\"type\":\"BasicTickFormatter\"},{\"attributes\":{\"fill_alpha\":{\"value\":0.1},\"fill_color\":{\"value\":\"#8b8b8b\"},\"hatch_alpha\":{\"value\":0.1},\"hatch_color\":{\"value\":\"#8b8b8b\"},\"line_alpha\":{\"value\":0.1},\"line_color\":{\"value\":\"#8b8b8b\"},\"size\":{\"value\":5.477225575051661},\"x\":{\"field\":\"NewDeaths\"},\"y\":{\"field\":\"Infection_Risk\"}},\"id\":\"6170\",\"type\":\"Scatter\"},{\"attributes\":{\"label\":{\"value\":\"3\"},\"renderers\":[{\"id\":\"6146\"}]},\"id\":\"6164\",\"type\":\"LegendItem\"},{\"attributes\":{\"coordinates\":null,\"data_source\":{\"id\":\"6166\"},\"glyph\":{\"id\":\"6169\"},\"group\":null,\"hover_glyph\":null,\"muted_glyph\":{\"id\":\"6171\"},\"nonselection_glyph\":{\"id\":\"6170\"},\"selection_glyph\":{\"id\":\"6193\"},\"view\":{\"id\":\"6173\"}},\"id\":\"6172\",\"type\":\"GlyphRenderer\"},{\"attributes\":{\"source\":{\"id\":\"6166\"}},\"id\":\"6173\",\"type\":\"CDSView\"},{\"attributes\":{\"label\":{\"value\":\"0\"},\"renderers\":[{\"id\":\"6079\"}]},\"id\":\"6092\",\"type\":\"LegendItem\"},{\"attributes\":{},\"id\":\"6141\",\"type\":\"Selection\"},{\"attributes\":{\"angle\":{\"value\":0.0},\"fill_alpha\":{\"value\":1.0},\"fill_color\":{\"value\":\"#fc4f30\"},\"hatch_alpha\":{\"value\":1.0},\"hatch_color\":{\"value\":\"#fc4f30\"},\"hatch_scale\":{\"value\":12.0},\"hatch_weight\":{\"value\":1.0},\"line_alpha\":{\"value\":1.0},\"line_cap\":{\"value\":\"butt\"},\"line_color\":{\"value\":\"#fc4f30\"},\"line_dash\":{\"value\":[]},\"line_dash_offset\":{\"value\":0},\"line_join\":{\"value\":\"bevel\"},\"line_width\":{\"value\":1},\"marker\":{\"value\":\"circle\"},\"size\":{\"value\":5.477225575051661},\"x\":{\"field\":\"NewDeaths\"},\"y\":{\"field\":\"Infection_Risk\"}},\"id\":\"6115\",\"type\":\"Scatter\"},{\"attributes\":{},\"id\":\"6072\",\"type\":\"AllLabels\"},{\"attributes\":{\"source\":{\"id\":\"6116\"}},\"id\":\"6123\",\"type\":\"CDSView\"},{\"attributes\":{\"fill_alpha\":{\"value\":0.2},\"fill_color\":{\"value\":\"#6d904f\"},\"hatch_alpha\":{\"value\":0.2},\"hatch_color\":{\"value\":\"#6d904f\"},\"line_alpha\":{\"value\":0.2},\"line_color\":{\"value\":\"#6d904f\"},\"size\":{\"value\":5.477225575051661},\"x\":{\"field\":\"NewDeaths\"},\"y\":{\"field\":\"Infection_Risk\"}},\"id\":\"6145\",\"type\":\"Scatter\"},{\"attributes\":{},\"id\":\"6189\",\"type\":\"UnionRenderers\"},{\"attributes\":{\"fill_alpha\":{\"value\":0.2},\"fill_color\":{\"value\":\"#e5ae38\"},\"hatch_alpha\":{\"value\":0.2},\"hatch_color\":{\"value\":\"#e5ae38\"},\"line_alpha\":{\"value\":0.2},\"line_color\":{\"value\":\"#e5ae38\"},\"size\":{\"value\":5.477225575051661},\"x\":{\"field\":\"NewDeaths\"},\"y\":{\"field\":\"Infection_Risk\"}},\"id\":\"6121\",\"type\":\"Scatter\"},{\"attributes\":{\"click_policy\":\"mute\",\"coordinates\":null,\"group\":null,\"items\":[{\"id\":\"6092\"},{\"id\":\"6114\"},{\"id\":\"6138\"},{\"id\":\"6164\"},{\"id\":\"6192\"}],\"location\":[0,0],\"title\":\"class\"},\"id\":\"6091\",\"type\":\"Legend\"},{\"attributes\":{\"data\":{\"Infection_Risk\":{\"__ndarray__\":\"4XoUrkfhK0CF61G4HoUoQHE9CtejsDhAUrgehetRFUCamZmZmZkvQEjhehSuRxFA7FG4HoUrMkCPwvUoXG9FQD0K16NwfUBAUrgehetRFUAK16NwPepDQLgehetR+DFASOF6FK7HPUC4HoXrUTgwQD0K16Nw/UFAj8L1KFyPEEDhehSuR+ErQIXrUbgehShAcT0K16OwOEBSuB6F61EVQJqZmZmZmS9ASOF6FK5HEUDsUbgehSsyQI/C9Shcb0VAPQrXo3B9QEBSuB6F61EVQArXo3A96kNAuB6F61H4MUBI4XoUrsc9QLgehetRODBAPQrXo3D9QUCPwvUoXI8QQA==\",\"dtype\":\"float64\",\"order\":\"little\",\"shape\":[32]},\"NewDeaths\":[0,287,0,38,0,11,14,17,0,97,0,0,0,74,0,0,0,287,0,38,0,11,14,17,0,97,0,0,0,74,0,0],\"class\":[4,4,4,4,4,4,4,4,4,4,4,4,4,4,4,4,4,4,4,4,4,4,4,4,4,4,4,4,4,4,4,4]},\"selected\":{\"id\":\"6167\"},\"selection_policy\":{\"id\":\"6189\"}},\"id\":\"6166\",\"type\":\"ColumnDataSource\"},{\"attributes\":{\"fill_alpha\":{\"value\":0.1},\"fill_color\":{\"value\":\"#6d904f\"},\"hatch_alpha\":{\"value\":0.1},\"hatch_color\":{\"value\":\"#6d904f\"},\"line_alpha\":{\"value\":0.1},\"line_color\":{\"value\":\"#6d904f\"},\"size\":{\"value\":5.477225575051661},\"x\":{\"field\":\"NewDeaths\"},\"y\":{\"field\":\"Infection_Risk\"}},\"id\":\"6144\",\"type\":\"Scatter\"},{\"attributes\":{\"end\":57.958999999999996,\"reset_end\":57.958999999999996,\"reset_start\":-5.269,\"start\":-5.269,\"tags\":[[[\"Infection_Risk\",\"Infection_Risk\",null]]]},\"id\":\"6031\",\"type\":\"Range1d\"},{\"attributes\":{\"source\":{\"id\":\"6140\"}},\"id\":\"6147\",\"type\":\"CDSView\"},{\"attributes\":{\"coordinates\":null,\"data_source\":{\"id\":\"6140\"},\"glyph\":{\"id\":\"6143\"},\"group\":null,\"hover_glyph\":null,\"muted_glyph\":{\"id\":\"6145\"},\"nonselection_glyph\":{\"id\":\"6144\"},\"selection_glyph\":{\"id\":\"6165\"},\"view\":{\"id\":\"6147\"}},\"id\":\"6146\",\"type\":\"GlyphRenderer\"},{\"attributes\":{\"source\":{\"id\":\"6073\"}},\"id\":\"6080\",\"type\":\"CDSView\"},{\"attributes\":{\"angle\":{\"value\":0.0},\"fill_alpha\":{\"value\":1.0},\"fill_color\":{\"value\":\"#30a2da\"},\"hatch_alpha\":{\"value\":1.0},\"hatch_color\":{\"value\":\"#30a2da\"},\"hatch_scale\":{\"value\":12.0},\"hatch_weight\":{\"value\":1.0},\"line_alpha\":{\"value\":1.0},\"line_cap\":{\"value\":\"butt\"},\"line_color\":{\"value\":\"#30a2da\"},\"line_dash\":{\"value\":[]},\"line_dash_offset\":{\"value\":0},\"line_join\":{\"value\":\"bevel\"},\"line_width\":{\"value\":1},\"marker\":{\"value\":\"circle\"},\"size\":{\"value\":5.477225575051661},\"x\":{\"field\":\"NewDeaths\"},\"y\":{\"field\":\"Infection_Risk\"}},\"id\":\"6093\",\"type\":\"Scatter\"},{\"attributes\":{\"coordinates\":null,\"data_source\":{\"id\":\"6073\"},\"glyph\":{\"id\":\"6076\"},\"group\":null,\"hover_glyph\":null,\"muted_glyph\":{\"id\":\"6078\"},\"nonselection_glyph\":{\"id\":\"6077\"},\"selection_glyph\":{\"id\":\"6093\"},\"view\":{\"id\":\"6080\"}},\"id\":\"6079\",\"type\":\"GlyphRenderer\"},{\"attributes\":{\"fill_alpha\":{\"value\":0.1},\"fill_color\":{\"value\":\"#e5ae38\"},\"hatch_alpha\":{\"value\":0.1},\"hatch_color\":{\"value\":\"#e5ae38\"},\"line_alpha\":{\"value\":0.1},\"line_color\":{\"value\":\"#e5ae38\"},\"size\":{\"value\":5.477225575051661},\"x\":{\"field\":\"NewDeaths\"},\"y\":{\"field\":\"Infection_Risk\"}},\"id\":\"6120\",\"type\":\"Scatter\"},{\"attributes\":{\"callback\":null,\"renderers\":[{\"id\":\"6079\"},{\"id\":\"6100\"},{\"id\":\"6122\"},{\"id\":\"6146\"},{\"id\":\"6172\"}],\"tags\":[\"hv_created\"],\"tooltips\":[[\"class\",\"@{class}\"],[\"NewDeaths\",\"@{NewDeaths}\"],[\"Infection_Risk\",\"@{Infection_Risk}\"]]},\"id\":\"6032\",\"type\":\"HoverTool\"},{\"attributes\":{\"fill_alpha\":{\"value\":0.2},\"fill_color\":{\"value\":\"#30a2da\"},\"hatch_alpha\":{\"value\":0.2},\"hatch_color\":{\"value\":\"#30a2da\"},\"line_alpha\":{\"value\":0.2},\"line_color\":{\"value\":\"#30a2da\"},\"size\":{\"value\":5.477225575051661},\"x\":{\"field\":\"NewDeaths\"},\"y\":{\"field\":\"Infection_Risk\"}},\"id\":\"6078\",\"type\":\"Scatter\"},{\"attributes\":{},\"id\":\"6047\",\"type\":\"BasicTicker\"},{\"attributes\":{},\"id\":\"6117\",\"type\":\"Selection\"},{\"attributes\":{\"fill_alpha\":{\"value\":0.1},\"fill_color\":{\"value\":\"#30a2da\"},\"hatch_alpha\":{\"value\":0.1},\"hatch_color\":{\"value\":\"#30a2da\"},\"line_alpha\":{\"value\":0.1},\"line_color\":{\"value\":\"#30a2da\"},\"size\":{\"value\":5.477225575051661},\"x\":{\"field\":\"NewDeaths\"},\"y\":{\"field\":\"Infection_Risk\"}},\"id\":\"6077\",\"type\":\"Scatter\"},{\"attributes\":{\"label\":{\"value\":\"2\"},\"renderers\":[{\"id\":\"6122\"}]},\"id\":\"6138\",\"type\":\"LegendItem\"},{\"attributes\":{\"fill_color\":{\"value\":\"#fc4f30\"},\"hatch_color\":{\"value\":\"#fc4f30\"},\"line_color\":{\"value\":\"#fc4f30\"},\"size\":{\"value\":5.477225575051661},\"x\":{\"field\":\"NewDeaths\"},\"y\":{\"field\":\"Infection_Risk\"}},\"id\":\"6097\",\"type\":\"Scatter\"},{\"attributes\":{\"below\":[{\"id\":\"6046\"}],\"center\":[{\"id\":\"6049\"},{\"id\":\"6053\"}],\"height\":300,\"left\":[{\"id\":\"6050\"}],\"margin\":[5,5,5,5],\"min_border_bottom\":10,\"min_border_left\":10,\"min_border_right\":10,\"min_border_top\":10,\"renderers\":[{\"id\":\"6079\"},{\"id\":\"6100\"},{\"id\":\"6122\"},{\"id\":\"6146\"},{\"id\":\"6172\"}],\"right\":[{\"id\":\"6091\"}],\"sizing_mode\":\"fixed\",\"title\":{\"id\":\"6038\"},\"toolbar\":{\"id\":\"6060\"},\"width\":700,\"x_range\":{\"id\":\"6030\"},\"x_scale\":{\"id\":\"6042\"},\"y_range\":{\"id\":\"6031\"},\"y_scale\":{\"id\":\"6044\"}},\"id\":\"6037\",\"subtype\":\"Figure\",\"type\":\"Plot\"},{\"attributes\":{\"coordinates\":null,\"group\":null,\"text_color\":\"black\",\"text_font_size\":\"12pt\"},\"id\":\"6038\",\"type\":\"Title\"},{\"attributes\":{\"fill_color\":{\"value\":\"#e5ae38\"},\"hatch_color\":{\"value\":\"#e5ae38\"},\"line_color\":{\"value\":\"#e5ae38\"},\"size\":{\"value\":5.477225575051661},\"x\":{\"field\":\"NewDeaths\"},\"y\":{\"field\":\"Infection_Risk\"}},\"id\":\"6119\",\"type\":\"Scatter\"},{\"attributes\":{},\"id\":\"6055\",\"type\":\"PanTool\"},{\"attributes\":{},\"id\":\"6135\",\"type\":\"UnionRenderers\"},{\"attributes\":{\"angle\":{\"value\":0.0},\"fill_alpha\":{\"value\":1.0},\"fill_color\":{\"value\":\"#8b8b8b\"},\"hatch_alpha\":{\"value\":1.0},\"hatch_color\":{\"value\":\"#8b8b8b\"},\"hatch_scale\":{\"value\":12.0},\"hatch_weight\":{\"value\":1.0},\"line_alpha\":{\"value\":1.0},\"line_cap\":{\"value\":\"butt\"},\"line_color\":{\"value\":\"#8b8b8b\"},\"line_dash\":{\"value\":[]},\"line_dash_offset\":{\"value\":0},\"line_join\":{\"value\":\"bevel\"},\"line_width\":{\"value\":1},\"marker\":{\"value\":\"circle\"},\"size\":{\"value\":5.477225575051661},\"x\":{\"field\":\"NewDeaths\"},\"y\":{\"field\":\"Infection_Risk\"}},\"id\":\"6193\",\"type\":\"Scatter\"},{\"attributes\":{\"axis_label\":\"NewDeaths\",\"coordinates\":null,\"formatter\":{\"id\":\"6068\"},\"group\":null,\"major_label_policy\":{\"id\":\"6069\"},\"ticker\":{\"id\":\"6047\"}},\"id\":\"6046\",\"type\":\"LinearAxis\"},{\"attributes\":{\"label\":{\"value\":\"1\"},\"renderers\":[{\"id\":\"6100\"}]},\"id\":\"6114\",\"type\":\"LegendItem\"},{\"attributes\":{\"margin\":[5,5,5,5],\"name\":\"HSpacer12531\",\"sizing_mode\":\"stretch_width\"},\"id\":\"6029\",\"type\":\"Spacer\"},{\"attributes\":{\"axis\":{\"id\":\"6050\"},\"coordinates\":null,\"dimension\":1,\"grid_line_color\":null,\"group\":null,\"ticker\":null},\"id\":\"6053\",\"type\":\"Grid\"},{\"attributes\":{\"data\":{\"Infection_Risk\":{\"__ndarray__\":\"16NwPQrXQ0AfhetRuJ44QPYoXI/C9SNAZmZmZmYGR0DXo3A9CtdDQB+F61G4njhA9ihcj8L1I0BmZmZmZgZHQA==\",\"dtype\":\"float64\",\"order\":\"little\",\"shape\":[8]},\"NewDeaths\":[0,0,42,7,0,0,42,7],\"class\":[3,3,3,3,3,3,3,3]},\"selected\":{\"id\":\"6141\"},\"selection_policy\":{\"id\":\"6161\"}},\"id\":\"6140\",\"type\":\"ColumnDataSource\"},{\"attributes\":{\"data\":{\"Infection_Risk\":{\"__ndarray__\":\"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\",\"dtype\":\"float64\",\"order\":\"little\",\"shape\":[340]},\"NewDeaths\":[0,0,0,53,0,61,0,0,0,3,0,22,0,0,0,15,12,0,4,9,1,0,23,0,2,0,0,0,0,0,0,0,18,0,0,0,6,0,4,5,0,0,0,0,0,5,0,0,2,13,0,0,0,0,1,0,0,0,0,0,0,0,0,1,0,0,0,0,0,0,0,0,0,0,0,0,0,0,0,3,0,0,0,0,0,0,0,0,0,0,0,0,0,0,0,0,0,3,0,0,0,0,0,0,0,0,0,0,0,0,0,0,0,0,0,0,0,0,0,0,0,0,0,0,0,0,0,0,0,0,0,0,0,0,0,0,0,0,0,0,0,0,0,0,0,0,0,0,0,0,0,0,0,0,0,0,0,0,0,0,0,0,0,1,0,0,0,0,0,0,0,0,0,53,0,61,0,0,0,3,0,22,0,0,0,15,12,0,4,9,1,0,23,0,2,0,0,0,0,0,0,0,18,0,0,0,6,0,4,5,0,0,0,0,0,5,0,0,2,13,0,0,0,0,1,0,0,0,0,0,0,0,0,1,0,0,0,0,0,0,0,0,0,0,0,0,0,0,0,3,0,0,0,0,0,0,0,0,0,0,0,0,0,0,0,0,0,3,0,0,0,0,0,0,0,0,0,0,0,0,0,0,0,0,0,0,0,0,0,0,0,0,0,0,0,0,0,0,0,0,0,0,0,0,0,0,0,0,0,0,0,0,0,0,0,0,0,0,0,0,0,0,0,0,0,0,0,0,0,0,0,0,0,1,0,0,0,0,0,0],\"class\":[0,0,0,0,0,0,0,0,0,0,0,0,0,0,0,0,0,0,0,0,0,0,0,0,0,0,0,0,0,0,0,0,0,0,0,0,0,0,0,0,0,0,0,0,0,0,0,0,0,0,0,0,0,0,0,0,0,0,0,0,0,0,0,0,0,0,0,0,0,0,0,0,0,0,0,0,0,0,0,0,0,0,0,0,0,0,0,0,0,0,0,0,0,0,0,0,0,0,0,0,0,0,0,0,0,0,0,0,0,0,0,0,0,0,0,0,0,0,0,0,0,0,0,0,0,0,0,0,0,0,0,0,0,0,0,0,0,0,0,0,0,0,0,0,0,0,0,0,0,0,0,0,0,0,0,0,0,0,0,0,0,0,0,0,0,0,0,0,0,0,0,0,0,0,0,0,0,0,0,0,0,0,0,0,0,0,0,0,0,0,0,0,0,0,0,0,0,0,0,0,0,0,0,0,0,0,0,0,0,0,0,0,0,0,0,0,0,0,0,0,0,0,0,0,0,0,0,0,0,0,0,0,0,0,0,0,0,0,0,0,0,0,0,0,0,0,0,0,0,0,0,0,0,0,0,0,0,0,0,0,0,0,0,0,0,0,0,0,0,0,0,0,0,0,0,0,0,0,0,0,0,0,0,0,0,0,0,0,0,0,0,0,0,0,0,0,0,0,0,0,0,0,0,0,0,0,0,0,0,0,0,0,0,0,0,0,0,0,0,0,0,0,0,0,0,0,0,0,0,0,0,0,0,0,0,0,0,0,0,0]},\"selected\":{\"id\":\"6074\"},\"selection_policy\":{\"id\":\"6088\"}},\"id\":\"6073\",\"type\":\"ColumnDataSource\"},{\"attributes\":{\"children\":[{\"id\":\"6029\"},{\"id\":\"6037\"},{\"id\":\"6356\"}],\"margin\":[0,0,0,0],\"name\":\"Row12527\",\"tags\":[\"embedded\"]},\"id\":\"6028\",\"type\":\"Row\"},{\"attributes\":{\"coordinates\":null,\"data_source\":{\"id\":\"6116\"},\"glyph\":{\"id\":\"6119\"},\"group\":null,\"hover_glyph\":null,\"muted_glyph\":{\"id\":\"6121\"},\"nonselection_glyph\":{\"id\":\"6120\"},\"selection_glyph\":{\"id\":\"6139\"},\"view\":{\"id\":\"6123\"}},\"id\":\"6122\",\"type\":\"GlyphRenderer\"},{\"attributes\":{},\"id\":\"6044\",\"type\":\"LinearScale\"},{\"attributes\":{},\"id\":\"6054\",\"type\":\"SaveTool\"},{\"attributes\":{},\"id\":\"6051\",\"type\":\"BasicTicker\"},{\"attributes\":{\"source\":{\"id\":\"6094\"}},\"id\":\"6101\",\"type\":\"CDSView\"},{\"attributes\":{\"axis\":{\"id\":\"6046\"},\"coordinates\":null,\"grid_line_color\":null,\"group\":null,\"ticker\":null},\"id\":\"6049\",\"type\":\"Grid\"},{\"attributes\":{},\"id\":\"6056\",\"type\":\"WheelZoomTool\"},{\"attributes\":{\"axis_label\":\"Infection_Risk\",\"coordinates\":null,\"formatter\":{\"id\":\"6071\"},\"group\":null,\"major_label_policy\":{\"id\":\"6072\"},\"ticker\":{\"id\":\"6051\"}},\"id\":\"6050\",\"type\":\"LinearAxis\"},{\"attributes\":{\"fill_alpha\":{\"value\":0.2},\"fill_color\":{\"value\":\"#fc4f30\"},\"hatch_alpha\":{\"value\":0.2},\"hatch_color\":{\"value\":\"#fc4f30\"},\"line_alpha\":{\"value\":0.2},\"line_color\":{\"value\":\"#fc4f30\"},\"size\":{\"value\":5.477225575051661},\"x\":{\"field\":\"NewDeaths\"},\"y\":{\"field\":\"Infection_Risk\"}},\"id\":\"6099\",\"type\":\"Scatter\"},{\"attributes\":{\"overlay\":{\"id\":\"6059\"}},\"id\":\"6057\",\"type\":\"BoxZoomTool\"},{\"attributes\":{},\"id\":\"6058\",\"type\":\"ResetTool\"},{\"attributes\":{},\"id\":\"6095\",\"type\":\"Selection\"},{\"attributes\":{\"bottom_units\":\"screen\",\"coordinates\":null,\"fill_alpha\":0.5,\"fill_color\":\"lightgrey\",\"group\":null,\"left_units\":\"screen\",\"level\":\"overlay\",\"line_alpha\":1.0,\"line_color\":\"black\",\"line_dash\":[4,4],\"line_width\":2,\"right_units\":\"screen\",\"syncable\":false,\"top_units\":\"screen\"},\"id\":\"6059\",\"type\":\"BoxAnnotation\"},{\"attributes\":{\"fill_alpha\":{\"value\":0.1},\"fill_color\":{\"value\":\"#fc4f30\"},\"hatch_alpha\":{\"value\":0.1},\"hatch_color\":{\"value\":\"#fc4f30\"},\"line_alpha\":{\"value\":0.1},\"line_color\":{\"value\":\"#fc4f30\"},\"size\":{\"value\":5.477225575051661},\"x\":{\"field\":\"NewDeaths\"},\"y\":{\"field\":\"Infection_Risk\"}},\"id\":\"6098\",\"type\":\"Scatter\"},{\"attributes\":{\"tools\":[{\"id\":\"6032\"},{\"id\":\"6054\"},{\"id\":\"6055\"},{\"id\":\"6056\"},{\"id\":\"6057\"},{\"id\":\"6058\"}]},\"id\":\"6060\",\"type\":\"Toolbar\"},{\"attributes\":{},\"id\":\"6088\",\"type\":\"UnionRenderers\"},{\"attributes\":{\"coordinates\":null,\"data_source\":{\"id\":\"6094\"},\"glyph\":{\"id\":\"6097\"},\"group\":null,\"hover_glyph\":null,\"muted_glyph\":{\"id\":\"6099\"},\"nonselection_glyph\":{\"id\":\"6098\"},\"selection_glyph\":{\"id\":\"6115\"},\"view\":{\"id\":\"6101\"}},\"id\":\"6100\",\"type\":\"GlyphRenderer\"},{\"attributes\":{\"angle\":{\"value\":0.0},\"fill_alpha\":{\"value\":1.0},\"fill_color\":{\"value\":\"#6d904f\"},\"hatch_alpha\":{\"value\":1.0},\"hatch_color\":{\"value\":\"#6d904f\"},\"hatch_scale\":{\"value\":12.0},\"hatch_weight\":{\"value\":1.0},\"line_alpha\":{\"value\":1.0},\"line_cap\":{\"value\":\"butt\"},\"line_color\":{\"value\":\"#6d904f\"},\"line_dash\":{\"value\":[]},\"line_dash_offset\":{\"value\":0},\"line_join\":{\"value\":\"bevel\"},\"line_width\":{\"value\":1},\"marker\":{\"value\":\"circle\"},\"size\":{\"value\":5.477225575051661},\"x\":{\"field\":\"NewDeaths\"},\"y\":{\"field\":\"Infection_Risk\"}},\"id\":\"6165\",\"type\":\"Scatter\"},{\"attributes\":{\"data\":{\"Infection_Risk\":{\"__ndarray__\":\"uB6F61F4OEC4HoXrUXg4QA==\",\"dtype\":\"float64\",\"order\":\"little\",\"shape\":[2]},\"NewDeaths\":[0,0],\"class\":[1,1]},\"selected\":{\"id\":\"6095\"},\"selection_policy\":{\"id\":\"6111\"}},\"id\":\"6094\",\"type\":\"ColumnDataSource\"},{\"attributes\":{},\"id\":\"6111\",\"type\":\"UnionRenderers\"},{\"attributes\":{\"fill_color\":{\"value\":\"#30a2da\"},\"hatch_color\":{\"value\":\"#30a2da\"},\"line_color\":{\"value\":\"#30a2da\"},\"size\":{\"value\":5.477225575051661},\"x\":{\"field\":\"NewDeaths\"},\"y\":{\"field\":\"Infection_Risk\"}},\"id\":\"6076\",\"type\":\"Scatter\"},{\"attributes\":{\"data\":{\"Infection_Risk\":{\"__ndarray__\":\"cT0K16OwOUBI4XoUrsc5QA==\",\"dtype\":\"float64\",\"order\":\"little\",\"shape\":[2]},\"NewDeaths\":[0,88],\"class\":[2,2]},\"selected\":{\"id\":\"6117\"},\"selection_policy\":{\"id\":\"6135\"}},\"id\":\"6116\",\"type\":\"ColumnDataSource\"},{\"attributes\":{},\"id\":\"6167\",\"type\":\"Selection\"},{\"attributes\":{\"end\":299.3,\"reset_end\":299.3,\"reset_start\":-12.3,\"start\":-12.3,\"tags\":[[[\"NewDeaths\",\"NewDeaths\",null]]]},\"id\":\"6030\",\"type\":\"Range1d\"},{\"attributes\":{\"fill_color\":{\"value\":\"#8b8b8b\"},\"hatch_color\":{\"value\":\"#8b8b8b\"},\"line_color\":{\"value\":\"#8b8b8b\"},\"size\":{\"value\":5.477225575051661},\"x\":{\"field\":\"NewDeaths\"},\"y\":{\"field\":\"Infection_Risk\"}},\"id\":\"6169\",\"type\":\"Scatter\"},{\"attributes\":{},\"id\":\"6074\",\"type\":\"Selection\"},{\"attributes\":{\"margin\":[5,5,5,5],\"name\":\"HSpacer12532\",\"sizing_mode\":\"stretch_width\"},\"id\":\"6356\",\"type\":\"Spacer\"}],\"root_ids\":[\"6028\"]},\"title\":\"Bokeh Application\",\"version\":\"2.4.2\"}};\n",
       "    var render_items = [{\"docid\":\"26bfa669-4d68-4d53-9fb8-c83ab7201f26\",\"root_ids\":[\"6028\"],\"roots\":{\"6028\":\"dcb9c15b-ef56-4c6c-8fb1-d0e84961aa7f\"}}];\n",
       "    root.Bokeh.embed.embed_items_notebook(docs_json, render_items);\n",
       "  }\n",
       "  if (root.Bokeh !== undefined && root.Bokeh.Panel !== undefined) {\n",
       "    embed_document(root);\n",
       "  } else {\n",
       "    var attempts = 0;\n",
       "    var timer = setInterval(function(root) {\n",
       "      if (root.Bokeh !== undefined && root.Bokeh.Panel !== undefined) {\n",
       "        clearInterval(timer);\n",
       "        embed_document(root);\n",
       "      } else if (document.readyState == \"complete\") {\n",
       "        attempts++;\n",
       "        if (attempts > 200) {\n",
       "          clearInterval(timer);\n",
       "          console.log(\"Bokeh: ERROR: Unable to run BokehJS code because BokehJS library is missing\");\n",
       "        }\n",
       "      }\n",
       "    }, 25, root)\n",
       "  }\n",
       "})(window);</script>"
      ],
      "text/plain": [
       ":NdOverlay   [class]\n",
       "   :Scatter   [NewDeaths]   (Infection_Risk)"
      ]
     },
     "execution_count": 114,
     "metadata": {
      "application/vnd.holoviews_exec.v0+json": {
       "id": "6028"
      }
     },
     "output_type": "execute_result"
    }
   ],
   "source": [
    "# Create a scatterplot of covid_data\n",
    "covid_data_df.hvplot.scatter(x=\"NewDeaths\", y=\"Infection_Risk\", by=\"class\")"
   ]
  },
  {
   "cell_type": "code",
   "execution_count": 115,
   "metadata": {},
   "outputs": [
    {
     "data": {},
     "metadata": {},
     "output_type": "display_data"
    },
    {
     "data": {
      "application/vnd.holoviews_exec.v0+json": "",
      "text/html": [
       "<div id='6448'>\n",
       "\n",
       "\n",
       "\n",
       "\n",
       "\n",
       "  <div class=\"bk-root\" id=\"d319a32d-b339-4de4-9756-cb192c214dbb\" data-root-id=\"6448\"></div>\n",
       "</div>\n",
       "<script type=\"application/javascript\">(function(root) {\n",
       "  function embed_document(root) {\n",
       "    var docs_json = {\"339b649e-a854-4410-bc7f-0c44c8b730f7\":{\"defs\":[{\"extends\":null,\"module\":null,\"name\":\"ReactiveHTML1\",\"overrides\":[],\"properties\":[]},{\"extends\":null,\"module\":null,\"name\":\"FlexBox1\",\"overrides\":[],\"properties\":[{\"default\":\"flex-start\",\"kind\":null,\"name\":\"align_content\"},{\"default\":\"flex-start\",\"kind\":null,\"name\":\"align_items\"},{\"default\":\"row\",\"kind\":null,\"name\":\"flex_direction\"},{\"default\":\"wrap\",\"kind\":null,\"name\":\"flex_wrap\"},{\"default\":\"flex-start\",\"kind\":null,\"name\":\"justify_content\"}]},{\"extends\":null,\"module\":null,\"name\":\"TemplateActions1\",\"overrides\":[],\"properties\":[{\"default\":0,\"kind\":null,\"name\":\"open_modal\"},{\"default\":0,\"kind\":null,\"name\":\"close_modal\"}]},{\"extends\":null,\"module\":null,\"name\":\"MaterialTemplateActions1\",\"overrides\":[],\"properties\":[{\"default\":0,\"kind\":null,\"name\":\"open_modal\"},{\"default\":0,\"kind\":null,\"name\":\"close_modal\"}]}],\"roots\":{\"references\":[{\"attributes\":{\"fill_alpha\":{\"value\":0.1},\"fill_color\":{\"value\":\"#8b8b8b\"},\"hatch_alpha\":{\"value\":0.1},\"hatch_color\":{\"value\":\"#8b8b8b\"},\"line_alpha\":{\"value\":0.1},\"line_color\":{\"value\":\"#8b8b8b\"},\"size\":{\"value\":5.477225575051661},\"x\":{\"field\":\"NewCases\"},\"y\":{\"field\":\"Infection_Risk\"}},\"id\":\"6590\",\"type\":\"Scatter\"},{\"attributes\":{\"fill_color\":{\"value\":\"#6d904f\"},\"hatch_color\":{\"value\":\"#6d904f\"},\"line_color\":{\"value\":\"#6d904f\"},\"size\":{\"value\":5.477225575051661},\"x\":{\"field\":\"NewCases\"},\"y\":{\"field\":\"Infection_Risk\"}},\"id\":\"6563\",\"type\":\"Scatter\"},{\"attributes\":{},\"id\":\"6491\",\"type\":\"BasicTickFormatter\"},{\"attributes\":{},\"id\":\"6581\",\"type\":\"UnionRenderers\"},{\"attributes\":{\"source\":{\"id\":\"6586\"}},\"id\":\"6593\",\"type\":\"CDSView\"},{\"attributes\":{},\"id\":\"6489\",\"type\":\"AllLabels\"},{\"attributes\":{\"fill_alpha\":{\"value\":0.2},\"fill_color\":{\"value\":\"#8b8b8b\"},\"hatch_alpha\":{\"value\":0.2},\"hatch_color\":{\"value\":\"#8b8b8b\"},\"line_alpha\":{\"value\":0.2},\"line_color\":{\"value\":\"#8b8b8b\"},\"size\":{\"value\":5.477225575051661},\"x\":{\"field\":\"NewCases\"},\"y\":{\"field\":\"Infection_Risk\"}},\"id\":\"6591\",\"type\":\"Scatter\"},{\"attributes\":{\"label\":{\"value\":\"4\"},\"renderers\":[{\"id\":\"6592\"}]},\"id\":\"6612\",\"type\":\"LegendItem\"},{\"attributes\":{},\"id\":\"6488\",\"type\":\"BasicTickFormatter\"},{\"attributes\":{\"coordinates\":null,\"data_source\":{\"id\":\"6586\"},\"glyph\":{\"id\":\"6589\"},\"group\":null,\"hover_glyph\":null,\"muted_glyph\":{\"id\":\"6591\"},\"nonselection_glyph\":{\"id\":\"6590\"},\"selection_glyph\":{\"id\":\"6613\"},\"view\":{\"id\":\"6593\"}},\"id\":\"6592\",\"type\":\"GlyphRenderer\"},{\"attributes\":{\"coordinates\":null,\"data_source\":{\"id\":\"6493\"},\"glyph\":{\"id\":\"6496\"},\"group\":null,\"hover_glyph\":null,\"muted_glyph\":{\"id\":\"6498\"},\"nonselection_glyph\":{\"id\":\"6497\"},\"selection_glyph\":{\"id\":\"6513\"},\"view\":{\"id\":\"6500\"}},\"id\":\"6499\",\"type\":\"GlyphRenderer\"},{\"attributes\":{\"source\":{\"id\":\"6560\"}},\"id\":\"6567\",\"type\":\"CDSView\"},{\"attributes\":{\"source\":{\"id\":\"6493\"}},\"id\":\"6500\",\"type\":\"CDSView\"},{\"attributes\":{\"angle\":{\"value\":0.0},\"fill_alpha\":{\"value\":1.0},\"fill_color\":{\"value\":\"#fc4f30\"},\"hatch_alpha\":{\"value\":1.0},\"hatch_color\":{\"value\":\"#fc4f30\"},\"hatch_scale\":{\"value\":12.0},\"hatch_weight\":{\"value\":1.0},\"line_alpha\":{\"value\":1.0},\"line_cap\":{\"value\":\"butt\"},\"line_color\":{\"value\":\"#fc4f30\"},\"line_dash\":{\"value\":[]},\"line_dash_offset\":{\"value\":0},\"line_join\":{\"value\":\"bevel\"},\"line_width\":{\"value\":1},\"marker\":{\"value\":\"circle\"},\"size\":{\"value\":5.477225575051661},\"x\":{\"field\":\"NewCases\"},\"y\":{\"field\":\"Infection_Risk\"}},\"id\":\"6535\",\"type\":\"Scatter\"},{\"attributes\":{},\"id\":\"6462\",\"type\":\"LinearScale\"},{\"attributes\":{\"source\":{\"id\":\"6536\"}},\"id\":\"6543\",\"type\":\"CDSView\"},{\"attributes\":{\"fill_alpha\":{\"value\":0.2},\"fill_color\":{\"value\":\"#6d904f\"},\"hatch_alpha\":{\"value\":0.2},\"hatch_color\":{\"value\":\"#6d904f\"},\"line_alpha\":{\"value\":0.2},\"line_color\":{\"value\":\"#6d904f\"},\"size\":{\"value\":5.477225575051661},\"x\":{\"field\":\"NewCases\"},\"y\":{\"field\":\"Infection_Risk\"}},\"id\":\"6565\",\"type\":\"Scatter\"},{\"attributes\":{},\"id\":\"6492\",\"type\":\"AllLabels\"},{\"attributes\":{\"fill_alpha\":{\"value\":0.2},\"fill_color\":{\"value\":\"#e5ae38\"},\"hatch_alpha\":{\"value\":0.2},\"hatch_color\":{\"value\":\"#e5ae38\"},\"line_alpha\":{\"value\":0.2},\"line_color\":{\"value\":\"#e5ae38\"},\"size\":{\"value\":5.477225575051661},\"x\":{\"field\":\"NewCases\"},\"y\":{\"field\":\"Infection_Risk\"}},\"id\":\"6541\",\"type\":\"Scatter\"},{\"attributes\":{\"end\":57.958999999999996,\"reset_end\":57.958999999999996,\"reset_start\":-5.269,\"start\":-5.269,\"tags\":[[[\"Infection_Risk\",\"Infection_Risk\",null]]]},\"id\":\"6451\",\"type\":\"Range1d\"},{\"attributes\":{\"label\":{\"value\":\"0\"},\"renderers\":[{\"id\":\"6499\"}]},\"id\":\"6512\",\"type\":\"LegendItem\"},{\"attributes\":{},\"id\":\"6561\",\"type\":\"Selection\"},{\"attributes\":{\"end\":76219.3,\"reset_end\":76219.3,\"reset_start\":-3132.3,\"start\":-3132.3,\"tags\":[[[\"NewCases\",\"NewCases\",null]]]},\"id\":\"6450\",\"type\":\"Range1d\"},{\"attributes\":{\"label\":{\"value\":\"3\"},\"renderers\":[{\"id\":\"6566\"}]},\"id\":\"6584\",\"type\":\"LegendItem\"},{\"attributes\":{\"coordinates\":null,\"data_source\":{\"id\":\"6560\"},\"glyph\":{\"id\":\"6563\"},\"group\":null,\"hover_glyph\":null,\"muted_glyph\":{\"id\":\"6565\"},\"nonselection_glyph\":{\"id\":\"6564\"},\"selection_glyph\":{\"id\":\"6585\"},\"view\":{\"id\":\"6567\"}},\"id\":\"6566\",\"type\":\"GlyphRenderer\"},{\"attributes\":{\"click_policy\":\"mute\",\"coordinates\":null,\"group\":null,\"items\":[{\"id\":\"6512\"},{\"id\":\"6534\"},{\"id\":\"6558\"},{\"id\":\"6584\"},{\"id\":\"6612\"}],\"location\":[0,0],\"title\":\"class\"},\"id\":\"6511\",\"type\":\"Legend\"},{\"attributes\":{\"angle\":{\"value\":0.0},\"fill_alpha\":{\"value\":1.0},\"fill_color\":{\"value\":\"#30a2da\"},\"hatch_alpha\":{\"value\":1.0},\"hatch_color\":{\"value\":\"#30a2da\"},\"hatch_scale\":{\"value\":12.0},\"hatch_weight\":{\"value\":1.0},\"line_alpha\":{\"value\":1.0},\"line_cap\":{\"value\":\"butt\"},\"line_color\":{\"value\":\"#30a2da\"},\"line_dash\":{\"value\":[]},\"line_dash_offset\":{\"value\":0},\"line_join\":{\"value\":\"bevel\"},\"line_width\":{\"value\":1},\"marker\":{\"value\":\"circle\"},\"size\":{\"value\":5.477225575051661},\"x\":{\"field\":\"NewCases\"},\"y\":{\"field\":\"Infection_Risk\"}},\"id\":\"6513\",\"type\":\"Scatter\"},{\"attributes\":{\"fill_alpha\":{\"value\":0.1},\"fill_color\":{\"value\":\"#6d904f\"},\"hatch_alpha\":{\"value\":0.1},\"hatch_color\":{\"value\":\"#6d904f\"},\"line_alpha\":{\"value\":0.1},\"line_color\":{\"value\":\"#6d904f\"},\"size\":{\"value\":5.477225575051661},\"x\":{\"field\":\"NewCases\"},\"y\":{\"field\":\"Infection_Risk\"}},\"id\":\"6564\",\"type\":\"Scatter\"},{\"attributes\":{\"fill_alpha\":{\"value\":0.2},\"fill_color\":{\"value\":\"#30a2da\"},\"hatch_alpha\":{\"value\":0.2},\"hatch_color\":{\"value\":\"#30a2da\"},\"line_alpha\":{\"value\":0.2},\"line_color\":{\"value\":\"#30a2da\"},\"size\":{\"value\":5.477225575051661},\"x\":{\"field\":\"NewCases\"},\"y\":{\"field\":\"Infection_Risk\"}},\"id\":\"6498\",\"type\":\"Scatter\"},{\"attributes\":{\"fill_alpha\":{\"value\":0.1},\"fill_color\":{\"value\":\"#e5ae38\"},\"hatch_alpha\":{\"value\":0.1},\"hatch_color\":{\"value\":\"#e5ae38\"},\"line_alpha\":{\"value\":0.1},\"line_color\":{\"value\":\"#e5ae38\"},\"size\":{\"value\":5.477225575051661},\"x\":{\"field\":\"NewCases\"},\"y\":{\"field\":\"Infection_Risk\"}},\"id\":\"6540\",\"type\":\"Scatter\"},{\"attributes\":{\"fill_color\":{\"value\":\"#8b8b8b\"},\"hatch_color\":{\"value\":\"#8b8b8b\"},\"line_color\":{\"value\":\"#8b8b8b\"},\"size\":{\"value\":5.477225575051661},\"x\":{\"field\":\"NewCases\"},\"y\":{\"field\":\"Infection_Risk\"}},\"id\":\"6589\",\"type\":\"Scatter\"},{\"attributes\":{\"callback\":null,\"renderers\":[{\"id\":\"6499\"},{\"id\":\"6520\"},{\"id\":\"6542\"},{\"id\":\"6566\"},{\"id\":\"6592\"}],\"tags\":[\"hv_created\"],\"tooltips\":[[\"class\",\"@{class}\"],[\"NewCases\",\"@{NewCases}\"],[\"Infection_Risk\",\"@{Infection_Risk}\"]]},\"id\":\"6452\",\"type\":\"HoverTool\"},{\"attributes\":{},\"id\":\"6537\",\"type\":\"Selection\"},{\"attributes\":{},\"id\":\"6467\",\"type\":\"BasicTicker\"},{\"attributes\":{\"fill_alpha\":{\"value\":0.1},\"fill_color\":{\"value\":\"#30a2da\"},\"hatch_alpha\":{\"value\":0.1},\"hatch_color\":{\"value\":\"#30a2da\"},\"line_alpha\":{\"value\":0.1},\"line_color\":{\"value\":\"#30a2da\"},\"size\":{\"value\":5.477225575051661},\"x\":{\"field\":\"NewCases\"},\"y\":{\"field\":\"Infection_Risk\"}},\"id\":\"6497\",\"type\":\"Scatter\"},{\"attributes\":{\"fill_color\":{\"value\":\"#fc4f30\"},\"hatch_color\":{\"value\":\"#fc4f30\"},\"line_color\":{\"value\":\"#fc4f30\"},\"size\":{\"value\":5.477225575051661},\"x\":{\"field\":\"NewCases\"},\"y\":{\"field\":\"Infection_Risk\"}},\"id\":\"6517\",\"type\":\"Scatter\"},{\"attributes\":{\"label\":{\"value\":\"2\"},\"renderers\":[{\"id\":\"6542\"}]},\"id\":\"6558\",\"type\":\"LegendItem\"},{\"attributes\":{\"below\":[{\"id\":\"6466\"}],\"center\":[{\"id\":\"6469\"},{\"id\":\"6473\"}],\"height\":300,\"left\":[{\"id\":\"6470\"}],\"margin\":[5,5,5,5],\"min_border_bottom\":10,\"min_border_left\":10,\"min_border_right\":10,\"min_border_top\":10,\"renderers\":[{\"id\":\"6499\"},{\"id\":\"6520\"},{\"id\":\"6542\"},{\"id\":\"6566\"},{\"id\":\"6592\"}],\"right\":[{\"id\":\"6511\"}],\"sizing_mode\":\"fixed\",\"title\":{\"id\":\"6458\"},\"toolbar\":{\"id\":\"6480\"},\"width\":700,\"x_range\":{\"id\":\"6450\"},\"x_scale\":{\"id\":\"6462\"},\"y_range\":{\"id\":\"6451\"},\"y_scale\":{\"id\":\"6464\"}},\"id\":\"6457\",\"subtype\":\"Figure\",\"type\":\"Plot\"},{\"attributes\":{\"fill_color\":{\"value\":\"#e5ae38\"},\"hatch_color\":{\"value\":\"#e5ae38\"},\"line_color\":{\"value\":\"#e5ae38\"},\"size\":{\"value\":5.477225575051661},\"x\":{\"field\":\"NewCases\"},\"y\":{\"field\":\"Infection_Risk\"}},\"id\":\"6539\",\"type\":\"Scatter\"},{\"attributes\":{\"margin\":[5,5,5,5],\"name\":\"HSpacer13449\",\"sizing_mode\":\"stretch_width\"},\"id\":\"6449\",\"type\":\"Spacer\"},{\"attributes\":{\"coordinates\":null,\"group\":null,\"text_color\":\"black\",\"text_font_size\":\"12pt\"},\"id\":\"6458\",\"type\":\"Title\"},{\"attributes\":{\"data\":{\"Infection_Risk\":{\"__ndarray__\":\"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\",\"dtype\":\"float64\",\"order\":\"little\",\"shape\":[340]},\"NewCases\":[0,0,0,3519,0,1661,0,0,0,1658,0,276,0,0,0,2148,1332,0,266,1471,61,0,1465,0,208,154,0,0,11,0,0,0,97,0,0,0,773,32,802,332,49,0,0,0,0,353,6,0,104,10248,0,0,0,0,427,0,0,0,0,0,0,81,7,32,188,0,0,34,0,0,0,0,0,0,35,0,0,0,0,1038,0,70,0,0,0,0,0,0,400,35,0,0,0,0,0,1,0,530,0,0,0,0,3,0,0,0,33,0,0,0,0,0,0,0,0,0,0,0,0,53,0,0,0,0,0,490,0,0,0,0,0,275,0,0,0,0,0,0,0,0,0,0,0,0,0,0,0,0,0,0,0,0,0,0,0,0,0,0,0,0,0,324,0,164,0,0,0,0,0,1405,0,0,0,3519,0,1661,0,0,0,1658,0,276,0,0,0,2148,1332,0,266,1471,61,0,1465,0,208,154,0,0,11,0,0,0,97,0,0,0,773,32,802,332,49,0,0,0,0,353,6,0,104,10248,0,0,0,0,427,0,0,0,0,0,0,81,7,32,188,0,0,34,0,0,0,0,0,0,35,0,0,0,0,1038,0,70,0,0,0,0,0,0,400,35,0,0,0,0,0,1,0,530,0,0,0,0,3,0,0,0,33,0,0,0,0,0,0,0,0,0,0,0,0,53,0,0,0,0,0,490,0,0,0,0,0,275,0,0,0,0,0,0,0,0,0,0,0,0,0,0,0,0,0,0,0,0,0,0,0,0,0,0,0,0,0,324,0,164,0,0,0,0,0,1405],\"class\":[0,0,0,0,0,0,0,0,0,0,0,0,0,0,0,0,0,0,0,0,0,0,0,0,0,0,0,0,0,0,0,0,0,0,0,0,0,0,0,0,0,0,0,0,0,0,0,0,0,0,0,0,0,0,0,0,0,0,0,0,0,0,0,0,0,0,0,0,0,0,0,0,0,0,0,0,0,0,0,0,0,0,0,0,0,0,0,0,0,0,0,0,0,0,0,0,0,0,0,0,0,0,0,0,0,0,0,0,0,0,0,0,0,0,0,0,0,0,0,0,0,0,0,0,0,0,0,0,0,0,0,0,0,0,0,0,0,0,0,0,0,0,0,0,0,0,0,0,0,0,0,0,0,0,0,0,0,0,0,0,0,0,0,0,0,0,0,0,0,0,0,0,0,0,0,0,0,0,0,0,0,0,0,0,0,0,0,0,0,0,0,0,0,0,0,0,0,0,0,0,0,0,0,0,0,0,0,0,0,0,0,0,0,0,0,0,0,0,0,0,0,0,0,0,0,0,0,0,0,0,0,0,0,0,0,0,0,0,0,0,0,0,0,0,0,0,0,0,0,0,0,0,0,0,0,0,0,0,0,0,0,0,0,0,0,0,0,0,0,0,0,0,0,0,0,0,0,0,0,0,0,0,0,0,0,0,0,0,0,0,0,0,0,0,0,0,0,0,0,0,0,0,0,0,0,0,0,0,0,0,0,0,0,0,0,0,0,0,0,0,0,0,0,0,0,0,0,0,0,0,0,0,0,0,0,0,0,0,0,0]},\"selected\":{\"id\":\"6494\"},\"selection_policy\":{\"id\":\"6508\"}},\"id\":\"6493\",\"type\":\"ColumnDataSource\"},{\"attributes\":{},\"id\":\"6555\",\"type\":\"UnionRenderers\"},{\"attributes\":{},\"id\":\"6475\",\"type\":\"PanTool\"},{\"attributes\":{\"angle\":{\"value\":0.0},\"fill_alpha\":{\"value\":1.0},\"fill_color\":{\"value\":\"#8b8b8b\"},\"hatch_alpha\":{\"value\":1.0},\"hatch_color\":{\"value\":\"#8b8b8b\"},\"hatch_scale\":{\"value\":12.0},\"hatch_weight\":{\"value\":1.0},\"line_alpha\":{\"value\":1.0},\"line_cap\":{\"value\":\"butt\"},\"line_color\":{\"value\":\"#8b8b8b\"},\"line_dash\":{\"value\":[]},\"line_dash_offset\":{\"value\":0},\"line_join\":{\"value\":\"bevel\"},\"line_width\":{\"value\":1},\"marker\":{\"value\":\"circle\"},\"size\":{\"value\":5.477225575051661},\"x\":{\"field\":\"NewCases\"},\"y\":{\"field\":\"Infection_Risk\"}},\"id\":\"6613\",\"type\":\"Scatter\"},{\"attributes\":{\"children\":[{\"id\":\"6449\"},{\"id\":\"6457\"},{\"id\":\"6776\"}],\"margin\":[0,0,0,0],\"name\":\"Row13445\",\"tags\":[\"embedded\"]},\"id\":\"6448\",\"type\":\"Row\"},{\"attributes\":{\"label\":{\"value\":\"1\"},\"renderers\":[{\"id\":\"6520\"}]},\"id\":\"6534\",\"type\":\"LegendItem\"},{\"attributes\":{\"axis_label\":\"NewCases\",\"coordinates\":null,\"formatter\":{\"id\":\"6488\"},\"group\":null,\"major_label_policy\":{\"id\":\"6489\"},\"ticker\":{\"id\":\"6467\"}},\"id\":\"6466\",\"type\":\"LinearAxis\"},{\"attributes\":{\"axis\":{\"id\":\"6470\"},\"coordinates\":null,\"dimension\":1,\"grid_line_color\":null,\"group\":null,\"ticker\":null},\"id\":\"6473\",\"type\":\"Grid\"},{\"attributes\":{\"coordinates\":null,\"data_source\":{\"id\":\"6536\"},\"glyph\":{\"id\":\"6539\"},\"group\":null,\"hover_glyph\":null,\"muted_glyph\":{\"id\":\"6541\"},\"nonselection_glyph\":{\"id\":\"6540\"},\"selection_glyph\":{\"id\":\"6559\"},\"view\":{\"id\":\"6543\"}},\"id\":\"6542\",\"type\":\"GlyphRenderer\"},{\"attributes\":{},\"id\":\"6464\",\"type\":\"LinearScale\"},{\"attributes\":{},\"id\":\"6474\",\"type\":\"SaveTool\"},{\"attributes\":{\"source\":{\"id\":\"6514\"}},\"id\":\"6521\",\"type\":\"CDSView\"},{\"attributes\":{\"data\":{\"Infection_Risk\":{\"__ndarray__\":\"4XoUrkfhK0CF61G4HoUoQHE9CtejsDhAUrgehetRFUCamZmZmZkvQEjhehSuRxFA7FG4HoUrMkCPwvUoXG9FQD0K16NwfUBAUrgehetRFUAK16NwPepDQLgehetR+DFASOF6FK7HPUC4HoXrUTgwQD0K16Nw/UFAj8L1KFyPEEDhehSuR+ErQIXrUbgehShAcT0K16OwOEBSuB6F61EVQJqZmZmZmS9ASOF6FK5HEUDsUbgehSsyQI/C9Shcb0VAPQrXo3B9QEBSuB6F61EVQArXo3A96kNAuB6F61H4MUBI4XoUrsc9QLgehetRODBAPQrXo3D9QUCPwvUoXI8QQA==\",\"dtype\":\"float64\",\"order\":\"little\",\"shape\":[32]},\"NewCases\":[0,15291,0,48245,493,839,46685,12305,0,24892,0,0,0,11710,0,0,0,15291,0,48245,493,839,46685,12305,0,24892,0,0,0,11710,0,0],\"class\":[4,4,4,4,4,4,4,4,4,4,4,4,4,4,4,4,4,4,4,4,4,4,4,4,4,4,4,4,4,4,4,4]},\"selected\":{\"id\":\"6587\"},\"selection_policy\":{\"id\":\"6609\"}},\"id\":\"6586\",\"type\":\"ColumnDataSource\"},{\"attributes\":{},\"id\":\"6471\",\"type\":\"BasicTicker\"},{\"attributes\":{\"axis\":{\"id\":\"6466\"},\"coordinates\":null,\"grid_line_color\":null,\"group\":null,\"ticker\":null},\"id\":\"6469\",\"type\":\"Grid\"},{\"attributes\":{\"fill_alpha\":{\"value\":0.2},\"fill_color\":{\"value\":\"#fc4f30\"},\"hatch_alpha\":{\"value\":0.2},\"hatch_color\":{\"value\":\"#fc4f30\"},\"line_alpha\":{\"value\":0.2},\"line_color\":{\"value\":\"#fc4f30\"},\"size\":{\"value\":5.477225575051661},\"x\":{\"field\":\"NewCases\"},\"y\":{\"field\":\"Infection_Risk\"}},\"id\":\"6519\",\"type\":\"Scatter\"},{\"attributes\":{},\"id\":\"6476\",\"type\":\"WheelZoomTool\"},{\"attributes\":{\"axis_label\":\"Infection_Risk\",\"coordinates\":null,\"formatter\":{\"id\":\"6491\"},\"group\":null,\"major_label_policy\":{\"id\":\"6492\"},\"ticker\":{\"id\":\"6471\"}},\"id\":\"6470\",\"type\":\"LinearAxis\"},{\"attributes\":{\"overlay\":{\"id\":\"6479\"}},\"id\":\"6477\",\"type\":\"BoxZoomTool\"},{\"attributes\":{},\"id\":\"6478\",\"type\":\"ResetTool\"},{\"attributes\":{},\"id\":\"6515\",\"type\":\"Selection\"},{\"attributes\":{\"fill_alpha\":{\"value\":0.1},\"fill_color\":{\"value\":\"#fc4f30\"},\"hatch_alpha\":{\"value\":0.1},\"hatch_color\":{\"value\":\"#fc4f30\"},\"line_alpha\":{\"value\":0.1},\"line_color\":{\"value\":\"#fc4f30\"},\"size\":{\"value\":5.477225575051661},\"x\":{\"field\":\"NewCases\"},\"y\":{\"field\":\"Infection_Risk\"}},\"id\":\"6518\",\"type\":\"Scatter\"},{\"attributes\":{\"bottom_units\":\"screen\",\"coordinates\":null,\"fill_alpha\":0.5,\"fill_color\":\"lightgrey\",\"group\":null,\"left_units\":\"screen\",\"level\":\"overlay\",\"line_alpha\":1.0,\"line_color\":\"black\",\"line_dash\":[4,4],\"line_width\":2,\"right_units\":\"screen\",\"syncable\":false,\"top_units\":\"screen\"},\"id\":\"6479\",\"type\":\"BoxAnnotation\"},{\"attributes\":{},\"id\":\"6508\",\"type\":\"UnionRenderers\"},{\"attributes\":{\"coordinates\":null,\"data_source\":{\"id\":\"6514\"},\"glyph\":{\"id\":\"6517\"},\"group\":null,\"hover_glyph\":null,\"muted_glyph\":{\"id\":\"6519\"},\"nonselection_glyph\":{\"id\":\"6518\"},\"selection_glyph\":{\"id\":\"6535\"},\"view\":{\"id\":\"6521\"}},\"id\":\"6520\",\"type\":\"GlyphRenderer\"},{\"attributes\":{\"tools\":[{\"id\":\"6452\"},{\"id\":\"6474\"},{\"id\":\"6475\"},{\"id\":\"6476\"},{\"id\":\"6477\"},{\"id\":\"6478\"}]},\"id\":\"6480\",\"type\":\"Toolbar\"},{\"attributes\":{\"angle\":{\"value\":0.0},\"fill_alpha\":{\"value\":1.0},\"fill_color\":{\"value\":\"#6d904f\"},\"hatch_alpha\":{\"value\":1.0},\"hatch_color\":{\"value\":\"#6d904f\"},\"hatch_scale\":{\"value\":12.0},\"hatch_weight\":{\"value\":1.0},\"line_alpha\":{\"value\":1.0},\"line_cap\":{\"value\":\"butt\"},\"line_color\":{\"value\":\"#6d904f\"},\"line_dash\":{\"value\":[]},\"line_dash_offset\":{\"value\":0},\"line_join\":{\"value\":\"bevel\"},\"line_width\":{\"value\":1},\"marker\":{\"value\":\"circle\"},\"size\":{\"value\":5.477225575051661},\"x\":{\"field\":\"NewCases\"},\"y\":{\"field\":\"Infection_Risk\"}},\"id\":\"6585\",\"type\":\"Scatter\"},{\"attributes\":{},\"id\":\"6531\",\"type\":\"UnionRenderers\"},{\"attributes\":{\"data\":{\"Infection_Risk\":{\"__ndarray__\":\"uB6F61F4OEC4HoXrUXg4QA==\",\"dtype\":\"float64\",\"order\":\"little\",\"shape\":[2]},\"NewCases\":[0,0],\"class\":[1,1]},\"selected\":{\"id\":\"6515\"},\"selection_policy\":{\"id\":\"6531\"}},\"id\":\"6514\",\"type\":\"ColumnDataSource\"},{\"attributes\":{},\"id\":\"6587\",\"type\":\"Selection\"},{\"attributes\":{\"margin\":[5,5,5,5],\"name\":\"HSpacer13450\",\"sizing_mode\":\"stretch_width\"},\"id\":\"6776\",\"type\":\"Spacer\"},{\"attributes\":{\"fill_color\":{\"value\":\"#30a2da\"},\"hatch_color\":{\"value\":\"#30a2da\"},\"line_color\":{\"value\":\"#30a2da\"},\"size\":{\"value\":5.477225575051661},\"x\":{\"field\":\"NewCases\"},\"y\":{\"field\":\"Infection_Risk\"}},\"id\":\"6496\",\"type\":\"Scatter\"},{\"attributes\":{},\"id\":\"6609\",\"type\":\"UnionRenderers\"},{\"attributes\":{\"data\":{\"Infection_Risk\":{\"__ndarray__\":\"cT0K16OwOUBI4XoUrsc5QA==\",\"dtype\":\"float64\",\"order\":\"little\",\"shape\":[2]},\"NewCases\":[0,73087],\"class\":[2,2]},\"selected\":{\"id\":\"6537\"},\"selection_policy\":{\"id\":\"6555\"}},\"id\":\"6536\",\"type\":\"ColumnDataSource\"},{\"attributes\":{\"angle\":{\"value\":0.0},\"fill_alpha\":{\"value\":1.0},\"fill_color\":{\"value\":\"#e5ae38\"},\"hatch_alpha\":{\"value\":1.0},\"hatch_color\":{\"value\":\"#e5ae38\"},\"hatch_scale\":{\"value\":12.0},\"hatch_weight\":{\"value\":1.0},\"line_alpha\":{\"value\":1.0},\"line_cap\":{\"value\":\"butt\"},\"line_color\":{\"value\":\"#e5ae38\"},\"line_dash\":{\"value\":[]},\"line_dash_offset\":{\"value\":0},\"line_join\":{\"value\":\"bevel\"},\"line_width\":{\"value\":1},\"marker\":{\"value\":\"circle\"},\"size\":{\"value\":5.477225575051661},\"x\":{\"field\":\"NewCases\"},\"y\":{\"field\":\"Infection_Risk\"}},\"id\":\"6559\",\"type\":\"Scatter\"},{\"attributes\":{},\"id\":\"6494\",\"type\":\"Selection\"},{\"attributes\":{\"data\":{\"Infection_Risk\":{\"__ndarray__\":\"16NwPQrXQ0AfhetRuJ44QPYoXI/C9SNAZmZmZmYGR0DXo3A9CtdDQB+F61G4njhA9ihcj8L1I0BmZmZmZgZHQA==\",\"dtype\":\"float64\",\"order\":\"little\",\"shape\":[8]},\"NewCases\":[0,0,48717,12387,0,0,48717,12387],\"class\":[3,3,3,3,3,3,3,3]},\"selected\":{\"id\":\"6561\"},\"selection_policy\":{\"id\":\"6581\"}},\"id\":\"6560\",\"type\":\"ColumnDataSource\"}],\"root_ids\":[\"6448\"]},\"title\":\"Bokeh Application\",\"version\":\"2.4.2\"}};\n",
       "    var render_items = [{\"docid\":\"339b649e-a854-4410-bc7f-0c44c8b730f7\",\"root_ids\":[\"6448\"],\"roots\":{\"6448\":\"d319a32d-b339-4de4-9756-cb192c214dbb\"}}];\n",
       "    root.Bokeh.embed.embed_items_notebook(docs_json, render_items);\n",
       "  }\n",
       "  if (root.Bokeh !== undefined && root.Bokeh.Panel !== undefined) {\n",
       "    embed_document(root);\n",
       "  } else {\n",
       "    var attempts = 0;\n",
       "    var timer = setInterval(function(root) {\n",
       "      if (root.Bokeh !== undefined && root.Bokeh.Panel !== undefined) {\n",
       "        clearInterval(timer);\n",
       "        embed_document(root);\n",
       "      } else if (document.readyState == \"complete\") {\n",
       "        attempts++;\n",
       "        if (attempts > 200) {\n",
       "          clearInterval(timer);\n",
       "          console.log(\"Bokeh: ERROR: Unable to run BokehJS code because BokehJS library is missing\");\n",
       "        }\n",
       "      }\n",
       "    }, 25, root)\n",
       "  }\n",
       "})(window);</script>"
      ],
      "text/plain": [
       ":NdOverlay   [class]\n",
       "   :Scatter   [NewCases]   (Infection_Risk)"
      ]
     },
     "execution_count": 115,
     "metadata": {
      "application/vnd.holoviews_exec.v0+json": {
       "id": "6448"
      }
     },
     "output_type": "execute_result"
    }
   ],
   "source": [
    "# Create a scatterplot of covid_data\n",
    "covid_data_df.hvplot.scatter(x=\"NewCases\", y=\"Infection_Risk\", by=\"class\")"
   ]
  },
  {
   "cell_type": "code",
   "execution_count": 116,
   "metadata": {},
   "outputs": [
    {
     "data": {
      "application/vnd.plotly.v1+json": {
       "config": {
        "plotlyServerURL": "https://plot.ly"
       },
       "data": [
        {
         "hovertemplate": "class=%{marker.color}<br>NewCases=%{x}<br>Infection_Risk=%{y}<br>NewDeaths=%{z}<extra></extra>",
         "legendgroup": "1",
         "marker": {
          "color": [
           1,
           1
          ],
          "coloraxis": "coloraxis",
          "symbol": "circle"
         },
         "mode": "markers",
         "name": "1",
         "scene": "scene",
         "showlegend": true,
         "type": "scatter3d",
         "x": [
          0,
          0
         ],
         "y": [
          24.47,
          24.47
         ],
         "z": [
          0,
          0
         ]
        },
        {
         "hovertemplate": "class=%{marker.color}<br>NewCases=%{x}<br>Infection_Risk=%{y}<br>NewDeaths=%{z}<extra></extra>",
         "legendgroup": "0",
         "marker": {
          "color": [
           0,
           0,
           0,
           0,
           0,
           0,
           0,
           0,
           0,
           0,
           0,
           0,
           0,
           0,
           0,
           0,
           0,
           0,
           0,
           0,
           0,
           0,
           0,
           0,
           0,
           0,
           0,
           0,
           0,
           0,
           0,
           0,
           0,
           0,
           0,
           0,
           0,
           0,
           0,
           0,
           0,
           0,
           0,
           0,
           0,
           0,
           0,
           0,
           0,
           0,
           0,
           0,
           0,
           0,
           0,
           0,
           0,
           0,
           0,
           0,
           0,
           0,
           0,
           0,
           0,
           0,
           0,
           0,
           0,
           0,
           0,
           0,
           0,
           0,
           0,
           0,
           0,
           0,
           0,
           0,
           0,
           0,
           0,
           0,
           0,
           0,
           0,
           0,
           0,
           0,
           0,
           0,
           0,
           0,
           0,
           0,
           0,
           0,
           0,
           0,
           0,
           0,
           0,
           0,
           0,
           0,
           0,
           0,
           0,
           0,
           0,
           0,
           0,
           0,
           0,
           0,
           0,
           0,
           0,
           0,
           0,
           0,
           0,
           0,
           0,
           0,
           0,
           0,
           0,
           0,
           0,
           0,
           0,
           0,
           0,
           0,
           0,
           0,
           0,
           0,
           0,
           0,
           0,
           0,
           0,
           0,
           0,
           0,
           0,
           0,
           0,
           0,
           0,
           0,
           0,
           0,
           0,
           0,
           0,
           0,
           0,
           0,
           0,
           0,
           0,
           0,
           0,
           0,
           0,
           0,
           0,
           0,
           0,
           0,
           0,
           0,
           0,
           0,
           0,
           0,
           0,
           0,
           0,
           0,
           0,
           0,
           0,
           0,
           0,
           0,
           0,
           0,
           0,
           0,
           0,
           0,
           0,
           0,
           0,
           0,
           0,
           0,
           0,
           0,
           0,
           0,
           0,
           0,
           0,
           0,
           0,
           0,
           0,
           0,
           0,
           0,
           0,
           0,
           0,
           0,
           0,
           0,
           0,
           0,
           0,
           0,
           0,
           0,
           0,
           0,
           0,
           0,
           0,
           0,
           0,
           0,
           0,
           0,
           0,
           0,
           0,
           0,
           0,
           0,
           0,
           0,
           0,
           0,
           0,
           0,
           0,
           0,
           0,
           0,
           0,
           0,
           0,
           0,
           0,
           0,
           0,
           0,
           0,
           0,
           0,
           0,
           0,
           0,
           0,
           0,
           0,
           0,
           0,
           0,
           0,
           0,
           0,
           0,
           0,
           0,
           0,
           0,
           0,
           0,
           0,
           0,
           0,
           0,
           0,
           0,
           0,
           0,
           0,
           0,
           0,
           0,
           0,
           0,
           0,
           0,
           0,
           0,
           0,
           0,
           0,
           0,
           0,
           0,
           0,
           0,
           0,
           0,
           0,
           0,
           0,
           0,
           0,
           0,
           0,
           0,
           0,
           0,
           0,
           0,
           0,
           0,
           0,
           0,
           0,
           0,
           0,
           0,
           0,
           0,
           0,
           0,
           0,
           0,
           0,
           0
          ],
          "coloraxis": "coloraxis",
          "symbol": "diamond"
         },
         "mode": "markers",
         "name": "0",
         "scene": "scene",
         "showlegend": true,
         "type": "scatter3d",
         "x": [
          0,
          0,
          0,
          3519,
          0,
          1661,
          0,
          0,
          0,
          1658,
          0,
          276,
          0,
          0,
          0,
          2148,
          1332,
          0,
          266,
          1471,
          61,
          0,
          1465,
          0,
          208,
          154,
          0,
          0,
          11,
          0,
          0,
          0,
          97,
          0,
          0,
          0,
          773,
          32,
          802,
          332,
          49,
          0,
          0,
          0,
          0,
          353,
          6,
          0,
          104,
          10248,
          0,
          0,
          0,
          0,
          427,
          0,
          0,
          0,
          0,
          0,
          0,
          81,
          7,
          32,
          188,
          0,
          0,
          34,
          0,
          0,
          0,
          0,
          0,
          0,
          35,
          0,
          0,
          0,
          0,
          1038,
          0,
          70,
          0,
          0,
          0,
          0,
          0,
          0,
          400,
          35,
          0,
          0,
          0,
          0,
          0,
          1,
          0,
          530,
          0,
          0,
          0,
          0,
          3,
          0,
          0,
          0,
          33,
          0,
          0,
          0,
          0,
          0,
          0,
          0,
          0,
          0,
          0,
          0,
          0,
          53,
          0,
          0,
          0,
          0,
          0,
          490,
          0,
          0,
          0,
          0,
          0,
          275,
          0,
          0,
          0,
          0,
          0,
          0,
          0,
          0,
          0,
          0,
          0,
          0,
          0,
          0,
          0,
          0,
          0,
          0,
          0,
          0,
          0,
          0,
          0,
          0,
          0,
          0,
          0,
          0,
          0,
          324,
          0,
          164,
          0,
          0,
          0,
          0,
          0,
          1405,
          0,
          0,
          0,
          3519,
          0,
          1661,
          0,
          0,
          0,
          1658,
          0,
          276,
          0,
          0,
          0,
          2148,
          1332,
          0,
          266,
          1471,
          61,
          0,
          1465,
          0,
          208,
          154,
          0,
          0,
          11,
          0,
          0,
          0,
          97,
          0,
          0,
          0,
          773,
          32,
          802,
          332,
          49,
          0,
          0,
          0,
          0,
          353,
          6,
          0,
          104,
          10248,
          0,
          0,
          0,
          0,
          427,
          0,
          0,
          0,
          0,
          0,
          0,
          81,
          7,
          32,
          188,
          0,
          0,
          34,
          0,
          0,
          0,
          0,
          0,
          0,
          35,
          0,
          0,
          0,
          0,
          1038,
          0,
          70,
          0,
          0,
          0,
          0,
          0,
          0,
          400,
          35,
          0,
          0,
          0,
          0,
          0,
          1,
          0,
          530,
          0,
          0,
          0,
          0,
          3,
          0,
          0,
          0,
          33,
          0,
          0,
          0,
          0,
          0,
          0,
          0,
          0,
          0,
          0,
          0,
          0,
          53,
          0,
          0,
          0,
          0,
          0,
          490,
          0,
          0,
          0,
          0,
          0,
          275,
          0,
          0,
          0,
          0,
          0,
          0,
          0,
          0,
          0,
          0,
          0,
          0,
          0,
          0,
          0,
          0,
          0,
          0,
          0,
          0,
          0,
          0,
          0,
          0,
          0,
          0,
          0,
          0,
          0,
          324,
          0,
          164,
          0,
          0,
          0,
          0,
          0,
          1405
         ],
         "y": [
          3.07,
          17.33,
          19.69,
          8.35,
          11.74,
          2.16,
          11.48,
          12.83,
          42.28,
          35.67,
          6.14,
          3.28,
          35.53,
          10.51,
          9.13,
          50.13,
          15.05,
          24.37,
          5.55,
          22.85,
          1.16,
          19.28,
          31.6,
          16.27,
          41.49,
          0.67,
          29.1,
          25.63,
          6.81,
          3.09,
          16.64,
          18.71,
          27.16,
          16.14,
          9.66,
          8.61,
          38.85,
          3.26,
          46.87,
          10.23,
          7.55,
          25.45,
          4.75,
          16.22,
          4.49,
          43.41,
          7.69,
          17.26,
          2.1,
          14.06,
          3.07,
          8.9,
          14.37,
          5.24,
          42.1,
          30.82,
          1.84,
          12.8,
          0.48,
          7.13,
          0.39,
          13.9,
          14.21,
          7.28,
          12.89,
          37.17,
          0.58,
          1.64,
          14.72,
          12.55,
          9.53,
          0.59,
          0.12,
          1.62,
          0.69,
          37.14,
          0.69,
          33.7,
          2.99,
          2.47,
          52.69,
          0.44,
          31.76,
          0.34,
          2.47,
          0.5,
          6.01,
          37.74,
          30.66,
          0.79,
          32.66,
          0.96,
          4.32,
          0.43,
          0.29,
          0.49,
          0.43,
          18.51,
          13.3,
          25.33,
          25.49,
          5.91,
          7.1,
          0.22,
          7.98,
          0.14,
          20.78,
          20.81,
          1.21,
          13.96,
          0.31,
          2.05,
          0.46,
          24.61,
          40.66,
          51.66,
          0.31,
          0.43,
          12.97,
          2.88,
          0.27,
          31.66,
          0.05,
          8.33,
          1.52,
          4.06,
          0.26,
          0.14,
          33.11,
          0.21,
          0.16,
          0.1,
          1.68,
          0.1,
          30.72,
          0.27,
          0.18,
          0.15,
          50.42,
          42.87,
          1.07,
          1.54,
          44.58,
          12.36,
          20.31,
          0.47,
          21.02,
          16.45,
          0.04,
          1.6,
          27.29,
          22.33,
          0.27,
          0.03,
          32.17,
          0.4,
          0.9,
          0.09,
          0.14,
          0.04,
          20.13,
          1.39,
          17.72,
          1.22,
          3.5,
          3.36,
          3.6,
          0,
          0.01,
          0.01,
          3.07,
          17.33,
          19.69,
          8.35,
          11.74,
          2.16,
          11.48,
          12.83,
          42.28,
          35.67,
          6.14,
          3.28,
          35.53,
          10.51,
          9.13,
          50.13,
          15.05,
          24.37,
          5.55,
          22.85,
          1.16,
          19.28,
          31.6,
          16.27,
          41.49,
          0.67,
          29.1,
          25.63,
          6.81,
          3.09,
          16.64,
          18.71,
          27.16,
          16.14,
          9.66,
          8.61,
          38.85,
          3.26,
          46.87,
          10.23,
          7.55,
          25.45,
          4.75,
          16.22,
          4.49,
          43.41,
          7.69,
          17.26,
          2.1,
          14.06,
          3.07,
          8.9,
          14.37,
          5.24,
          42.1,
          30.82,
          1.84,
          12.8,
          0.48,
          7.13,
          0.39,
          13.9,
          14.21,
          7.28,
          12.89,
          37.17,
          0.58,
          1.64,
          14.72,
          12.55,
          9.53,
          0.59,
          0.12,
          1.62,
          0.69,
          37.14,
          0.69,
          33.7,
          2.99,
          2.47,
          52.69,
          0.44,
          31.76,
          0.34,
          2.47,
          0.5,
          6.01,
          37.74,
          30.66,
          0.79,
          32.66,
          0.96,
          4.32,
          0.43,
          0.29,
          0.49,
          0.43,
          18.51,
          13.3,
          25.33,
          25.49,
          5.91,
          7.1,
          0.22,
          7.98,
          0.14,
          20.78,
          20.81,
          1.21,
          13.96,
          0.31,
          2.05,
          0.46,
          24.61,
          40.66,
          51.66,
          0.31,
          0.43,
          12.97,
          2.88,
          0.27,
          31.66,
          0.05,
          8.33,
          1.52,
          4.06,
          0.26,
          0.14,
          33.11,
          0.21,
          0.16,
          0.1,
          1.68,
          0.1,
          30.72,
          0.27,
          0.18,
          0.15,
          50.42,
          42.87,
          1.07,
          1.54,
          44.58,
          12.36,
          20.31,
          0.47,
          21.02,
          16.45,
          0.04,
          1.6,
          27.29,
          22.33,
          0.27,
          0.03,
          32.17,
          0.4,
          0.9,
          0.09,
          0.14,
          0.04,
          20.13,
          1.39,
          17.72,
          1.22,
          3.5,
          3.36,
          3.6,
          0,
          0.01,
          0.01
         ],
         "z": [
          0,
          0,
          0,
          53,
          0,
          61,
          0,
          0,
          0,
          3,
          0,
          22,
          0,
          0,
          0,
          15,
          12,
          0,
          4,
          9,
          1,
          0,
          23,
          0,
          2,
          0,
          0,
          0,
          0,
          0,
          0,
          0,
          18,
          0,
          0,
          0,
          6,
          0,
          4,
          5,
          0,
          0,
          0,
          0,
          0,
          5,
          0,
          0,
          2,
          13,
          0,
          0,
          0,
          0,
          1,
          0,
          0,
          0,
          0,
          0,
          0,
          0,
          0,
          1,
          0,
          0,
          0,
          0,
          0,
          0,
          0,
          0,
          0,
          0,
          0,
          0,
          0,
          0,
          0,
          3,
          0,
          0,
          0,
          0,
          0,
          0,
          0,
          0,
          0,
          0,
          0,
          0,
          0,
          0,
          0,
          0,
          0,
          3,
          0,
          0,
          0,
          0,
          0,
          0,
          0,
          0,
          0,
          0,
          0,
          0,
          0,
          0,
          0,
          0,
          0,
          0,
          0,
          0,
          0,
          0,
          0,
          0,
          0,
          0,
          0,
          0,
          0,
          0,
          0,
          0,
          0,
          0,
          0,
          0,
          0,
          0,
          0,
          0,
          0,
          0,
          0,
          0,
          0,
          0,
          0,
          0,
          0,
          0,
          0,
          0,
          0,
          0,
          0,
          0,
          0,
          0,
          0,
          0,
          0,
          0,
          0,
          0,
          0,
          1,
          0,
          0,
          0,
          0,
          0,
          0,
          0,
          0,
          0,
          53,
          0,
          61,
          0,
          0,
          0,
          3,
          0,
          22,
          0,
          0,
          0,
          15,
          12,
          0,
          4,
          9,
          1,
          0,
          23,
          0,
          2,
          0,
          0,
          0,
          0,
          0,
          0,
          0,
          18,
          0,
          0,
          0,
          6,
          0,
          4,
          5,
          0,
          0,
          0,
          0,
          0,
          5,
          0,
          0,
          2,
          13,
          0,
          0,
          0,
          0,
          1,
          0,
          0,
          0,
          0,
          0,
          0,
          0,
          0,
          1,
          0,
          0,
          0,
          0,
          0,
          0,
          0,
          0,
          0,
          0,
          0,
          0,
          0,
          0,
          0,
          3,
          0,
          0,
          0,
          0,
          0,
          0,
          0,
          0,
          0,
          0,
          0,
          0,
          0,
          0,
          0,
          0,
          0,
          3,
          0,
          0,
          0,
          0,
          0,
          0,
          0,
          0,
          0,
          0,
          0,
          0,
          0,
          0,
          0,
          0,
          0,
          0,
          0,
          0,
          0,
          0,
          0,
          0,
          0,
          0,
          0,
          0,
          0,
          0,
          0,
          0,
          0,
          0,
          0,
          0,
          0,
          0,
          0,
          0,
          0,
          0,
          0,
          0,
          0,
          0,
          0,
          0,
          0,
          0,
          0,
          0,
          0,
          0,
          0,
          0,
          0,
          0,
          0,
          0,
          0,
          0,
          0,
          0,
          0,
          1,
          0,
          0,
          0,
          0,
          0,
          0
         ]
        },
        {
         "hovertemplate": "class=%{marker.color}<br>NewCases=%{x}<br>Infection_Risk=%{y}<br>NewDeaths=%{z}<extra></extra>",
         "legendgroup": "4",
         "marker": {
          "color": [
           4,
           4,
           4,
           4,
           4,
           4,
           4,
           4,
           4,
           4,
           4,
           4,
           4,
           4,
           4,
           4,
           4,
           4,
           4,
           4,
           4,
           4,
           4,
           4,
           4,
           4,
           4,
           4,
           4,
           4,
           4,
           4
          ],
          "coloraxis": "coloraxis",
          "symbol": "square"
         },
         "mode": "markers",
         "name": "4",
         "scene": "scene",
         "showlegend": true,
         "type": "scatter3d",
         "x": [
          0,
          15291,
          0,
          48245,
          493,
          839,
          46685,
          12305,
          0,
          24892,
          0,
          0,
          0,
          11710,
          0,
          0,
          0,
          15291,
          0,
          48245,
          493,
          839,
          46685,
          12305,
          0,
          24892,
          0,
          0,
          0,
          11710,
          0,
          0
         ],
         "y": [
          13.94,
          12.26,
          24.69,
          5.33,
          15.8,
          4.32,
          18.17,
          42.87,
          32.98,
          5.33,
          39.83,
          17.97,
          29.78,
          16.22,
          35.98,
          4.14,
          13.94,
          12.26,
          24.69,
          5.33,
          15.8,
          4.32,
          18.17,
          42.87,
          32.98,
          5.33,
          39.83,
          17.97,
          29.78,
          16.22,
          35.98,
          4.14
         ],
         "z": [
          0,
          287,
          0,
          38,
          0,
          11,
          14,
          17,
          0,
          97,
          0,
          0,
          0,
          74,
          0,
          0,
          0,
          287,
          0,
          38,
          0,
          11,
          14,
          17,
          0,
          97,
          0,
          0,
          0,
          74,
          0,
          0
         ]
        },
        {
         "hovertemplate": "class=%{marker.color}<br>NewCases=%{x}<br>Infection_Risk=%{y}<br>NewDeaths=%{z}<extra></extra>",
         "legendgroup": "3",
         "marker": {
          "color": [
           3,
           3,
           3,
           3,
           3,
           3,
           3,
           3
          ],
          "coloraxis": "coloraxis",
          "symbol": "x"
         },
         "mode": "markers",
         "name": "3",
         "scene": "scene",
         "showlegend": true,
         "type": "scatter3d",
         "x": [
          0,
          0,
          48717,
          12387,
          0,
          0,
          48717,
          12387
         ],
         "y": [
          39.68,
          24.62,
          9.98,
          46.05,
          39.68,
          24.62,
          9.98,
          46.05
         ],
         "z": [
          0,
          0,
          42,
          7,
          0,
          0,
          42,
          7
         ]
        },
        {
         "hovertemplate": "class=%{marker.color}<br>NewCases=%{x}<br>Infection_Risk=%{y}<br>NewDeaths=%{z}<extra></extra>",
         "legendgroup": "2",
         "marker": {
          "color": [
           2,
           2
          ],
          "coloraxis": "coloraxis",
          "symbol": "cross"
         },
         "mode": "markers",
         "name": "2",
         "scene": "scene",
         "showlegend": true,
         "type": "scatter3d",
         "x": [
          0,
          73087
         ],
         "y": [
          25.69,
          25.78
         ],
         "z": [
          0,
          88
         ]
        }
       ],
       "layout": {
        "coloraxis": {
         "colorbar": {
          "title": {
           "text": "class"
          }
         },
         "colorscale": [
          [
           0,
           "#0d0887"
          ],
          [
           0.1111111111111111,
           "#46039f"
          ],
          [
           0.2222222222222222,
           "#7201a8"
          ],
          [
           0.3333333333333333,
           "#9c179e"
          ],
          [
           0.4444444444444444,
           "#bd3786"
          ],
          [
           0.5555555555555556,
           "#d8576b"
          ],
          [
           0.6666666666666666,
           "#ed7953"
          ],
          [
           0.7777777777777778,
           "#fb9f3a"
          ],
          [
           0.8888888888888888,
           "#fdca26"
          ],
          [
           1,
           "#f0f921"
          ]
         ]
        },
        "legend": {
         "title": {
          "text": "class"
         },
         "tracegroupgap": 0,
         "x": 0,
         "y": 1
        },
        "margin": {
         "t": 60
        },
        "scene": {
         "domain": {
          "x": [
           0,
           1
          ],
          "y": [
           0,
           1
          ]
         },
         "xaxis": {
          "title": {
           "text": "NewCases"
          }
         },
         "yaxis": {
          "title": {
           "text": "Infection_Risk"
          }
         },
         "zaxis": {
          "title": {
           "text": "NewDeaths"
          }
         }
        },
        "template": {
         "data": {
          "bar": [
           {
            "error_x": {
             "color": "#2a3f5f"
            },
            "error_y": {
             "color": "#2a3f5f"
            },
            "marker": {
             "line": {
              "color": "#E5ECF6",
              "width": 0.5
             },
             "pattern": {
              "fillmode": "overlay",
              "size": 10,
              "solidity": 0.2
             }
            },
            "type": "bar"
           }
          ],
          "barpolar": [
           {
            "marker": {
             "line": {
              "color": "#E5ECF6",
              "width": 0.5
             },
             "pattern": {
              "fillmode": "overlay",
              "size": 10,
              "solidity": 0.2
             }
            },
            "type": "barpolar"
           }
          ],
          "carpet": [
           {
            "aaxis": {
             "endlinecolor": "#2a3f5f",
             "gridcolor": "white",
             "linecolor": "white",
             "minorgridcolor": "white",
             "startlinecolor": "#2a3f5f"
            },
            "baxis": {
             "endlinecolor": "#2a3f5f",
             "gridcolor": "white",
             "linecolor": "white",
             "minorgridcolor": "white",
             "startlinecolor": "#2a3f5f"
            },
            "type": "carpet"
           }
          ],
          "choropleth": [
           {
            "colorbar": {
             "outlinewidth": 0,
             "ticks": ""
            },
            "type": "choropleth"
           }
          ],
          "contour": [
           {
            "colorbar": {
             "outlinewidth": 0,
             "ticks": ""
            },
            "colorscale": [
             [
              0,
              "#0d0887"
             ],
             [
              0.1111111111111111,
              "#46039f"
             ],
             [
              0.2222222222222222,
              "#7201a8"
             ],
             [
              0.3333333333333333,
              "#9c179e"
             ],
             [
              0.4444444444444444,
              "#bd3786"
             ],
             [
              0.5555555555555556,
              "#d8576b"
             ],
             [
              0.6666666666666666,
              "#ed7953"
             ],
             [
              0.7777777777777778,
              "#fb9f3a"
             ],
             [
              0.8888888888888888,
              "#fdca26"
             ],
             [
              1,
              "#f0f921"
             ]
            ],
            "type": "contour"
           }
          ],
          "contourcarpet": [
           {
            "colorbar": {
             "outlinewidth": 0,
             "ticks": ""
            },
            "type": "contourcarpet"
           }
          ],
          "heatmap": [
           {
            "colorbar": {
             "outlinewidth": 0,
             "ticks": ""
            },
            "colorscale": [
             [
              0,
              "#0d0887"
             ],
             [
              0.1111111111111111,
              "#46039f"
             ],
             [
              0.2222222222222222,
              "#7201a8"
             ],
             [
              0.3333333333333333,
              "#9c179e"
             ],
             [
              0.4444444444444444,
              "#bd3786"
             ],
             [
              0.5555555555555556,
              "#d8576b"
             ],
             [
              0.6666666666666666,
              "#ed7953"
             ],
             [
              0.7777777777777778,
              "#fb9f3a"
             ],
             [
              0.8888888888888888,
              "#fdca26"
             ],
             [
              1,
              "#f0f921"
             ]
            ],
            "type": "heatmap"
           }
          ],
          "heatmapgl": [
           {
            "colorbar": {
             "outlinewidth": 0,
             "ticks": ""
            },
            "colorscale": [
             [
              0,
              "#0d0887"
             ],
             [
              0.1111111111111111,
              "#46039f"
             ],
             [
              0.2222222222222222,
              "#7201a8"
             ],
             [
              0.3333333333333333,
              "#9c179e"
             ],
             [
              0.4444444444444444,
              "#bd3786"
             ],
             [
              0.5555555555555556,
              "#d8576b"
             ],
             [
              0.6666666666666666,
              "#ed7953"
             ],
             [
              0.7777777777777778,
              "#fb9f3a"
             ],
             [
              0.8888888888888888,
              "#fdca26"
             ],
             [
              1,
              "#f0f921"
             ]
            ],
            "type": "heatmapgl"
           }
          ],
          "histogram": [
           {
            "marker": {
             "pattern": {
              "fillmode": "overlay",
              "size": 10,
              "solidity": 0.2
             }
            },
            "type": "histogram"
           }
          ],
          "histogram2d": [
           {
            "colorbar": {
             "outlinewidth": 0,
             "ticks": ""
            },
            "colorscale": [
             [
              0,
              "#0d0887"
             ],
             [
              0.1111111111111111,
              "#46039f"
             ],
             [
              0.2222222222222222,
              "#7201a8"
             ],
             [
              0.3333333333333333,
              "#9c179e"
             ],
             [
              0.4444444444444444,
              "#bd3786"
             ],
             [
              0.5555555555555556,
              "#d8576b"
             ],
             [
              0.6666666666666666,
              "#ed7953"
             ],
             [
              0.7777777777777778,
              "#fb9f3a"
             ],
             [
              0.8888888888888888,
              "#fdca26"
             ],
             [
              1,
              "#f0f921"
             ]
            ],
            "type": "histogram2d"
           }
          ],
          "histogram2dcontour": [
           {
            "colorbar": {
             "outlinewidth": 0,
             "ticks": ""
            },
            "colorscale": [
             [
              0,
              "#0d0887"
             ],
             [
              0.1111111111111111,
              "#46039f"
             ],
             [
              0.2222222222222222,
              "#7201a8"
             ],
             [
              0.3333333333333333,
              "#9c179e"
             ],
             [
              0.4444444444444444,
              "#bd3786"
             ],
             [
              0.5555555555555556,
              "#d8576b"
             ],
             [
              0.6666666666666666,
              "#ed7953"
             ],
             [
              0.7777777777777778,
              "#fb9f3a"
             ],
             [
              0.8888888888888888,
              "#fdca26"
             ],
             [
              1,
              "#f0f921"
             ]
            ],
            "type": "histogram2dcontour"
           }
          ],
          "mesh3d": [
           {
            "colorbar": {
             "outlinewidth": 0,
             "ticks": ""
            },
            "type": "mesh3d"
           }
          ],
          "parcoords": [
           {
            "line": {
             "colorbar": {
              "outlinewidth": 0,
              "ticks": ""
             }
            },
            "type": "parcoords"
           }
          ],
          "pie": [
           {
            "automargin": true,
            "type": "pie"
           }
          ],
          "scatter": [
           {
            "marker": {
             "colorbar": {
              "outlinewidth": 0,
              "ticks": ""
             }
            },
            "type": "scatter"
           }
          ],
          "scatter3d": [
           {
            "line": {
             "colorbar": {
              "outlinewidth": 0,
              "ticks": ""
             }
            },
            "marker": {
             "colorbar": {
              "outlinewidth": 0,
              "ticks": ""
             }
            },
            "type": "scatter3d"
           }
          ],
          "scattercarpet": [
           {
            "marker": {
             "colorbar": {
              "outlinewidth": 0,
              "ticks": ""
             }
            },
            "type": "scattercarpet"
           }
          ],
          "scattergeo": [
           {
            "marker": {
             "colorbar": {
              "outlinewidth": 0,
              "ticks": ""
             }
            },
            "type": "scattergeo"
           }
          ],
          "scattergl": [
           {
            "marker": {
             "colorbar": {
              "outlinewidth": 0,
              "ticks": ""
             }
            },
            "type": "scattergl"
           }
          ],
          "scattermapbox": [
           {
            "marker": {
             "colorbar": {
              "outlinewidth": 0,
              "ticks": ""
             }
            },
            "type": "scattermapbox"
           }
          ],
          "scatterpolar": [
           {
            "marker": {
             "colorbar": {
              "outlinewidth": 0,
              "ticks": ""
             }
            },
            "type": "scatterpolar"
           }
          ],
          "scatterpolargl": [
           {
            "marker": {
             "colorbar": {
              "outlinewidth": 0,
              "ticks": ""
             }
            },
            "type": "scatterpolargl"
           }
          ],
          "scatterternary": [
           {
            "marker": {
             "colorbar": {
              "outlinewidth": 0,
              "ticks": ""
             }
            },
            "type": "scatterternary"
           }
          ],
          "surface": [
           {
            "colorbar": {
             "outlinewidth": 0,
             "ticks": ""
            },
            "colorscale": [
             [
              0,
              "#0d0887"
             ],
             [
              0.1111111111111111,
              "#46039f"
             ],
             [
              0.2222222222222222,
              "#7201a8"
             ],
             [
              0.3333333333333333,
              "#9c179e"
             ],
             [
              0.4444444444444444,
              "#bd3786"
             ],
             [
              0.5555555555555556,
              "#d8576b"
             ],
             [
              0.6666666666666666,
              "#ed7953"
             ],
             [
              0.7777777777777778,
              "#fb9f3a"
             ],
             [
              0.8888888888888888,
              "#fdca26"
             ],
             [
              1,
              "#f0f921"
             ]
            ],
            "type": "surface"
           }
          ],
          "table": [
           {
            "cells": {
             "fill": {
              "color": "#EBF0F8"
             },
             "line": {
              "color": "white"
             }
            },
            "header": {
             "fill": {
              "color": "#C8D4E3"
             },
             "line": {
              "color": "white"
             }
            },
            "type": "table"
           }
          ]
         },
         "layout": {
          "annotationdefaults": {
           "arrowcolor": "#2a3f5f",
           "arrowhead": 0,
           "arrowwidth": 1
          },
          "autotypenumbers": "strict",
          "coloraxis": {
           "colorbar": {
            "outlinewidth": 0,
            "ticks": ""
           }
          },
          "colorscale": {
           "diverging": [
            [
             0,
             "#8e0152"
            ],
            [
             0.1,
             "#c51b7d"
            ],
            [
             0.2,
             "#de77ae"
            ],
            [
             0.3,
             "#f1b6da"
            ],
            [
             0.4,
             "#fde0ef"
            ],
            [
             0.5,
             "#f7f7f7"
            ],
            [
             0.6,
             "#e6f5d0"
            ],
            [
             0.7,
             "#b8e186"
            ],
            [
             0.8,
             "#7fbc41"
            ],
            [
             0.9,
             "#4d9221"
            ],
            [
             1,
             "#276419"
            ]
           ],
           "sequential": [
            [
             0,
             "#0d0887"
            ],
            [
             0.1111111111111111,
             "#46039f"
            ],
            [
             0.2222222222222222,
             "#7201a8"
            ],
            [
             0.3333333333333333,
             "#9c179e"
            ],
            [
             0.4444444444444444,
             "#bd3786"
            ],
            [
             0.5555555555555556,
             "#d8576b"
            ],
            [
             0.6666666666666666,
             "#ed7953"
            ],
            [
             0.7777777777777778,
             "#fb9f3a"
            ],
            [
             0.8888888888888888,
             "#fdca26"
            ],
            [
             1,
             "#f0f921"
            ]
           ],
           "sequentialminus": [
            [
             0,
             "#0d0887"
            ],
            [
             0.1111111111111111,
             "#46039f"
            ],
            [
             0.2222222222222222,
             "#7201a8"
            ],
            [
             0.3333333333333333,
             "#9c179e"
            ],
            [
             0.4444444444444444,
             "#bd3786"
            ],
            [
             0.5555555555555556,
             "#d8576b"
            ],
            [
             0.6666666666666666,
             "#ed7953"
            ],
            [
             0.7777777777777778,
             "#fb9f3a"
            ],
            [
             0.8888888888888888,
             "#fdca26"
            ],
            [
             1,
             "#f0f921"
            ]
           ]
          },
          "colorway": [
           "#636efa",
           "#EF553B",
           "#00cc96",
           "#ab63fa",
           "#FFA15A",
           "#19d3f3",
           "#FF6692",
           "#B6E880",
           "#FF97FF",
           "#FECB52"
          ],
          "font": {
           "color": "#2a3f5f"
          },
          "geo": {
           "bgcolor": "white",
           "lakecolor": "white",
           "landcolor": "#E5ECF6",
           "showlakes": true,
           "showland": true,
           "subunitcolor": "white"
          },
          "hoverlabel": {
           "align": "left"
          },
          "hovermode": "closest",
          "mapbox": {
           "style": "light"
          },
          "paper_bgcolor": "white",
          "plot_bgcolor": "#E5ECF6",
          "polar": {
           "angularaxis": {
            "gridcolor": "white",
            "linecolor": "white",
            "ticks": ""
           },
           "bgcolor": "#E5ECF6",
           "radialaxis": {
            "gridcolor": "white",
            "linecolor": "white",
            "ticks": ""
           }
          },
          "scene": {
           "xaxis": {
            "backgroundcolor": "#E5ECF6",
            "gridcolor": "white",
            "gridwidth": 2,
            "linecolor": "white",
            "showbackground": true,
            "ticks": "",
            "zerolinecolor": "white"
           },
           "yaxis": {
            "backgroundcolor": "#E5ECF6",
            "gridcolor": "white",
            "gridwidth": 2,
            "linecolor": "white",
            "showbackground": true,
            "ticks": "",
            "zerolinecolor": "white"
           },
           "zaxis": {
            "backgroundcolor": "#E5ECF6",
            "gridcolor": "white",
            "gridwidth": 2,
            "linecolor": "white",
            "showbackground": true,
            "ticks": "",
            "zerolinecolor": "white"
           }
          },
          "shapedefaults": {
           "line": {
            "color": "#2a3f5f"
           }
          },
          "ternary": {
           "aaxis": {
            "gridcolor": "white",
            "linecolor": "white",
            "ticks": ""
           },
           "baxis": {
            "gridcolor": "white",
            "linecolor": "white",
            "ticks": ""
           },
           "bgcolor": "#E5ECF6",
           "caxis": {
            "gridcolor": "white",
            "linecolor": "white",
            "ticks": ""
           }
          },
          "title": {
           "x": 0.05
          },
          "xaxis": {
           "automargin": true,
           "gridcolor": "white",
           "linecolor": "white",
           "ticks": "",
           "title": {
            "standoff": 15
           },
           "zerolinecolor": "white",
           "zerolinewidth": 2
          },
          "yaxis": {
           "automargin": true,
           "gridcolor": "white",
           "linecolor": "white",
           "ticks": "",
           "title": {
            "standoff": 15
           },
           "zerolinecolor": "white",
           "zerolinewidth": 2
          }
         }
        }
       }
      },
      "text/html": [
       "<div>                            <div id=\"321dcfef-065a-42b6-b474-61cece2a26ed\" class=\"plotly-graph-div\" style=\"height:525px; width:100%;\"></div>            <script type=\"text/javascript\">                require([\"plotly\"], function(Plotly) {                    window.PLOTLYENV=window.PLOTLYENV || {};                                    if (document.getElementById(\"321dcfef-065a-42b6-b474-61cece2a26ed\")) {                    Plotly.newPlot(                        \"321dcfef-065a-42b6-b474-61cece2a26ed\",                        [{\"hovertemplate\":\"class=%{marker.color}<br>NewCases=%{x}<br>Infection_Risk=%{y}<br>NewDeaths=%{z}<extra></extra>\",\"legendgroup\":\"1\",\"marker\":{\"color\":[1,1],\"coloraxis\":\"coloraxis\",\"symbol\":\"circle\"},\"mode\":\"markers\",\"name\":\"1\",\"scene\":\"scene\",\"showlegend\":true,\"x\":[0,0],\"y\":[24.47,24.47],\"z\":[0,0],\"type\":\"scatter3d\"},{\"hovertemplate\":\"class=%{marker.color}<br>NewCases=%{x}<br>Infection_Risk=%{y}<br>NewDeaths=%{z}<extra></extra>\",\"legendgroup\":\"0\",\"marker\":{\"color\":[0,0,0,0,0,0,0,0,0,0,0,0,0,0,0,0,0,0,0,0,0,0,0,0,0,0,0,0,0,0,0,0,0,0,0,0,0,0,0,0,0,0,0,0,0,0,0,0,0,0,0,0,0,0,0,0,0,0,0,0,0,0,0,0,0,0,0,0,0,0,0,0,0,0,0,0,0,0,0,0,0,0,0,0,0,0,0,0,0,0,0,0,0,0,0,0,0,0,0,0,0,0,0,0,0,0,0,0,0,0,0,0,0,0,0,0,0,0,0,0,0,0,0,0,0,0,0,0,0,0,0,0,0,0,0,0,0,0,0,0,0,0,0,0,0,0,0,0,0,0,0,0,0,0,0,0,0,0,0,0,0,0,0,0,0,0,0,0,0,0,0,0,0,0,0,0,0,0,0,0,0,0,0,0,0,0,0,0,0,0,0,0,0,0,0,0,0,0,0,0,0,0,0,0,0,0,0,0,0,0,0,0,0,0,0,0,0,0,0,0,0,0,0,0,0,0,0,0,0,0,0,0,0,0,0,0,0,0,0,0,0,0,0,0,0,0,0,0,0,0,0,0,0,0,0,0,0,0,0,0,0,0,0,0,0,0,0,0,0,0,0,0,0,0,0,0,0,0,0,0,0,0,0,0,0,0,0,0,0,0,0,0,0,0,0,0,0,0,0,0,0,0,0,0,0,0,0,0,0,0,0,0,0,0,0,0,0,0,0,0,0,0,0,0,0,0,0,0,0,0,0,0,0,0,0,0,0,0,0,0],\"coloraxis\":\"coloraxis\",\"symbol\":\"diamond\"},\"mode\":\"markers\",\"name\":\"0\",\"scene\":\"scene\",\"showlegend\":true,\"x\":[0,0,0,3519,0,1661,0,0,0,1658,0,276,0,0,0,2148,1332,0,266,1471,61,0,1465,0,208,154,0,0,11,0,0,0,97,0,0,0,773,32,802,332,49,0,0,0,0,353,6,0,104,10248,0,0,0,0,427,0,0,0,0,0,0,81,7,32,188,0,0,34,0,0,0,0,0,0,35,0,0,0,0,1038,0,70,0,0,0,0,0,0,400,35,0,0,0,0,0,1,0,530,0,0,0,0,3,0,0,0,33,0,0,0,0,0,0,0,0,0,0,0,0,53,0,0,0,0,0,490,0,0,0,0,0,275,0,0,0,0,0,0,0,0,0,0,0,0,0,0,0,0,0,0,0,0,0,0,0,0,0,0,0,0,0,324,0,164,0,0,0,0,0,1405,0,0,0,3519,0,1661,0,0,0,1658,0,276,0,0,0,2148,1332,0,266,1471,61,0,1465,0,208,154,0,0,11,0,0,0,97,0,0,0,773,32,802,332,49,0,0,0,0,353,6,0,104,10248,0,0,0,0,427,0,0,0,0,0,0,81,7,32,188,0,0,34,0,0,0,0,0,0,35,0,0,0,0,1038,0,70,0,0,0,0,0,0,400,35,0,0,0,0,0,1,0,530,0,0,0,0,3,0,0,0,33,0,0,0,0,0,0,0,0,0,0,0,0,53,0,0,0,0,0,490,0,0,0,0,0,275,0,0,0,0,0,0,0,0,0,0,0,0,0,0,0,0,0,0,0,0,0,0,0,0,0,0,0,0,0,324,0,164,0,0,0,0,0,1405],\"y\":[3.07,17.33,19.69,8.35,11.74,2.16,11.48,12.83,42.28,35.67,6.14,3.28,35.53,10.51,9.13,50.13,15.05,24.37,5.55,22.85,1.16,19.28,31.6,16.27,41.49,0.67,29.1,25.63,6.81,3.09,16.64,18.71,27.16,16.14,9.66,8.61,38.85,3.26,46.87,10.23,7.55,25.45,4.75,16.22,4.49,43.41,7.69,17.26,2.1,14.06,3.07,8.9,14.37,5.24,42.1,30.82,1.84,12.8,0.48,7.13,0.39,13.9,14.21,7.28,12.89,37.17,0.58,1.64,14.72,12.55,9.53,0.59,0.12,1.62,0.69,37.14,0.69,33.7,2.99,2.47,52.69,0.44,31.76,0.34,2.47,0.5,6.01,37.74,30.66,0.79,32.66,0.96,4.32,0.43,0.29,0.49,0.43,18.51,13.3,25.33,25.49,5.91,7.1,0.22,7.98,0.14,20.78,20.81,1.21,13.96,0.31,2.05,0.46,24.61,40.66,51.66,0.31,0.43,12.97,2.88,0.27,31.66,0.05,8.33,1.52,4.06,0.26,0.14,33.11,0.21,0.16,0.1,1.68,0.1,30.72,0.27,0.18,0.15,50.42,42.87,1.07,1.54,44.58,12.36,20.31,0.47,21.02,16.45,0.04,1.6,27.29,22.33,0.27,0.03,32.17,0.4,0.9,0.09,0.14,0.04,20.13,1.39,17.72,1.22,3.5,3.36,3.6,0.0,0.01,0.01,3.07,17.33,19.69,8.35,11.74,2.16,11.48,12.83,42.28,35.67,6.14,3.28,35.53,10.51,9.13,50.13,15.05,24.37,5.55,22.85,1.16,19.28,31.6,16.27,41.49,0.67,29.1,25.63,6.81,3.09,16.64,18.71,27.16,16.14,9.66,8.61,38.85,3.26,46.87,10.23,7.55,25.45,4.75,16.22,4.49,43.41,7.69,17.26,2.1,14.06,3.07,8.9,14.37,5.24,42.1,30.82,1.84,12.8,0.48,7.13,0.39,13.9,14.21,7.28,12.89,37.17,0.58,1.64,14.72,12.55,9.53,0.59,0.12,1.62,0.69,37.14,0.69,33.7,2.99,2.47,52.69,0.44,31.76,0.34,2.47,0.5,6.01,37.74,30.66,0.79,32.66,0.96,4.32,0.43,0.29,0.49,0.43,18.51,13.3,25.33,25.49,5.91,7.1,0.22,7.98,0.14,20.78,20.81,1.21,13.96,0.31,2.05,0.46,24.61,40.66,51.66,0.31,0.43,12.97,2.88,0.27,31.66,0.05,8.33,1.52,4.06,0.26,0.14,33.11,0.21,0.16,0.1,1.68,0.1,30.72,0.27,0.18,0.15,50.42,42.87,1.07,1.54,44.58,12.36,20.31,0.47,21.02,16.45,0.04,1.6,27.29,22.33,0.27,0.03,32.17,0.4,0.9,0.09,0.14,0.04,20.13,1.39,17.72,1.22,3.5,3.36,3.6,0.0,0.01,0.01],\"z\":[0,0,0,53,0,61,0,0,0,3,0,22,0,0,0,15,12,0,4,9,1,0,23,0,2,0,0,0,0,0,0,0,18,0,0,0,6,0,4,5,0,0,0,0,0,5,0,0,2,13,0,0,0,0,1,0,0,0,0,0,0,0,0,1,0,0,0,0,0,0,0,0,0,0,0,0,0,0,0,3,0,0,0,0,0,0,0,0,0,0,0,0,0,0,0,0,0,3,0,0,0,0,0,0,0,0,0,0,0,0,0,0,0,0,0,0,0,0,0,0,0,0,0,0,0,0,0,0,0,0,0,0,0,0,0,0,0,0,0,0,0,0,0,0,0,0,0,0,0,0,0,0,0,0,0,0,0,0,0,0,0,0,0,1,0,0,0,0,0,0,0,0,0,53,0,61,0,0,0,3,0,22,0,0,0,15,12,0,4,9,1,0,23,0,2,0,0,0,0,0,0,0,18,0,0,0,6,0,4,5,0,0,0,0,0,5,0,0,2,13,0,0,0,0,1,0,0,0,0,0,0,0,0,1,0,0,0,0,0,0,0,0,0,0,0,0,0,0,0,3,0,0,0,0,0,0,0,0,0,0,0,0,0,0,0,0,0,3,0,0,0,0,0,0,0,0,0,0,0,0,0,0,0,0,0,0,0,0,0,0,0,0,0,0,0,0,0,0,0,0,0,0,0,0,0,0,0,0,0,0,0,0,0,0,0,0,0,0,0,0,0,0,0,0,0,0,0,0,0,0,0,0,0,1,0,0,0,0,0,0],\"type\":\"scatter3d\"},{\"hovertemplate\":\"class=%{marker.color}<br>NewCases=%{x}<br>Infection_Risk=%{y}<br>NewDeaths=%{z}<extra></extra>\",\"legendgroup\":\"4\",\"marker\":{\"color\":[4,4,4,4,4,4,4,4,4,4,4,4,4,4,4,4,4,4,4,4,4,4,4,4,4,4,4,4,4,4,4,4],\"coloraxis\":\"coloraxis\",\"symbol\":\"square\"},\"mode\":\"markers\",\"name\":\"4\",\"scene\":\"scene\",\"showlegend\":true,\"x\":[0,15291,0,48245,493,839,46685,12305,0,24892,0,0,0,11710,0,0,0,15291,0,48245,493,839,46685,12305,0,24892,0,0,0,11710,0,0],\"y\":[13.94,12.26,24.69,5.33,15.8,4.32,18.17,42.87,32.98,5.33,39.83,17.97,29.78,16.22,35.98,4.14,13.94,12.26,24.69,5.33,15.8,4.32,18.17,42.87,32.98,5.33,39.83,17.97,29.78,16.22,35.98,4.14],\"z\":[0,287,0,38,0,11,14,17,0,97,0,0,0,74,0,0,0,287,0,38,0,11,14,17,0,97,0,0,0,74,0,0],\"type\":\"scatter3d\"},{\"hovertemplate\":\"class=%{marker.color}<br>NewCases=%{x}<br>Infection_Risk=%{y}<br>NewDeaths=%{z}<extra></extra>\",\"legendgroup\":\"3\",\"marker\":{\"color\":[3,3,3,3,3,3,3,3],\"coloraxis\":\"coloraxis\",\"symbol\":\"x\"},\"mode\":\"markers\",\"name\":\"3\",\"scene\":\"scene\",\"showlegend\":true,\"x\":[0,0,48717,12387,0,0,48717,12387],\"y\":[39.68,24.62,9.98,46.05,39.68,24.62,9.98,46.05],\"z\":[0,0,42,7,0,0,42,7],\"type\":\"scatter3d\"},{\"hovertemplate\":\"class=%{marker.color}<br>NewCases=%{x}<br>Infection_Risk=%{y}<br>NewDeaths=%{z}<extra></extra>\",\"legendgroup\":\"2\",\"marker\":{\"color\":[2,2],\"coloraxis\":\"coloraxis\",\"symbol\":\"cross\"},\"mode\":\"markers\",\"name\":\"2\",\"scene\":\"scene\",\"showlegend\":true,\"x\":[0,73087],\"y\":[25.69,25.78],\"z\":[0,88],\"type\":\"scatter3d\"}],                        {\"template\":{\"data\":{\"bar\":[{\"error_x\":{\"color\":\"#2a3f5f\"},\"error_y\":{\"color\":\"#2a3f5f\"},\"marker\":{\"line\":{\"color\":\"#E5ECF6\",\"width\":0.5},\"pattern\":{\"fillmode\":\"overlay\",\"size\":10,\"solidity\":0.2}},\"type\":\"bar\"}],\"barpolar\":[{\"marker\":{\"line\":{\"color\":\"#E5ECF6\",\"width\":0.5},\"pattern\":{\"fillmode\":\"overlay\",\"size\":10,\"solidity\":0.2}},\"type\":\"barpolar\"}],\"carpet\":[{\"aaxis\":{\"endlinecolor\":\"#2a3f5f\",\"gridcolor\":\"white\",\"linecolor\":\"white\",\"minorgridcolor\":\"white\",\"startlinecolor\":\"#2a3f5f\"},\"baxis\":{\"endlinecolor\":\"#2a3f5f\",\"gridcolor\":\"white\",\"linecolor\":\"white\",\"minorgridcolor\":\"white\",\"startlinecolor\":\"#2a3f5f\"},\"type\":\"carpet\"}],\"choropleth\":[{\"colorbar\":{\"outlinewidth\":0,\"ticks\":\"\"},\"type\":\"choropleth\"}],\"contour\":[{\"colorbar\":{\"outlinewidth\":0,\"ticks\":\"\"},\"colorscale\":[[0.0,\"#0d0887\"],[0.1111111111111111,\"#46039f\"],[0.2222222222222222,\"#7201a8\"],[0.3333333333333333,\"#9c179e\"],[0.4444444444444444,\"#bd3786\"],[0.5555555555555556,\"#d8576b\"],[0.6666666666666666,\"#ed7953\"],[0.7777777777777778,\"#fb9f3a\"],[0.8888888888888888,\"#fdca26\"],[1.0,\"#f0f921\"]],\"type\":\"contour\"}],\"contourcarpet\":[{\"colorbar\":{\"outlinewidth\":0,\"ticks\":\"\"},\"type\":\"contourcarpet\"}],\"heatmap\":[{\"colorbar\":{\"outlinewidth\":0,\"ticks\":\"\"},\"colorscale\":[[0.0,\"#0d0887\"],[0.1111111111111111,\"#46039f\"],[0.2222222222222222,\"#7201a8\"],[0.3333333333333333,\"#9c179e\"],[0.4444444444444444,\"#bd3786\"],[0.5555555555555556,\"#d8576b\"],[0.6666666666666666,\"#ed7953\"],[0.7777777777777778,\"#fb9f3a\"],[0.8888888888888888,\"#fdca26\"],[1.0,\"#f0f921\"]],\"type\":\"heatmap\"}],\"heatmapgl\":[{\"colorbar\":{\"outlinewidth\":0,\"ticks\":\"\"},\"colorscale\":[[0.0,\"#0d0887\"],[0.1111111111111111,\"#46039f\"],[0.2222222222222222,\"#7201a8\"],[0.3333333333333333,\"#9c179e\"],[0.4444444444444444,\"#bd3786\"],[0.5555555555555556,\"#d8576b\"],[0.6666666666666666,\"#ed7953\"],[0.7777777777777778,\"#fb9f3a\"],[0.8888888888888888,\"#fdca26\"],[1.0,\"#f0f921\"]],\"type\":\"heatmapgl\"}],\"histogram\":[{\"marker\":{\"pattern\":{\"fillmode\":\"overlay\",\"size\":10,\"solidity\":0.2}},\"type\":\"histogram\"}],\"histogram2d\":[{\"colorbar\":{\"outlinewidth\":0,\"ticks\":\"\"},\"colorscale\":[[0.0,\"#0d0887\"],[0.1111111111111111,\"#46039f\"],[0.2222222222222222,\"#7201a8\"],[0.3333333333333333,\"#9c179e\"],[0.4444444444444444,\"#bd3786\"],[0.5555555555555556,\"#d8576b\"],[0.6666666666666666,\"#ed7953\"],[0.7777777777777778,\"#fb9f3a\"],[0.8888888888888888,\"#fdca26\"],[1.0,\"#f0f921\"]],\"type\":\"histogram2d\"}],\"histogram2dcontour\":[{\"colorbar\":{\"outlinewidth\":0,\"ticks\":\"\"},\"colorscale\":[[0.0,\"#0d0887\"],[0.1111111111111111,\"#46039f\"],[0.2222222222222222,\"#7201a8\"],[0.3333333333333333,\"#9c179e\"],[0.4444444444444444,\"#bd3786\"],[0.5555555555555556,\"#d8576b\"],[0.6666666666666666,\"#ed7953\"],[0.7777777777777778,\"#fb9f3a\"],[0.8888888888888888,\"#fdca26\"],[1.0,\"#f0f921\"]],\"type\":\"histogram2dcontour\"}],\"mesh3d\":[{\"colorbar\":{\"outlinewidth\":0,\"ticks\":\"\"},\"type\":\"mesh3d\"}],\"parcoords\":[{\"line\":{\"colorbar\":{\"outlinewidth\":0,\"ticks\":\"\"}},\"type\":\"parcoords\"}],\"pie\":[{\"automargin\":true,\"type\":\"pie\"}],\"scatter\":[{\"marker\":{\"colorbar\":{\"outlinewidth\":0,\"ticks\":\"\"}},\"type\":\"scatter\"}],\"scatter3d\":[{\"line\":{\"colorbar\":{\"outlinewidth\":0,\"ticks\":\"\"}},\"marker\":{\"colorbar\":{\"outlinewidth\":0,\"ticks\":\"\"}},\"type\":\"scatter3d\"}],\"scattercarpet\":[{\"marker\":{\"colorbar\":{\"outlinewidth\":0,\"ticks\":\"\"}},\"type\":\"scattercarpet\"}],\"scattergeo\":[{\"marker\":{\"colorbar\":{\"outlinewidth\":0,\"ticks\":\"\"}},\"type\":\"scattergeo\"}],\"scattergl\":[{\"marker\":{\"colorbar\":{\"outlinewidth\":0,\"ticks\":\"\"}},\"type\":\"scattergl\"}],\"scattermapbox\":[{\"marker\":{\"colorbar\":{\"outlinewidth\":0,\"ticks\":\"\"}},\"type\":\"scattermapbox\"}],\"scatterpolar\":[{\"marker\":{\"colorbar\":{\"outlinewidth\":0,\"ticks\":\"\"}},\"type\":\"scatterpolar\"}],\"scatterpolargl\":[{\"marker\":{\"colorbar\":{\"outlinewidth\":0,\"ticks\":\"\"}},\"type\":\"scatterpolargl\"}],\"scatterternary\":[{\"marker\":{\"colorbar\":{\"outlinewidth\":0,\"ticks\":\"\"}},\"type\":\"scatterternary\"}],\"surface\":[{\"colorbar\":{\"outlinewidth\":0,\"ticks\":\"\"},\"colorscale\":[[0.0,\"#0d0887\"],[0.1111111111111111,\"#46039f\"],[0.2222222222222222,\"#7201a8\"],[0.3333333333333333,\"#9c179e\"],[0.4444444444444444,\"#bd3786\"],[0.5555555555555556,\"#d8576b\"],[0.6666666666666666,\"#ed7953\"],[0.7777777777777778,\"#fb9f3a\"],[0.8888888888888888,\"#fdca26\"],[1.0,\"#f0f921\"]],\"type\":\"surface\"}],\"table\":[{\"cells\":{\"fill\":{\"color\":\"#EBF0F8\"},\"line\":{\"color\":\"white\"}},\"header\":{\"fill\":{\"color\":\"#C8D4E3\"},\"line\":{\"color\":\"white\"}},\"type\":\"table\"}]},\"layout\":{\"annotationdefaults\":{\"arrowcolor\":\"#2a3f5f\",\"arrowhead\":0,\"arrowwidth\":1},\"autotypenumbers\":\"strict\",\"coloraxis\":{\"colorbar\":{\"outlinewidth\":0,\"ticks\":\"\"}},\"colorscale\":{\"diverging\":[[0,\"#8e0152\"],[0.1,\"#c51b7d\"],[0.2,\"#de77ae\"],[0.3,\"#f1b6da\"],[0.4,\"#fde0ef\"],[0.5,\"#f7f7f7\"],[0.6,\"#e6f5d0\"],[0.7,\"#b8e186\"],[0.8,\"#7fbc41\"],[0.9,\"#4d9221\"],[1,\"#276419\"]],\"sequential\":[[0.0,\"#0d0887\"],[0.1111111111111111,\"#46039f\"],[0.2222222222222222,\"#7201a8\"],[0.3333333333333333,\"#9c179e\"],[0.4444444444444444,\"#bd3786\"],[0.5555555555555556,\"#d8576b\"],[0.6666666666666666,\"#ed7953\"],[0.7777777777777778,\"#fb9f3a\"],[0.8888888888888888,\"#fdca26\"],[1.0,\"#f0f921\"]],\"sequentialminus\":[[0.0,\"#0d0887\"],[0.1111111111111111,\"#46039f\"],[0.2222222222222222,\"#7201a8\"],[0.3333333333333333,\"#9c179e\"],[0.4444444444444444,\"#bd3786\"],[0.5555555555555556,\"#d8576b\"],[0.6666666666666666,\"#ed7953\"],[0.7777777777777778,\"#fb9f3a\"],[0.8888888888888888,\"#fdca26\"],[1.0,\"#f0f921\"]]},\"colorway\":[\"#636efa\",\"#EF553B\",\"#00cc96\",\"#ab63fa\",\"#FFA15A\",\"#19d3f3\",\"#FF6692\",\"#B6E880\",\"#FF97FF\",\"#FECB52\"],\"font\":{\"color\":\"#2a3f5f\"},\"geo\":{\"bgcolor\":\"white\",\"lakecolor\":\"white\",\"landcolor\":\"#E5ECF6\",\"showlakes\":true,\"showland\":true,\"subunitcolor\":\"white\"},\"hoverlabel\":{\"align\":\"left\"},\"hovermode\":\"closest\",\"mapbox\":{\"style\":\"light\"},\"paper_bgcolor\":\"white\",\"plot_bgcolor\":\"#E5ECF6\",\"polar\":{\"angularaxis\":{\"gridcolor\":\"white\",\"linecolor\":\"white\",\"ticks\":\"\"},\"bgcolor\":\"#E5ECF6\",\"radialaxis\":{\"gridcolor\":\"white\",\"linecolor\":\"white\",\"ticks\":\"\"}},\"scene\":{\"xaxis\":{\"backgroundcolor\":\"#E5ECF6\",\"gridcolor\":\"white\",\"gridwidth\":2,\"linecolor\":\"white\",\"showbackground\":true,\"ticks\":\"\",\"zerolinecolor\":\"white\"},\"yaxis\":{\"backgroundcolor\":\"#E5ECF6\",\"gridcolor\":\"white\",\"gridwidth\":2,\"linecolor\":\"white\",\"showbackground\":true,\"ticks\":\"\",\"zerolinecolor\":\"white\"},\"zaxis\":{\"backgroundcolor\":\"#E5ECF6\",\"gridcolor\":\"white\",\"gridwidth\":2,\"linecolor\":\"white\",\"showbackground\":true,\"ticks\":\"\",\"zerolinecolor\":\"white\"}},\"shapedefaults\":{\"line\":{\"color\":\"#2a3f5f\"}},\"ternary\":{\"aaxis\":{\"gridcolor\":\"white\",\"linecolor\":\"white\",\"ticks\":\"\"},\"baxis\":{\"gridcolor\":\"white\",\"linecolor\":\"white\",\"ticks\":\"\"},\"bgcolor\":\"#E5ECF6\",\"caxis\":{\"gridcolor\":\"white\",\"linecolor\":\"white\",\"ticks\":\"\"}},\"title\":{\"x\":0.05},\"xaxis\":{\"automargin\":true,\"gridcolor\":\"white\",\"linecolor\":\"white\",\"ticks\":\"\",\"title\":{\"standoff\":15},\"zerolinecolor\":\"white\",\"zerolinewidth\":2},\"yaxis\":{\"automargin\":true,\"gridcolor\":\"white\",\"linecolor\":\"white\",\"ticks\":\"\",\"title\":{\"standoff\":15},\"zerolinecolor\":\"white\",\"zerolinewidth\":2}}},\"scene\":{\"domain\":{\"x\":[0.0,1.0],\"y\":[0.0,1.0]},\"xaxis\":{\"title\":{\"text\":\"NewCases\"}},\"yaxis\":{\"title\":{\"text\":\"Infection_Risk\"}},\"zaxis\":{\"title\":{\"text\":\"NewDeaths\"}}},\"coloraxis\":{\"colorbar\":{\"title\":{\"text\":\"class\"}},\"colorscale\":[[0.0,\"#0d0887\"],[0.1111111111111111,\"#46039f\"],[0.2222222222222222,\"#7201a8\"],[0.3333333333333333,\"#9c179e\"],[0.4444444444444444,\"#bd3786\"],[0.5555555555555556,\"#d8576b\"],[0.6666666666666666,\"#ed7953\"],[0.7777777777777778,\"#fb9f3a\"],[0.8888888888888888,\"#fdca26\"],[1.0,\"#f0f921\"]]},\"legend\":{\"title\":{\"text\":\"class\"},\"tracegroupgap\":0,\"x\":0,\"y\":1},\"margin\":{\"t\":60}},                        {\"responsive\": true}                    ).then(function(){\n",
       "                            \n",
       "var gd = document.getElementById('321dcfef-065a-42b6-b474-61cece2a26ed');\n",
       "var x = new MutationObserver(function (mutations, observer) {{\n",
       "        var display = window.getComputedStyle(gd).display;\n",
       "        if (!display || display === 'none') {{\n",
       "            console.log([gd, 'removed!']);\n",
       "            Plotly.purge(gd);\n",
       "            observer.disconnect();\n",
       "        }}\n",
       "}});\n",
       "\n",
       "// Listen for the removal of the full notebook cells\n",
       "var notebookContainer = gd.closest('#notebook-container');\n",
       "if (notebookContainer) {{\n",
       "    x.observe(notebookContainer, {childList: true});\n",
       "}}\n",
       "\n",
       "// Listen for the clearing of the current output cell\n",
       "var outputEl = gd.closest('.output');\n",
       "if (outputEl) {{\n",
       "    x.observe(outputEl, {childList: true});\n",
       "}}\n",
       "\n",
       "                        })                };                });            </script>        </div>"
      ]
     },
     "metadata": {},
     "output_type": "display_data"
    }
   ],
   "source": [
    "fig = px.scatter_3d(\n",
    "    covid_data_df,\n",
    "    x=\"NewCases\",\n",
    "    y=\"Infection_Risk\",\n",
    "    z=\"NewDeaths\",\n",
    "    color=\"class\",\n",
    "    symbol=\"class\",\n",
    ")\n",
    "fig.update_layout(legend=dict(x=0, y=1))\n",
    "fig.show()"
   ]
  },
  {
   "cell_type": "markdown",
   "metadata": {},
   "source": [
    "## 5 clusters"
   ]
  },
  {
   "cell_type": "code",
   "execution_count": 117,
   "metadata": {},
   "outputs": [
    {
     "data": {
      "text/plain": [
       "KMeans(n_clusters=5, random_state=0)"
      ]
     },
     "execution_count": 117,
     "metadata": {},
     "output_type": "execute_result"
    }
   ],
   "source": [
    "#INITIALIZING CLUSTERING TO 6 AS SHOWN IN THE ELBOW CURVE\n",
    "model = KMeans(n_clusters=5, random_state=0)\n",
    "model"
   ]
  },
  {
   "cell_type": "code",
   "execution_count": 118,
   "metadata": {},
   "outputs": [
    {
     "data": {
      "text/plain": [
       "KMeans(n_clusters=5, random_state=0)"
      ]
     },
     "execution_count": 118,
     "metadata": {},
     "output_type": "execute_result"
    }
   ],
   "source": [
    "# Fitting model\n",
    "model.fit(covid_data_df)"
   ]
  },
  {
   "cell_type": "code",
   "execution_count": 119,
   "metadata": {},
   "outputs": [
    {
     "name": "stdout",
     "output_type": "stream",
     "text": [
      "[1 0 4 3 2 4 0 3 4 3 0 3 0 4 0 0 4 4 0 4 0 0 4 4 0 4 0 0 0 0 0 4 4 4 0 0 0\n",
      " 0 0 0 0 0 0 0 0 0 0 0 0 0 0 0 0 0 0 0 0 0 0 0 4 0 0 0 0 0 0 0 0 0 0 0 0 0\n",
      " 0 0 0 0 0 0 0 0 4 0 4 0 0 0 0 0 0 0 0 0 0 0 0 0 0 0 0 0 0 0 0 0 0 0 0 0 0\n",
      " 0 0 0 0 0 0 0 0 0 0 0 0 0 0 0 0 0 0 0 0 0 0 0 0 0 0 0 0 0 0 0 0 0 0 0 0 0\n",
      " 0 0 0 0 0 0 0 0 0 0 0 0 0 0 0 0 0 0 0 0 0 0 0 0 0 0 0 0 0 0 0 0 0 0 0 0 0\n",
      " 0 0 0 0 0 0 0 1 0 4 3 2 4 0 3 4 3 0 3 0 4 0 0 4 4 0 4 0 0 4 4 0 4 0 0 0 0\n",
      " 0 4 4 4 0 0 0 0 0 0 0 0 0 0 0 0 0 0 0 0 0 0 0 0 0 0 0 0 0 0 4 0 0 0 0 0 0\n",
      " 0 0 0 0 0 0 0 0 0 0 0 0 0 0 0 4 0 4 0 0 0 0 0 0 0 0 0 0 0 0 0 0 0 0 0 0 0\n",
      " 0 0 0 0 0 0 0 0 0 0 0 0 0 0 0 0 0 0 0 0 0 0 0 0 0 0 0 0 0 0 0 0 0 0 0 0 0\n",
      " 0 0 0 0 0 0 0 0 0 0 0 0 0 0 0 0 0 0 0 0 0 0 0 0 0 0 0 0 0 0 0 0 0 0 0 0 0\n",
      " 0 0 0 0 0 0 0 0 0 0 0 0 0 0]\n"
     ]
    }
   ],
   "source": [
    "# Get the predictions\n",
    "predictions = model.predict(covid_data_df)\n",
    "print(predictions)"
   ]
  },
  {
   "cell_type": "code",
   "execution_count": 120,
   "metadata": {},
   "outputs": [
    {
     "data": {
      "text/html": [
       "<div>\n",
       "<style scoped>\n",
       "    .dataframe tbody tr th:only-of-type {\n",
       "        vertical-align: middle;\n",
       "    }\n",
       "\n",
       "    .dataframe tbody tr th {\n",
       "        vertical-align: top;\n",
       "    }\n",
       "\n",
       "    .dataframe thead th {\n",
       "        text-align: right;\n",
       "    }\n",
       "</style>\n",
       "<table border=\"1\" class=\"dataframe\">\n",
       "  <thead>\n",
       "    <tr style=\"text-align: right;\">\n",
       "      <th></th>\n",
       "      <th>Infection_Risk</th>\n",
       "      <th>Case_Fatality_Rate</th>\n",
       "      <th>Recovery_Proporation</th>\n",
       "      <th>NewCases</th>\n",
       "      <th>NewDeaths</th>\n",
       "      <th>NewRecovered</th>\n",
       "      <th>ActiveCases</th>\n",
       "      <th>Serious_Critical</th>\n",
       "      <th>class</th>\n",
       "    </tr>\n",
       "    <tr>\n",
       "      <th>Country</th>\n",
       "      <th></th>\n",
       "      <th></th>\n",
       "      <th></th>\n",
       "      <th></th>\n",
       "      <th></th>\n",
       "      <th></th>\n",
       "      <th></th>\n",
       "      <th></th>\n",
       "      <th></th>\n",
       "    </tr>\n",
       "  </thead>\n",
       "  <tbody>\n",
       "    <tr>\n",
       "      <th>USA</th>\n",
       "      <td>24.47</td>\n",
       "      <td>1.23</td>\n",
       "      <td>80.26</td>\n",
       "      <td>0</td>\n",
       "      <td>0</td>\n",
       "      <td>0</td>\n",
       "      <td>15147900</td>\n",
       "      <td>1822</td>\n",
       "      <td>1</td>\n",
       "    </tr>\n",
       "    <tr>\n",
       "      <th>India</th>\n",
       "      <td>3.07</td>\n",
       "      <td>1.21</td>\n",
       "      <td>98.76</td>\n",
       "      <td>0</td>\n",
       "      <td>0</td>\n",
       "      <td>0</td>\n",
       "      <td>12567</td>\n",
       "      <td>8944</td>\n",
       "      <td>0</td>\n",
       "    </tr>\n",
       "    <tr>\n",
       "      <th>Brazil</th>\n",
       "      <td>13.94</td>\n",
       "      <td>2.20</td>\n",
       "      <td>95.95</td>\n",
       "      <td>0</td>\n",
       "      <td>0</td>\n",
       "      <td>0</td>\n",
       "      <td>554619</td>\n",
       "      <td>8318</td>\n",
       "      <td>4</td>\n",
       "    </tr>\n",
       "    <tr>\n",
       "      <th>France</th>\n",
       "      <td>39.68</td>\n",
       "      <td>0.55</td>\n",
       "      <td>89.97</td>\n",
       "      <td>0</td>\n",
       "      <td>0</td>\n",
       "      <td>0</td>\n",
       "      <td>2464855</td>\n",
       "      <td>1486</td>\n",
       "      <td>3</td>\n",
       "    </tr>\n",
       "    <tr>\n",
       "      <th>Germany</th>\n",
       "      <td>25.69</td>\n",
       "      <td>0.60</td>\n",
       "      <td>79.26</td>\n",
       "      <td>0</td>\n",
       "      <td>0</td>\n",
       "      <td>183900</td>\n",
       "      <td>4359212</td>\n",
       "      <td>2494</td>\n",
       "      <td>2</td>\n",
       "    </tr>\n",
       "  </tbody>\n",
       "</table>\n",
       "</div>"
      ],
      "text/plain": [
       "         Infection_Risk  Case_Fatality_Rate  Recovery_Proporation  NewCases  \\\n",
       "Country                                                                       \n",
       "USA               24.47                1.23                 80.26         0   \n",
       "India              3.07                1.21                 98.76         0   \n",
       "Brazil            13.94                2.20                 95.95         0   \n",
       "France            39.68                0.55                 89.97         0   \n",
       "Germany           25.69                0.60                 79.26         0   \n",
       "\n",
       "         NewDeaths  NewRecovered  ActiveCases  Serious_Critical  class  \n",
       "Country                                                                 \n",
       "USA              0             0     15147900              1822      1  \n",
       "India            0             0        12567              8944      0  \n",
       "Brazil           0             0       554619              8318      4  \n",
       "France           0             0      2464855              1486      3  \n",
       "Germany          0        183900      4359212              2494      2  "
      ]
     },
     "execution_count": 120,
     "metadata": {},
     "output_type": "execute_result"
    }
   ],
   "source": [
    "# Add a new class column to the covid_data\n",
    "covid_data_df[\"class\"] = model.labels_\n",
    "covid_data_df.head()"
   ]
  },
  {
   "cell_type": "code",
   "execution_count": 121,
   "metadata": {},
   "outputs": [],
   "source": [
    "cluster5_apr_df = covid_data_df"
   ]
  },
  {
   "cell_type": "code",
   "execution_count": 122,
   "metadata": {},
   "outputs": [],
   "source": [
    "def upload_df(data,i):\n",
    "    s3 = boto3.client('s3', aws_access_key_id=ACCESS_KEY_ID, aws_secret_access_key=ACCESS_SECRET_KEY)\n",
    "    csv_buf=StringIO()\n",
    "    data.to_csv(csv_buf, header=True, index=False)\n",
    "    csv_buf.seek(0)\n",
    "    s3.put_object(Bucket=BUCKET_NAME, Body=csv_buf.getvalue(), Key='datasets/'+i)\n",
    "\n",
    "upload_df(cluster5_apr_df,'cluster5_apr.csv')"
   ]
  },
  {
   "cell_type": "code",
   "execution_count": 27,
   "metadata": {},
   "outputs": [],
   "source": [
    "import plotly.express as px\n",
    "import hvplot.pandas"
   ]
  },
  {
   "cell_type": "code",
   "execution_count": 28,
   "metadata": {},
   "outputs": [
    {
     "data": {},
     "metadata": {},
     "output_type": "display_data"
    },
    {
     "data": {
      "application/vnd.holoviews_exec.v0+json": "",
      "text/html": [
       "<div id='2557'>\n",
       "\n",
       "\n",
       "\n",
       "\n",
       "\n",
       "  <div class=\"bk-root\" id=\"450bcf4a-3688-496d-8917-a2af771206d7\" data-root-id=\"2557\"></div>\n",
       "</div>\n",
       "<script type=\"application/javascript\">(function(root) {\n",
       "  function embed_document(root) {\n",
       "    var docs_json = {\"993db267-b906-4693-b6d2-93cd0ac104b3\":{\"defs\":[{\"extends\":null,\"module\":null,\"name\":\"ReactiveHTML1\",\"overrides\":[],\"properties\":[]},{\"extends\":null,\"module\":null,\"name\":\"FlexBox1\",\"overrides\":[],\"properties\":[{\"default\":\"flex-start\",\"kind\":null,\"name\":\"align_content\"},{\"default\":\"flex-start\",\"kind\":null,\"name\":\"align_items\"},{\"default\":\"row\",\"kind\":null,\"name\":\"flex_direction\"},{\"default\":\"wrap\",\"kind\":null,\"name\":\"flex_wrap\"},{\"default\":\"flex-start\",\"kind\":null,\"name\":\"justify_content\"}]},{\"extends\":null,\"module\":null,\"name\":\"TemplateActions1\",\"overrides\":[],\"properties\":[{\"default\":0,\"kind\":null,\"name\":\"open_modal\"},{\"default\":0,\"kind\":null,\"name\":\"close_modal\"}]},{\"extends\":null,\"module\":null,\"name\":\"MaterialTemplateActions1\",\"overrides\":[],\"properties\":[{\"default\":0,\"kind\":null,\"name\":\"open_modal\"},{\"default\":0,\"kind\":null,\"name\":\"close_modal\"}]}],\"roots\":{\"references\":[{\"attributes\":{},\"id\":\"2601\",\"type\":\"AllLabels\"},{\"attributes\":{},\"id\":\"2718\",\"type\":\"UnionRenderers\"},{\"attributes\":{\"angle\":{\"value\":0.0},\"fill_alpha\":{\"value\":1.0},\"fill_color\":{\"value\":\"#fc4f30\"},\"hatch_alpha\":{\"value\":1.0},\"hatch_color\":{\"value\":\"#fc4f30\"},\"hatch_scale\":{\"value\":12.0},\"hatch_weight\":{\"value\":1.0},\"line_alpha\":{\"value\":1.0},\"line_cap\":{\"value\":\"butt\"},\"line_color\":{\"value\":\"#fc4f30\"},\"line_dash\":{\"value\":[]},\"line_dash_offset\":{\"value\":0},\"line_join\":{\"value\":\"bevel\"},\"line_width\":{\"value\":1},\"marker\":{\"value\":\"circle\"},\"size\":{\"value\":5.477225575051661},\"x\":{\"field\":\"Case_Fatality_Rate\"},\"y\":{\"field\":\"Infection_Risk\"}},\"id\":\"2644\",\"type\":\"Scatter\"},{\"attributes\":{},\"id\":\"2571\",\"type\":\"LinearScale\"},{\"attributes\":{\"fill_alpha\":{\"value\":0.1},\"fill_color\":{\"value\":\"#6d904f\"},\"hatch_alpha\":{\"value\":0.1},\"hatch_color\":{\"value\":\"#6d904f\"},\"line_alpha\":{\"value\":0.1},\"line_color\":{\"value\":\"#6d904f\"},\"size\":{\"value\":5.477225575051661},\"x\":{\"field\":\"Case_Fatality_Rate\"},\"y\":{\"field\":\"Infection_Risk\"}},\"id\":\"2673\",\"type\":\"Scatter\"},{\"attributes\":{},\"id\":\"2603\",\"type\":\"Selection\"},{\"attributes\":{\"source\":{\"id\":\"2669\"}},\"id\":\"2676\",\"type\":\"CDSView\"},{\"attributes\":{\"fill_alpha\":{\"value\":0.2},\"fill_color\":{\"value\":\"#30a2da\"},\"hatch_alpha\":{\"value\":0.2},\"hatch_color\":{\"value\":\"#30a2da\"},\"line_alpha\":{\"value\":0.2},\"line_color\":{\"value\":\"#30a2da\"},\"size\":{\"value\":5.477225575051661},\"x\":{\"field\":\"Case_Fatality_Rate\"},\"y\":{\"field\":\"Infection_Risk\"}},\"id\":\"2607\",\"type\":\"Scatter\"},{\"attributes\":{\"fill_color\":{\"value\":\"#e5ae38\"},\"hatch_color\":{\"value\":\"#e5ae38\"},\"line_color\":{\"value\":\"#e5ae38\"},\"size\":{\"value\":5.477225575051661},\"x\":{\"field\":\"Case_Fatality_Rate\"},\"y\":{\"field\":\"Infection_Risk\"}},\"id\":\"2648\",\"type\":\"Scatter\"},{\"attributes\":{\"fill_alpha\":{\"value\":0.2},\"fill_color\":{\"value\":\"#6d904f\"},\"hatch_alpha\":{\"value\":0.2},\"hatch_color\":{\"value\":\"#6d904f\"},\"line_alpha\":{\"value\":0.2},\"line_color\":{\"value\":\"#6d904f\"},\"size\":{\"value\":5.477225575051661},\"x\":{\"field\":\"Case_Fatality_Rate\"},\"y\":{\"field\":\"Infection_Risk\"}},\"id\":\"2674\",\"type\":\"Scatter\"},{\"attributes\":{\"label\":{\"value\":\"0\"},\"renderers\":[{\"id\":\"2608\"}]},\"id\":\"2621\",\"type\":\"LegendItem\"},{\"attributes\":{\"label\":{\"value\":\"3\"},\"renderers\":[{\"id\":\"2675\"}]},\"id\":\"2693\",\"type\":\"LegendItem\"},{\"attributes\":{\"end\":57.958999999999996,\"reset_end\":57.958999999999996,\"reset_start\":-5.269,\"start\":-5.269,\"tags\":[[[\"Infection_Risk\",\"Infection_Risk\",null]]]},\"id\":\"2560\",\"type\":\"Range1d\"},{\"attributes\":{\"source\":{\"id\":\"2602\"}},\"id\":\"2609\",\"type\":\"CDSView\"},{\"attributes\":{\"coordinates\":null,\"data_source\":{\"id\":\"2669\"},\"glyph\":{\"id\":\"2672\"},\"group\":null,\"hover_glyph\":null,\"muted_glyph\":{\"id\":\"2674\"},\"nonselection_glyph\":{\"id\":\"2673\"},\"selection_glyph\":{\"id\":\"2694\"},\"view\":{\"id\":\"2676\"}},\"id\":\"2675\",\"type\":\"GlyphRenderer\"},{\"attributes\":{\"end\":18.927857142857142,\"reset_end\":18.927857142857142,\"reset_start\":-0.7778571428571428,\"start\":-0.7778571428571428,\"tags\":[[[\"Case_Fatality_Rate\",\"Case_Fatality_Rate\",null]]]},\"id\":\"2559\",\"type\":\"Range1d\"},{\"attributes\":{\"fill_color\":{\"value\":\"#30a2da\"},\"hatch_color\":{\"value\":\"#30a2da\"},\"line_color\":{\"value\":\"#30a2da\"},\"size\":{\"value\":5.477225575051661},\"x\":{\"field\":\"Case_Fatality_Rate\"},\"y\":{\"field\":\"Infection_Risk\"}},\"id\":\"2605\",\"type\":\"Scatter\"},{\"attributes\":{},\"id\":\"2597\",\"type\":\"BasicTickFormatter\"},{\"attributes\":{},\"id\":\"2690\",\"type\":\"UnionRenderers\"},{\"attributes\":{\"coordinates\":null,\"data_source\":{\"id\":\"2602\"},\"glyph\":{\"id\":\"2605\"},\"group\":null,\"hover_glyph\":null,\"muted_glyph\":{\"id\":\"2607\"},\"nonselection_glyph\":{\"id\":\"2606\"},\"selection_glyph\":{\"id\":\"2622\"},\"view\":{\"id\":\"2609\"}},\"id\":\"2608\",\"type\":\"GlyphRenderer\"},{\"attributes\":{\"angle\":{\"value\":0.0},\"fill_alpha\":{\"value\":1.0},\"fill_color\":{\"value\":\"#30a2da\"},\"hatch_alpha\":{\"value\":1.0},\"hatch_color\":{\"value\":\"#30a2da\"},\"hatch_scale\":{\"value\":12.0},\"hatch_weight\":{\"value\":1.0},\"line_alpha\":{\"value\":1.0},\"line_cap\":{\"value\":\"butt\"},\"line_color\":{\"value\":\"#30a2da\"},\"line_dash\":{\"value\":[]},\"line_dash_offset\":{\"value\":0},\"line_join\":{\"value\":\"bevel\"},\"line_width\":{\"value\":1},\"marker\":{\"value\":\"circle\"},\"size\":{\"value\":5.477225575051661},\"x\":{\"field\":\"Case_Fatality_Rate\"},\"y\":{\"field\":\"Infection_Risk\"}},\"id\":\"2622\",\"type\":\"Scatter\"},{\"attributes\":{\"label\":{\"value\":\"2\"},\"renderers\":[{\"id\":\"2651\"}]},\"id\":\"2667\",\"type\":\"LegendItem\"},{\"attributes\":{\"data\":{\"Case_Fatality_Rate\":{\"__ndarray__\":\"rkfhehSu8z+uR+F6FK7zPw==\",\"dtype\":\"float64\",\"order\":\"little\",\"shape\":[2]},\"Infection_Risk\":{\"__ndarray__\":\"uB6F61F4OEC4HoXrUXg4QA==\",\"dtype\":\"float64\",\"order\":\"little\",\"shape\":[2]},\"class\":[1,1]},\"selected\":{\"id\":\"2624\"},\"selection_policy\":{\"id\":\"2640\"}},\"id\":\"2623\",\"type\":\"ColumnDataSource\"},{\"attributes\":{\"data\":{\"Case_Fatality_Rate\":{\"__ndarray__\":\"MzMzMzMz4z8zMzMzMzPjPw==\",\"dtype\":\"float64\",\"order\":\"little\",\"shape\":[2]},\"Infection_Risk\":{\"__ndarray__\":\"cT0K16OwOUBI4XoUrsc5QA==\",\"dtype\":\"float64\",\"order\":\"little\",\"shape\":[2]},\"class\":[2,2]},\"selected\":{\"id\":\"2646\"},\"selection_policy\":{\"id\":\"2664\"}},\"id\":\"2645\",\"type\":\"ColumnDataSource\"},{\"attributes\":{\"callback\":null,\"renderers\":[{\"id\":\"2608\"},{\"id\":\"2629\"},{\"id\":\"2651\"},{\"id\":\"2675\"},{\"id\":\"2701\"}],\"tags\":[\"hv_created\"],\"tooltips\":[[\"class\",\"@{class}\"],[\"Case_Fatality_Rate\",\"@{Case_Fatality_Rate}\"],[\"Infection_Risk\",\"@{Infection_Risk}\"]]},\"id\":\"2561\",\"type\":\"HoverTool\"},{\"attributes\":{},\"id\":\"2576\",\"type\":\"BasicTicker\"},{\"attributes\":{},\"id\":\"2646\",\"type\":\"Selection\"},{\"attributes\":{\"fill_alpha\":{\"value\":0.1},\"fill_color\":{\"value\":\"#30a2da\"},\"hatch_alpha\":{\"value\":0.1},\"hatch_color\":{\"value\":\"#30a2da\"},\"line_alpha\":{\"value\":0.1},\"line_color\":{\"value\":\"#30a2da\"},\"size\":{\"value\":5.477225575051661},\"x\":{\"field\":\"Case_Fatality_Rate\"},\"y\":{\"field\":\"Infection_Risk\"}},\"id\":\"2606\",\"type\":\"Scatter\"},{\"attributes\":{\"fill_color\":{\"value\":\"#fc4f30\"},\"hatch_color\":{\"value\":\"#fc4f30\"},\"line_color\":{\"value\":\"#fc4f30\"},\"size\":{\"value\":5.477225575051661},\"x\":{\"field\":\"Case_Fatality_Rate\"},\"y\":{\"field\":\"Infection_Risk\"}},\"id\":\"2626\",\"type\":\"Scatter\"},{\"attributes\":{\"click_policy\":\"mute\",\"coordinates\":null,\"group\":null,\"items\":[{\"id\":\"2621\"},{\"id\":\"2643\"},{\"id\":\"2667\"},{\"id\":\"2693\"},{\"id\":\"2721\"}],\"location\":[0,0],\"title\":\"class\"},\"id\":\"2620\",\"type\":\"Legend\"},{\"attributes\":{\"fill_alpha\":{\"value\":0.2},\"fill_color\":{\"value\":\"#e5ae38\"},\"hatch_alpha\":{\"value\":0.2},\"hatch_color\":{\"value\":\"#e5ae38\"},\"line_alpha\":{\"value\":0.2},\"line_color\":{\"value\":\"#e5ae38\"},\"size\":{\"value\":5.477225575051661},\"x\":{\"field\":\"Case_Fatality_Rate\"},\"y\":{\"field\":\"Infection_Risk\"}},\"id\":\"2650\",\"type\":\"Scatter\"},{\"attributes\":{\"below\":[{\"id\":\"2575\"}],\"center\":[{\"id\":\"2578\"},{\"id\":\"2582\"}],\"height\":300,\"left\":[{\"id\":\"2579\"}],\"margin\":[5,5,5,5],\"min_border_bottom\":10,\"min_border_left\":10,\"min_border_right\":10,\"min_border_top\":10,\"renderers\":[{\"id\":\"2608\"},{\"id\":\"2629\"},{\"id\":\"2651\"},{\"id\":\"2675\"},{\"id\":\"2701\"}],\"right\":[{\"id\":\"2620\"}],\"sizing_mode\":\"fixed\",\"title\":{\"id\":\"2567\"},\"toolbar\":{\"id\":\"2589\"},\"width\":700,\"x_range\":{\"id\":\"2559\"},\"x_scale\":{\"id\":\"2571\"},\"y_range\":{\"id\":\"2560\"},\"y_scale\":{\"id\":\"2573\"}},\"id\":\"2566\",\"subtype\":\"Figure\",\"type\":\"Plot\"},{\"attributes\":{\"data\":{\"Case_Fatality_Rate\":{\"__ndarray__\":\"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\",\"dtype\":\"float64\",\"order\":\"little\",\"shape\":[340]},\"Infection_Risk\":{\"__ndarray__\":\"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\",\"dtype\":\"float64\",\"order\":\"little\",\"shape\":[340]},\"class\":[0,0,0,0,0,0,0,0,0,0,0,0,0,0,0,0,0,0,0,0,0,0,0,0,0,0,0,0,0,0,0,0,0,0,0,0,0,0,0,0,0,0,0,0,0,0,0,0,0,0,0,0,0,0,0,0,0,0,0,0,0,0,0,0,0,0,0,0,0,0,0,0,0,0,0,0,0,0,0,0,0,0,0,0,0,0,0,0,0,0,0,0,0,0,0,0,0,0,0,0,0,0,0,0,0,0,0,0,0,0,0,0,0,0,0,0,0,0,0,0,0,0,0,0,0,0,0,0,0,0,0,0,0,0,0,0,0,0,0,0,0,0,0,0,0,0,0,0,0,0,0,0,0,0,0,0,0,0,0,0,0,0,0,0,0,0,0,0,0,0,0,0,0,0,0,0,0,0,0,0,0,0,0,0,0,0,0,0,0,0,0,0,0,0,0,0,0,0,0,0,0,0,0,0,0,0,0,0,0,0,0,0,0,0,0,0,0,0,0,0,0,0,0,0,0,0,0,0,0,0,0,0,0,0,0,0,0,0,0,0,0,0,0,0,0,0,0,0,0,0,0,0,0,0,0,0,0,0,0,0,0,0,0,0,0,0,0,0,0,0,0,0,0,0,0,0,0,0,0,0,0,0,0,0,0,0,0,0,0,0,0,0,0,0,0,0,0,0,0,0,0,0,0,0,0,0,0,0,0,0,0,0,0,0,0,0,0,0,0,0,0,0,0,0,0,0,0,0,0,0,0,0,0,0,0,0,0,0,0,0]},\"selected\":{\"id\":\"2603\"},\"selection_policy\":{\"id\":\"2617\"}},\"id\":\"2602\",\"type\":\"ColumnDataSource\"},{\"attributes\":{\"coordinates\":null,\"group\":null,\"text_color\":\"black\",\"text_font_size\":\"12pt\"},\"id\":\"2567\",\"type\":\"Title\"},{\"attributes\":{},\"id\":\"2584\",\"type\":\"PanTool\"},{\"attributes\":{\"label\":{\"value\":\"1\"},\"renderers\":[{\"id\":\"2629\"}]},\"id\":\"2643\",\"type\":\"LegendItem\"},{\"attributes\":{\"data\":{\"Case_Fatality_Rate\":{\"__ndarray__\":\"mpmZmZmZ4T9I4XoUrkfxP4XrUbgehds/7FG4HoXr0T+amZmZmZnhP0jhehSuR/E/hetRuB6F2z/sUbgehevRPw==\",\"dtype\":\"float64\",\"order\":\"little\",\"shape\":[8]},\"Infection_Risk\":{\"__ndarray__\":\"16NwPQrXQ0AfhetRuJ44QPYoXI/C9SNAZmZmZmYGR0DXo3A9CtdDQB+F61G4njhA9ihcj8L1I0BmZmZmZgZHQA==\",\"dtype\":\"float64\",\"order\":\"little\",\"shape\":[8]},\"class\":[3,3,3,3,3,3,3,3]},\"selected\":{\"id\":\"2670\"},\"selection_policy\":{\"id\":\"2690\"}},\"id\":\"2669\",\"type\":\"ColumnDataSource\"},{\"attributes\":{\"margin\":[5,5,5,5],\"name\":\"HSpacer05115\",\"sizing_mode\":\"stretch_width\"},\"id\":\"2558\",\"type\":\"Spacer\"},{\"attributes\":{\"fill_alpha\":{\"value\":0.1},\"fill_color\":{\"value\":\"#e5ae38\"},\"hatch_alpha\":{\"value\":0.1},\"hatch_color\":{\"value\":\"#e5ae38\"},\"line_alpha\":{\"value\":0.1},\"line_color\":{\"value\":\"#e5ae38\"},\"size\":{\"value\":5.477225575051661},\"x\":{\"field\":\"Case_Fatality_Rate\"},\"y\":{\"field\":\"Infection_Risk\"}},\"id\":\"2649\",\"type\":\"Scatter\"},{\"attributes\":{\"source\":{\"id\":\"2645\"}},\"id\":\"2652\",\"type\":\"CDSView\"},{\"attributes\":{\"axis_label\":\"Case_Fatality_Rate\",\"coordinates\":null,\"formatter\":{\"id\":\"2597\"},\"group\":null,\"major_label_policy\":{\"id\":\"2598\"},\"ticker\":{\"id\":\"2576\"}},\"id\":\"2575\",\"type\":\"LinearAxis\"},{\"attributes\":{\"coordinates\":null,\"data_source\":{\"id\":\"2645\"},\"glyph\":{\"id\":\"2648\"},\"group\":null,\"hover_glyph\":null,\"muted_glyph\":{\"id\":\"2650\"},\"nonselection_glyph\":{\"id\":\"2649\"},\"selection_glyph\":{\"id\":\"2668\"},\"view\":{\"id\":\"2652\"}},\"id\":\"2651\",\"type\":\"GlyphRenderer\"},{\"attributes\":{\"axis\":{\"id\":\"2579\"},\"coordinates\":null,\"dimension\":1,\"grid_line_color\":null,\"group\":null,\"ticker\":null},\"id\":\"2582\",\"type\":\"Grid\"},{\"attributes\":{\"children\":[{\"id\":\"2558\"},{\"id\":\"2566\"},{\"id\":\"2885\"}],\"margin\":[0,0,0,0],\"name\":\"Row05111\",\"tags\":[\"embedded\"]},\"id\":\"2557\",\"type\":\"Row\"},{\"attributes\":{\"data\":{\"Case_Fatality_Rate\":{\"__ndarray__\":\"mpmZmZmZAUCPwvUoXI8AQHsUrkfheuw/4XoUrkfh2j/hehSuR+H+P83MzMzMzBZA7FG4HoXrwT89CtejcD3aP5qZmZmZmek/w/UoXI/C5T/2KFyPwvXYPxSuR+F6FPo/zczMzMzM7D8K16NwPQrXPylcj8L1KMw/pHA9CtejBECamZmZmZkBQI/C9ShcjwBAexSuR+F67D/hehSuR+HaP+F6FK5H4f4/zczMzMzMFkDsUbgehevBPz0K16NwPdo/mpmZmZmZ6T/D9Shcj8LlP/YoXI/C9dg/FK5H4XoU+j/NzMzMzMzsPwrXo3A9Ctc/KVyPwvUozD+kcD0K16MEQA==\",\"dtype\":\"float64\",\"order\":\"little\",\"shape\":[32]},\"Infection_Risk\":{\"__ndarray__\":\"4XoUrkfhK0CF61G4HoUoQHE9CtejsDhAUrgehetRFUCamZmZmZkvQEjhehSuRxFA7FG4HoUrMkCPwvUoXG9FQD0K16NwfUBAUrgehetRFUAK16NwPepDQLgehetR+DFASOF6FK7HPUC4HoXrUTgwQD0K16Nw/UFAj8L1KFyPEEDhehSuR+ErQIXrUbgehShAcT0K16OwOEBSuB6F61EVQJqZmZmZmS9ASOF6FK5HEUDsUbgehSsyQI/C9Shcb0VAPQrXo3B9QEBSuB6F61EVQArXo3A96kNAuB6F61H4MUBI4XoUrsc9QLgehetRODBAPQrXo3D9QUCPwvUoXI8QQA==\",\"dtype\":\"float64\",\"order\":\"little\",\"shape\":[32]},\"class\":[4,4,4,4,4,4,4,4,4,4,4,4,4,4,4,4,4,4,4,4,4,4,4,4,4,4,4,4,4,4,4,4]},\"selected\":{\"id\":\"2696\"},\"selection_policy\":{\"id\":\"2718\"}},\"id\":\"2695\",\"type\":\"ColumnDataSource\"},{\"attributes\":{},\"id\":\"2573\",\"type\":\"LinearScale\"},{\"attributes\":{\"source\":{\"id\":\"2623\"}},\"id\":\"2630\",\"type\":\"CDSView\"},{\"attributes\":{\"fill_color\":{\"value\":\"#6d904f\"},\"hatch_color\":{\"value\":\"#6d904f\"},\"line_color\":{\"value\":\"#6d904f\"},\"size\":{\"value\":5.477225575051661},\"x\":{\"field\":\"Case_Fatality_Rate\"},\"y\":{\"field\":\"Infection_Risk\"}},\"id\":\"2672\",\"type\":\"Scatter\"},{\"attributes\":{},\"id\":\"2583\",\"type\":\"SaveTool\"},{\"attributes\":{},\"id\":\"2580\",\"type\":\"BasicTicker\"},{\"attributes\":{\"fill_alpha\":{\"value\":0.2},\"fill_color\":{\"value\":\"#fc4f30\"},\"hatch_alpha\":{\"value\":0.2},\"hatch_color\":{\"value\":\"#fc4f30\"},\"line_alpha\":{\"value\":0.2},\"line_color\":{\"value\":\"#fc4f30\"},\"size\":{\"value\":5.477225575051661},\"x\":{\"field\":\"Case_Fatality_Rate\"},\"y\":{\"field\":\"Infection_Risk\"}},\"id\":\"2628\",\"type\":\"Scatter\"},{\"attributes\":{\"axis\":{\"id\":\"2575\"},\"coordinates\":null,\"grid_line_color\":null,\"group\":null,\"ticker\":null},\"id\":\"2578\",\"type\":\"Grid\"},{\"attributes\":{},\"id\":\"2585\",\"type\":\"WheelZoomTool\"},{\"attributes\":{},\"id\":\"2664\",\"type\":\"UnionRenderers\"},{\"attributes\":{\"axis_label\":\"Infection_Risk\",\"coordinates\":null,\"formatter\":{\"id\":\"2600\"},\"group\":null,\"major_label_policy\":{\"id\":\"2601\"},\"ticker\":{\"id\":\"2580\"}},\"id\":\"2579\",\"type\":\"LinearAxis\"},{\"attributes\":{\"overlay\":{\"id\":\"2588\"}},\"id\":\"2586\",\"type\":\"BoxZoomTool\"},{\"attributes\":{},\"id\":\"2624\",\"type\":\"Selection\"},{\"attributes\":{\"fill_alpha\":{\"value\":0.1},\"fill_color\":{\"value\":\"#fc4f30\"},\"hatch_alpha\":{\"value\":0.1},\"hatch_color\":{\"value\":\"#fc4f30\"},\"line_alpha\":{\"value\":0.1},\"line_color\":{\"value\":\"#fc4f30\"},\"size\":{\"value\":5.477225575051661},\"x\":{\"field\":\"Case_Fatality_Rate\"},\"y\":{\"field\":\"Infection_Risk\"}},\"id\":\"2627\",\"type\":\"Scatter\"},{\"attributes\":{},\"id\":\"2587\",\"type\":\"ResetTool\"},{\"attributes\":{},\"id\":\"2617\",\"type\":\"UnionRenderers\"},{\"attributes\":{\"coordinates\":null,\"data_source\":{\"id\":\"2623\"},\"glyph\":{\"id\":\"2626\"},\"group\":null,\"hover_glyph\":null,\"muted_glyph\":{\"id\":\"2628\"},\"nonselection_glyph\":{\"id\":\"2627\"},\"selection_glyph\":{\"id\":\"2644\"},\"view\":{\"id\":\"2630\"}},\"id\":\"2629\",\"type\":\"GlyphRenderer\"},{\"attributes\":{\"bottom_units\":\"screen\",\"coordinates\":null,\"fill_alpha\":0.5,\"fill_color\":\"lightgrey\",\"group\":null,\"left_units\":\"screen\",\"level\":\"overlay\",\"line_alpha\":1.0,\"line_color\":\"black\",\"line_dash\":[4,4],\"line_width\":2,\"right_units\":\"screen\",\"syncable\":false,\"top_units\":\"screen\"},\"id\":\"2588\",\"type\":\"BoxAnnotation\"},{\"attributes\":{},\"id\":\"2598\",\"type\":\"AllLabels\"},{\"attributes\":{\"angle\":{\"value\":0.0},\"fill_alpha\":{\"value\":1.0},\"fill_color\":{\"value\":\"#6d904f\"},\"hatch_alpha\":{\"value\":1.0},\"hatch_color\":{\"value\":\"#6d904f\"},\"hatch_scale\":{\"value\":12.0},\"hatch_weight\":{\"value\":1.0},\"line_alpha\":{\"value\":1.0},\"line_cap\":{\"value\":\"butt\"},\"line_color\":{\"value\":\"#6d904f\"},\"line_dash\":{\"value\":[]},\"line_dash_offset\":{\"value\":0},\"line_join\":{\"value\":\"bevel\"},\"line_width\":{\"value\":1},\"marker\":{\"value\":\"circle\"},\"size\":{\"value\":5.477225575051661},\"x\":{\"field\":\"Case_Fatality_Rate\"},\"y\":{\"field\":\"Infection_Risk\"}},\"id\":\"2694\",\"type\":\"Scatter\"},{\"attributes\":{},\"id\":\"2640\",\"type\":\"UnionRenderers\"},{\"attributes\":{\"tools\":[{\"id\":\"2561\"},{\"id\":\"2583\"},{\"id\":\"2584\"},{\"id\":\"2585\"},{\"id\":\"2586\"},{\"id\":\"2587\"}]},\"id\":\"2589\",\"type\":\"Toolbar\"},{\"attributes\":{\"fill_color\":{\"value\":\"#8b8b8b\"},\"hatch_color\":{\"value\":\"#8b8b8b\"},\"line_color\":{\"value\":\"#8b8b8b\"},\"size\":{\"value\":5.477225575051661},\"x\":{\"field\":\"Case_Fatality_Rate\"},\"y\":{\"field\":\"Infection_Risk\"}},\"id\":\"2698\",\"type\":\"Scatter\"},{\"attributes\":{\"margin\":[5,5,5,5],\"name\":\"HSpacer05116\",\"sizing_mode\":\"stretch_width\"},\"id\":\"2885\",\"type\":\"Spacer\"},{\"attributes\":{},\"id\":\"2600\",\"type\":\"BasicTickFormatter\"},{\"attributes\":{\"angle\":{\"value\":0.0},\"fill_alpha\":{\"value\":1.0},\"fill_color\":{\"value\":\"#e5ae38\"},\"hatch_alpha\":{\"value\":1.0},\"hatch_color\":{\"value\":\"#e5ae38\"},\"hatch_scale\":{\"value\":12.0},\"hatch_weight\":{\"value\":1.0},\"line_alpha\":{\"value\":1.0},\"line_cap\":{\"value\":\"butt\"},\"line_color\":{\"value\":\"#e5ae38\"},\"line_dash\":{\"value\":[]},\"line_dash_offset\":{\"value\":0},\"line_join\":{\"value\":\"bevel\"},\"line_width\":{\"value\":1},\"marker\":{\"value\":\"circle\"},\"size\":{\"value\":5.477225575051661},\"x\":{\"field\":\"Case_Fatality_Rate\"},\"y\":{\"field\":\"Infection_Risk\"}},\"id\":\"2668\",\"type\":\"Scatter\"},{\"attributes\":{},\"id\":\"2696\",\"type\":\"Selection\"},{\"attributes\":{\"fill_alpha\":{\"value\":0.2},\"fill_color\":{\"value\":\"#8b8b8b\"},\"hatch_alpha\":{\"value\":0.2},\"hatch_color\":{\"value\":\"#8b8b8b\"},\"line_alpha\":{\"value\":0.2},\"line_color\":{\"value\":\"#8b8b8b\"},\"size\":{\"value\":5.477225575051661},\"x\":{\"field\":\"Case_Fatality_Rate\"},\"y\":{\"field\":\"Infection_Risk\"}},\"id\":\"2700\",\"type\":\"Scatter\"},{\"attributes\":{},\"id\":\"2670\",\"type\":\"Selection\"},{\"attributes\":{\"source\":{\"id\":\"2695\"}},\"id\":\"2702\",\"type\":\"CDSView\"},{\"attributes\":{\"fill_alpha\":{\"value\":0.1},\"fill_color\":{\"value\":\"#8b8b8b\"},\"hatch_alpha\":{\"value\":0.1},\"hatch_color\":{\"value\":\"#8b8b8b\"},\"line_alpha\":{\"value\":0.1},\"line_color\":{\"value\":\"#8b8b8b\"},\"size\":{\"value\":5.477225575051661},\"x\":{\"field\":\"Case_Fatality_Rate\"},\"y\":{\"field\":\"Infection_Risk\"}},\"id\":\"2699\",\"type\":\"Scatter\"},{\"attributes\":{\"coordinates\":null,\"data_source\":{\"id\":\"2695\"},\"glyph\":{\"id\":\"2698\"},\"group\":null,\"hover_glyph\":null,\"muted_glyph\":{\"id\":\"2700\"},\"nonselection_glyph\":{\"id\":\"2699\"},\"selection_glyph\":{\"id\":\"2722\"},\"view\":{\"id\":\"2702\"}},\"id\":\"2701\",\"type\":\"GlyphRenderer\"},{\"attributes\":{\"label\":{\"value\":\"4\"},\"renderers\":[{\"id\":\"2701\"}]},\"id\":\"2721\",\"type\":\"LegendItem\"},{\"attributes\":{\"angle\":{\"value\":0.0},\"fill_alpha\":{\"value\":1.0},\"fill_color\":{\"value\":\"#8b8b8b\"},\"hatch_alpha\":{\"value\":1.0},\"hatch_color\":{\"value\":\"#8b8b8b\"},\"hatch_scale\":{\"value\":12.0},\"hatch_weight\":{\"value\":1.0},\"line_alpha\":{\"value\":1.0},\"line_cap\":{\"value\":\"butt\"},\"line_color\":{\"value\":\"#8b8b8b\"},\"line_dash\":{\"value\":[]},\"line_dash_offset\":{\"value\":0},\"line_join\":{\"value\":\"bevel\"},\"line_width\":{\"value\":1},\"marker\":{\"value\":\"circle\"},\"size\":{\"value\":5.477225575051661},\"x\":{\"field\":\"Case_Fatality_Rate\"},\"y\":{\"field\":\"Infection_Risk\"}},\"id\":\"2722\",\"type\":\"Scatter\"}],\"root_ids\":[\"2557\"]},\"title\":\"Bokeh Application\",\"version\":\"2.4.2\"}};\n",
       "    var render_items = [{\"docid\":\"993db267-b906-4693-b6d2-93cd0ac104b3\",\"root_ids\":[\"2557\"],\"roots\":{\"2557\":\"450bcf4a-3688-496d-8917-a2af771206d7\"}}];\n",
       "    root.Bokeh.embed.embed_items_notebook(docs_json, render_items);\n",
       "  }\n",
       "  if (root.Bokeh !== undefined && root.Bokeh.Panel !== undefined) {\n",
       "    embed_document(root);\n",
       "  } else {\n",
       "    var attempts = 0;\n",
       "    var timer = setInterval(function(root) {\n",
       "      if (root.Bokeh !== undefined && root.Bokeh.Panel !== undefined) {\n",
       "        clearInterval(timer);\n",
       "        embed_document(root);\n",
       "      } else if (document.readyState == \"complete\") {\n",
       "        attempts++;\n",
       "        if (attempts > 200) {\n",
       "          clearInterval(timer);\n",
       "          console.log(\"Bokeh: ERROR: Unable to run BokehJS code because BokehJS library is missing\");\n",
       "        }\n",
       "      }\n",
       "    }, 25, root)\n",
       "  }\n",
       "})(window);</script>"
      ],
      "text/plain": [
       ":NdOverlay   [class]\n",
       "   :Scatter   [Case_Fatality_Rate]   (Infection_Risk)"
      ]
     },
     "execution_count": 28,
     "metadata": {
      "application/vnd.holoviews_exec.v0+json": {
       "id": "2557"
      }
     },
     "output_type": "execute_result"
    }
   ],
   "source": [
    "# Create a scatterplot of covid_data\n",
    "covid_data_df.hvplot.scatter(x=\"Case_Fatality_Rate\", y=\"Infection_Risk\", by=\"class\")"
   ]
  },
  {
   "cell_type": "code",
   "execution_count": 29,
   "metadata": {},
   "outputs": [
    {
     "data": {},
     "metadata": {},
     "output_type": "display_data"
    },
    {
     "data": {
      "application/vnd.holoviews_exec.v0+json": "",
      "text/html": [
       "<div id='2977'>\n",
       "\n",
       "\n",
       "\n",
       "\n",
       "\n",
       "  <div class=\"bk-root\" id=\"f64131ee-6099-4794-b6d3-0bce8a634934\" data-root-id=\"2977\"></div>\n",
       "</div>\n",
       "<script type=\"application/javascript\">(function(root) {\n",
       "  function embed_document(root) {\n",
       "    var docs_json = {\"eca340bf-ac23-470a-ae3d-d235c137abd2\":{\"defs\":[{\"extends\":null,\"module\":null,\"name\":\"ReactiveHTML1\",\"overrides\":[],\"properties\":[]},{\"extends\":null,\"module\":null,\"name\":\"FlexBox1\",\"overrides\":[],\"properties\":[{\"default\":\"flex-start\",\"kind\":null,\"name\":\"align_content\"},{\"default\":\"flex-start\",\"kind\":null,\"name\":\"align_items\"},{\"default\":\"row\",\"kind\":null,\"name\":\"flex_direction\"},{\"default\":\"wrap\",\"kind\":null,\"name\":\"flex_wrap\"},{\"default\":\"flex-start\",\"kind\":null,\"name\":\"justify_content\"}]},{\"extends\":null,\"module\":null,\"name\":\"TemplateActions1\",\"overrides\":[],\"properties\":[{\"default\":0,\"kind\":null,\"name\":\"open_modal\"},{\"default\":0,\"kind\":null,\"name\":\"close_modal\"}]},{\"extends\":null,\"module\":null,\"name\":\"MaterialTemplateActions1\",\"overrides\":[],\"properties\":[{\"default\":0,\"kind\":null,\"name\":\"open_modal\"},{\"default\":0,\"kind\":null,\"name\":\"close_modal\"}]}],\"roots\":{\"references\":[{\"attributes\":{},\"id\":\"3017\",\"type\":\"BasicTickFormatter\"},{\"attributes\":{},\"id\":\"3020\",\"type\":\"BasicTickFormatter\"},{\"attributes\":{},\"id\":\"3021\",\"type\":\"AllLabels\"},{\"attributes\":{\"angle\":{\"value\":0.0},\"fill_alpha\":{\"value\":1.0},\"fill_color\":{\"value\":\"#fc4f30\"},\"hatch_alpha\":{\"value\":1.0},\"hatch_color\":{\"value\":\"#fc4f30\"},\"hatch_scale\":{\"value\":12.0},\"hatch_weight\":{\"value\":1.0},\"line_alpha\":{\"value\":1.0},\"line_cap\":{\"value\":\"butt\"},\"line_color\":{\"value\":\"#fc4f30\"},\"line_dash\":{\"value\":[]},\"line_dash_offset\":{\"value\":0},\"line_join\":{\"value\":\"bevel\"},\"line_width\":{\"value\":1},\"marker\":{\"value\":\"circle\"},\"size\":{\"value\":5.477225575051661},\"x\":{\"field\":\"NewDeaths\"},\"y\":{\"field\":\"Infection_Risk\"}},\"id\":\"3064\",\"type\":\"Scatter\"},{\"attributes\":{\"coordinates\":null,\"data_source\":{\"id\":\"3089\"},\"glyph\":{\"id\":\"3092\"},\"group\":null,\"hover_glyph\":null,\"muted_glyph\":{\"id\":\"3094\"},\"nonselection_glyph\":{\"id\":\"3093\"},\"selection_glyph\":{\"id\":\"3114\"},\"view\":{\"id\":\"3096\"}},\"id\":\"3095\",\"type\":\"GlyphRenderer\"},{\"attributes\":{\"data\":{\"Infection_Risk\":{\"__ndarray__\":\"uB6F61F4OEC4HoXrUXg4QA==\",\"dtype\":\"float64\",\"order\":\"little\",\"shape\":[2]},\"NewDeaths\":[0,0],\"class\":[1,1]},\"selected\":{\"id\":\"3044\"},\"selection_policy\":{\"id\":\"3060\"}},\"id\":\"3043\",\"type\":\"ColumnDataSource\"},{\"attributes\":{\"fill_alpha\":{\"value\":0.1},\"fill_color\":{\"value\":\"#30a2da\"},\"hatch_alpha\":{\"value\":0.1},\"hatch_color\":{\"value\":\"#30a2da\"},\"line_alpha\":{\"value\":0.1},\"line_color\":{\"value\":\"#30a2da\"},\"size\":{\"value\":5.477225575051661},\"x\":{\"field\":\"NewDeaths\"},\"y\":{\"field\":\"Infection_Risk\"}},\"id\":\"3026\",\"type\":\"Scatter\"},{\"attributes\":{\"source\":{\"id\":\"3022\"}},\"id\":\"3029\",\"type\":\"CDSView\"},{\"attributes\":{\"end\":299.3,\"reset_end\":299.3,\"reset_start\":-12.3,\"start\":-12.3,\"tags\":[[[\"NewDeaths\",\"NewDeaths\",null]]]},\"id\":\"2979\",\"type\":\"Range1d\"},{\"attributes\":{\"fill_color\":{\"value\":\"#e5ae38\"},\"hatch_color\":{\"value\":\"#e5ae38\"},\"line_color\":{\"value\":\"#e5ae38\"},\"size\":{\"value\":5.477225575051661},\"x\":{\"field\":\"NewDeaths\"},\"y\":{\"field\":\"Infection_Risk\"}},\"id\":\"3068\",\"type\":\"Scatter\"},{\"attributes\":{},\"id\":\"2991\",\"type\":\"LinearScale\"},{\"attributes\":{\"coordinates\":null,\"data_source\":{\"id\":\"3022\"},\"glyph\":{\"id\":\"3025\"},\"group\":null,\"hover_glyph\":null,\"muted_glyph\":{\"id\":\"3027\"},\"nonselection_glyph\":{\"id\":\"3026\"},\"selection_glyph\":{\"id\":\"3042\"},\"view\":{\"id\":\"3029\"}},\"id\":\"3028\",\"type\":\"GlyphRenderer\"},{\"attributes\":{},\"id\":\"3110\",\"type\":\"UnionRenderers\"},{\"attributes\":{\"label\":{\"value\":\"0\"},\"renderers\":[{\"id\":\"3028\"}]},\"id\":\"3041\",\"type\":\"LegendItem\"},{\"attributes\":{\"end\":57.958999999999996,\"reset_end\":57.958999999999996,\"reset_start\":-5.269,\"start\":-5.269,\"tags\":[[[\"Infection_Risk\",\"Infection_Risk\",null]]]},\"id\":\"2980\",\"type\":\"Range1d\"},{\"attributes\":{\"fill_alpha\":{\"value\":0.2},\"fill_color\":{\"value\":\"#30a2da\"},\"hatch_alpha\":{\"value\":0.2},\"hatch_color\":{\"value\":\"#30a2da\"},\"line_alpha\":{\"value\":0.2},\"line_color\":{\"value\":\"#30a2da\"},\"size\":{\"value\":5.477225575051661},\"x\":{\"field\":\"NewDeaths\"},\"y\":{\"field\":\"Infection_Risk\"}},\"id\":\"3027\",\"type\":\"Scatter\"},{\"attributes\":{\"label\":{\"value\":\"3\"},\"renderers\":[{\"id\":\"3095\"}]},\"id\":\"3113\",\"type\":\"LegendItem\"},{\"attributes\":{\"label\":{\"value\":\"2\"},\"renderers\":[{\"id\":\"3071\"}]},\"id\":\"3087\",\"type\":\"LegendItem\"},{\"attributes\":{\"angle\":{\"value\":0.0},\"fill_alpha\":{\"value\":1.0},\"fill_color\":{\"value\":\"#30a2da\"},\"hatch_alpha\":{\"value\":1.0},\"hatch_color\":{\"value\":\"#30a2da\"},\"hatch_scale\":{\"value\":12.0},\"hatch_weight\":{\"value\":1.0},\"line_alpha\":{\"value\":1.0},\"line_cap\":{\"value\":\"butt\"},\"line_color\":{\"value\":\"#30a2da\"},\"line_dash\":{\"value\":[]},\"line_dash_offset\":{\"value\":0},\"line_join\":{\"value\":\"bevel\"},\"line_width\":{\"value\":1},\"marker\":{\"value\":\"circle\"},\"size\":{\"value\":5.477225575051661},\"x\":{\"field\":\"NewDeaths\"},\"y\":{\"field\":\"Infection_Risk\"}},\"id\":\"3042\",\"type\":\"Scatter\"},{\"attributes\":{\"click_policy\":\"mute\",\"coordinates\":null,\"group\":null,\"items\":[{\"id\":\"3041\"},{\"id\":\"3063\"},{\"id\":\"3087\"},{\"id\":\"3113\"},{\"id\":\"3141\"}],\"location\":[0,0],\"title\":\"class\"},\"id\":\"3040\",\"type\":\"Legend\"},{\"attributes\":{\"callback\":null,\"renderers\":[{\"id\":\"3028\"},{\"id\":\"3049\"},{\"id\":\"3071\"},{\"id\":\"3095\"},{\"id\":\"3121\"}],\"tags\":[\"hv_created\"],\"tooltips\":[[\"class\",\"@{class}\"],[\"NewDeaths\",\"@{NewDeaths}\"],[\"Infection_Risk\",\"@{Infection_Risk}\"]]},\"id\":\"2981\",\"type\":\"HoverTool\"},{\"attributes\":{\"fill_alpha\":{\"value\":0.2},\"fill_color\":{\"value\":\"#fc4f30\"},\"hatch_alpha\":{\"value\":0.2},\"hatch_color\":{\"value\":\"#fc4f30\"},\"line_alpha\":{\"value\":0.2},\"line_color\":{\"value\":\"#fc4f30\"},\"size\":{\"value\":5.477225575051661},\"x\":{\"field\":\"NewDeaths\"},\"y\":{\"field\":\"Infection_Risk\"}},\"id\":\"3048\",\"type\":\"Scatter\"},{\"attributes\":{},\"id\":\"2996\",\"type\":\"BasicTicker\"},{\"attributes\":{\"data\":{\"Infection_Risk\":{\"__ndarray__\":\"cT0K16OwOUBI4XoUrsc5QA==\",\"dtype\":\"float64\",\"order\":\"little\",\"shape\":[2]},\"NewDeaths\":[0,88],\"class\":[2,2]},\"selected\":{\"id\":\"3066\"},\"selection_policy\":{\"id\":\"3084\"}},\"id\":\"3065\",\"type\":\"ColumnDataSource\"},{\"attributes\":{},\"id\":\"3066\",\"type\":\"Selection\"},{\"attributes\":{\"fill_color\":{\"value\":\"#fc4f30\"},\"hatch_color\":{\"value\":\"#fc4f30\"},\"line_color\":{\"value\":\"#fc4f30\"},\"size\":{\"value\":5.477225575051661},\"x\":{\"field\":\"NewDeaths\"},\"y\":{\"field\":\"Infection_Risk\"}},\"id\":\"3046\",\"type\":\"Scatter\"},{\"attributes\":{\"below\":[{\"id\":\"2995\"}],\"center\":[{\"id\":\"2998\"},{\"id\":\"3002\"}],\"height\":300,\"left\":[{\"id\":\"2999\"}],\"margin\":[5,5,5,5],\"min_border_bottom\":10,\"min_border_left\":10,\"min_border_right\":10,\"min_border_top\":10,\"renderers\":[{\"id\":\"3028\"},{\"id\":\"3049\"},{\"id\":\"3071\"},{\"id\":\"3095\"},{\"id\":\"3121\"}],\"right\":[{\"id\":\"3040\"}],\"sizing_mode\":\"fixed\",\"title\":{\"id\":\"2987\"},\"toolbar\":{\"id\":\"3009\"},\"width\":700,\"x_range\":{\"id\":\"2979\"},\"x_scale\":{\"id\":\"2991\"},\"y_range\":{\"id\":\"2980\"},\"y_scale\":{\"id\":\"2993\"}},\"id\":\"2986\",\"subtype\":\"Figure\",\"type\":\"Plot\"},{\"attributes\":{\"fill_alpha\":{\"value\":0.2},\"fill_color\":{\"value\":\"#e5ae38\"},\"hatch_alpha\":{\"value\":0.2},\"hatch_color\":{\"value\":\"#e5ae38\"},\"line_alpha\":{\"value\":0.2},\"line_color\":{\"value\":\"#e5ae38\"},\"size\":{\"value\":5.477225575051661},\"x\":{\"field\":\"NewDeaths\"},\"y\":{\"field\":\"Infection_Risk\"}},\"id\":\"3070\",\"type\":\"Scatter\"},{\"attributes\":{\"fill_alpha\":{\"value\":0.2},\"fill_color\":{\"value\":\"#6d904f\"},\"hatch_alpha\":{\"value\":0.2},\"hatch_color\":{\"value\":\"#6d904f\"},\"line_alpha\":{\"value\":0.2},\"line_color\":{\"value\":\"#6d904f\"},\"size\":{\"value\":5.477225575051661},\"x\":{\"field\":\"NewDeaths\"},\"y\":{\"field\":\"Infection_Risk\"}},\"id\":\"3094\",\"type\":\"Scatter\"},{\"attributes\":{\"coordinates\":null,\"group\":null,\"text_color\":\"black\",\"text_font_size\":\"12pt\"},\"id\":\"2987\",\"type\":\"Title\"},{\"attributes\":{\"angle\":{\"value\":0.0},\"fill_alpha\":{\"value\":1.0},\"fill_color\":{\"value\":\"#8b8b8b\"},\"hatch_alpha\":{\"value\":1.0},\"hatch_color\":{\"value\":\"#8b8b8b\"},\"hatch_scale\":{\"value\":12.0},\"hatch_weight\":{\"value\":1.0},\"line_alpha\":{\"value\":1.0},\"line_cap\":{\"value\":\"butt\"},\"line_color\":{\"value\":\"#8b8b8b\"},\"line_dash\":{\"value\":[]},\"line_dash_offset\":{\"value\":0},\"line_join\":{\"value\":\"bevel\"},\"line_width\":{\"value\":1},\"marker\":{\"value\":\"circle\"},\"size\":{\"value\":5.477225575051661},\"x\":{\"field\":\"NewDeaths\"},\"y\":{\"field\":\"Infection_Risk\"}},\"id\":\"3142\",\"type\":\"Scatter\"},{\"attributes\":{\"source\":{\"id\":\"3089\"}},\"id\":\"3096\",\"type\":\"CDSView\"},{\"attributes\":{},\"id\":\"3004\",\"type\":\"PanTool\"},{\"attributes\":{\"data\":{\"Infection_Risk\":{\"__ndarray__\":\"16NwPQrXQ0AfhetRuJ44QPYoXI/C9SNAZmZmZmYGR0DXo3A9CtdDQB+F61G4njhA9ihcj8L1I0BmZmZmZgZHQA==\",\"dtype\":\"float64\",\"order\":\"little\",\"shape\":[8]},\"NewDeaths\":[0,0,42,7,0,0,42,7],\"class\":[3,3,3,3,3,3,3,3]},\"selected\":{\"id\":\"3090\"},\"selection_policy\":{\"id\":\"3110\"}},\"id\":\"3089\",\"type\":\"ColumnDataSource\"},{\"attributes\":{\"fill_alpha\":{\"value\":0.1},\"fill_color\":{\"value\":\"#e5ae38\"},\"hatch_alpha\":{\"value\":0.1},\"hatch_color\":{\"value\":\"#e5ae38\"},\"line_alpha\":{\"value\":0.1},\"line_color\":{\"value\":\"#e5ae38\"},\"size\":{\"value\":5.477225575051661},\"x\":{\"field\":\"NewDeaths\"},\"y\":{\"field\":\"Infection_Risk\"}},\"id\":\"3069\",\"type\":\"Scatter\"},{\"attributes\":{\"label\":{\"value\":\"1\"},\"renderers\":[{\"id\":\"3049\"}]},\"id\":\"3063\",\"type\":\"LegendItem\"},{\"attributes\":{\"axis_label\":\"NewDeaths\",\"coordinates\":null,\"formatter\":{\"id\":\"3017\"},\"group\":null,\"major_label_policy\":{\"id\":\"3018\"},\"ticker\":{\"id\":\"2996\"}},\"id\":\"2995\",\"type\":\"LinearAxis\"},{\"attributes\":{\"source\":{\"id\":\"3065\"}},\"id\":\"3072\",\"type\":\"CDSView\"},{\"attributes\":{\"data\":{\"Infection_Risk\":{\"__ndarray__\":\"j8L1KFyPCEAUrkfhelQxQHE9CtejsDNAMzMzMzOzIEB7FK5H4XonQEjhehSuRwFA9ihcj8L1JkApXI/C9agpQKRwPQrXI0VA9ihcj8LVQUCPwvUoXI8YQD0K16NwPQpApHA9CtfDQUCF61G4HgUlQMP1KFyPQiJAcT0K16MQSUCamZmZmRkuQB+F61G4XjhAMzMzMzMzFkCamZmZmdk2QI/C9Shcj/I/SOF6FK5HM0CamZmZmZk/QIXrUbgeRTBAH4XrUbi+REBxPQrXo3DlP5qZmZmZGT1A4XoUrkehOUA9CtejcD0bQLgehetRuAhApHA9CtejMED2KFyPwrUyQClcj8L1KDtApHA9CtcjMEBSuB6F61EjQLgehetROCFAzczMzMxsQ0AUrkfhehQKQI/C9Shcb0dA9ihcj8J1JEAzMzMzMzMeQDMzMzMzczlAAAAAAAAAE0C4HoXrUTgwQPYoXI/C9RFAFK5H4Xq0RUDD9Shcj8IeQMP1KFyPQjFAzczMzMzMAEAfhetRuB4sQI/C9ShcjwhAzczMzMzMIUA9CtejcL0sQPYoXI/C9RRAzczMzMwMRUBSuB6F69E+QHE9CtejcP0/mpmZmZmZKUC4HoXrUbjeP4XrUbgehRxA9ihcj8L12D/NzMzMzMwrQOxRuB6FayxAH4XrUbgeHUBI4XoUrscpQPYoXI/ClUJAj8L1KFyP4j89CtejcD36P3E9CtejcC1AmpmZmZkZKUCPwvUoXA8jQOF6FK5H4eI/uB6F61G4vj/sUbgehev5PxSuR+F6FOY/UrgeheuRQkAUrkfhehTmP5qZmZmZ2UBA7FG4HoXrB0DD9Shcj8IDQLgehetRWEpAKVyPwvUo3D/D9Shcj8I/QMP1KFyPwtU/w/UoXI/CA0AAAAAAAADgPwrXo3A9ChhAH4XrUbjeQkApXI/C9ag+QEjhehSuR+k/FK5H4XpUQEC4HoXrUbjuP0jhehSuRxFAhetRuB6F2z+PwvUoXI/SP1yPwvUoXN8/hetRuB6F2z/D9Shcj4IyQJqZmZmZmSpAFK5H4XpUOUA9CtejcH05QKRwPQrXoxdAZmZmZmZmHEApXI/C9SjMP+xRuB6F6x9A7FG4HoXrwT9I4XoUrsc0QI/C9ShczzRAXI/C9Shc8z/sUbgehesrQNejcD0K19M/ZmZmZmZmAEBxPQrXo3DdP1yPwvUonDhAFK5H4XpUREAUrkfhetRJQNejcD0K19M/hetRuB6F2z9xPQrXo/ApQArXo3A9CgdASOF6FK5H0T8pXI/C9ag/QJqZmZmZmak/KVyPwvWoIEBSuB6F61H4Pz0K16NwPRBApHA9Ctej0D/sUbgehevBP65H4XoUjkBA4XoUrkfhyj97FK5H4XrEP5qZmZmZmbk/4XoUrkfh+j+amZmZmZm5P7gehetRuD5ASOF6FK5H0T8K16NwPQrHPzMzMzMzM8M/9ihcj8I1SUCPwvUoXG9FQB+F61G4HvE/pHA9Ctej+D8K16NwPUpGQLgehetRuChAj8L1KFxPNEAUrkfhehTeP4XrUbgeBTVAMzMzMzNzMEB7FK5H4XqkP5qZmZmZmfk/CtejcD1KO0AUrkfhelQ2QEjhehSuR9E/uB6F61G4nj/2KFyPwhVAQJqZmZmZmdk/zczMzMzM7D8K16NwPQq3P+xRuB6F68E/exSuR+F6pD/hehSuRyE0QD0K16NwPfY/uB6F61G4MUCF61G4HoXzPwAAAAAAAAxA4XoUrkfhCkDNzMzMzMwMQAAAAAAAAAAAexSuR+F6hD97FK5H4XqEP4/C9ShcjwhAFK5H4XpUMUBxPQrXo7AzQDMzMzMzsyBAexSuR+F6J0BI4XoUrkcBQPYoXI/C9SZAKVyPwvWoKUCkcD0K1yNFQPYoXI/C1UFAj8L1KFyPGEA9CtejcD0KQKRwPQrXw0FAhetRuB4FJUDD9Shcj0IiQHE9CtejEElAmpmZmZkZLkAfhetRuF44QDMzMzMzMxZAmpmZmZnZNkCPwvUoXI/yP0jhehSuRzNAmpmZmZmZP0CF61G4HkUwQB+F61G4vkRAcT0K16Nw5T+amZmZmRk9QOF6FK5HoTlAPQrXo3A9G0C4HoXrUbgIQKRwPQrXozBA9ihcj8K1MkApXI/C9Sg7QKRwPQrXIzBAUrgehetRI0C4HoXrUTghQM3MzMzMbENAFK5H4XoUCkCPwvUoXG9HQPYoXI/CdSRAMzMzMzMzHkAzMzMzM3M5QAAAAAAAABNAuB6F61E4MED2KFyPwvURQBSuR+F6tEVAw/UoXI/CHkDD9Shcj0IxQM3MzMzMzABAH4XrUbgeLECPwvUoXI8IQM3MzMzMzCFAPQrXo3C9LED2KFyPwvUUQM3MzMzMDEVAUrgehevRPkBxPQrXo3D9P5qZmZmZmSlAuB6F61G43j+F61G4HoUcQPYoXI/C9dg/zczMzMzMK0DsUbgehWssQB+F61G4Hh1ASOF6FK7HKUD2KFyPwpVCQI/C9Shcj+I/PQrXo3A9+j9xPQrXo3AtQJqZmZmZGSlAj8L1KFwPI0DhehSuR+HiP7gehetRuL4/7FG4HoXr+T8UrkfhehTmP1K4HoXrkUJAFK5H4XoU5j+amZmZmdlAQOxRuB6F6wdAw/UoXI/CA0C4HoXrUVhKQClcj8L1KNw/w/UoXI/CP0DD9Shcj8LVP8P1KFyPwgNAAAAAAAAA4D8K16NwPQoYQB+F61G43kJAKVyPwvWoPkBI4XoUrkfpPxSuR+F6VEBAuB6F61G47j9I4XoUrkcRQIXrUbgehds/j8L1KFyP0j9cj8L1KFzfP4XrUbgehds/w/UoXI+CMkCamZmZmZkqQBSuR+F6VDlAPQrXo3B9OUCkcD0K16MXQGZmZmZmZhxAKVyPwvUozD/sUbgehesfQOxRuB6F68E/SOF6FK7HNECPwvUoXM80QFyPwvUoXPM/7FG4HoXrK0DXo3A9CtfTP2ZmZmZmZgBAcT0K16Nw3T9cj8L1KJw4QBSuR+F6VERAFK5H4XrUSUDXo3A9CtfTP4XrUbgehds/cT0K16PwKUAK16NwPQoHQEjhehSuR9E/KVyPwvWoP0CamZmZmZmpPylcj8L1qCBAUrgehetR+D89CtejcD0QQKRwPQrXo9A/7FG4HoXrwT+uR+F6FI5AQOF6FK5H4co/exSuR+F6xD+amZmZmZm5P+F6FK5H4fo/mpmZmZmZuT+4HoXrUbg+QEjhehSuR9E/CtejcD0Kxz8zMzMzMzPDP/YoXI/CNUlAj8L1KFxvRUAfhetRuB7xP6RwPQrXo/g/CtejcD1KRkC4HoXrUbgoQI/C9ShcTzRAFK5H4XoU3j+F61G4HgU1QDMzMzMzczBAexSuR+F6pD+amZmZmZn5PwrXo3A9SjtAFK5H4XpUNkBI4XoUrkfRP7gehetRuJ4/9ihcj8IVQECamZmZmZnZP83MzMzMzOw/CtejcD0Ktz/sUbgehevBP3sUrkfheqQ/4XoUrkchNEA9CtejcD32P7gehetRuDFAhetRuB6F8z8AAAAAAAAMQOF6FK5H4QpAzczMzMzMDEAAAAAAAAAAAHsUrkfheoQ/exSuR+F6hD8=\",\"dtype\":\"float64\",\"order\":\"little\",\"shape\":[340]},\"NewDeaths\":[0,0,0,53,0,61,0,0,0,3,0,22,0,0,0,15,12,0,4,9,1,0,23,0,2,0,0,0,0,0,0,0,18,0,0,0,6,0,4,5,0,0,0,0,0,5,0,0,2,13,0,0,0,0,1,0,0,0,0,0,0,0,0,1,0,0,0,0,0,0,0,0,0,0,0,0,0,0,0,3,0,0,0,0,0,0,0,0,0,0,0,0,0,0,0,0,0,3,0,0,0,0,0,0,0,0,0,0,0,0,0,0,0,0,0,0,0,0,0,0,0,0,0,0,0,0,0,0,0,0,0,0,0,0,0,0,0,0,0,0,0,0,0,0,0,0,0,0,0,0,0,0,0,0,0,0,0,0,0,0,0,0,0,1,0,0,0,0,0,0,0,0,0,53,0,61,0,0,0,3,0,22,0,0,0,15,12,0,4,9,1,0,23,0,2,0,0,0,0,0,0,0,18,0,0,0,6,0,4,5,0,0,0,0,0,5,0,0,2,13,0,0,0,0,1,0,0,0,0,0,0,0,0,1,0,0,0,0,0,0,0,0,0,0,0,0,0,0,0,3,0,0,0,0,0,0,0,0,0,0,0,0,0,0,0,0,0,3,0,0,0,0,0,0,0,0,0,0,0,0,0,0,0,0,0,0,0,0,0,0,0,0,0,0,0,0,0,0,0,0,0,0,0,0,0,0,0,0,0,0,0,0,0,0,0,0,0,0,0,0,0,0,0,0,0,0,0,0,0,0,0,0,0,1,0,0,0,0,0,0],\"class\":[0,0,0,0,0,0,0,0,0,0,0,0,0,0,0,0,0,0,0,0,0,0,0,0,0,0,0,0,0,0,0,0,0,0,0,0,0,0,0,0,0,0,0,0,0,0,0,0,0,0,0,0,0,0,0,0,0,0,0,0,0,0,0,0,0,0,0,0,0,0,0,0,0,0,0,0,0,0,0,0,0,0,0,0,0,0,0,0,0,0,0,0,0,0,0,0,0,0,0,0,0,0,0,0,0,0,0,0,0,0,0,0,0,0,0,0,0,0,0,0,0,0,0,0,0,0,0,0,0,0,0,0,0,0,0,0,0,0,0,0,0,0,0,0,0,0,0,0,0,0,0,0,0,0,0,0,0,0,0,0,0,0,0,0,0,0,0,0,0,0,0,0,0,0,0,0,0,0,0,0,0,0,0,0,0,0,0,0,0,0,0,0,0,0,0,0,0,0,0,0,0,0,0,0,0,0,0,0,0,0,0,0,0,0,0,0,0,0,0,0,0,0,0,0,0,0,0,0,0,0,0,0,0,0,0,0,0,0,0,0,0,0,0,0,0,0,0,0,0,0,0,0,0,0,0,0,0,0,0,0,0,0,0,0,0,0,0,0,0,0,0,0,0,0,0,0,0,0,0,0,0,0,0,0,0,0,0,0,0,0,0,0,0,0,0,0,0,0,0,0,0,0,0,0,0,0,0,0,0,0,0,0,0,0,0,0,0,0,0,0,0,0,0,0,0,0,0,0,0,0,0,0,0,0,0,0,0,0,0,0]},\"selected\":{\"id\":\"3023\"},\"selection_policy\":{\"id\":\"3037\"}},\"id\":\"3022\",\"type\":\"ColumnDataSource\"},{\"attributes\":{\"coordinates\":null,\"data_source\":{\"id\":\"3065\"},\"glyph\":{\"id\":\"3068\"},\"group\":null,\"hover_glyph\":null,\"muted_glyph\":{\"id\":\"3070\"},\"nonselection_glyph\":{\"id\":\"3069\"},\"selection_glyph\":{\"id\":\"3088\"},\"view\":{\"id\":\"3072\"}},\"id\":\"3071\",\"type\":\"GlyphRenderer\"},{\"attributes\":{\"axis\":{\"id\":\"2999\"},\"coordinates\":null,\"dimension\":1,\"grid_line_color\":null,\"group\":null,\"ticker\":null},\"id\":\"3002\",\"type\":\"Grid\"},{\"attributes\":{},\"id\":\"2993\",\"type\":\"LinearScale\"},{\"attributes\":{},\"id\":\"3003\",\"type\":\"SaveTool\"},{\"attributes\":{},\"id\":\"3000\",\"type\":\"BasicTicker\"},{\"attributes\":{\"source\":{\"id\":\"3043\"}},\"id\":\"3050\",\"type\":\"CDSView\"},{\"attributes\":{\"axis\":{\"id\":\"2995\"},\"coordinates\":null,\"grid_line_color\":null,\"group\":null,\"ticker\":null},\"id\":\"2998\",\"type\":\"Grid\"},{\"attributes\":{},\"id\":\"3005\",\"type\":\"WheelZoomTool\"},{\"attributes\":{\"axis_label\":\"Infection_Risk\",\"coordinates\":null,\"formatter\":{\"id\":\"3020\"},\"group\":null,\"major_label_policy\":{\"id\":\"3021\"},\"ticker\":{\"id\":\"3000\"}},\"id\":\"2999\",\"type\":\"LinearAxis\"},{\"attributes\":{\"coordinates\":null,\"data_source\":{\"id\":\"3043\"},\"glyph\":{\"id\":\"3046\"},\"group\":null,\"hover_glyph\":null,\"muted_glyph\":{\"id\":\"3048\"},\"nonselection_glyph\":{\"id\":\"3047\"},\"selection_glyph\":{\"id\":\"3064\"},\"view\":{\"id\":\"3050\"}},\"id\":\"3049\",\"type\":\"GlyphRenderer\"},{\"attributes\":{\"overlay\":{\"id\":\"3008\"}},\"id\":\"3006\",\"type\":\"BoxZoomTool\"},{\"attributes\":{\"angle\":{\"value\":0.0},\"fill_alpha\":{\"value\":1.0},\"fill_color\":{\"value\":\"#6d904f\"},\"hatch_alpha\":{\"value\":1.0},\"hatch_color\":{\"value\":\"#6d904f\"},\"hatch_scale\":{\"value\":12.0},\"hatch_weight\":{\"value\":1.0},\"line_alpha\":{\"value\":1.0},\"line_cap\":{\"value\":\"butt\"},\"line_color\":{\"value\":\"#6d904f\"},\"line_dash\":{\"value\":[]},\"line_dash_offset\":{\"value\":0},\"line_join\":{\"value\":\"bevel\"},\"line_width\":{\"value\":1},\"marker\":{\"value\":\"circle\"},\"size\":{\"value\":5.477225575051661},\"x\":{\"field\":\"NewDeaths\"},\"y\":{\"field\":\"Infection_Risk\"}},\"id\":\"3114\",\"type\":\"Scatter\"},{\"attributes\":{},\"id\":\"3007\",\"type\":\"ResetTool\"},{\"attributes\":{},\"id\":\"3044\",\"type\":\"Selection\"},{\"attributes\":{\"fill_alpha\":{\"value\":0.1},\"fill_color\":{\"value\":\"#fc4f30\"},\"hatch_alpha\":{\"value\":0.1},\"hatch_color\":{\"value\":\"#fc4f30\"},\"line_alpha\":{\"value\":0.1},\"line_color\":{\"value\":\"#fc4f30\"},\"size\":{\"value\":5.477225575051661},\"x\":{\"field\":\"NewDeaths\"},\"y\":{\"field\":\"Infection_Risk\"}},\"id\":\"3047\",\"type\":\"Scatter\"},{\"attributes\":{},\"id\":\"3084\",\"type\":\"UnionRenderers\"},{\"attributes\":{\"bottom_units\":\"screen\",\"coordinates\":null,\"fill_alpha\":0.5,\"fill_color\":\"lightgrey\",\"group\":null,\"left_units\":\"screen\",\"level\":\"overlay\",\"line_alpha\":1.0,\"line_color\":\"black\",\"line_dash\":[4,4],\"line_width\":2,\"right_units\":\"screen\",\"syncable\":false,\"top_units\":\"screen\"},\"id\":\"3008\",\"type\":\"BoxAnnotation\"},{\"attributes\":{},\"id\":\"3037\",\"type\":\"UnionRenderers\"},{\"attributes\":{\"fill_alpha\":{\"value\":0.1},\"fill_color\":{\"value\":\"#6d904f\"},\"hatch_alpha\":{\"value\":0.1},\"hatch_color\":{\"value\":\"#6d904f\"},\"line_alpha\":{\"value\":0.1},\"line_color\":{\"value\":\"#6d904f\"},\"size\":{\"value\":5.477225575051661},\"x\":{\"field\":\"NewDeaths\"},\"y\":{\"field\":\"Infection_Risk\"}},\"id\":\"3093\",\"type\":\"Scatter\"},{\"attributes\":{\"children\":[{\"id\":\"2978\"},{\"id\":\"2986\"},{\"id\":\"3305\"}],\"margin\":[0,0,0,0],\"name\":\"Row06029\",\"tags\":[\"embedded\"]},\"id\":\"2977\",\"type\":\"Row\"},{\"attributes\":{\"margin\":[5,5,5,5],\"name\":\"HSpacer06033\",\"sizing_mode\":\"stretch_width\"},\"id\":\"2978\",\"type\":\"Spacer\"},{\"attributes\":{\"fill_color\":{\"value\":\"#30a2da\"},\"hatch_color\":{\"value\":\"#30a2da\"},\"line_color\":{\"value\":\"#30a2da\"},\"size\":{\"value\":5.477225575051661},\"x\":{\"field\":\"NewDeaths\"},\"y\":{\"field\":\"Infection_Risk\"}},\"id\":\"3025\",\"type\":\"Scatter\"},{\"attributes\":{\"fill_color\":{\"value\":\"#8b8b8b\"},\"hatch_color\":{\"value\":\"#8b8b8b\"},\"line_color\":{\"value\":\"#8b8b8b\"},\"size\":{\"value\":5.477225575051661},\"x\":{\"field\":\"NewDeaths\"},\"y\":{\"field\":\"Infection_Risk\"}},\"id\":\"3118\",\"type\":\"Scatter\"},{\"attributes\":{},\"id\":\"3018\",\"type\":\"AllLabels\"},{\"attributes\":{},\"id\":\"3060\",\"type\":\"UnionRenderers\"},{\"attributes\":{},\"id\":\"3138\",\"type\":\"UnionRenderers\"},{\"attributes\":{\"label\":{\"value\":\"4\"},\"renderers\":[{\"id\":\"3121\"}]},\"id\":\"3141\",\"type\":\"LegendItem\"},{\"attributes\":{},\"id\":\"3023\",\"type\":\"Selection\"},{\"attributes\":{\"tools\":[{\"id\":\"2981\"},{\"id\":\"3003\"},{\"id\":\"3004\"},{\"id\":\"3005\"},{\"id\":\"3006\"},{\"id\":\"3007\"}]},\"id\":\"3009\",\"type\":\"Toolbar\"},{\"attributes\":{},\"id\":\"3116\",\"type\":\"Selection\"},{\"attributes\":{\"fill_alpha\":{\"value\":0.2},\"fill_color\":{\"value\":\"#8b8b8b\"},\"hatch_alpha\":{\"value\":0.2},\"hatch_color\":{\"value\":\"#8b8b8b\"},\"line_alpha\":{\"value\":0.2},\"line_color\":{\"value\":\"#8b8b8b\"},\"size\":{\"value\":5.477225575051661},\"x\":{\"field\":\"NewDeaths\"},\"y\":{\"field\":\"Infection_Risk\"}},\"id\":\"3120\",\"type\":\"Scatter\"},{\"attributes\":{\"angle\":{\"value\":0.0},\"fill_alpha\":{\"value\":1.0},\"fill_color\":{\"value\":\"#e5ae38\"},\"hatch_alpha\":{\"value\":1.0},\"hatch_color\":{\"value\":\"#e5ae38\"},\"hatch_scale\":{\"value\":12.0},\"hatch_weight\":{\"value\":1.0},\"line_alpha\":{\"value\":1.0},\"line_cap\":{\"value\":\"butt\"},\"line_color\":{\"value\":\"#e5ae38\"},\"line_dash\":{\"value\":[]},\"line_dash_offset\":{\"value\":0},\"line_join\":{\"value\":\"bevel\"},\"line_width\":{\"value\":1},\"marker\":{\"value\":\"circle\"},\"size\":{\"value\":5.477225575051661},\"x\":{\"field\":\"NewDeaths\"},\"y\":{\"field\":\"Infection_Risk\"}},\"id\":\"3088\",\"type\":\"Scatter\"},{\"attributes\":{\"margin\":[5,5,5,5],\"name\":\"HSpacer06034\",\"sizing_mode\":\"stretch_width\"},\"id\":\"3305\",\"type\":\"Spacer\"},{\"attributes\":{\"fill_alpha\":{\"value\":0.1},\"fill_color\":{\"value\":\"#8b8b8b\"},\"hatch_alpha\":{\"value\":0.1},\"hatch_color\":{\"value\":\"#8b8b8b\"},\"line_alpha\":{\"value\":0.1},\"line_color\":{\"value\":\"#8b8b8b\"},\"size\":{\"value\":5.477225575051661},\"x\":{\"field\":\"NewDeaths\"},\"y\":{\"field\":\"Infection_Risk\"}},\"id\":\"3119\",\"type\":\"Scatter\"},{\"attributes\":{\"source\":{\"id\":\"3115\"}},\"id\":\"3122\",\"type\":\"CDSView\"},{\"attributes\":{\"coordinates\":null,\"data_source\":{\"id\":\"3115\"},\"glyph\":{\"id\":\"3118\"},\"group\":null,\"hover_glyph\":null,\"muted_glyph\":{\"id\":\"3120\"},\"nonselection_glyph\":{\"id\":\"3119\"},\"selection_glyph\":{\"id\":\"3142\"},\"view\":{\"id\":\"3122\"}},\"id\":\"3121\",\"type\":\"GlyphRenderer\"},{\"attributes\":{\"data\":{\"Infection_Risk\":{\"__ndarray__\":\"4XoUrkfhK0CF61G4HoUoQHE9CtejsDhAUrgehetRFUCamZmZmZkvQEjhehSuRxFA7FG4HoUrMkCPwvUoXG9FQD0K16NwfUBAUrgehetRFUAK16NwPepDQLgehetR+DFASOF6FK7HPUC4HoXrUTgwQD0K16Nw/UFAj8L1KFyPEEDhehSuR+ErQIXrUbgehShAcT0K16OwOEBSuB6F61EVQJqZmZmZmS9ASOF6FK5HEUDsUbgehSsyQI/C9Shcb0VAPQrXo3B9QEBSuB6F61EVQArXo3A96kNAuB6F61H4MUBI4XoUrsc9QLgehetRODBAPQrXo3D9QUCPwvUoXI8QQA==\",\"dtype\":\"float64\",\"order\":\"little\",\"shape\":[32]},\"NewDeaths\":[0,287,0,38,0,11,14,17,0,97,0,0,0,74,0,0,0,287,0,38,0,11,14,17,0,97,0,0,0,74,0,0],\"class\":[4,4,4,4,4,4,4,4,4,4,4,4,4,4,4,4,4,4,4,4,4,4,4,4,4,4,4,4,4,4,4,4]},\"selected\":{\"id\":\"3116\"},\"selection_policy\":{\"id\":\"3138\"}},\"id\":\"3115\",\"type\":\"ColumnDataSource\"},{\"attributes\":{},\"id\":\"3090\",\"type\":\"Selection\"},{\"attributes\":{\"fill_color\":{\"value\":\"#6d904f\"},\"hatch_color\":{\"value\":\"#6d904f\"},\"line_color\":{\"value\":\"#6d904f\"},\"size\":{\"value\":5.477225575051661},\"x\":{\"field\":\"NewDeaths\"},\"y\":{\"field\":\"Infection_Risk\"}},\"id\":\"3092\",\"type\":\"Scatter\"}],\"root_ids\":[\"2977\"]},\"title\":\"Bokeh Application\",\"version\":\"2.4.2\"}};\n",
       "    var render_items = [{\"docid\":\"eca340bf-ac23-470a-ae3d-d235c137abd2\",\"root_ids\":[\"2977\"],\"roots\":{\"2977\":\"f64131ee-6099-4794-b6d3-0bce8a634934\"}}];\n",
       "    root.Bokeh.embed.embed_items_notebook(docs_json, render_items);\n",
       "  }\n",
       "  if (root.Bokeh !== undefined && root.Bokeh.Panel !== undefined) {\n",
       "    embed_document(root);\n",
       "  } else {\n",
       "    var attempts = 0;\n",
       "    var timer = setInterval(function(root) {\n",
       "      if (root.Bokeh !== undefined && root.Bokeh.Panel !== undefined) {\n",
       "        clearInterval(timer);\n",
       "        embed_document(root);\n",
       "      } else if (document.readyState == \"complete\") {\n",
       "        attempts++;\n",
       "        if (attempts > 200) {\n",
       "          clearInterval(timer);\n",
       "          console.log(\"Bokeh: ERROR: Unable to run BokehJS code because BokehJS library is missing\");\n",
       "        }\n",
       "      }\n",
       "    }, 25, root)\n",
       "  }\n",
       "})(window);</script>"
      ],
      "text/plain": [
       ":NdOverlay   [class]\n",
       "   :Scatter   [NewDeaths]   (Infection_Risk)"
      ]
     },
     "execution_count": 29,
     "metadata": {
      "application/vnd.holoviews_exec.v0+json": {
       "id": "2977"
      }
     },
     "output_type": "execute_result"
    }
   ],
   "source": [
    "# Create a scatterplot of covid_data\n",
    "covid_data_df.hvplot.scatter(x=\"NewDeaths\", y=\"Infection_Risk\", by=\"class\")"
   ]
  },
  {
   "cell_type": "code",
   "execution_count": 30,
   "metadata": {},
   "outputs": [
    {
     "data": {},
     "metadata": {},
     "output_type": "display_data"
    },
    {
     "data": {
      "application/vnd.holoviews_exec.v0+json": "",
      "text/html": [
       "<div id='3397'>\n",
       "\n",
       "\n",
       "\n",
       "\n",
       "\n",
       "  <div class=\"bk-root\" id=\"8b736663-d02d-449f-a4b8-15a4092022f0\" data-root-id=\"3397\"></div>\n",
       "</div>\n",
       "<script type=\"application/javascript\">(function(root) {\n",
       "  function embed_document(root) {\n",
       "    var docs_json = {\"16dfcc55-cf02-4a3c-abf9-4a7148e450b6\":{\"defs\":[{\"extends\":null,\"module\":null,\"name\":\"ReactiveHTML1\",\"overrides\":[],\"properties\":[]},{\"extends\":null,\"module\":null,\"name\":\"FlexBox1\",\"overrides\":[],\"properties\":[{\"default\":\"flex-start\",\"kind\":null,\"name\":\"align_content\"},{\"default\":\"flex-start\",\"kind\":null,\"name\":\"align_items\"},{\"default\":\"row\",\"kind\":null,\"name\":\"flex_direction\"},{\"default\":\"wrap\",\"kind\":null,\"name\":\"flex_wrap\"},{\"default\":\"flex-start\",\"kind\":null,\"name\":\"justify_content\"}]},{\"extends\":null,\"module\":null,\"name\":\"TemplateActions1\",\"overrides\":[],\"properties\":[{\"default\":0,\"kind\":null,\"name\":\"open_modal\"},{\"default\":0,\"kind\":null,\"name\":\"close_modal\"}]},{\"extends\":null,\"module\":null,\"name\":\"MaterialTemplateActions1\",\"overrides\":[],\"properties\":[{\"default\":0,\"kind\":null,\"name\":\"open_modal\"},{\"default\":0,\"kind\":null,\"name\":\"close_modal\"}]}],\"roots\":{\"references\":[{\"attributes\":{},\"id\":\"3411\",\"type\":\"LinearScale\"},{\"attributes\":{\"fill_color\":{\"value\":\"#e5ae38\"},\"hatch_color\":{\"value\":\"#e5ae38\"},\"line_color\":{\"value\":\"#e5ae38\"},\"size\":{\"value\":5.477225575051661},\"x\":{\"field\":\"NewCases\"},\"y\":{\"field\":\"Infection_Risk\"}},\"id\":\"3488\",\"type\":\"Scatter\"},{\"attributes\":{\"fill_alpha\":{\"value\":0.1},\"fill_color\":{\"value\":\"#30a2da\"},\"hatch_alpha\":{\"value\":0.1},\"hatch_color\":{\"value\":\"#30a2da\"},\"line_alpha\":{\"value\":0.1},\"line_color\":{\"value\":\"#30a2da\"},\"size\":{\"value\":5.477225575051661},\"x\":{\"field\":\"NewCases\"},\"y\":{\"field\":\"Infection_Risk\"}},\"id\":\"3446\",\"type\":\"Scatter\"},{\"attributes\":{\"source\":{\"id\":\"3509\"}},\"id\":\"3516\",\"type\":\"CDSView\"},{\"attributes\":{\"fill_alpha\":{\"value\":0.2},\"fill_color\":{\"value\":\"#30a2da\"},\"hatch_alpha\":{\"value\":0.2},\"hatch_color\":{\"value\":\"#30a2da\"},\"line_alpha\":{\"value\":0.2},\"line_color\":{\"value\":\"#30a2da\"},\"size\":{\"value\":5.477225575051661},\"x\":{\"field\":\"NewCases\"},\"y\":{\"field\":\"Infection_Risk\"}},\"id\":\"3447\",\"type\":\"Scatter\"},{\"attributes\":{\"coordinates\":null,\"data_source\":{\"id\":\"3442\"},\"glyph\":{\"id\":\"3445\"},\"group\":null,\"hover_glyph\":null,\"muted_glyph\":{\"id\":\"3447\"},\"nonselection_glyph\":{\"id\":\"3446\"},\"selection_glyph\":{\"id\":\"3462\"},\"view\":{\"id\":\"3449\"}},\"id\":\"3448\",\"type\":\"GlyphRenderer\"},{\"attributes\":{},\"id\":\"3504\",\"type\":\"UnionRenderers\"},{\"attributes\":{\"source\":{\"id\":\"3442\"}},\"id\":\"3449\",\"type\":\"CDSView\"},{\"attributes\":{},\"id\":\"3437\",\"type\":\"BasicTickFormatter\"},{\"attributes\":{\"label\":{\"value\":\"3\"},\"renderers\":[{\"id\":\"3515\"}]},\"id\":\"3533\",\"type\":\"LegendItem\"},{\"attributes\":{\"click_policy\":\"mute\",\"coordinates\":null,\"group\":null,\"items\":[{\"id\":\"3461\"},{\"id\":\"3483\"},{\"id\":\"3507\"},{\"id\":\"3533\"},{\"id\":\"3561\"}],\"location\":[0,0],\"title\":\"class\"},\"id\":\"3460\",\"type\":\"Legend\"},{\"attributes\":{\"label\":{\"value\":\"2\"},\"renderers\":[{\"id\":\"3491\"}]},\"id\":\"3507\",\"type\":\"LegendItem\"},{\"attributes\":{},\"id\":\"3530\",\"type\":\"UnionRenderers\"},{\"attributes\":{\"label\":{\"value\":\"0\"},\"renderers\":[{\"id\":\"3448\"}]},\"id\":\"3461\",\"type\":\"LegendItem\"},{\"attributes\":{\"angle\":{\"value\":0.0},\"fill_alpha\":{\"value\":1.0},\"fill_color\":{\"value\":\"#30a2da\"},\"hatch_alpha\":{\"value\":1.0},\"hatch_color\":{\"value\":\"#30a2da\"},\"hatch_scale\":{\"value\":12.0},\"hatch_weight\":{\"value\":1.0},\"line_alpha\":{\"value\":1.0},\"line_cap\":{\"value\":\"butt\"},\"line_color\":{\"value\":\"#30a2da\"},\"line_dash\":{\"value\":[]},\"line_dash_offset\":{\"value\":0},\"line_join\":{\"value\":\"bevel\"},\"line_width\":{\"value\":1},\"marker\":{\"value\":\"circle\"},\"size\":{\"value\":5.477225575051661},\"x\":{\"field\":\"NewCases\"},\"y\":{\"field\":\"Infection_Risk\"}},\"id\":\"3462\",\"type\":\"Scatter\"},{\"attributes\":{\"callback\":null,\"renderers\":[{\"id\":\"3448\"},{\"id\":\"3469\"},{\"id\":\"3491\"},{\"id\":\"3515\"},{\"id\":\"3541\"}],\"tags\":[\"hv_created\"],\"tooltips\":[[\"class\",\"@{class}\"],[\"NewCases\",\"@{NewCases}\"],[\"Infection_Risk\",\"@{Infection_Risk}\"]]},\"id\":\"3401\",\"type\":\"HoverTool\"},{\"attributes\":{},\"id\":\"3416\",\"type\":\"BasicTicker\"},{\"attributes\":{\"data\":{\"Infection_Risk\":{\"__ndarray__\":\"cT0K16OwOUBI4XoUrsc5QA==\",\"dtype\":\"float64\",\"order\":\"little\",\"shape\":[2]},\"NewCases\":[0,73087],\"class\":[2,2]},\"selected\":{\"id\":\"3486\"},\"selection_policy\":{\"id\":\"3504\"}},\"id\":\"3485\",\"type\":\"ColumnDataSource\"},{\"attributes\":{},\"id\":\"3486\",\"type\":\"Selection\"},{\"attributes\":{\"fill_color\":{\"value\":\"#fc4f30\"},\"hatch_color\":{\"value\":\"#fc4f30\"},\"line_color\":{\"value\":\"#fc4f30\"},\"size\":{\"value\":5.477225575051661},\"x\":{\"field\":\"NewCases\"},\"y\":{\"field\":\"Infection_Risk\"}},\"id\":\"3466\",\"type\":\"Scatter\"},{\"attributes\":{\"margin\":[5,5,5,5],\"name\":\"HSpacer06951\",\"sizing_mode\":\"stretch_width\"},\"id\":\"3398\",\"type\":\"Spacer\"},{\"attributes\":{\"fill_alpha\":{\"value\":0.2},\"fill_color\":{\"value\":\"#e5ae38\"},\"hatch_alpha\":{\"value\":0.2},\"hatch_color\":{\"value\":\"#e5ae38\"},\"line_alpha\":{\"value\":0.2},\"line_color\":{\"value\":\"#e5ae38\"},\"size\":{\"value\":5.477225575051661},\"x\":{\"field\":\"NewCases\"},\"y\":{\"field\":\"Infection_Risk\"}},\"id\":\"3490\",\"type\":\"Scatter\"},{\"attributes\":{\"fill_alpha\":{\"value\":0.2},\"fill_color\":{\"value\":\"#6d904f\"},\"hatch_alpha\":{\"value\":0.2},\"hatch_color\":{\"value\":\"#6d904f\"},\"line_alpha\":{\"value\":0.2},\"line_color\":{\"value\":\"#6d904f\"},\"size\":{\"value\":5.477225575051661},\"x\":{\"field\":\"NewCases\"},\"y\":{\"field\":\"Infection_Risk\"}},\"id\":\"3514\",\"type\":\"Scatter\"},{\"attributes\":{\"data\":{\"Infection_Risk\":{\"__ndarray__\":\"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\",\"dtype\":\"float64\",\"order\":\"little\",\"shape\":[340]},\"NewCases\":[0,0,0,3519,0,1661,0,0,0,1658,0,276,0,0,0,2148,1332,0,266,1471,61,0,1465,0,208,154,0,0,11,0,0,0,97,0,0,0,773,32,802,332,49,0,0,0,0,353,6,0,104,10248,0,0,0,0,427,0,0,0,0,0,0,81,7,32,188,0,0,34,0,0,0,0,0,0,35,0,0,0,0,1038,0,70,0,0,0,0,0,0,400,35,0,0,0,0,0,1,0,530,0,0,0,0,3,0,0,0,33,0,0,0,0,0,0,0,0,0,0,0,0,53,0,0,0,0,0,490,0,0,0,0,0,275,0,0,0,0,0,0,0,0,0,0,0,0,0,0,0,0,0,0,0,0,0,0,0,0,0,0,0,0,0,324,0,164,0,0,0,0,0,1405,0,0,0,3519,0,1661,0,0,0,1658,0,276,0,0,0,2148,1332,0,266,1471,61,0,1465,0,208,154,0,0,11,0,0,0,97,0,0,0,773,32,802,332,49,0,0,0,0,353,6,0,104,10248,0,0,0,0,427,0,0,0,0,0,0,81,7,32,188,0,0,34,0,0,0,0,0,0,35,0,0,0,0,1038,0,70,0,0,0,0,0,0,400,35,0,0,0,0,0,1,0,530,0,0,0,0,3,0,0,0,33,0,0,0,0,0,0,0,0,0,0,0,0,53,0,0,0,0,0,490,0,0,0,0,0,275,0,0,0,0,0,0,0,0,0,0,0,0,0,0,0,0,0,0,0,0,0,0,0,0,0,0,0,0,0,324,0,164,0,0,0,0,0,1405],\"class\":[0,0,0,0,0,0,0,0,0,0,0,0,0,0,0,0,0,0,0,0,0,0,0,0,0,0,0,0,0,0,0,0,0,0,0,0,0,0,0,0,0,0,0,0,0,0,0,0,0,0,0,0,0,0,0,0,0,0,0,0,0,0,0,0,0,0,0,0,0,0,0,0,0,0,0,0,0,0,0,0,0,0,0,0,0,0,0,0,0,0,0,0,0,0,0,0,0,0,0,0,0,0,0,0,0,0,0,0,0,0,0,0,0,0,0,0,0,0,0,0,0,0,0,0,0,0,0,0,0,0,0,0,0,0,0,0,0,0,0,0,0,0,0,0,0,0,0,0,0,0,0,0,0,0,0,0,0,0,0,0,0,0,0,0,0,0,0,0,0,0,0,0,0,0,0,0,0,0,0,0,0,0,0,0,0,0,0,0,0,0,0,0,0,0,0,0,0,0,0,0,0,0,0,0,0,0,0,0,0,0,0,0,0,0,0,0,0,0,0,0,0,0,0,0,0,0,0,0,0,0,0,0,0,0,0,0,0,0,0,0,0,0,0,0,0,0,0,0,0,0,0,0,0,0,0,0,0,0,0,0,0,0,0,0,0,0,0,0,0,0,0,0,0,0,0,0,0,0,0,0,0,0,0,0,0,0,0,0,0,0,0,0,0,0,0,0,0,0,0,0,0,0,0,0,0,0,0,0,0,0,0,0,0,0,0,0,0,0,0,0,0,0,0,0,0,0,0,0,0,0,0,0,0,0,0,0,0,0,0,0]},\"selected\":{\"id\":\"3443\"},\"selection_policy\":{\"id\":\"3457\"}},\"id\":\"3442\",\"type\":\"ColumnDataSource\"},{\"attributes\":{\"below\":[{\"id\":\"3415\"}],\"center\":[{\"id\":\"3418\"},{\"id\":\"3422\"}],\"height\":300,\"left\":[{\"id\":\"3419\"}],\"margin\":[5,5,5,5],\"min_border_bottom\":10,\"min_border_left\":10,\"min_border_right\":10,\"min_border_top\":10,\"renderers\":[{\"id\":\"3448\"},{\"id\":\"3469\"},{\"id\":\"3491\"},{\"id\":\"3515\"},{\"id\":\"3541\"}],\"right\":[{\"id\":\"3460\"}],\"sizing_mode\":\"fixed\",\"title\":{\"id\":\"3407\"},\"toolbar\":{\"id\":\"3429\"},\"width\":700,\"x_range\":{\"id\":\"3399\"},\"x_scale\":{\"id\":\"3411\"},\"y_range\":{\"id\":\"3400\"},\"y_scale\":{\"id\":\"3413\"}},\"id\":\"3406\",\"subtype\":\"Figure\",\"type\":\"Plot\"},{\"attributes\":{\"coordinates\":null,\"group\":null,\"text_color\":\"black\",\"text_font_size\":\"12pt\"},\"id\":\"3407\",\"type\":\"Title\"},{\"attributes\":{\"fill_alpha\":{\"value\":0.2},\"fill_color\":{\"value\":\"#fc4f30\"},\"hatch_alpha\":{\"value\":0.2},\"hatch_color\":{\"value\":\"#fc4f30\"},\"line_alpha\":{\"value\":0.2},\"line_color\":{\"value\":\"#fc4f30\"},\"size\":{\"value\":5.477225575051661},\"x\":{\"field\":\"NewCases\"},\"y\":{\"field\":\"Infection_Risk\"}},\"id\":\"3468\",\"type\":\"Scatter\"},{\"attributes\":{},\"id\":\"3424\",\"type\":\"PanTool\"},{\"attributes\":{\"children\":[{\"id\":\"3398\"},{\"id\":\"3406\"},{\"id\":\"3725\"}],\"margin\":[0,0,0,0],\"name\":\"Row06947\",\"tags\":[\"embedded\"]},\"id\":\"3397\",\"type\":\"Row\"},{\"attributes\":{\"fill_alpha\":{\"value\":0.1},\"fill_color\":{\"value\":\"#e5ae38\"},\"hatch_alpha\":{\"value\":0.1},\"hatch_color\":{\"value\":\"#e5ae38\"},\"line_alpha\":{\"value\":0.1},\"line_color\":{\"value\":\"#e5ae38\"},\"size\":{\"value\":5.477225575051661},\"x\":{\"field\":\"NewCases\"},\"y\":{\"field\":\"Infection_Risk\"}},\"id\":\"3489\",\"type\":\"Scatter\"},{\"attributes\":{\"label\":{\"value\":\"1\"},\"renderers\":[{\"id\":\"3469\"}]},\"id\":\"3483\",\"type\":\"LegendItem\"},{\"attributes\":{\"source\":{\"id\":\"3485\"}},\"id\":\"3492\",\"type\":\"CDSView\"},{\"attributes\":{\"axis_label\":\"NewCases\",\"coordinates\":null,\"formatter\":{\"id\":\"3437\"},\"group\":null,\"major_label_policy\":{\"id\":\"3438\"},\"ticker\":{\"id\":\"3416\"}},\"id\":\"3415\",\"type\":\"LinearAxis\"},{\"attributes\":{\"coordinates\":null,\"data_source\":{\"id\":\"3485\"},\"glyph\":{\"id\":\"3488\"},\"group\":null,\"hover_glyph\":null,\"muted_glyph\":{\"id\":\"3490\"},\"nonselection_glyph\":{\"id\":\"3489\"},\"selection_glyph\":{\"id\":\"3508\"},\"view\":{\"id\":\"3492\"}},\"id\":\"3491\",\"type\":\"GlyphRenderer\"},{\"attributes\":{\"axis\":{\"id\":\"3419\"},\"coordinates\":null,\"dimension\":1,\"grid_line_color\":null,\"group\":null,\"ticker\":null},\"id\":\"3422\",\"type\":\"Grid\"},{\"attributes\":{\"data\":{\"Infection_Risk\":{\"__ndarray__\":\"4XoUrkfhK0CF61G4HoUoQHE9CtejsDhAUrgehetRFUCamZmZmZkvQEjhehSuRxFA7FG4HoUrMkCPwvUoXG9FQD0K16NwfUBAUrgehetRFUAK16NwPepDQLgehetR+DFASOF6FK7HPUC4HoXrUTgwQD0K16Nw/UFAj8L1KFyPEEDhehSuR+ErQIXrUbgehShAcT0K16OwOEBSuB6F61EVQJqZmZmZmS9ASOF6FK5HEUDsUbgehSsyQI/C9Shcb0VAPQrXo3B9QEBSuB6F61EVQArXo3A96kNAuB6F61H4MUBI4XoUrsc9QLgehetRODBAPQrXo3D9QUCPwvUoXI8QQA==\",\"dtype\":\"float64\",\"order\":\"little\",\"shape\":[32]},\"NewCases\":[0,15291,0,48245,493,839,46685,12305,0,24892,0,0,0,11710,0,0,0,15291,0,48245,493,839,46685,12305,0,24892,0,0,0,11710,0,0],\"class\":[4,4,4,4,4,4,4,4,4,4,4,4,4,4,4,4,4,4,4,4,4,4,4,4,4,4,4,4,4,4,4,4]},\"selected\":{\"id\":\"3536\"},\"selection_policy\":{\"id\":\"3558\"}},\"id\":\"3535\",\"type\":\"ColumnDataSource\"},{\"attributes\":{\"angle\":{\"value\":0.0},\"fill_alpha\":{\"value\":1.0},\"fill_color\":{\"value\":\"#8b8b8b\"},\"hatch_alpha\":{\"value\":1.0},\"hatch_color\":{\"value\":\"#8b8b8b\"},\"hatch_scale\":{\"value\":12.0},\"hatch_weight\":{\"value\":1.0},\"line_alpha\":{\"value\":1.0},\"line_cap\":{\"value\":\"butt\"},\"line_color\":{\"value\":\"#8b8b8b\"},\"line_dash\":{\"value\":[]},\"line_dash_offset\":{\"value\":0},\"line_join\":{\"value\":\"bevel\"},\"line_width\":{\"value\":1},\"marker\":{\"value\":\"circle\"},\"size\":{\"value\":5.477225575051661},\"x\":{\"field\":\"NewCases\"},\"y\":{\"field\":\"Infection_Risk\"}},\"id\":\"3562\",\"type\":\"Scatter\"},{\"attributes\":{},\"id\":\"3413\",\"type\":\"LinearScale\"},{\"attributes\":{\"fill_color\":{\"value\":\"#6d904f\"},\"hatch_color\":{\"value\":\"#6d904f\"},\"line_color\":{\"value\":\"#6d904f\"},\"size\":{\"value\":5.477225575051661},\"x\":{\"field\":\"NewCases\"},\"y\":{\"field\":\"Infection_Risk\"}},\"id\":\"3512\",\"type\":\"Scatter\"},{\"attributes\":{},\"id\":\"3423\",\"type\":\"SaveTool\"},{\"attributes\":{\"source\":{\"id\":\"3463\"}},\"id\":\"3470\",\"type\":\"CDSView\"},{\"attributes\":{},\"id\":\"3420\",\"type\":\"BasicTicker\"},{\"attributes\":{\"axis\":{\"id\":\"3415\"},\"coordinates\":null,\"grid_line_color\":null,\"group\":null,\"ticker\":null},\"id\":\"3418\",\"type\":\"Grid\"},{\"attributes\":{},\"id\":\"3425\",\"type\":\"WheelZoomTool\"},{\"attributes\":{\"fill_alpha\":{\"value\":0.1},\"fill_color\":{\"value\":\"#6d904f\"},\"hatch_alpha\":{\"value\":0.1},\"hatch_color\":{\"value\":\"#6d904f\"},\"line_alpha\":{\"value\":0.1},\"line_color\":{\"value\":\"#6d904f\"},\"size\":{\"value\":5.477225575051661},\"x\":{\"field\":\"NewCases\"},\"y\":{\"field\":\"Infection_Risk\"}},\"id\":\"3513\",\"type\":\"Scatter\"},{\"attributes\":{\"axis_label\":\"Infection_Risk\",\"coordinates\":null,\"formatter\":{\"id\":\"3440\"},\"group\":null,\"major_label_policy\":{\"id\":\"3441\"},\"ticker\":{\"id\":\"3420\"}},\"id\":\"3419\",\"type\":\"LinearAxis\"},{\"attributes\":{\"overlay\":{\"id\":\"3428\"}},\"id\":\"3426\",\"type\":\"BoxZoomTool\"},{\"attributes\":{\"fill_alpha\":{\"value\":0.1},\"fill_color\":{\"value\":\"#fc4f30\"},\"hatch_alpha\":{\"value\":0.1},\"hatch_color\":{\"value\":\"#fc4f30\"},\"line_alpha\":{\"value\":0.1},\"line_color\":{\"value\":\"#fc4f30\"},\"size\":{\"value\":5.477225575051661},\"x\":{\"field\":\"NewCases\"},\"y\":{\"field\":\"Infection_Risk\"}},\"id\":\"3467\",\"type\":\"Scatter\"},{\"attributes\":{},\"id\":\"3427\",\"type\":\"ResetTool\"},{\"attributes\":{},\"id\":\"3464\",\"type\":\"Selection\"},{\"attributes\":{\"coordinates\":null,\"data_source\":{\"id\":\"3463\"},\"glyph\":{\"id\":\"3466\"},\"group\":null,\"hover_glyph\":null,\"muted_glyph\":{\"id\":\"3468\"},\"nonselection_glyph\":{\"id\":\"3467\"},\"selection_glyph\":{\"id\":\"3484\"},\"view\":{\"id\":\"3470\"}},\"id\":\"3469\",\"type\":\"GlyphRenderer\"},{\"attributes\":{\"bottom_units\":\"screen\",\"coordinates\":null,\"fill_alpha\":0.5,\"fill_color\":\"lightgrey\",\"group\":null,\"left_units\":\"screen\",\"level\":\"overlay\",\"line_alpha\":1.0,\"line_color\":\"black\",\"line_dash\":[4,4],\"line_width\":2,\"right_units\":\"screen\",\"syncable\":false,\"top_units\":\"screen\"},\"id\":\"3428\",\"type\":\"BoxAnnotation\"},{\"attributes\":{},\"id\":\"3457\",\"type\":\"UnionRenderers\"},{\"attributes\":{\"coordinates\":null,\"data_source\":{\"id\":\"3509\"},\"glyph\":{\"id\":\"3512\"},\"group\":null,\"hover_glyph\":null,\"muted_glyph\":{\"id\":\"3514\"},\"nonselection_glyph\":{\"id\":\"3513\"},\"selection_glyph\":{\"id\":\"3534\"},\"view\":{\"id\":\"3516\"}},\"id\":\"3515\",\"type\":\"GlyphRenderer\"},{\"attributes\":{},\"id\":\"3438\",\"type\":\"AllLabels\"},{\"attributes\":{\"angle\":{\"value\":0.0},\"fill_alpha\":{\"value\":1.0},\"fill_color\":{\"value\":\"#6d904f\"},\"hatch_alpha\":{\"value\":1.0},\"hatch_color\":{\"value\":\"#6d904f\"},\"hatch_scale\":{\"value\":12.0},\"hatch_weight\":{\"value\":1.0},\"line_alpha\":{\"value\":1.0},\"line_cap\":{\"value\":\"butt\"},\"line_color\":{\"value\":\"#6d904f\"},\"line_dash\":{\"value\":[]},\"line_dash_offset\":{\"value\":0},\"line_join\":{\"value\":\"bevel\"},\"line_width\":{\"value\":1},\"marker\":{\"value\":\"circle\"},\"size\":{\"value\":5.477225575051661},\"x\":{\"field\":\"NewCases\"},\"y\":{\"field\":\"Infection_Risk\"}},\"id\":\"3534\",\"type\":\"Scatter\"},{\"attributes\":{},\"id\":\"3441\",\"type\":\"AllLabels\"},{\"attributes\":{},\"id\":\"3480\",\"type\":\"UnionRenderers\"},{\"attributes\":{\"fill_color\":{\"value\":\"#8b8b8b\"},\"hatch_color\":{\"value\":\"#8b8b8b\"},\"line_color\":{\"value\":\"#8b8b8b\"},\"size\":{\"value\":5.477225575051661},\"x\":{\"field\":\"NewCases\"},\"y\":{\"field\":\"Infection_Risk\"}},\"id\":\"3538\",\"type\":\"Scatter\"},{\"attributes\":{},\"id\":\"3443\",\"type\":\"Selection\"},{\"attributes\":{},\"id\":\"3558\",\"type\":\"UnionRenderers\"},{\"attributes\":{\"data\":{\"Infection_Risk\":{\"__ndarray__\":\"uB6F61F4OEC4HoXrUXg4QA==\",\"dtype\":\"float64\",\"order\":\"little\",\"shape\":[2]},\"NewCases\":[0,0],\"class\":[1,1]},\"selected\":{\"id\":\"3464\"},\"selection_policy\":{\"id\":\"3480\"}},\"id\":\"3463\",\"type\":\"ColumnDataSource\"},{\"attributes\":{\"fill_color\":{\"value\":\"#30a2da\"},\"hatch_color\":{\"value\":\"#30a2da\"},\"line_color\":{\"value\":\"#30a2da\"},\"size\":{\"value\":5.477225575051661},\"x\":{\"field\":\"NewCases\"},\"y\":{\"field\":\"Infection_Risk\"}},\"id\":\"3445\",\"type\":\"Scatter\"},{\"attributes\":{\"label\":{\"value\":\"4\"},\"renderers\":[{\"id\":\"3541\"}]},\"id\":\"3561\",\"type\":\"LegendItem\"},{\"attributes\":{\"tools\":[{\"id\":\"3401\"},{\"id\":\"3423\"},{\"id\":\"3424\"},{\"id\":\"3425\"},{\"id\":\"3426\"},{\"id\":\"3427\"}]},\"id\":\"3429\",\"type\":\"Toolbar\"},{\"attributes\":{},\"id\":\"3440\",\"type\":\"BasicTickFormatter\"},{\"attributes\":{\"angle\":{\"value\":0.0},\"fill_alpha\":{\"value\":1.0},\"fill_color\":{\"value\":\"#e5ae38\"},\"hatch_alpha\":{\"value\":1.0},\"hatch_color\":{\"value\":\"#e5ae38\"},\"hatch_scale\":{\"value\":12.0},\"hatch_weight\":{\"value\":1.0},\"line_alpha\":{\"value\":1.0},\"line_cap\":{\"value\":\"butt\"},\"line_color\":{\"value\":\"#e5ae38\"},\"line_dash\":{\"value\":[]},\"line_dash_offset\":{\"value\":0},\"line_join\":{\"value\":\"bevel\"},\"line_width\":{\"value\":1},\"marker\":{\"value\":\"circle\"},\"size\":{\"value\":5.477225575051661},\"x\":{\"field\":\"NewCases\"},\"y\":{\"field\":\"Infection_Risk\"}},\"id\":\"3508\",\"type\":\"Scatter\"},{\"attributes\":{},\"id\":\"3536\",\"type\":\"Selection\"},{\"attributes\":{\"fill_alpha\":{\"value\":0.2},\"fill_color\":{\"value\":\"#8b8b8b\"},\"hatch_alpha\":{\"value\":0.2},\"hatch_color\":{\"value\":\"#8b8b8b\"},\"line_alpha\":{\"value\":0.2},\"line_color\":{\"value\":\"#8b8b8b\"},\"size\":{\"value\":5.477225575051661},\"x\":{\"field\":\"NewCases\"},\"y\":{\"field\":\"Infection_Risk\"}},\"id\":\"3540\",\"type\":\"Scatter\"},{\"attributes\":{\"data\":{\"Infection_Risk\":{\"__ndarray__\":\"16NwPQrXQ0AfhetRuJ44QPYoXI/C9SNAZmZmZmYGR0DXo3A9CtdDQB+F61G4njhA9ihcj8L1I0BmZmZmZgZHQA==\",\"dtype\":\"float64\",\"order\":\"little\",\"shape\":[8]},\"NewCases\":[0,0,48717,12387,0,0,48717,12387],\"class\":[3,3,3,3,3,3,3,3]},\"selected\":{\"id\":\"3510\"},\"selection_policy\":{\"id\":\"3530\"}},\"id\":\"3509\",\"type\":\"ColumnDataSource\"},{\"attributes\":{\"source\":{\"id\":\"3535\"}},\"id\":\"3542\",\"type\":\"CDSView\"},{\"attributes\":{\"fill_alpha\":{\"value\":0.1},\"fill_color\":{\"value\":\"#8b8b8b\"},\"hatch_alpha\":{\"value\":0.1},\"hatch_color\":{\"value\":\"#8b8b8b\"},\"line_alpha\":{\"value\":0.1},\"line_color\":{\"value\":\"#8b8b8b\"},\"size\":{\"value\":5.477225575051661},\"x\":{\"field\":\"NewCases\"},\"y\":{\"field\":\"Infection_Risk\"}},\"id\":\"3539\",\"type\":\"Scatter\"},{\"attributes\":{\"end\":76219.3,\"reset_end\":76219.3,\"reset_start\":-3132.3,\"start\":-3132.3,\"tags\":[[[\"NewCases\",\"NewCases\",null]]]},\"id\":\"3399\",\"type\":\"Range1d\"},{\"attributes\":{\"margin\":[5,5,5,5],\"name\":\"HSpacer06952\",\"sizing_mode\":\"stretch_width\"},\"id\":\"3725\",\"type\":\"Spacer\"},{\"attributes\":{\"coordinates\":null,\"data_source\":{\"id\":\"3535\"},\"glyph\":{\"id\":\"3538\"},\"group\":null,\"hover_glyph\":null,\"muted_glyph\":{\"id\":\"3540\"},\"nonselection_glyph\":{\"id\":\"3539\"},\"selection_glyph\":{\"id\":\"3562\"},\"view\":{\"id\":\"3542\"}},\"id\":\"3541\",\"type\":\"GlyphRenderer\"},{\"attributes\":{},\"id\":\"3510\",\"type\":\"Selection\"},{\"attributes\":{\"angle\":{\"value\":0.0},\"fill_alpha\":{\"value\":1.0},\"fill_color\":{\"value\":\"#fc4f30\"},\"hatch_alpha\":{\"value\":1.0},\"hatch_color\":{\"value\":\"#fc4f30\"},\"hatch_scale\":{\"value\":12.0},\"hatch_weight\":{\"value\":1.0},\"line_alpha\":{\"value\":1.0},\"line_cap\":{\"value\":\"butt\"},\"line_color\":{\"value\":\"#fc4f30\"},\"line_dash\":{\"value\":[]},\"line_dash_offset\":{\"value\":0},\"line_join\":{\"value\":\"bevel\"},\"line_width\":{\"value\":1},\"marker\":{\"value\":\"circle\"},\"size\":{\"value\":5.477225575051661},\"x\":{\"field\":\"NewCases\"},\"y\":{\"field\":\"Infection_Risk\"}},\"id\":\"3484\",\"type\":\"Scatter\"},{\"attributes\":{\"end\":57.958999999999996,\"reset_end\":57.958999999999996,\"reset_start\":-5.269,\"start\":-5.269,\"tags\":[[[\"Infection_Risk\",\"Infection_Risk\",null]]]},\"id\":\"3400\",\"type\":\"Range1d\"}],\"root_ids\":[\"3397\"]},\"title\":\"Bokeh Application\",\"version\":\"2.4.2\"}};\n",
       "    var render_items = [{\"docid\":\"16dfcc55-cf02-4a3c-abf9-4a7148e450b6\",\"root_ids\":[\"3397\"],\"roots\":{\"3397\":\"8b736663-d02d-449f-a4b8-15a4092022f0\"}}];\n",
       "    root.Bokeh.embed.embed_items_notebook(docs_json, render_items);\n",
       "  }\n",
       "  if (root.Bokeh !== undefined && root.Bokeh.Panel !== undefined) {\n",
       "    embed_document(root);\n",
       "  } else {\n",
       "    var attempts = 0;\n",
       "    var timer = setInterval(function(root) {\n",
       "      if (root.Bokeh !== undefined && root.Bokeh.Panel !== undefined) {\n",
       "        clearInterval(timer);\n",
       "        embed_document(root);\n",
       "      } else if (document.readyState == \"complete\") {\n",
       "        attempts++;\n",
       "        if (attempts > 200) {\n",
       "          clearInterval(timer);\n",
       "          console.log(\"Bokeh: ERROR: Unable to run BokehJS code because BokehJS library is missing\");\n",
       "        }\n",
       "      }\n",
       "    }, 25, root)\n",
       "  }\n",
       "})(window);</script>"
      ],
      "text/plain": [
       ":NdOverlay   [class]\n",
       "   :Scatter   [NewCases]   (Infection_Risk)"
      ]
     },
     "execution_count": 30,
     "metadata": {
      "application/vnd.holoviews_exec.v0+json": {
       "id": "3397"
      }
     },
     "output_type": "execute_result"
    }
   ],
   "source": [
    "# Create a scatterplot of covid_data\n",
    "covid_data_df.hvplot.scatter(x=\"NewCases\", y=\"Infection_Risk\", by=\"class\")"
   ]
  },
  {
   "cell_type": "code",
   "execution_count": 31,
   "metadata": {},
   "outputs": [
    {
     "data": {
      "application/vnd.plotly.v1+json": {
       "config": {
        "plotlyServerURL": "https://plot.ly"
       },
       "data": [
        {
         "hovertemplate": "class=%{marker.color}<br>NewCases=%{x}<br>Infection_Risk=%{y}<br>NewDeaths=%{z}<extra></extra>",
         "legendgroup": "1",
         "marker": {
          "color": [
           1,
           1
          ],
          "coloraxis": "coloraxis",
          "symbol": "circle"
         },
         "mode": "markers",
         "name": "1",
         "scene": "scene",
         "showlegend": true,
         "type": "scatter3d",
         "x": [
          0,
          0
         ],
         "y": [
          24.47,
          24.47
         ],
         "z": [
          0,
          0
         ]
        },
        {
         "hovertemplate": "class=%{marker.color}<br>NewCases=%{x}<br>Infection_Risk=%{y}<br>NewDeaths=%{z}<extra></extra>",
         "legendgroup": "0",
         "marker": {
          "color": [
           0,
           0,
           0,
           0,
           0,
           0,
           0,
           0,
           0,
           0,
           0,
           0,
           0,
           0,
           0,
           0,
           0,
           0,
           0,
           0,
           0,
           0,
           0,
           0,
           0,
           0,
           0,
           0,
           0,
           0,
           0,
           0,
           0,
           0,
           0,
           0,
           0,
           0,
           0,
           0,
           0,
           0,
           0,
           0,
           0,
           0,
           0,
           0,
           0,
           0,
           0,
           0,
           0,
           0,
           0,
           0,
           0,
           0,
           0,
           0,
           0,
           0,
           0,
           0,
           0,
           0,
           0,
           0,
           0,
           0,
           0,
           0,
           0,
           0,
           0,
           0,
           0,
           0,
           0,
           0,
           0,
           0,
           0,
           0,
           0,
           0,
           0,
           0,
           0,
           0,
           0,
           0,
           0,
           0,
           0,
           0,
           0,
           0,
           0,
           0,
           0,
           0,
           0,
           0,
           0,
           0,
           0,
           0,
           0,
           0,
           0,
           0,
           0,
           0,
           0,
           0,
           0,
           0,
           0,
           0,
           0,
           0,
           0,
           0,
           0,
           0,
           0,
           0,
           0,
           0,
           0,
           0,
           0,
           0,
           0,
           0,
           0,
           0,
           0,
           0,
           0,
           0,
           0,
           0,
           0,
           0,
           0,
           0,
           0,
           0,
           0,
           0,
           0,
           0,
           0,
           0,
           0,
           0,
           0,
           0,
           0,
           0,
           0,
           0,
           0,
           0,
           0,
           0,
           0,
           0,
           0,
           0,
           0,
           0,
           0,
           0,
           0,
           0,
           0,
           0,
           0,
           0,
           0,
           0,
           0,
           0,
           0,
           0,
           0,
           0,
           0,
           0,
           0,
           0,
           0,
           0,
           0,
           0,
           0,
           0,
           0,
           0,
           0,
           0,
           0,
           0,
           0,
           0,
           0,
           0,
           0,
           0,
           0,
           0,
           0,
           0,
           0,
           0,
           0,
           0,
           0,
           0,
           0,
           0,
           0,
           0,
           0,
           0,
           0,
           0,
           0,
           0,
           0,
           0,
           0,
           0,
           0,
           0,
           0,
           0,
           0,
           0,
           0,
           0,
           0,
           0,
           0,
           0,
           0,
           0,
           0,
           0,
           0,
           0,
           0,
           0,
           0,
           0,
           0,
           0,
           0,
           0,
           0,
           0,
           0,
           0,
           0,
           0,
           0,
           0,
           0,
           0,
           0,
           0,
           0,
           0,
           0,
           0,
           0,
           0,
           0,
           0,
           0,
           0,
           0,
           0,
           0,
           0,
           0,
           0,
           0,
           0,
           0,
           0,
           0,
           0,
           0,
           0,
           0,
           0,
           0,
           0,
           0,
           0,
           0,
           0,
           0,
           0,
           0,
           0,
           0,
           0,
           0,
           0,
           0,
           0,
           0,
           0,
           0,
           0,
           0,
           0,
           0,
           0,
           0,
           0,
           0,
           0,
           0,
           0,
           0,
           0,
           0,
           0,
           0,
           0,
           0,
           0,
           0,
           0
          ],
          "coloraxis": "coloraxis",
          "symbol": "diamond"
         },
         "mode": "markers",
         "name": "0",
         "scene": "scene",
         "showlegend": true,
         "type": "scatter3d",
         "x": [
          0,
          0,
          0,
          3519,
          0,
          1661,
          0,
          0,
          0,
          1658,
          0,
          276,
          0,
          0,
          0,
          2148,
          1332,
          0,
          266,
          1471,
          61,
          0,
          1465,
          0,
          208,
          154,
          0,
          0,
          11,
          0,
          0,
          0,
          97,
          0,
          0,
          0,
          773,
          32,
          802,
          332,
          49,
          0,
          0,
          0,
          0,
          353,
          6,
          0,
          104,
          10248,
          0,
          0,
          0,
          0,
          427,
          0,
          0,
          0,
          0,
          0,
          0,
          81,
          7,
          32,
          188,
          0,
          0,
          34,
          0,
          0,
          0,
          0,
          0,
          0,
          35,
          0,
          0,
          0,
          0,
          1038,
          0,
          70,
          0,
          0,
          0,
          0,
          0,
          0,
          400,
          35,
          0,
          0,
          0,
          0,
          0,
          1,
          0,
          530,
          0,
          0,
          0,
          0,
          3,
          0,
          0,
          0,
          33,
          0,
          0,
          0,
          0,
          0,
          0,
          0,
          0,
          0,
          0,
          0,
          0,
          53,
          0,
          0,
          0,
          0,
          0,
          490,
          0,
          0,
          0,
          0,
          0,
          275,
          0,
          0,
          0,
          0,
          0,
          0,
          0,
          0,
          0,
          0,
          0,
          0,
          0,
          0,
          0,
          0,
          0,
          0,
          0,
          0,
          0,
          0,
          0,
          0,
          0,
          0,
          0,
          0,
          0,
          324,
          0,
          164,
          0,
          0,
          0,
          0,
          0,
          1405,
          0,
          0,
          0,
          3519,
          0,
          1661,
          0,
          0,
          0,
          1658,
          0,
          276,
          0,
          0,
          0,
          2148,
          1332,
          0,
          266,
          1471,
          61,
          0,
          1465,
          0,
          208,
          154,
          0,
          0,
          11,
          0,
          0,
          0,
          97,
          0,
          0,
          0,
          773,
          32,
          802,
          332,
          49,
          0,
          0,
          0,
          0,
          353,
          6,
          0,
          104,
          10248,
          0,
          0,
          0,
          0,
          427,
          0,
          0,
          0,
          0,
          0,
          0,
          81,
          7,
          32,
          188,
          0,
          0,
          34,
          0,
          0,
          0,
          0,
          0,
          0,
          35,
          0,
          0,
          0,
          0,
          1038,
          0,
          70,
          0,
          0,
          0,
          0,
          0,
          0,
          400,
          35,
          0,
          0,
          0,
          0,
          0,
          1,
          0,
          530,
          0,
          0,
          0,
          0,
          3,
          0,
          0,
          0,
          33,
          0,
          0,
          0,
          0,
          0,
          0,
          0,
          0,
          0,
          0,
          0,
          0,
          53,
          0,
          0,
          0,
          0,
          0,
          490,
          0,
          0,
          0,
          0,
          0,
          275,
          0,
          0,
          0,
          0,
          0,
          0,
          0,
          0,
          0,
          0,
          0,
          0,
          0,
          0,
          0,
          0,
          0,
          0,
          0,
          0,
          0,
          0,
          0,
          0,
          0,
          0,
          0,
          0,
          0,
          324,
          0,
          164,
          0,
          0,
          0,
          0,
          0,
          1405
         ],
         "y": [
          3.07,
          17.33,
          19.69,
          8.35,
          11.74,
          2.16,
          11.48,
          12.83,
          42.28,
          35.67,
          6.14,
          3.28,
          35.53,
          10.51,
          9.13,
          50.13,
          15.05,
          24.37,
          5.55,
          22.85,
          1.16,
          19.28,
          31.6,
          16.27,
          41.49,
          0.67,
          29.1,
          25.63,
          6.81,
          3.09,
          16.64,
          18.71,
          27.16,
          16.14,
          9.66,
          8.61,
          38.85,
          3.26,
          46.87,
          10.23,
          7.55,
          25.45,
          4.75,
          16.22,
          4.49,
          43.41,
          7.69,
          17.26,
          2.1,
          14.06,
          3.07,
          8.9,
          14.37,
          5.24,
          42.1,
          30.82,
          1.84,
          12.8,
          0.48,
          7.13,
          0.39,
          13.9,
          14.21,
          7.28,
          12.89,
          37.17,
          0.58,
          1.64,
          14.72,
          12.55,
          9.53,
          0.59,
          0.12,
          1.62,
          0.69,
          37.14,
          0.69,
          33.7,
          2.99,
          2.47,
          52.69,
          0.44,
          31.76,
          0.34,
          2.47,
          0.5,
          6.01,
          37.74,
          30.66,
          0.79,
          32.66,
          0.96,
          4.32,
          0.43,
          0.29,
          0.49,
          0.43,
          18.51,
          13.3,
          25.33,
          25.49,
          5.91,
          7.1,
          0.22,
          7.98,
          0.14,
          20.78,
          20.81,
          1.21,
          13.96,
          0.31,
          2.05,
          0.46,
          24.61,
          40.66,
          51.66,
          0.31,
          0.43,
          12.97,
          2.88,
          0.27,
          31.66,
          0.05,
          8.33,
          1.52,
          4.06,
          0.26,
          0.14,
          33.11,
          0.21,
          0.16,
          0.1,
          1.68,
          0.1,
          30.72,
          0.27,
          0.18,
          0.15,
          50.42,
          42.87,
          1.07,
          1.54,
          44.58,
          12.36,
          20.31,
          0.47,
          21.02,
          16.45,
          0.04,
          1.6,
          27.29,
          22.33,
          0.27,
          0.03,
          32.17,
          0.4,
          0.9,
          0.09,
          0.14,
          0.04,
          20.13,
          1.39,
          17.72,
          1.22,
          3.5,
          3.36,
          3.6,
          0,
          0.01,
          0.01,
          3.07,
          17.33,
          19.69,
          8.35,
          11.74,
          2.16,
          11.48,
          12.83,
          42.28,
          35.67,
          6.14,
          3.28,
          35.53,
          10.51,
          9.13,
          50.13,
          15.05,
          24.37,
          5.55,
          22.85,
          1.16,
          19.28,
          31.6,
          16.27,
          41.49,
          0.67,
          29.1,
          25.63,
          6.81,
          3.09,
          16.64,
          18.71,
          27.16,
          16.14,
          9.66,
          8.61,
          38.85,
          3.26,
          46.87,
          10.23,
          7.55,
          25.45,
          4.75,
          16.22,
          4.49,
          43.41,
          7.69,
          17.26,
          2.1,
          14.06,
          3.07,
          8.9,
          14.37,
          5.24,
          42.1,
          30.82,
          1.84,
          12.8,
          0.48,
          7.13,
          0.39,
          13.9,
          14.21,
          7.28,
          12.89,
          37.17,
          0.58,
          1.64,
          14.72,
          12.55,
          9.53,
          0.59,
          0.12,
          1.62,
          0.69,
          37.14,
          0.69,
          33.7,
          2.99,
          2.47,
          52.69,
          0.44,
          31.76,
          0.34,
          2.47,
          0.5,
          6.01,
          37.74,
          30.66,
          0.79,
          32.66,
          0.96,
          4.32,
          0.43,
          0.29,
          0.49,
          0.43,
          18.51,
          13.3,
          25.33,
          25.49,
          5.91,
          7.1,
          0.22,
          7.98,
          0.14,
          20.78,
          20.81,
          1.21,
          13.96,
          0.31,
          2.05,
          0.46,
          24.61,
          40.66,
          51.66,
          0.31,
          0.43,
          12.97,
          2.88,
          0.27,
          31.66,
          0.05,
          8.33,
          1.52,
          4.06,
          0.26,
          0.14,
          33.11,
          0.21,
          0.16,
          0.1,
          1.68,
          0.1,
          30.72,
          0.27,
          0.18,
          0.15,
          50.42,
          42.87,
          1.07,
          1.54,
          44.58,
          12.36,
          20.31,
          0.47,
          21.02,
          16.45,
          0.04,
          1.6,
          27.29,
          22.33,
          0.27,
          0.03,
          32.17,
          0.4,
          0.9,
          0.09,
          0.14,
          0.04,
          20.13,
          1.39,
          17.72,
          1.22,
          3.5,
          3.36,
          3.6,
          0,
          0.01,
          0.01
         ],
         "z": [
          0,
          0,
          0,
          53,
          0,
          61,
          0,
          0,
          0,
          3,
          0,
          22,
          0,
          0,
          0,
          15,
          12,
          0,
          4,
          9,
          1,
          0,
          23,
          0,
          2,
          0,
          0,
          0,
          0,
          0,
          0,
          0,
          18,
          0,
          0,
          0,
          6,
          0,
          4,
          5,
          0,
          0,
          0,
          0,
          0,
          5,
          0,
          0,
          2,
          13,
          0,
          0,
          0,
          0,
          1,
          0,
          0,
          0,
          0,
          0,
          0,
          0,
          0,
          1,
          0,
          0,
          0,
          0,
          0,
          0,
          0,
          0,
          0,
          0,
          0,
          0,
          0,
          0,
          0,
          3,
          0,
          0,
          0,
          0,
          0,
          0,
          0,
          0,
          0,
          0,
          0,
          0,
          0,
          0,
          0,
          0,
          0,
          3,
          0,
          0,
          0,
          0,
          0,
          0,
          0,
          0,
          0,
          0,
          0,
          0,
          0,
          0,
          0,
          0,
          0,
          0,
          0,
          0,
          0,
          0,
          0,
          0,
          0,
          0,
          0,
          0,
          0,
          0,
          0,
          0,
          0,
          0,
          0,
          0,
          0,
          0,
          0,
          0,
          0,
          0,
          0,
          0,
          0,
          0,
          0,
          0,
          0,
          0,
          0,
          0,
          0,
          0,
          0,
          0,
          0,
          0,
          0,
          0,
          0,
          0,
          0,
          0,
          0,
          1,
          0,
          0,
          0,
          0,
          0,
          0,
          0,
          0,
          0,
          53,
          0,
          61,
          0,
          0,
          0,
          3,
          0,
          22,
          0,
          0,
          0,
          15,
          12,
          0,
          4,
          9,
          1,
          0,
          23,
          0,
          2,
          0,
          0,
          0,
          0,
          0,
          0,
          0,
          18,
          0,
          0,
          0,
          6,
          0,
          4,
          5,
          0,
          0,
          0,
          0,
          0,
          5,
          0,
          0,
          2,
          13,
          0,
          0,
          0,
          0,
          1,
          0,
          0,
          0,
          0,
          0,
          0,
          0,
          0,
          1,
          0,
          0,
          0,
          0,
          0,
          0,
          0,
          0,
          0,
          0,
          0,
          0,
          0,
          0,
          0,
          3,
          0,
          0,
          0,
          0,
          0,
          0,
          0,
          0,
          0,
          0,
          0,
          0,
          0,
          0,
          0,
          0,
          0,
          3,
          0,
          0,
          0,
          0,
          0,
          0,
          0,
          0,
          0,
          0,
          0,
          0,
          0,
          0,
          0,
          0,
          0,
          0,
          0,
          0,
          0,
          0,
          0,
          0,
          0,
          0,
          0,
          0,
          0,
          0,
          0,
          0,
          0,
          0,
          0,
          0,
          0,
          0,
          0,
          0,
          0,
          0,
          0,
          0,
          0,
          0,
          0,
          0,
          0,
          0,
          0,
          0,
          0,
          0,
          0,
          0,
          0,
          0,
          0,
          0,
          0,
          0,
          0,
          0,
          0,
          1,
          0,
          0,
          0,
          0,
          0,
          0
         ]
        },
        {
         "hovertemplate": "class=%{marker.color}<br>NewCases=%{x}<br>Infection_Risk=%{y}<br>NewDeaths=%{z}<extra></extra>",
         "legendgroup": "4",
         "marker": {
          "color": [
           4,
           4,
           4,
           4,
           4,
           4,
           4,
           4,
           4,
           4,
           4,
           4,
           4,
           4,
           4,
           4,
           4,
           4,
           4,
           4,
           4,
           4,
           4,
           4,
           4,
           4,
           4,
           4,
           4,
           4,
           4,
           4
          ],
          "coloraxis": "coloraxis",
          "symbol": "square"
         },
         "mode": "markers",
         "name": "4",
         "scene": "scene",
         "showlegend": true,
         "type": "scatter3d",
         "x": [
          0,
          15291,
          0,
          48245,
          493,
          839,
          46685,
          12305,
          0,
          24892,
          0,
          0,
          0,
          11710,
          0,
          0,
          0,
          15291,
          0,
          48245,
          493,
          839,
          46685,
          12305,
          0,
          24892,
          0,
          0,
          0,
          11710,
          0,
          0
         ],
         "y": [
          13.94,
          12.26,
          24.69,
          5.33,
          15.8,
          4.32,
          18.17,
          42.87,
          32.98,
          5.33,
          39.83,
          17.97,
          29.78,
          16.22,
          35.98,
          4.14,
          13.94,
          12.26,
          24.69,
          5.33,
          15.8,
          4.32,
          18.17,
          42.87,
          32.98,
          5.33,
          39.83,
          17.97,
          29.78,
          16.22,
          35.98,
          4.14
         ],
         "z": [
          0,
          287,
          0,
          38,
          0,
          11,
          14,
          17,
          0,
          97,
          0,
          0,
          0,
          74,
          0,
          0,
          0,
          287,
          0,
          38,
          0,
          11,
          14,
          17,
          0,
          97,
          0,
          0,
          0,
          74,
          0,
          0
         ]
        },
        {
         "hovertemplate": "class=%{marker.color}<br>NewCases=%{x}<br>Infection_Risk=%{y}<br>NewDeaths=%{z}<extra></extra>",
         "legendgroup": "3",
         "marker": {
          "color": [
           3,
           3,
           3,
           3,
           3,
           3,
           3,
           3
          ],
          "coloraxis": "coloraxis",
          "symbol": "x"
         },
         "mode": "markers",
         "name": "3",
         "scene": "scene",
         "showlegend": true,
         "type": "scatter3d",
         "x": [
          0,
          0,
          48717,
          12387,
          0,
          0,
          48717,
          12387
         ],
         "y": [
          39.68,
          24.62,
          9.98,
          46.05,
          39.68,
          24.62,
          9.98,
          46.05
         ],
         "z": [
          0,
          0,
          42,
          7,
          0,
          0,
          42,
          7
         ]
        },
        {
         "hovertemplate": "class=%{marker.color}<br>NewCases=%{x}<br>Infection_Risk=%{y}<br>NewDeaths=%{z}<extra></extra>",
         "legendgroup": "2",
         "marker": {
          "color": [
           2,
           2
          ],
          "coloraxis": "coloraxis",
          "symbol": "cross"
         },
         "mode": "markers",
         "name": "2",
         "scene": "scene",
         "showlegend": true,
         "type": "scatter3d",
         "x": [
          0,
          73087
         ],
         "y": [
          25.69,
          25.78
         ],
         "z": [
          0,
          88
         ]
        }
       ],
       "layout": {
        "coloraxis": {
         "colorbar": {
          "title": {
           "text": "class"
          }
         },
         "colorscale": [
          [
           0,
           "#0d0887"
          ],
          [
           0.1111111111111111,
           "#46039f"
          ],
          [
           0.2222222222222222,
           "#7201a8"
          ],
          [
           0.3333333333333333,
           "#9c179e"
          ],
          [
           0.4444444444444444,
           "#bd3786"
          ],
          [
           0.5555555555555556,
           "#d8576b"
          ],
          [
           0.6666666666666666,
           "#ed7953"
          ],
          [
           0.7777777777777778,
           "#fb9f3a"
          ],
          [
           0.8888888888888888,
           "#fdca26"
          ],
          [
           1,
           "#f0f921"
          ]
         ]
        },
        "legend": {
         "title": {
          "text": "class"
         },
         "tracegroupgap": 0,
         "x": 0,
         "y": 1
        },
        "margin": {
         "t": 60
        },
        "scene": {
         "domain": {
          "x": [
           0,
           1
          ],
          "y": [
           0,
           1
          ]
         },
         "xaxis": {
          "title": {
           "text": "NewCases"
          }
         },
         "yaxis": {
          "title": {
           "text": "Infection_Risk"
          }
         },
         "zaxis": {
          "title": {
           "text": "NewDeaths"
          }
         }
        },
        "template": {
         "data": {
          "bar": [
           {
            "error_x": {
             "color": "#2a3f5f"
            },
            "error_y": {
             "color": "#2a3f5f"
            },
            "marker": {
             "line": {
              "color": "#E5ECF6",
              "width": 0.5
             },
             "pattern": {
              "fillmode": "overlay",
              "size": 10,
              "solidity": 0.2
             }
            },
            "type": "bar"
           }
          ],
          "barpolar": [
           {
            "marker": {
             "line": {
              "color": "#E5ECF6",
              "width": 0.5
             },
             "pattern": {
              "fillmode": "overlay",
              "size": 10,
              "solidity": 0.2
             }
            },
            "type": "barpolar"
           }
          ],
          "carpet": [
           {
            "aaxis": {
             "endlinecolor": "#2a3f5f",
             "gridcolor": "white",
             "linecolor": "white",
             "minorgridcolor": "white",
             "startlinecolor": "#2a3f5f"
            },
            "baxis": {
             "endlinecolor": "#2a3f5f",
             "gridcolor": "white",
             "linecolor": "white",
             "minorgridcolor": "white",
             "startlinecolor": "#2a3f5f"
            },
            "type": "carpet"
           }
          ],
          "choropleth": [
           {
            "colorbar": {
             "outlinewidth": 0,
             "ticks": ""
            },
            "type": "choropleth"
           }
          ],
          "contour": [
           {
            "colorbar": {
             "outlinewidth": 0,
             "ticks": ""
            },
            "colorscale": [
             [
              0,
              "#0d0887"
             ],
             [
              0.1111111111111111,
              "#46039f"
             ],
             [
              0.2222222222222222,
              "#7201a8"
             ],
             [
              0.3333333333333333,
              "#9c179e"
             ],
             [
              0.4444444444444444,
              "#bd3786"
             ],
             [
              0.5555555555555556,
              "#d8576b"
             ],
             [
              0.6666666666666666,
              "#ed7953"
             ],
             [
              0.7777777777777778,
              "#fb9f3a"
             ],
             [
              0.8888888888888888,
              "#fdca26"
             ],
             [
              1,
              "#f0f921"
             ]
            ],
            "type": "contour"
           }
          ],
          "contourcarpet": [
           {
            "colorbar": {
             "outlinewidth": 0,
             "ticks": ""
            },
            "type": "contourcarpet"
           }
          ],
          "heatmap": [
           {
            "colorbar": {
             "outlinewidth": 0,
             "ticks": ""
            },
            "colorscale": [
             [
              0,
              "#0d0887"
             ],
             [
              0.1111111111111111,
              "#46039f"
             ],
             [
              0.2222222222222222,
              "#7201a8"
             ],
             [
              0.3333333333333333,
              "#9c179e"
             ],
             [
              0.4444444444444444,
              "#bd3786"
             ],
             [
              0.5555555555555556,
              "#d8576b"
             ],
             [
              0.6666666666666666,
              "#ed7953"
             ],
             [
              0.7777777777777778,
              "#fb9f3a"
             ],
             [
              0.8888888888888888,
              "#fdca26"
             ],
             [
              1,
              "#f0f921"
             ]
            ],
            "type": "heatmap"
           }
          ],
          "heatmapgl": [
           {
            "colorbar": {
             "outlinewidth": 0,
             "ticks": ""
            },
            "colorscale": [
             [
              0,
              "#0d0887"
             ],
             [
              0.1111111111111111,
              "#46039f"
             ],
             [
              0.2222222222222222,
              "#7201a8"
             ],
             [
              0.3333333333333333,
              "#9c179e"
             ],
             [
              0.4444444444444444,
              "#bd3786"
             ],
             [
              0.5555555555555556,
              "#d8576b"
             ],
             [
              0.6666666666666666,
              "#ed7953"
             ],
             [
              0.7777777777777778,
              "#fb9f3a"
             ],
             [
              0.8888888888888888,
              "#fdca26"
             ],
             [
              1,
              "#f0f921"
             ]
            ],
            "type": "heatmapgl"
           }
          ],
          "histogram": [
           {
            "marker": {
             "pattern": {
              "fillmode": "overlay",
              "size": 10,
              "solidity": 0.2
             }
            },
            "type": "histogram"
           }
          ],
          "histogram2d": [
           {
            "colorbar": {
             "outlinewidth": 0,
             "ticks": ""
            },
            "colorscale": [
             [
              0,
              "#0d0887"
             ],
             [
              0.1111111111111111,
              "#46039f"
             ],
             [
              0.2222222222222222,
              "#7201a8"
             ],
             [
              0.3333333333333333,
              "#9c179e"
             ],
             [
              0.4444444444444444,
              "#bd3786"
             ],
             [
              0.5555555555555556,
              "#d8576b"
             ],
             [
              0.6666666666666666,
              "#ed7953"
             ],
             [
              0.7777777777777778,
              "#fb9f3a"
             ],
             [
              0.8888888888888888,
              "#fdca26"
             ],
             [
              1,
              "#f0f921"
             ]
            ],
            "type": "histogram2d"
           }
          ],
          "histogram2dcontour": [
           {
            "colorbar": {
             "outlinewidth": 0,
             "ticks": ""
            },
            "colorscale": [
             [
              0,
              "#0d0887"
             ],
             [
              0.1111111111111111,
              "#46039f"
             ],
             [
              0.2222222222222222,
              "#7201a8"
             ],
             [
              0.3333333333333333,
              "#9c179e"
             ],
             [
              0.4444444444444444,
              "#bd3786"
             ],
             [
              0.5555555555555556,
              "#d8576b"
             ],
             [
              0.6666666666666666,
              "#ed7953"
             ],
             [
              0.7777777777777778,
              "#fb9f3a"
             ],
             [
              0.8888888888888888,
              "#fdca26"
             ],
             [
              1,
              "#f0f921"
             ]
            ],
            "type": "histogram2dcontour"
           }
          ],
          "mesh3d": [
           {
            "colorbar": {
             "outlinewidth": 0,
             "ticks": ""
            },
            "type": "mesh3d"
           }
          ],
          "parcoords": [
           {
            "line": {
             "colorbar": {
              "outlinewidth": 0,
              "ticks": ""
             }
            },
            "type": "parcoords"
           }
          ],
          "pie": [
           {
            "automargin": true,
            "type": "pie"
           }
          ],
          "scatter": [
           {
            "marker": {
             "colorbar": {
              "outlinewidth": 0,
              "ticks": ""
             }
            },
            "type": "scatter"
           }
          ],
          "scatter3d": [
           {
            "line": {
             "colorbar": {
              "outlinewidth": 0,
              "ticks": ""
             }
            },
            "marker": {
             "colorbar": {
              "outlinewidth": 0,
              "ticks": ""
             }
            },
            "type": "scatter3d"
           }
          ],
          "scattercarpet": [
           {
            "marker": {
             "colorbar": {
              "outlinewidth": 0,
              "ticks": ""
             }
            },
            "type": "scattercarpet"
           }
          ],
          "scattergeo": [
           {
            "marker": {
             "colorbar": {
              "outlinewidth": 0,
              "ticks": ""
             }
            },
            "type": "scattergeo"
           }
          ],
          "scattergl": [
           {
            "marker": {
             "colorbar": {
              "outlinewidth": 0,
              "ticks": ""
             }
            },
            "type": "scattergl"
           }
          ],
          "scattermapbox": [
           {
            "marker": {
             "colorbar": {
              "outlinewidth": 0,
              "ticks": ""
             }
            },
            "type": "scattermapbox"
           }
          ],
          "scatterpolar": [
           {
            "marker": {
             "colorbar": {
              "outlinewidth": 0,
              "ticks": ""
             }
            },
            "type": "scatterpolar"
           }
          ],
          "scatterpolargl": [
           {
            "marker": {
             "colorbar": {
              "outlinewidth": 0,
              "ticks": ""
             }
            },
            "type": "scatterpolargl"
           }
          ],
          "scatterternary": [
           {
            "marker": {
             "colorbar": {
              "outlinewidth": 0,
              "ticks": ""
             }
            },
            "type": "scatterternary"
           }
          ],
          "surface": [
           {
            "colorbar": {
             "outlinewidth": 0,
             "ticks": ""
            },
            "colorscale": [
             [
              0,
              "#0d0887"
             ],
             [
              0.1111111111111111,
              "#46039f"
             ],
             [
              0.2222222222222222,
              "#7201a8"
             ],
             [
              0.3333333333333333,
              "#9c179e"
             ],
             [
              0.4444444444444444,
              "#bd3786"
             ],
             [
              0.5555555555555556,
              "#d8576b"
             ],
             [
              0.6666666666666666,
              "#ed7953"
             ],
             [
              0.7777777777777778,
              "#fb9f3a"
             ],
             [
              0.8888888888888888,
              "#fdca26"
             ],
             [
              1,
              "#f0f921"
             ]
            ],
            "type": "surface"
           }
          ],
          "table": [
           {
            "cells": {
             "fill": {
              "color": "#EBF0F8"
             },
             "line": {
              "color": "white"
             }
            },
            "header": {
             "fill": {
              "color": "#C8D4E3"
             },
             "line": {
              "color": "white"
             }
            },
            "type": "table"
           }
          ]
         },
         "layout": {
          "annotationdefaults": {
           "arrowcolor": "#2a3f5f",
           "arrowhead": 0,
           "arrowwidth": 1
          },
          "autotypenumbers": "strict",
          "coloraxis": {
           "colorbar": {
            "outlinewidth": 0,
            "ticks": ""
           }
          },
          "colorscale": {
           "diverging": [
            [
             0,
             "#8e0152"
            ],
            [
             0.1,
             "#c51b7d"
            ],
            [
             0.2,
             "#de77ae"
            ],
            [
             0.3,
             "#f1b6da"
            ],
            [
             0.4,
             "#fde0ef"
            ],
            [
             0.5,
             "#f7f7f7"
            ],
            [
             0.6,
             "#e6f5d0"
            ],
            [
             0.7,
             "#b8e186"
            ],
            [
             0.8,
             "#7fbc41"
            ],
            [
             0.9,
             "#4d9221"
            ],
            [
             1,
             "#276419"
            ]
           ],
           "sequential": [
            [
             0,
             "#0d0887"
            ],
            [
             0.1111111111111111,
             "#46039f"
            ],
            [
             0.2222222222222222,
             "#7201a8"
            ],
            [
             0.3333333333333333,
             "#9c179e"
            ],
            [
             0.4444444444444444,
             "#bd3786"
            ],
            [
             0.5555555555555556,
             "#d8576b"
            ],
            [
             0.6666666666666666,
             "#ed7953"
            ],
            [
             0.7777777777777778,
             "#fb9f3a"
            ],
            [
             0.8888888888888888,
             "#fdca26"
            ],
            [
             1,
             "#f0f921"
            ]
           ],
           "sequentialminus": [
            [
             0,
             "#0d0887"
            ],
            [
             0.1111111111111111,
             "#46039f"
            ],
            [
             0.2222222222222222,
             "#7201a8"
            ],
            [
             0.3333333333333333,
             "#9c179e"
            ],
            [
             0.4444444444444444,
             "#bd3786"
            ],
            [
             0.5555555555555556,
             "#d8576b"
            ],
            [
             0.6666666666666666,
             "#ed7953"
            ],
            [
             0.7777777777777778,
             "#fb9f3a"
            ],
            [
             0.8888888888888888,
             "#fdca26"
            ],
            [
             1,
             "#f0f921"
            ]
           ]
          },
          "colorway": [
           "#636efa",
           "#EF553B",
           "#00cc96",
           "#ab63fa",
           "#FFA15A",
           "#19d3f3",
           "#FF6692",
           "#B6E880",
           "#FF97FF",
           "#FECB52"
          ],
          "font": {
           "color": "#2a3f5f"
          },
          "geo": {
           "bgcolor": "white",
           "lakecolor": "white",
           "landcolor": "#E5ECF6",
           "showlakes": true,
           "showland": true,
           "subunitcolor": "white"
          },
          "hoverlabel": {
           "align": "left"
          },
          "hovermode": "closest",
          "mapbox": {
           "style": "light"
          },
          "paper_bgcolor": "white",
          "plot_bgcolor": "#E5ECF6",
          "polar": {
           "angularaxis": {
            "gridcolor": "white",
            "linecolor": "white",
            "ticks": ""
           },
           "bgcolor": "#E5ECF6",
           "radialaxis": {
            "gridcolor": "white",
            "linecolor": "white",
            "ticks": ""
           }
          },
          "scene": {
           "xaxis": {
            "backgroundcolor": "#E5ECF6",
            "gridcolor": "white",
            "gridwidth": 2,
            "linecolor": "white",
            "showbackground": true,
            "ticks": "",
            "zerolinecolor": "white"
           },
           "yaxis": {
            "backgroundcolor": "#E5ECF6",
            "gridcolor": "white",
            "gridwidth": 2,
            "linecolor": "white",
            "showbackground": true,
            "ticks": "",
            "zerolinecolor": "white"
           },
           "zaxis": {
            "backgroundcolor": "#E5ECF6",
            "gridcolor": "white",
            "gridwidth": 2,
            "linecolor": "white",
            "showbackground": true,
            "ticks": "",
            "zerolinecolor": "white"
           }
          },
          "shapedefaults": {
           "line": {
            "color": "#2a3f5f"
           }
          },
          "ternary": {
           "aaxis": {
            "gridcolor": "white",
            "linecolor": "white",
            "ticks": ""
           },
           "baxis": {
            "gridcolor": "white",
            "linecolor": "white",
            "ticks": ""
           },
           "bgcolor": "#E5ECF6",
           "caxis": {
            "gridcolor": "white",
            "linecolor": "white",
            "ticks": ""
           }
          },
          "title": {
           "x": 0.05
          },
          "xaxis": {
           "automargin": true,
           "gridcolor": "white",
           "linecolor": "white",
           "ticks": "",
           "title": {
            "standoff": 15
           },
           "zerolinecolor": "white",
           "zerolinewidth": 2
          },
          "yaxis": {
           "automargin": true,
           "gridcolor": "white",
           "linecolor": "white",
           "ticks": "",
           "title": {
            "standoff": 15
           },
           "zerolinecolor": "white",
           "zerolinewidth": 2
          }
         }
        }
       }
      },
      "text/html": [
       "<div>                            <div id=\"a0ba4fa7-c375-4e95-9926-a9b87b263940\" class=\"plotly-graph-div\" style=\"height:525px; width:100%;\"></div>            <script type=\"text/javascript\">                require([\"plotly\"], function(Plotly) {                    window.PLOTLYENV=window.PLOTLYENV || {};                                    if (document.getElementById(\"a0ba4fa7-c375-4e95-9926-a9b87b263940\")) {                    Plotly.newPlot(                        \"a0ba4fa7-c375-4e95-9926-a9b87b263940\",                        [{\"hovertemplate\":\"class=%{marker.color}<br>NewCases=%{x}<br>Infection_Risk=%{y}<br>NewDeaths=%{z}<extra></extra>\",\"legendgroup\":\"1\",\"marker\":{\"color\":[1,1],\"coloraxis\":\"coloraxis\",\"symbol\":\"circle\"},\"mode\":\"markers\",\"name\":\"1\",\"scene\":\"scene\",\"showlegend\":true,\"x\":[0,0],\"y\":[24.47,24.47],\"z\":[0,0],\"type\":\"scatter3d\"},{\"hovertemplate\":\"class=%{marker.color}<br>NewCases=%{x}<br>Infection_Risk=%{y}<br>NewDeaths=%{z}<extra></extra>\",\"legendgroup\":\"0\",\"marker\":{\"color\":[0,0,0,0,0,0,0,0,0,0,0,0,0,0,0,0,0,0,0,0,0,0,0,0,0,0,0,0,0,0,0,0,0,0,0,0,0,0,0,0,0,0,0,0,0,0,0,0,0,0,0,0,0,0,0,0,0,0,0,0,0,0,0,0,0,0,0,0,0,0,0,0,0,0,0,0,0,0,0,0,0,0,0,0,0,0,0,0,0,0,0,0,0,0,0,0,0,0,0,0,0,0,0,0,0,0,0,0,0,0,0,0,0,0,0,0,0,0,0,0,0,0,0,0,0,0,0,0,0,0,0,0,0,0,0,0,0,0,0,0,0,0,0,0,0,0,0,0,0,0,0,0,0,0,0,0,0,0,0,0,0,0,0,0,0,0,0,0,0,0,0,0,0,0,0,0,0,0,0,0,0,0,0,0,0,0,0,0,0,0,0,0,0,0,0,0,0,0,0,0,0,0,0,0,0,0,0,0,0,0,0,0,0,0,0,0,0,0,0,0,0,0,0,0,0,0,0,0,0,0,0,0,0,0,0,0,0,0,0,0,0,0,0,0,0,0,0,0,0,0,0,0,0,0,0,0,0,0,0,0,0,0,0,0,0,0,0,0,0,0,0,0,0,0,0,0,0,0,0,0,0,0,0,0,0,0,0,0,0,0,0,0,0,0,0,0,0,0,0,0,0,0,0,0,0,0,0,0,0,0,0,0,0,0,0,0,0,0,0,0,0,0,0,0,0,0,0,0,0,0,0,0,0,0,0,0,0,0,0,0],\"coloraxis\":\"coloraxis\",\"symbol\":\"diamond\"},\"mode\":\"markers\",\"name\":\"0\",\"scene\":\"scene\",\"showlegend\":true,\"x\":[0,0,0,3519,0,1661,0,0,0,1658,0,276,0,0,0,2148,1332,0,266,1471,61,0,1465,0,208,154,0,0,11,0,0,0,97,0,0,0,773,32,802,332,49,0,0,0,0,353,6,0,104,10248,0,0,0,0,427,0,0,0,0,0,0,81,7,32,188,0,0,34,0,0,0,0,0,0,35,0,0,0,0,1038,0,70,0,0,0,0,0,0,400,35,0,0,0,0,0,1,0,530,0,0,0,0,3,0,0,0,33,0,0,0,0,0,0,0,0,0,0,0,0,53,0,0,0,0,0,490,0,0,0,0,0,275,0,0,0,0,0,0,0,0,0,0,0,0,0,0,0,0,0,0,0,0,0,0,0,0,0,0,0,0,0,324,0,164,0,0,0,0,0,1405,0,0,0,3519,0,1661,0,0,0,1658,0,276,0,0,0,2148,1332,0,266,1471,61,0,1465,0,208,154,0,0,11,0,0,0,97,0,0,0,773,32,802,332,49,0,0,0,0,353,6,0,104,10248,0,0,0,0,427,0,0,0,0,0,0,81,7,32,188,0,0,34,0,0,0,0,0,0,35,0,0,0,0,1038,0,70,0,0,0,0,0,0,400,35,0,0,0,0,0,1,0,530,0,0,0,0,3,0,0,0,33,0,0,0,0,0,0,0,0,0,0,0,0,53,0,0,0,0,0,490,0,0,0,0,0,275,0,0,0,0,0,0,0,0,0,0,0,0,0,0,0,0,0,0,0,0,0,0,0,0,0,0,0,0,0,324,0,164,0,0,0,0,0,1405],\"y\":[3.07,17.33,19.69,8.35,11.74,2.16,11.48,12.83,42.28,35.67,6.14,3.28,35.53,10.51,9.13,50.13,15.05,24.37,5.55,22.85,1.16,19.28,31.6,16.27,41.49,0.67,29.1,25.63,6.81,3.09,16.64,18.71,27.16,16.14,9.66,8.61,38.85,3.26,46.87,10.23,7.55,25.45,4.75,16.22,4.49,43.41,7.69,17.26,2.1,14.06,3.07,8.9,14.37,5.24,42.1,30.82,1.84,12.8,0.48,7.13,0.39,13.9,14.21,7.28,12.89,37.17,0.58,1.64,14.72,12.55,9.53,0.59,0.12,1.62,0.69,37.14,0.69,33.7,2.99,2.47,52.69,0.44,31.76,0.34,2.47,0.5,6.01,37.74,30.66,0.79,32.66,0.96,4.32,0.43,0.29,0.49,0.43,18.51,13.3,25.33,25.49,5.91,7.1,0.22,7.98,0.14,20.78,20.81,1.21,13.96,0.31,2.05,0.46,24.61,40.66,51.66,0.31,0.43,12.97,2.88,0.27,31.66,0.05,8.33,1.52,4.06,0.26,0.14,33.11,0.21,0.16,0.1,1.68,0.1,30.72,0.27,0.18,0.15,50.42,42.87,1.07,1.54,44.58,12.36,20.31,0.47,21.02,16.45,0.04,1.6,27.29,22.33,0.27,0.03,32.17,0.4,0.9,0.09,0.14,0.04,20.13,1.39,17.72,1.22,3.5,3.36,3.6,0.0,0.01,0.01,3.07,17.33,19.69,8.35,11.74,2.16,11.48,12.83,42.28,35.67,6.14,3.28,35.53,10.51,9.13,50.13,15.05,24.37,5.55,22.85,1.16,19.28,31.6,16.27,41.49,0.67,29.1,25.63,6.81,3.09,16.64,18.71,27.16,16.14,9.66,8.61,38.85,3.26,46.87,10.23,7.55,25.45,4.75,16.22,4.49,43.41,7.69,17.26,2.1,14.06,3.07,8.9,14.37,5.24,42.1,30.82,1.84,12.8,0.48,7.13,0.39,13.9,14.21,7.28,12.89,37.17,0.58,1.64,14.72,12.55,9.53,0.59,0.12,1.62,0.69,37.14,0.69,33.7,2.99,2.47,52.69,0.44,31.76,0.34,2.47,0.5,6.01,37.74,30.66,0.79,32.66,0.96,4.32,0.43,0.29,0.49,0.43,18.51,13.3,25.33,25.49,5.91,7.1,0.22,7.98,0.14,20.78,20.81,1.21,13.96,0.31,2.05,0.46,24.61,40.66,51.66,0.31,0.43,12.97,2.88,0.27,31.66,0.05,8.33,1.52,4.06,0.26,0.14,33.11,0.21,0.16,0.1,1.68,0.1,30.72,0.27,0.18,0.15,50.42,42.87,1.07,1.54,44.58,12.36,20.31,0.47,21.02,16.45,0.04,1.6,27.29,22.33,0.27,0.03,32.17,0.4,0.9,0.09,0.14,0.04,20.13,1.39,17.72,1.22,3.5,3.36,3.6,0.0,0.01,0.01],\"z\":[0,0,0,53,0,61,0,0,0,3,0,22,0,0,0,15,12,0,4,9,1,0,23,0,2,0,0,0,0,0,0,0,18,0,0,0,6,0,4,5,0,0,0,0,0,5,0,0,2,13,0,0,0,0,1,0,0,0,0,0,0,0,0,1,0,0,0,0,0,0,0,0,0,0,0,0,0,0,0,3,0,0,0,0,0,0,0,0,0,0,0,0,0,0,0,0,0,3,0,0,0,0,0,0,0,0,0,0,0,0,0,0,0,0,0,0,0,0,0,0,0,0,0,0,0,0,0,0,0,0,0,0,0,0,0,0,0,0,0,0,0,0,0,0,0,0,0,0,0,0,0,0,0,0,0,0,0,0,0,0,0,0,0,1,0,0,0,0,0,0,0,0,0,53,0,61,0,0,0,3,0,22,0,0,0,15,12,0,4,9,1,0,23,0,2,0,0,0,0,0,0,0,18,0,0,0,6,0,4,5,0,0,0,0,0,5,0,0,2,13,0,0,0,0,1,0,0,0,0,0,0,0,0,1,0,0,0,0,0,0,0,0,0,0,0,0,0,0,0,3,0,0,0,0,0,0,0,0,0,0,0,0,0,0,0,0,0,3,0,0,0,0,0,0,0,0,0,0,0,0,0,0,0,0,0,0,0,0,0,0,0,0,0,0,0,0,0,0,0,0,0,0,0,0,0,0,0,0,0,0,0,0,0,0,0,0,0,0,0,0,0,0,0,0,0,0,0,0,0,0,0,0,0,1,0,0,0,0,0,0],\"type\":\"scatter3d\"},{\"hovertemplate\":\"class=%{marker.color}<br>NewCases=%{x}<br>Infection_Risk=%{y}<br>NewDeaths=%{z}<extra></extra>\",\"legendgroup\":\"4\",\"marker\":{\"color\":[4,4,4,4,4,4,4,4,4,4,4,4,4,4,4,4,4,4,4,4,4,4,4,4,4,4,4,4,4,4,4,4],\"coloraxis\":\"coloraxis\",\"symbol\":\"square\"},\"mode\":\"markers\",\"name\":\"4\",\"scene\":\"scene\",\"showlegend\":true,\"x\":[0,15291,0,48245,493,839,46685,12305,0,24892,0,0,0,11710,0,0,0,15291,0,48245,493,839,46685,12305,0,24892,0,0,0,11710,0,0],\"y\":[13.94,12.26,24.69,5.33,15.8,4.32,18.17,42.87,32.98,5.33,39.83,17.97,29.78,16.22,35.98,4.14,13.94,12.26,24.69,5.33,15.8,4.32,18.17,42.87,32.98,5.33,39.83,17.97,29.78,16.22,35.98,4.14],\"z\":[0,287,0,38,0,11,14,17,0,97,0,0,0,74,0,0,0,287,0,38,0,11,14,17,0,97,0,0,0,74,0,0],\"type\":\"scatter3d\"},{\"hovertemplate\":\"class=%{marker.color}<br>NewCases=%{x}<br>Infection_Risk=%{y}<br>NewDeaths=%{z}<extra></extra>\",\"legendgroup\":\"3\",\"marker\":{\"color\":[3,3,3,3,3,3,3,3],\"coloraxis\":\"coloraxis\",\"symbol\":\"x\"},\"mode\":\"markers\",\"name\":\"3\",\"scene\":\"scene\",\"showlegend\":true,\"x\":[0,0,48717,12387,0,0,48717,12387],\"y\":[39.68,24.62,9.98,46.05,39.68,24.62,9.98,46.05],\"z\":[0,0,42,7,0,0,42,7],\"type\":\"scatter3d\"},{\"hovertemplate\":\"class=%{marker.color}<br>NewCases=%{x}<br>Infection_Risk=%{y}<br>NewDeaths=%{z}<extra></extra>\",\"legendgroup\":\"2\",\"marker\":{\"color\":[2,2],\"coloraxis\":\"coloraxis\",\"symbol\":\"cross\"},\"mode\":\"markers\",\"name\":\"2\",\"scene\":\"scene\",\"showlegend\":true,\"x\":[0,73087],\"y\":[25.69,25.78],\"z\":[0,88],\"type\":\"scatter3d\"}],                        {\"template\":{\"data\":{\"bar\":[{\"error_x\":{\"color\":\"#2a3f5f\"},\"error_y\":{\"color\":\"#2a3f5f\"},\"marker\":{\"line\":{\"color\":\"#E5ECF6\",\"width\":0.5},\"pattern\":{\"fillmode\":\"overlay\",\"size\":10,\"solidity\":0.2}},\"type\":\"bar\"}],\"barpolar\":[{\"marker\":{\"line\":{\"color\":\"#E5ECF6\",\"width\":0.5},\"pattern\":{\"fillmode\":\"overlay\",\"size\":10,\"solidity\":0.2}},\"type\":\"barpolar\"}],\"carpet\":[{\"aaxis\":{\"endlinecolor\":\"#2a3f5f\",\"gridcolor\":\"white\",\"linecolor\":\"white\",\"minorgridcolor\":\"white\",\"startlinecolor\":\"#2a3f5f\"},\"baxis\":{\"endlinecolor\":\"#2a3f5f\",\"gridcolor\":\"white\",\"linecolor\":\"white\",\"minorgridcolor\":\"white\",\"startlinecolor\":\"#2a3f5f\"},\"type\":\"carpet\"}],\"choropleth\":[{\"colorbar\":{\"outlinewidth\":0,\"ticks\":\"\"},\"type\":\"choropleth\"}],\"contour\":[{\"colorbar\":{\"outlinewidth\":0,\"ticks\":\"\"},\"colorscale\":[[0.0,\"#0d0887\"],[0.1111111111111111,\"#46039f\"],[0.2222222222222222,\"#7201a8\"],[0.3333333333333333,\"#9c179e\"],[0.4444444444444444,\"#bd3786\"],[0.5555555555555556,\"#d8576b\"],[0.6666666666666666,\"#ed7953\"],[0.7777777777777778,\"#fb9f3a\"],[0.8888888888888888,\"#fdca26\"],[1.0,\"#f0f921\"]],\"type\":\"contour\"}],\"contourcarpet\":[{\"colorbar\":{\"outlinewidth\":0,\"ticks\":\"\"},\"type\":\"contourcarpet\"}],\"heatmap\":[{\"colorbar\":{\"outlinewidth\":0,\"ticks\":\"\"},\"colorscale\":[[0.0,\"#0d0887\"],[0.1111111111111111,\"#46039f\"],[0.2222222222222222,\"#7201a8\"],[0.3333333333333333,\"#9c179e\"],[0.4444444444444444,\"#bd3786\"],[0.5555555555555556,\"#d8576b\"],[0.6666666666666666,\"#ed7953\"],[0.7777777777777778,\"#fb9f3a\"],[0.8888888888888888,\"#fdca26\"],[1.0,\"#f0f921\"]],\"type\":\"heatmap\"}],\"heatmapgl\":[{\"colorbar\":{\"outlinewidth\":0,\"ticks\":\"\"},\"colorscale\":[[0.0,\"#0d0887\"],[0.1111111111111111,\"#46039f\"],[0.2222222222222222,\"#7201a8\"],[0.3333333333333333,\"#9c179e\"],[0.4444444444444444,\"#bd3786\"],[0.5555555555555556,\"#d8576b\"],[0.6666666666666666,\"#ed7953\"],[0.7777777777777778,\"#fb9f3a\"],[0.8888888888888888,\"#fdca26\"],[1.0,\"#f0f921\"]],\"type\":\"heatmapgl\"}],\"histogram\":[{\"marker\":{\"pattern\":{\"fillmode\":\"overlay\",\"size\":10,\"solidity\":0.2}},\"type\":\"histogram\"}],\"histogram2d\":[{\"colorbar\":{\"outlinewidth\":0,\"ticks\":\"\"},\"colorscale\":[[0.0,\"#0d0887\"],[0.1111111111111111,\"#46039f\"],[0.2222222222222222,\"#7201a8\"],[0.3333333333333333,\"#9c179e\"],[0.4444444444444444,\"#bd3786\"],[0.5555555555555556,\"#d8576b\"],[0.6666666666666666,\"#ed7953\"],[0.7777777777777778,\"#fb9f3a\"],[0.8888888888888888,\"#fdca26\"],[1.0,\"#f0f921\"]],\"type\":\"histogram2d\"}],\"histogram2dcontour\":[{\"colorbar\":{\"outlinewidth\":0,\"ticks\":\"\"},\"colorscale\":[[0.0,\"#0d0887\"],[0.1111111111111111,\"#46039f\"],[0.2222222222222222,\"#7201a8\"],[0.3333333333333333,\"#9c179e\"],[0.4444444444444444,\"#bd3786\"],[0.5555555555555556,\"#d8576b\"],[0.6666666666666666,\"#ed7953\"],[0.7777777777777778,\"#fb9f3a\"],[0.8888888888888888,\"#fdca26\"],[1.0,\"#f0f921\"]],\"type\":\"histogram2dcontour\"}],\"mesh3d\":[{\"colorbar\":{\"outlinewidth\":0,\"ticks\":\"\"},\"type\":\"mesh3d\"}],\"parcoords\":[{\"line\":{\"colorbar\":{\"outlinewidth\":0,\"ticks\":\"\"}},\"type\":\"parcoords\"}],\"pie\":[{\"automargin\":true,\"type\":\"pie\"}],\"scatter\":[{\"marker\":{\"colorbar\":{\"outlinewidth\":0,\"ticks\":\"\"}},\"type\":\"scatter\"}],\"scatter3d\":[{\"line\":{\"colorbar\":{\"outlinewidth\":0,\"ticks\":\"\"}},\"marker\":{\"colorbar\":{\"outlinewidth\":0,\"ticks\":\"\"}},\"type\":\"scatter3d\"}],\"scattercarpet\":[{\"marker\":{\"colorbar\":{\"outlinewidth\":0,\"ticks\":\"\"}},\"type\":\"scattercarpet\"}],\"scattergeo\":[{\"marker\":{\"colorbar\":{\"outlinewidth\":0,\"ticks\":\"\"}},\"type\":\"scattergeo\"}],\"scattergl\":[{\"marker\":{\"colorbar\":{\"outlinewidth\":0,\"ticks\":\"\"}},\"type\":\"scattergl\"}],\"scattermapbox\":[{\"marker\":{\"colorbar\":{\"outlinewidth\":0,\"ticks\":\"\"}},\"type\":\"scattermapbox\"}],\"scatterpolar\":[{\"marker\":{\"colorbar\":{\"outlinewidth\":0,\"ticks\":\"\"}},\"type\":\"scatterpolar\"}],\"scatterpolargl\":[{\"marker\":{\"colorbar\":{\"outlinewidth\":0,\"ticks\":\"\"}},\"type\":\"scatterpolargl\"}],\"scatterternary\":[{\"marker\":{\"colorbar\":{\"outlinewidth\":0,\"ticks\":\"\"}},\"type\":\"scatterternary\"}],\"surface\":[{\"colorbar\":{\"outlinewidth\":0,\"ticks\":\"\"},\"colorscale\":[[0.0,\"#0d0887\"],[0.1111111111111111,\"#46039f\"],[0.2222222222222222,\"#7201a8\"],[0.3333333333333333,\"#9c179e\"],[0.4444444444444444,\"#bd3786\"],[0.5555555555555556,\"#d8576b\"],[0.6666666666666666,\"#ed7953\"],[0.7777777777777778,\"#fb9f3a\"],[0.8888888888888888,\"#fdca26\"],[1.0,\"#f0f921\"]],\"type\":\"surface\"}],\"table\":[{\"cells\":{\"fill\":{\"color\":\"#EBF0F8\"},\"line\":{\"color\":\"white\"}},\"header\":{\"fill\":{\"color\":\"#C8D4E3\"},\"line\":{\"color\":\"white\"}},\"type\":\"table\"}]},\"layout\":{\"annotationdefaults\":{\"arrowcolor\":\"#2a3f5f\",\"arrowhead\":0,\"arrowwidth\":1},\"autotypenumbers\":\"strict\",\"coloraxis\":{\"colorbar\":{\"outlinewidth\":0,\"ticks\":\"\"}},\"colorscale\":{\"diverging\":[[0,\"#8e0152\"],[0.1,\"#c51b7d\"],[0.2,\"#de77ae\"],[0.3,\"#f1b6da\"],[0.4,\"#fde0ef\"],[0.5,\"#f7f7f7\"],[0.6,\"#e6f5d0\"],[0.7,\"#b8e186\"],[0.8,\"#7fbc41\"],[0.9,\"#4d9221\"],[1,\"#276419\"]],\"sequential\":[[0.0,\"#0d0887\"],[0.1111111111111111,\"#46039f\"],[0.2222222222222222,\"#7201a8\"],[0.3333333333333333,\"#9c179e\"],[0.4444444444444444,\"#bd3786\"],[0.5555555555555556,\"#d8576b\"],[0.6666666666666666,\"#ed7953\"],[0.7777777777777778,\"#fb9f3a\"],[0.8888888888888888,\"#fdca26\"],[1.0,\"#f0f921\"]],\"sequentialminus\":[[0.0,\"#0d0887\"],[0.1111111111111111,\"#46039f\"],[0.2222222222222222,\"#7201a8\"],[0.3333333333333333,\"#9c179e\"],[0.4444444444444444,\"#bd3786\"],[0.5555555555555556,\"#d8576b\"],[0.6666666666666666,\"#ed7953\"],[0.7777777777777778,\"#fb9f3a\"],[0.8888888888888888,\"#fdca26\"],[1.0,\"#f0f921\"]]},\"colorway\":[\"#636efa\",\"#EF553B\",\"#00cc96\",\"#ab63fa\",\"#FFA15A\",\"#19d3f3\",\"#FF6692\",\"#B6E880\",\"#FF97FF\",\"#FECB52\"],\"font\":{\"color\":\"#2a3f5f\"},\"geo\":{\"bgcolor\":\"white\",\"lakecolor\":\"white\",\"landcolor\":\"#E5ECF6\",\"showlakes\":true,\"showland\":true,\"subunitcolor\":\"white\"},\"hoverlabel\":{\"align\":\"left\"},\"hovermode\":\"closest\",\"mapbox\":{\"style\":\"light\"},\"paper_bgcolor\":\"white\",\"plot_bgcolor\":\"#E5ECF6\",\"polar\":{\"angularaxis\":{\"gridcolor\":\"white\",\"linecolor\":\"white\",\"ticks\":\"\"},\"bgcolor\":\"#E5ECF6\",\"radialaxis\":{\"gridcolor\":\"white\",\"linecolor\":\"white\",\"ticks\":\"\"}},\"scene\":{\"xaxis\":{\"backgroundcolor\":\"#E5ECF6\",\"gridcolor\":\"white\",\"gridwidth\":2,\"linecolor\":\"white\",\"showbackground\":true,\"ticks\":\"\",\"zerolinecolor\":\"white\"},\"yaxis\":{\"backgroundcolor\":\"#E5ECF6\",\"gridcolor\":\"white\",\"gridwidth\":2,\"linecolor\":\"white\",\"showbackground\":true,\"ticks\":\"\",\"zerolinecolor\":\"white\"},\"zaxis\":{\"backgroundcolor\":\"#E5ECF6\",\"gridcolor\":\"white\",\"gridwidth\":2,\"linecolor\":\"white\",\"showbackground\":true,\"ticks\":\"\",\"zerolinecolor\":\"white\"}},\"shapedefaults\":{\"line\":{\"color\":\"#2a3f5f\"}},\"ternary\":{\"aaxis\":{\"gridcolor\":\"white\",\"linecolor\":\"white\",\"ticks\":\"\"},\"baxis\":{\"gridcolor\":\"white\",\"linecolor\":\"white\",\"ticks\":\"\"},\"bgcolor\":\"#E5ECF6\",\"caxis\":{\"gridcolor\":\"white\",\"linecolor\":\"white\",\"ticks\":\"\"}},\"title\":{\"x\":0.05},\"xaxis\":{\"automargin\":true,\"gridcolor\":\"white\",\"linecolor\":\"white\",\"ticks\":\"\",\"title\":{\"standoff\":15},\"zerolinecolor\":\"white\",\"zerolinewidth\":2},\"yaxis\":{\"automargin\":true,\"gridcolor\":\"white\",\"linecolor\":\"white\",\"ticks\":\"\",\"title\":{\"standoff\":15},\"zerolinecolor\":\"white\",\"zerolinewidth\":2}}},\"scene\":{\"domain\":{\"x\":[0.0,1.0],\"y\":[0.0,1.0]},\"xaxis\":{\"title\":{\"text\":\"NewCases\"}},\"yaxis\":{\"title\":{\"text\":\"Infection_Risk\"}},\"zaxis\":{\"title\":{\"text\":\"NewDeaths\"}}},\"coloraxis\":{\"colorbar\":{\"title\":{\"text\":\"class\"}},\"colorscale\":[[0.0,\"#0d0887\"],[0.1111111111111111,\"#46039f\"],[0.2222222222222222,\"#7201a8\"],[0.3333333333333333,\"#9c179e\"],[0.4444444444444444,\"#bd3786\"],[0.5555555555555556,\"#d8576b\"],[0.6666666666666666,\"#ed7953\"],[0.7777777777777778,\"#fb9f3a\"],[0.8888888888888888,\"#fdca26\"],[1.0,\"#f0f921\"]]},\"legend\":{\"title\":{\"text\":\"class\"},\"tracegroupgap\":0,\"x\":0,\"y\":1},\"margin\":{\"t\":60}},                        {\"responsive\": true}                    ).then(function(){\n",
       "                            \n",
       "var gd = document.getElementById('a0ba4fa7-c375-4e95-9926-a9b87b263940');\n",
       "var x = new MutationObserver(function (mutations, observer) {{\n",
       "        var display = window.getComputedStyle(gd).display;\n",
       "        if (!display || display === 'none') {{\n",
       "            console.log([gd, 'removed!']);\n",
       "            Plotly.purge(gd);\n",
       "            observer.disconnect();\n",
       "        }}\n",
       "}});\n",
       "\n",
       "// Listen for the removal of the full notebook cells\n",
       "var notebookContainer = gd.closest('#notebook-container');\n",
       "if (notebookContainer) {{\n",
       "    x.observe(notebookContainer, {childList: true});\n",
       "}}\n",
       "\n",
       "// Listen for the clearing of the current output cell\n",
       "var outputEl = gd.closest('.output');\n",
       "if (outputEl) {{\n",
       "    x.observe(outputEl, {childList: true});\n",
       "}}\n",
       "\n",
       "                        })                };                });            </script>        </div>"
      ]
     },
     "metadata": {},
     "output_type": "display_data"
    }
   ],
   "source": [
    "fig = px.scatter_3d(\n",
    "    covid_data_df,\n",
    "    x=\"NewCases\",\n",
    "    y=\"Infection_Risk\",\n",
    "    z=\"NewDeaths\",\n",
    "    color=\"class\",\n",
    "    symbol=\"class\"\n",
    ")\n",
    "fig.update_layout(legend=dict(x=0, y=1))\n",
    "fig.show()"
   ]
  },
  {
   "cell_type": "code",
   "execution_count": null,
   "metadata": {},
   "outputs": [],
   "source": []
  }
 ],
 "metadata": {
  "interpreter": {
   "hash": "fa17c508ea183e3053b2fc5d5455f9c2c0be1c05ebdcc68f18396186d6a94e43"
  },
  "kernelspec": {
   "display_name": "mlenv",
   "language": "python",
   "name": "mlenv"
  },
  "language_info": {
   "codemirror_mode": {
    "name": "ipython",
    "version": 3
   },
   "file_extension": ".py",
   "mimetype": "text/x-python",
   "name": "python",
   "nbconvert_exporter": "python",
   "pygments_lexer": "ipython3",
   "version": "3.9.7"
  }
 },
 "nbformat": 4,
 "nbformat_minor": 2
}
