{
 "cells": [
  {
   "cell_type": "code",
   "execution_count": 34,
   "metadata": {},
   "outputs": [],
   "source": [
    "import pandas as pd"
   ]
  },
  {
   "cell_type": "code",
   "execution_count": 35,
   "metadata": {},
   "outputs": [],
   "source": [
    "#importaing data\n",
    "data = pd.read_csv(\"https://raw.githubusercontent.com/mhoussam1/Group-1-COVID19/charleside2001/covid_19.csv\")\n",
    "covid_data = pd.DataFrame(data)"
   ]
  },
  {
   "cell_type": "code",
   "execution_count": 36,
   "metadata": {},
   "outputs": [
    {
     "data": {
      "text/html": [
       "<div>\n",
       "<style scoped>\n",
       "    .dataframe tbody tr th:only-of-type {\n",
       "        vertical-align: middle;\n",
       "    }\n",
       "\n",
       "    .dataframe tbody tr th {\n",
       "        vertical-align: top;\n",
       "    }\n",
       "\n",
       "    .dataframe thead th {\n",
       "        text-align: right;\n",
       "    }\n",
       "</style>\n",
       "<table border=\"1\" class=\"dataframe\">\n",
       "  <thead>\n",
       "    <tr style=\"text-align: right;\">\n",
       "      <th></th>\n",
       "      <th>Unnamed: 0</th>\n",
       "      <th>id</th>\n",
       "      <th>rank</th>\n",
       "      <th>Country</th>\n",
       "      <th>Continent</th>\n",
       "      <th>Infection_Risk</th>\n",
       "      <th>Case_Fatality_Rate</th>\n",
       "      <th>Test_Percentage</th>\n",
       "      <th>Recovery_Proporation</th>\n",
       "      <th>TotalCases</th>\n",
       "      <th>...</th>\n",
       "      <th>ActiveCases</th>\n",
       "      <th>TotalTests</th>\n",
       "      <th>Population</th>\n",
       "      <th>one_Caseevery_X_ppl</th>\n",
       "      <th>one_Deathevery_X_ppl</th>\n",
       "      <th>one_Testevery_X_ppl</th>\n",
       "      <th>Deaths_1M_pop</th>\n",
       "      <th>Serious_Critical</th>\n",
       "      <th>Tests_1M_Pop</th>\n",
       "      <th>TotCases_1M_Pop</th>\n",
       "    </tr>\n",
       "  </thead>\n",
       "  <tbody>\n",
       "    <tr>\n",
       "      <th>0</th>\n",
       "      <td>0</td>\n",
       "      <td>63492a0f-56d7-4c00-9ac1-d64fd5414029</td>\n",
       "      <td>0</td>\n",
       "      <td>Total:</td>\n",
       "      <td>All</td>\n",
       "      <td>0.00</td>\n",
       "      <td>1.28</td>\n",
       "      <td>0.00</td>\n",
       "      <td>86.33</td>\n",
       "      <td>479281013</td>\n",
       "      <td>...</td>\n",
       "      <td>59380364</td>\n",
       "      <td>0</td>\n",
       "      <td>0</td>\n",
       "      <td>0</td>\n",
       "      <td>0</td>\n",
       "      <td>0</td>\n",
       "      <td>787.4</td>\n",
       "      <td>59490</td>\n",
       "      <td>0</td>\n",
       "      <td>61487.3</td>\n",
       "    </tr>\n",
       "    <tr>\n",
       "      <th>1</th>\n",
       "      <td>1</td>\n",
       "      <td>40f44943-8413-4a31-a4df-deee8111f85f</td>\n",
       "      <td>0</td>\n",
       "      <td>World</td>\n",
       "      <td>All</td>\n",
       "      <td>0.00</td>\n",
       "      <td>1.28</td>\n",
       "      <td>0.00</td>\n",
       "      <td>86.33</td>\n",
       "      <td>479281013</td>\n",
       "      <td>...</td>\n",
       "      <td>59380364</td>\n",
       "      <td>0</td>\n",
       "      <td>0</td>\n",
       "      <td>0</td>\n",
       "      <td>0</td>\n",
       "      <td>0</td>\n",
       "      <td>787.4</td>\n",
       "      <td>59490</td>\n",
       "      <td>0</td>\n",
       "      <td>61487.0</td>\n",
       "    </tr>\n",
       "    <tr>\n",
       "      <th>2</th>\n",
       "      <td>2</td>\n",
       "      <td>be02608d-a52f-4586-ae9b-220dee7daaf1</td>\n",
       "      <td>1</td>\n",
       "      <td>USA</td>\n",
       "      <td>North America</td>\n",
       "      <td>24.40</td>\n",
       "      <td>1.23</td>\n",
       "      <td>292.38</td>\n",
       "      <td>78.38</td>\n",
       "      <td>81577789</td>\n",
       "      <td>...</td>\n",
       "      <td>16634853</td>\n",
       "      <td>977550253</td>\n",
       "      <td>334347663</td>\n",
       "      <td>4</td>\n",
       "      <td>333</td>\n",
       "      <td>0</td>\n",
       "      <td>2999.0</td>\n",
       "      <td>2621</td>\n",
       "      <td>2923754</td>\n",
       "      <td>243991.0</td>\n",
       "    </tr>\n",
       "    <tr>\n",
       "      <th>3</th>\n",
       "      <td>3</td>\n",
       "      <td>f6ecf8d7-5867-42dc-9290-24fda4cb14f0</td>\n",
       "      <td>2</td>\n",
       "      <td>India</td>\n",
       "      <td>Asia</td>\n",
       "      <td>3.07</td>\n",
       "      <td>1.20</td>\n",
       "      <td>55.98</td>\n",
       "      <td>98.75</td>\n",
       "      <td>43016372</td>\n",
       "      <td>...</td>\n",
       "      <td>21500</td>\n",
       "      <td>785644225</td>\n",
       "      <td>1403383978</td>\n",
       "      <td>33</td>\n",
       "      <td>2716</td>\n",
       "      <td>2</td>\n",
       "      <td>368.0</td>\n",
       "      <td>8944</td>\n",
       "      <td>559821</td>\n",
       "      <td>30652.0</td>\n",
       "    </tr>\n",
       "    <tr>\n",
       "      <th>4</th>\n",
       "      <td>4</td>\n",
       "      <td>338a3103-483a-4292-9559-1aac2ed47a90</td>\n",
       "      <td>3</td>\n",
       "      <td>Brazil</td>\n",
       "      <td>South America</td>\n",
       "      <td>13.85</td>\n",
       "      <td>2.21</td>\n",
       "      <td>29.64</td>\n",
       "      <td>95.32</td>\n",
       "      <td>29802257</td>\n",
       "      <td>...</td>\n",
       "      <td>736234</td>\n",
       "      <td>63776166</td>\n",
       "      <td>215163281</td>\n",
       "      <td>7</td>\n",
       "      <td>327</td>\n",
       "      <td>3</td>\n",
       "      <td>3061.0</td>\n",
       "      <td>8318</td>\n",
       "      <td>296408</td>\n",
       "      <td>138510.0</td>\n",
       "    </tr>\n",
       "  </tbody>\n",
       "</table>\n",
       "<p>5 rows × 25 columns</p>\n",
       "</div>"
      ],
      "text/plain": [
       "   Unnamed: 0                                    id  rank Country  \\\n",
       "0           0  63492a0f-56d7-4c00-9ac1-d64fd5414029     0  Total:   \n",
       "1           1  40f44943-8413-4a31-a4df-deee8111f85f     0   World   \n",
       "2           2  be02608d-a52f-4586-ae9b-220dee7daaf1     1     USA   \n",
       "3           3  f6ecf8d7-5867-42dc-9290-24fda4cb14f0     2   India   \n",
       "4           4  338a3103-483a-4292-9559-1aac2ed47a90     3  Brazil   \n",
       "\n",
       "       Continent  Infection_Risk  Case_Fatality_Rate  Test_Percentage  \\\n",
       "0            All            0.00                1.28             0.00   \n",
       "1            All            0.00                1.28             0.00   \n",
       "2  North America           24.40                1.23           292.38   \n",
       "3           Asia            3.07                1.20            55.98   \n",
       "4  South America           13.85                2.21            29.64   \n",
       "\n",
       "   Recovery_Proporation  TotalCases  ...  ActiveCases  TotalTests  Population  \\\n",
       "0                 86.33   479281013  ...     59380364           0           0   \n",
       "1                 86.33   479281013  ...     59380364           0           0   \n",
       "2                 78.38    81577789  ...     16634853   977550253   334347663   \n",
       "3                 98.75    43016372  ...        21500   785644225  1403383978   \n",
       "4                 95.32    29802257  ...       736234    63776166   215163281   \n",
       "\n",
       "   one_Caseevery_X_ppl  one_Deathevery_X_ppl  one_Testevery_X_ppl  \\\n",
       "0                    0                     0                    0   \n",
       "1                    0                     0                    0   \n",
       "2                    4                   333                    0   \n",
       "3                   33                  2716                    2   \n",
       "4                    7                   327                    3   \n",
       "\n",
       "   Deaths_1M_pop  Serious_Critical  Tests_1M_Pop  TotCases_1M_Pop  \n",
       "0          787.4             59490             0          61487.3  \n",
       "1          787.4             59490             0          61487.0  \n",
       "2         2999.0              2621       2923754         243991.0  \n",
       "3          368.0              8944        559821          30652.0  \n",
       "4         3061.0              8318        296408         138510.0  \n",
       "\n",
       "[5 rows x 25 columns]"
      ]
     },
     "execution_count": 36,
     "metadata": {},
     "output_type": "execute_result"
    }
   ],
   "source": [
    "#checking data\n",
    "covid_data.head(5)"
   ]
  },
  {
   "cell_type": "code",
   "execution_count": 37,
   "metadata": {},
   "outputs": [],
   "source": [
    "covid_data_df = covid_data.drop(labels=[\"id\", \"rank\", \"Continent\", \"Test_Percentage\", \"TotalCases\", \"TotalDeaths\", \"TotalRecovered\", \"TotalTests\", \"Population\", \"one_Caseevery_X_ppl\", \"one_Deathevery_X_ppl\", \"one_Testevery_X_ppl\", \"Deaths_1M_pop\", \"Tests_1M_Pop\", \"TotCases_1M_Pop\"], axis=1)"
   ]
  },
  {
   "cell_type": "code",
   "execution_count": 38,
   "metadata": {},
   "outputs": [
    {
     "data": {
      "text/html": [
       "<div>\n",
       "<style scoped>\n",
       "    .dataframe tbody tr th:only-of-type {\n",
       "        vertical-align: middle;\n",
       "    }\n",
       "\n",
       "    .dataframe tbody tr th {\n",
       "        vertical-align: top;\n",
       "    }\n",
       "\n",
       "    .dataframe thead th {\n",
       "        text-align: right;\n",
       "    }\n",
       "</style>\n",
       "<table border=\"1\" class=\"dataframe\">\n",
       "  <thead>\n",
       "    <tr style=\"text-align: right;\">\n",
       "      <th></th>\n",
       "      <th>Unnamed: 0</th>\n",
       "      <th>Country</th>\n",
       "      <th>Infection_Risk</th>\n",
       "      <th>Case_Fatality_Rate</th>\n",
       "      <th>Recovery_Proporation</th>\n",
       "      <th>NewCases</th>\n",
       "      <th>NewDeaths</th>\n",
       "      <th>NewRecovered</th>\n",
       "      <th>ActiveCases</th>\n",
       "      <th>Serious_Critical</th>\n",
       "    </tr>\n",
       "  </thead>\n",
       "  <tbody>\n",
       "    <tr>\n",
       "      <th>2</th>\n",
       "      <td>2</td>\n",
       "      <td>USA</td>\n",
       "      <td>24.40</td>\n",
       "      <td>1.23</td>\n",
       "      <td>78.38</td>\n",
       "      <td>11781</td>\n",
       "      <td>354</td>\n",
       "      <td>115862</td>\n",
       "      <td>16634853</td>\n",
       "      <td>2621</td>\n",
       "    </tr>\n",
       "    <tr>\n",
       "      <th>3</th>\n",
       "      <td>3</td>\n",
       "      <td>India</td>\n",
       "      <td>3.07</td>\n",
       "      <td>1.20</td>\n",
       "      <td>98.75</td>\n",
       "      <td>0</td>\n",
       "      <td>0</td>\n",
       "      <td>0</td>\n",
       "      <td>21500</td>\n",
       "      <td>8944</td>\n",
       "    </tr>\n",
       "    <tr>\n",
       "      <th>4</th>\n",
       "      <td>4</td>\n",
       "      <td>Brazil</td>\n",
       "      <td>13.85</td>\n",
       "      <td>2.21</td>\n",
       "      <td>95.32</td>\n",
       "      <td>34576</td>\n",
       "      <td>199</td>\n",
       "      <td>0</td>\n",
       "      <td>736234</td>\n",
       "      <td>8318</td>\n",
       "    </tr>\n",
       "    <tr>\n",
       "      <th>5</th>\n",
       "      <td>5</td>\n",
       "      <td>France</td>\n",
       "      <td>37.82</td>\n",
       "      <td>0.57</td>\n",
       "      <td>92.29</td>\n",
       "      <td>143571</td>\n",
       "      <td>121</td>\n",
       "      <td>53554</td>\n",
       "      <td>1767763</td>\n",
       "      <td>1564</td>\n",
       "    </tr>\n",
       "    <tr>\n",
       "      <th>6</th>\n",
       "      <td>6</td>\n",
       "      <td>UK</td>\n",
       "      <td>30.21</td>\n",
       "      <td>0.79</td>\n",
       "      <td>90.78</td>\n",
       "      <td>39925</td>\n",
       "      <td>172</td>\n",
       "      <td>24952</td>\n",
       "      <td>1743492</td>\n",
       "      <td>302</td>\n",
       "    </tr>\n",
       "    <tr>\n",
       "      <th>...</th>\n",
       "      <td>...</td>\n",
       "      <td>...</td>\n",
       "      <td>...</td>\n",
       "      <td>...</td>\n",
       "      <td>...</td>\n",
       "      <td>...</td>\n",
       "      <td>...</td>\n",
       "      <td>...</td>\n",
       "      <td>...</td>\n",
       "      <td>...</td>\n",
       "    </tr>\n",
       "    <tr>\n",
       "      <th>217</th>\n",
       "      <td>217</td>\n",
       "      <td>Vatican City</td>\n",
       "      <td>3.61</td>\n",
       "      <td>0.00</td>\n",
       "      <td>96.55</td>\n",
       "      <td>0</td>\n",
       "      <td>0</td>\n",
       "      <td>0</td>\n",
       "      <td>1</td>\n",
       "      <td>0</td>\n",
       "    </tr>\n",
       "    <tr>\n",
       "      <th>218</th>\n",
       "      <td>218</td>\n",
       "      <td>Western Sahara</td>\n",
       "      <td>0.00</td>\n",
       "      <td>10.00</td>\n",
       "      <td>80.00</td>\n",
       "      <td>0</td>\n",
       "      <td>0</td>\n",
       "      <td>0</td>\n",
       "      <td>1</td>\n",
       "      <td>0</td>\n",
       "    </tr>\n",
       "    <tr>\n",
       "      <th>219</th>\n",
       "      <td>219</td>\n",
       "      <td>MS Zaandam</td>\n",
       "      <td>0.00</td>\n",
       "      <td>22.22</td>\n",
       "      <td>77.78</td>\n",
       "      <td>0</td>\n",
       "      <td>0</td>\n",
       "      <td>0</td>\n",
       "      <td>0</td>\n",
       "      <td>0</td>\n",
       "    </tr>\n",
       "    <tr>\n",
       "      <th>220</th>\n",
       "      <td>220</td>\n",
       "      <td>Marshall Islands</td>\n",
       "      <td>0.01</td>\n",
       "      <td>0.00</td>\n",
       "      <td>100.00</td>\n",
       "      <td>0</td>\n",
       "      <td>0</td>\n",
       "      <td>0</td>\n",
       "      <td>0</td>\n",
       "      <td>0</td>\n",
       "    </tr>\n",
       "    <tr>\n",
       "      <th>221</th>\n",
       "      <td>221</td>\n",
       "      <td>China</td>\n",
       "      <td>0.01</td>\n",
       "      <td>3.30</td>\n",
       "      <td>77.58</td>\n",
       "      <td>1366</td>\n",
       "      <td>0</td>\n",
       "      <td>725</td>\n",
       "      <td>26894</td>\n",
       "      <td>50</td>\n",
       "    </tr>\n",
       "  </tbody>\n",
       "</table>\n",
       "<p>220 rows × 10 columns</p>\n",
       "</div>"
      ],
      "text/plain": [
       "     Unnamed: 0           Country  Infection_Risk  Case_Fatality_Rate  \\\n",
       "2             2               USA           24.40                1.23   \n",
       "3             3             India            3.07                1.20   \n",
       "4             4            Brazil           13.85                2.21   \n",
       "5             5            France           37.82                0.57   \n",
       "6             6                UK           30.21                0.79   \n",
       "..          ...               ...             ...                 ...   \n",
       "217         217      Vatican City            3.61                0.00   \n",
       "218         218    Western Sahara            0.00               10.00   \n",
       "219         219        MS Zaandam            0.00               22.22   \n",
       "220         220  Marshall Islands            0.01                0.00   \n",
       "221         221             China            0.01                3.30   \n",
       "\n",
       "     Recovery_Proporation  NewCases  NewDeaths  NewRecovered  ActiveCases  \\\n",
       "2                   78.38     11781        354        115862     16634853   \n",
       "3                   98.75         0          0             0        21500   \n",
       "4                   95.32     34576        199             0       736234   \n",
       "5                   92.29    143571        121         53554      1767763   \n",
       "6                   90.78     39925        172         24952      1743492   \n",
       "..                    ...       ...        ...           ...          ...   \n",
       "217                 96.55         0          0             0            1   \n",
       "218                 80.00         0          0             0            1   \n",
       "219                 77.78         0          0             0            0   \n",
       "220                100.00         0          0             0            0   \n",
       "221                 77.58      1366          0           725        26894   \n",
       "\n",
       "     Serious_Critical  \n",
       "2                2621  \n",
       "3                8944  \n",
       "4                8318  \n",
       "5                1564  \n",
       "6                 302  \n",
       "..                ...  \n",
       "217                 0  \n",
       "218                 0  \n",
       "219                 0  \n",
       "220                 0  \n",
       "221                50  \n",
       "\n",
       "[220 rows x 10 columns]"
      ]
     },
     "execution_count": 38,
     "metadata": {},
     "output_type": "execute_result"
    }
   ],
   "source": [
    "covid_data_df = covid_data_df.iloc[2:]\n",
    "covid_data_df"
   ]
  },
  {
   "cell_type": "code",
   "execution_count": 39,
   "metadata": {},
   "outputs": [],
   "source": [
    "covid_data_df = covid_data_df.set_index('Country')"
   ]
  },
  {
   "cell_type": "code",
   "execution_count": 40,
   "metadata": {},
   "outputs": [
    {
     "data": {
      "text/html": [
       "<div>\n",
       "<style scoped>\n",
       "    .dataframe tbody tr th:only-of-type {\n",
       "        vertical-align: middle;\n",
       "    }\n",
       "\n",
       "    .dataframe tbody tr th {\n",
       "        vertical-align: top;\n",
       "    }\n",
       "\n",
       "    .dataframe thead th {\n",
       "        text-align: right;\n",
       "    }\n",
       "</style>\n",
       "<table border=\"1\" class=\"dataframe\">\n",
       "  <thead>\n",
       "    <tr style=\"text-align: right;\">\n",
       "      <th></th>\n",
       "      <th>Unnamed: 0</th>\n",
       "      <th>Infection_Risk</th>\n",
       "      <th>Case_Fatality_Rate</th>\n",
       "      <th>Recovery_Proporation</th>\n",
       "      <th>NewCases</th>\n",
       "      <th>NewDeaths</th>\n",
       "      <th>NewRecovered</th>\n",
       "      <th>ActiveCases</th>\n",
       "      <th>Serious_Critical</th>\n",
       "    </tr>\n",
       "    <tr>\n",
       "      <th>Country</th>\n",
       "      <th></th>\n",
       "      <th></th>\n",
       "      <th></th>\n",
       "      <th></th>\n",
       "      <th></th>\n",
       "      <th></th>\n",
       "      <th></th>\n",
       "      <th></th>\n",
       "      <th></th>\n",
       "    </tr>\n",
       "  </thead>\n",
       "  <tbody>\n",
       "    <tr>\n",
       "      <th>USA</th>\n",
       "      <td>2</td>\n",
       "      <td>24.40</td>\n",
       "      <td>1.23</td>\n",
       "      <td>78.38</td>\n",
       "      <td>11781</td>\n",
       "      <td>354</td>\n",
       "      <td>115862</td>\n",
       "      <td>16634853</td>\n",
       "      <td>2621</td>\n",
       "    </tr>\n",
       "    <tr>\n",
       "      <th>India</th>\n",
       "      <td>3</td>\n",
       "      <td>3.07</td>\n",
       "      <td>1.20</td>\n",
       "      <td>98.75</td>\n",
       "      <td>0</td>\n",
       "      <td>0</td>\n",
       "      <td>0</td>\n",
       "      <td>21500</td>\n",
       "      <td>8944</td>\n",
       "    </tr>\n",
       "    <tr>\n",
       "      <th>Brazil</th>\n",
       "      <td>4</td>\n",
       "      <td>13.85</td>\n",
       "      <td>2.21</td>\n",
       "      <td>95.32</td>\n",
       "      <td>34576</td>\n",
       "      <td>199</td>\n",
       "      <td>0</td>\n",
       "      <td>736234</td>\n",
       "      <td>8318</td>\n",
       "    </tr>\n",
       "    <tr>\n",
       "      <th>France</th>\n",
       "      <td>5</td>\n",
       "      <td>37.82</td>\n",
       "      <td>0.57</td>\n",
       "      <td>92.29</td>\n",
       "      <td>143571</td>\n",
       "      <td>121</td>\n",
       "      <td>53554</td>\n",
       "      <td>1767763</td>\n",
       "      <td>1564</td>\n",
       "    </tr>\n",
       "    <tr>\n",
       "      <th>UK</th>\n",
       "      <td>6</td>\n",
       "      <td>30.21</td>\n",
       "      <td>0.79</td>\n",
       "      <td>90.78</td>\n",
       "      <td>39925</td>\n",
       "      <td>172</td>\n",
       "      <td>24952</td>\n",
       "      <td>1743492</td>\n",
       "      <td>302</td>\n",
       "    </tr>\n",
       "    <tr>\n",
       "      <th>...</th>\n",
       "      <td>...</td>\n",
       "      <td>...</td>\n",
       "      <td>...</td>\n",
       "      <td>...</td>\n",
       "      <td>...</td>\n",
       "      <td>...</td>\n",
       "      <td>...</td>\n",
       "      <td>...</td>\n",
       "      <td>...</td>\n",
       "    </tr>\n",
       "    <tr>\n",
       "      <th>Vatican City</th>\n",
       "      <td>217</td>\n",
       "      <td>3.61</td>\n",
       "      <td>0.00</td>\n",
       "      <td>96.55</td>\n",
       "      <td>0</td>\n",
       "      <td>0</td>\n",
       "      <td>0</td>\n",
       "      <td>1</td>\n",
       "      <td>0</td>\n",
       "    </tr>\n",
       "    <tr>\n",
       "      <th>Western Sahara</th>\n",
       "      <td>218</td>\n",
       "      <td>0.00</td>\n",
       "      <td>10.00</td>\n",
       "      <td>80.00</td>\n",
       "      <td>0</td>\n",
       "      <td>0</td>\n",
       "      <td>0</td>\n",
       "      <td>1</td>\n",
       "      <td>0</td>\n",
       "    </tr>\n",
       "    <tr>\n",
       "      <th>MS Zaandam</th>\n",
       "      <td>219</td>\n",
       "      <td>0.00</td>\n",
       "      <td>22.22</td>\n",
       "      <td>77.78</td>\n",
       "      <td>0</td>\n",
       "      <td>0</td>\n",
       "      <td>0</td>\n",
       "      <td>0</td>\n",
       "      <td>0</td>\n",
       "    </tr>\n",
       "    <tr>\n",
       "      <th>Marshall Islands</th>\n",
       "      <td>220</td>\n",
       "      <td>0.01</td>\n",
       "      <td>0.00</td>\n",
       "      <td>100.00</td>\n",
       "      <td>0</td>\n",
       "      <td>0</td>\n",
       "      <td>0</td>\n",
       "      <td>0</td>\n",
       "      <td>0</td>\n",
       "    </tr>\n",
       "    <tr>\n",
       "      <th>China</th>\n",
       "      <td>221</td>\n",
       "      <td>0.01</td>\n",
       "      <td>3.30</td>\n",
       "      <td>77.58</td>\n",
       "      <td>1366</td>\n",
       "      <td>0</td>\n",
       "      <td>725</td>\n",
       "      <td>26894</td>\n",
       "      <td>50</td>\n",
       "    </tr>\n",
       "  </tbody>\n",
       "</table>\n",
       "<p>220 rows × 9 columns</p>\n",
       "</div>"
      ],
      "text/plain": [
       "                  Unnamed: 0  Infection_Risk  Case_Fatality_Rate  \\\n",
       "Country                                                            \n",
       "USA                        2           24.40                1.23   \n",
       "India                      3            3.07                1.20   \n",
       "Brazil                     4           13.85                2.21   \n",
       "France                     5           37.82                0.57   \n",
       "UK                         6           30.21                0.79   \n",
       "...                      ...             ...                 ...   \n",
       "Vatican City             217            3.61                0.00   \n",
       "Western Sahara           218            0.00               10.00   \n",
       "MS Zaandam               219            0.00               22.22   \n",
       "Marshall Islands         220            0.01                0.00   \n",
       "China                    221            0.01                3.30   \n",
       "\n",
       "                  Recovery_Proporation  NewCases  NewDeaths  NewRecovered  \\\n",
       "Country                                                                     \n",
       "USA                              78.38     11781        354        115862   \n",
       "India                            98.75         0          0             0   \n",
       "Brazil                           95.32     34576        199             0   \n",
       "France                           92.29    143571        121         53554   \n",
       "UK                               90.78     39925        172         24952   \n",
       "...                                ...       ...        ...           ...   \n",
       "Vatican City                     96.55         0          0             0   \n",
       "Western Sahara                   80.00         0          0             0   \n",
       "MS Zaandam                       77.78         0          0             0   \n",
       "Marshall Islands                100.00         0          0             0   \n",
       "China                            77.58      1366          0           725   \n",
       "\n",
       "                  ActiveCases  Serious_Critical  \n",
       "Country                                          \n",
       "USA                  16634853              2621  \n",
       "India                   21500              8944  \n",
       "Brazil                 736234              8318  \n",
       "France                1767763              1564  \n",
       "UK                    1743492               302  \n",
       "...                       ...               ...  \n",
       "Vatican City                1                 0  \n",
       "Western Sahara              1                 0  \n",
       "MS Zaandam                  0                 0  \n",
       "Marshall Islands            0                 0  \n",
       "China                   26894                50  \n",
       "\n",
       "[220 rows x 9 columns]"
      ]
     },
     "execution_count": 40,
     "metadata": {},
     "output_type": "execute_result"
    }
   ],
   "source": [
    "covid_data_df"
   ]
  },
  {
   "cell_type": "code",
   "execution_count": 41,
   "metadata": {},
   "outputs": [],
   "source": [
    "#import for kmean\n",
    "import pandas as pd\n",
    "import plotly.express as px\n",
    "import hvplot.pandas\n",
    "from sklearn.cluster import KMeans"
   ]
  },
  {
   "cell_type": "code",
   "execution_count": 42,
   "metadata": {},
   "outputs": [
    {
     "data": {
      "text/html": [
       "<div>\n",
       "<style scoped>\n",
       "    .dataframe tbody tr th:only-of-type {\n",
       "        vertical-align: middle;\n",
       "    }\n",
       "\n",
       "    .dataframe tbody tr th {\n",
       "        vertical-align: top;\n",
       "    }\n",
       "\n",
       "    .dataframe thead th {\n",
       "        text-align: right;\n",
       "    }\n",
       "</style>\n",
       "<table border=\"1\" class=\"dataframe\">\n",
       "  <thead>\n",
       "    <tr style=\"text-align: right;\">\n",
       "      <th></th>\n",
       "      <th>Unnamed: 0</th>\n",
       "      <th>Serious_Critical</th>\n",
       "      <th>Infection_Risk_0.0</th>\n",
       "      <th>Infection_Risk_0.01</th>\n",
       "      <th>Infection_Risk_0.03</th>\n",
       "      <th>Infection_Risk_0.04</th>\n",
       "      <th>Infection_Risk_0.05</th>\n",
       "      <th>Infection_Risk_0.09</th>\n",
       "      <th>Infection_Risk_0.1</th>\n",
       "      <th>Infection_Risk_0.12</th>\n",
       "      <th>...</th>\n",
       "      <th>ActiveCases_736234</th>\n",
       "      <th>ActiveCases_795728</th>\n",
       "      <th>ActiveCases_803014</th>\n",
       "      <th>ActiveCases_1246450</th>\n",
       "      <th>ActiveCases_1506919</th>\n",
       "      <th>ActiveCases_1743492</th>\n",
       "      <th>ActiveCases_1767763</th>\n",
       "      <th>ActiveCases_3731582</th>\n",
       "      <th>ActiveCases_4371008</th>\n",
       "      <th>ActiveCases_16634853</th>\n",
       "    </tr>\n",
       "    <tr>\n",
       "      <th>Country</th>\n",
       "      <th></th>\n",
       "      <th></th>\n",
       "      <th></th>\n",
       "      <th></th>\n",
       "      <th></th>\n",
       "      <th></th>\n",
       "      <th></th>\n",
       "      <th></th>\n",
       "      <th></th>\n",
       "      <th></th>\n",
       "      <th></th>\n",
       "      <th></th>\n",
       "      <th></th>\n",
       "      <th></th>\n",
       "      <th></th>\n",
       "      <th></th>\n",
       "      <th></th>\n",
       "      <th></th>\n",
       "      <th></th>\n",
       "      <th></th>\n",
       "      <th></th>\n",
       "    </tr>\n",
       "  </thead>\n",
       "  <tbody>\n",
       "    <tr>\n",
       "      <th>USA</th>\n",
       "      <td>2</td>\n",
       "      <td>2621</td>\n",
       "      <td>0</td>\n",
       "      <td>0</td>\n",
       "      <td>0</td>\n",
       "      <td>0</td>\n",
       "      <td>0</td>\n",
       "      <td>0</td>\n",
       "      <td>0</td>\n",
       "      <td>0</td>\n",
       "      <td>...</td>\n",
       "      <td>0</td>\n",
       "      <td>0</td>\n",
       "      <td>0</td>\n",
       "      <td>0</td>\n",
       "      <td>0</td>\n",
       "      <td>0</td>\n",
       "      <td>0</td>\n",
       "      <td>0</td>\n",
       "      <td>0</td>\n",
       "      <td>1</td>\n",
       "    </tr>\n",
       "    <tr>\n",
       "      <th>India</th>\n",
       "      <td>3</td>\n",
       "      <td>8944</td>\n",
       "      <td>0</td>\n",
       "      <td>0</td>\n",
       "      <td>0</td>\n",
       "      <td>0</td>\n",
       "      <td>0</td>\n",
       "      <td>0</td>\n",
       "      <td>0</td>\n",
       "      <td>0</td>\n",
       "      <td>...</td>\n",
       "      <td>0</td>\n",
       "      <td>0</td>\n",
       "      <td>0</td>\n",
       "      <td>0</td>\n",
       "      <td>0</td>\n",
       "      <td>0</td>\n",
       "      <td>0</td>\n",
       "      <td>0</td>\n",
       "      <td>0</td>\n",
       "      <td>0</td>\n",
       "    </tr>\n",
       "    <tr>\n",
       "      <th>Brazil</th>\n",
       "      <td>4</td>\n",
       "      <td>8318</td>\n",
       "      <td>0</td>\n",
       "      <td>0</td>\n",
       "      <td>0</td>\n",
       "      <td>0</td>\n",
       "      <td>0</td>\n",
       "      <td>0</td>\n",
       "      <td>0</td>\n",
       "      <td>0</td>\n",
       "      <td>...</td>\n",
       "      <td>1</td>\n",
       "      <td>0</td>\n",
       "      <td>0</td>\n",
       "      <td>0</td>\n",
       "      <td>0</td>\n",
       "      <td>0</td>\n",
       "      <td>0</td>\n",
       "      <td>0</td>\n",
       "      <td>0</td>\n",
       "      <td>0</td>\n",
       "    </tr>\n",
       "    <tr>\n",
       "      <th>France</th>\n",
       "      <td>5</td>\n",
       "      <td>1564</td>\n",
       "      <td>0</td>\n",
       "      <td>0</td>\n",
       "      <td>0</td>\n",
       "      <td>0</td>\n",
       "      <td>0</td>\n",
       "      <td>0</td>\n",
       "      <td>0</td>\n",
       "      <td>0</td>\n",
       "      <td>...</td>\n",
       "      <td>0</td>\n",
       "      <td>0</td>\n",
       "      <td>0</td>\n",
       "      <td>0</td>\n",
       "      <td>0</td>\n",
       "      <td>0</td>\n",
       "      <td>1</td>\n",
       "      <td>0</td>\n",
       "      <td>0</td>\n",
       "      <td>0</td>\n",
       "    </tr>\n",
       "    <tr>\n",
       "      <th>UK</th>\n",
       "      <td>6</td>\n",
       "      <td>302</td>\n",
       "      <td>0</td>\n",
       "      <td>0</td>\n",
       "      <td>0</td>\n",
       "      <td>0</td>\n",
       "      <td>0</td>\n",
       "      <td>0</td>\n",
       "      <td>0</td>\n",
       "      <td>0</td>\n",
       "      <td>...</td>\n",
       "      <td>0</td>\n",
       "      <td>0</td>\n",
       "      <td>0</td>\n",
       "      <td>0</td>\n",
       "      <td>0</td>\n",
       "      <td>1</td>\n",
       "      <td>0</td>\n",
       "      <td>0</td>\n",
       "      <td>0</td>\n",
       "      <td>0</td>\n",
       "    </tr>\n",
       "    <tr>\n",
       "      <th>Germany</th>\n",
       "      <td>7</td>\n",
       "      <td>2494</td>\n",
       "      <td>0</td>\n",
       "      <td>0</td>\n",
       "      <td>0</td>\n",
       "      <td>0</td>\n",
       "      <td>0</td>\n",
       "      <td>0</td>\n",
       "      <td>0</td>\n",
       "      <td>0</td>\n",
       "      <td>...</td>\n",
       "      <td>0</td>\n",
       "      <td>0</td>\n",
       "      <td>0</td>\n",
       "      <td>0</td>\n",
       "      <td>0</td>\n",
       "      <td>0</td>\n",
       "      <td>0</td>\n",
       "      <td>0</td>\n",
       "      <td>1</td>\n",
       "      <td>0</td>\n",
       "    </tr>\n",
       "    <tr>\n",
       "      <th>Russia</th>\n",
       "      <td>8</td>\n",
       "      <td>2300</td>\n",
       "      <td>0</td>\n",
       "      <td>0</td>\n",
       "      <td>0</td>\n",
       "      <td>0</td>\n",
       "      <td>0</td>\n",
       "      <td>0</td>\n",
       "      <td>0</td>\n",
       "      <td>0</td>\n",
       "      <td>...</td>\n",
       "      <td>0</td>\n",
       "      <td>0</td>\n",
       "      <td>1</td>\n",
       "      <td>0</td>\n",
       "      <td>0</td>\n",
       "      <td>0</td>\n",
       "      <td>0</td>\n",
       "      <td>0</td>\n",
       "      <td>0</td>\n",
       "      <td>0</td>\n",
       "    </tr>\n",
       "    <tr>\n",
       "      <th>Turkey</th>\n",
       "      <td>9</td>\n",
       "      <td>975</td>\n",
       "      <td>0</td>\n",
       "      <td>0</td>\n",
       "      <td>0</td>\n",
       "      <td>0</td>\n",
       "      <td>0</td>\n",
       "      <td>0</td>\n",
       "      <td>0</td>\n",
       "      <td>0</td>\n",
       "      <td>...</td>\n",
       "      <td>0</td>\n",
       "      <td>0</td>\n",
       "      <td>0</td>\n",
       "      <td>0</td>\n",
       "      <td>0</td>\n",
       "      <td>0</td>\n",
       "      <td>0</td>\n",
       "      <td>0</td>\n",
       "      <td>0</td>\n",
       "      <td>0</td>\n",
       "    </tr>\n",
       "    <tr>\n",
       "      <th>Italy</th>\n",
       "      <td>10</td>\n",
       "      <td>447</td>\n",
       "      <td>0</td>\n",
       "      <td>0</td>\n",
       "      <td>0</td>\n",
       "      <td>0</td>\n",
       "      <td>0</td>\n",
       "      <td>0</td>\n",
       "      <td>0</td>\n",
       "      <td>0</td>\n",
       "      <td>...</td>\n",
       "      <td>0</td>\n",
       "      <td>0</td>\n",
       "      <td>0</td>\n",
       "      <td>1</td>\n",
       "      <td>0</td>\n",
       "      <td>0</td>\n",
       "      <td>0</td>\n",
       "      <td>0</td>\n",
       "      <td>0</td>\n",
       "      <td>0</td>\n",
       "    </tr>\n",
       "    <tr>\n",
       "      <th>Spain</th>\n",
       "      <td>11</td>\n",
       "      <td>510</td>\n",
       "      <td>0</td>\n",
       "      <td>0</td>\n",
       "      <td>0</td>\n",
       "      <td>0</td>\n",
       "      <td>0</td>\n",
       "      <td>0</td>\n",
       "      <td>0</td>\n",
       "      <td>0</td>\n",
       "      <td>...</td>\n",
       "      <td>0</td>\n",
       "      <td>0</td>\n",
       "      <td>0</td>\n",
       "      <td>0</td>\n",
       "      <td>0</td>\n",
       "      <td>0</td>\n",
       "      <td>0</td>\n",
       "      <td>0</td>\n",
       "      <td>0</td>\n",
       "      <td>0</td>\n",
       "    </tr>\n",
       "  </tbody>\n",
       "</table>\n",
       "<p>10 rows × 978 columns</p>\n",
       "</div>"
      ],
      "text/plain": [
       "         Unnamed: 0  Serious_Critical  Infection_Risk_0.0  \\\n",
       "Country                                                     \n",
       "USA               2              2621                   0   \n",
       "India             3              8944                   0   \n",
       "Brazil            4              8318                   0   \n",
       "France            5              1564                   0   \n",
       "UK                6               302                   0   \n",
       "Germany           7              2494                   0   \n",
       "Russia            8              2300                   0   \n",
       "Turkey            9               975                   0   \n",
       "Italy            10               447                   0   \n",
       "Spain            11               510                   0   \n",
       "\n",
       "         Infection_Risk_0.01  Infection_Risk_0.03  Infection_Risk_0.04  \\\n",
       "Country                                                                  \n",
       "USA                        0                    0                    0   \n",
       "India                      0                    0                    0   \n",
       "Brazil                     0                    0                    0   \n",
       "France                     0                    0                    0   \n",
       "UK                         0                    0                    0   \n",
       "Germany                    0                    0                    0   \n",
       "Russia                     0                    0                    0   \n",
       "Turkey                     0                    0                    0   \n",
       "Italy                      0                    0                    0   \n",
       "Spain                      0                    0                    0   \n",
       "\n",
       "         Infection_Risk_0.05  Infection_Risk_0.09  Infection_Risk_0.1  \\\n",
       "Country                                                                 \n",
       "USA                        0                    0                   0   \n",
       "India                      0                    0                   0   \n",
       "Brazil                     0                    0                   0   \n",
       "France                     0                    0                   0   \n",
       "UK                         0                    0                   0   \n",
       "Germany                    0                    0                   0   \n",
       "Russia                     0                    0                   0   \n",
       "Turkey                     0                    0                   0   \n",
       "Italy                      0                    0                   0   \n",
       "Spain                      0                    0                   0   \n",
       "\n",
       "         Infection_Risk_0.12  ...  ActiveCases_736234  ActiveCases_795728  \\\n",
       "Country                       ...                                           \n",
       "USA                        0  ...                   0                   0   \n",
       "India                      0  ...                   0                   0   \n",
       "Brazil                     0  ...                   1                   0   \n",
       "France                     0  ...                   0                   0   \n",
       "UK                         0  ...                   0                   0   \n",
       "Germany                    0  ...                   0                   0   \n",
       "Russia                     0  ...                   0                   0   \n",
       "Turkey                     0  ...                   0                   0   \n",
       "Italy                      0  ...                   0                   0   \n",
       "Spain                      0  ...                   0                   0   \n",
       "\n",
       "         ActiveCases_803014  ActiveCases_1246450  ActiveCases_1506919  \\\n",
       "Country                                                                 \n",
       "USA                       0                    0                    0   \n",
       "India                     0                    0                    0   \n",
       "Brazil                    0                    0                    0   \n",
       "France                    0                    0                    0   \n",
       "UK                        0                    0                    0   \n",
       "Germany                   0                    0                    0   \n",
       "Russia                    1                    0                    0   \n",
       "Turkey                    0                    0                    0   \n",
       "Italy                     0                    1                    0   \n",
       "Spain                     0                    0                    0   \n",
       "\n",
       "         ActiveCases_1743492  ActiveCases_1767763  ActiveCases_3731582  \\\n",
       "Country                                                                  \n",
       "USA                        0                    0                    0   \n",
       "India                      0                    0                    0   \n",
       "Brazil                     0                    0                    0   \n",
       "France                     0                    1                    0   \n",
       "UK                         1                    0                    0   \n",
       "Germany                    0                    0                    0   \n",
       "Russia                     0                    0                    0   \n",
       "Turkey                     0                    0                    0   \n",
       "Italy                      0                    0                    0   \n",
       "Spain                      0                    0                    0   \n",
       "\n",
       "         ActiveCases_4371008  ActiveCases_16634853  \n",
       "Country                                             \n",
       "USA                        0                     1  \n",
       "India                      0                     0  \n",
       "Brazil                     0                     0  \n",
       "France                     0                     0  \n",
       "UK                         0                     0  \n",
       "Germany                    1                     0  \n",
       "Russia                     0                     0  \n",
       "Turkey                     0                     0  \n",
       "Italy                      0                     0  \n",
       "Spain                      0                     0  \n",
       "\n",
       "[10 rows x 978 columns]"
      ]
     },
     "execution_count": 42,
     "metadata": {},
     "output_type": "execute_result"
    }
   ],
   "source": [
    "X = pd.get_dummies(covid_data_df, columns = [\"Infection_Risk\", \"Case_Fatality_Rate\", \"Recovery_Proporation\", \"NewCases\", \"NewDeaths\", \"NewRecovered\", \"ActiveCases\"],  )\n",
    "X.head(10)"
   ]
  },
  {
   "cell_type": "code",
   "execution_count": 43,
   "metadata": {},
   "outputs": [],
   "source": [
    "from sklearn.preprocessing import StandardScaler, MinMaxScaler"
   ]
  },
  {
   "cell_type": "code",
   "execution_count": 44,
   "metadata": {},
   "outputs": [
    {
     "name": "stdout",
     "output_type": "stream",
     "text": [
      "[[-1.72419566  2.38660967 -0.11757927 ... -0.06757374 -0.06757374\n",
      "  14.79864859]\n",
      " [-1.70844958  8.80638703 -0.11757927 ... -0.06757374 -0.06757374\n",
      "  -0.06757374]\n",
      " [-1.6927035   8.17080572 -0.11757927 ... -0.06757374 -0.06757374\n",
      "  -0.06757374]\n",
      " [-1.67695742  1.31343164 -0.11757927 ... -0.06757374 -0.06757374\n",
      "  -0.06757374]\n",
      " [-1.66121134  0.03211596 -0.11757927 ... -0.06757374 -0.06757374\n",
      "  -0.06757374]]\n"
     ]
    }
   ],
   "source": [
    "# Standardize the data with StandardScaler().\n",
    "covid_scaled = StandardScaler().fit_transform(X)\n",
    "print(covid_scaled [0:5])"
   ]
  },
  {
   "cell_type": "code",
   "execution_count": 45,
   "metadata": {},
   "outputs": [],
   "source": [
    "from sklearn.decomposition import PCA"
   ]
  },
  {
   "cell_type": "code",
   "execution_count": 46,
   "metadata": {},
   "outputs": [
    {
     "data": {
      "text/plain": [
       "array([[ 4.42924078e+00,  4.98649068e+00,  2.47341045e-01],\n",
       "       [ 5.08087534e-01,  3.09197865e+00, -3.10062480e-01],\n",
       "       [ 3.26860010e+00,  5.21534440e+00, -3.61245842e-02],\n",
       "       [ 4.82973665e+00,  8.71061202e-01, -3.31555728e-01],\n",
       "       [ 5.86115542e+00, -1.25585694e+01,  7.11641296e-02],\n",
       "       [-7.91407902e-01,  5.45945004e-01,  1.30213586e+00],\n",
       "       [ 2.37846101e+00,  1.37646429e+01, -1.12505447e+01],\n",
       "       [ 5.58540121e+00,  2.10293649e+00, -3.41648242e+00],\n",
       "       [ 3.52992004e+00, -5.29639647e+00, -2.57653911e+00],\n",
       "       [ 1.68965464e+00,  4.13924299e+00,  1.05040388e+00],\n",
       "       [-1.39081771e-01,  2.79767369e-01, -1.44110742e-01],\n",
       "       [ 4.94324092e+00, -9.29987768e+00,  4.05328390e-01],\n",
       "       [-5.88291215e-01,  7.62373641e-01,  2.03975999e-01],\n",
       "       [ 4.19178302e+00,  2.24114224e+00, -1.31571891e+00],\n",
       "       [ 9.11481800e+00,  2.17573894e+00,  2.38337180e+01],\n",
       "       [ 5.72530664e+00, -4.63021000e-01, -2.93818051e+00],\n",
       "       [ 1.60034874e+00,  7.83966987e-02,  3.83300562e+00],\n",
       "       [ 7.21315507e+00,  2.54322650e+00, -1.95519180e+01],\n",
       "       [ 8.12221433e+00,  3.67358600e+00, -2.78674800e+00],\n",
       "       [ 7.27479122e+00,  2.34265891e+01,  5.92381998e+00],\n",
       "       [-1.18180214e-01,  2.98323032e-01,  1.38348459e-02],\n",
       "       [ 2.02162842e+00,  3.74883193e+00,  1.67172208e+00],\n",
       "       [ 1.47852704e+00,  3.37057468e-01,  4.91714818e-01],\n",
       "       [ 2.71258048e+00, -2.58867304e-01,  2.23995716e-01],\n",
       "       [ 2.40430595e+00, -6.90929177e+00,  1.98596567e+00],\n",
       "       [ 3.83290618e+00, -2.64197976e+00, -1.11822474e+00],\n",
       "       [ 4.66409400e+00, -3.26591582e+00,  6.76949308e-01],\n",
       "       [ 3.97090454e+00, -4.11134363e+00, -3.82479240e+00],\n",
       "       [ 5.35636958e+00, -7.92463121e+00, -1.41985690e+00],\n",
       "       [-1.56158789e+00,  3.29980309e-01, -1.18775584e-01],\n",
       "       [ 4.10119810e+00,  7.90916962e-01, -1.38550454e+00],\n",
       "       [-1.60537307e+00,  1.58225664e-01, -9.60150452e-02],\n",
       "       [ 2.59390644e+00, -2.68032004e+00, -3.21750591e+00],\n",
       "       [ 7.09549169e+00,  2.28683184e+00, -3.51311657e+00],\n",
       "       [ 2.65280799e+00, -1.03926823e-01,  3.32843152e+00],\n",
       "       [ 6.61641922e+00,  6.01523190e-01, -7.82055116e-01],\n",
       "       [ 2.15847978e+00, -1.26301846e+00, -7.56737464e-01],\n",
       "       [ 3.96581945e-01,  7.77186052e-01,  1.05116900e+00],\n",
       "       [-1.52911461e+00,  2.91071279e-01, -3.22843043e-02],\n",
       "       [ 1.36135920e+00, -1.59453689e+00,  1.18300841e-01],\n",
       "       [ 1.43354921e+00, -1.99009707e+00, -6.19810232e-01],\n",
       "       [-4.49977037e-02,  4.59418124e-01,  4.19286935e-01],\n",
       "       [ 9.93480725e+00, -9.64426060e-01, -2.56237502e+00],\n",
       "       [-1.54062580e+00,  1.28255942e-01, -1.20453346e-01],\n",
       "       [ 3.02276507e+00,  6.76485228e-01, -1.28855289e+00],\n",
       "       [ 2.64144868e+00, -4.90165641e-01, -3.79784302e+00],\n",
       "       [ 5.70542586e+00, -2.78353664e+00, -2.10877816e-01],\n",
       "       [ 4.30146358e+00, -3.86279226e+00, -4.39255159e+00],\n",
       "       [-1.74310154e+00,  2.15414053e-01, -9.92628723e-02],\n",
       "       [ 4.18034965e+00, -2.57987394e+00,  2.12038783e+00],\n",
       "       [ 2.56019796e-01, -9.18006054e-01, -3.40890072e-02],\n",
       "       [ 5.69298041e+00,  5.01428455e+00,  8.55558280e+00],\n",
       "       [-5.15606817e-01,  3.58065487e-01, -5.59076099e-01],\n",
       "       [ 2.57855366e+00, -4.38012537e+00, -9.03759840e-01],\n",
       "       [ 4.21621247e+00, -1.63176391e+00,  2.48566851e+00],\n",
       "       [-1.38625976e+00, -2.31799149e+00, -1.59620377e+00],\n",
       "       [ 9.50520122e-01, -2.03343205e-01,  2.44372833e+00],\n",
       "       [-1.75714063e+00,  2.31783685e-01, -1.04225932e-01],\n",
       "       [ 1.89532839e+00, -2.34337893e+00,  4.10102600e+00],\n",
       "       [ 7.92413950e-01, -4.30599948e-01,  4.93267200e-01],\n",
       "       [ 1.67456894e+00, -2.64767141e-01, -1.13255652e+00],\n",
       "       [ 6.28551810e+00, -3.40990447e-01, -4.44117204e+00],\n",
       "       [ 5.21766949e+00,  4.92088757e-01, -7.35985339e-01],\n",
       "       [ 8.54973702e-01,  3.29736958e+00,  5.19825198e-01],\n",
       "       [-1.27660746e+00, -1.63899135e-01, -1.78923791e-01],\n",
       "       [-1.71418275e+00,  3.75805145e-01, -1.11426347e-01],\n",
       "       [ 3.50169747e+00,  8.07003041e-01, -1.02611947e+00],\n",
       "       [-1.76925573e+00,  3.28885623e-01, -5.36089320e-02],\n",
       "       [ 2.83333995e+00, -7.25987295e+00,  3.75650720e+00],\n",
       "       [ 5.21375372e+00, -6.43296405e-01,  4.06125989e-01],\n",
       "       [ 1.12518898e+00, -7.00474482e-01, -1.04043097e+00],\n",
       "       [-1.07505212e+00,  6.58691518e-02,  2.10688206e-01],\n",
       "       [ 2.71891650e+00,  1.33155503e+00,  2.34198863e-01],\n",
       "       [ 3.60730738e+00,  2.02767790e-01,  1.14913255e+00],\n",
       "       [-1.79419228e+00,  2.88554516e-01, -7.05539527e-02],\n",
       "       [-1.95014740e+00,  2.32482741e-01, -5.14901518e-02],\n",
       "       [ 8.00424391e-01,  2.53400068e+00, -2.70285465e+00],\n",
       "       [-1.84289972e+00,  2.85481053e-01,  3.15578259e-03],\n",
       "       [-1.88575267e+00,  2.78501009e-01, -3.37695820e-02],\n",
       "       [ 4.37910941e+00,  2.28336609e+00,  9.86117165e-01],\n",
       "       [ 3.65426692e+00, -3.46280223e-01, -3.59811798e+00],\n",
       "       [ 3.00795949e+00, -9.59492360e-01, -4.40307890e-01],\n",
       "       [-1.45841579e+00, -1.24046249e-01, -4.02093402e-01],\n",
       "       [ 3.40860513e+00, -6.37887759e-01,  1.84025352e+00],\n",
       "       [ 3.18658106e+00, -4.54868620e-01,  2.84681596e+00],\n",
       "       [-2.00025682e+00,  2.38725026e-01, -6.29727660e-02],\n",
       "       [ 2.64080488e-01, -1.33283887e+00, -1.13948471e+00],\n",
       "       [-2.71484252e-01, -5.13169061e-01, -1.03153664e+00],\n",
       "       [ 4.03963454e+00, -1.86837843e+00,  1.29700566e+00],\n",
       "       [-1.87030561e+00,  2.58168710e-01, -3.92448312e-02],\n",
       "       [ 1.32984690e+00, -5.35676551e-01, -5.60477135e-02],\n",
       "       [-2.02580759e+00,  2.72599687e-01, -1.19308416e-01],\n",
       "       [ 7.25244377e-01, -4.66316432e-02,  8.24418548e-01],\n",
       "       [ 6.41896711e-01, -3.15017500e-01,  1.87693308e-01],\n",
       "       [-1.97417034e+00,  2.41655629e-01, -8.85286858e-02],\n",
       "       [-1.16533470e+00, -5.35711185e-01, -7.47211754e-01],\n",
       "       [ 4.94687884e+00, -2.39474703e+00,  8.95961982e-01],\n",
       "       [ 5.62653054e-01,  9.40871029e-01, -2.64697940e+00],\n",
       "       [ 3.03310278e+00, -1.02980217e+00,  2.42566233e+00],\n",
       "       [-8.16071858e-01, -1.70446585e+00,  1.73506647e+00],\n",
       "       [-1.87354801e+00,  1.60038967e-01, -1.07718224e-02],\n",
       "       [-1.51907608e+00,  6.94097236e-01,  2.01560392e-02],\n",
       "       [-1.46530177e+00,  8.32035338e-01,  5.07548387e-02],\n",
       "       [-6.17684711e-01, -2.28340640e-01,  9.33682189e-01],\n",
       "       [ 3.51623417e-01, -1.29321412e+00, -5.94565388e-01],\n",
       "       [-7.37470734e-01, -1.33168653e+00,  1.23099826e+00],\n",
       "       [ 1.45044914e+00, -2.24315945e+00,  1.78879032e+00],\n",
       "       [ 2.02508562e+00, -4.30517378e-01,  1.16537860e+00],\n",
       "       [ 4.45453667e-01,  1.33888076e-01,  6.31728965e-01],\n",
       "       [-1.94777020e+00,  6.89127162e-01, -1.08699687e-01],\n",
       "       [-2.03850174e+00,  1.77186264e-01, -5.72380161e-02],\n",
       "       [ 7.58873584e-01, -9.51455310e-02,  1.58733513e+00],\n",
       "       [-1.46804674e+00, -2.04839847e+00,  2.85781967e+00],\n",
       "       [-2.10471843e+00,  2.75449768e-01, -8.16648938e-02],\n",
       "       [-2.07950415e+00,  1.72550648e-01, -3.22164042e-02],\n",
       "       [-2.13864411e+00,  2.53197523e-01, -1.73581844e-01],\n",
       "       [-2.25266555e+00,  2.45720348e-01,  5.88807187e-02],\n",
       "       [ 4.80678168e-01,  3.32337330e-01,  1.69012285e+00],\n",
       "       [-3.88958079e-01, -1.17207185e+00,  4.02389935e-01],\n",
       "       [-2.26702502e+00,  2.44847291e-01,  4.57100427e-02],\n",
       "       [ 5.21625865e-01, -1.11726787e+00, -1.48291761e+00],\n",
       "       [-1.33693614e+00,  1.96932842e-01,  1.49999905e-01],\n",
       "       [-1.51051733e+00,  1.51059762e-01,  2.65905345e-01],\n",
       "       [-1.98840603e+00,  1.65885428e-01, -4.59209287e-02],\n",
       "       [-2.31907630e+00,  2.29633827e-01, -5.05100173e-02],\n",
       "       [-1.70408231e+00, -4.26097795e-01,  5.31870656e-01],\n",
       "       [-4.07648008e-01, -7.42681262e-02,  1.30388784e+00],\n",
       "       [-2.63815512e-01, -1.47566940e-01,  3.20936936e-01],\n",
       "       [-2.26311748e+00,  2.57035507e-01, -3.89308430e-02],\n",
       "       [-3.79281781e-01, -9.28586230e-01,  1.91316864e-01],\n",
       "       [-2.19468979e+00,  2.49818735e-01,  3.52606864e-02],\n",
       "       [ 3.00217404e+00,  7.44246237e-02,  1.84788109e+00],\n",
       "       [-2.13193884e+00,  2.10327314e-01, -7.19361916e-02],\n",
       "       [-1.59566128e+00, -1.19778103e+00,  1.66235231e+00],\n",
       "       [-1.88876698e+00,  1.04982700e-01, -5.24641960e-02],\n",
       "       [-5.41404550e-02, -5.47320109e-01,  3.83110791e-01],\n",
       "       [-2.27149568e+00,  2.93748384e-01,  7.96226087e-02],\n",
       "       [-2.00953346e+00,  2.39028296e-01, -6.56080984e-02],\n",
       "       [-2.06355208e+00,  2.73352390e-01, -3.00248896e-02],\n",
       "       [ 5.57492628e-01, -1.45801249e+00,  2.75400824e-01],\n",
       "       [-1.50911523e+00, -2.42617591e-01, -5.24619010e-02],\n",
       "       [-1.59694037e+00,  2.45640234e-01, -8.97254202e-02],\n",
       "       [-2.15651377e+00,  1.28864775e-01,  1.39558066e-02],\n",
       "       [-1.42791588e+00, -1.03472601e+00, -1.05729195e+00],\n",
       "       [-1.61163370e+00,  3.91299326e-01, -2.42479614e-01],\n",
       "       [-2.33288182e+00,  1.98642707e-01,  1.42525029e-02],\n",
       "       [-2.25721320e+00,  1.04401808e-01,  7.53096859e-02],\n",
       "       [-2.33830462e+00,  2.21987788e-01, -2.43109918e-02],\n",
       "       [-1.44674762e+00,  5.20499455e-01, -5.75456978e-01],\n",
       "       [-2.13548718e+00,  2.33738098e-01, -5.26047058e-02],\n",
       "       [-2.24261604e+00,  3.17102517e-01, -1.35425939e-01],\n",
       "       [-2.09840672e+00,  7.37798067e-02, -1.00496565e-02],\n",
       "       [-2.32164444e+00, -1.35754841e-01,  1.76074290e-01],\n",
       "       [-2.30606517e+00,  1.96332389e-01, -1.00323190e-02],\n",
       "       [-1.78168224e+00, -3.43887286e-01, -1.63070751e-01],\n",
       "       [-2.41719160e+00,  2.36764829e-01,  4.71782678e-02],\n",
       "       [-1.27658896e+00, -4.80589240e-01,  1.60465162e-02],\n",
       "       [-2.27582904e+00,  2.32026711e-01, -8.61736864e-02],\n",
       "       [-2.40535565e+00,  2.67978306e-01, -1.08197292e-01],\n",
       "       [-2.36076366e+00,  2.81802630e-01, -1.87736757e-01],\n",
       "       [-2.44286246e+00,  1.96535763e-01,  7.94735649e-02],\n",
       "       [ 9.54195998e-02,  6.38585615e-01,  2.13273385e-01],\n",
       "       [-2.59579780e+00,  8.40626267e-02, -7.74128218e-02],\n",
       "       [-2.52588407e+00,  1.99661167e-01,  2.19522532e-02],\n",
       "       [-2.57287205e+00,  2.36169383e-01, -9.81162426e-02],\n",
       "       [-2.57335504e-01, -2.64393554e-01,  1.45748560e-01],\n",
       "       [-1.83910489e+00, -3.66133054e-01, -5.22410448e-01],\n",
       "       [-2.49490746e+00,  2.55298988e-01, -8.05456732e-03],\n",
       "       [-1.52428344e+00, -2.21577860e-02, -2.57329932e-01],\n",
       "       [-1.29025038e+00, -3.86693313e-01, -3.03966380e-01],\n",
       "       [ 1.79144315e+00,  1.57035543e+00, -2.38642385e+00],\n",
       "       [-2.26531203e+00,  9.50050992e-02,  1.19477813e-02],\n",
       "       [-2.40205990e+00,  1.94325315e-01, -4.57548758e-03],\n",
       "       [-1.81728260e+00,  1.81953088e-01, -2.46924845e-01],\n",
       "       [-2.26949633e+00, -1.13798010e-01, -6.74058423e-02],\n",
       "       [-1.10194904e+00,  1.96995138e+00,  1.08803367e+00],\n",
       "       [-2.20670923e+00,  2.70989237e-01, -1.35674326e-01],\n",
       "       [ 4.83832498e-01, -1.35656493e+00,  6.39741086e-01],\n",
       "       [-2.09238831e+00,  4.86348187e-02,  9.88169607e-03],\n",
       "       [-2.50777955e+00,  2.53251324e-01, -1.64117506e-01],\n",
       "       [-2.63467239e+00,  2.19086162e-01, -2.79771648e-02],\n",
       "       [-2.65894373e+00,  2.08082808e-01,  2.18762911e-02],\n",
       "       [-2.56115013e+00,  1.54452509e-01, -5.45015242e-02],\n",
       "       [-2.59801474e+00,  2.01076125e-01, -1.35507275e-02],\n",
       "       [-2.60732825e+00,  3.20012219e-01, -2.92287504e-02],\n",
       "       [-2.61880161e+00,  1.95709949e-01,  6.45047317e-02],\n",
       "       [-2.73388972e+00,  2.33816609e-01, -8.46146660e-02],\n",
       "       [-1.53080404e+00, -1.27671946e+00,  8.63527349e-01],\n",
       "       [-2.64620577e+00,  2.80013102e-01,  4.47699438e-02],\n",
       "       [-2.68448436e+00,  2.41705079e-01,  6.43915621e-02],\n",
       "       [-1.63488147e+00,  1.29148649e-02,  8.94304507e-02],\n",
       "       [-2.30727634e+00,  8.65261281e-01,  1.20597925e-01],\n",
       "       [-2.67330608e+00,  1.48813626e-01, -3.86616611e-02],\n",
       "       [-2.80667072e+00,  1.15714089e-01, -8.32731255e-02],\n",
       "       [-2.75085669e+00,  2.93339815e-01, -8.78301165e-02],\n",
       "       [-2.65218446e+00,  2.33637962e-01, -3.35032012e-02],\n",
       "       [-2.36784444e+00,  1.36014188e-01, -4.23661097e-02],\n",
       "       [-2.43757119e+00,  1.74174350e-01,  2.61255250e-02],\n",
       "       [-2.47548909e+00,  3.08576016e-01,  8.41350033e-02],\n",
       "       [-2.70985670e+00,  1.81612591e-01,  8.76362337e-02],\n",
       "       [-2.72271253e+00,  2.31408107e-01,  2.19918499e-02],\n",
       "       [-2.48765685e+00,  2.03308744e-01, -6.35665243e-02],\n",
       "       [-1.20224609e+00,  4.11866264e-01,  1.54358294e-01],\n",
       "       [-2.53419776e+00,  6.80800167e-01,  2.69463022e-01],\n",
       "       [-2.51899310e+00,  2.36801412e-01, -3.43743024e-02],\n",
       "       [-2.50426514e+00,  2.13696307e-01, -6.04593050e-02],\n",
       "       [-2.69713044e+00,  1.94954158e-01,  1.62293988e-02],\n",
       "       [-1.19687303e+00,  6.57810525e-01,  8.37687233e-02],\n",
       "       [-2.89456507e+00,  3.07843531e-01,  1.89960326e-02],\n",
       "       [-2.41540770e+00,  2.80582506e-01, -4.16064271e-02],\n",
       "       [-2.28195631e+00,  4.05046373e-01, -2.77433762e-01],\n",
       "       [-2.63586399e+00,  1.16459435e-01,  7.15513926e-02],\n",
       "       [-2.33056171e+00,  2.51368301e-01, -1.47818785e-01],\n",
       "       [-2.32321171e+00,  1.44600558e-01,  1.20445804e-03],\n",
       "       [-2.37028214e+00, -3.83457226e-01, -1.16388130e-01],\n",
       "       [-2.70780398e+00,  1.87137414e-01, -3.41257211e-03],\n",
       "       [-2.70175365e+00,  2.33088353e-01, -1.51291017e-02],\n",
       "       [-2.67535347e+00,  2.39421395e-01, -5.35780211e-02],\n",
       "       [-2.67315036e+00,  8.00830751e-02, -4.82657254e-02],\n",
       "       [-2.30101395e+00, -8.73466517e-01, -5.45918196e-02]])"
      ]
     },
     "execution_count": 46,
     "metadata": {},
     "output_type": "execute_result"
    }
   ],
   "source": [
    "# Using PCA to reduce dimension to three principal components.\n",
    "# Initialize PCA model\n",
    "pca = PCA(n_components=3)\n",
    "covid_pca = pca.fit_transform(covid_scaled)\n",
    "covid_pca"
   ]
  },
  {
   "cell_type": "code",
   "execution_count": 47,
   "metadata": {},
   "outputs": [
    {
     "data": {
      "text/html": [
       "<div>\n",
       "<style scoped>\n",
       "    .dataframe tbody tr th:only-of-type {\n",
       "        vertical-align: middle;\n",
       "    }\n",
       "\n",
       "    .dataframe tbody tr th {\n",
       "        vertical-align: top;\n",
       "    }\n",
       "\n",
       "    .dataframe thead th {\n",
       "        text-align: right;\n",
       "    }\n",
       "</style>\n",
       "<table border=\"1\" class=\"dataframe\">\n",
       "  <thead>\n",
       "    <tr style=\"text-align: right;\">\n",
       "      <th></th>\n",
       "      <th>PC 1</th>\n",
       "      <th>PC 2</th>\n",
       "      <th>PC 3</th>\n",
       "    </tr>\n",
       "    <tr>\n",
       "      <th>Country</th>\n",
       "      <th></th>\n",
       "      <th></th>\n",
       "      <th></th>\n",
       "    </tr>\n",
       "  </thead>\n",
       "  <tbody>\n",
       "    <tr>\n",
       "      <th>USA</th>\n",
       "      <td>4.429241</td>\n",
       "      <td>4.986491</td>\n",
       "      <td>0.247341</td>\n",
       "    </tr>\n",
       "    <tr>\n",
       "      <th>India</th>\n",
       "      <td>0.508088</td>\n",
       "      <td>3.091979</td>\n",
       "      <td>-0.310062</td>\n",
       "    </tr>\n",
       "    <tr>\n",
       "      <th>Brazil</th>\n",
       "      <td>3.268600</td>\n",
       "      <td>5.215344</td>\n",
       "      <td>-0.036125</td>\n",
       "    </tr>\n",
       "    <tr>\n",
       "      <th>France</th>\n",
       "      <td>4.829737</td>\n",
       "      <td>0.871061</td>\n",
       "      <td>-0.331556</td>\n",
       "    </tr>\n",
       "    <tr>\n",
       "      <th>UK</th>\n",
       "      <td>5.861155</td>\n",
       "      <td>-12.558569</td>\n",
       "      <td>0.071164</td>\n",
       "    </tr>\n",
       "    <tr>\n",
       "      <th>Germany</th>\n",
       "      <td>-0.791408</td>\n",
       "      <td>0.545945</td>\n",
       "      <td>1.302136</td>\n",
       "    </tr>\n",
       "    <tr>\n",
       "      <th>Russia</th>\n",
       "      <td>2.378461</td>\n",
       "      <td>13.764643</td>\n",
       "      <td>-11.250545</td>\n",
       "    </tr>\n",
       "    <tr>\n",
       "      <th>Turkey</th>\n",
       "      <td>5.585401</td>\n",
       "      <td>2.102936</td>\n",
       "      <td>-3.416482</td>\n",
       "    </tr>\n",
       "    <tr>\n",
       "      <th>Italy</th>\n",
       "      <td>3.529920</td>\n",
       "      <td>-5.296396</td>\n",
       "      <td>-2.576539</td>\n",
       "    </tr>\n",
       "    <tr>\n",
       "      <th>Spain</th>\n",
       "      <td>1.689655</td>\n",
       "      <td>4.139243</td>\n",
       "      <td>1.050404</td>\n",
       "    </tr>\n",
       "  </tbody>\n",
       "</table>\n",
       "</div>"
      ],
      "text/plain": [
       "             PC 1       PC 2       PC 3\n",
       "Country                                \n",
       "USA      4.429241   4.986491   0.247341\n",
       "India    0.508088   3.091979  -0.310062\n",
       "Brazil   3.268600   5.215344  -0.036125\n",
       "France   4.829737   0.871061  -0.331556\n",
       "UK       5.861155 -12.558569   0.071164\n",
       "Germany -0.791408   0.545945   1.302136\n",
       "Russia   2.378461  13.764643 -11.250545\n",
       "Turkey   5.585401   2.102936  -3.416482\n",
       "Italy    3.529920  -5.296396  -2.576539\n",
       "Spain    1.689655   4.139243   1.050404"
      ]
     },
     "execution_count": 47,
     "metadata": {},
     "output_type": "execute_result"
    }
   ],
   "source": [
    "# Create a DataFrame with the three principal components.\n",
    "pcs_df = pd.DataFrame(\n",
    "    data=covid_pca, columns=['PC 1','PC 2','PC 3'],index=covid_data_df.index)\n",
    "pcs_df.head(10)"
   ]
  },
  {
   "cell_type": "code",
   "execution_count": 48,
   "metadata": {},
   "outputs": [
    {
     "name": "stderr",
     "output_type": "stream",
     "text": [
      "C:\\Users\\Charles\\anaconda\\envs\\mlenv\\lib\\site-packages\\sklearn\\cluster\\_kmeans.py:1036: UserWarning:\n",
      "\n",
      "KMeans is known to have a memory leak on Windows with MKL, when there are less chunks than available threads. You can avoid it by setting the environment variable OMP_NUM_THREADS=1.\n",
      "\n"
     ]
    },
    {
     "data": {},
     "metadata": {},
     "output_type": "display_data"
    },
    {
     "data": {
      "application/vnd.holoviews_exec.v0+json": "",
      "text/html": [
       "<div id='3817'>\n",
       "\n",
       "\n",
       "\n",
       "\n",
       "\n",
       "  <div class=\"bk-root\" id=\"bc61c5d9-35a1-4782-a902-66af2f9d98eb\" data-root-id=\"3817\"></div>\n",
       "</div>\n",
       "<script type=\"application/javascript\">(function(root) {\n",
       "  function embed_document(root) {\n",
       "    var docs_json = {\"4975c552-daa0-4c3c-9a1f-05c1b0e69d0b\":{\"defs\":[{\"extends\":null,\"module\":null,\"name\":\"ReactiveHTML1\",\"overrides\":[],\"properties\":[]},{\"extends\":null,\"module\":null,\"name\":\"FlexBox1\",\"overrides\":[],\"properties\":[{\"default\":\"flex-start\",\"kind\":null,\"name\":\"align_content\"},{\"default\":\"flex-start\",\"kind\":null,\"name\":\"align_items\"},{\"default\":\"row\",\"kind\":null,\"name\":\"flex_direction\"},{\"default\":\"wrap\",\"kind\":null,\"name\":\"flex_wrap\"},{\"default\":\"flex-start\",\"kind\":null,\"name\":\"justify_content\"}]},{\"extends\":null,\"module\":null,\"name\":\"TemplateActions1\",\"overrides\":[],\"properties\":[{\"default\":0,\"kind\":null,\"name\":\"open_modal\"},{\"default\":0,\"kind\":null,\"name\":\"close_modal\"}]},{\"extends\":null,\"module\":null,\"name\":\"MaterialTemplateActions1\",\"overrides\":[],\"properties\":[{\"default\":0,\"kind\":null,\"name\":\"open_modal\"},{\"default\":0,\"kind\":null,\"name\":\"close_modal\"}]}],\"roots\":{\"references\":[{\"attributes\":{\"ticks\":[1,2,3,4,5,6,7,8,9,10]},\"id\":\"3861\",\"type\":\"FixedTicker\"},{\"attributes\":{\"axis_label\":\"k\",\"coordinates\":null,\"formatter\":{\"id\":\"3863\"},\"group\":null,\"major_label_policy\":{\"id\":\"3864\"},\"ticker\":{\"id\":\"3861\"}},\"id\":\"3831\",\"type\":\"LinearAxis\"},{\"attributes\":{\"axis_label\":\"inertia\",\"coordinates\":null,\"formatter\":{\"id\":\"3868\"},\"group\":null,\"major_label_policy\":{\"id\":\"3869\"},\"ticker\":{\"id\":\"3836\"}},\"id\":\"3835\",\"type\":\"LinearAxis\"},{\"attributes\":{},\"id\":\"3839\",\"type\":\"SaveTool\"},{\"attributes\":{\"children\":[{\"id\":\"3818\"},{\"id\":\"3822\"},{\"id\":\"3888\"}],\"margin\":[0,0,0,0],\"name\":\"Row07775\",\"tags\":[\"embedded\"]},\"id\":\"3817\",\"type\":\"Row\"},{\"attributes\":{},\"id\":\"3836\",\"type\":\"BasicTicker\"},{\"attributes\":{\"tools\":[{\"id\":\"3821\"},{\"id\":\"3839\"},{\"id\":\"3840\"},{\"id\":\"3841\"},{\"id\":\"3842\"},{\"id\":\"3843\"}]},\"id\":\"3845\",\"type\":\"Toolbar\"},{\"attributes\":{},\"id\":\"3829\",\"type\":\"LinearScale\"},{\"attributes\":{\"end\":10.0,\"reset_end\":10.0,\"reset_start\":1.0,\"start\":1.0,\"tags\":[[[\"k\",\"k\",null]]]},\"id\":\"3819\",\"type\":\"Range1d\"},{\"attributes\":{},\"id\":\"3840\",\"type\":\"PanTool\"},{\"attributes\":{},\"id\":\"3841\",\"type\":\"WheelZoomTool\"},{\"attributes\":{\"below\":[{\"id\":\"3831\"}],\"center\":[{\"id\":\"3834\"},{\"id\":\"3838\"}],\"height\":300,\"left\":[{\"id\":\"3835\"}],\"margin\":[5,5,5,5],\"min_border_bottom\":10,\"min_border_left\":10,\"min_border_right\":10,\"min_border_top\":10,\"renderers\":[{\"id\":\"3858\"}],\"sizing_mode\":\"fixed\",\"title\":{\"id\":\"3823\"},\"toolbar\":{\"id\":\"3845\"},\"width\":700,\"x_range\":{\"id\":\"3819\"},\"x_scale\":{\"id\":\"3827\"},\"y_range\":{\"id\":\"3820\"},\"y_scale\":{\"id\":\"3829\"}},\"id\":\"3822\",\"subtype\":\"Figure\",\"type\":\"Plot\"},{\"attributes\":{\"axis\":{\"id\":\"3835\"},\"coordinates\":null,\"dimension\":1,\"grid_line_color\":null,\"group\":null,\"ticker\":null},\"id\":\"3838\",\"type\":\"Grid\"},{\"attributes\":{\"margin\":[5,5,5,5],\"name\":\"HSpacer07780\",\"sizing_mode\":\"stretch_width\"},\"id\":\"3888\",\"type\":\"Spacer\"},{\"attributes\":{\"end\":5269.286322624443,\"reset_end\":5269.286322624443,\"reset_start\":207.4599426518506,\"start\":207.4599426518506,\"tags\":[[[\"inertia\",\"inertia\",null]]]},\"id\":\"3820\",\"type\":\"Range1d\"},{\"attributes\":{},\"id\":\"3868\",\"type\":\"BasicTickFormatter\"},{\"attributes\":{},\"id\":\"3843\",\"type\":\"ResetTool\"},{\"attributes\":{\"line_color\":\"#30a2da\",\"line_width\":2,\"x\":{\"field\":\"k\"},\"y\":{\"field\":\"inertia\"}},\"id\":\"3855\",\"type\":\"Line\"},{\"attributes\":{},\"id\":\"3827\",\"type\":\"LinearScale\"},{\"attributes\":{\"callback\":null,\"renderers\":[{\"id\":\"3858\"}],\"tags\":[\"hv_created\"],\"tooltips\":[[\"k\",\"@{k}\"],[\"inertia\",\"@{inertia}\"]]},\"id\":\"3821\",\"type\":\"HoverTool\"},{\"attributes\":{\"line_color\":\"#30a2da\",\"line_width\":2,\"x\":{\"field\":\"k\"},\"y\":{\"field\":\"inertia\"}},\"id\":\"3860\",\"type\":\"Line\"},{\"attributes\":{\"margin\":[5,5,5,5],\"name\":\"HSpacer07779\",\"sizing_mode\":\"stretch_width\"},\"id\":\"3818\",\"type\":\"Spacer\"},{\"attributes\":{},\"id\":\"3853\",\"type\":\"Selection\"},{\"attributes\":{\"line_alpha\":0.1,\"line_color\":\"#30a2da\",\"line_width\":2,\"x\":{\"field\":\"k\"},\"y\":{\"field\":\"inertia\"}},\"id\":\"3856\",\"type\":\"Line\"},{\"attributes\":{\"bottom_units\":\"screen\",\"coordinates\":null,\"fill_alpha\":0.5,\"fill_color\":\"lightgrey\",\"group\":null,\"left_units\":\"screen\",\"level\":\"overlay\",\"line_alpha\":1.0,\"line_color\":\"black\",\"line_dash\":[4,4],\"line_width\":2,\"right_units\":\"screen\",\"syncable\":false,\"top_units\":\"screen\"},\"id\":\"3844\",\"type\":\"BoxAnnotation\"},{\"attributes\":{},\"id\":\"3876\",\"type\":\"UnionRenderers\"},{\"attributes\":{},\"id\":\"3869\",\"type\":\"AllLabels\"},{\"attributes\":{\"overlay\":{\"id\":\"3844\"}},\"id\":\"3842\",\"type\":\"BoxZoomTool\"},{\"attributes\":{\"source\":{\"id\":\"3852\"}},\"id\":\"3859\",\"type\":\"CDSView\"},{\"attributes\":{},\"id\":\"3864\",\"type\":\"AllLabels\"},{\"attributes\":{\"line_alpha\":0.2,\"line_color\":\"#30a2da\",\"line_width\":2,\"x\":{\"field\":\"k\"},\"y\":{\"field\":\"inertia\"}},\"id\":\"3857\",\"type\":\"Line\"},{\"attributes\":{},\"id\":\"3863\",\"type\":\"BasicTickFormatter\"},{\"attributes\":{\"data\":{\"inertia\":{\"__ndarray__\":\"DpNNq3fvskDdfLI7qhWrQMAYmoZP96NAimEoNHtunkCACD9daB2ZQBudOU7qYZNAwZDoh9ETj0C99N8hWaKKQJfHN+iEOYdAG0aB/zqqg0A=\",\"dtype\":\"float64\",\"order\":\"little\",\"shape\":[10]},\"k\":[1,2,3,4,5,6,7,8,9,10]},\"selected\":{\"id\":\"3853\"},\"selection_policy\":{\"id\":\"3876\"}},\"id\":\"3852\",\"type\":\"ColumnDataSource\"},{\"attributes\":{\"coordinates\":null,\"data_source\":{\"id\":\"3852\"},\"glyph\":{\"id\":\"3855\"},\"group\":null,\"hover_glyph\":null,\"muted_glyph\":{\"id\":\"3857\"},\"nonselection_glyph\":{\"id\":\"3856\"},\"selection_glyph\":{\"id\":\"3860\"},\"view\":{\"id\":\"3859\"}},\"id\":\"3858\",\"type\":\"GlyphRenderer\"},{\"attributes\":{\"coordinates\":null,\"group\":null,\"text\":\"Elbow Curve\",\"text_color\":\"black\",\"text_font_size\":\"12pt\"},\"id\":\"3823\",\"type\":\"Title\"},{\"attributes\":{\"axis\":{\"id\":\"3831\"},\"coordinates\":null,\"grid_line_color\":null,\"group\":null,\"ticker\":null},\"id\":\"3834\",\"type\":\"Grid\"}],\"root_ids\":[\"3817\"]},\"title\":\"Bokeh Application\",\"version\":\"2.4.2\"}};\n",
       "    var render_items = [{\"docid\":\"4975c552-daa0-4c3c-9a1f-05c1b0e69d0b\",\"root_ids\":[\"3817\"],\"roots\":{\"3817\":\"bc61c5d9-35a1-4782-a902-66af2f9d98eb\"}}];\n",
       "    root.Bokeh.embed.embed_items_notebook(docs_json, render_items);\n",
       "  }\n",
       "  if (root.Bokeh !== undefined && root.Bokeh.Panel !== undefined) {\n",
       "    embed_document(root);\n",
       "  } else {\n",
       "    var attempts = 0;\n",
       "    var timer = setInterval(function(root) {\n",
       "      if (root.Bokeh !== undefined && root.Bokeh.Panel !== undefined) {\n",
       "        clearInterval(timer);\n",
       "        embed_document(root);\n",
       "      } else if (document.readyState == \"complete\") {\n",
       "        attempts++;\n",
       "        if (attempts > 200) {\n",
       "          clearInterval(timer);\n",
       "          console.log(\"Bokeh: ERROR: Unable to run BokehJS code because BokehJS library is missing\");\n",
       "        }\n",
       "      }\n",
       "    }, 25, root)\n",
       "  }\n",
       "})(window);</script>"
      ],
      "text/plain": [
       ":Curve   [k]   (inertia)"
      ]
     },
     "execution_count": 48,
     "metadata": {
      "application/vnd.holoviews_exec.v0+json": {
       "id": "3817"
      }
     },
     "output_type": "execute_result"
    }
   ],
   "source": [
    "inertia = []\n",
    "k = list(range(1, 11))\n",
    "\n",
    "# Calculate the inertia for the range of K values\n",
    "for i in k:\n",
    "    km = KMeans(n_clusters=i, random_state=0)\n",
    "    km.fit(pcs_df)\n",
    "    inertia.append(km.inertia_)\n",
    "\n",
    "# Create the elbow curve\n",
    "elbow_data = {\"k\": k, \"inertia\": inertia}\n",
    "df_elbow = pd.DataFrame(elbow_data).hvplot.line(x=\"k\", y=\"inertia\", xticks=k, title=\"Elbow Curve\")\n",
    "df_elbow"
   ]
  },
  {
   "cell_type": "markdown",
   "metadata": {},
   "source": [
    "## 6 Clusters"
   ]
  },
  {
   "cell_type": "code",
   "execution_count": 49,
   "metadata": {},
   "outputs": [
    {
     "data": {
      "text/plain": [
       "KMeans(n_clusters=6, random_state=0)"
      ]
     },
     "execution_count": 49,
     "metadata": {},
     "output_type": "execute_result"
    }
   ],
   "source": [
    "#INITIALIZING CLUSTERING TO 6 AS SHOWN IN THE ELBOW CURVE\n",
    "model = KMeans(n_clusters=6, random_state=0)\n",
    "model"
   ]
  },
  {
   "cell_type": "code",
   "execution_count": 50,
   "metadata": {},
   "outputs": [
    {
     "data": {
      "text/plain": [
       "KMeans(n_clusters=6, random_state=0)"
      ]
     },
     "execution_count": 50,
     "metadata": {},
     "output_type": "execute_result"
    }
   ],
   "source": [
    "# Fitting model\n",
    "model.fit(covid_data_df)"
   ]
  },
  {
   "cell_type": "code",
   "execution_count": 51,
   "metadata": {},
   "outputs": [
    {
     "name": "stdout",
     "output_type": "stream",
     "text": [
      "[1 0 3 4 4 2 3 5 4 3 0 0 2 4 5 3 0 5 3 5 0 3 5 0 0 5 0 0 3 0 5 0 5 3 3 5 0\n",
      " 5 0 0 0 0 0 0 5 0 0 5 0 0 0 5 0 0 0 0 0 0 0 0 0 0 0 0 0 0 3 0 0 0 0 0 0 0\n",
      " 0 0 0 0 0 5 0 0 0 0 0 0 0 5 0 5 5 0 5 0 0 0 0 0 0 0 0 0 0 0 0 0 0 0 0 0 0\n",
      " 5 0 0 0 0 5 0 0 5 0 0 0 0 0 0 0 0 0 0 0 0 0 0 0 0 0 0 0 0 0 0 0 0 0 0 0 0\n",
      " 0 0 0 0 0 0 0 0 0 0 0 0 0 0 0 0 0 0 0 0 0 0 0 0 0 0 0 0 0 0 0 0 0 0 0 0 0\n",
      " 0 0 0 0 0 0 0 0 0 0 0 0 0 0 0 0 0 0 0 0 0 0 0 0 0 0 0 0 0 0 0 0 0 0 0]\n"
     ]
    }
   ],
   "source": [
    "# Get the predictions\n",
    "predictions = model.predict(covid_data_df)\n",
    "print(predictions)"
   ]
  },
  {
   "cell_type": "code",
   "execution_count": 52,
   "metadata": {},
   "outputs": [
    {
     "data": {
      "text/html": [
       "<div>\n",
       "<style scoped>\n",
       "    .dataframe tbody tr th:only-of-type {\n",
       "        vertical-align: middle;\n",
       "    }\n",
       "\n",
       "    .dataframe tbody tr th {\n",
       "        vertical-align: top;\n",
       "    }\n",
       "\n",
       "    .dataframe thead th {\n",
       "        text-align: right;\n",
       "    }\n",
       "</style>\n",
       "<table border=\"1\" class=\"dataframe\">\n",
       "  <thead>\n",
       "    <tr style=\"text-align: right;\">\n",
       "      <th></th>\n",
       "      <th>Unnamed: 0</th>\n",
       "      <th>Infection_Risk</th>\n",
       "      <th>Case_Fatality_Rate</th>\n",
       "      <th>Recovery_Proporation</th>\n",
       "      <th>NewCases</th>\n",
       "      <th>NewDeaths</th>\n",
       "      <th>NewRecovered</th>\n",
       "      <th>ActiveCases</th>\n",
       "      <th>Serious_Critical</th>\n",
       "      <th>class</th>\n",
       "    </tr>\n",
       "    <tr>\n",
       "      <th>Country</th>\n",
       "      <th></th>\n",
       "      <th></th>\n",
       "      <th></th>\n",
       "      <th></th>\n",
       "      <th></th>\n",
       "      <th></th>\n",
       "      <th></th>\n",
       "      <th></th>\n",
       "      <th></th>\n",
       "      <th></th>\n",
       "    </tr>\n",
       "  </thead>\n",
       "  <tbody>\n",
       "    <tr>\n",
       "      <th>USA</th>\n",
       "      <td>2</td>\n",
       "      <td>24.40</td>\n",
       "      <td>1.23</td>\n",
       "      <td>78.38</td>\n",
       "      <td>11781</td>\n",
       "      <td>354</td>\n",
       "      <td>115862</td>\n",
       "      <td>16634853</td>\n",
       "      <td>2621</td>\n",
       "      <td>1</td>\n",
       "    </tr>\n",
       "    <tr>\n",
       "      <th>India</th>\n",
       "      <td>3</td>\n",
       "      <td>3.07</td>\n",
       "      <td>1.20</td>\n",
       "      <td>98.75</td>\n",
       "      <td>0</td>\n",
       "      <td>0</td>\n",
       "      <td>0</td>\n",
       "      <td>21500</td>\n",
       "      <td>8944</td>\n",
       "      <td>0</td>\n",
       "    </tr>\n",
       "    <tr>\n",
       "      <th>Brazil</th>\n",
       "      <td>4</td>\n",
       "      <td>13.85</td>\n",
       "      <td>2.21</td>\n",
       "      <td>95.32</td>\n",
       "      <td>34576</td>\n",
       "      <td>199</td>\n",
       "      <td>0</td>\n",
       "      <td>736234</td>\n",
       "      <td>8318</td>\n",
       "      <td>3</td>\n",
       "    </tr>\n",
       "    <tr>\n",
       "      <th>France</th>\n",
       "      <td>5</td>\n",
       "      <td>37.82</td>\n",
       "      <td>0.57</td>\n",
       "      <td>92.29</td>\n",
       "      <td>143571</td>\n",
       "      <td>121</td>\n",
       "      <td>53554</td>\n",
       "      <td>1767763</td>\n",
       "      <td>1564</td>\n",
       "      <td>4</td>\n",
       "    </tr>\n",
       "    <tr>\n",
       "      <th>UK</th>\n",
       "      <td>6</td>\n",
       "      <td>30.21</td>\n",
       "      <td>0.79</td>\n",
       "      <td>90.78</td>\n",
       "      <td>39925</td>\n",
       "      <td>172</td>\n",
       "      <td>24952</td>\n",
       "      <td>1743492</td>\n",
       "      <td>302</td>\n",
       "      <td>4</td>\n",
       "    </tr>\n",
       "  </tbody>\n",
       "</table>\n",
       "</div>"
      ],
      "text/plain": [
       "         Unnamed: 0  Infection_Risk  Case_Fatality_Rate  Recovery_Proporation  \\\n",
       "Country                                                                         \n",
       "USA               2           24.40                1.23                 78.38   \n",
       "India             3            3.07                1.20                 98.75   \n",
       "Brazil            4           13.85                2.21                 95.32   \n",
       "France            5           37.82                0.57                 92.29   \n",
       "UK                6           30.21                0.79                 90.78   \n",
       "\n",
       "         NewCases  NewDeaths  NewRecovered  ActiveCases  Serious_Critical  \\\n",
       "Country                                                                     \n",
       "USA         11781        354        115862     16634853              2621   \n",
       "India           0          0             0        21500              8944   \n",
       "Brazil      34576        199             0       736234              8318   \n",
       "France     143571        121         53554      1767763              1564   \n",
       "UK          39925        172         24952      1743492               302   \n",
       "\n",
       "         class  \n",
       "Country         \n",
       "USA          1  \n",
       "India        0  \n",
       "Brazil       3  \n",
       "France       4  \n",
       "UK           4  "
      ]
     },
     "execution_count": 52,
     "metadata": {},
     "output_type": "execute_result"
    }
   ],
   "source": [
    "# Add a new class column to the covid_data\n",
    "covid_data_df[\"class\"] = model.labels_\n",
    "covid_data_df.head()"
   ]
  },
  {
   "cell_type": "code",
   "execution_count": 53,
   "metadata": {},
   "outputs": [],
   "source": [
    "cluster6_mar_df = covid_data_df"
   ]
  },
  {
   "cell_type": "code",
   "execution_count": 54,
   "metadata": {},
   "outputs": [],
   "source": [
    "import boto3\n",
    "from io import StringIO\n",
    "from botocore.client import Config\n",
    "\n",
    "##load transformed dataframe to AWS S3 Bucket\n",
    "ACCESS_KEY_ID =''\n",
    "ACCESS_SECRET_KEY =''\n",
    "BUCKET_NAME = 'mltos3'\n",
    "\n",
    "\n",
    "def upload_df(data,i):\n",
    "    s3 = boto3.client('s3', aws_access_key_id=ACCESS_KEY_ID, aws_secret_access_key=ACCESS_SECRET_KEY)\n",
    "    csv_buf=StringIO()\n",
    "    data.to_csv(csv_buf, header=True, index=False)\n",
    "    csv_buf.seek(0)\n",
    "    s3.put_object(Bucket=BUCKET_NAME, Body=csv_buf.getvalue(), Key='datasets/'+i)\n",
    "\n",
    "upload_df(cluster6_mar_df,'cluster6_mar.csv')"
   ]
  },
  {
   "cell_type": "code",
   "execution_count": 55,
   "metadata": {},
   "outputs": [],
   "source": [
    "import plotly.express as px\n",
    "import hvplot.pandas"
   ]
  },
  {
   "cell_type": "code",
   "execution_count": 56,
   "metadata": {},
   "outputs": [
    {
     "data": {},
     "metadata": {},
     "output_type": "display_data"
    },
    {
     "data": {
      "application/vnd.holoviews_exec.v0+json": "",
      "text/html": [
       "<div id='3935'>\n",
       "\n",
       "\n",
       "\n",
       "\n",
       "\n",
       "  <div class=\"bk-root\" id=\"fcb7c2c2-1bd9-467c-818e-c901ad347527\" data-root-id=\"3935\"></div>\n",
       "</div>\n",
       "<script type=\"application/javascript\">(function(root) {\n",
       "  function embed_document(root) {\n",
       "    var docs_json = {\"d3b83eb9-62d8-485b-9926-3fe489275e66\":{\"defs\":[{\"extends\":null,\"module\":null,\"name\":\"ReactiveHTML1\",\"overrides\":[],\"properties\":[]},{\"extends\":null,\"module\":null,\"name\":\"FlexBox1\",\"overrides\":[],\"properties\":[{\"default\":\"flex-start\",\"kind\":null,\"name\":\"align_content\"},{\"default\":\"flex-start\",\"kind\":null,\"name\":\"align_items\"},{\"default\":\"row\",\"kind\":null,\"name\":\"flex_direction\"},{\"default\":\"wrap\",\"kind\":null,\"name\":\"flex_wrap\"},{\"default\":\"flex-start\",\"kind\":null,\"name\":\"justify_content\"}]},{\"extends\":null,\"module\":null,\"name\":\"TemplateActions1\",\"overrides\":[],\"properties\":[{\"default\":0,\"kind\":null,\"name\":\"open_modal\"},{\"default\":0,\"kind\":null,\"name\":\"close_modal\"}]},{\"extends\":null,\"module\":null,\"name\":\"MaterialTemplateActions1\",\"overrides\":[],\"properties\":[{\"default\":0,\"kind\":null,\"name\":\"open_modal\"},{\"default\":0,\"kind\":null,\"name\":\"close_modal\"}]}],\"roots\":{\"references\":[{\"attributes\":{\"data\":{\"Case_Fatality_Rate\":{\"__ndarray__\":\"PQrXo3A94j9I4XoUrkfpP8P1KFyPwvE/7FG4HoXr0T8=\",\"dtype\":\"float64\",\"order\":\"little\",\"shape\":[4]},\"Infection_Risk\":{\"__ndarray__\":\"KVyPwvXoQkD2KFyPwjU+QNejcD0KlzdAw/UoXI9iRkA=\",\"dtype\":\"float64\",\"order\":\"little\",\"shape\":[4]},\"class\":[4,4,4,4]},\"selected\":{\"id\":\"4075\"},\"selection_policy\":{\"id\":\"4097\"}},\"id\":\"4074\",\"type\":\"ColumnDataSource\"},{\"attributes\":{},\"id\":\"3976\",\"type\":\"BasicTickFormatter\"},{\"attributes\":{},\"id\":\"3963\",\"type\":\"PanTool\"},{\"attributes\":{},\"id\":\"3964\",\"type\":\"WheelZoomTool\"},{\"attributes\":{},\"id\":\"4043\",\"type\":\"UnionRenderers\"},{\"attributes\":{\"fill_alpha\":{\"value\":0.1},\"fill_color\":{\"value\":\"#fc4f30\"},\"hatch_alpha\":{\"value\":0.1},\"hatch_color\":{\"value\":\"#fc4f30\"},\"line_alpha\":{\"value\":0.1},\"line_color\":{\"value\":\"#fc4f30\"},\"size\":{\"value\":5.477225575051661},\"x\":{\"field\":\"Case_Fatality_Rate\"},\"y\":{\"field\":\"Infection_Risk\"}},\"id\":\"4006\",\"type\":\"Scatter\"},{\"attributes\":{},\"id\":\"3962\",\"type\":\"SaveTool\"},{\"attributes\":{\"overlay\":{\"id\":\"3967\"}},\"id\":\"3965\",\"type\":\"BoxZoomTool\"},{\"attributes\":{},\"id\":\"4103\",\"type\":\"Selection\"},{\"attributes\":{},\"id\":\"3966\",\"type\":\"ResetTool\"},{\"attributes\":{\"coordinates\":null,\"data_source\":{\"id\":\"4002\"},\"glyph\":{\"id\":\"4005\"},\"group\":null,\"hover_glyph\":null,\"muted_glyph\":{\"id\":\"4007\"},\"nonselection_glyph\":{\"id\":\"4006\"},\"selection_glyph\":{\"id\":\"4023\"},\"view\":{\"id\":\"4009\"}},\"id\":\"4008\",\"type\":\"GlyphRenderer\"},{\"attributes\":{\"angle\":{\"value\":0.0},\"fill_alpha\":{\"value\":1.0},\"fill_color\":{\"value\":\"#17becf\"},\"hatch_alpha\":{\"value\":1.0},\"hatch_color\":{\"value\":\"#17becf\"},\"hatch_scale\":{\"value\":12.0},\"hatch_weight\":{\"value\":1.0},\"line_alpha\":{\"value\":1.0},\"line_cap\":{\"value\":\"butt\"},\"line_color\":{\"value\":\"#17becf\"},\"line_dash\":{\"value\":[]},\"line_dash_offset\":{\"value\":0},\"line_join\":{\"value\":\"bevel\"},\"line_width\":{\"value\":1},\"marker\":{\"value\":\"circle\"},\"size\":{\"value\":5.477225575051661},\"x\":{\"field\":\"Case_Fatality_Rate\"},\"y\":{\"field\":\"Infection_Risk\"}},\"id\":\"4131\",\"type\":\"Scatter\"},{\"attributes\":{\"bottom_units\":\"screen\",\"coordinates\":null,\"fill_alpha\":0.5,\"fill_color\":\"lightgrey\",\"group\":null,\"left_units\":\"screen\",\"level\":\"overlay\",\"line_alpha\":1.0,\"line_color\":\"black\",\"line_dash\":[4,4],\"line_width\":2,\"right_units\":\"screen\",\"syncable\":false,\"top_units\":\"screen\"},\"id\":\"3967\",\"type\":\"BoxAnnotation\"},{\"attributes\":{\"label\":{\"value\":\"1\"},\"renderers\":[{\"id\":\"4008\"}]},\"id\":\"4022\",\"type\":\"LegendItem\"},{\"attributes\":{\"fill_alpha\":{\"value\":0.1},\"fill_color\":{\"value\":\"#e5ae38\"},\"hatch_alpha\":{\"value\":0.1},\"hatch_color\":{\"value\":\"#e5ae38\"},\"line_alpha\":{\"value\":0.1},\"line_color\":{\"value\":\"#e5ae38\"},\"size\":{\"value\":5.477225575051661},\"x\":{\"field\":\"Case_Fatality_Rate\"},\"y\":{\"field\":\"Infection_Risk\"}},\"id\":\"4028\",\"type\":\"Scatter\"},{\"attributes\":{\"source\":{\"id\":\"4024\"}},\"id\":\"4031\",\"type\":\"CDSView\"},{\"attributes\":{\"fill_alpha\":{\"value\":0.2},\"fill_color\":{\"value\":\"#fc4f30\"},\"hatch_alpha\":{\"value\":0.2},\"hatch_color\":{\"value\":\"#fc4f30\"},\"line_alpha\":{\"value\":0.2},\"line_color\":{\"value\":\"#fc4f30\"},\"size\":{\"value\":5.477225575051661},\"x\":{\"field\":\"Case_Fatality_Rate\"},\"y\":{\"field\":\"Infection_Risk\"}},\"id\":\"4007\",\"type\":\"Scatter\"},{\"attributes\":{},\"id\":\"3996\",\"type\":\"UnionRenderers\"},{\"attributes\":{\"label\":{\"value\":\"0\"},\"renderers\":[{\"id\":\"3987\"}]},\"id\":\"4000\",\"type\":\"LegendItem\"},{\"attributes\":{\"source\":{\"id\":\"4002\"}},\"id\":\"4009\",\"type\":\"CDSView\"},{\"attributes\":{\"fill_color\":{\"value\":\"#17becf\"},\"hatch_color\":{\"value\":\"#17becf\"},\"line_color\":{\"value\":\"#17becf\"},\"size\":{\"value\":5.477225575051661},\"x\":{\"field\":\"Case_Fatality_Rate\"},\"y\":{\"field\":\"Infection_Risk\"}},\"id\":\"4105\",\"type\":\"Scatter\"},{\"attributes\":{\"data\":{\"Case_Fatality_Rate\":{\"__ndarray__\":\"rkfhehSuAUCPwvUoXI8AQHsUrkfheuw/KVyPwvUo3D/hehSuR+H+P+xRuB6F68E/hetRuB6F2z89CtejcD36P5qZmZmZmdk/ZmZmZmZm1j8=\",\"dtype\":\"float64\",\"order\":\"little\",\"shape\":[10]},\"Infection_Risk\":{\"__ndarray__\":\"MzMzMzOzK0DD9Shcj0IoQHsUrkfhejhA16NwPQrXE0DsUbgehWsvQFK4HoXrETBAZmZmZmYmRED2KFyPwrUxQOxRuB6Fa0NAZmZmZmZmLkA=\",\"dtype\":\"float64\",\"order\":\"little\",\"shape\":[10]},\"class\":[3,3,3,3,3,3,3,3,3,3]},\"selected\":{\"id\":\"4049\"},\"selection_policy\":{\"id\":\"4069\"}},\"id\":\"4048\",\"type\":\"ColumnDataSource\"},{\"attributes\":{\"fill_alpha\":{\"value\":0.1},\"fill_color\":{\"value\":\"#30a2da\"},\"hatch_alpha\":{\"value\":0.1},\"hatch_color\":{\"value\":\"#30a2da\"},\"line_alpha\":{\"value\":0.1},\"line_color\":{\"value\":\"#30a2da\"},\"size\":{\"value\":5.477225575051661},\"x\":{\"field\":\"Case_Fatality_Rate\"},\"y\":{\"field\":\"Infection_Risk\"}},\"id\":\"3985\",\"type\":\"Scatter\"},{\"attributes\":{},\"id\":\"4019\",\"type\":\"UnionRenderers\"},{\"attributes\":{\"angle\":{\"value\":0.0},\"fill_alpha\":{\"value\":1.0},\"fill_color\":{\"value\":\"#6d904f\"},\"hatch_alpha\":{\"value\":1.0},\"hatch_color\":{\"value\":\"#6d904f\"},\"hatch_scale\":{\"value\":12.0},\"hatch_weight\":{\"value\":1.0},\"line_alpha\":{\"value\":1.0},\"line_cap\":{\"value\":\"butt\"},\"line_color\":{\"value\":\"#6d904f\"},\"line_dash\":{\"value\":[]},\"line_dash_offset\":{\"value\":0},\"line_join\":{\"value\":\"bevel\"},\"line_width\":{\"value\":1},\"marker\":{\"value\":\"circle\"},\"size\":{\"value\":5.477225575051661},\"x\":{\"field\":\"Case_Fatality_Rate\"},\"y\":{\"field\":\"Infection_Risk\"}},\"id\":\"4073\",\"type\":\"Scatter\"},{\"attributes\":{\"end\":76.571,\"reset_end\":76.571,\"reset_start\":-6.961,\"start\":-6.961,\"tags\":[[[\"Infection_Risk\",\"Infection_Risk\",null]]]},\"id\":\"3938\",\"type\":\"Range1d\"},{\"attributes\":{\"tools\":[{\"id\":\"3939\"},{\"id\":\"3962\"},{\"id\":\"3963\"},{\"id\":\"3964\"},{\"id\":\"3965\"},{\"id\":\"3966\"}]},\"id\":\"3968\",\"type\":\"Toolbar\"},{\"attributes\":{\"fill_color\":{\"value\":\"#8b8b8b\"},\"hatch_color\":{\"value\":\"#8b8b8b\"},\"line_color\":{\"value\":\"#8b8b8b\"},\"size\":{\"value\":5.477225575051661},\"x\":{\"field\":\"Case_Fatality_Rate\"},\"y\":{\"field\":\"Infection_Risk\"}},\"id\":\"4077\",\"type\":\"Scatter\"},{\"attributes\":{\"source\":{\"id\":\"4102\"}},\"id\":\"4109\",\"type\":\"CDSView\"},{\"attributes\":{},\"id\":\"3977\",\"type\":\"AllLabels\"},{\"attributes\":{},\"id\":\"4127\",\"type\":\"UnionRenderers\"},{\"attributes\":{\"fill_alpha\":{\"value\":0.1},\"fill_color\":{\"value\":\"#17becf\"},\"hatch_alpha\":{\"value\":0.1},\"hatch_color\":{\"value\":\"#17becf\"},\"line_alpha\":{\"value\":0.1},\"line_color\":{\"value\":\"#17becf\"},\"size\":{\"value\":5.477225575051661},\"x\":{\"field\":\"Case_Fatality_Rate\"},\"y\":{\"field\":\"Infection_Risk\"}},\"id\":\"4106\",\"type\":\"Scatter\"},{\"attributes\":{\"coordinates\":null,\"data_source\":{\"id\":\"4102\"},\"glyph\":{\"id\":\"4105\"},\"group\":null,\"hover_glyph\":null,\"muted_glyph\":{\"id\":\"4107\"},\"nonselection_glyph\":{\"id\":\"4106\"},\"selection_glyph\":{\"id\":\"4131\"},\"view\":{\"id\":\"4109\"}},\"id\":\"4108\",\"type\":\"GlyphRenderer\"},{\"attributes\":{\"fill_alpha\":{\"value\":0.2},\"fill_color\":{\"value\":\"#17becf\"},\"hatch_alpha\":{\"value\":0.2},\"hatch_color\":{\"value\":\"#17becf\"},\"line_alpha\":{\"value\":0.2},\"line_color\":{\"value\":\"#17becf\"},\"size\":{\"value\":5.477225575051661},\"x\":{\"field\":\"Case_Fatality_Rate\"},\"y\":{\"field\":\"Infection_Risk\"}},\"id\":\"4107\",\"type\":\"Scatter\"},{\"attributes\":{\"label\":{\"value\":\"5\"},\"renderers\":[{\"id\":\"4108\"}]},\"id\":\"4130\",\"type\":\"LegendItem\"},{\"attributes\":{\"margin\":[5,5,5,5],\"name\":\"HSpacer08073\",\"sizing_mode\":\"stretch_width\"},\"id\":\"3936\",\"type\":\"Spacer\"},{\"attributes\":{\"angle\":{\"value\":0.0},\"fill_alpha\":{\"value\":1.0},\"fill_color\":{\"value\":\"#e5ae38\"},\"hatch_alpha\":{\"value\":1.0},\"hatch_color\":{\"value\":\"#e5ae38\"},\"hatch_scale\":{\"value\":12.0},\"hatch_weight\":{\"value\":1.0},\"line_alpha\":{\"value\":1.0},\"line_cap\":{\"value\":\"butt\"},\"line_color\":{\"value\":\"#e5ae38\"},\"line_dash\":{\"value\":[]},\"line_dash_offset\":{\"value\":0},\"line_join\":{\"value\":\"bevel\"},\"line_width\":{\"value\":1},\"marker\":{\"value\":\"circle\"},\"size\":{\"value\":5.477225575051661},\"x\":{\"field\":\"Case_Fatality_Rate\"},\"y\":{\"field\":\"Infection_Risk\"}},\"id\":\"4047\",\"type\":\"Scatter\"},{\"attributes\":{\"label\":{\"value\":\"4\"},\"renderers\":[{\"id\":\"4080\"}]},\"id\":\"4100\",\"type\":\"LegendItem\"},{\"attributes\":{},\"id\":\"4075\",\"type\":\"Selection\"},{\"attributes\":{\"children\":[{\"id\":\"3936\"},{\"id\":\"3945\"},{\"id\":\"4312\"}],\"margin\":[0,0,0,0],\"name\":\"Row08069\",\"tags\":[\"embedded\"]},\"id\":\"3935\",\"type\":\"Row\"},{\"attributes\":{},\"id\":\"3979\",\"type\":\"BasicTickFormatter\"},{\"attributes\":{\"fill_color\":{\"value\":\"#6d904f\"},\"hatch_color\":{\"value\":\"#6d904f\"},\"line_color\":{\"value\":\"#6d904f\"},\"size\":{\"value\":5.477225575051661},\"x\":{\"field\":\"Case_Fatality_Rate\"},\"y\":{\"field\":\"Infection_Risk\"}},\"id\":\"4051\",\"type\":\"Scatter\"},{\"attributes\":{\"angle\":{\"value\":0.0},\"fill_alpha\":{\"value\":1.0},\"fill_color\":{\"value\":\"#8b8b8b\"},\"hatch_alpha\":{\"value\":1.0},\"hatch_color\":{\"value\":\"#8b8b8b\"},\"hatch_scale\":{\"value\":12.0},\"hatch_weight\":{\"value\":1.0},\"line_alpha\":{\"value\":1.0},\"line_cap\":{\"value\":\"butt\"},\"line_color\":{\"value\":\"#8b8b8b\"},\"line_dash\":{\"value\":[]},\"line_dash_offset\":{\"value\":0},\"line_join\":{\"value\":\"bevel\"},\"line_width\":{\"value\":1},\"marker\":{\"value\":\"circle\"},\"size\":{\"value\":5.477225575051661},\"x\":{\"field\":\"Case_Fatality_Rate\"},\"y\":{\"field\":\"Infection_Risk\"}},\"id\":\"4101\",\"type\":\"Scatter\"},{\"attributes\":{\"end\":23.172285714285714,\"reset_end\":23.172285714285714,\"reset_start\":-0.9522857142857143,\"start\":-0.9522857142857143,\"tags\":[[[\"Case_Fatality_Rate\",\"Case_Fatality_Rate\",null]]]},\"id\":\"3937\",\"type\":\"Range1d\"},{\"attributes\":{\"data\":{\"Case_Fatality_Rate\":{\"__ndarray__\":\"H4XrUbge5T9cj8L1KFz/P6RwPQrXowRA16NwPQrXFkAzMzMzMzPrP+xRuB6F6+k/uB6F61G45j9xPQrXo3DxPxSuR+F6FO4/UrgehetRAkBmZmZmZmbyPxSuR+F6FN4/w/UoXI/CCUB7FK5H4XqkPxSuR+F6FN4/zczMzMzMBEBxPQrXo3DNP8P1KFyPwhBAmpmZmZmZ2T97FK5H4XrkP3sUrkfheuQ/\",\"dtype\":\"float64\",\"order\":\"little\",\"shape\":[21]},\"Infection_Risk\":{\"__ndarray__\":\"MzMzMzMzMUApXI/C9aggQDMzMzMzMwFAMzMzMzMzEUDNzMzMzMwoQGZmZmZmJkBA16NwPQrXE0BxPQrXo/AhQI/C9ShcDzxAUrgehevRLUBmZmZmZqY+QIXrUbgeRTxAw/UoXI+CMEDsUbgehesmQEjhehSuxytAcT0K16NwEEDhehSuR2FAQJqZmZmZGSdAmpmZmZmZAUA9CtejcN1CQBSuR+F6VEBA\",\"dtype\":\"float64\",\"order\":\"little\",\"shape\":[21]},\"class\":[5,5,5,5,5,5,5,5,5,5,5,5,5,5,5,5,5,5,5,5,5]},\"selected\":{\"id\":\"4103\"},\"selection_policy\":{\"id\":\"4127\"}},\"id\":\"4102\",\"type\":\"ColumnDataSource\"},{\"attributes\":{\"fill_alpha\":{\"value\":0.1},\"fill_color\":{\"value\":\"#8b8b8b\"},\"hatch_alpha\":{\"value\":0.1},\"hatch_color\":{\"value\":\"#8b8b8b\"},\"line_alpha\":{\"value\":0.1},\"line_color\":{\"value\":\"#8b8b8b\"},\"size\":{\"value\":5.477225575051661},\"x\":{\"field\":\"Case_Fatality_Rate\"},\"y\":{\"field\":\"Infection_Risk\"}},\"id\":\"4078\",\"type\":\"Scatter\"},{\"attributes\":{\"source\":{\"id\":\"4074\"}},\"id\":\"4081\",\"type\":\"CDSView\"},{\"attributes\":{\"coordinates\":null,\"data_source\":{\"id\":\"4074\"},\"glyph\":{\"id\":\"4077\"},\"group\":null,\"hover_glyph\":null,\"muted_glyph\":{\"id\":\"4079\"},\"nonselection_glyph\":{\"id\":\"4078\"},\"selection_glyph\":{\"id\":\"4101\"},\"view\":{\"id\":\"4081\"}},\"id\":\"4080\",\"type\":\"GlyphRenderer\"},{\"attributes\":{\"click_policy\":\"mute\",\"coordinates\":null,\"group\":null,\"items\":[{\"id\":\"4000\"},{\"id\":\"4022\"},{\"id\":\"4046\"},{\"id\":\"4072\"},{\"id\":\"4100\"},{\"id\":\"4130\"}],\"location\":[0,0],\"title\":\"class\"},\"id\":\"3999\",\"type\":\"Legend\"},{\"attributes\":{\"label\":{\"value\":\"3\"},\"renderers\":[{\"id\":\"4054\"}]},\"id\":\"4072\",\"type\":\"LegendItem\"},{\"attributes\":{\"angle\":{\"value\":0.0},\"fill_alpha\":{\"value\":1.0},\"fill_color\":{\"value\":\"#fc4f30\"},\"hatch_alpha\":{\"value\":1.0},\"hatch_color\":{\"value\":\"#fc4f30\"},\"hatch_scale\":{\"value\":12.0},\"hatch_weight\":{\"value\":1.0},\"line_alpha\":{\"value\":1.0},\"line_cap\":{\"value\":\"butt\"},\"line_color\":{\"value\":\"#fc4f30\"},\"line_dash\":{\"value\":[]},\"line_dash_offset\":{\"value\":0},\"line_join\":{\"value\":\"bevel\"},\"line_width\":{\"value\":1},\"marker\":{\"value\":\"circle\"},\"size\":{\"value\":5.477225575051661},\"x\":{\"field\":\"Case_Fatality_Rate\"},\"y\":{\"field\":\"Infection_Risk\"}},\"id\":\"4023\",\"type\":\"Scatter\"},{\"attributes\":{\"fill_alpha\":{\"value\":0.2},\"fill_color\":{\"value\":\"#8b8b8b\"},\"hatch_alpha\":{\"value\":0.2},\"hatch_color\":{\"value\":\"#8b8b8b\"},\"line_alpha\":{\"value\":0.2},\"line_color\":{\"value\":\"#8b8b8b\"},\"size\":{\"value\":5.477225575051661},\"x\":{\"field\":\"Case_Fatality_Rate\"},\"y\":{\"field\":\"Infection_Risk\"}},\"id\":\"4079\",\"type\":\"Scatter\"},{\"attributes\":{},\"id\":\"3980\",\"type\":\"AllLabels\"},{\"attributes\":{\"data\":{\"Case_Fatality_Rate\":{\"__ndarray__\":\"MzMzMzMz8z+kcD0K16PAP7gehetRuPY/UrgehetRAkBxPQrXo3ABQEjhehSuR9E/zczMzMzM8D+F61G4HoUFQJqZmZmZmfk/7FG4HoXrF0DXo3A9CtfjP1K4HoXrUcg/XI/C9Shc5z9xPQrXo3DxP5qZmZmZmek/16NwPQrX9z+uR+F6FK4DQI/C9Shcj+o/KVyPwvUo8D/Xo3A9Ctf/P8P1KFyPwsU/zczMzMzM8D8UrkfhehT2Pylcj8L1KOQ/uB6F61G49j8UrkfhehTuP/YoXI/C9eg/uB6F61G4vj/D9Shcj8IFQNejcD0K1+s/hetRuB6F8z+4HoXrUbjmP8P1KFyPwuU/H4XrUbgeA0CkcD0K16PQP+xRuB6F6+k/j8L1KFyPEECuR+F6FK7vP83MzMzMzABAhetRuB6F8z+4HoXrUbjmPx+F61G4HvE/MzMzMzMz8z/sUbgehesDQPYoXI/C9QZAPQrXo3A92j9xPQrXo3AJQHE9CtejcO0/UrgehetR6D8pXI/C9SjcP0jhehSuR9E/cT0K16Nw8T/Xo3A9CtcBQHsUrkfhevQ/cT0K16NwE0CamZmZmZn5P1K4HoXrUQBAmpmZmZmZ8T9SuB6F61HIP+F6FK5H4co/AAAAAAAA/D8AAAAAAAD0Pylcj8L1KAhAexSuR+F69D+4HoXrUbgEQK5H4XoUru8/rkfhehSu8z+uR+F6FK4BQBSuR+F6FOY/j8L1KFyP8j9cj8L1KFzvP1yPwvUoXN8/16NwPQrX9z+amZmZmZmpP0jhehSuRxFAw/UoXI/CxT+F61G4HoUBQHsUrkfhegRAzczMzMzM7D9mZmZmZmYEQNejcD0K1wVAFK5H4XoUAkAzMzMzMzPDP+xRuB6F6/E/16NwPQrXAUDD9Shcj8L5P7gehetRuP4/pHA9Ctej+D9SuB6F61ECQI/C9ShcjwhACtejcD0K7z+4HoXrUbj6PwAAAAAAAOA/PQrXo3A96j/NzMzMzMzsPwAAAAAAAABAcT0K16NwzT/NzMzMzMz0P0jhehSuRwFACtejcD0K/z+uR+F6FK4fQKRwPQrXo+A/uB6F61G4+j89CtejcD3iPz0K16NwPfI/CtejcD0K5z+F61G4HoUWQHsUrkfheuQ/pHA9Ctej+D89CtejcD3aPx+F61G4HuU/9ihcj8L12D+amZmZmZm5P65H4XoUruc/UrgehetR4D9cj8L1KFzzP5qZmZmZmQVAexSuR+F6tD/Xo3A9CtfjP/YoXI/C9QJA9ihcj8L1AkD2KFyPwvUAQK5H4XoUrgVAH4XrUbgeA0AzMzMzMzPTPzMzMzMzM+M/cT0K16NwFEB7FK5H4XqkP5qZmZmZmfk/cT0K16Nw+T89CtejcD3iP2ZmZmZmZg5ASOF6FK5H/T+kcD0K16PAP1yPwvUoXPM/uB6F61G45j+amZmZmZnpP4XrUbgeheM/ZmZmZmZm8j+kcD0K16PgP1yPwvUoXPM/AAAAAAAA6D+kcD0K16PoP/YoXI/C9fg/exSuR+F68D9mZmZmZmYIQArXo3A9Csc/ZmZmZmYmMkD2KFyPwvXgP1K4HoXrUeA/16NwPQrX8z97FK5H4XrkP/YoXI/C9fA/exSuR+F67D8AAAAAAAAMQKRwPQrXowBArkfhehSu/z/2KFyPwvXYPxSuR+F6FPo/zczMzMzM/D/D9Shcj8IPQOF6FK5H4QRAH4XrUbge+T9SuB6F61HwP65H4XoUrvM/hetRuB6F4z9SuB6F61HoP3sUrkfhesQ/w/UoXI/C1T+amZmZmZmpP7gehetRuK4/AAAAAAAAAABI4XoUrkf9P6RwPQrXo/g/ZmZmZmZm8j8AAAAAAAAAAAAAAAAAAAAAAAAAAAAAAAAAAAAAAAAkQLgehetRODZAAAAAAAAAAABmZmZmZmYKQA==\",\"dtype\":\"float64\",\"order\":\"little\",\"shape\":[182]},\"Infection_Risk\":{\"__ndarray__\":\"j8L1KFyPCEA9CtejcL01QClcj8L1qDNAexSuR+F6J0DhehSuR+EmQHE9CtejkERAFK5H4XqUQUB7FK5H4XoYQD0K16NwPQpAAAAAAAAAJUDsUbgehQtBQArXo3A9ykhAj8L1KFxPOEAzMzMzMzMWQClcj8L1qDZAj8L1KFyP8j8fhetRuB4zQEjhehSuRzBAcT0K16OwREBxPQrXo3DlP5qZmZmZWTlAPQrXo3A9G0C4HoXrUbgIQD0K16NwPS1AH4XrUbjeOkCamZmZmRkwQK5H4XoULiNApHA9CtfjMUCuR+F6FC4hQOF6FK5HAUNAFK5H4XoUCkDD9Shcj0IkQGZmZmZm5kZAKVyPwvUoHkAfhetRuJ4hQLgehetRODlA4XoUrkfhEkAfhetRuB4wQM3MzMzMzBFAw/UoXI/CHkCkcD0K10NFQPYoXI/CNTFAzczMzMzMAEB7FK5H4XoIQEjhehSuxyFArkfhehSuLEDD9Shcj8LxP2ZmZmZm5iVA7FG4HoXrFEAzMzMzM7NEQHsUrkfhej5AcT0K16Nw/T97FK5H4XopQIXrUbgehRxAFK5H4XoU3j/2KFyPwvXYP+xRuB6FayxAH4XrUbgeHUCuR+F6FK4pQM3MzMzMDEJAj8L1KFyP4j89CtejcD36Pz0K16NwPS1ACtejcD0KI0DhehSuR+HiPzMzMzMzsyVAuB6F61G4vj/D9Shcj8L5PxSuR+F6FOY/pHA9CteDQkAUrkfhehTmP65H4XoULkBA7FG4HoXrB0CamZmZmdlJQClcj8L1KNw/XI/C9ShcP0DD9Shcj8LVP65H4XoUrgNAAAAAAAAA4D8K16NwPQoYQGZmZmZmZiNASOF6FK5H6T8zMzMzMzM9QLgehetRuO4/PQrXo3A9EUCF61G4HoXbP4/C9Shcj9I/CtejcD0Ktz9cj8L1KFzfP4XrUbgehds/MzMzMzMz0z+PwvUoXI8qQPYoXI/CNTlA9ihcj8I1MUAUrkfhelQ5QJqZmZmZmRdA9ihcj8KVQkBcj8L1KFwcQClcj8L1KMw/4XoUrkfhH0DsUbgehevBP3sUrkfhujRAXI/C9Shc8z+uR+F6FC40QGZmZmZm5itAw/UoXI/CI0DXo3A9CtfTP2ZmZmZmZgBAzczMzMzM3D89CtejcB1EQB+F61G4HjhA4XoUrkehSUDXo3A9CtfTP4XrUbgehds/XI/C9SjcKUBI4XoUrkfRP3sUrkfhegZA16NwPQpnUUDNzMzMzIw/QJqZmZmZmak/pHA9CtejIEApXI/C9Sj4P6RwPQrXo9A/7FG4HoXrwT+amZmZmdk/QOF6FK5H4co/exSuR+F6xD+4HoXrUbgIQOF6FK5H4do/w/UoXI/CKEDhehSuR+H6PwrXo3A9Crc/mpmZmZmZuT/hehSuRyE9QEjhehSuR9E/CtejcD0Kxz8zMzMzMzPDP2ZmZmZmpkhAH4XrUbge8T9cj8L1KLxEQKRwPQrXo/g/mpmZmZn5RUCPwvUoXI/SPx+F61G4nihA9ihcj8L1M0AUrkfhehTePz0K16Nw/TRAexSuR+F6pD/NzMzMzEwwQClcj8L1aDpAXI/C9Shc9z9mZmZmZuY4QEjhehSuR9E/pHA9CtcjNkC4HoXrUbieP5qZmZmZmdk/zczMzMzM7D/sUbgehSs+QArXo3A9Crc/H4XrUbgeHkDsUbgehevBP3sUrkfheqQ/MzMzMzMzGED2KFyPwvUzQArXo3A9CgVAuB6F61G4LUCamZmZmZkkQClcj8L1CENASOF6FK5HMUCF61G4HoXjPwAAAAAAAD9AKVyPwvUo3D8AAAAAAAAAAK5H4XoUrhBA16NwPQrXC0AUrkfhehQKQHsUrkfheoQ/4XoUrkfhDEAAAAAAAAAAAAAAAAAAAAAAexSuR+F6hD97FK5H4XqEPw==\",\"dtype\":\"float64\",\"order\":\"little\",\"shape\":[182]},\"class\":[0,0,0,0,0,0,0,0,0,0,0,0,0,0,0,0,0,0,0,0,0,0,0,0,0,0,0,0,0,0,0,0,0,0,0,0,0,0,0,0,0,0,0,0,0,0,0,0,0,0,0,0,0,0,0,0,0,0,0,0,0,0,0,0,0,0,0,0,0,0,0,0,0,0,0,0,0,0,0,0,0,0,0,0,0,0,0,0,0,0,0,0,0,0,0,0,0,0,0,0,0,0,0,0,0,0,0,0,0,0,0,0,0,0,0,0,0,0,0,0,0,0,0,0,0,0,0,0,0,0,0,0,0,0,0,0,0,0,0,0,0,0,0,0,0,0,0,0,0,0,0,0,0,0,0,0,0,0,0,0,0,0,0,0,0,0,0,0,0,0,0,0,0,0,0,0,0,0,0,0,0,0]},\"selected\":{\"id\":\"3982\"},\"selection_policy\":{\"id\":\"3996\"}},\"id\":\"3981\",\"type\":\"ColumnDataSource\"},{\"attributes\":{},\"id\":\"4049\",\"type\":\"Selection\"},{\"attributes\":{\"fill_color\":{\"value\":\"#30a2da\"},\"hatch_color\":{\"value\":\"#30a2da\"},\"line_color\":{\"value\":\"#30a2da\"},\"size\":{\"value\":5.477225575051661},\"x\":{\"field\":\"Case_Fatality_Rate\"},\"y\":{\"field\":\"Infection_Risk\"}},\"id\":\"3984\",\"type\":\"Scatter\"},{\"attributes\":{},\"id\":\"3950\",\"type\":\"LinearScale\"},{\"attributes\":{\"margin\":[5,5,5,5],\"name\":\"HSpacer08074\",\"sizing_mode\":\"stretch_width\"},\"id\":\"4312\",\"type\":\"Spacer\"},{\"attributes\":{\"callback\":null,\"renderers\":[{\"id\":\"3987\"},{\"id\":\"4008\"},{\"id\":\"4030\"},{\"id\":\"4054\"},{\"id\":\"4080\"},{\"id\":\"4108\"}],\"tags\":[\"hv_created\"],\"tooltips\":[[\"class\",\"@{class}\"],[\"Case_Fatality_Rate\",\"@{Case_Fatality_Rate}\"],[\"Infection_Risk\",\"@{Infection_Risk}\"]]},\"id\":\"3939\",\"type\":\"HoverTool\"},{\"attributes\":{},\"id\":\"4069\",\"type\":\"UnionRenderers\"},{\"attributes\":{\"data\":{\"Case_Fatality_Rate\":{\"__ndarray__\":\"rkfhehSu8z8=\",\"dtype\":\"float64\",\"order\":\"little\",\"shape\":[1]},\"Infection_Risk\":{\"__ndarray__\":\"ZmZmZmZmOEA=\",\"dtype\":\"float64\",\"order\":\"little\",\"shape\":[1]},\"class\":[1]},\"selected\":{\"id\":\"4003\"},\"selection_policy\":{\"id\":\"4019\"}},\"id\":\"4002\",\"type\":\"ColumnDataSource\"},{\"attributes\":{\"fill_color\":{\"value\":\"#e5ae38\"},\"hatch_color\":{\"value\":\"#e5ae38\"},\"line_color\":{\"value\":\"#e5ae38\"},\"size\":{\"value\":5.477225575051661},\"x\":{\"field\":\"Case_Fatality_Rate\"},\"y\":{\"field\":\"Infection_Risk\"}},\"id\":\"4027\",\"type\":\"Scatter\"},{\"attributes\":{\"source\":{\"id\":\"4048\"}},\"id\":\"4055\",\"type\":\"CDSView\"},{\"attributes\":{\"fill_alpha\":{\"value\":0.1},\"fill_color\":{\"value\":\"#6d904f\"},\"hatch_alpha\":{\"value\":0.1},\"hatch_color\":{\"value\":\"#6d904f\"},\"line_alpha\":{\"value\":0.1},\"line_color\":{\"value\":\"#6d904f\"},\"size\":{\"value\":5.477225575051661},\"x\":{\"field\":\"Case_Fatality_Rate\"},\"y\":{\"field\":\"Infection_Risk\"}},\"id\":\"4052\",\"type\":\"Scatter\"},{\"attributes\":{},\"id\":\"4097\",\"type\":\"UnionRenderers\"},{\"attributes\":{\"coordinates\":null,\"data_source\":{\"id\":\"4048\"},\"glyph\":{\"id\":\"4051\"},\"group\":null,\"hover_glyph\":null,\"muted_glyph\":{\"id\":\"4053\"},\"nonselection_glyph\":{\"id\":\"4052\"},\"selection_glyph\":{\"id\":\"4073\"},\"view\":{\"id\":\"4055\"}},\"id\":\"4054\",\"type\":\"GlyphRenderer\"},{\"attributes\":{\"angle\":{\"value\":0.0},\"fill_alpha\":{\"value\":1.0},\"fill_color\":{\"value\":\"#30a2da\"},\"hatch_alpha\":{\"value\":1.0},\"hatch_color\":{\"value\":\"#30a2da\"},\"hatch_scale\":{\"value\":12.0},\"hatch_weight\":{\"value\":1.0},\"line_alpha\":{\"value\":1.0},\"line_cap\":{\"value\":\"butt\"},\"line_color\":{\"value\":\"#30a2da\"},\"line_dash\":{\"value\":[]},\"line_dash_offset\":{\"value\":0},\"line_join\":{\"value\":\"bevel\"},\"line_width\":{\"value\":1},\"marker\":{\"value\":\"circle\"},\"size\":{\"value\":5.477225575051661},\"x\":{\"field\":\"Case_Fatality_Rate\"},\"y\":{\"field\":\"Infection_Risk\"}},\"id\":\"4001\",\"type\":\"Scatter\"},{\"attributes\":{\"fill_alpha\":{\"value\":0.2},\"fill_color\":{\"value\":\"#30a2da\"},\"hatch_alpha\":{\"value\":0.2},\"hatch_color\":{\"value\":\"#30a2da\"},\"line_alpha\":{\"value\":0.2},\"line_color\":{\"value\":\"#30a2da\"},\"size\":{\"value\":5.477225575051661},\"x\":{\"field\":\"Case_Fatality_Rate\"},\"y\":{\"field\":\"Infection_Risk\"}},\"id\":\"3986\",\"type\":\"Scatter\"},{\"attributes\":{},\"id\":\"3952\",\"type\":\"LinearScale\"},{\"attributes\":{\"coordinates\":null,\"data_source\":{\"id\":\"3981\"},\"glyph\":{\"id\":\"3984\"},\"group\":null,\"hover_glyph\":null,\"muted_glyph\":{\"id\":\"3986\"},\"nonselection_glyph\":{\"id\":\"3985\"},\"selection_glyph\":{\"id\":\"4001\"},\"view\":{\"id\":\"3988\"}},\"id\":\"3987\",\"type\":\"GlyphRenderer\"},{\"attributes\":{\"fill_alpha\":{\"value\":0.2},\"fill_color\":{\"value\":\"#6d904f\"},\"hatch_alpha\":{\"value\":0.2},\"hatch_color\":{\"value\":\"#6d904f\"},\"line_alpha\":{\"value\":0.2},\"line_color\":{\"value\":\"#6d904f\"},\"size\":{\"value\":5.477225575051661},\"x\":{\"field\":\"Case_Fatality_Rate\"},\"y\":{\"field\":\"Infection_Risk\"}},\"id\":\"4053\",\"type\":\"Scatter\"},{\"attributes\":{\"fill_color\":{\"value\":\"#fc4f30\"},\"hatch_color\":{\"value\":\"#fc4f30\"},\"line_color\":{\"value\":\"#fc4f30\"},\"size\":{\"value\":5.477225575051661},\"x\":{\"field\":\"Case_Fatality_Rate\"},\"y\":{\"field\":\"Infection_Risk\"}},\"id\":\"4005\",\"type\":\"Scatter\"},{\"attributes\":{\"label\":{\"value\":\"2\"},\"renderers\":[{\"id\":\"4030\"}]},\"id\":\"4046\",\"type\":\"LegendItem\"},{\"attributes\":{},\"id\":\"3982\",\"type\":\"Selection\"},{\"attributes\":{\"below\":[{\"id\":\"3954\"}],\"center\":[{\"id\":\"3957\"},{\"id\":\"3961\"}],\"height\":300,\"left\":[{\"id\":\"3958\"}],\"margin\":[5,5,5,5],\"min_border_bottom\":10,\"min_border_left\":10,\"min_border_right\":10,\"min_border_top\":10,\"renderers\":[{\"id\":\"3987\"},{\"id\":\"4008\"},{\"id\":\"4030\"},{\"id\":\"4054\"},{\"id\":\"4080\"},{\"id\":\"4108\"}],\"right\":[{\"id\":\"3999\"}],\"sizing_mode\":\"fixed\",\"title\":{\"id\":\"3946\"},\"toolbar\":{\"id\":\"3968\"},\"width\":700,\"x_range\":{\"id\":\"3937\"},\"x_scale\":{\"id\":\"3950\"},\"y_range\":{\"id\":\"3938\"},\"y_scale\":{\"id\":\"3952\"}},\"id\":\"3945\",\"subtype\":\"Figure\",\"type\":\"Plot\"},{\"attributes\":{\"source\":{\"id\":\"3981\"}},\"id\":\"3988\",\"type\":\"CDSView\"},{\"attributes\":{\"coordinates\":null,\"group\":null,\"text_color\":\"black\",\"text_font_size\":\"12pt\"},\"id\":\"3946\",\"type\":\"Title\"},{\"attributes\":{},\"id\":\"4025\",\"type\":\"Selection\"},{\"attributes\":{},\"id\":\"4003\",\"type\":\"Selection\"},{\"attributes\":{\"axis\":{\"id\":\"3954\"},\"coordinates\":null,\"grid_line_color\":null,\"group\":null,\"ticker\":null},\"id\":\"3957\",\"type\":\"Grid\"},{\"attributes\":{\"coordinates\":null,\"data_source\":{\"id\":\"4024\"},\"glyph\":{\"id\":\"4027\"},\"group\":null,\"hover_glyph\":null,\"muted_glyph\":{\"id\":\"4029\"},\"nonselection_glyph\":{\"id\":\"4028\"},\"selection_glyph\":{\"id\":\"4047\"},\"view\":{\"id\":\"4031\"}},\"id\":\"4030\",\"type\":\"GlyphRenderer\"},{\"attributes\":{\"axis\":{\"id\":\"3958\"},\"coordinates\":null,\"dimension\":1,\"grid_line_color\":null,\"group\":null,\"ticker\":null},\"id\":\"3961\",\"type\":\"Grid\"},{\"attributes\":{\"axis_label\":\"Case_Fatality_Rate\",\"coordinates\":null,\"formatter\":{\"id\":\"3976\"},\"group\":null,\"major_label_policy\":{\"id\":\"3977\"},\"ticker\":{\"id\":\"3955\"}},\"id\":\"3954\",\"type\":\"LinearAxis\"},{\"attributes\":{\"data\":{\"Case_Fatality_Rate\":{\"__ndarray__\":\"exSuR+F65D9cj8L1KFzfPw==\",\"dtype\":\"float64\",\"order\":\"little\",\"shape\":[2]},\"Infection_Risk\":{\"__ndarray__\":\"w/UoXI/CN0BmZmZmZmYhQA==\",\"dtype\":\"float64\",\"order\":\"little\",\"shape\":[2]},\"class\":[2,2]},\"selected\":{\"id\":\"4025\"},\"selection_policy\":{\"id\":\"4043\"}},\"id\":\"4024\",\"type\":\"ColumnDataSource\"},{\"attributes\":{\"axis_label\":\"Infection_Risk\",\"coordinates\":null,\"formatter\":{\"id\":\"3979\"},\"group\":null,\"major_label_policy\":{\"id\":\"3980\"},\"ticker\":{\"id\":\"3959\"}},\"id\":\"3958\",\"type\":\"LinearAxis\"},{\"attributes\":{\"fill_alpha\":{\"value\":0.2},\"fill_color\":{\"value\":\"#e5ae38\"},\"hatch_alpha\":{\"value\":0.2},\"hatch_color\":{\"value\":\"#e5ae38\"},\"line_alpha\":{\"value\":0.2},\"line_color\":{\"value\":\"#e5ae38\"},\"size\":{\"value\":5.477225575051661},\"x\":{\"field\":\"Case_Fatality_Rate\"},\"y\":{\"field\":\"Infection_Risk\"}},\"id\":\"4029\",\"type\":\"Scatter\"},{\"attributes\":{},\"id\":\"3955\",\"type\":\"BasicTicker\"},{\"attributes\":{},\"id\":\"3959\",\"type\":\"BasicTicker\"}],\"root_ids\":[\"3935\"]},\"title\":\"Bokeh Application\",\"version\":\"2.4.2\"}};\n",
       "    var render_items = [{\"docid\":\"d3b83eb9-62d8-485b-9926-3fe489275e66\",\"root_ids\":[\"3935\"],\"roots\":{\"3935\":\"fcb7c2c2-1bd9-467c-818e-c901ad347527\"}}];\n",
       "    root.Bokeh.embed.embed_items_notebook(docs_json, render_items);\n",
       "  }\n",
       "  if (root.Bokeh !== undefined && root.Bokeh.Panel !== undefined) {\n",
       "    embed_document(root);\n",
       "  } else {\n",
       "    var attempts = 0;\n",
       "    var timer = setInterval(function(root) {\n",
       "      if (root.Bokeh !== undefined && root.Bokeh.Panel !== undefined) {\n",
       "        clearInterval(timer);\n",
       "        embed_document(root);\n",
       "      } else if (document.readyState == \"complete\") {\n",
       "        attempts++;\n",
       "        if (attempts > 200) {\n",
       "          clearInterval(timer);\n",
       "          console.log(\"Bokeh: ERROR: Unable to run BokehJS code because BokehJS library is missing\");\n",
       "        }\n",
       "      }\n",
       "    }, 25, root)\n",
       "  }\n",
       "})(window);</script>"
      ],
      "text/plain": [
       ":NdOverlay   [class]\n",
       "   :Scatter   [Case_Fatality_Rate]   (Infection_Risk)"
      ]
     },
     "execution_count": 56,
     "metadata": {
      "application/vnd.holoviews_exec.v0+json": {
       "id": "3935"
      }
     },
     "output_type": "execute_result"
    }
   ],
   "source": [
    "# Create a scatterplot of covid_data\n",
    "covid_data_df.hvplot.scatter(x=\"Case_Fatality_Rate\", y=\"Infection_Risk\", by=\"class\")"
   ]
  },
  {
   "cell_type": "code",
   "execution_count": 57,
   "metadata": {},
   "outputs": [
    {
     "data": {},
     "metadata": {},
     "output_type": "display_data"
    },
    {
     "data": {
      "application/vnd.holoviews_exec.v0+json": "",
      "text/html": [
       "<div id='4414'>\n",
       "\n",
       "\n",
       "\n",
       "\n",
       "\n",
       "  <div class=\"bk-root\" id=\"f1b96332-bccb-4c7a-967a-2532fb200cd7\" data-root-id=\"4414\"></div>\n",
       "</div>\n",
       "<script type=\"application/javascript\">(function(root) {\n",
       "  function embed_document(root) {\n",
       "    var docs_json = {\"ffba3479-6172-4d73-b62c-f75483c0ab52\":{\"defs\":[{\"extends\":null,\"module\":null,\"name\":\"ReactiveHTML1\",\"overrides\":[],\"properties\":[]},{\"extends\":null,\"module\":null,\"name\":\"FlexBox1\",\"overrides\":[],\"properties\":[{\"default\":\"flex-start\",\"kind\":null,\"name\":\"align_content\"},{\"default\":\"flex-start\",\"kind\":null,\"name\":\"align_items\"},{\"default\":\"row\",\"kind\":null,\"name\":\"flex_direction\"},{\"default\":\"wrap\",\"kind\":null,\"name\":\"flex_wrap\"},{\"default\":\"flex-start\",\"kind\":null,\"name\":\"justify_content\"}]},{\"extends\":null,\"module\":null,\"name\":\"TemplateActions1\",\"overrides\":[],\"properties\":[{\"default\":0,\"kind\":null,\"name\":\"open_modal\"},{\"default\":0,\"kind\":null,\"name\":\"close_modal\"}]},{\"extends\":null,\"module\":null,\"name\":\"MaterialTemplateActions1\",\"overrides\":[],\"properties\":[{\"default\":0,\"kind\":null,\"name\":\"open_modal\"},{\"default\":0,\"kind\":null,\"name\":\"close_modal\"}]}],\"roots\":{\"references\":[{\"attributes\":{},\"id\":\"4458\",\"type\":\"BasicTickFormatter\"},{\"attributes\":{},\"id\":\"4459\",\"type\":\"AllLabels\"},{\"attributes\":{\"end\":76.571,\"reset_end\":76.571,\"reset_start\":-6.961,\"start\":-6.961,\"tags\":[[[\"Infection_Risk\",\"Infection_Risk\",null]]]},\"id\":\"4417\",\"type\":\"Range1d\"},{\"attributes\":{\"angle\":{\"value\":0.0},\"fill_alpha\":{\"value\":1.0},\"fill_color\":{\"value\":\"#fc4f30\"},\"hatch_alpha\":{\"value\":1.0},\"hatch_color\":{\"value\":\"#fc4f30\"},\"hatch_scale\":{\"value\":12.0},\"hatch_weight\":{\"value\":1.0},\"line_alpha\":{\"value\":1.0},\"line_cap\":{\"value\":\"butt\"},\"line_color\":{\"value\":\"#fc4f30\"},\"line_dash\":{\"value\":[]},\"line_dash_offset\":{\"value\":0},\"line_join\":{\"value\":\"bevel\"},\"line_width\":{\"value\":1},\"marker\":{\"value\":\"circle\"},\"size\":{\"value\":5.477225575051661},\"x\":{\"field\":\"NewDeaths\"},\"y\":{\"field\":\"Infection_Risk\"}},\"id\":\"4502\",\"type\":\"Scatter\"},{\"attributes\":{\"end\":415.0571428571429,\"reset_end\":415.0571428571429,\"reset_start\":-17.057142857142857,\"start\":-17.057142857142857,\"tags\":[[[\"NewDeaths\",\"NewDeaths\",null]]]},\"id\":\"4416\",\"type\":\"Range1d\"},{\"attributes\":{\"fill_alpha\":{\"value\":0.1},\"fill_color\":{\"value\":\"#6d904f\"},\"hatch_alpha\":{\"value\":0.1},\"hatch_color\":{\"value\":\"#6d904f\"},\"line_alpha\":{\"value\":0.1},\"line_color\":{\"value\":\"#6d904f\"},\"size\":{\"value\":5.477225575051661},\"x\":{\"field\":\"NewDeaths\"},\"y\":{\"field\":\"Infection_Risk\"}},\"id\":\"4531\",\"type\":\"Scatter\"},{\"attributes\":{\"coordinates\":null,\"data_source\":{\"id\":\"4503\"},\"glyph\":{\"id\":\"4506\"},\"group\":null,\"hover_glyph\":null,\"muted_glyph\":{\"id\":\"4508\"},\"nonselection_glyph\":{\"id\":\"4507\"},\"selection_glyph\":{\"id\":\"4526\"},\"view\":{\"id\":\"4510\"}},\"id\":\"4509\",\"type\":\"GlyphRenderer\"},{\"attributes\":{\"source\":{\"id\":\"4527\"}},\"id\":\"4534\",\"type\":\"CDSView\"},{\"attributes\":{},\"id\":\"4522\",\"type\":\"UnionRenderers\"},{\"attributes\":{},\"id\":\"4548\",\"type\":\"UnionRenderers\"},{\"attributes\":{\"fill_alpha\":{\"value\":0.2},\"fill_color\":{\"value\":\"#30a2da\"},\"hatch_alpha\":{\"value\":0.2},\"hatch_color\":{\"value\":\"#30a2da\"},\"line_alpha\":{\"value\":0.2},\"line_color\":{\"value\":\"#30a2da\"},\"size\":{\"value\":5.477225575051661},\"x\":{\"field\":\"NewDeaths\"},\"y\":{\"field\":\"Infection_Risk\"}},\"id\":\"4465\",\"type\":\"Scatter\"},{\"attributes\":{\"label\":{\"value\":\"3\"},\"renderers\":[{\"id\":\"4533\"}]},\"id\":\"4551\",\"type\":\"LegendItem\"},{\"attributes\":{},\"id\":\"4456\",\"type\":\"AllLabels\"},{\"attributes\":{\"coordinates\":null,\"data_source\":{\"id\":\"4460\"},\"glyph\":{\"id\":\"4463\"},\"group\":null,\"hover_glyph\":null,\"muted_glyph\":{\"id\":\"4465\"},\"nonselection_glyph\":{\"id\":\"4464\"},\"selection_glyph\":{\"id\":\"4480\"},\"view\":{\"id\":\"4467\"}},\"id\":\"4466\",\"type\":\"GlyphRenderer\"},{\"attributes\":{\"coordinates\":null,\"data_source\":{\"id\":\"4527\"},\"glyph\":{\"id\":\"4530\"},\"group\":null,\"hover_glyph\":null,\"muted_glyph\":{\"id\":\"4532\"},\"nonselection_glyph\":{\"id\":\"4531\"},\"selection_glyph\":{\"id\":\"4552\"},\"view\":{\"id\":\"4534\"}},\"id\":\"4533\",\"type\":\"GlyphRenderer\"},{\"attributes\":{\"label\":{\"value\":\"0\"},\"renderers\":[{\"id\":\"4466\"}]},\"id\":\"4479\",\"type\":\"LegendItem\"},{\"attributes\":{\"source\":{\"id\":\"4460\"}},\"id\":\"4467\",\"type\":\"CDSView\"},{\"attributes\":{},\"id\":\"4429\",\"type\":\"LinearScale\"},{\"attributes\":{\"data\":{\"Infection_Risk\":{\"__ndarray__\":\"MzMzMzMzMUApXI/C9aggQDMzMzMzMwFAMzMzMzMzEUDNzMzMzMwoQGZmZmZmJkBA16NwPQrXE0BxPQrXo/AhQI/C9ShcDzxAUrgehevRLUBmZmZmZqY+QIXrUbgeRTxAw/UoXI+CMEDsUbgehesmQEjhehSuxytAcT0K16NwEEDhehSuR2FAQJqZmZmZGSdAmpmZmZmZAUA9CtejcN1CQBSuR+F6VEBA\",\"dtype\":\"float64\",\"order\":\"little\",\"shape\":[21]},\"NewDeaths\":[68,52,120,155,53,27,69,49,35,32,20,17,29,9,0,0,3,7,2,0,0],\"class\":[5,5,5,5,5,5,5,5,5,5,5,5,5,5,5,5,5,5,5,5,5]},\"selected\":{\"id\":\"4582\"},\"selection_policy\":{\"id\":\"4606\"}},\"id\":\"4581\",\"type\":\"ColumnDataSource\"},{\"attributes\":{\"angle\":{\"value\":0.0},\"fill_alpha\":{\"value\":1.0},\"fill_color\":{\"value\":\"#17becf\"},\"hatch_alpha\":{\"value\":1.0},\"hatch_color\":{\"value\":\"#17becf\"},\"hatch_scale\":{\"value\":12.0},\"hatch_weight\":{\"value\":1.0},\"line_alpha\":{\"value\":1.0},\"line_cap\":{\"value\":\"butt\"},\"line_color\":{\"value\":\"#17becf\"},\"line_dash\":{\"value\":[]},\"line_dash_offset\":{\"value\":0},\"line_join\":{\"value\":\"bevel\"},\"line_width\":{\"value\":1},\"marker\":{\"value\":\"circle\"},\"size\":{\"value\":5.477225575051661},\"x\":{\"field\":\"NewDeaths\"},\"y\":{\"field\":\"Infection_Risk\"}},\"id\":\"4610\",\"type\":\"Scatter\"},{\"attributes\":{\"fill_alpha\":{\"value\":0.2},\"fill_color\":{\"value\":\"#6d904f\"},\"hatch_alpha\":{\"value\":0.2},\"hatch_color\":{\"value\":\"#6d904f\"},\"line_alpha\":{\"value\":0.2},\"line_color\":{\"value\":\"#6d904f\"},\"size\":{\"value\":5.477225575051661},\"x\":{\"field\":\"NewDeaths\"},\"y\":{\"field\":\"Infection_Risk\"}},\"id\":\"4532\",\"type\":\"Scatter\"},{\"attributes\":{\"angle\":{\"value\":0.0},\"fill_alpha\":{\"value\":1.0},\"fill_color\":{\"value\":\"#30a2da\"},\"hatch_alpha\":{\"value\":1.0},\"hatch_color\":{\"value\":\"#30a2da\"},\"hatch_scale\":{\"value\":12.0},\"hatch_weight\":{\"value\":1.0},\"line_alpha\":{\"value\":1.0},\"line_cap\":{\"value\":\"butt\"},\"line_color\":{\"value\":\"#30a2da\"},\"line_dash\":{\"value\":[]},\"line_dash_offset\":{\"value\":0},\"line_join\":{\"value\":\"bevel\"},\"line_width\":{\"value\":1},\"marker\":{\"value\":\"circle\"},\"size\":{\"value\":5.477225575051661},\"x\":{\"field\":\"NewDeaths\"},\"y\":{\"field\":\"Infection_Risk\"}},\"id\":\"4480\",\"type\":\"Scatter\"},{\"attributes\":{\"callback\":null,\"renderers\":[{\"id\":\"4466\"},{\"id\":\"4487\"},{\"id\":\"4509\"},{\"id\":\"4533\"},{\"id\":\"4559\"},{\"id\":\"4587\"}],\"tags\":[\"hv_created\"],\"tooltips\":[[\"class\",\"@{class}\"],[\"NewDeaths\",\"@{NewDeaths}\"],[\"Infection_Risk\",\"@{Infection_Risk}\"]]},\"id\":\"4418\",\"type\":\"HoverTool\"},{\"attributes\":{\"click_policy\":\"mute\",\"coordinates\":null,\"group\":null,\"items\":[{\"id\":\"4479\"},{\"id\":\"4501\"},{\"id\":\"4525\"},{\"id\":\"4551\"},{\"id\":\"4579\"},{\"id\":\"4609\"}],\"location\":[0,0],\"title\":\"class\"},\"id\":\"4478\",\"type\":\"Legend\"},{\"attributes\":{\"data\":{\"Infection_Risk\":{\"__ndarray__\":\"j8L1KFyPCEA9CtejcL01QClcj8L1qDNAexSuR+F6J0DhehSuR+EmQHE9CtejkERAFK5H4XqUQUB7FK5H4XoYQD0K16NwPQpAAAAAAAAAJUDsUbgehQtBQArXo3A9ykhAj8L1KFxPOEAzMzMzMzMWQClcj8L1qDZAj8L1KFyP8j8fhetRuB4zQEjhehSuRzBAcT0K16OwREBxPQrXo3DlP5qZmZmZWTlAPQrXo3A9G0C4HoXrUbgIQD0K16NwPS1AH4XrUbjeOkCamZmZmRkwQK5H4XoULiNApHA9CtfjMUCuR+F6FC4hQOF6FK5HAUNAFK5H4XoUCkDD9Shcj0IkQGZmZmZm5kZAKVyPwvUoHkAfhetRuJ4hQLgehetRODlA4XoUrkfhEkAfhetRuB4wQM3MzMzMzBFAw/UoXI/CHkCkcD0K10NFQPYoXI/CNTFAzczMzMzMAEB7FK5H4XoIQEjhehSuxyFArkfhehSuLEDD9Shcj8LxP2ZmZmZm5iVA7FG4HoXrFEAzMzMzM7NEQHsUrkfhej5AcT0K16Nw/T97FK5H4XopQIXrUbgehRxAFK5H4XoU3j/2KFyPwvXYP+xRuB6FayxAH4XrUbgeHUCuR+F6FK4pQM3MzMzMDEJAj8L1KFyP4j89CtejcD36Pz0K16NwPS1ACtejcD0KI0DhehSuR+HiPzMzMzMzsyVAuB6F61G4vj/D9Shcj8L5PxSuR+F6FOY/pHA9CteDQkAUrkfhehTmP65H4XoULkBA7FG4HoXrB0CamZmZmdlJQClcj8L1KNw/XI/C9ShcP0DD9Shcj8LVP65H4XoUrgNAAAAAAAAA4D8K16NwPQoYQGZmZmZmZiNASOF6FK5H6T8zMzMzMzM9QLgehetRuO4/PQrXo3A9EUCF61G4HoXbP4/C9Shcj9I/CtejcD0Ktz9cj8L1KFzfP4XrUbgehds/MzMzMzMz0z+PwvUoXI8qQPYoXI/CNTlA9ihcj8I1MUAUrkfhelQ5QJqZmZmZmRdA9ihcj8KVQkBcj8L1KFwcQClcj8L1KMw/4XoUrkfhH0DsUbgehevBP3sUrkfhujRAXI/C9Shc8z+uR+F6FC40QGZmZmZm5itAw/UoXI/CI0DXo3A9CtfTP2ZmZmZmZgBAzczMzMzM3D89CtejcB1EQB+F61G4HjhA4XoUrkehSUDXo3A9CtfTP4XrUbgehds/XI/C9SjcKUBI4XoUrkfRP3sUrkfhegZA16NwPQpnUUDNzMzMzIw/QJqZmZmZmak/pHA9CtejIEApXI/C9Sj4P6RwPQrXo9A/7FG4HoXrwT+amZmZmdk/QOF6FK5H4co/exSuR+F6xD+4HoXrUbgIQOF6FK5H4do/w/UoXI/CKEDhehSuR+H6PwrXo3A9Crc/mpmZmZmZuT/hehSuRyE9QEjhehSuR9E/CtejcD0Kxz8zMzMzMzPDP2ZmZmZmpkhAH4XrUbge8T9cj8L1KLxEQKRwPQrXo/g/mpmZmZn5RUCPwvUoXI/SPx+F61G4nihA9ihcj8L1M0AUrkfhehTePz0K16Nw/TRAexSuR+F6pD/NzMzMzEwwQClcj8L1aDpAXI/C9Shc9z9mZmZmZuY4QEjhehSuR9E/pHA9CtcjNkC4HoXrUbieP5qZmZmZmdk/zczMzMzM7D/sUbgehSs+QArXo3A9Crc/H4XrUbgeHkDsUbgehevBP3sUrkfheqQ/MzMzMzMzGED2KFyPwvUzQArXo3A9CgVAuB6F61G4LUCamZmZmZkkQClcj8L1CENASOF6FK5HMUCF61G4HoXjPwAAAAAAAD9AKVyPwvUo3D8AAAAAAAAAAK5H4XoUrhBA16NwPQrXC0AUrkfhehQKQHsUrkfheoQ/4XoUrkfhDEAAAAAAAAAAAAAAAAAAAAAAexSuR+F6hD97FK5H4XqEPw==\",\"dtype\":\"float64\",\"order\":\"little\",\"shape\":[182]},\"NewDeaths\":[0,392,66,13,32,5,12,7,60,0,0,24,0,7,10,0,38,0,10,3,0,1,0,192,10,5,0,13,0,13,0,8,8,3,0,0,0,0,7,3,10,0,2,2,0,0,0,0,0,6,2,0,1,5,0,0,3,0,0,0,0,1,6,1,0,0,0,0,0,0,0,2,1,2,0,0,0,0,0,0,2,0,0,0,0,0,0,0,0,0,0,0,0,1,0,0,0,0,0,0,0,0,0,0,0,0,0,0,0,0,0,0,0,0,0,0,0,0,0,0,0,0,0,0,0,0,0,0,0,0,0,0,6,0,0,0,0,0,0,0,0,0,0,0,0,0,0,0,0,0,0,0,0,0,0,0,0,0,0,0,0,0,0,0,0,0,0,0,0,0,0,0,0,0,0,0,0,0,0,0,0,0],\"class\":[0,0,0,0,0,0,0,0,0,0,0,0,0,0,0,0,0,0,0,0,0,0,0,0,0,0,0,0,0,0,0,0,0,0,0,0,0,0,0,0,0,0,0,0,0,0,0,0,0,0,0,0,0,0,0,0,0,0,0,0,0,0,0,0,0,0,0,0,0,0,0,0,0,0,0,0,0,0,0,0,0,0,0,0,0,0,0,0,0,0,0,0,0,0,0,0,0,0,0,0,0,0,0,0,0,0,0,0,0,0,0,0,0,0,0,0,0,0,0,0,0,0,0,0,0,0,0,0,0,0,0,0,0,0,0,0,0,0,0,0,0,0,0,0,0,0,0,0,0,0,0,0,0,0,0,0,0,0,0,0,0,0,0,0,0,0,0,0,0,0,0,0,0,0,0,0,0,0,0,0,0,0]},\"selected\":{\"id\":\"4461\"},\"selection_policy\":{\"id\":\"4475\"}},\"id\":\"4460\",\"type\":\"ColumnDataSource\"},{\"attributes\":{\"fill_alpha\":{\"value\":0.1},\"fill_color\":{\"value\":\"#e5ae38\"},\"hatch_alpha\":{\"value\":0.1},\"hatch_color\":{\"value\":\"#e5ae38\"},\"line_alpha\":{\"value\":0.1},\"line_color\":{\"value\":\"#e5ae38\"},\"size\":{\"value\":5.477225575051661},\"x\":{\"field\":\"NewDeaths\"},\"y\":{\"field\":\"Infection_Risk\"}},\"id\":\"4507\",\"type\":\"Scatter\"},{\"attributes\":{\"data\":{\"Infection_Risk\":{\"__ndarray__\":\"w/UoXI/CN0BmZmZmZmYhQA==\",\"dtype\":\"float64\",\"order\":\"little\",\"shape\":[2]},\"NewDeaths\":[300,0],\"class\":[2,2]},\"selected\":{\"id\":\"4504\"},\"selection_policy\":{\"id\":\"4522\"}},\"id\":\"4503\",\"type\":\"ColumnDataSource\"},{\"attributes\":{\"margin\":[5,5,5,5],\"name\":\"HSpacer09145\",\"sizing_mode\":\"stretch_width\"},\"id\":\"4791\",\"type\":\"Spacer\"},{\"attributes\":{\"fill_color\":{\"value\":\"#fc4f30\"},\"hatch_color\":{\"value\":\"#fc4f30\"},\"line_color\":{\"value\":\"#fc4f30\"},\"size\":{\"value\":5.477225575051661},\"x\":{\"field\":\"NewDeaths\"},\"y\":{\"field\":\"Infection_Risk\"}},\"id\":\"4484\",\"type\":\"Scatter\"},{\"attributes\":{},\"id\":\"4504\",\"type\":\"Selection\"},{\"attributes\":{\"source\":{\"id\":\"4503\"}},\"id\":\"4510\",\"type\":\"CDSView\"},{\"attributes\":{},\"id\":\"4431\",\"type\":\"LinearScale\"},{\"attributes\":{\"angle\":{\"value\":0.0},\"fill_alpha\":{\"value\":1.0},\"fill_color\":{\"value\":\"#8b8b8b\"},\"hatch_alpha\":{\"value\":1.0},\"hatch_color\":{\"value\":\"#8b8b8b\"},\"hatch_scale\":{\"value\":12.0},\"hatch_weight\":{\"value\":1.0},\"line_alpha\":{\"value\":1.0},\"line_cap\":{\"value\":\"butt\"},\"line_color\":{\"value\":\"#8b8b8b\"},\"line_dash\":{\"value\":[]},\"line_dash_offset\":{\"value\":0},\"line_join\":{\"value\":\"bevel\"},\"line_width\":{\"value\":1},\"marker\":{\"value\":\"circle\"},\"size\":{\"value\":5.477225575051661},\"x\":{\"field\":\"NewDeaths\"},\"y\":{\"field\":\"Infection_Risk\"}},\"id\":\"4580\",\"type\":\"Scatter\"},{\"attributes\":{\"below\":[{\"id\":\"4433\"}],\"center\":[{\"id\":\"4436\"},{\"id\":\"4440\"}],\"height\":300,\"left\":[{\"id\":\"4437\"}],\"margin\":[5,5,5,5],\"min_border_bottom\":10,\"min_border_left\":10,\"min_border_right\":10,\"min_border_top\":10,\"renderers\":[{\"id\":\"4466\"},{\"id\":\"4487\"},{\"id\":\"4509\"},{\"id\":\"4533\"},{\"id\":\"4559\"},{\"id\":\"4587\"}],\"right\":[{\"id\":\"4478\"}],\"sizing_mode\":\"fixed\",\"title\":{\"id\":\"4425\"},\"toolbar\":{\"id\":\"4447\"},\"width\":700,\"x_range\":{\"id\":\"4416\"},\"x_scale\":{\"id\":\"4429\"},\"y_range\":{\"id\":\"4417\"},\"y_scale\":{\"id\":\"4431\"}},\"id\":\"4424\",\"subtype\":\"Figure\",\"type\":\"Plot\"},{\"attributes\":{\"coordinates\":null,\"group\":null,\"text_color\":\"black\",\"text_font_size\":\"12pt\"},\"id\":\"4425\",\"type\":\"Title\"},{\"attributes\":{\"label\":{\"value\":\"2\"},\"renderers\":[{\"id\":\"4509\"}]},\"id\":\"4525\",\"type\":\"LegendItem\"},{\"attributes\":{},\"id\":\"4442\",\"type\":\"PanTool\"},{\"attributes\":{},\"id\":\"4438\",\"type\":\"BasicTicker\"},{\"attributes\":{\"fill_alpha\":{\"value\":0.2},\"fill_color\":{\"value\":\"#e5ae38\"},\"hatch_alpha\":{\"value\":0.2},\"hatch_color\":{\"value\":\"#e5ae38\"},\"line_alpha\":{\"value\":0.2},\"line_color\":{\"value\":\"#e5ae38\"},\"size\":{\"value\":5.477225575051661},\"x\":{\"field\":\"NewDeaths\"},\"y\":{\"field\":\"Infection_Risk\"}},\"id\":\"4508\",\"type\":\"Scatter\"},{\"attributes\":{\"label\":{\"value\":\"1\"},\"renderers\":[{\"id\":\"4487\"}]},\"id\":\"4501\",\"type\":\"LegendItem\"},{\"attributes\":{\"data\":{\"Infection_Risk\":{\"__ndarray__\":\"KVyPwvXoQkD2KFyPwjU+QNejcD0KlzdAw/UoXI9iRkA=\",\"dtype\":\"float64\",\"order\":\"little\",\"shape\":[4]},\"NewDeaths\":[121,172,146,20],\"class\":[4,4,4,4]},\"selected\":{\"id\":\"4554\"},\"selection_policy\":{\"id\":\"4576\"}},\"id\":\"4553\",\"type\":\"ColumnDataSource\"},{\"attributes\":{},\"id\":\"4582\",\"type\":\"Selection\"},{\"attributes\":{\"axis_label\":\"NewDeaths\",\"coordinates\":null,\"formatter\":{\"id\":\"4455\"},\"group\":null,\"major_label_policy\":{\"id\":\"4456\"},\"ticker\":{\"id\":\"4434\"}},\"id\":\"4433\",\"type\":\"LinearAxis\"},{\"attributes\":{\"axis\":{\"id\":\"4437\"},\"coordinates\":null,\"dimension\":1,\"grid_line_color\":null,\"group\":null,\"ticker\":null},\"id\":\"4440\",\"type\":\"Grid\"},{\"attributes\":{\"source\":{\"id\":\"4481\"}},\"id\":\"4488\",\"type\":\"CDSView\"},{\"attributes\":{},\"id\":\"4434\",\"type\":\"BasicTicker\"},{\"attributes\":{\"axis\":{\"id\":\"4433\"},\"coordinates\":null,\"grid_line_color\":null,\"group\":null,\"ticker\":null},\"id\":\"4436\",\"type\":\"Grid\"},{\"attributes\":{\"axis_label\":\"Infection_Risk\",\"coordinates\":null,\"formatter\":{\"id\":\"4458\"},\"group\":null,\"major_label_policy\":{\"id\":\"4459\"},\"ticker\":{\"id\":\"4438\"}},\"id\":\"4437\",\"type\":\"LinearAxis\"},{\"attributes\":{},\"id\":\"4461\",\"type\":\"Selection\"},{\"attributes\":{},\"id\":\"4441\",\"type\":\"SaveTool\"},{\"attributes\":{\"fill_color\":{\"value\":\"#17becf\"},\"hatch_color\":{\"value\":\"#17becf\"},\"line_color\":{\"value\":\"#17becf\"},\"size\":{\"value\":5.477225575051661},\"x\":{\"field\":\"NewDeaths\"},\"y\":{\"field\":\"Infection_Risk\"}},\"id\":\"4584\",\"type\":\"Scatter\"},{\"attributes\":{},\"id\":\"4443\",\"type\":\"WheelZoomTool\"},{\"attributes\":{},\"id\":\"4482\",\"type\":\"Selection\"},{\"attributes\":{\"fill_alpha\":{\"value\":0.1},\"fill_color\":{\"value\":\"#fc4f30\"},\"hatch_alpha\":{\"value\":0.1},\"hatch_color\":{\"value\":\"#fc4f30\"},\"line_alpha\":{\"value\":0.1},\"line_color\":{\"value\":\"#fc4f30\"},\"size\":{\"value\":5.477225575051661},\"x\":{\"field\":\"NewDeaths\"},\"y\":{\"field\":\"Infection_Risk\"}},\"id\":\"4485\",\"type\":\"Scatter\"},{\"attributes\":{\"overlay\":{\"id\":\"4446\"}},\"id\":\"4444\",\"type\":\"BoxZoomTool\"},{\"attributes\":{},\"id\":\"4475\",\"type\":\"UnionRenderers\"},{\"attributes\":{\"coordinates\":null,\"data_source\":{\"id\":\"4481\"},\"glyph\":{\"id\":\"4484\"},\"group\":null,\"hover_glyph\":null,\"muted_glyph\":{\"id\":\"4486\"},\"nonselection_glyph\":{\"id\":\"4485\"},\"selection_glyph\":{\"id\":\"4502\"},\"view\":{\"id\":\"4488\"}},\"id\":\"4487\",\"type\":\"GlyphRenderer\"},{\"attributes\":{},\"id\":\"4445\",\"type\":\"ResetTool\"},{\"attributes\":{\"angle\":{\"value\":0.0},\"fill_alpha\":{\"value\":1.0},\"fill_color\":{\"value\":\"#6d904f\"},\"hatch_alpha\":{\"value\":1.0},\"hatch_color\":{\"value\":\"#6d904f\"},\"hatch_scale\":{\"value\":12.0},\"hatch_weight\":{\"value\":1.0},\"line_alpha\":{\"value\":1.0},\"line_cap\":{\"value\":\"butt\"},\"line_color\":{\"value\":\"#6d904f\"},\"line_dash\":{\"value\":[]},\"line_dash_offset\":{\"value\":0},\"line_join\":{\"value\":\"bevel\"},\"line_width\":{\"value\":1},\"marker\":{\"value\":\"circle\"},\"size\":{\"value\":5.477225575051661},\"x\":{\"field\":\"NewDeaths\"},\"y\":{\"field\":\"Infection_Risk\"}},\"id\":\"4552\",\"type\":\"Scatter\"},{\"attributes\":{\"bottom_units\":\"screen\",\"coordinates\":null,\"fill_alpha\":0.5,\"fill_color\":\"lightgrey\",\"group\":null,\"left_units\":\"screen\",\"level\":\"overlay\",\"line_alpha\":1.0,\"line_color\":\"black\",\"line_dash\":[4,4],\"line_width\":2,\"right_units\":\"screen\",\"syncable\":false,\"top_units\":\"screen\"},\"id\":\"4446\",\"type\":\"BoxAnnotation\"},{\"attributes\":{\"fill_alpha\":{\"value\":0.2},\"fill_color\":{\"value\":\"#fc4f30\"},\"hatch_alpha\":{\"value\":0.2},\"hatch_color\":{\"value\":\"#fc4f30\"},\"line_alpha\":{\"value\":0.2},\"line_color\":{\"value\":\"#fc4f30\"},\"size\":{\"value\":5.477225575051661},\"x\":{\"field\":\"NewDeaths\"},\"y\":{\"field\":\"Infection_Risk\"}},\"id\":\"4486\",\"type\":\"Scatter\"},{\"attributes\":{},\"id\":\"4455\",\"type\":\"BasicTickFormatter\"},{\"attributes\":{\"fill_color\":{\"value\":\"#8b8b8b\"},\"hatch_color\":{\"value\":\"#8b8b8b\"},\"line_color\":{\"value\":\"#8b8b8b\"},\"size\":{\"value\":5.477225575051661},\"x\":{\"field\":\"NewDeaths\"},\"y\":{\"field\":\"Infection_Risk\"}},\"id\":\"4556\",\"type\":\"Scatter\"},{\"attributes\":{\"source\":{\"id\":\"4581\"}},\"id\":\"4588\",\"type\":\"CDSView\"},{\"attributes\":{\"data\":{\"Infection_Risk\":{\"__ndarray__\":\"MzMzMzOzK0DD9Shcj0IoQHsUrkfhejhA16NwPQrXE0DsUbgehWsvQFK4HoXrETBAZmZmZmYmRED2KFyPwrUxQOxRuB6Fa0NAZmZmZmZmLkA=\",\"dtype\":\"float64\",\"order\":\"little\",\"shape\":[10]},\"NewDeaths\":[199,398,113,129,110,26,40,75,2,34],\"class\":[3,3,3,3,3,3,3,3,3,3]},\"selected\":{\"id\":\"4528\"},\"selection_policy\":{\"id\":\"4548\"}},\"id\":\"4527\",\"type\":\"ColumnDataSource\"},{\"attributes\":{},\"id\":\"4606\",\"type\":\"UnionRenderers\"},{\"attributes\":{\"fill_alpha\":{\"value\":0.1},\"fill_color\":{\"value\":\"#17becf\"},\"hatch_alpha\":{\"value\":0.1},\"hatch_color\":{\"value\":\"#17becf\"},\"line_alpha\":{\"value\":0.1},\"line_color\":{\"value\":\"#17becf\"},\"size\":{\"value\":5.477225575051661},\"x\":{\"field\":\"NewDeaths\"},\"y\":{\"field\":\"Infection_Risk\"}},\"id\":\"4585\",\"type\":\"Scatter\"},{\"attributes\":{\"coordinates\":null,\"data_source\":{\"id\":\"4581\"},\"glyph\":{\"id\":\"4584\"},\"group\":null,\"hover_glyph\":null,\"muted_glyph\":{\"id\":\"4586\"},\"nonselection_glyph\":{\"id\":\"4585\"},\"selection_glyph\":{\"id\":\"4610\"},\"view\":{\"id\":\"4588\"}},\"id\":\"4587\",\"type\":\"GlyphRenderer\"},{\"attributes\":{\"data\":{\"Infection_Risk\":{\"__ndarray__\":\"ZmZmZmZmOEA=\",\"dtype\":\"float64\",\"order\":\"little\",\"shape\":[1]},\"NewDeaths\":[354],\"class\":[1]},\"selected\":{\"id\":\"4482\"},\"selection_policy\":{\"id\":\"4498\"}},\"id\":\"4481\",\"type\":\"ColumnDataSource\"},{\"attributes\":{\"fill_alpha\":{\"value\":0.2},\"fill_color\":{\"value\":\"#17becf\"},\"hatch_alpha\":{\"value\":0.2},\"hatch_color\":{\"value\":\"#17becf\"},\"line_alpha\":{\"value\":0.2},\"line_color\":{\"value\":\"#17becf\"},\"size\":{\"value\":5.477225575051661},\"x\":{\"field\":\"NewDeaths\"},\"y\":{\"field\":\"Infection_Risk\"}},\"id\":\"4586\",\"type\":\"Scatter\"},{\"attributes\":{\"fill_alpha\":{\"value\":0.1},\"fill_color\":{\"value\":\"#30a2da\"},\"hatch_alpha\":{\"value\":0.1},\"hatch_color\":{\"value\":\"#30a2da\"},\"line_alpha\":{\"value\":0.1},\"line_color\":{\"value\":\"#30a2da\"},\"size\":{\"value\":5.477225575051661},\"x\":{\"field\":\"NewDeaths\"},\"y\":{\"field\":\"Infection_Risk\"}},\"id\":\"4464\",\"type\":\"Scatter\"},{\"attributes\":{\"label\":{\"value\":\"5\"},\"renderers\":[{\"id\":\"4587\"}]},\"id\":\"4609\",\"type\":\"LegendItem\"},{\"attributes\":{\"angle\":{\"value\":0.0},\"fill_alpha\":{\"value\":1.0},\"fill_color\":{\"value\":\"#e5ae38\"},\"hatch_alpha\":{\"value\":1.0},\"hatch_color\":{\"value\":\"#e5ae38\"},\"hatch_scale\":{\"value\":12.0},\"hatch_weight\":{\"value\":1.0},\"line_alpha\":{\"value\":1.0},\"line_cap\":{\"value\":\"butt\"},\"line_color\":{\"value\":\"#e5ae38\"},\"line_dash\":{\"value\":[]},\"line_dash_offset\":{\"value\":0},\"line_join\":{\"value\":\"bevel\"},\"line_width\":{\"value\":1},\"marker\":{\"value\":\"circle\"},\"size\":{\"value\":5.477225575051661},\"x\":{\"field\":\"NewDeaths\"},\"y\":{\"field\":\"Infection_Risk\"}},\"id\":\"4526\",\"type\":\"Scatter\"},{\"attributes\":{\"tools\":[{\"id\":\"4418\"},{\"id\":\"4441\"},{\"id\":\"4442\"},{\"id\":\"4443\"},{\"id\":\"4444\"},{\"id\":\"4445\"}]},\"id\":\"4447\",\"type\":\"Toolbar\"},{\"attributes\":{\"fill_color\":{\"value\":\"#6d904f\"},\"hatch_color\":{\"value\":\"#6d904f\"},\"line_color\":{\"value\":\"#6d904f\"},\"size\":{\"value\":5.477225575051661},\"x\":{\"field\":\"NewDeaths\"},\"y\":{\"field\":\"Infection_Risk\"}},\"id\":\"4530\",\"type\":\"Scatter\"},{\"attributes\":{},\"id\":\"4498\",\"type\":\"UnionRenderers\"},{\"attributes\":{},\"id\":\"4554\",\"type\":\"Selection\"},{\"attributes\":{},\"id\":\"4528\",\"type\":\"Selection\"},{\"attributes\":{},\"id\":\"4576\",\"type\":\"UnionRenderers\"},{\"attributes\":{\"fill_color\":{\"value\":\"#e5ae38\"},\"hatch_color\":{\"value\":\"#e5ae38\"},\"line_color\":{\"value\":\"#e5ae38\"},\"size\":{\"value\":5.477225575051661},\"x\":{\"field\":\"NewDeaths\"},\"y\":{\"field\":\"Infection_Risk\"}},\"id\":\"4506\",\"type\":\"Scatter\"},{\"attributes\":{\"source\":{\"id\":\"4553\"}},\"id\":\"4560\",\"type\":\"CDSView\"},{\"attributes\":{\"fill_color\":{\"value\":\"#30a2da\"},\"hatch_color\":{\"value\":\"#30a2da\"},\"line_color\":{\"value\":\"#30a2da\"},\"size\":{\"value\":5.477225575051661},\"x\":{\"field\":\"NewDeaths\"},\"y\":{\"field\":\"Infection_Risk\"}},\"id\":\"4463\",\"type\":\"Scatter\"},{\"attributes\":{\"fill_alpha\":{\"value\":0.1},\"fill_color\":{\"value\":\"#8b8b8b\"},\"hatch_alpha\":{\"value\":0.1},\"hatch_color\":{\"value\":\"#8b8b8b\"},\"line_alpha\":{\"value\":0.1},\"line_color\":{\"value\":\"#8b8b8b\"},\"size\":{\"value\":5.477225575051661},\"x\":{\"field\":\"NewDeaths\"},\"y\":{\"field\":\"Infection_Risk\"}},\"id\":\"4557\",\"type\":\"Scatter\"},{\"attributes\":{\"margin\":[5,5,5,5],\"name\":\"HSpacer09144\",\"sizing_mode\":\"stretch_width\"},\"id\":\"4415\",\"type\":\"Spacer\"},{\"attributes\":{\"coordinates\":null,\"data_source\":{\"id\":\"4553\"},\"glyph\":{\"id\":\"4556\"},\"group\":null,\"hover_glyph\":null,\"muted_glyph\":{\"id\":\"4558\"},\"nonselection_glyph\":{\"id\":\"4557\"},\"selection_glyph\":{\"id\":\"4580\"},\"view\":{\"id\":\"4560\"}},\"id\":\"4559\",\"type\":\"GlyphRenderer\"},{\"attributes\":{\"children\":[{\"id\":\"4415\"},{\"id\":\"4424\"},{\"id\":\"4791\"}],\"margin\":[0,0,0,0],\"name\":\"Row09140\",\"tags\":[\"embedded\"]},\"id\":\"4414\",\"type\":\"Row\"},{\"attributes\":{\"fill_alpha\":{\"value\":0.2},\"fill_color\":{\"value\":\"#8b8b8b\"},\"hatch_alpha\":{\"value\":0.2},\"hatch_color\":{\"value\":\"#8b8b8b\"},\"line_alpha\":{\"value\":0.2},\"line_color\":{\"value\":\"#8b8b8b\"},\"size\":{\"value\":5.477225575051661},\"x\":{\"field\":\"NewDeaths\"},\"y\":{\"field\":\"Infection_Risk\"}},\"id\":\"4558\",\"type\":\"Scatter\"},{\"attributes\":{\"label\":{\"value\":\"4\"},\"renderers\":[{\"id\":\"4559\"}]},\"id\":\"4579\",\"type\":\"LegendItem\"}],\"root_ids\":[\"4414\"]},\"title\":\"Bokeh Application\",\"version\":\"2.4.2\"}};\n",
       "    var render_items = [{\"docid\":\"ffba3479-6172-4d73-b62c-f75483c0ab52\",\"root_ids\":[\"4414\"],\"roots\":{\"4414\":\"f1b96332-bccb-4c7a-967a-2532fb200cd7\"}}];\n",
       "    root.Bokeh.embed.embed_items_notebook(docs_json, render_items);\n",
       "  }\n",
       "  if (root.Bokeh !== undefined && root.Bokeh.Panel !== undefined) {\n",
       "    embed_document(root);\n",
       "  } else {\n",
       "    var attempts = 0;\n",
       "    var timer = setInterval(function(root) {\n",
       "      if (root.Bokeh !== undefined && root.Bokeh.Panel !== undefined) {\n",
       "        clearInterval(timer);\n",
       "        embed_document(root);\n",
       "      } else if (document.readyState == \"complete\") {\n",
       "        attempts++;\n",
       "        if (attempts > 200) {\n",
       "          clearInterval(timer);\n",
       "          console.log(\"Bokeh: ERROR: Unable to run BokehJS code because BokehJS library is missing\");\n",
       "        }\n",
       "      }\n",
       "    }, 25, root)\n",
       "  }\n",
       "})(window);</script>"
      ],
      "text/plain": [
       ":NdOverlay   [class]\n",
       "   :Scatter   [NewDeaths]   (Infection_Risk)"
      ]
     },
     "execution_count": 57,
     "metadata": {
      "application/vnd.holoviews_exec.v0+json": {
       "id": "4414"
      }
     },
     "output_type": "execute_result"
    }
   ],
   "source": [
    "# Create a scatterplot of covid_data\n",
    "covid_data_df.hvplot.scatter(x=\"NewDeaths\", y=\"Infection_Risk\", by=\"class\")"
   ]
  },
  {
   "cell_type": "code",
   "execution_count": 58,
   "metadata": {},
   "outputs": [
    {
     "data": {},
     "metadata": {},
     "output_type": "display_data"
    },
    {
     "data": {
      "application/vnd.holoviews_exec.v0+json": "",
      "text/html": [
       "<div id='4893'>\n",
       "\n",
       "\n",
       "\n",
       "\n",
       "\n",
       "  <div class=\"bk-root\" id=\"06d94077-3c50-4d86-8f27-9cdc21f13ec5\" data-root-id=\"4893\"></div>\n",
       "</div>\n",
       "<script type=\"application/javascript\">(function(root) {\n",
       "  function embed_document(root) {\n",
       "    var docs_json = {\"38afd765-c180-43f1-a108-9c8a88c91504\":{\"defs\":[{\"extends\":null,\"module\":null,\"name\":\"ReactiveHTML1\",\"overrides\":[],\"properties\":[]},{\"extends\":null,\"module\":null,\"name\":\"FlexBox1\",\"overrides\":[],\"properties\":[{\"default\":\"flex-start\",\"kind\":null,\"name\":\"align_content\"},{\"default\":\"flex-start\",\"kind\":null,\"name\":\"align_items\"},{\"default\":\"row\",\"kind\":null,\"name\":\"flex_direction\"},{\"default\":\"wrap\",\"kind\":null,\"name\":\"flex_wrap\"},{\"default\":\"flex-start\",\"kind\":null,\"name\":\"justify_content\"}]},{\"extends\":null,\"module\":null,\"name\":\"TemplateActions1\",\"overrides\":[],\"properties\":[{\"default\":0,\"kind\":null,\"name\":\"open_modal\"},{\"default\":0,\"kind\":null,\"name\":\"close_modal\"}]},{\"extends\":null,\"module\":null,\"name\":\"MaterialTemplateActions1\",\"overrides\":[],\"properties\":[{\"default\":0,\"kind\":null,\"name\":\"open_modal\"},{\"default\":0,\"kind\":null,\"name\":\"close_modal\"}]}],\"roots\":{\"references\":[{\"attributes\":{},\"id\":\"4921\",\"type\":\"PanTool\"},{\"attributes\":{},\"id\":\"4934\",\"type\":\"BasicTickFormatter\"},{\"attributes\":{\"axis_label\":\"Infection_Risk\",\"coordinates\":null,\"formatter\":{\"id\":\"4937\"},\"group\":null,\"major_label_policy\":{\"id\":\"4938\"},\"ticker\":{\"id\":\"4917\"}},\"id\":\"4916\",\"type\":\"LinearAxis\"},{\"attributes\":{\"axis\":{\"id\":\"4916\"},\"coordinates\":null,\"dimension\":1,\"grid_line_color\":null,\"group\":null,\"ticker\":null},\"id\":\"4919\",\"type\":\"Grid\"},{\"attributes\":{},\"id\":\"4917\",\"type\":\"BasicTicker\"},{\"attributes\":{},\"id\":\"4922\",\"type\":\"WheelZoomTool\"},{\"attributes\":{\"coordinates\":null,\"data_source\":{\"id\":\"5032\"},\"glyph\":{\"id\":\"5035\"},\"group\":null,\"hover_glyph\":null,\"muted_glyph\":{\"id\":\"5037\"},\"nonselection_glyph\":{\"id\":\"5036\"},\"selection_glyph\":{\"id\":\"5059\"},\"view\":{\"id\":\"5039\"}},\"id\":\"5038\",\"type\":\"GlyphRenderer\"},{\"attributes\":{},\"id\":\"4920\",\"type\":\"SaveTool\"},{\"attributes\":{\"fill_alpha\":{\"value\":0.1},\"fill_color\":{\"value\":\"#17becf\"},\"hatch_alpha\":{\"value\":0.1},\"hatch_color\":{\"value\":\"#17becf\"},\"line_alpha\":{\"value\":0.1},\"line_color\":{\"value\":\"#17becf\"},\"size\":{\"value\":5.477225575051661},\"x\":{\"field\":\"NewCases\"},\"y\":{\"field\":\"Infection_Risk\"}},\"id\":\"5064\",\"type\":\"Scatter\"},{\"attributes\":{\"overlay\":{\"id\":\"4925\"}},\"id\":\"4923\",\"type\":\"BoxZoomTool\"},{\"attributes\":{\"label\":{\"value\":\"1\"},\"renderers\":[{\"id\":\"4966\"}]},\"id\":\"4980\",\"type\":\"LegendItem\"},{\"attributes\":{\"fill_alpha\":{\"value\":0.1},\"fill_color\":{\"value\":\"#fc4f30\"},\"hatch_alpha\":{\"value\":0.1},\"hatch_color\":{\"value\":\"#fc4f30\"},\"line_alpha\":{\"value\":0.1},\"line_color\":{\"value\":\"#fc4f30\"},\"size\":{\"value\":5.477225575051661},\"x\":{\"field\":\"NewCases\"},\"y\":{\"field\":\"Infection_Risk\"}},\"id\":\"4964\",\"type\":\"Scatter\"},{\"attributes\":{},\"id\":\"4924\",\"type\":\"ResetTool\"},{\"attributes\":{},\"id\":\"4954\",\"type\":\"UnionRenderers\"},{\"attributes\":{\"data\":{\"Infection_Risk\":{\"__ndarray__\":\"MzMzMzOzK0DD9Shcj0IoQHsUrkfhejhA16NwPQrXE0DsUbgehWsvQFK4HoXrETBAZmZmZmYmRED2KFyPwrUxQOxRuB6Fa0NAZmZmZmZmLkA=\",\"dtype\":\"float64\",\"order\":\"little\",\"shape\":[10]},\"NewCases\":[34576,25382,24298,49063,8241,58235,37910,8761,11188,10675],\"class\":[3,3,3,3,3,3,3,3,3,3]},\"selected\":{\"id\":\"5007\"},\"selection_policy\":{\"id\":\"5027\"}},\"id\":\"5006\",\"type\":\"ColumnDataSource\"},{\"attributes\":{\"coordinates\":null,\"data_source\":{\"id\":\"4960\"},\"glyph\":{\"id\":\"4963\"},\"group\":null,\"hover_glyph\":null,\"muted_glyph\":{\"id\":\"4965\"},\"nonselection_glyph\":{\"id\":\"4964\"},\"selection_glyph\":{\"id\":\"4981\"},\"view\":{\"id\":\"4967\"}},\"id\":\"4966\",\"type\":\"GlyphRenderer\"},{\"attributes\":{\"bottom_units\":\"screen\",\"coordinates\":null,\"fill_alpha\":0.5,\"fill_color\":\"lightgrey\",\"group\":null,\"left_units\":\"screen\",\"level\":\"overlay\",\"line_alpha\":1.0,\"line_color\":\"black\",\"line_dash\":[4,4],\"line_width\":2,\"right_units\":\"screen\",\"syncable\":false,\"top_units\":\"screen\"},\"id\":\"4925\",\"type\":\"BoxAnnotation\"},{\"attributes\":{\"angle\":{\"value\":0.0},\"fill_alpha\":{\"value\":1.0},\"fill_color\":{\"value\":\"#6d904f\"},\"hatch_alpha\":{\"value\":1.0},\"hatch_color\":{\"value\":\"#6d904f\"},\"hatch_scale\":{\"value\":12.0},\"hatch_weight\":{\"value\":1.0},\"line_alpha\":{\"value\":1.0},\"line_cap\":{\"value\":\"butt\"},\"line_color\":{\"value\":\"#6d904f\"},\"line_dash\":{\"value\":[]},\"line_dash_offset\":{\"value\":0},\"line_join\":{\"value\":\"bevel\"},\"line_width\":{\"value\":1},\"marker\":{\"value\":\"circle\"},\"size\":{\"value\":5.477225575051661},\"x\":{\"field\":\"NewCases\"},\"y\":{\"field\":\"Infection_Risk\"}},\"id\":\"5031\",\"type\":\"Scatter\"},{\"attributes\":{\"source\":{\"id\":\"4939\"}},\"id\":\"4946\",\"type\":\"CDSView\"},{\"attributes\":{\"angle\":{\"value\":0.0},\"fill_alpha\":{\"value\":1.0},\"fill_color\":{\"value\":\"#17becf\"},\"hatch_alpha\":{\"value\":1.0},\"hatch_color\":{\"value\":\"#17becf\"},\"hatch_scale\":{\"value\":12.0},\"hatch_weight\":{\"value\":1.0},\"line_alpha\":{\"value\":1.0},\"line_cap\":{\"value\":\"butt\"},\"line_color\":{\"value\":\"#17becf\"},\"line_dash\":{\"value\":[]},\"line_dash_offset\":{\"value\":0},\"line_join\":{\"value\":\"bevel\"},\"line_width\":{\"value\":1},\"marker\":{\"value\":\"circle\"},\"size\":{\"value\":5.477225575051661},\"x\":{\"field\":\"NewCases\"},\"y\":{\"field\":\"Infection_Risk\"}},\"id\":\"5089\",\"type\":\"Scatter\"},{\"attributes\":{\"source\":{\"id\":\"4960\"}},\"id\":\"4967\",\"type\":\"CDSView\"},{\"attributes\":{},\"id\":\"4935\",\"type\":\"AllLabels\"},{\"attributes\":{\"fill_alpha\":{\"value\":0.2},\"fill_color\":{\"value\":\"#fc4f30\"},\"hatch_alpha\":{\"value\":0.2},\"hatch_color\":{\"value\":\"#fc4f30\"},\"line_alpha\":{\"value\":0.2},\"line_color\":{\"value\":\"#fc4f30\"},\"size\":{\"value\":5.477225575051661},\"x\":{\"field\":\"NewCases\"},\"y\":{\"field\":\"Infection_Risk\"}},\"id\":\"4965\",\"type\":\"Scatter\"},{\"attributes\":{\"data\":{\"Infection_Risk\":{\"__ndarray__\":\"ZmZmZmZmOEA=\",\"dtype\":\"float64\",\"order\":\"little\",\"shape\":[1]},\"NewCases\":[11781],\"class\":[1]},\"selected\":{\"id\":\"4961\"},\"selection_policy\":{\"id\":\"4977\"}},\"id\":\"4960\",\"type\":\"ColumnDataSource\"},{\"attributes\":{\"source\":{\"id\":\"5060\"}},\"id\":\"5067\",\"type\":\"CDSView\"},{\"attributes\":{\"fill_color\":{\"value\":\"#8b8b8b\"},\"hatch_color\":{\"value\":\"#8b8b8b\"},\"line_color\":{\"value\":\"#8b8b8b\"},\"size\":{\"value\":5.477225575051661},\"x\":{\"field\":\"NewCases\"},\"y\":{\"field\":\"Infection_Risk\"}},\"id\":\"5035\",\"type\":\"Scatter\"},{\"attributes\":{},\"id\":\"4977\",\"type\":\"UnionRenderers\"},{\"attributes\":{\"end\":353941.54285714286,\"reset_end\":353941.54285714286,\"reset_start\":-14545.542857142857,\"start\":-14545.542857142857,\"tags\":[[[\"NewCases\",\"NewCases\",null]]]},\"id\":\"4895\",\"type\":\"Range1d\"},{\"attributes\":{\"fill_color\":{\"value\":\"#17becf\"},\"hatch_color\":{\"value\":\"#17becf\"},\"line_color\":{\"value\":\"#17becf\"},\"size\":{\"value\":5.477225575051661},\"x\":{\"field\":\"NewCases\"},\"y\":{\"field\":\"Infection_Risk\"}},\"id\":\"5063\",\"type\":\"Scatter\"},{\"attributes\":{},\"id\":\"4913\",\"type\":\"BasicTicker\"},{\"attributes\":{\"coordinates\":null,\"data_source\":{\"id\":\"5060\"},\"glyph\":{\"id\":\"5063\"},\"group\":null,\"hover_glyph\":null,\"muted_glyph\":{\"id\":\"5065\"},\"nonselection_glyph\":{\"id\":\"5064\"},\"selection_glyph\":{\"id\":\"5089\"},\"view\":{\"id\":\"5067\"}},\"id\":\"5066\",\"type\":\"GlyphRenderer\"},{\"attributes\":{\"fill_alpha\":{\"value\":0.2},\"fill_color\":{\"value\":\"#17becf\"},\"hatch_alpha\":{\"value\":0.2},\"hatch_color\":{\"value\":\"#17becf\"},\"line_alpha\":{\"value\":0.2},\"line_color\":{\"value\":\"#17becf\"},\"size\":{\"value\":5.477225575051661},\"x\":{\"field\":\"NewCases\"},\"y\":{\"field\":\"Infection_Risk\"}},\"id\":\"5065\",\"type\":\"Scatter\"},{\"attributes\":{\"label\":{\"value\":\"5\"},\"renderers\":[{\"id\":\"5066\"}]},\"id\":\"5088\",\"type\":\"LegendItem\"},{\"attributes\":{\"label\":{\"value\":\"0\"},\"renderers\":[{\"id\":\"4945\"}]},\"id\":\"4958\",\"type\":\"LegendItem\"},{\"attributes\":{\"tools\":[{\"id\":\"4897\"},{\"id\":\"4920\"},{\"id\":\"4921\"},{\"id\":\"4922\"},{\"id\":\"4923\"},{\"id\":\"4924\"}]},\"id\":\"4926\",\"type\":\"Toolbar\"},{\"attributes\":{},\"id\":\"5055\",\"type\":\"UnionRenderers\"},{\"attributes\":{\"fill_alpha\":{\"value\":0.1},\"fill_color\":{\"value\":\"#30a2da\"},\"hatch_alpha\":{\"value\":0.1},\"hatch_color\":{\"value\":\"#30a2da\"},\"line_alpha\":{\"value\":0.1},\"line_color\":{\"value\":\"#30a2da\"},\"size\":{\"value\":5.477225575051661},\"x\":{\"field\":\"NewCases\"},\"y\":{\"field\":\"Infection_Risk\"}},\"id\":\"4943\",\"type\":\"Scatter\"},{\"attributes\":{\"angle\":{\"value\":0.0},\"fill_alpha\":{\"value\":1.0},\"fill_color\":{\"value\":\"#e5ae38\"},\"hatch_alpha\":{\"value\":1.0},\"hatch_color\":{\"value\":\"#e5ae38\"},\"hatch_scale\":{\"value\":12.0},\"hatch_weight\":{\"value\":1.0},\"line_alpha\":{\"value\":1.0},\"line_cap\":{\"value\":\"butt\"},\"line_color\":{\"value\":\"#e5ae38\"},\"line_dash\":{\"value\":[]},\"line_dash_offset\":{\"value\":0},\"line_join\":{\"value\":\"bevel\"},\"line_width\":{\"value\":1},\"marker\":{\"value\":\"circle\"},\"size\":{\"value\":5.477225575051661},\"x\":{\"field\":\"NewCases\"},\"y\":{\"field\":\"Infection_Risk\"}},\"id\":\"5005\",\"type\":\"Scatter\"},{\"attributes\":{\"click_policy\":\"mute\",\"coordinates\":null,\"group\":null,\"items\":[{\"id\":\"4958\"},{\"id\":\"4980\"},{\"id\":\"5004\"},{\"id\":\"5030\"},{\"id\":\"5058\"},{\"id\":\"5088\"}],\"location\":[0,0],\"title\":\"class\"},\"id\":\"4957\",\"type\":\"Legend\"},{\"attributes\":{},\"id\":\"5033\",\"type\":\"Selection\"},{\"attributes\":{},\"id\":\"5027\",\"type\":\"UnionRenderers\"},{\"attributes\":{\"source\":{\"id\":\"5032\"}},\"id\":\"5039\",\"type\":\"CDSView\"},{\"attributes\":{\"fill_color\":{\"value\":\"#6d904f\"},\"hatch_color\":{\"value\":\"#6d904f\"},\"line_color\":{\"value\":\"#6d904f\"},\"size\":{\"value\":5.477225575051661},\"x\":{\"field\":\"NewCases\"},\"y\":{\"field\":\"Infection_Risk\"}},\"id\":\"5009\",\"type\":\"Scatter\"},{\"attributes\":{\"margin\":[5,5,5,5],\"name\":\"HSpacer10215\",\"sizing_mode\":\"stretch_width\"},\"id\":\"4894\",\"type\":\"Spacer\"},{\"attributes\":{\"data\":{\"Infection_Risk\":{\"__ndarray__\":\"MzMzMzMzMUApXI/C9aggQDMzMzMzMwFAMzMzMzMzEUDNzMzMzMwoQGZmZmZmJkBA16NwPQrXE0BxPQrXo/AhQI/C9ShcDzxAUrgehevRLUBmZmZmZqY+QIXrUbgeRTxAw/UoXI+CMEDsUbgehesmQEjhehSuxytAcT0K16NwEEDhehSuR2FAQJqZmZmZGSdAmpmZmZmZAUA9CtejcN1CQBSuR+F6VEBA\",\"dtype\":\"float64\",\"order\":\"little\",\"shape\":[21]},\"NewCases\":[15303,1530,4857,3658,21839,13457,26050,6344,16234,3725,8104,9147,1333,15914,103,0,3329,114,2212,0,0],\"class\":[5,5,5,5,5,5,5,5,5,5,5,5,5,5,5,5,5,5,5,5,5]},\"selected\":{\"id\":\"5061\"},\"selection_policy\":{\"id\":\"5085\"}},\"id\":\"5060\",\"type\":\"ColumnDataSource\"},{\"attributes\":{\"fill_alpha\":{\"value\":0.1},\"fill_color\":{\"value\":\"#8b8b8b\"},\"hatch_alpha\":{\"value\":0.1},\"hatch_color\":{\"value\":\"#8b8b8b\"},\"line_alpha\":{\"value\":0.1},\"line_color\":{\"value\":\"#8b8b8b\"},\"size\":{\"value\":5.477225575051661},\"x\":{\"field\":\"NewCases\"},\"y\":{\"field\":\"Infection_Risk\"}},\"id\":\"5036\",\"type\":\"Scatter\"},{\"attributes\":{\"children\":[{\"id\":\"4894\"},{\"id\":\"4903\"},{\"id\":\"5270\"}],\"margin\":[0,0,0,0],\"name\":\"Row10211\",\"tags\":[\"embedded\"]},\"id\":\"4893\",\"type\":\"Row\"},{\"attributes\":{\"label\":{\"value\":\"3\"},\"renderers\":[{\"id\":\"5012\"}]},\"id\":\"5030\",\"type\":\"LegendItem\"},{\"attributes\":{},\"id\":\"4940\",\"type\":\"Selection\"},{\"attributes\":{},\"id\":\"5007\",\"type\":\"Selection\"},{\"attributes\":{},\"id\":\"5085\",\"type\":\"UnionRenderers\"},{\"attributes\":{\"angle\":{\"value\":0.0},\"fill_alpha\":{\"value\":1.0},\"fill_color\":{\"value\":\"#fc4f30\"},\"hatch_alpha\":{\"value\":1.0},\"hatch_color\":{\"value\":\"#fc4f30\"},\"hatch_scale\":{\"value\":12.0},\"hatch_weight\":{\"value\":1.0},\"line_alpha\":{\"value\":1.0},\"line_cap\":{\"value\":\"butt\"},\"line_color\":{\"value\":\"#fc4f30\"},\"line_dash\":{\"value\":[]},\"line_dash_offset\":{\"value\":0},\"line_join\":{\"value\":\"bevel\"},\"line_width\":{\"value\":1},\"marker\":{\"value\":\"circle\"},\"size\":{\"value\":5.477225575051661},\"x\":{\"field\":\"NewCases\"},\"y\":{\"field\":\"Infection_Risk\"}},\"id\":\"4981\",\"type\":\"Scatter\"},{\"attributes\":{\"end\":76.571,\"reset_end\":76.571,\"reset_start\":-6.961,\"start\":-6.961,\"tags\":[[[\"Infection_Risk\",\"Infection_Risk\",null]]]},\"id\":\"4896\",\"type\":\"Range1d\"},{\"attributes\":{\"label\":{\"value\":\"4\"},\"renderers\":[{\"id\":\"5038\"}]},\"id\":\"5058\",\"type\":\"LegendItem\"},{\"attributes\":{\"data\":{\"Infection_Risk\":{\"__ndarray__\":\"KVyPwvXoQkD2KFyPwjU+QNejcD0KlzdAw/UoXI9iRkA=\",\"dtype\":\"float64\",\"order\":\"little\",\"shape\":[4]},\"NewCases\":[143571,39925,75616,34989],\"class\":[4,4,4,4]},\"selected\":{\"id\":\"5033\"},\"selection_policy\":{\"id\":\"5055\"}},\"id\":\"5032\",\"type\":\"ColumnDataSource\"},{\"attributes\":{\"fill_color\":{\"value\":\"#e5ae38\"},\"hatch_color\":{\"value\":\"#e5ae38\"},\"line_color\":{\"value\":\"#e5ae38\"},\"size\":{\"value\":5.477225575051661},\"x\":{\"field\":\"NewCases\"},\"y\":{\"field\":\"Infection_Risk\"}},\"id\":\"4985\",\"type\":\"Scatter\"},{\"attributes\":{\"fill_alpha\":{\"value\":0.1},\"fill_color\":{\"value\":\"#6d904f\"},\"hatch_alpha\":{\"value\":0.1},\"hatch_color\":{\"value\":\"#6d904f\"},\"line_alpha\":{\"value\":0.1},\"line_color\":{\"value\":\"#6d904f\"},\"size\":{\"value\":5.477225575051661},\"x\":{\"field\":\"NewCases\"},\"y\":{\"field\":\"Infection_Risk\"}},\"id\":\"5010\",\"type\":\"Scatter\"},{\"attributes\":{},\"id\":\"4937\",\"type\":\"BasicTickFormatter\"},{\"attributes\":{},\"id\":\"4908\",\"type\":\"LinearScale\"},{\"attributes\":{\"source\":{\"id\":\"5006\"}},\"id\":\"5013\",\"type\":\"CDSView\"},{\"attributes\":{\"coordinates\":null,\"data_source\":{\"id\":\"5006\"},\"glyph\":{\"id\":\"5009\"},\"group\":null,\"hover_glyph\":null,\"muted_glyph\":{\"id\":\"5011\"},\"nonselection_glyph\":{\"id\":\"5010\"},\"selection_glyph\":{\"id\":\"5031\"},\"view\":{\"id\":\"5013\"}},\"id\":\"5012\",\"type\":\"GlyphRenderer\"},{\"attributes\":{},\"id\":\"5001\",\"type\":\"UnionRenderers\"},{\"attributes\":{\"label\":{\"value\":\"2\"},\"renderers\":[{\"id\":\"4988\"}]},\"id\":\"5004\",\"type\":\"LegendItem\"},{\"attributes\":{\"callback\":null,\"renderers\":[{\"id\":\"4945\"},{\"id\":\"4966\"},{\"id\":\"4988\"},{\"id\":\"5012\"},{\"id\":\"5038\"},{\"id\":\"5066\"}],\"tags\":[\"hv_created\"],\"tooltips\":[[\"class\",\"@{class}\"],[\"NewCases\",\"@{NewCases}\"],[\"Infection_Risk\",\"@{Infection_Risk}\"]]},\"id\":\"4897\",\"type\":\"HoverTool\"},{\"attributes\":{\"fill_alpha\":{\"value\":0.2},\"fill_color\":{\"value\":\"#6d904f\"},\"hatch_alpha\":{\"value\":0.2},\"hatch_color\":{\"value\":\"#6d904f\"},\"line_alpha\":{\"value\":0.2},\"line_color\":{\"value\":\"#6d904f\"},\"size\":{\"value\":5.477225575051661},\"x\":{\"field\":\"NewCases\"},\"y\":{\"field\":\"Infection_Risk\"}},\"id\":\"5011\",\"type\":\"Scatter\"},{\"attributes\":{\"angle\":{\"value\":0.0},\"fill_alpha\":{\"value\":1.0},\"fill_color\":{\"value\":\"#30a2da\"},\"hatch_alpha\":{\"value\":1.0},\"hatch_color\":{\"value\":\"#30a2da\"},\"hatch_scale\":{\"value\":12.0},\"hatch_weight\":{\"value\":1.0},\"line_alpha\":{\"value\":1.0},\"line_cap\":{\"value\":\"butt\"},\"line_color\":{\"value\":\"#30a2da\"},\"line_dash\":{\"value\":[]},\"line_dash_offset\":{\"value\":0},\"line_join\":{\"value\":\"bevel\"},\"line_width\":{\"value\":1},\"marker\":{\"value\":\"circle\"},\"size\":{\"value\":5.477225575051661},\"x\":{\"field\":\"NewCases\"},\"y\":{\"field\":\"Infection_Risk\"}},\"id\":\"4959\",\"type\":\"Scatter\"},{\"attributes\":{\"fill_color\":{\"value\":\"#fc4f30\"},\"hatch_color\":{\"value\":\"#fc4f30\"},\"line_color\":{\"value\":\"#fc4f30\"},\"size\":{\"value\":5.477225575051661},\"x\":{\"field\":\"NewCases\"},\"y\":{\"field\":\"Infection_Risk\"}},\"id\":\"4963\",\"type\":\"Scatter\"},{\"attributes\":{\"coordinates\":null,\"data_source\":{\"id\":\"4939\"},\"glyph\":{\"id\":\"4942\"},\"group\":null,\"hover_glyph\":null,\"muted_glyph\":{\"id\":\"4944\"},\"nonselection_glyph\":{\"id\":\"4943\"},\"selection_glyph\":{\"id\":\"4959\"},\"view\":{\"id\":\"4946\"}},\"id\":\"4945\",\"type\":\"GlyphRenderer\"},{\"attributes\":{},\"id\":\"4961\",\"type\":\"Selection\"},{\"attributes\":{\"data\":{\"Infection_Risk\":{\"__ndarray__\":\"j8L1KFyPCEA9CtejcL01QClcj8L1qDNAexSuR+F6J0DhehSuR+EmQHE9CtejkERAFK5H4XqUQUB7FK5H4XoYQD0K16NwPQpAAAAAAAAAJUDsUbgehQtBQArXo3A9ykhAj8L1KFxPOEAzMzMzMzMWQClcj8L1qDZAj8L1KFyP8j8fhetRuB4zQEjhehSuRzBAcT0K16OwREBxPQrXo3DlP5qZmZmZWTlAPQrXo3A9G0C4HoXrUbgIQD0K16NwPS1AH4XrUbjeOkCamZmZmRkwQK5H4XoULiNApHA9CtfjMUCuR+F6FC4hQOF6FK5HAUNAFK5H4XoUCkDD9Shcj0IkQGZmZmZm5kZAKVyPwvUoHkAfhetRuJ4hQLgehetRODlA4XoUrkfhEkAfhetRuB4wQM3MzMzMzBFAw/UoXI/CHkCkcD0K10NFQPYoXI/CNTFAzczMzMzMAEB7FK5H4XoIQEjhehSuxyFArkfhehSuLEDD9Shcj8LxP2ZmZmZm5iVA7FG4HoXrFEAzMzMzM7NEQHsUrkfhej5AcT0K16Nw/T97FK5H4XopQIXrUbgehRxAFK5H4XoU3j/2KFyPwvXYP+xRuB6FayxAH4XrUbgeHUCuR+F6FK4pQM3MzMzMDEJAj8L1KFyP4j89CtejcD36Pz0K16NwPS1ACtejcD0KI0DhehSuR+HiPzMzMzMzsyVAuB6F61G4vj/D9Shcj8L5PxSuR+F6FOY/pHA9CteDQkAUrkfhehTmP65H4XoULkBA7FG4HoXrB0CamZmZmdlJQClcj8L1KNw/XI/C9ShcP0DD9Shcj8LVP65H4XoUrgNAAAAAAAAA4D8K16NwPQoYQGZmZmZmZiNASOF6FK5H6T8zMzMzMzM9QLgehetRuO4/PQrXo3A9EUCF61G4HoXbP4/C9Shcj9I/CtejcD0Ktz9cj8L1KFzfP4XrUbgehds/MzMzMzMz0z+PwvUoXI8qQPYoXI/CNTlA9ihcj8I1MUAUrkfhelQ5QJqZmZmZmRdA9ihcj8KVQkBcj8L1KFwcQClcj8L1KMw/4XoUrkfhH0DsUbgehevBP3sUrkfhujRAXI/C9Shc8z+uR+F6FC40QGZmZmZm5itAw/UoXI/CI0DXo3A9CtfTP2ZmZmZmZgBAzczMzMzM3D89CtejcB1EQB+F61G4HjhA4XoUrkehSUDXo3A9CtfTP4XrUbgehds/XI/C9SjcKUBI4XoUrkfRP3sUrkfhegZA16NwPQpnUUDNzMzMzIw/QJqZmZmZmak/pHA9CtejIEApXI/C9Sj4P6RwPQrXo9A/7FG4HoXrwT+amZmZmdk/QOF6FK5H4co/exSuR+F6xD+4HoXrUbgIQOF6FK5H4do/w/UoXI/CKEDhehSuR+H6PwrXo3A9Crc/mpmZmZmZuT/hehSuRyE9QEjhehSuR9E/CtejcD0Kxz8zMzMzMzPDP2ZmZmZmpkhAH4XrUbge8T9cj8L1KLxEQKRwPQrXo/g/mpmZmZn5RUCPwvUoXI/SPx+F61G4nihA9ihcj8L1M0AUrkfhehTePz0K16Nw/TRAexSuR+F6pD/NzMzMzEwwQClcj8L1aDpAXI/C9Shc9z9mZmZmZuY4QEjhehSuR9E/pHA9CtcjNkC4HoXrUbieP5qZmZmZmdk/zczMzMzM7D/sUbgehSs+QArXo3A9Crc/H4XrUbgeHkDsUbgehevBP3sUrkfheqQ/MzMzMzMzGED2KFyPwvUzQArXo3A9CgVAuB6F61G4LUCamZmZmZkkQClcj8L1CENASOF6FK5HMUCF61G4HoXjPwAAAAAAAD9AKVyPwvUo3D8AAAAAAAAAAK5H4XoUrhBA16NwPQrXC0AUrkfhehQKQHsUrkfheoQ/4XoUrkfhDEAAAAAAAAAAAAAAAAAAAAAAexSuR+F6hD97FK5H4XqEPw==\",\"dtype\":\"float64\",\"order\":\"little\",\"shape\":[182]},\"NewCases\":[0,339396,2572,366,3630,17635,7174,1557,411,0,0,5351,0,370,1949,102,2439,0,590,329,0,22,77,10405,1815,378,836,7584,0,3314,12,1488,2802,288,348,0,0,0,1311,50,2819,0,99,234,0,0,317,0,0,1462,852,0,385,41,0,60,22,0,122,0,17,110,322,61,13,0,0,0,9,65,8,2179,10,831,0,0,13,0,0,0,341,59,756,1,0,0,0,13,12,10,0,12,0,465,0,25,0,5,0,0,0,32,0,0,0,4,0,0,0,0,0,0,0,0,0,0,97,0,86,0,0,0,0,2,0,0,0,502,0,0,4,136,71,0,0,0,0,70,0,128,0,0,0,0,0,0,0,0,0,59,0,0,1,0,0,0,0,0,0,0,0,0,0,0,1,0,0,0,0,263,0,93,0,0,0,0,0,0,0,0,0,1366],\"class\":[0,0,0,0,0,0,0,0,0,0,0,0,0,0,0,0,0,0,0,0,0,0,0,0,0,0,0,0,0,0,0,0,0,0,0,0,0,0,0,0,0,0,0,0,0,0,0,0,0,0,0,0,0,0,0,0,0,0,0,0,0,0,0,0,0,0,0,0,0,0,0,0,0,0,0,0,0,0,0,0,0,0,0,0,0,0,0,0,0,0,0,0,0,0,0,0,0,0,0,0,0,0,0,0,0,0,0,0,0,0,0,0,0,0,0,0,0,0,0,0,0,0,0,0,0,0,0,0,0,0,0,0,0,0,0,0,0,0,0,0,0,0,0,0,0,0,0,0,0,0,0,0,0,0,0,0,0,0,0,0,0,0,0,0,0,0,0,0,0,0,0,0,0,0,0,0,0,0,0,0,0,0]},\"selected\":{\"id\":\"4940\"},\"selection_policy\":{\"id\":\"4954\"}},\"id\":\"4939\",\"type\":\"ColumnDataSource\"},{\"attributes\":{\"fill_color\":{\"value\":\"#30a2da\"},\"hatch_color\":{\"value\":\"#30a2da\"},\"line_color\":{\"value\":\"#30a2da\"},\"size\":{\"value\":5.477225575051661},\"x\":{\"field\":\"NewCases\"},\"y\":{\"field\":\"Infection_Risk\"}},\"id\":\"4942\",\"type\":\"Scatter\"},{\"attributes\":{\"fill_alpha\":{\"value\":0.2},\"fill_color\":{\"value\":\"#30a2da\"},\"hatch_alpha\":{\"value\":0.2},\"hatch_color\":{\"value\":\"#30a2da\"},\"line_alpha\":{\"value\":0.2},\"line_color\":{\"value\":\"#30a2da\"},\"size\":{\"value\":5.477225575051661},\"x\":{\"field\":\"NewCases\"},\"y\":{\"field\":\"Infection_Risk\"}},\"id\":\"4944\",\"type\":\"Scatter\"},{\"attributes\":{},\"id\":\"4910\",\"type\":\"LinearScale\"},{\"attributes\":{\"angle\":{\"value\":0.0},\"fill_alpha\":{\"value\":1.0},\"fill_color\":{\"value\":\"#8b8b8b\"},\"hatch_alpha\":{\"value\":1.0},\"hatch_color\":{\"value\":\"#8b8b8b\"},\"hatch_scale\":{\"value\":12.0},\"hatch_weight\":{\"value\":1.0},\"line_alpha\":{\"value\":1.0},\"line_cap\":{\"value\":\"butt\"},\"line_color\":{\"value\":\"#8b8b8b\"},\"line_dash\":{\"value\":[]},\"line_dash_offset\":{\"value\":0},\"line_join\":{\"value\":\"bevel\"},\"line_width\":{\"value\":1},\"marker\":{\"value\":\"circle\"},\"size\":{\"value\":5.477225575051661},\"x\":{\"field\":\"NewCases\"},\"y\":{\"field\":\"Infection_Risk\"}},\"id\":\"5059\",\"type\":\"Scatter\"},{\"attributes\":{},\"id\":\"4983\",\"type\":\"Selection\"},{\"attributes\":{\"below\":[{\"id\":\"4912\"}],\"center\":[{\"id\":\"4915\"},{\"id\":\"4919\"}],\"height\":300,\"left\":[{\"id\":\"4916\"}],\"margin\":[5,5,5,5],\"min_border_bottom\":10,\"min_border_left\":10,\"min_border_right\":10,\"min_border_top\":10,\"renderers\":[{\"id\":\"4945\"},{\"id\":\"4966\"},{\"id\":\"4988\"},{\"id\":\"5012\"},{\"id\":\"5038\"},{\"id\":\"5066\"}],\"right\":[{\"id\":\"4957\"}],\"sizing_mode\":\"fixed\",\"title\":{\"id\":\"4904\"},\"toolbar\":{\"id\":\"4926\"},\"width\":700,\"x_range\":{\"id\":\"4895\"},\"x_scale\":{\"id\":\"4908\"},\"y_range\":{\"id\":\"4896\"},\"y_scale\":{\"id\":\"4910\"}},\"id\":\"4903\",\"subtype\":\"Figure\",\"type\":\"Plot\"},{\"attributes\":{\"coordinates\":null,\"group\":null,\"text_color\":\"black\",\"text_font_size\":\"12pt\"},\"id\":\"4904\",\"type\":\"Title\"},{\"attributes\":{\"fill_alpha\":{\"value\":0.2},\"fill_color\":{\"value\":\"#8b8b8b\"},\"hatch_alpha\":{\"value\":0.2},\"hatch_color\":{\"value\":\"#8b8b8b\"},\"line_alpha\":{\"value\":0.2},\"line_color\":{\"value\":\"#8b8b8b\"},\"size\":{\"value\":5.477225575051661},\"x\":{\"field\":\"NewCases\"},\"y\":{\"field\":\"Infection_Risk\"}},\"id\":\"5037\",\"type\":\"Scatter\"},{\"attributes\":{\"margin\":[5,5,5,5],\"name\":\"HSpacer10216\",\"sizing_mode\":\"stretch_width\"},\"id\":\"5270\",\"type\":\"Spacer\"},{\"attributes\":{\"fill_alpha\":{\"value\":0.1},\"fill_color\":{\"value\":\"#e5ae38\"},\"hatch_alpha\":{\"value\":0.1},\"hatch_color\":{\"value\":\"#e5ae38\"},\"line_alpha\":{\"value\":0.1},\"line_color\":{\"value\":\"#e5ae38\"},\"size\":{\"value\":5.477225575051661},\"x\":{\"field\":\"NewCases\"},\"y\":{\"field\":\"Infection_Risk\"}},\"id\":\"4986\",\"type\":\"Scatter\"},{\"attributes\":{},\"id\":\"4938\",\"type\":\"AllLabels\"},{\"attributes\":{\"axis\":{\"id\":\"4912\"},\"coordinates\":null,\"grid_line_color\":null,\"group\":null,\"ticker\":null},\"id\":\"4915\",\"type\":\"Grid\"},{\"attributes\":{\"data\":{\"Infection_Risk\":{\"__ndarray__\":\"w/UoXI/CN0BmZmZmZmYhQA==\",\"dtype\":\"float64\",\"order\":\"little\",\"shape\":[2]},\"NewCases\":[276746,0],\"class\":[2,2]},\"selected\":{\"id\":\"4983\"},\"selection_policy\":{\"id\":\"5001\"}},\"id\":\"4982\",\"type\":\"ColumnDataSource\"},{\"attributes\":{\"source\":{\"id\":\"4982\"}},\"id\":\"4989\",\"type\":\"CDSView\"},{\"attributes\":{\"axis_label\":\"NewCases\",\"coordinates\":null,\"formatter\":{\"id\":\"4934\"},\"group\":null,\"major_label_policy\":{\"id\":\"4935\"},\"ticker\":{\"id\":\"4913\"}},\"id\":\"4912\",\"type\":\"LinearAxis\"},{\"attributes\":{\"coordinates\":null,\"data_source\":{\"id\":\"4982\"},\"glyph\":{\"id\":\"4985\"},\"group\":null,\"hover_glyph\":null,\"muted_glyph\":{\"id\":\"4987\"},\"nonselection_glyph\":{\"id\":\"4986\"},\"selection_glyph\":{\"id\":\"5005\"},\"view\":{\"id\":\"4989\"}},\"id\":\"4988\",\"type\":\"GlyphRenderer\"},{\"attributes\":{\"fill_alpha\":{\"value\":0.2},\"fill_color\":{\"value\":\"#e5ae38\"},\"hatch_alpha\":{\"value\":0.2},\"hatch_color\":{\"value\":\"#e5ae38\"},\"line_alpha\":{\"value\":0.2},\"line_color\":{\"value\":\"#e5ae38\"},\"size\":{\"value\":5.477225575051661},\"x\":{\"field\":\"NewCases\"},\"y\":{\"field\":\"Infection_Risk\"}},\"id\":\"4987\",\"type\":\"Scatter\"},{\"attributes\":{},\"id\":\"5061\",\"type\":\"Selection\"}],\"root_ids\":[\"4893\"]},\"title\":\"Bokeh Application\",\"version\":\"2.4.2\"}};\n",
       "    var render_items = [{\"docid\":\"38afd765-c180-43f1-a108-9c8a88c91504\",\"root_ids\":[\"4893\"],\"roots\":{\"4893\":\"06d94077-3c50-4d86-8f27-9cdc21f13ec5\"}}];\n",
       "    root.Bokeh.embed.embed_items_notebook(docs_json, render_items);\n",
       "  }\n",
       "  if (root.Bokeh !== undefined && root.Bokeh.Panel !== undefined) {\n",
       "    embed_document(root);\n",
       "  } else {\n",
       "    var attempts = 0;\n",
       "    var timer = setInterval(function(root) {\n",
       "      if (root.Bokeh !== undefined && root.Bokeh.Panel !== undefined) {\n",
       "        clearInterval(timer);\n",
       "        embed_document(root);\n",
       "      } else if (document.readyState == \"complete\") {\n",
       "        attempts++;\n",
       "        if (attempts > 200) {\n",
       "          clearInterval(timer);\n",
       "          console.log(\"Bokeh: ERROR: Unable to run BokehJS code because BokehJS library is missing\");\n",
       "        }\n",
       "      }\n",
       "    }, 25, root)\n",
       "  }\n",
       "})(window);</script>"
      ],
      "text/plain": [
       ":NdOverlay   [class]\n",
       "   :Scatter   [NewCases]   (Infection_Risk)"
      ]
     },
     "execution_count": 58,
     "metadata": {
      "application/vnd.holoviews_exec.v0+json": {
       "id": "4893"
      }
     },
     "output_type": "execute_result"
    }
   ],
   "source": [
    "# Create a scatterplot of covid_data\n",
    "covid_data_df.hvplot.scatter(x=\"NewCases\", y=\"Infection_Risk\", by=\"class\")"
   ]
  },
  {
   "cell_type": "code",
   "execution_count": 59,
   "metadata": {},
   "outputs": [
    {
     "data": {
      "application/vnd.plotly.v1+json": {
       "config": {
        "plotlyServerURL": "https://plot.ly"
       },
       "data": [
        {
         "hovertemplate": "class=%{marker.color}<br>NewCases=%{x}<br>Infection_Risk=%{y}<br>NewDeaths=%{z}<extra></extra>",
         "legendgroup": "1",
         "marker": {
          "color": [
           1
          ],
          "coloraxis": "coloraxis",
          "symbol": "circle"
         },
         "mode": "markers",
         "name": "1",
         "scene": "scene",
         "showlegend": true,
         "type": "scatter3d",
         "x": [
          11781
         ],
         "y": [
          24.4
         ],
         "z": [
          354
         ]
        },
        {
         "hovertemplate": "class=%{marker.color}<br>NewCases=%{x}<br>Infection_Risk=%{y}<br>NewDeaths=%{z}<extra></extra>",
         "legendgroup": "0",
         "marker": {
          "color": [
           0,
           0,
           0,
           0,
           0,
           0,
           0,
           0,
           0,
           0,
           0,
           0,
           0,
           0,
           0,
           0,
           0,
           0,
           0,
           0,
           0,
           0,
           0,
           0,
           0,
           0,
           0,
           0,
           0,
           0,
           0,
           0,
           0,
           0,
           0,
           0,
           0,
           0,
           0,
           0,
           0,
           0,
           0,
           0,
           0,
           0,
           0,
           0,
           0,
           0,
           0,
           0,
           0,
           0,
           0,
           0,
           0,
           0,
           0,
           0,
           0,
           0,
           0,
           0,
           0,
           0,
           0,
           0,
           0,
           0,
           0,
           0,
           0,
           0,
           0,
           0,
           0,
           0,
           0,
           0,
           0,
           0,
           0,
           0,
           0,
           0,
           0,
           0,
           0,
           0,
           0,
           0,
           0,
           0,
           0,
           0,
           0,
           0,
           0,
           0,
           0,
           0,
           0,
           0,
           0,
           0,
           0,
           0,
           0,
           0,
           0,
           0,
           0,
           0,
           0,
           0,
           0,
           0,
           0,
           0,
           0,
           0,
           0,
           0,
           0,
           0,
           0,
           0,
           0,
           0,
           0,
           0,
           0,
           0,
           0,
           0,
           0,
           0,
           0,
           0,
           0,
           0,
           0,
           0,
           0,
           0,
           0,
           0,
           0,
           0,
           0,
           0,
           0,
           0,
           0,
           0,
           0,
           0,
           0,
           0,
           0,
           0,
           0,
           0,
           0,
           0,
           0,
           0,
           0,
           0,
           0,
           0,
           0,
           0,
           0,
           0,
           0,
           0,
           0,
           0,
           0,
           0
          ],
          "coloraxis": "coloraxis",
          "symbol": "diamond"
         },
         "mode": "markers",
         "name": "0",
         "scene": "scene",
         "showlegend": true,
         "type": "scatter3d",
         "x": [
          0,
          339396,
          2572,
          366,
          3630,
          17635,
          7174,
          1557,
          411,
          0,
          0,
          5351,
          0,
          370,
          1949,
          102,
          2439,
          0,
          590,
          329,
          0,
          22,
          77,
          10405,
          1815,
          378,
          836,
          7584,
          0,
          3314,
          12,
          1488,
          2802,
          288,
          348,
          0,
          0,
          0,
          1311,
          50,
          2819,
          0,
          99,
          234,
          0,
          0,
          317,
          0,
          0,
          1462,
          852,
          0,
          385,
          41,
          0,
          60,
          22,
          0,
          122,
          0,
          17,
          110,
          322,
          61,
          13,
          0,
          0,
          0,
          9,
          65,
          8,
          2179,
          10,
          831,
          0,
          0,
          13,
          0,
          0,
          0,
          341,
          59,
          756,
          1,
          0,
          0,
          0,
          13,
          12,
          10,
          0,
          12,
          0,
          465,
          0,
          25,
          0,
          5,
          0,
          0,
          0,
          32,
          0,
          0,
          0,
          4,
          0,
          0,
          0,
          0,
          0,
          0,
          0,
          0,
          0,
          0,
          97,
          0,
          86,
          0,
          0,
          0,
          0,
          2,
          0,
          0,
          0,
          502,
          0,
          0,
          4,
          136,
          71,
          0,
          0,
          0,
          0,
          70,
          0,
          128,
          0,
          0,
          0,
          0,
          0,
          0,
          0,
          0,
          0,
          59,
          0,
          0,
          1,
          0,
          0,
          0,
          0,
          0,
          0,
          0,
          0,
          0,
          0,
          0,
          1,
          0,
          0,
          0,
          0,
          263,
          0,
          93,
          0,
          0,
          0,
          0,
          0,
          0,
          0,
          0,
          0,
          1366
         ],
         "y": [
          3.07,
          21.74,
          19.66,
          11.74,
          11.44,
          41.13,
          35.16,
          6.12,
          3.28,
          10.5,
          34.09,
          49.58,
          24.31,
          5.55,
          22.66,
          1.16,
          19.12,
          16.28,
          41.38,
          0.67,
          25.35,
          6.81,
          3.09,
          14.62,
          26.87,
          16.1,
          9.59,
          17.89,
          8.59,
          38.01,
          3.26,
          10.13,
          45.8,
          7.54,
          8.81,
          25.22,
          4.72,
          16.12,
          4.45,
          7.69,
          42.53,
          17.21,
          2.1,
          3.06,
          8.89,
          14.34,
          1.11,
          10.95,
          5.23,
          41.4,
          30.48,
          1.84,
          12.74,
          7.13,
          0.47,
          0.39,
          14.21,
          7.28,
          12.84,
          36.1,
          0.58,
          1.64,
          14.62,
          9.52,
          0.59,
          10.85,
          0.12,
          1.61,
          0.69,
          37.03,
          0.69,
          32.36,
          2.99,
          51.7,
          0.44,
          31.36,
          0.34,
          2.46,
          0.5,
          6.01,
          9.7,
          0.79,
          29.2,
          0.96,
          4.31,
          0.43,
          0.29,
          0.09,
          0.49,
          0.43,
          0.3,
          13.28,
          25.21,
          17.21,
          25.33,
          5.9,
          37.17,
          7.09,
          0.22,
          7.97,
          0.14,
          20.73,
          1.21,
          20.18,
          13.95,
          9.88,
          0.31,
          2.05,
          0.45,
          40.23,
          24.12,
          51.26,
          0.31,
          0.43,
          12.93,
          0.27,
          2.81,
          69.61,
          31.55,
          0.05,
          8.32,
          1.51,
          0.26,
          0.14,
          31.85,
          0.21,
          0.16,
          3.09,
          0.42,
          12.38,
          1.68,
          0.09,
          0.1,
          29.13,
          0.27,
          0.18,
          0.15,
          49.3,
          1.07,
          41.47,
          1.54,
          43.95,
          0.29,
          12.31,
          19.96,
          0.47,
          20.99,
          0.04,
          16.3,
          26.41,
          1.46,
          24.9,
          0.27,
          22.14,
          0.03,
          0.4,
          0.9,
          30.17,
          0.09,
          7.53,
          0.14,
          0.04,
          6.05,
          19.96,
          2.63,
          14.86,
          10.3,
          38.07,
          17.28,
          0.61,
          31,
          0.44,
          0,
          4.17,
          3.48,
          3.26,
          0.01,
          3.61,
          0,
          0,
          0.01,
          0.01
         ],
         "z": [
          0,
          392,
          66,
          13,
          32,
          5,
          12,
          7,
          60,
          0,
          0,
          24,
          0,
          7,
          10,
          0,
          38,
          0,
          10,
          3,
          0,
          1,
          0,
          192,
          10,
          5,
          0,
          13,
          0,
          13,
          0,
          8,
          8,
          3,
          0,
          0,
          0,
          0,
          7,
          3,
          10,
          0,
          2,
          2,
          0,
          0,
          0,
          0,
          0,
          6,
          2,
          0,
          1,
          5,
          0,
          0,
          3,
          0,
          0,
          0,
          0,
          1,
          6,
          1,
          0,
          0,
          0,
          0,
          0,
          0,
          0,
          2,
          1,
          2,
          0,
          0,
          0,
          0,
          0,
          0,
          2,
          0,
          0,
          0,
          0,
          0,
          0,
          0,
          0,
          0,
          0,
          0,
          0,
          1,
          0,
          0,
          0,
          0,
          0,
          0,
          0,
          0,
          0,
          0,
          0,
          0,
          0,
          0,
          0,
          0,
          0,
          0,
          0,
          0,
          0,
          0,
          0,
          0,
          0,
          0,
          0,
          0,
          0,
          0,
          0,
          0,
          0,
          0,
          0,
          0,
          0,
          0,
          6,
          0,
          0,
          0,
          0,
          0,
          0,
          0,
          0,
          0,
          0,
          0,
          0,
          0,
          0,
          0,
          0,
          0,
          0,
          0,
          0,
          0,
          0,
          0,
          0,
          0,
          0,
          0,
          0,
          0,
          0,
          0,
          0,
          0,
          0,
          0,
          0,
          0,
          0,
          0,
          0,
          0,
          0,
          0,
          0,
          0,
          0,
          0,
          0,
          0
         ]
        },
        {
         "hovertemplate": "class=%{marker.color}<br>NewCases=%{x}<br>Infection_Risk=%{y}<br>NewDeaths=%{z}<extra></extra>",
         "legendgroup": "3",
         "marker": {
          "color": [
           3,
           3,
           3,
           3,
           3,
           3,
           3,
           3,
           3,
           3
          ],
          "coloraxis": "coloraxis",
          "symbol": "square"
         },
         "mode": "markers",
         "name": "3",
         "scene": "scene",
         "showlegend": true,
         "type": "scatter3d",
         "x": [
          34576,
          25382,
          24298,
          49063,
          8241,
          58235,
          37910,
          8761,
          11188,
          10675
         ],
         "y": [
          13.85,
          12.13,
          24.48,
          4.96,
          15.71,
          16.07,
          40.3,
          17.71,
          38.84,
          15.2
         ],
         "z": [
          199,
          398,
          113,
          129,
          110,
          26,
          40,
          75,
          2,
          34
         ]
        },
        {
         "hovertemplate": "class=%{marker.color}<br>NewCases=%{x}<br>Infection_Risk=%{y}<br>NewDeaths=%{z}<extra></extra>",
         "legendgroup": "4",
         "marker": {
          "color": [
           4,
           4,
           4,
           4
          ],
          "coloraxis": "coloraxis",
          "symbol": "x"
         },
         "mode": "markers",
         "name": "4",
         "scene": "scene",
         "showlegend": true,
         "type": "scatter3d",
         "x": [
          143571,
          39925,
          75616,
          34989
         ],
         "y": [
          37.82,
          30.21,
          23.59,
          44.77
         ],
         "z": [
          121,
          172,
          146,
          20
         ]
        },
        {
         "hovertemplate": "class=%{marker.color}<br>NewCases=%{x}<br>Infection_Risk=%{y}<br>NewDeaths=%{z}<extra></extra>",
         "legendgroup": "2",
         "marker": {
          "color": [
           2,
           2
          ],
          "coloraxis": "coloraxis",
          "symbol": "cross"
         },
         "mode": "markers",
         "name": "2",
         "scene": "scene",
         "showlegend": true,
         "type": "scatter3d",
         "x": [
          276746,
          0
         ],
         "y": [
          23.76,
          8.7
         ],
         "z": [
          300,
          0
         ]
        },
        {
         "hovertemplate": "class=%{marker.color}<br>NewCases=%{x}<br>Infection_Risk=%{y}<br>NewDeaths=%{z}<extra></extra>",
         "legendgroup": "5",
         "marker": {
          "color": [
           5,
           5,
           5,
           5,
           5,
           5,
           5,
           5,
           5,
           5,
           5,
           5,
           5,
           5,
           5,
           5,
           5,
           5,
           5,
           5,
           5
          ],
          "coloraxis": "coloraxis",
          "symbol": "circle"
         },
         "mode": "markers",
         "name": "5",
         "scene": "scene",
         "showlegend": true,
         "type": "scatter3d",
         "x": [
          15303,
          1530,
          4857,
          3658,
          21839,
          13457,
          26050,
          6344,
          16234,
          3725,
          8104,
          9147,
          1333,
          15914,
          103,
          0,
          3329,
          114,
          2212,
          0,
          0
         ],
         "y": [
          17.2,
          8.33,
          2.15,
          4.3,
          12.4,
          32.3,
          4.96,
          8.97,
          28.06,
          14.91,
          30.65,
          28.27,
          16.51,
          11.46,
          13.89,
          4.11,
          32.76,
          11.55,
          2.2,
          37.73,
          32.66
         ],
         "z": [
          68,
          52,
          120,
          155,
          53,
          27,
          69,
          49,
          35,
          32,
          20,
          17,
          29,
          9,
          0,
          0,
          3,
          7,
          2,
          0,
          0
         ]
        }
       ],
       "layout": {
        "coloraxis": {
         "colorbar": {
          "title": {
           "text": "class"
          }
         },
         "colorscale": [
          [
           0,
           "#0d0887"
          ],
          [
           0.1111111111111111,
           "#46039f"
          ],
          [
           0.2222222222222222,
           "#7201a8"
          ],
          [
           0.3333333333333333,
           "#9c179e"
          ],
          [
           0.4444444444444444,
           "#bd3786"
          ],
          [
           0.5555555555555556,
           "#d8576b"
          ],
          [
           0.6666666666666666,
           "#ed7953"
          ],
          [
           0.7777777777777778,
           "#fb9f3a"
          ],
          [
           0.8888888888888888,
           "#fdca26"
          ],
          [
           1,
           "#f0f921"
          ]
         ]
        },
        "legend": {
         "title": {
          "text": "class"
         },
         "tracegroupgap": 0,
         "x": 0,
         "y": 1
        },
        "margin": {
         "t": 60
        },
        "scene": {
         "domain": {
          "x": [
           0,
           1
          ],
          "y": [
           0,
           1
          ]
         },
         "xaxis": {
          "title": {
           "text": "NewCases"
          }
         },
         "yaxis": {
          "title": {
           "text": "Infection_Risk"
          }
         },
         "zaxis": {
          "title": {
           "text": "NewDeaths"
          }
         }
        },
        "template": {
         "data": {
          "bar": [
           {
            "error_x": {
             "color": "#2a3f5f"
            },
            "error_y": {
             "color": "#2a3f5f"
            },
            "marker": {
             "line": {
              "color": "#E5ECF6",
              "width": 0.5
             },
             "pattern": {
              "fillmode": "overlay",
              "size": 10,
              "solidity": 0.2
             }
            },
            "type": "bar"
           }
          ],
          "barpolar": [
           {
            "marker": {
             "line": {
              "color": "#E5ECF6",
              "width": 0.5
             },
             "pattern": {
              "fillmode": "overlay",
              "size": 10,
              "solidity": 0.2
             }
            },
            "type": "barpolar"
           }
          ],
          "carpet": [
           {
            "aaxis": {
             "endlinecolor": "#2a3f5f",
             "gridcolor": "white",
             "linecolor": "white",
             "minorgridcolor": "white",
             "startlinecolor": "#2a3f5f"
            },
            "baxis": {
             "endlinecolor": "#2a3f5f",
             "gridcolor": "white",
             "linecolor": "white",
             "minorgridcolor": "white",
             "startlinecolor": "#2a3f5f"
            },
            "type": "carpet"
           }
          ],
          "choropleth": [
           {
            "colorbar": {
             "outlinewidth": 0,
             "ticks": ""
            },
            "type": "choropleth"
           }
          ],
          "contour": [
           {
            "colorbar": {
             "outlinewidth": 0,
             "ticks": ""
            },
            "colorscale": [
             [
              0,
              "#0d0887"
             ],
             [
              0.1111111111111111,
              "#46039f"
             ],
             [
              0.2222222222222222,
              "#7201a8"
             ],
             [
              0.3333333333333333,
              "#9c179e"
             ],
             [
              0.4444444444444444,
              "#bd3786"
             ],
             [
              0.5555555555555556,
              "#d8576b"
             ],
             [
              0.6666666666666666,
              "#ed7953"
             ],
             [
              0.7777777777777778,
              "#fb9f3a"
             ],
             [
              0.8888888888888888,
              "#fdca26"
             ],
             [
              1,
              "#f0f921"
             ]
            ],
            "type": "contour"
           }
          ],
          "contourcarpet": [
           {
            "colorbar": {
             "outlinewidth": 0,
             "ticks": ""
            },
            "type": "contourcarpet"
           }
          ],
          "heatmap": [
           {
            "colorbar": {
             "outlinewidth": 0,
             "ticks": ""
            },
            "colorscale": [
             [
              0,
              "#0d0887"
             ],
             [
              0.1111111111111111,
              "#46039f"
             ],
             [
              0.2222222222222222,
              "#7201a8"
             ],
             [
              0.3333333333333333,
              "#9c179e"
             ],
             [
              0.4444444444444444,
              "#bd3786"
             ],
             [
              0.5555555555555556,
              "#d8576b"
             ],
             [
              0.6666666666666666,
              "#ed7953"
             ],
             [
              0.7777777777777778,
              "#fb9f3a"
             ],
             [
              0.8888888888888888,
              "#fdca26"
             ],
             [
              1,
              "#f0f921"
             ]
            ],
            "type": "heatmap"
           }
          ],
          "heatmapgl": [
           {
            "colorbar": {
             "outlinewidth": 0,
             "ticks": ""
            },
            "colorscale": [
             [
              0,
              "#0d0887"
             ],
             [
              0.1111111111111111,
              "#46039f"
             ],
             [
              0.2222222222222222,
              "#7201a8"
             ],
             [
              0.3333333333333333,
              "#9c179e"
             ],
             [
              0.4444444444444444,
              "#bd3786"
             ],
             [
              0.5555555555555556,
              "#d8576b"
             ],
             [
              0.6666666666666666,
              "#ed7953"
             ],
             [
              0.7777777777777778,
              "#fb9f3a"
             ],
             [
              0.8888888888888888,
              "#fdca26"
             ],
             [
              1,
              "#f0f921"
             ]
            ],
            "type": "heatmapgl"
           }
          ],
          "histogram": [
           {
            "marker": {
             "pattern": {
              "fillmode": "overlay",
              "size": 10,
              "solidity": 0.2
             }
            },
            "type": "histogram"
           }
          ],
          "histogram2d": [
           {
            "colorbar": {
             "outlinewidth": 0,
             "ticks": ""
            },
            "colorscale": [
             [
              0,
              "#0d0887"
             ],
             [
              0.1111111111111111,
              "#46039f"
             ],
             [
              0.2222222222222222,
              "#7201a8"
             ],
             [
              0.3333333333333333,
              "#9c179e"
             ],
             [
              0.4444444444444444,
              "#bd3786"
             ],
             [
              0.5555555555555556,
              "#d8576b"
             ],
             [
              0.6666666666666666,
              "#ed7953"
             ],
             [
              0.7777777777777778,
              "#fb9f3a"
             ],
             [
              0.8888888888888888,
              "#fdca26"
             ],
             [
              1,
              "#f0f921"
             ]
            ],
            "type": "histogram2d"
           }
          ],
          "histogram2dcontour": [
           {
            "colorbar": {
             "outlinewidth": 0,
             "ticks": ""
            },
            "colorscale": [
             [
              0,
              "#0d0887"
             ],
             [
              0.1111111111111111,
              "#46039f"
             ],
             [
              0.2222222222222222,
              "#7201a8"
             ],
             [
              0.3333333333333333,
              "#9c179e"
             ],
             [
              0.4444444444444444,
              "#bd3786"
             ],
             [
              0.5555555555555556,
              "#d8576b"
             ],
             [
              0.6666666666666666,
              "#ed7953"
             ],
             [
              0.7777777777777778,
              "#fb9f3a"
             ],
             [
              0.8888888888888888,
              "#fdca26"
             ],
             [
              1,
              "#f0f921"
             ]
            ],
            "type": "histogram2dcontour"
           }
          ],
          "mesh3d": [
           {
            "colorbar": {
             "outlinewidth": 0,
             "ticks": ""
            },
            "type": "mesh3d"
           }
          ],
          "parcoords": [
           {
            "line": {
             "colorbar": {
              "outlinewidth": 0,
              "ticks": ""
             }
            },
            "type": "parcoords"
           }
          ],
          "pie": [
           {
            "automargin": true,
            "type": "pie"
           }
          ],
          "scatter": [
           {
            "marker": {
             "colorbar": {
              "outlinewidth": 0,
              "ticks": ""
             }
            },
            "type": "scatter"
           }
          ],
          "scatter3d": [
           {
            "line": {
             "colorbar": {
              "outlinewidth": 0,
              "ticks": ""
             }
            },
            "marker": {
             "colorbar": {
              "outlinewidth": 0,
              "ticks": ""
             }
            },
            "type": "scatter3d"
           }
          ],
          "scattercarpet": [
           {
            "marker": {
             "colorbar": {
              "outlinewidth": 0,
              "ticks": ""
             }
            },
            "type": "scattercarpet"
           }
          ],
          "scattergeo": [
           {
            "marker": {
             "colorbar": {
              "outlinewidth": 0,
              "ticks": ""
             }
            },
            "type": "scattergeo"
           }
          ],
          "scattergl": [
           {
            "marker": {
             "colorbar": {
              "outlinewidth": 0,
              "ticks": ""
             }
            },
            "type": "scattergl"
           }
          ],
          "scattermapbox": [
           {
            "marker": {
             "colorbar": {
              "outlinewidth": 0,
              "ticks": ""
             }
            },
            "type": "scattermapbox"
           }
          ],
          "scatterpolar": [
           {
            "marker": {
             "colorbar": {
              "outlinewidth": 0,
              "ticks": ""
             }
            },
            "type": "scatterpolar"
           }
          ],
          "scatterpolargl": [
           {
            "marker": {
             "colorbar": {
              "outlinewidth": 0,
              "ticks": ""
             }
            },
            "type": "scatterpolargl"
           }
          ],
          "scatterternary": [
           {
            "marker": {
             "colorbar": {
              "outlinewidth": 0,
              "ticks": ""
             }
            },
            "type": "scatterternary"
           }
          ],
          "surface": [
           {
            "colorbar": {
             "outlinewidth": 0,
             "ticks": ""
            },
            "colorscale": [
             [
              0,
              "#0d0887"
             ],
             [
              0.1111111111111111,
              "#46039f"
             ],
             [
              0.2222222222222222,
              "#7201a8"
             ],
             [
              0.3333333333333333,
              "#9c179e"
             ],
             [
              0.4444444444444444,
              "#bd3786"
             ],
             [
              0.5555555555555556,
              "#d8576b"
             ],
             [
              0.6666666666666666,
              "#ed7953"
             ],
             [
              0.7777777777777778,
              "#fb9f3a"
             ],
             [
              0.8888888888888888,
              "#fdca26"
             ],
             [
              1,
              "#f0f921"
             ]
            ],
            "type": "surface"
           }
          ],
          "table": [
           {
            "cells": {
             "fill": {
              "color": "#EBF0F8"
             },
             "line": {
              "color": "white"
             }
            },
            "header": {
             "fill": {
              "color": "#C8D4E3"
             },
             "line": {
              "color": "white"
             }
            },
            "type": "table"
           }
          ]
         },
         "layout": {
          "annotationdefaults": {
           "arrowcolor": "#2a3f5f",
           "arrowhead": 0,
           "arrowwidth": 1
          },
          "autotypenumbers": "strict",
          "coloraxis": {
           "colorbar": {
            "outlinewidth": 0,
            "ticks": ""
           }
          },
          "colorscale": {
           "diverging": [
            [
             0,
             "#8e0152"
            ],
            [
             0.1,
             "#c51b7d"
            ],
            [
             0.2,
             "#de77ae"
            ],
            [
             0.3,
             "#f1b6da"
            ],
            [
             0.4,
             "#fde0ef"
            ],
            [
             0.5,
             "#f7f7f7"
            ],
            [
             0.6,
             "#e6f5d0"
            ],
            [
             0.7,
             "#b8e186"
            ],
            [
             0.8,
             "#7fbc41"
            ],
            [
             0.9,
             "#4d9221"
            ],
            [
             1,
             "#276419"
            ]
           ],
           "sequential": [
            [
             0,
             "#0d0887"
            ],
            [
             0.1111111111111111,
             "#46039f"
            ],
            [
             0.2222222222222222,
             "#7201a8"
            ],
            [
             0.3333333333333333,
             "#9c179e"
            ],
            [
             0.4444444444444444,
             "#bd3786"
            ],
            [
             0.5555555555555556,
             "#d8576b"
            ],
            [
             0.6666666666666666,
             "#ed7953"
            ],
            [
             0.7777777777777778,
             "#fb9f3a"
            ],
            [
             0.8888888888888888,
             "#fdca26"
            ],
            [
             1,
             "#f0f921"
            ]
           ],
           "sequentialminus": [
            [
             0,
             "#0d0887"
            ],
            [
             0.1111111111111111,
             "#46039f"
            ],
            [
             0.2222222222222222,
             "#7201a8"
            ],
            [
             0.3333333333333333,
             "#9c179e"
            ],
            [
             0.4444444444444444,
             "#bd3786"
            ],
            [
             0.5555555555555556,
             "#d8576b"
            ],
            [
             0.6666666666666666,
             "#ed7953"
            ],
            [
             0.7777777777777778,
             "#fb9f3a"
            ],
            [
             0.8888888888888888,
             "#fdca26"
            ],
            [
             1,
             "#f0f921"
            ]
           ]
          },
          "colorway": [
           "#636efa",
           "#EF553B",
           "#00cc96",
           "#ab63fa",
           "#FFA15A",
           "#19d3f3",
           "#FF6692",
           "#B6E880",
           "#FF97FF",
           "#FECB52"
          ],
          "font": {
           "color": "#2a3f5f"
          },
          "geo": {
           "bgcolor": "white",
           "lakecolor": "white",
           "landcolor": "#E5ECF6",
           "showlakes": true,
           "showland": true,
           "subunitcolor": "white"
          },
          "hoverlabel": {
           "align": "left"
          },
          "hovermode": "closest",
          "mapbox": {
           "style": "light"
          },
          "paper_bgcolor": "white",
          "plot_bgcolor": "#E5ECF6",
          "polar": {
           "angularaxis": {
            "gridcolor": "white",
            "linecolor": "white",
            "ticks": ""
           },
           "bgcolor": "#E5ECF6",
           "radialaxis": {
            "gridcolor": "white",
            "linecolor": "white",
            "ticks": ""
           }
          },
          "scene": {
           "xaxis": {
            "backgroundcolor": "#E5ECF6",
            "gridcolor": "white",
            "gridwidth": 2,
            "linecolor": "white",
            "showbackground": true,
            "ticks": "",
            "zerolinecolor": "white"
           },
           "yaxis": {
            "backgroundcolor": "#E5ECF6",
            "gridcolor": "white",
            "gridwidth": 2,
            "linecolor": "white",
            "showbackground": true,
            "ticks": "",
            "zerolinecolor": "white"
           },
           "zaxis": {
            "backgroundcolor": "#E5ECF6",
            "gridcolor": "white",
            "gridwidth": 2,
            "linecolor": "white",
            "showbackground": true,
            "ticks": "",
            "zerolinecolor": "white"
           }
          },
          "shapedefaults": {
           "line": {
            "color": "#2a3f5f"
           }
          },
          "ternary": {
           "aaxis": {
            "gridcolor": "white",
            "linecolor": "white",
            "ticks": ""
           },
           "baxis": {
            "gridcolor": "white",
            "linecolor": "white",
            "ticks": ""
           },
           "bgcolor": "#E5ECF6",
           "caxis": {
            "gridcolor": "white",
            "linecolor": "white",
            "ticks": ""
           }
          },
          "title": {
           "x": 0.05
          },
          "xaxis": {
           "automargin": true,
           "gridcolor": "white",
           "linecolor": "white",
           "ticks": "",
           "title": {
            "standoff": 15
           },
           "zerolinecolor": "white",
           "zerolinewidth": 2
          },
          "yaxis": {
           "automargin": true,
           "gridcolor": "white",
           "linecolor": "white",
           "ticks": "",
           "title": {
            "standoff": 15
           },
           "zerolinecolor": "white",
           "zerolinewidth": 2
          }
         }
        }
       }
      },
      "text/html": [
       "<div>                            <div id=\"3ab3e4eb-02fb-4e3d-990d-5ed0f363feaf\" class=\"plotly-graph-div\" style=\"height:525px; width:100%;\"></div>            <script type=\"text/javascript\">                require([\"plotly\"], function(Plotly) {                    window.PLOTLYENV=window.PLOTLYENV || {};                                    if (document.getElementById(\"3ab3e4eb-02fb-4e3d-990d-5ed0f363feaf\")) {                    Plotly.newPlot(                        \"3ab3e4eb-02fb-4e3d-990d-5ed0f363feaf\",                        [{\"hovertemplate\":\"class=%{marker.color}<br>NewCases=%{x}<br>Infection_Risk=%{y}<br>NewDeaths=%{z}<extra></extra>\",\"legendgroup\":\"1\",\"marker\":{\"color\":[1],\"coloraxis\":\"coloraxis\",\"symbol\":\"circle\"},\"mode\":\"markers\",\"name\":\"1\",\"scene\":\"scene\",\"showlegend\":true,\"x\":[11781],\"y\":[24.4],\"z\":[354],\"type\":\"scatter3d\"},{\"hovertemplate\":\"class=%{marker.color}<br>NewCases=%{x}<br>Infection_Risk=%{y}<br>NewDeaths=%{z}<extra></extra>\",\"legendgroup\":\"0\",\"marker\":{\"color\":[0,0,0,0,0,0,0,0,0,0,0,0,0,0,0,0,0,0,0,0,0,0,0,0,0,0,0,0,0,0,0,0,0,0,0,0,0,0,0,0,0,0,0,0,0,0,0,0,0,0,0,0,0,0,0,0,0,0,0,0,0,0,0,0,0,0,0,0,0,0,0,0,0,0,0,0,0,0,0,0,0,0,0,0,0,0,0,0,0,0,0,0,0,0,0,0,0,0,0,0,0,0,0,0,0,0,0,0,0,0,0,0,0,0,0,0,0,0,0,0,0,0,0,0,0,0,0,0,0,0,0,0,0,0,0,0,0,0,0,0,0,0,0,0,0,0,0,0,0,0,0,0,0,0,0,0,0,0,0,0,0,0,0,0,0,0,0,0,0,0,0,0,0,0,0,0,0,0,0,0,0,0],\"coloraxis\":\"coloraxis\",\"symbol\":\"diamond\"},\"mode\":\"markers\",\"name\":\"0\",\"scene\":\"scene\",\"showlegend\":true,\"x\":[0,339396,2572,366,3630,17635,7174,1557,411,0,0,5351,0,370,1949,102,2439,0,590,329,0,22,77,10405,1815,378,836,7584,0,3314,12,1488,2802,288,348,0,0,0,1311,50,2819,0,99,234,0,0,317,0,0,1462,852,0,385,41,0,60,22,0,122,0,17,110,322,61,13,0,0,0,9,65,8,2179,10,831,0,0,13,0,0,0,341,59,756,1,0,0,0,13,12,10,0,12,0,465,0,25,0,5,0,0,0,32,0,0,0,4,0,0,0,0,0,0,0,0,0,0,97,0,86,0,0,0,0,2,0,0,0,502,0,0,4,136,71,0,0,0,0,70,0,128,0,0,0,0,0,0,0,0,0,59,0,0,1,0,0,0,0,0,0,0,0,0,0,0,1,0,0,0,0,263,0,93,0,0,0,0,0,0,0,0,0,1366],\"y\":[3.07,21.74,19.66,11.74,11.44,41.13,35.16,6.12,3.28,10.5,34.09,49.58,24.31,5.55,22.66,1.16,19.12,16.28,41.38,0.67,25.35,6.81,3.09,14.62,26.87,16.1,9.59,17.89,8.59,38.01,3.26,10.13,45.8,7.54,8.81,25.22,4.72,16.12,4.45,7.69,42.53,17.21,2.1,3.06,8.89,14.34,1.11,10.95,5.23,41.4,30.48,1.84,12.74,7.13,0.47,0.39,14.21,7.28,12.84,36.1,0.58,1.64,14.62,9.52,0.59,10.85,0.12,1.61,0.69,37.03,0.69,32.36,2.99,51.7,0.44,31.36,0.34,2.46,0.5,6.01,9.7,0.79,29.2,0.96,4.31,0.43,0.29,0.09,0.49,0.43,0.3,13.28,25.21,17.21,25.33,5.9,37.17,7.09,0.22,7.97,0.14,20.73,1.21,20.18,13.95,9.88,0.31,2.05,0.45,40.23,24.12,51.26,0.31,0.43,12.93,0.27,2.81,69.61,31.55,0.05,8.32,1.51,0.26,0.14,31.85,0.21,0.16,3.09,0.42,12.38,1.68,0.09,0.1,29.13,0.27,0.18,0.15,49.3,1.07,41.47,1.54,43.95,0.29,12.31,19.96,0.47,20.99,0.04,16.3,26.41,1.46,24.9,0.27,22.14,0.03,0.4,0.9,30.17,0.09,7.53,0.14,0.04,6.05,19.96,2.63,14.86,10.3,38.07,17.28,0.61,31.0,0.44,0.0,4.17,3.48,3.26,0.01,3.61,0.0,0.0,0.01,0.01],\"z\":[0,392,66,13,32,5,12,7,60,0,0,24,0,7,10,0,38,0,10,3,0,1,0,192,10,5,0,13,0,13,0,8,8,3,0,0,0,0,7,3,10,0,2,2,0,0,0,0,0,6,2,0,1,5,0,0,3,0,0,0,0,1,6,1,0,0,0,0,0,0,0,2,1,2,0,0,0,0,0,0,2,0,0,0,0,0,0,0,0,0,0,0,0,1,0,0,0,0,0,0,0,0,0,0,0,0,0,0,0,0,0,0,0,0,0,0,0,0,0,0,0,0,0,0,0,0,0,0,0,0,0,0,6,0,0,0,0,0,0,0,0,0,0,0,0,0,0,0,0,0,0,0,0,0,0,0,0,0,0,0,0,0,0,0,0,0,0,0,0,0,0,0,0,0,0,0,0,0,0,0,0,0],\"type\":\"scatter3d\"},{\"hovertemplate\":\"class=%{marker.color}<br>NewCases=%{x}<br>Infection_Risk=%{y}<br>NewDeaths=%{z}<extra></extra>\",\"legendgroup\":\"3\",\"marker\":{\"color\":[3,3,3,3,3,3,3,3,3,3],\"coloraxis\":\"coloraxis\",\"symbol\":\"square\"},\"mode\":\"markers\",\"name\":\"3\",\"scene\":\"scene\",\"showlegend\":true,\"x\":[34576,25382,24298,49063,8241,58235,37910,8761,11188,10675],\"y\":[13.85,12.13,24.48,4.96,15.71,16.07,40.3,17.71,38.84,15.2],\"z\":[199,398,113,129,110,26,40,75,2,34],\"type\":\"scatter3d\"},{\"hovertemplate\":\"class=%{marker.color}<br>NewCases=%{x}<br>Infection_Risk=%{y}<br>NewDeaths=%{z}<extra></extra>\",\"legendgroup\":\"4\",\"marker\":{\"color\":[4,4,4,4],\"coloraxis\":\"coloraxis\",\"symbol\":\"x\"},\"mode\":\"markers\",\"name\":\"4\",\"scene\":\"scene\",\"showlegend\":true,\"x\":[143571,39925,75616,34989],\"y\":[37.82,30.21,23.59,44.77],\"z\":[121,172,146,20],\"type\":\"scatter3d\"},{\"hovertemplate\":\"class=%{marker.color}<br>NewCases=%{x}<br>Infection_Risk=%{y}<br>NewDeaths=%{z}<extra></extra>\",\"legendgroup\":\"2\",\"marker\":{\"color\":[2,2],\"coloraxis\":\"coloraxis\",\"symbol\":\"cross\"},\"mode\":\"markers\",\"name\":\"2\",\"scene\":\"scene\",\"showlegend\":true,\"x\":[276746,0],\"y\":[23.76,8.7],\"z\":[300,0],\"type\":\"scatter3d\"},{\"hovertemplate\":\"class=%{marker.color}<br>NewCases=%{x}<br>Infection_Risk=%{y}<br>NewDeaths=%{z}<extra></extra>\",\"legendgroup\":\"5\",\"marker\":{\"color\":[5,5,5,5,5,5,5,5,5,5,5,5,5,5,5,5,5,5,5,5,5],\"coloraxis\":\"coloraxis\",\"symbol\":\"circle\"},\"mode\":\"markers\",\"name\":\"5\",\"scene\":\"scene\",\"showlegend\":true,\"x\":[15303,1530,4857,3658,21839,13457,26050,6344,16234,3725,8104,9147,1333,15914,103,0,3329,114,2212,0,0],\"y\":[17.2,8.33,2.15,4.3,12.4,32.3,4.96,8.97,28.06,14.91,30.65,28.27,16.51,11.46,13.89,4.11,32.76,11.55,2.2,37.73,32.66],\"z\":[68,52,120,155,53,27,69,49,35,32,20,17,29,9,0,0,3,7,2,0,0],\"type\":\"scatter3d\"}],                        {\"template\":{\"data\":{\"bar\":[{\"error_x\":{\"color\":\"#2a3f5f\"},\"error_y\":{\"color\":\"#2a3f5f\"},\"marker\":{\"line\":{\"color\":\"#E5ECF6\",\"width\":0.5},\"pattern\":{\"fillmode\":\"overlay\",\"size\":10,\"solidity\":0.2}},\"type\":\"bar\"}],\"barpolar\":[{\"marker\":{\"line\":{\"color\":\"#E5ECF6\",\"width\":0.5},\"pattern\":{\"fillmode\":\"overlay\",\"size\":10,\"solidity\":0.2}},\"type\":\"barpolar\"}],\"carpet\":[{\"aaxis\":{\"endlinecolor\":\"#2a3f5f\",\"gridcolor\":\"white\",\"linecolor\":\"white\",\"minorgridcolor\":\"white\",\"startlinecolor\":\"#2a3f5f\"},\"baxis\":{\"endlinecolor\":\"#2a3f5f\",\"gridcolor\":\"white\",\"linecolor\":\"white\",\"minorgridcolor\":\"white\",\"startlinecolor\":\"#2a3f5f\"},\"type\":\"carpet\"}],\"choropleth\":[{\"colorbar\":{\"outlinewidth\":0,\"ticks\":\"\"},\"type\":\"choropleth\"}],\"contour\":[{\"colorbar\":{\"outlinewidth\":0,\"ticks\":\"\"},\"colorscale\":[[0.0,\"#0d0887\"],[0.1111111111111111,\"#46039f\"],[0.2222222222222222,\"#7201a8\"],[0.3333333333333333,\"#9c179e\"],[0.4444444444444444,\"#bd3786\"],[0.5555555555555556,\"#d8576b\"],[0.6666666666666666,\"#ed7953\"],[0.7777777777777778,\"#fb9f3a\"],[0.8888888888888888,\"#fdca26\"],[1.0,\"#f0f921\"]],\"type\":\"contour\"}],\"contourcarpet\":[{\"colorbar\":{\"outlinewidth\":0,\"ticks\":\"\"},\"type\":\"contourcarpet\"}],\"heatmap\":[{\"colorbar\":{\"outlinewidth\":0,\"ticks\":\"\"},\"colorscale\":[[0.0,\"#0d0887\"],[0.1111111111111111,\"#46039f\"],[0.2222222222222222,\"#7201a8\"],[0.3333333333333333,\"#9c179e\"],[0.4444444444444444,\"#bd3786\"],[0.5555555555555556,\"#d8576b\"],[0.6666666666666666,\"#ed7953\"],[0.7777777777777778,\"#fb9f3a\"],[0.8888888888888888,\"#fdca26\"],[1.0,\"#f0f921\"]],\"type\":\"heatmap\"}],\"heatmapgl\":[{\"colorbar\":{\"outlinewidth\":0,\"ticks\":\"\"},\"colorscale\":[[0.0,\"#0d0887\"],[0.1111111111111111,\"#46039f\"],[0.2222222222222222,\"#7201a8\"],[0.3333333333333333,\"#9c179e\"],[0.4444444444444444,\"#bd3786\"],[0.5555555555555556,\"#d8576b\"],[0.6666666666666666,\"#ed7953\"],[0.7777777777777778,\"#fb9f3a\"],[0.8888888888888888,\"#fdca26\"],[1.0,\"#f0f921\"]],\"type\":\"heatmapgl\"}],\"histogram\":[{\"marker\":{\"pattern\":{\"fillmode\":\"overlay\",\"size\":10,\"solidity\":0.2}},\"type\":\"histogram\"}],\"histogram2d\":[{\"colorbar\":{\"outlinewidth\":0,\"ticks\":\"\"},\"colorscale\":[[0.0,\"#0d0887\"],[0.1111111111111111,\"#46039f\"],[0.2222222222222222,\"#7201a8\"],[0.3333333333333333,\"#9c179e\"],[0.4444444444444444,\"#bd3786\"],[0.5555555555555556,\"#d8576b\"],[0.6666666666666666,\"#ed7953\"],[0.7777777777777778,\"#fb9f3a\"],[0.8888888888888888,\"#fdca26\"],[1.0,\"#f0f921\"]],\"type\":\"histogram2d\"}],\"histogram2dcontour\":[{\"colorbar\":{\"outlinewidth\":0,\"ticks\":\"\"},\"colorscale\":[[0.0,\"#0d0887\"],[0.1111111111111111,\"#46039f\"],[0.2222222222222222,\"#7201a8\"],[0.3333333333333333,\"#9c179e\"],[0.4444444444444444,\"#bd3786\"],[0.5555555555555556,\"#d8576b\"],[0.6666666666666666,\"#ed7953\"],[0.7777777777777778,\"#fb9f3a\"],[0.8888888888888888,\"#fdca26\"],[1.0,\"#f0f921\"]],\"type\":\"histogram2dcontour\"}],\"mesh3d\":[{\"colorbar\":{\"outlinewidth\":0,\"ticks\":\"\"},\"type\":\"mesh3d\"}],\"parcoords\":[{\"line\":{\"colorbar\":{\"outlinewidth\":0,\"ticks\":\"\"}},\"type\":\"parcoords\"}],\"pie\":[{\"automargin\":true,\"type\":\"pie\"}],\"scatter\":[{\"marker\":{\"colorbar\":{\"outlinewidth\":0,\"ticks\":\"\"}},\"type\":\"scatter\"}],\"scatter3d\":[{\"line\":{\"colorbar\":{\"outlinewidth\":0,\"ticks\":\"\"}},\"marker\":{\"colorbar\":{\"outlinewidth\":0,\"ticks\":\"\"}},\"type\":\"scatter3d\"}],\"scattercarpet\":[{\"marker\":{\"colorbar\":{\"outlinewidth\":0,\"ticks\":\"\"}},\"type\":\"scattercarpet\"}],\"scattergeo\":[{\"marker\":{\"colorbar\":{\"outlinewidth\":0,\"ticks\":\"\"}},\"type\":\"scattergeo\"}],\"scattergl\":[{\"marker\":{\"colorbar\":{\"outlinewidth\":0,\"ticks\":\"\"}},\"type\":\"scattergl\"}],\"scattermapbox\":[{\"marker\":{\"colorbar\":{\"outlinewidth\":0,\"ticks\":\"\"}},\"type\":\"scattermapbox\"}],\"scatterpolar\":[{\"marker\":{\"colorbar\":{\"outlinewidth\":0,\"ticks\":\"\"}},\"type\":\"scatterpolar\"}],\"scatterpolargl\":[{\"marker\":{\"colorbar\":{\"outlinewidth\":0,\"ticks\":\"\"}},\"type\":\"scatterpolargl\"}],\"scatterternary\":[{\"marker\":{\"colorbar\":{\"outlinewidth\":0,\"ticks\":\"\"}},\"type\":\"scatterternary\"}],\"surface\":[{\"colorbar\":{\"outlinewidth\":0,\"ticks\":\"\"},\"colorscale\":[[0.0,\"#0d0887\"],[0.1111111111111111,\"#46039f\"],[0.2222222222222222,\"#7201a8\"],[0.3333333333333333,\"#9c179e\"],[0.4444444444444444,\"#bd3786\"],[0.5555555555555556,\"#d8576b\"],[0.6666666666666666,\"#ed7953\"],[0.7777777777777778,\"#fb9f3a\"],[0.8888888888888888,\"#fdca26\"],[1.0,\"#f0f921\"]],\"type\":\"surface\"}],\"table\":[{\"cells\":{\"fill\":{\"color\":\"#EBF0F8\"},\"line\":{\"color\":\"white\"}},\"header\":{\"fill\":{\"color\":\"#C8D4E3\"},\"line\":{\"color\":\"white\"}},\"type\":\"table\"}]},\"layout\":{\"annotationdefaults\":{\"arrowcolor\":\"#2a3f5f\",\"arrowhead\":0,\"arrowwidth\":1},\"autotypenumbers\":\"strict\",\"coloraxis\":{\"colorbar\":{\"outlinewidth\":0,\"ticks\":\"\"}},\"colorscale\":{\"diverging\":[[0,\"#8e0152\"],[0.1,\"#c51b7d\"],[0.2,\"#de77ae\"],[0.3,\"#f1b6da\"],[0.4,\"#fde0ef\"],[0.5,\"#f7f7f7\"],[0.6,\"#e6f5d0\"],[0.7,\"#b8e186\"],[0.8,\"#7fbc41\"],[0.9,\"#4d9221\"],[1,\"#276419\"]],\"sequential\":[[0.0,\"#0d0887\"],[0.1111111111111111,\"#46039f\"],[0.2222222222222222,\"#7201a8\"],[0.3333333333333333,\"#9c179e\"],[0.4444444444444444,\"#bd3786\"],[0.5555555555555556,\"#d8576b\"],[0.6666666666666666,\"#ed7953\"],[0.7777777777777778,\"#fb9f3a\"],[0.8888888888888888,\"#fdca26\"],[1.0,\"#f0f921\"]],\"sequentialminus\":[[0.0,\"#0d0887\"],[0.1111111111111111,\"#46039f\"],[0.2222222222222222,\"#7201a8\"],[0.3333333333333333,\"#9c179e\"],[0.4444444444444444,\"#bd3786\"],[0.5555555555555556,\"#d8576b\"],[0.6666666666666666,\"#ed7953\"],[0.7777777777777778,\"#fb9f3a\"],[0.8888888888888888,\"#fdca26\"],[1.0,\"#f0f921\"]]},\"colorway\":[\"#636efa\",\"#EF553B\",\"#00cc96\",\"#ab63fa\",\"#FFA15A\",\"#19d3f3\",\"#FF6692\",\"#B6E880\",\"#FF97FF\",\"#FECB52\"],\"font\":{\"color\":\"#2a3f5f\"},\"geo\":{\"bgcolor\":\"white\",\"lakecolor\":\"white\",\"landcolor\":\"#E5ECF6\",\"showlakes\":true,\"showland\":true,\"subunitcolor\":\"white\"},\"hoverlabel\":{\"align\":\"left\"},\"hovermode\":\"closest\",\"mapbox\":{\"style\":\"light\"},\"paper_bgcolor\":\"white\",\"plot_bgcolor\":\"#E5ECF6\",\"polar\":{\"angularaxis\":{\"gridcolor\":\"white\",\"linecolor\":\"white\",\"ticks\":\"\"},\"bgcolor\":\"#E5ECF6\",\"radialaxis\":{\"gridcolor\":\"white\",\"linecolor\":\"white\",\"ticks\":\"\"}},\"scene\":{\"xaxis\":{\"backgroundcolor\":\"#E5ECF6\",\"gridcolor\":\"white\",\"gridwidth\":2,\"linecolor\":\"white\",\"showbackground\":true,\"ticks\":\"\",\"zerolinecolor\":\"white\"},\"yaxis\":{\"backgroundcolor\":\"#E5ECF6\",\"gridcolor\":\"white\",\"gridwidth\":2,\"linecolor\":\"white\",\"showbackground\":true,\"ticks\":\"\",\"zerolinecolor\":\"white\"},\"zaxis\":{\"backgroundcolor\":\"#E5ECF6\",\"gridcolor\":\"white\",\"gridwidth\":2,\"linecolor\":\"white\",\"showbackground\":true,\"ticks\":\"\",\"zerolinecolor\":\"white\"}},\"shapedefaults\":{\"line\":{\"color\":\"#2a3f5f\"}},\"ternary\":{\"aaxis\":{\"gridcolor\":\"white\",\"linecolor\":\"white\",\"ticks\":\"\"},\"baxis\":{\"gridcolor\":\"white\",\"linecolor\":\"white\",\"ticks\":\"\"},\"bgcolor\":\"#E5ECF6\",\"caxis\":{\"gridcolor\":\"white\",\"linecolor\":\"white\",\"ticks\":\"\"}},\"title\":{\"x\":0.05},\"xaxis\":{\"automargin\":true,\"gridcolor\":\"white\",\"linecolor\":\"white\",\"ticks\":\"\",\"title\":{\"standoff\":15},\"zerolinecolor\":\"white\",\"zerolinewidth\":2},\"yaxis\":{\"automargin\":true,\"gridcolor\":\"white\",\"linecolor\":\"white\",\"ticks\":\"\",\"title\":{\"standoff\":15},\"zerolinecolor\":\"white\",\"zerolinewidth\":2}}},\"scene\":{\"domain\":{\"x\":[0.0,1.0],\"y\":[0.0,1.0]},\"xaxis\":{\"title\":{\"text\":\"NewCases\"}},\"yaxis\":{\"title\":{\"text\":\"Infection_Risk\"}},\"zaxis\":{\"title\":{\"text\":\"NewDeaths\"}}},\"coloraxis\":{\"colorbar\":{\"title\":{\"text\":\"class\"}},\"colorscale\":[[0.0,\"#0d0887\"],[0.1111111111111111,\"#46039f\"],[0.2222222222222222,\"#7201a8\"],[0.3333333333333333,\"#9c179e\"],[0.4444444444444444,\"#bd3786\"],[0.5555555555555556,\"#d8576b\"],[0.6666666666666666,\"#ed7953\"],[0.7777777777777778,\"#fb9f3a\"],[0.8888888888888888,\"#fdca26\"],[1.0,\"#f0f921\"]]},\"legend\":{\"title\":{\"text\":\"class\"},\"tracegroupgap\":0,\"x\":0,\"y\":1},\"margin\":{\"t\":60}},                        {\"responsive\": true}                    ).then(function(){\n",
       "                            \n",
       "var gd = document.getElementById('3ab3e4eb-02fb-4e3d-990d-5ed0f363feaf');\n",
       "var x = new MutationObserver(function (mutations, observer) {{\n",
       "        var display = window.getComputedStyle(gd).display;\n",
       "        if (!display || display === 'none') {{\n",
       "            console.log([gd, 'removed!']);\n",
       "            Plotly.purge(gd);\n",
       "            observer.disconnect();\n",
       "        }}\n",
       "}});\n",
       "\n",
       "// Listen for the removal of the full notebook cells\n",
       "var notebookContainer = gd.closest('#notebook-container');\n",
       "if (notebookContainer) {{\n",
       "    x.observe(notebookContainer, {childList: true});\n",
       "}}\n",
       "\n",
       "// Listen for the clearing of the current output cell\n",
       "var outputEl = gd.closest('.output');\n",
       "if (outputEl) {{\n",
       "    x.observe(outputEl, {childList: true});\n",
       "}}\n",
       "\n",
       "                        })                };                });            </script>        </div>"
      ]
     },
     "metadata": {},
     "output_type": "display_data"
    }
   ],
   "source": [
    "fig = px.scatter_3d(\n",
    "    covid_data_df,\n",
    "    x=\"NewCases\",\n",
    "    y=\"Infection_Risk\",\n",
    "    z=\"NewDeaths\",\n",
    "    color=\"class\",\n",
    "    symbol=\"class\",\n",
    ")\n",
    "fig.update_layout(legend=dict(x=0, y=1))\n",
    "fig.show()"
   ]
  },
  {
   "cell_type": "markdown",
   "metadata": {},
   "source": [
    "## 5 clusters"
   ]
  },
  {
   "cell_type": "code",
   "execution_count": 60,
   "metadata": {},
   "outputs": [
    {
     "data": {
      "text/plain": [
       "KMeans(n_clusters=5, random_state=0)"
      ]
     },
     "execution_count": 60,
     "metadata": {},
     "output_type": "execute_result"
    }
   ],
   "source": [
    "#INITIALIZING CLUSTERING TO 6 AS SHOWN IN THE ELBOW CURVE\n",
    "model = KMeans(n_clusters=5, random_state=0)\n",
    "model"
   ]
  },
  {
   "cell_type": "code",
   "execution_count": 61,
   "metadata": {},
   "outputs": [
    {
     "data": {
      "text/plain": [
       "KMeans(n_clusters=5, random_state=0)"
      ]
     },
     "execution_count": 61,
     "metadata": {},
     "output_type": "execute_result"
    }
   ],
   "source": [
    "# Fitting model\n",
    "model.fit(covid_data_df)"
   ]
  },
  {
   "cell_type": "code",
   "execution_count": 62,
   "metadata": {},
   "outputs": [
    {
     "name": "stdout",
     "output_type": "stream",
     "text": [
      "[1 0 3 4 4 2 3 0 4 3 0 0 2 4 0 3 0 0 3 3 0 3 0 0 0 0 0 0 3 0 0 0 0 3 3 0 0\n",
      " 0 0 0 0 0 0 0 0 0 0 0 0 0 0 0 0 0 0 0 0 0 0 0 0 0 0 0 0 0 3 0 0 0 0 0 0 0\n",
      " 0 0 0 0 0 0 0 0 0 0 0 0 0 0 0 0 0 0 0 0 0 0 0 0 0 0 0 0 0 0 0 0 0 0 0 0 0\n",
      " 0 0 0 0 0 0 0 0 0 0 0 0 0 0 0 0 0 0 0 0 0 0 0 0 0 0 0 0 0 0 0 0 0 0 0 0 0\n",
      " 0 0 0 0 0 0 0 0 0 0 0 0 0 0 0 0 0 0 0 0 0 0 0 0 0 0 0 0 0 0 0 0 0 0 0 0 0\n",
      " 0 0 0 0 0 0 0 0 0 0 0 0 0 0 0 0 0 0 0 0 0 0 0 0 0 0 0 0 0 0 0 0 0 0 0]\n"
     ]
    }
   ],
   "source": [
    "# Get the predictions\n",
    "predictions = model.predict(covid_data_df)\n",
    "print(predictions)"
   ]
  },
  {
   "cell_type": "code",
   "execution_count": 63,
   "metadata": {},
   "outputs": [
    {
     "data": {
      "text/html": [
       "<div>\n",
       "<style scoped>\n",
       "    .dataframe tbody tr th:only-of-type {\n",
       "        vertical-align: middle;\n",
       "    }\n",
       "\n",
       "    .dataframe tbody tr th {\n",
       "        vertical-align: top;\n",
       "    }\n",
       "\n",
       "    .dataframe thead th {\n",
       "        text-align: right;\n",
       "    }\n",
       "</style>\n",
       "<table border=\"1\" class=\"dataframe\">\n",
       "  <thead>\n",
       "    <tr style=\"text-align: right;\">\n",
       "      <th></th>\n",
       "      <th>Unnamed: 0</th>\n",
       "      <th>Infection_Risk</th>\n",
       "      <th>Case_Fatality_Rate</th>\n",
       "      <th>Recovery_Proporation</th>\n",
       "      <th>NewCases</th>\n",
       "      <th>NewDeaths</th>\n",
       "      <th>NewRecovered</th>\n",
       "      <th>ActiveCases</th>\n",
       "      <th>Serious_Critical</th>\n",
       "      <th>class</th>\n",
       "    </tr>\n",
       "    <tr>\n",
       "      <th>Country</th>\n",
       "      <th></th>\n",
       "      <th></th>\n",
       "      <th></th>\n",
       "      <th></th>\n",
       "      <th></th>\n",
       "      <th></th>\n",
       "      <th></th>\n",
       "      <th></th>\n",
       "      <th></th>\n",
       "      <th></th>\n",
       "    </tr>\n",
       "  </thead>\n",
       "  <tbody>\n",
       "    <tr>\n",
       "      <th>USA</th>\n",
       "      <td>2</td>\n",
       "      <td>24.40</td>\n",
       "      <td>1.23</td>\n",
       "      <td>78.38</td>\n",
       "      <td>11781</td>\n",
       "      <td>354</td>\n",
       "      <td>115862</td>\n",
       "      <td>16634853</td>\n",
       "      <td>2621</td>\n",
       "      <td>1</td>\n",
       "    </tr>\n",
       "    <tr>\n",
       "      <th>India</th>\n",
       "      <td>3</td>\n",
       "      <td>3.07</td>\n",
       "      <td>1.20</td>\n",
       "      <td>98.75</td>\n",
       "      <td>0</td>\n",
       "      <td>0</td>\n",
       "      <td>0</td>\n",
       "      <td>21500</td>\n",
       "      <td>8944</td>\n",
       "      <td>0</td>\n",
       "    </tr>\n",
       "    <tr>\n",
       "      <th>Brazil</th>\n",
       "      <td>4</td>\n",
       "      <td>13.85</td>\n",
       "      <td>2.21</td>\n",
       "      <td>95.32</td>\n",
       "      <td>34576</td>\n",
       "      <td>199</td>\n",
       "      <td>0</td>\n",
       "      <td>736234</td>\n",
       "      <td>8318</td>\n",
       "      <td>3</td>\n",
       "    </tr>\n",
       "    <tr>\n",
       "      <th>France</th>\n",
       "      <td>5</td>\n",
       "      <td>37.82</td>\n",
       "      <td>0.57</td>\n",
       "      <td>92.29</td>\n",
       "      <td>143571</td>\n",
       "      <td>121</td>\n",
       "      <td>53554</td>\n",
       "      <td>1767763</td>\n",
       "      <td>1564</td>\n",
       "      <td>4</td>\n",
       "    </tr>\n",
       "    <tr>\n",
       "      <th>UK</th>\n",
       "      <td>6</td>\n",
       "      <td>30.21</td>\n",
       "      <td>0.79</td>\n",
       "      <td>90.78</td>\n",
       "      <td>39925</td>\n",
       "      <td>172</td>\n",
       "      <td>24952</td>\n",
       "      <td>1743492</td>\n",
       "      <td>302</td>\n",
       "      <td>4</td>\n",
       "    </tr>\n",
       "  </tbody>\n",
       "</table>\n",
       "</div>"
      ],
      "text/plain": [
       "         Unnamed: 0  Infection_Risk  Case_Fatality_Rate  Recovery_Proporation  \\\n",
       "Country                                                                         \n",
       "USA               2           24.40                1.23                 78.38   \n",
       "India             3            3.07                1.20                 98.75   \n",
       "Brazil            4           13.85                2.21                 95.32   \n",
       "France            5           37.82                0.57                 92.29   \n",
       "UK                6           30.21                0.79                 90.78   \n",
       "\n",
       "         NewCases  NewDeaths  NewRecovered  ActiveCases  Serious_Critical  \\\n",
       "Country                                                                     \n",
       "USA         11781        354        115862     16634853              2621   \n",
       "India           0          0             0        21500              8944   \n",
       "Brazil      34576        199             0       736234              8318   \n",
       "France     143571        121         53554      1767763              1564   \n",
       "UK          39925        172         24952      1743492               302   \n",
       "\n",
       "         class  \n",
       "Country         \n",
       "USA          1  \n",
       "India        0  \n",
       "Brazil       3  \n",
       "France       4  \n",
       "UK           4  "
      ]
     },
     "execution_count": 63,
     "metadata": {},
     "output_type": "execute_result"
    }
   ],
   "source": [
    "# Add a new class column to the covid_data\n",
    "covid_data_df[\"class\"] = model.labels_\n",
    "covid_data_df.head()"
   ]
  },
  {
   "cell_type": "code",
   "execution_count": 64,
   "metadata": {},
   "outputs": [],
   "source": [
    "cluster5_mar_df = covid_data_df"
   ]
  },
  {
   "cell_type": "code",
   "execution_count": 65,
   "metadata": {},
   "outputs": [],
   "source": [
    "def upload_df(data,i):\n",
    "    s3 = boto3.client('s3', aws_access_key_id=ACCESS_KEY_ID, aws_secret_access_key=ACCESS_SECRET_KEY)\n",
    "    csv_buf=StringIO()\n",
    "    data.to_csv(csv_buf, header=True, index=False)\n",
    "    csv_buf.seek(0)\n",
    "    s3.put_object(Bucket=BUCKET_NAME, Body=csv_buf.getvalue(), Key='datasets/'+i)\n",
    "\n",
    "upload_df(cluster5_mar_df,'cluster5_mar.csv')"
   ]
  },
  {
   "cell_type": "code",
   "execution_count": 29,
   "metadata": {},
   "outputs": [],
   "source": [
    "import plotly.express as px\n",
    "import hvplot.pandas"
   ]
  },
  {
   "cell_type": "code",
   "execution_count": 30,
   "metadata": {},
   "outputs": [
    {
     "data": {},
     "metadata": {},
     "output_type": "display_data"
    },
    {
     "data": {
      "application/vnd.holoviews_exec.v0+json": "",
      "text/html": [
       "<div id='2557'>\n",
       "\n",
       "\n",
       "\n",
       "\n",
       "\n",
       "  <div class=\"bk-root\" id=\"b8ebe67d-d8aa-4580-bcb7-c77f18f6d947\" data-root-id=\"2557\"></div>\n",
       "</div>\n",
       "<script type=\"application/javascript\">(function(root) {\n",
       "  function embed_document(root) {\n",
       "    var docs_json = {\"739ba227-7764-4690-94bb-a51c90d26f31\":{\"defs\":[{\"extends\":null,\"module\":null,\"name\":\"ReactiveHTML1\",\"overrides\":[],\"properties\":[]},{\"extends\":null,\"module\":null,\"name\":\"FlexBox1\",\"overrides\":[],\"properties\":[{\"default\":\"flex-start\",\"kind\":null,\"name\":\"align_content\"},{\"default\":\"flex-start\",\"kind\":null,\"name\":\"align_items\"},{\"default\":\"row\",\"kind\":null,\"name\":\"flex_direction\"},{\"default\":\"wrap\",\"kind\":null,\"name\":\"flex_wrap\"},{\"default\":\"flex-start\",\"kind\":null,\"name\":\"justify_content\"}]},{\"extends\":null,\"module\":null,\"name\":\"TemplateActions1\",\"overrides\":[],\"properties\":[{\"default\":0,\"kind\":null,\"name\":\"open_modal\"},{\"default\":0,\"kind\":null,\"name\":\"close_modal\"}]},{\"extends\":null,\"module\":null,\"name\":\"MaterialTemplateActions1\",\"overrides\":[],\"properties\":[{\"default\":0,\"kind\":null,\"name\":\"open_modal\"},{\"default\":0,\"kind\":null,\"name\":\"close_modal\"}]}],\"roots\":{\"references\":[{\"attributes\":{},\"id\":\"2690\",\"type\":\"UnionRenderers\"},{\"attributes\":{\"click_policy\":\"mute\",\"coordinates\":null,\"group\":null,\"items\":[{\"id\":\"2621\"},{\"id\":\"2643\"},{\"id\":\"2667\"},{\"id\":\"2693\"},{\"id\":\"2721\"}],\"location\":[0,0],\"title\":\"class\"},\"id\":\"2620\",\"type\":\"Legend\"},{\"attributes\":{\"data\":{\"Case_Fatality_Rate\":{\"__ndarray__\":\"rkfhehSu8z8=\",\"dtype\":\"float64\",\"order\":\"little\",\"shape\":[1]},\"Infection_Risk\":{\"__ndarray__\":\"ZmZmZmZmOEA=\",\"dtype\":\"float64\",\"order\":\"little\",\"shape\":[1]},\"class\":[1]},\"selected\":{\"id\":\"2624\"},\"selection_policy\":{\"id\":\"2640\"}},\"id\":\"2623\",\"type\":\"ColumnDataSource\"},{\"attributes\":{\"fill_color\":{\"value\":\"#fc4f30\"},\"hatch_color\":{\"value\":\"#fc4f30\"},\"line_color\":{\"value\":\"#fc4f30\"},\"size\":{\"value\":5.477225575051661},\"x\":{\"field\":\"Case_Fatality_Rate\"},\"y\":{\"field\":\"Infection_Risk\"}},\"id\":\"2626\",\"type\":\"Scatter\"},{\"attributes\":{},\"id\":\"2576\",\"type\":\"BasicTicker\"},{\"attributes\":{},\"id\":\"2597\",\"type\":\"BasicTickFormatter\"},{\"attributes\":{},\"id\":\"2571\",\"type\":\"LinearScale\"},{\"attributes\":{},\"id\":\"2664\",\"type\":\"UnionRenderers\"},{\"attributes\":{\"coordinates\":null,\"group\":null,\"text_color\":\"black\",\"text_font_size\":\"12pt\"},\"id\":\"2567\",\"type\":\"Title\"},{\"attributes\":{\"margin\":[5,5,5,5],\"name\":\"HSpacer05119\",\"sizing_mode\":\"stretch_width\"},\"id\":\"2558\",\"type\":\"Spacer\"},{\"attributes\":{\"data\":{\"Case_Fatality_Rate\":{\"__ndarray__\":\"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\",\"dtype\":\"float64\",\"order\":\"little\",\"shape\":[202]},\"Infection_Risk\":{\"__ndarray__\":\"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\",\"dtype\":\"float64\",\"order\":\"little\",\"shape\":[202]},\"class\":[0,0,0,0,0,0,0,0,0,0,0,0,0,0,0,0,0,0,0,0,0,0,0,0,0,0,0,0,0,0,0,0,0,0,0,0,0,0,0,0,0,0,0,0,0,0,0,0,0,0,0,0,0,0,0,0,0,0,0,0,0,0,0,0,0,0,0,0,0,0,0,0,0,0,0,0,0,0,0,0,0,0,0,0,0,0,0,0,0,0,0,0,0,0,0,0,0,0,0,0,0,0,0,0,0,0,0,0,0,0,0,0,0,0,0,0,0,0,0,0,0,0,0,0,0,0,0,0,0,0,0,0,0,0,0,0,0,0,0,0,0,0,0,0,0,0,0,0,0,0,0,0,0,0,0,0,0,0,0,0,0,0,0,0,0,0,0,0,0,0,0,0,0,0,0,0,0,0,0,0,0,0,0,0,0,0,0,0,0,0,0,0,0,0,0,0,0,0,0,0,0,0]},\"selected\":{\"id\":\"2603\"},\"selection_policy\":{\"id\":\"2617\"}},\"id\":\"2602\",\"type\":\"ColumnDataSource\"},{\"attributes\":{},\"id\":\"2584\",\"type\":\"PanTool\"},{\"attributes\":{\"label\":{\"value\":\"2\"},\"renderers\":[{\"id\":\"2651\"}]},\"id\":\"2667\",\"type\":\"LegendItem\"},{\"attributes\":{\"fill_alpha\":{\"value\":0.1},\"fill_color\":{\"value\":\"#e5ae38\"},\"hatch_alpha\":{\"value\":0.1},\"hatch_color\":{\"value\":\"#e5ae38\"},\"line_alpha\":{\"value\":0.1},\"line_color\":{\"value\":\"#e5ae38\"},\"size\":{\"value\":5.477225575051661},\"x\":{\"field\":\"Case_Fatality_Rate\"},\"y\":{\"field\":\"Infection_Risk\"}},\"id\":\"2649\",\"type\":\"Scatter\"},{\"attributes\":{\"children\":[{\"id\":\"2558\"},{\"id\":\"2566\"},{\"id\":\"2885\"}],\"margin\":[0,0,0,0],\"name\":\"Row05115\",\"tags\":[\"embedded\"]},\"id\":\"2557\",\"type\":\"Row\"},{\"attributes\":{\"data\":{\"Case_Fatality_Rate\":{\"__ndarray__\":\"PQrXo3A94j9I4XoUrkfpP8P1KFyPwvE/7FG4HoXr0T8=\",\"dtype\":\"float64\",\"order\":\"little\",\"shape\":[4]},\"Infection_Risk\":{\"__ndarray__\":\"KVyPwvXoQkD2KFyPwjU+QNejcD0KlzdAw/UoXI9iRkA=\",\"dtype\":\"float64\",\"order\":\"little\",\"shape\":[4]},\"class\":[4,4,4,4]},\"selected\":{\"id\":\"2696\"},\"selection_policy\":{\"id\":\"2718\"}},\"id\":\"2695\",\"type\":\"ColumnDataSource\"},{\"attributes\":{\"label\":{\"value\":\"1\"},\"renderers\":[{\"id\":\"2629\"}]},\"id\":\"2643\",\"type\":\"LegendItem\"},{\"attributes\":{\"coordinates\":null,\"data_source\":{\"id\":\"2645\"},\"glyph\":{\"id\":\"2648\"},\"group\":null,\"hover_glyph\":null,\"muted_glyph\":{\"id\":\"2650\"},\"nonselection_glyph\":{\"id\":\"2649\"},\"selection_glyph\":{\"id\":\"2668\"},\"view\":{\"id\":\"2652\"}},\"id\":\"2651\",\"type\":\"GlyphRenderer\"},{\"attributes\":{\"axis_label\":\"Case_Fatality_Rate\",\"coordinates\":null,\"formatter\":{\"id\":\"2597\"},\"group\":null,\"major_label_policy\":{\"id\":\"2598\"},\"ticker\":{\"id\":\"2576\"}},\"id\":\"2575\",\"type\":\"LinearAxis\"},{\"attributes\":{\"axis\":{\"id\":\"2579\"},\"coordinates\":null,\"dimension\":1,\"grid_line_color\":null,\"group\":null,\"ticker\":null},\"id\":\"2582\",\"type\":\"Grid\"},{\"attributes\":{\"source\":{\"id\":\"2623\"}},\"id\":\"2630\",\"type\":\"CDSView\"},{\"attributes\":{\"source\":{\"id\":\"2645\"}},\"id\":\"2652\",\"type\":\"CDSView\"},{\"attributes\":{},\"id\":\"2573\",\"type\":\"LinearScale\"},{\"attributes\":{\"fill_alpha\":{\"value\":0.2},\"fill_color\":{\"value\":\"#e5ae38\"},\"hatch_alpha\":{\"value\":0.2},\"hatch_color\":{\"value\":\"#e5ae38\"},\"line_alpha\":{\"value\":0.2},\"line_color\":{\"value\":\"#e5ae38\"},\"size\":{\"value\":5.477225575051661},\"x\":{\"field\":\"Case_Fatality_Rate\"},\"y\":{\"field\":\"Infection_Risk\"}},\"id\":\"2650\",\"type\":\"Scatter\"},{\"attributes\":{\"angle\":{\"value\":0.0},\"fill_alpha\":{\"value\":1.0},\"fill_color\":{\"value\":\"#8b8b8b\"},\"hatch_alpha\":{\"value\":1.0},\"hatch_color\":{\"value\":\"#8b8b8b\"},\"hatch_scale\":{\"value\":12.0},\"hatch_weight\":{\"value\":1.0},\"line_alpha\":{\"value\":1.0},\"line_cap\":{\"value\":\"butt\"},\"line_color\":{\"value\":\"#8b8b8b\"},\"line_dash\":{\"value\":[]},\"line_dash_offset\":{\"value\":0},\"line_join\":{\"value\":\"bevel\"},\"line_width\":{\"value\":1},\"marker\":{\"value\":\"circle\"},\"size\":{\"value\":5.477225575051661},\"x\":{\"field\":\"Case_Fatality_Rate\"},\"y\":{\"field\":\"Infection_Risk\"}},\"id\":\"2722\",\"type\":\"Scatter\"},{\"attributes\":{},\"id\":\"2583\",\"type\":\"SaveTool\"},{\"attributes\":{},\"id\":\"2580\",\"type\":\"BasicTicker\"},{\"attributes\":{\"axis\":{\"id\":\"2575\"},\"coordinates\":null,\"grid_line_color\":null,\"group\":null,\"ticker\":null},\"id\":\"2578\",\"type\":\"Grid\"},{\"attributes\":{},\"id\":\"2585\",\"type\":\"WheelZoomTool\"},{\"attributes\":{\"axis_label\":\"Infection_Risk\",\"coordinates\":null,\"formatter\":{\"id\":\"2600\"},\"group\":null,\"major_label_policy\":{\"id\":\"2601\"},\"ticker\":{\"id\":\"2580\"}},\"id\":\"2579\",\"type\":\"LinearAxis\"},{\"attributes\":{\"overlay\":{\"id\":\"2588\"}},\"id\":\"2586\",\"type\":\"BoxZoomTool\"},{\"attributes\":{\"fill_alpha\":{\"value\":0.1},\"fill_color\":{\"value\":\"#fc4f30\"},\"hatch_alpha\":{\"value\":0.1},\"hatch_color\":{\"value\":\"#fc4f30\"},\"line_alpha\":{\"value\":0.1},\"line_color\":{\"value\":\"#fc4f30\"},\"size\":{\"value\":5.477225575051661},\"x\":{\"field\":\"Case_Fatality_Rate\"},\"y\":{\"field\":\"Infection_Risk\"}},\"id\":\"2627\",\"type\":\"Scatter\"},{\"attributes\":{},\"id\":\"2587\",\"type\":\"ResetTool\"},{\"attributes\":{},\"id\":\"2624\",\"type\":\"Selection\"},{\"attributes\":{\"coordinates\":null,\"data_source\":{\"id\":\"2623\"},\"glyph\":{\"id\":\"2626\"},\"group\":null,\"hover_glyph\":null,\"muted_glyph\":{\"id\":\"2628\"},\"nonselection_glyph\":{\"id\":\"2627\"},\"selection_glyph\":{\"id\":\"2644\"},\"view\":{\"id\":\"2630\"}},\"id\":\"2629\",\"type\":\"GlyphRenderer\"},{\"attributes\":{\"bottom_units\":\"screen\",\"coordinates\":null,\"fill_alpha\":0.5,\"fill_color\":\"lightgrey\",\"group\":null,\"left_units\":\"screen\",\"level\":\"overlay\",\"line_alpha\":1.0,\"line_color\":\"black\",\"line_dash\":[4,4],\"line_width\":2,\"right_units\":\"screen\",\"syncable\":false,\"top_units\":\"screen\"},\"id\":\"2588\",\"type\":\"BoxAnnotation\"},{\"attributes\":{\"data\":{\"Case_Fatality_Rate\":{\"__ndarray__\":\"rkfhehSuAUCPwvUoXI8AQHsUrkfheuw/KVyPwvUo3D/hehSuR+H+P9ejcD0K1xZA7FG4HoXrwT+F61G4HoXbPz0K16NwPfo/mpmZmZmZ2T9mZmZmZmbWPw==\",\"dtype\":\"float64\",\"order\":\"little\",\"shape\":[11]},\"Infection_Risk\":{\"__ndarray__\":\"MzMzMzOzK0DD9Shcj0IoQHsUrkfhejhA16NwPQrXE0DsUbgehWsvQDMzMzMzMxFAUrgehesRMEBmZmZmZiZEQPYoXI/CtTFA7FG4HoVrQ0BmZmZmZmYuQA==\",\"dtype\":\"float64\",\"order\":\"little\",\"shape\":[11]},\"class\":[3,3,3,3,3,3,3,3,3,3,3]},\"selected\":{\"id\":\"2670\"},\"selection_policy\":{\"id\":\"2690\"}},\"id\":\"2669\",\"type\":\"ColumnDataSource\"},{\"attributes\":{},\"id\":\"2598\",\"type\":\"AllLabels\"},{\"attributes\":{\"fill_alpha\":{\"value\":0.2},\"fill_color\":{\"value\":\"#fc4f30\"},\"hatch_alpha\":{\"value\":0.2},\"hatch_color\":{\"value\":\"#fc4f30\"},\"line_alpha\":{\"value\":0.2},\"line_color\":{\"value\":\"#fc4f30\"},\"size\":{\"value\":5.477225575051661},\"x\":{\"field\":\"Case_Fatality_Rate\"},\"y\":{\"field\":\"Infection_Risk\"}},\"id\":\"2628\",\"type\":\"Scatter\"},{\"attributes\":{\"source\":{\"id\":\"2602\"}},\"id\":\"2609\",\"type\":\"CDSView\"},{\"attributes\":{\"angle\":{\"value\":0.0},\"fill_alpha\":{\"value\":1.0},\"fill_color\":{\"value\":\"#6d904f\"},\"hatch_alpha\":{\"value\":1.0},\"hatch_color\":{\"value\":\"#6d904f\"},\"hatch_scale\":{\"value\":12.0},\"hatch_weight\":{\"value\":1.0},\"line_alpha\":{\"value\":1.0},\"line_cap\":{\"value\":\"butt\"},\"line_color\":{\"value\":\"#6d904f\"},\"line_dash\":{\"value\":[]},\"line_dash_offset\":{\"value\":0},\"line_join\":{\"value\":\"bevel\"},\"line_width\":{\"value\":1},\"marker\":{\"value\":\"circle\"},\"size\":{\"value\":5.477225575051661},\"x\":{\"field\":\"Case_Fatality_Rate\"},\"y\":{\"field\":\"Infection_Risk\"}},\"id\":\"2694\",\"type\":\"Scatter\"},{\"attributes\":{},\"id\":\"2640\",\"type\":\"UnionRenderers\"},{\"attributes\":{},\"id\":\"2601\",\"type\":\"AllLabels\"},{\"attributes\":{\"fill_color\":{\"value\":\"#8b8b8b\"},\"hatch_color\":{\"value\":\"#8b8b8b\"},\"line_color\":{\"value\":\"#8b8b8b\"},\"size\":{\"value\":5.477225575051661},\"x\":{\"field\":\"Case_Fatality_Rate\"},\"y\":{\"field\":\"Infection_Risk\"}},\"id\":\"2698\",\"type\":\"Scatter\"},{\"attributes\":{\"margin\":[5,5,5,5],\"name\":\"HSpacer05120\",\"sizing_mode\":\"stretch_width\"},\"id\":\"2885\",\"type\":\"Spacer\"},{\"attributes\":{\"fill_alpha\":{\"value\":0.2},\"fill_color\":{\"value\":\"#30a2da\"},\"hatch_alpha\":{\"value\":0.2},\"hatch_color\":{\"value\":\"#30a2da\"},\"line_alpha\":{\"value\":0.2},\"line_color\":{\"value\":\"#30a2da\"},\"size\":{\"value\":5.477225575051661},\"x\":{\"field\":\"Case_Fatality_Rate\"},\"y\":{\"field\":\"Infection_Risk\"}},\"id\":\"2607\",\"type\":\"Scatter\"},{\"attributes\":{\"angle\":{\"value\":0.0},\"fill_alpha\":{\"value\":1.0},\"fill_color\":{\"value\":\"#e5ae38\"},\"hatch_alpha\":{\"value\":1.0},\"hatch_color\":{\"value\":\"#e5ae38\"},\"hatch_scale\":{\"value\":12.0},\"hatch_weight\":{\"value\":1.0},\"line_alpha\":{\"value\":1.0},\"line_cap\":{\"value\":\"butt\"},\"line_color\":{\"value\":\"#e5ae38\"},\"line_dash\":{\"value\":[]},\"line_dash_offset\":{\"value\":0},\"line_join\":{\"value\":\"bevel\"},\"line_width\":{\"value\":1},\"marker\":{\"value\":\"circle\"},\"size\":{\"value\":5.477225575051661},\"x\":{\"field\":\"Case_Fatality_Rate\"},\"y\":{\"field\":\"Infection_Risk\"}},\"id\":\"2668\",\"type\":\"Scatter\"},{\"attributes\":{\"label\":{\"value\":\"4\"},\"renderers\":[{\"id\":\"2701\"}]},\"id\":\"2721\",\"type\":\"LegendItem\"},{\"attributes\":{},\"id\":\"2617\",\"type\":\"UnionRenderers\"},{\"attributes\":{},\"id\":\"2696\",\"type\":\"Selection\"},{\"attributes\":{\"below\":[{\"id\":\"2575\"}],\"center\":[{\"id\":\"2578\"},{\"id\":\"2582\"}],\"height\":300,\"left\":[{\"id\":\"2579\"}],\"margin\":[5,5,5,5],\"min_border_bottom\":10,\"min_border_left\":10,\"min_border_right\":10,\"min_border_top\":10,\"renderers\":[{\"id\":\"2608\"},{\"id\":\"2629\"},{\"id\":\"2651\"},{\"id\":\"2675\"},{\"id\":\"2701\"}],\"right\":[{\"id\":\"2620\"}],\"sizing_mode\":\"fixed\",\"title\":{\"id\":\"2567\"},\"toolbar\":{\"id\":\"2589\"},\"width\":700,\"x_range\":{\"id\":\"2559\"},\"x_scale\":{\"id\":\"2571\"},\"y_range\":{\"id\":\"2560\"},\"y_scale\":{\"id\":\"2573\"}},\"id\":\"2566\",\"subtype\":\"Figure\",\"type\":\"Plot\"},{\"attributes\":{\"fill_color\":{\"value\":\"#6d904f\"},\"hatch_color\":{\"value\":\"#6d904f\"},\"line_color\":{\"value\":\"#6d904f\"},\"size\":{\"value\":5.477225575051661},\"x\":{\"field\":\"Case_Fatality_Rate\"},\"y\":{\"field\":\"Infection_Risk\"}},\"id\":\"2672\",\"type\":\"Scatter\"},{\"attributes\":{},\"id\":\"2718\",\"type\":\"UnionRenderers\"},{\"attributes\":{\"fill_alpha\":{\"value\":0.1},\"fill_color\":{\"value\":\"#8b8b8b\"},\"hatch_alpha\":{\"value\":0.1},\"hatch_color\":{\"value\":\"#8b8b8b\"},\"line_alpha\":{\"value\":0.1},\"line_color\":{\"value\":\"#8b8b8b\"},\"size\":{\"value\":5.477225575051661},\"x\":{\"field\":\"Case_Fatality_Rate\"},\"y\":{\"field\":\"Infection_Risk\"}},\"id\":\"2699\",\"type\":\"Scatter\"},{\"attributes\":{\"source\":{\"id\":\"2695\"}},\"id\":\"2702\",\"type\":\"CDSView\"},{\"attributes\":{\"coordinates\":null,\"data_source\":{\"id\":\"2695\"},\"glyph\":{\"id\":\"2698\"},\"group\":null,\"hover_glyph\":null,\"muted_glyph\":{\"id\":\"2700\"},\"nonselection_glyph\":{\"id\":\"2699\"},\"selection_glyph\":{\"id\":\"2722\"},\"view\":{\"id\":\"2702\"}},\"id\":\"2701\",\"type\":\"GlyphRenderer\"},{\"attributes\":{},\"id\":\"2603\",\"type\":\"Selection\"},{\"attributes\":{\"fill_alpha\":{\"value\":0.2},\"fill_color\":{\"value\":\"#8b8b8b\"},\"hatch_alpha\":{\"value\":0.2},\"hatch_color\":{\"value\":\"#8b8b8b\"},\"line_alpha\":{\"value\":0.2},\"line_color\":{\"value\":\"#8b8b8b\"},\"size\":{\"value\":5.477225575051661},\"x\":{\"field\":\"Case_Fatality_Rate\"},\"y\":{\"field\":\"Infection_Risk\"}},\"id\":\"2700\",\"type\":\"Scatter\"},{\"attributes\":{\"fill_alpha\":{\"value\":0.1},\"fill_color\":{\"value\":\"#30a2da\"},\"hatch_alpha\":{\"value\":0.1},\"hatch_color\":{\"value\":\"#30a2da\"},\"line_alpha\":{\"value\":0.1},\"line_color\":{\"value\":\"#30a2da\"},\"size\":{\"value\":5.477225575051661},\"x\":{\"field\":\"Case_Fatality_Rate\"},\"y\":{\"field\":\"Infection_Risk\"}},\"id\":\"2606\",\"type\":\"Scatter\"},{\"attributes\":{\"fill_color\":{\"value\":\"#30a2da\"},\"hatch_color\":{\"value\":\"#30a2da\"},\"line_color\":{\"value\":\"#30a2da\"},\"size\":{\"value\":5.477225575051661},\"x\":{\"field\":\"Case_Fatality_Rate\"},\"y\":{\"field\":\"Infection_Risk\"}},\"id\":\"2605\",\"type\":\"Scatter\"},{\"attributes\":{\"angle\":{\"value\":0.0},\"fill_alpha\":{\"value\":1.0},\"fill_color\":{\"value\":\"#fc4f30\"},\"hatch_alpha\":{\"value\":1.0},\"hatch_color\":{\"value\":\"#fc4f30\"},\"hatch_scale\":{\"value\":12.0},\"hatch_weight\":{\"value\":1.0},\"line_alpha\":{\"value\":1.0},\"line_cap\":{\"value\":\"butt\"},\"line_color\":{\"value\":\"#fc4f30\"},\"line_dash\":{\"value\":[]},\"line_dash_offset\":{\"value\":0},\"line_join\":{\"value\":\"bevel\"},\"line_width\":{\"value\":1},\"marker\":{\"value\":\"circle\"},\"size\":{\"value\":5.477225575051661},\"x\":{\"field\":\"Case_Fatality_Rate\"},\"y\":{\"field\":\"Infection_Risk\"}},\"id\":\"2644\",\"type\":\"Scatter\"},{\"attributes\":{},\"id\":\"2670\",\"type\":\"Selection\"},{\"attributes\":{\"label\":{\"value\":\"3\"},\"renderers\":[{\"id\":\"2675\"}]},\"id\":\"2693\",\"type\":\"LegendItem\"},{\"attributes\":{},\"id\":\"2600\",\"type\":\"BasicTickFormatter\"},{\"attributes\":{},\"id\":\"2646\",\"type\":\"Selection\"},{\"attributes\":{\"callback\":null,\"renderers\":[{\"id\":\"2608\"},{\"id\":\"2629\"},{\"id\":\"2651\"},{\"id\":\"2675\"},{\"id\":\"2701\"}],\"tags\":[\"hv_created\"],\"tooltips\":[[\"class\",\"@{class}\"],[\"Case_Fatality_Rate\",\"@{Case_Fatality_Rate}\"],[\"Infection_Risk\",\"@{Infection_Risk}\"]]},\"id\":\"2561\",\"type\":\"HoverTool\"},{\"attributes\":{\"fill_color\":{\"value\":\"#e5ae38\"},\"hatch_color\":{\"value\":\"#e5ae38\"},\"line_color\":{\"value\":\"#e5ae38\"},\"size\":{\"value\":5.477225575051661},\"x\":{\"field\":\"Case_Fatality_Rate\"},\"y\":{\"field\":\"Infection_Risk\"}},\"id\":\"2648\",\"type\":\"Scatter\"},{\"attributes\":{\"source\":{\"id\":\"2669\"}},\"id\":\"2676\",\"type\":\"CDSView\"},{\"attributes\":{\"fill_alpha\":{\"value\":0.1},\"fill_color\":{\"value\":\"#6d904f\"},\"hatch_alpha\":{\"value\":0.1},\"hatch_color\":{\"value\":\"#6d904f\"},\"line_alpha\":{\"value\":0.1},\"line_color\":{\"value\":\"#6d904f\"},\"size\":{\"value\":5.477225575051661},\"x\":{\"field\":\"Case_Fatality_Rate\"},\"y\":{\"field\":\"Infection_Risk\"}},\"id\":\"2673\",\"type\":\"Scatter\"},{\"attributes\":{\"end\":76.571,\"reset_end\":76.571,\"reset_start\":-6.961,\"start\":-6.961,\"tags\":[[[\"Infection_Risk\",\"Infection_Risk\",null]]]},\"id\":\"2560\",\"type\":\"Range1d\"},{\"attributes\":{\"data\":{\"Case_Fatality_Rate\":{\"__ndarray__\":\"exSuR+F65D9cj8L1KFzfPw==\",\"dtype\":\"float64\",\"order\":\"little\",\"shape\":[2]},\"Infection_Risk\":{\"__ndarray__\":\"w/UoXI/CN0BmZmZmZmYhQA==\",\"dtype\":\"float64\",\"order\":\"little\",\"shape\":[2]},\"class\":[2,2]},\"selected\":{\"id\":\"2646\"},\"selection_policy\":{\"id\":\"2664\"}},\"id\":\"2645\",\"type\":\"ColumnDataSource\"},{\"attributes\":{\"tools\":[{\"id\":\"2561\"},{\"id\":\"2583\"},{\"id\":\"2584\"},{\"id\":\"2585\"},{\"id\":\"2586\"},{\"id\":\"2587\"}]},\"id\":\"2589\",\"type\":\"Toolbar\"},{\"attributes\":{\"coordinates\":null,\"data_source\":{\"id\":\"2669\"},\"glyph\":{\"id\":\"2672\"},\"group\":null,\"hover_glyph\":null,\"muted_glyph\":{\"id\":\"2674\"},\"nonselection_glyph\":{\"id\":\"2673\"},\"selection_glyph\":{\"id\":\"2694\"},\"view\":{\"id\":\"2676\"}},\"id\":\"2675\",\"type\":\"GlyphRenderer\"},{\"attributes\":{\"end\":23.172285714285714,\"reset_end\":23.172285714285714,\"reset_start\":-0.9522857142857143,\"start\":-0.9522857142857143,\"tags\":[[[\"Case_Fatality_Rate\",\"Case_Fatality_Rate\",null]]]},\"id\":\"2559\",\"type\":\"Range1d\"},{\"attributes\":{\"coordinates\":null,\"data_source\":{\"id\":\"2602\"},\"glyph\":{\"id\":\"2605\"},\"group\":null,\"hover_glyph\":null,\"muted_glyph\":{\"id\":\"2607\"},\"nonselection_glyph\":{\"id\":\"2606\"},\"selection_glyph\":{\"id\":\"2622\"},\"view\":{\"id\":\"2609\"}},\"id\":\"2608\",\"type\":\"GlyphRenderer\"},{\"attributes\":{\"label\":{\"value\":\"0\"},\"renderers\":[{\"id\":\"2608\"}]},\"id\":\"2621\",\"type\":\"LegendItem\"},{\"attributes\":{\"angle\":{\"value\":0.0},\"fill_alpha\":{\"value\":1.0},\"fill_color\":{\"value\":\"#30a2da\"},\"hatch_alpha\":{\"value\":1.0},\"hatch_color\":{\"value\":\"#30a2da\"},\"hatch_scale\":{\"value\":12.0},\"hatch_weight\":{\"value\":1.0},\"line_alpha\":{\"value\":1.0},\"line_cap\":{\"value\":\"butt\"},\"line_color\":{\"value\":\"#30a2da\"},\"line_dash\":{\"value\":[]},\"line_dash_offset\":{\"value\":0},\"line_join\":{\"value\":\"bevel\"},\"line_width\":{\"value\":1},\"marker\":{\"value\":\"circle\"},\"size\":{\"value\":5.477225575051661},\"x\":{\"field\":\"Case_Fatality_Rate\"},\"y\":{\"field\":\"Infection_Risk\"}},\"id\":\"2622\",\"type\":\"Scatter\"},{\"attributes\":{\"fill_alpha\":{\"value\":0.2},\"fill_color\":{\"value\":\"#6d904f\"},\"hatch_alpha\":{\"value\":0.2},\"hatch_color\":{\"value\":\"#6d904f\"},\"line_alpha\":{\"value\":0.2},\"line_color\":{\"value\":\"#6d904f\"},\"size\":{\"value\":5.477225575051661},\"x\":{\"field\":\"Case_Fatality_Rate\"},\"y\":{\"field\":\"Infection_Risk\"}},\"id\":\"2674\",\"type\":\"Scatter\"}],\"root_ids\":[\"2557\"]},\"title\":\"Bokeh Application\",\"version\":\"2.4.2\"}};\n",
       "    var render_items = [{\"docid\":\"739ba227-7764-4690-94bb-a51c90d26f31\",\"root_ids\":[\"2557\"],\"roots\":{\"2557\":\"b8ebe67d-d8aa-4580-bcb7-c77f18f6d947\"}}];\n",
       "    root.Bokeh.embed.embed_items_notebook(docs_json, render_items);\n",
       "  }\n",
       "  if (root.Bokeh !== undefined && root.Bokeh.Panel !== undefined) {\n",
       "    embed_document(root);\n",
       "  } else {\n",
       "    var attempts = 0;\n",
       "    var timer = setInterval(function(root) {\n",
       "      if (root.Bokeh !== undefined && root.Bokeh.Panel !== undefined) {\n",
       "        clearInterval(timer);\n",
       "        embed_document(root);\n",
       "      } else if (document.readyState == \"complete\") {\n",
       "        attempts++;\n",
       "        if (attempts > 200) {\n",
       "          clearInterval(timer);\n",
       "          console.log(\"Bokeh: ERROR: Unable to run BokehJS code because BokehJS library is missing\");\n",
       "        }\n",
       "      }\n",
       "    }, 25, root)\n",
       "  }\n",
       "})(window);</script>"
      ],
      "text/plain": [
       ":NdOverlay   [class]\n",
       "   :Scatter   [Case_Fatality_Rate]   (Infection_Risk)"
      ]
     },
     "execution_count": 30,
     "metadata": {
      "application/vnd.holoviews_exec.v0+json": {
       "id": "2557"
      }
     },
     "output_type": "execute_result"
    }
   ],
   "source": [
    "# Create a scatterplot of covid_data\n",
    "covid_data_df.hvplot.scatter(x=\"Case_Fatality_Rate\", y=\"Infection_Risk\", by=\"class\")"
   ]
  },
  {
   "cell_type": "code",
   "execution_count": 31,
   "metadata": {},
   "outputs": [
    {
     "data": {},
     "metadata": {},
     "output_type": "display_data"
    },
    {
     "data": {
      "application/vnd.holoviews_exec.v0+json": "",
      "text/html": [
       "<div id='2977'>\n",
       "\n",
       "\n",
       "\n",
       "\n",
       "\n",
       "  <div class=\"bk-root\" id=\"42cbf856-67d4-4edb-b04d-16377daaf1ce\" data-root-id=\"2977\"></div>\n",
       "</div>\n",
       "<script type=\"application/javascript\">(function(root) {\n",
       "  function embed_document(root) {\n",
       "    var docs_json = {\"65101f4e-c659-4396-bcf0-f48f314ab893\":{\"defs\":[{\"extends\":null,\"module\":null,\"name\":\"ReactiveHTML1\",\"overrides\":[],\"properties\":[]},{\"extends\":null,\"module\":null,\"name\":\"FlexBox1\",\"overrides\":[],\"properties\":[{\"default\":\"flex-start\",\"kind\":null,\"name\":\"align_content\"},{\"default\":\"flex-start\",\"kind\":null,\"name\":\"align_items\"},{\"default\":\"row\",\"kind\":null,\"name\":\"flex_direction\"},{\"default\":\"wrap\",\"kind\":null,\"name\":\"flex_wrap\"},{\"default\":\"flex-start\",\"kind\":null,\"name\":\"justify_content\"}]},{\"extends\":null,\"module\":null,\"name\":\"TemplateActions1\",\"overrides\":[],\"properties\":[{\"default\":0,\"kind\":null,\"name\":\"open_modal\"},{\"default\":0,\"kind\":null,\"name\":\"close_modal\"}]},{\"extends\":null,\"module\":null,\"name\":\"MaterialTemplateActions1\",\"overrides\":[],\"properties\":[{\"default\":0,\"kind\":null,\"name\":\"open_modal\"},{\"default\":0,\"kind\":null,\"name\":\"close_modal\"}]}],\"roots\":{\"references\":[{\"attributes\":{\"fill_color\":{\"value\":\"#fc4f30\"},\"hatch_color\":{\"value\":\"#fc4f30\"},\"line_color\":{\"value\":\"#fc4f30\"},\"size\":{\"value\":5.477225575051661},\"x\":{\"field\":\"NewDeaths\"},\"y\":{\"field\":\"Infection_Risk\"}},\"id\":\"3046\",\"type\":\"Scatter\"},{\"attributes\":{},\"id\":\"2996\",\"type\":\"BasicTicker\"},{\"attributes\":{\"fill_alpha\":{\"value\":0.1},\"fill_color\":{\"value\":\"#e5ae38\"},\"hatch_alpha\":{\"value\":0.1},\"hatch_color\":{\"value\":\"#e5ae38\"},\"line_alpha\":{\"value\":0.1},\"line_color\":{\"value\":\"#e5ae38\"},\"size\":{\"value\":5.477225575051661},\"x\":{\"field\":\"NewDeaths\"},\"y\":{\"field\":\"Infection_Risk\"}},\"id\":\"3069\",\"type\":\"Scatter\"},{\"attributes\":{\"fill_color\":{\"value\":\"#e5ae38\"},\"hatch_color\":{\"value\":\"#e5ae38\"},\"line_color\":{\"value\":\"#e5ae38\"},\"size\":{\"value\":5.477225575051661},\"x\":{\"field\":\"NewDeaths\"},\"y\":{\"field\":\"Infection_Risk\"}},\"id\":\"3068\",\"type\":\"Scatter\"},{\"attributes\":{\"coordinates\":null,\"group\":null,\"text_color\":\"black\",\"text_font_size\":\"12pt\"},\"id\":\"2987\",\"type\":\"Title\"},{\"attributes\":{\"source\":{\"id\":\"3065\"}},\"id\":\"3072\",\"type\":\"CDSView\"},{\"attributes\":{},\"id\":\"3017\",\"type\":\"BasicTickFormatter\"},{\"attributes\":{},\"id\":\"3004\",\"type\":\"PanTool\"},{\"attributes\":{},\"id\":\"3084\",\"type\":\"UnionRenderers\"},{\"attributes\":{\"label\":{\"value\":\"2\"},\"renderers\":[{\"id\":\"3071\"}]},\"id\":\"3087\",\"type\":\"LegendItem\"},{\"attributes\":{\"coordinates\":null,\"data_source\":{\"id\":\"3065\"},\"glyph\":{\"id\":\"3068\"},\"group\":null,\"hover_glyph\":null,\"muted_glyph\":{\"id\":\"3070\"},\"nonselection_glyph\":{\"id\":\"3069\"},\"selection_glyph\":{\"id\":\"3088\"},\"view\":{\"id\":\"3072\"}},\"id\":\"3071\",\"type\":\"GlyphRenderer\"},{\"attributes\":{\"axis_label\":\"NewDeaths\",\"coordinates\":null,\"formatter\":{\"id\":\"3017\"},\"group\":null,\"major_label_policy\":{\"id\":\"3018\"},\"ticker\":{\"id\":\"2996\"}},\"id\":\"2995\",\"type\":\"LinearAxis\"},{\"attributes\":{\"axis\":{\"id\":\"2999\"},\"coordinates\":null,\"dimension\":1,\"grid_line_color\":null,\"group\":null,\"ticker\":null},\"id\":\"3002\",\"type\":\"Grid\"},{\"attributes\":{\"data\":{\"Infection_Risk\":{\"__ndarray__\":\"KVyPwvXoQkD2KFyPwjU+QNejcD0KlzdAw/UoXI9iRkA=\",\"dtype\":\"float64\",\"order\":\"little\",\"shape\":[4]},\"NewDeaths\":[121,172,146,20],\"class\":[4,4,4,4]},\"selected\":{\"id\":\"3116\"},\"selection_policy\":{\"id\":\"3138\"}},\"id\":\"3115\",\"type\":\"ColumnDataSource\"},{\"attributes\":{\"data\":{\"Infection_Risk\":{\"__ndarray__\":\"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\",\"dtype\":\"float64\",\"order\":\"little\",\"shape\":[202]},\"NewDeaths\":[0,68,392,66,52,13,120,32,53,5,12,27,7,60,0,69,0,49,35,24,32,0,7,10,0,38,0,20,10,3,17,0,1,0,29,192,10,5,0,13,0,13,0,8,8,3,0,0,0,0,7,3,10,0,2,2,0,0,0,0,0,9,6,2,0,1,5,0,0,0,3,0,3,0,7,0,0,0,1,6,1,0,0,0,0,0,0,0,2,1,2,0,0,2,0,0,0,0,0,2,0,0,0,0,0,0,0,0,0,0,0,0,0,1,0,0,0,0,0,0,0,0,0,0,0,0,0,0,0,0,0,0,0,0,0,0,0,0,0,0,0,0,0,0,0,0,0,0,0,0,0,0,6,0,0,0,0,0,0,0,0,0,0,0,0,0,0,0,0,0,0,0,0,0,0,0,0,0,0,0,0,0,0,0,0,0,0,0,0,0,0,0,0,0,0,0,0,0,0,0,0,0],\"class\":[0,0,0,0,0,0,0,0,0,0,0,0,0,0,0,0,0,0,0,0,0,0,0,0,0,0,0,0,0,0,0,0,0,0,0,0,0,0,0,0,0,0,0,0,0,0,0,0,0,0,0,0,0,0,0,0,0,0,0,0,0,0,0,0,0,0,0,0,0,0,0,0,0,0,0,0,0,0,0,0,0,0,0,0,0,0,0,0,0,0,0,0,0,0,0,0,0,0,0,0,0,0,0,0,0,0,0,0,0,0,0,0,0,0,0,0,0,0,0,0,0,0,0,0,0,0,0,0,0,0,0,0,0,0,0,0,0,0,0,0,0,0,0,0,0,0,0,0,0,0,0,0,0,0,0,0,0,0,0,0,0,0,0,0,0,0,0,0,0,0,0,0,0,0,0,0,0,0,0,0,0,0,0,0,0,0,0,0,0,0,0,0,0,0,0,0,0,0,0,0,0,0]},\"selected\":{\"id\":\"3023\"},\"selection_policy\":{\"id\":\"3037\"}},\"id\":\"3022\",\"type\":\"ColumnDataSource\"},{\"attributes\":{\"fill_alpha\":{\"value\":0.2},\"fill_color\":{\"value\":\"#e5ae38\"},\"hatch_alpha\":{\"value\":0.2},\"hatch_color\":{\"value\":\"#e5ae38\"},\"line_alpha\":{\"value\":0.2},\"line_color\":{\"value\":\"#e5ae38\"},\"size\":{\"value\":5.477225575051661},\"x\":{\"field\":\"NewDeaths\"},\"y\":{\"field\":\"Infection_Risk\"}},\"id\":\"3070\",\"type\":\"Scatter\"},{\"attributes\":{\"angle\":{\"value\":0.0},\"fill_alpha\":{\"value\":1.0},\"fill_color\":{\"value\":\"#8b8b8b\"},\"hatch_alpha\":{\"value\":1.0},\"hatch_color\":{\"value\":\"#8b8b8b\"},\"hatch_scale\":{\"value\":12.0},\"hatch_weight\":{\"value\":1.0},\"line_alpha\":{\"value\":1.0},\"line_cap\":{\"value\":\"butt\"},\"line_color\":{\"value\":\"#8b8b8b\"},\"line_dash\":{\"value\":[]},\"line_dash_offset\":{\"value\":0},\"line_join\":{\"value\":\"bevel\"},\"line_width\":{\"value\":1},\"marker\":{\"value\":\"circle\"},\"size\":{\"value\":5.477225575051661},\"x\":{\"field\":\"NewDeaths\"},\"y\":{\"field\":\"Infection_Risk\"}},\"id\":\"3142\",\"type\":\"Scatter\"},{\"attributes\":{},\"id\":\"2993\",\"type\":\"LinearScale\"},{\"attributes\":{},\"id\":\"3003\",\"type\":\"SaveTool\"},{\"attributes\":{\"source\":{\"id\":\"3043\"}},\"id\":\"3050\",\"type\":\"CDSView\"},{\"attributes\":{},\"id\":\"3000\",\"type\":\"BasicTicker\"},{\"attributes\":{\"axis\":{\"id\":\"2995\"},\"coordinates\":null,\"grid_line_color\":null,\"group\":null,\"ticker\":null},\"id\":\"2998\",\"type\":\"Grid\"},{\"attributes\":{},\"id\":\"3005\",\"type\":\"WheelZoomTool\"},{\"attributes\":{\"data\":{\"Infection_Risk\":{\"__ndarray__\":\"MzMzMzOzK0DD9Shcj0IoQHsUrkfhejhA16NwPQrXE0DsUbgehWsvQDMzMzMzMxFAUrgehesRMEBmZmZmZiZEQPYoXI/CtTFA7FG4HoVrQ0BmZmZmZmYuQA==\",\"dtype\":\"float64\",\"order\":\"little\",\"shape\":[11]},\"NewDeaths\":[199,398,113,129,110,155,26,40,75,2,34],\"class\":[3,3,3,3,3,3,3,3,3,3,3]},\"selected\":{\"id\":\"3090\"},\"selection_policy\":{\"id\":\"3110\"}},\"id\":\"3089\",\"type\":\"ColumnDataSource\"},{\"attributes\":{\"axis_label\":\"Infection_Risk\",\"coordinates\":null,\"formatter\":{\"id\":\"3020\"},\"group\":null,\"major_label_policy\":{\"id\":\"3021\"},\"ticker\":{\"id\":\"3000\"}},\"id\":\"2999\",\"type\":\"LinearAxis\"},{\"attributes\":{\"label\":{\"value\":\"1\"},\"renderers\":[{\"id\":\"3049\"}]},\"id\":\"3063\",\"type\":\"LegendItem\"},{\"attributes\":{},\"id\":\"3044\",\"type\":\"Selection\"},{\"attributes\":{\"overlay\":{\"id\":\"3008\"}},\"id\":\"3006\",\"type\":\"BoxZoomTool\"},{\"attributes\":{\"coordinates\":null,\"data_source\":{\"id\":\"3043\"},\"glyph\":{\"id\":\"3046\"},\"group\":null,\"hover_glyph\":null,\"muted_glyph\":{\"id\":\"3048\"},\"nonselection_glyph\":{\"id\":\"3047\"},\"selection_glyph\":{\"id\":\"3064\"},\"view\":{\"id\":\"3050\"}},\"id\":\"3049\",\"type\":\"GlyphRenderer\"},{\"attributes\":{},\"id\":\"3007\",\"type\":\"ResetTool\"},{\"attributes\":{\"fill_alpha\":{\"value\":0.1},\"fill_color\":{\"value\":\"#fc4f30\"},\"hatch_alpha\":{\"value\":0.1},\"hatch_color\":{\"value\":\"#fc4f30\"},\"line_alpha\":{\"value\":0.1},\"line_color\":{\"value\":\"#fc4f30\"},\"size\":{\"value\":5.477225575051661},\"x\":{\"field\":\"NewDeaths\"},\"y\":{\"field\":\"Infection_Risk\"}},\"id\":\"3047\",\"type\":\"Scatter\"},{\"attributes\":{\"bottom_units\":\"screen\",\"coordinates\":null,\"fill_alpha\":0.5,\"fill_color\":\"lightgrey\",\"group\":null,\"left_units\":\"screen\",\"level\":\"overlay\",\"line_alpha\":1.0,\"line_color\":\"black\",\"line_dash\":[4,4],\"line_width\":2,\"right_units\":\"screen\",\"syncable\":false,\"top_units\":\"screen\"},\"id\":\"3008\",\"type\":\"BoxAnnotation\"},{\"attributes\":{\"fill_alpha\":{\"value\":0.2},\"fill_color\":{\"value\":\"#fc4f30\"},\"hatch_alpha\":{\"value\":0.2},\"hatch_color\":{\"value\":\"#fc4f30\"},\"line_alpha\":{\"value\":0.2},\"line_color\":{\"value\":\"#fc4f30\"},\"size\":{\"value\":5.477225575051661},\"x\":{\"field\":\"NewDeaths\"},\"y\":{\"field\":\"Infection_Risk\"}},\"id\":\"3048\",\"type\":\"Scatter\"},{\"attributes\":{},\"id\":\"3037\",\"type\":\"UnionRenderers\"},{\"attributes\":{},\"id\":\"3018\",\"type\":\"AllLabels\"},{\"attributes\":{},\"id\":\"2991\",\"type\":\"LinearScale\"},{\"attributes\":{\"angle\":{\"value\":0.0},\"fill_alpha\":{\"value\":1.0},\"fill_color\":{\"value\":\"#6d904f\"},\"hatch_alpha\":{\"value\":1.0},\"hatch_color\":{\"value\":\"#6d904f\"},\"hatch_scale\":{\"value\":12.0},\"hatch_weight\":{\"value\":1.0},\"line_alpha\":{\"value\":1.0},\"line_cap\":{\"value\":\"butt\"},\"line_color\":{\"value\":\"#6d904f\"},\"line_dash\":{\"value\":[]},\"line_dash_offset\":{\"value\":0},\"line_join\":{\"value\":\"bevel\"},\"line_width\":{\"value\":1},\"marker\":{\"value\":\"circle\"},\"size\":{\"value\":5.477225575051661},\"x\":{\"field\":\"NewDeaths\"},\"y\":{\"field\":\"Infection_Risk\"}},\"id\":\"3114\",\"type\":\"Scatter\"},{\"attributes\":{},\"id\":\"3060\",\"type\":\"UnionRenderers\"},{\"attributes\":{\"margin\":[5,5,5,5],\"name\":\"HSpacer06039\",\"sizing_mode\":\"stretch_width\"},\"id\":\"3305\",\"type\":\"Spacer\"},{\"attributes\":{\"fill_color\":{\"value\":\"#8b8b8b\"},\"hatch_color\":{\"value\":\"#8b8b8b\"},\"line_color\":{\"value\":\"#8b8b8b\"},\"size\":{\"value\":5.477225575051661},\"x\":{\"field\":\"NewDeaths\"},\"y\":{\"field\":\"Infection_Risk\"}},\"id\":\"3118\",\"type\":\"Scatter\"},{\"attributes\":{\"label\":{\"value\":\"0\"},\"renderers\":[{\"id\":\"3028\"}]},\"id\":\"3041\",\"type\":\"LegendItem\"},{\"attributes\":{},\"id\":\"3020\",\"type\":\"BasicTickFormatter\"},{\"attributes\":{\"coordinates\":null,\"data_source\":{\"id\":\"3022\"},\"glyph\":{\"id\":\"3025\"},\"group\":null,\"hover_glyph\":null,\"muted_glyph\":{\"id\":\"3027\"},\"nonselection_glyph\":{\"id\":\"3026\"},\"selection_glyph\":{\"id\":\"3042\"},\"view\":{\"id\":\"3029\"}},\"id\":\"3028\",\"type\":\"GlyphRenderer\"},{\"attributes\":{\"label\":{\"value\":\"4\"},\"renderers\":[{\"id\":\"3121\"}]},\"id\":\"3141\",\"type\":\"LegendItem\"},{\"attributes\":{\"angle\":{\"value\":0.0},\"fill_alpha\":{\"value\":1.0},\"fill_color\":{\"value\":\"#e5ae38\"},\"hatch_alpha\":{\"value\":1.0},\"hatch_color\":{\"value\":\"#e5ae38\"},\"hatch_scale\":{\"value\":12.0},\"hatch_weight\":{\"value\":1.0},\"line_alpha\":{\"value\":1.0},\"line_cap\":{\"value\":\"butt\"},\"line_color\":{\"value\":\"#e5ae38\"},\"line_dash\":{\"value\":[]},\"line_dash_offset\":{\"value\":0},\"line_join\":{\"value\":\"bevel\"},\"line_width\":{\"value\":1},\"marker\":{\"value\":\"circle\"},\"size\":{\"value\":5.477225575051661},\"x\":{\"field\":\"NewDeaths\"},\"y\":{\"field\":\"Infection_Risk\"}},\"id\":\"3088\",\"type\":\"Scatter\"},{\"attributes\":{},\"id\":\"3116\",\"type\":\"Selection\"},{\"attributes\":{\"fill_alpha\":{\"value\":0.1},\"fill_color\":{\"value\":\"#30a2da\"},\"hatch_alpha\":{\"value\":0.1},\"hatch_color\":{\"value\":\"#30a2da\"},\"line_alpha\":{\"value\":0.1},\"line_color\":{\"value\":\"#30a2da\"},\"size\":{\"value\":5.477225575051661},\"x\":{\"field\":\"NewDeaths\"},\"y\":{\"field\":\"Infection_Risk\"}},\"id\":\"3026\",\"type\":\"Scatter\"},{\"attributes\":{\"below\":[{\"id\":\"2995\"}],\"center\":[{\"id\":\"2998\"},{\"id\":\"3002\"}],\"height\":300,\"left\":[{\"id\":\"2999\"}],\"margin\":[5,5,5,5],\"min_border_bottom\":10,\"min_border_left\":10,\"min_border_right\":10,\"min_border_top\":10,\"renderers\":[{\"id\":\"3028\"},{\"id\":\"3049\"},{\"id\":\"3071\"},{\"id\":\"3095\"},{\"id\":\"3121\"}],\"right\":[{\"id\":\"3040\"}],\"sizing_mode\":\"fixed\",\"title\":{\"id\":\"2987\"},\"toolbar\":{\"id\":\"3009\"},\"width\":700,\"x_range\":{\"id\":\"2979\"},\"x_scale\":{\"id\":\"2991\"},\"y_range\":{\"id\":\"2980\"},\"y_scale\":{\"id\":\"2993\"}},\"id\":\"2986\",\"subtype\":\"Figure\",\"type\":\"Plot\"},{\"attributes\":{},\"id\":\"3138\",\"type\":\"UnionRenderers\"},{\"attributes\":{\"coordinates\":null,\"data_source\":{\"id\":\"3089\"},\"glyph\":{\"id\":\"3092\"},\"group\":null,\"hover_glyph\":null,\"muted_glyph\":{\"id\":\"3094\"},\"nonselection_glyph\":{\"id\":\"3093\"},\"selection_glyph\":{\"id\":\"3114\"},\"view\":{\"id\":\"3096\"}},\"id\":\"3095\",\"type\":\"GlyphRenderer\"},{\"attributes\":{},\"id\":\"3021\",\"type\":\"AllLabels\"},{\"attributes\":{\"fill_alpha\":{\"value\":0.1},\"fill_color\":{\"value\":\"#8b8b8b\"},\"hatch_alpha\":{\"value\":0.1},\"hatch_color\":{\"value\":\"#8b8b8b\"},\"line_alpha\":{\"value\":0.1},\"line_color\":{\"value\":\"#8b8b8b\"},\"size\":{\"value\":5.477225575051661},\"x\":{\"field\":\"NewDeaths\"},\"y\":{\"field\":\"Infection_Risk\"}},\"id\":\"3119\",\"type\":\"Scatter\"},{\"attributes\":{\"source\":{\"id\":\"3115\"}},\"id\":\"3122\",\"type\":\"CDSView\"},{\"attributes\":{\"coordinates\":null,\"data_source\":{\"id\":\"3115\"},\"glyph\":{\"id\":\"3118\"},\"group\":null,\"hover_glyph\":null,\"muted_glyph\":{\"id\":\"3120\"},\"nonselection_glyph\":{\"id\":\"3119\"},\"selection_glyph\":{\"id\":\"3142\"},\"view\":{\"id\":\"3122\"}},\"id\":\"3121\",\"type\":\"GlyphRenderer\"},{\"attributes\":{\"margin\":[5,5,5,5],\"name\":\"HSpacer06038\",\"sizing_mode\":\"stretch_width\"},\"id\":\"2978\",\"type\":\"Spacer\"},{\"attributes\":{\"fill_alpha\":{\"value\":0.2},\"fill_color\":{\"value\":\"#8b8b8b\"},\"hatch_alpha\":{\"value\":0.2},\"hatch_color\":{\"value\":\"#8b8b8b\"},\"line_alpha\":{\"value\":0.2},\"line_color\":{\"value\":\"#8b8b8b\"},\"size\":{\"value\":5.477225575051661},\"x\":{\"field\":\"NewDeaths\"},\"y\":{\"field\":\"Infection_Risk\"}},\"id\":\"3120\",\"type\":\"Scatter\"},{\"attributes\":{\"angle\":{\"value\":0.0},\"fill_alpha\":{\"value\":1.0},\"fill_color\":{\"value\":\"#fc4f30\"},\"hatch_alpha\":{\"value\":1.0},\"hatch_color\":{\"value\":\"#fc4f30\"},\"hatch_scale\":{\"value\":12.0},\"hatch_weight\":{\"value\":1.0},\"line_alpha\":{\"value\":1.0},\"line_cap\":{\"value\":\"butt\"},\"line_color\":{\"value\":\"#fc4f30\"},\"line_dash\":{\"value\":[]},\"line_dash_offset\":{\"value\":0},\"line_join\":{\"value\":\"bevel\"},\"line_width\":{\"value\":1},\"marker\":{\"value\":\"circle\"},\"size\":{\"value\":5.477225575051661},\"x\":{\"field\":\"NewDeaths\"},\"y\":{\"field\":\"Infection_Risk\"}},\"id\":\"3064\",\"type\":\"Scatter\"},{\"attributes\":{\"fill_color\":{\"value\":\"#6d904f\"},\"hatch_color\":{\"value\":\"#6d904f\"},\"line_color\":{\"value\":\"#6d904f\"},\"size\":{\"value\":5.477225575051661},\"x\":{\"field\":\"NewDeaths\"},\"y\":{\"field\":\"Infection_Risk\"}},\"id\":\"3092\",\"type\":\"Scatter\"},{\"attributes\":{\"fill_color\":{\"value\":\"#30a2da\"},\"hatch_color\":{\"value\":\"#30a2da\"},\"line_color\":{\"value\":\"#30a2da\"},\"size\":{\"value\":5.477225575051661},\"x\":{\"field\":\"NewDeaths\"},\"y\":{\"field\":\"Infection_Risk\"}},\"id\":\"3025\",\"type\":\"Scatter\"},{\"attributes\":{},\"id\":\"3066\",\"type\":\"Selection\"},{\"attributes\":{\"tools\":[{\"id\":\"2981\"},{\"id\":\"3003\"},{\"id\":\"3004\"},{\"id\":\"3005\"},{\"id\":\"3006\"},{\"id\":\"3007\"}]},\"id\":\"3009\",\"type\":\"Toolbar\"},{\"attributes\":{\"fill_alpha\":{\"value\":0.2},\"fill_color\":{\"value\":\"#6d904f\"},\"hatch_alpha\":{\"value\":0.2},\"hatch_color\":{\"value\":\"#6d904f\"},\"line_alpha\":{\"value\":0.2},\"line_color\":{\"value\":\"#6d904f\"},\"size\":{\"value\":5.477225575051661},\"x\":{\"field\":\"NewDeaths\"},\"y\":{\"field\":\"Infection_Risk\"}},\"id\":\"3094\",\"type\":\"Scatter\"},{\"attributes\":{},\"id\":\"3090\",\"type\":\"Selection\"},{\"attributes\":{\"source\":{\"id\":\"3089\"}},\"id\":\"3096\",\"type\":\"CDSView\"},{\"attributes\":{\"end\":76.571,\"reset_end\":76.571,\"reset_start\":-6.961,\"start\":-6.961,\"tags\":[[[\"Infection_Risk\",\"Infection_Risk\",null]]]},\"id\":\"2980\",\"type\":\"Range1d\"},{\"attributes\":{\"end\":415.0571428571429,\"reset_end\":415.0571428571429,\"reset_start\":-17.057142857142857,\"start\":-17.057142857142857,\"tags\":[[[\"NewDeaths\",\"NewDeaths\",null]]]},\"id\":\"2979\",\"type\":\"Range1d\"},{\"attributes\":{\"click_policy\":\"mute\",\"coordinates\":null,\"group\":null,\"items\":[{\"id\":\"3041\"},{\"id\":\"3063\"},{\"id\":\"3087\"},{\"id\":\"3113\"},{\"id\":\"3141\"}],\"location\":[0,0],\"title\":\"class\"},\"id\":\"3040\",\"type\":\"Legend\"},{\"attributes\":{\"fill_alpha\":{\"value\":0.1},\"fill_color\":{\"value\":\"#6d904f\"},\"hatch_alpha\":{\"value\":0.1},\"hatch_color\":{\"value\":\"#6d904f\"},\"line_alpha\":{\"value\":0.1},\"line_color\":{\"value\":\"#6d904f\"},\"size\":{\"value\":5.477225575051661},\"x\":{\"field\":\"NewDeaths\"},\"y\":{\"field\":\"Infection_Risk\"}},\"id\":\"3093\",\"type\":\"Scatter\"},{\"attributes\":{\"fill_alpha\":{\"value\":0.2},\"fill_color\":{\"value\":\"#30a2da\"},\"hatch_alpha\":{\"value\":0.2},\"hatch_color\":{\"value\":\"#30a2da\"},\"line_alpha\":{\"value\":0.2},\"line_color\":{\"value\":\"#30a2da\"},\"size\":{\"value\":5.477225575051661},\"x\":{\"field\":\"NewDeaths\"},\"y\":{\"field\":\"Infection_Risk\"}},\"id\":\"3027\",\"type\":\"Scatter\"},{\"attributes\":{},\"id\":\"3110\",\"type\":\"UnionRenderers\"},{\"attributes\":{\"children\":[{\"id\":\"2978\"},{\"id\":\"2986\"},{\"id\":\"3305\"}],\"margin\":[0,0,0,0],\"name\":\"Row06034\",\"tags\":[\"embedded\"]},\"id\":\"2977\",\"type\":\"Row\"},{\"attributes\":{\"angle\":{\"value\":0.0},\"fill_alpha\":{\"value\":1.0},\"fill_color\":{\"value\":\"#30a2da\"},\"hatch_alpha\":{\"value\":1.0},\"hatch_color\":{\"value\":\"#30a2da\"},\"hatch_scale\":{\"value\":12.0},\"hatch_weight\":{\"value\":1.0},\"line_alpha\":{\"value\":1.0},\"line_cap\":{\"value\":\"butt\"},\"line_color\":{\"value\":\"#30a2da\"},\"line_dash\":{\"value\":[]},\"line_dash_offset\":{\"value\":0},\"line_join\":{\"value\":\"bevel\"},\"line_width\":{\"value\":1},\"marker\":{\"value\":\"circle\"},\"size\":{\"value\":5.477225575051661},\"x\":{\"field\":\"NewDeaths\"},\"y\":{\"field\":\"Infection_Risk\"}},\"id\":\"3042\",\"type\":\"Scatter\"},{\"attributes\":{\"label\":{\"value\":\"3\"},\"renderers\":[{\"id\":\"3095\"}]},\"id\":\"3113\",\"type\":\"LegendItem\"},{\"attributes\":{\"data\":{\"Infection_Risk\":{\"__ndarray__\":\"ZmZmZmZmOEA=\",\"dtype\":\"float64\",\"order\":\"little\",\"shape\":[1]},\"NewDeaths\":[354],\"class\":[1]},\"selected\":{\"id\":\"3044\"},\"selection_policy\":{\"id\":\"3060\"}},\"id\":\"3043\",\"type\":\"ColumnDataSource\"},{\"attributes\":{\"source\":{\"id\":\"3022\"}},\"id\":\"3029\",\"type\":\"CDSView\"},{\"attributes\":{\"callback\":null,\"renderers\":[{\"id\":\"3028\"},{\"id\":\"3049\"},{\"id\":\"3071\"},{\"id\":\"3095\"},{\"id\":\"3121\"}],\"tags\":[\"hv_created\"],\"tooltips\":[[\"class\",\"@{class}\"],[\"NewDeaths\",\"@{NewDeaths}\"],[\"Infection_Risk\",\"@{Infection_Risk}\"]]},\"id\":\"2981\",\"type\":\"HoverTool\"},{\"attributes\":{\"data\":{\"Infection_Risk\":{\"__ndarray__\":\"w/UoXI/CN0BmZmZmZmYhQA==\",\"dtype\":\"float64\",\"order\":\"little\",\"shape\":[2]},\"NewDeaths\":[300,0],\"class\":[2,2]},\"selected\":{\"id\":\"3066\"},\"selection_policy\":{\"id\":\"3084\"}},\"id\":\"3065\",\"type\":\"ColumnDataSource\"},{\"attributes\":{},\"id\":\"3023\",\"type\":\"Selection\"}],\"root_ids\":[\"2977\"]},\"title\":\"Bokeh Application\",\"version\":\"2.4.2\"}};\n",
       "    var render_items = [{\"docid\":\"65101f4e-c659-4396-bcf0-f48f314ab893\",\"root_ids\":[\"2977\"],\"roots\":{\"2977\":\"42cbf856-67d4-4edb-b04d-16377daaf1ce\"}}];\n",
       "    root.Bokeh.embed.embed_items_notebook(docs_json, render_items);\n",
       "  }\n",
       "  if (root.Bokeh !== undefined && root.Bokeh.Panel !== undefined) {\n",
       "    embed_document(root);\n",
       "  } else {\n",
       "    var attempts = 0;\n",
       "    var timer = setInterval(function(root) {\n",
       "      if (root.Bokeh !== undefined && root.Bokeh.Panel !== undefined) {\n",
       "        clearInterval(timer);\n",
       "        embed_document(root);\n",
       "      } else if (document.readyState == \"complete\") {\n",
       "        attempts++;\n",
       "        if (attempts > 200) {\n",
       "          clearInterval(timer);\n",
       "          console.log(\"Bokeh: ERROR: Unable to run BokehJS code because BokehJS library is missing\");\n",
       "        }\n",
       "      }\n",
       "    }, 25, root)\n",
       "  }\n",
       "})(window);</script>"
      ],
      "text/plain": [
       ":NdOverlay   [class]\n",
       "   :Scatter   [NewDeaths]   (Infection_Risk)"
      ]
     },
     "execution_count": 31,
     "metadata": {
      "application/vnd.holoviews_exec.v0+json": {
       "id": "2977"
      }
     },
     "output_type": "execute_result"
    }
   ],
   "source": [
    "# Create a scatterplot of covid_data\n",
    "covid_data_df.hvplot.scatter(x=\"NewDeaths\", y=\"Infection_Risk\", by=\"class\")"
   ]
  },
  {
   "cell_type": "code",
   "execution_count": 32,
   "metadata": {},
   "outputs": [
    {
     "data": {},
     "metadata": {},
     "output_type": "display_data"
    },
    {
     "data": {
      "application/vnd.holoviews_exec.v0+json": "",
      "text/html": [
       "<div id='3397'>\n",
       "\n",
       "\n",
       "\n",
       "\n",
       "\n",
       "  <div class=\"bk-root\" id=\"1fa4ee96-6ba3-447a-80e3-524fe7f3fdb1\" data-root-id=\"3397\"></div>\n",
       "</div>\n",
       "<script type=\"application/javascript\">(function(root) {\n",
       "  function embed_document(root) {\n",
       "    var docs_json = {\"1203fb23-2470-4396-abae-48771e86581e\":{\"defs\":[{\"extends\":null,\"module\":null,\"name\":\"ReactiveHTML1\",\"overrides\":[],\"properties\":[]},{\"extends\":null,\"module\":null,\"name\":\"FlexBox1\",\"overrides\":[],\"properties\":[{\"default\":\"flex-start\",\"kind\":null,\"name\":\"align_content\"},{\"default\":\"flex-start\",\"kind\":null,\"name\":\"align_items\"},{\"default\":\"row\",\"kind\":null,\"name\":\"flex_direction\"},{\"default\":\"wrap\",\"kind\":null,\"name\":\"flex_wrap\"},{\"default\":\"flex-start\",\"kind\":null,\"name\":\"justify_content\"}]},{\"extends\":null,\"module\":null,\"name\":\"TemplateActions1\",\"overrides\":[],\"properties\":[{\"default\":0,\"kind\":null,\"name\":\"open_modal\"},{\"default\":0,\"kind\":null,\"name\":\"close_modal\"}]},{\"extends\":null,\"module\":null,\"name\":\"MaterialTemplateActions1\",\"overrides\":[],\"properties\":[{\"default\":0,\"kind\":null,\"name\":\"open_modal\"},{\"default\":0,\"kind\":null,\"name\":\"close_modal\"}]}],\"roots\":{\"references\":[{\"attributes\":{\"axis_label\":\"Infection_Risk\",\"coordinates\":null,\"formatter\":{\"id\":\"3440\"},\"group\":null,\"major_label_policy\":{\"id\":\"3441\"},\"ticker\":{\"id\":\"3420\"}},\"id\":\"3419\",\"type\":\"LinearAxis\"},{\"attributes\":{\"label\":{\"value\":\"2\"},\"renderers\":[{\"id\":\"3491\"}]},\"id\":\"3507\",\"type\":\"LegendItem\"},{\"attributes\":{\"axis\":{\"id\":\"3419\"},\"coordinates\":null,\"dimension\":1,\"grid_line_color\":null,\"group\":null,\"ticker\":null},\"id\":\"3422\",\"type\":\"Grid\"},{\"attributes\":{\"data\":{\"Infection_Risk\":{\"__ndarray__\":\"KVyPwvXoQkD2KFyPwjU+QNejcD0KlzdAw/UoXI9iRkA=\",\"dtype\":\"float64\",\"order\":\"little\",\"shape\":[4]},\"NewCases\":[143571,39925,75616,34989],\"class\":[4,4,4,4]},\"selected\":{\"id\":\"3536\"},\"selection_policy\":{\"id\":\"3558\"}},\"id\":\"3535\",\"type\":\"ColumnDataSource\"},{\"attributes\":{},\"id\":\"3504\",\"type\":\"UnionRenderers\"},{\"attributes\":{\"coordinates\":null,\"data_source\":{\"id\":\"3485\"},\"glyph\":{\"id\":\"3488\"},\"group\":null,\"hover_glyph\":null,\"muted_glyph\":{\"id\":\"3490\"},\"nonselection_glyph\":{\"id\":\"3489\"},\"selection_glyph\":{\"id\":\"3508\"},\"view\":{\"id\":\"3492\"}},\"id\":\"3491\",\"type\":\"GlyphRenderer\"},{\"attributes\":{\"fill_alpha\":{\"value\":0.1},\"fill_color\":{\"value\":\"#6d904f\"},\"hatch_alpha\":{\"value\":0.1},\"hatch_color\":{\"value\":\"#6d904f\"},\"line_alpha\":{\"value\":0.1},\"line_color\":{\"value\":\"#6d904f\"},\"size\":{\"value\":5.477225575051661},\"x\":{\"field\":\"NewCases\"},\"y\":{\"field\":\"Infection_Risk\"}},\"id\":\"3513\",\"type\":\"Scatter\"},{\"attributes\":{},\"id\":\"3424\",\"type\":\"PanTool\"},{\"attributes\":{\"source\":{\"id\":\"3485\"}},\"id\":\"3492\",\"type\":\"CDSView\"},{\"attributes\":{},\"id\":\"3437\",\"type\":\"BasicTickFormatter\"},{\"attributes\":{\"angle\":{\"value\":0.0},\"fill_alpha\":{\"value\":1.0},\"fill_color\":{\"value\":\"#8b8b8b\"},\"hatch_alpha\":{\"value\":1.0},\"hatch_color\":{\"value\":\"#8b8b8b\"},\"hatch_scale\":{\"value\":12.0},\"hatch_weight\":{\"value\":1.0},\"line_alpha\":{\"value\":1.0},\"line_cap\":{\"value\":\"butt\"},\"line_color\":{\"value\":\"#8b8b8b\"},\"line_dash\":{\"value\":[]},\"line_dash_offset\":{\"value\":0},\"line_join\":{\"value\":\"bevel\"},\"line_width\":{\"value\":1},\"marker\":{\"value\":\"circle\"},\"size\":{\"value\":5.477225575051661},\"x\":{\"field\":\"NewCases\"},\"y\":{\"field\":\"Infection_Risk\"}},\"id\":\"3562\",\"type\":\"Scatter\"},{\"attributes\":{},\"id\":\"3420\",\"type\":\"BasicTicker\"},{\"attributes\":{\"fill_alpha\":{\"value\":0.1},\"fill_color\":{\"value\":\"#fc4f30\"},\"hatch_alpha\":{\"value\":0.1},\"hatch_color\":{\"value\":\"#fc4f30\"},\"line_alpha\":{\"value\":0.1},\"line_color\":{\"value\":\"#fc4f30\"},\"size\":{\"value\":5.477225575051661},\"x\":{\"field\":\"NewCases\"},\"y\":{\"field\":\"Infection_Risk\"}},\"id\":\"3467\",\"type\":\"Scatter\"},{\"attributes\":{},\"id\":\"3425\",\"type\":\"WheelZoomTool\"},{\"attributes\":{},\"id\":\"3423\",\"type\":\"SaveTool\"},{\"attributes\":{\"fill_color\":{\"value\":\"#6d904f\"},\"hatch_color\":{\"value\":\"#6d904f\"},\"line_color\":{\"value\":\"#6d904f\"},\"size\":{\"value\":5.477225575051661},\"x\":{\"field\":\"NewCases\"},\"y\":{\"field\":\"Infection_Risk\"}},\"id\":\"3512\",\"type\":\"Scatter\"},{\"attributes\":{\"overlay\":{\"id\":\"3428\"}},\"id\":\"3426\",\"type\":\"BoxZoomTool\"},{\"attributes\":{\"data\":{\"Infection_Risk\":{\"__ndarray__\":\"MzMzMzOzK0DD9Shcj0IoQHsUrkfhejhA16NwPQrXE0DsUbgehWsvQDMzMzMzMxFAUrgehesRMEBmZmZmZiZEQPYoXI/CtTFA7FG4HoVrQ0BmZmZmZmYuQA==\",\"dtype\":\"float64\",\"order\":\"little\",\"shape\":[11]},\"NewCases\":[34576,25382,24298,49063,8241,3658,58235,37910,8761,11188,10675],\"class\":[3,3,3,3,3,3,3,3,3,3,3]},\"selected\":{\"id\":\"3510\"},\"selection_policy\":{\"id\":\"3530\"}},\"id\":\"3509\",\"type\":\"ColumnDataSource\"},{\"attributes\":{},\"id\":\"3427\",\"type\":\"ResetTool\"},{\"attributes\":{\"label\":{\"value\":\"1\"},\"renderers\":[{\"id\":\"3469\"}]},\"id\":\"3483\",\"type\":\"LegendItem\"},{\"attributes\":{\"fill_color\":{\"value\":\"#fc4f30\"},\"hatch_color\":{\"value\":\"#fc4f30\"},\"line_color\":{\"value\":\"#fc4f30\"},\"size\":{\"value\":5.477225575051661},\"x\":{\"field\":\"NewCases\"},\"y\":{\"field\":\"Infection_Risk\"}},\"id\":\"3466\",\"type\":\"Scatter\"},{\"attributes\":{\"bottom_units\":\"screen\",\"coordinates\":null,\"fill_alpha\":0.5,\"fill_color\":\"lightgrey\",\"group\":null,\"left_units\":\"screen\",\"level\":\"overlay\",\"line_alpha\":1.0,\"line_color\":\"black\",\"line_dash\":[4,4],\"line_width\":2,\"right_units\":\"screen\",\"syncable\":false,\"top_units\":\"screen\"},\"id\":\"3428\",\"type\":\"BoxAnnotation\"},{\"attributes\":{\"coordinates\":null,\"data_source\":{\"id\":\"3463\"},\"glyph\":{\"id\":\"3466\"},\"group\":null,\"hover_glyph\":null,\"muted_glyph\":{\"id\":\"3468\"},\"nonselection_glyph\":{\"id\":\"3467\"},\"selection_glyph\":{\"id\":\"3484\"},\"view\":{\"id\":\"3470\"}},\"id\":\"3469\",\"type\":\"GlyphRenderer\"},{\"attributes\":{},\"id\":\"3457\",\"type\":\"UnionRenderers\"},{\"attributes\":{},\"id\":\"3438\",\"type\":\"AllLabels\"},{\"attributes\":{\"source\":{\"id\":\"3463\"}},\"id\":\"3470\",\"type\":\"CDSView\"},{\"attributes\":{\"fill_alpha\":{\"value\":0.2},\"fill_color\":{\"value\":\"#fc4f30\"},\"hatch_alpha\":{\"value\":0.2},\"hatch_color\":{\"value\":\"#fc4f30\"},\"line_alpha\":{\"value\":0.2},\"line_color\":{\"value\":\"#fc4f30\"},\"size\":{\"value\":5.477225575051661},\"x\":{\"field\":\"NewCases\"},\"y\":{\"field\":\"Infection_Risk\"}},\"id\":\"3468\",\"type\":\"Scatter\"},{\"attributes\":{},\"id\":\"3443\",\"type\":\"Selection\"},{\"attributes\":{\"angle\":{\"value\":0.0},\"fill_alpha\":{\"value\":1.0},\"fill_color\":{\"value\":\"#6d904f\"},\"hatch_alpha\":{\"value\":1.0},\"hatch_color\":{\"value\":\"#6d904f\"},\"hatch_scale\":{\"value\":12.0},\"hatch_weight\":{\"value\":1.0},\"line_alpha\":{\"value\":1.0},\"line_cap\":{\"value\":\"butt\"},\"line_color\":{\"value\":\"#6d904f\"},\"line_dash\":{\"value\":[]},\"line_dash_offset\":{\"value\":0},\"line_join\":{\"value\":\"bevel\"},\"line_width\":{\"value\":1},\"marker\":{\"value\":\"circle\"},\"size\":{\"value\":5.477225575051661},\"x\":{\"field\":\"NewCases\"},\"y\":{\"field\":\"Infection_Risk\"}},\"id\":\"3534\",\"type\":\"Scatter\"},{\"attributes\":{},\"id\":\"3440\",\"type\":\"BasicTickFormatter\"},{\"attributes\":{},\"id\":\"3480\",\"type\":\"UnionRenderers\"},{\"attributes\":{\"fill_color\":{\"value\":\"#8b8b8b\"},\"hatch_color\":{\"value\":\"#8b8b8b\"},\"line_color\":{\"value\":\"#8b8b8b\"},\"size\":{\"value\":5.477225575051661},\"x\":{\"field\":\"NewCases\"},\"y\":{\"field\":\"Infection_Risk\"}},\"id\":\"3538\",\"type\":\"Scatter\"},{\"attributes\":{\"coordinates\":null,\"data_source\":{\"id\":\"3442\"},\"glyph\":{\"id\":\"3445\"},\"group\":null,\"hover_glyph\":null,\"muted_glyph\":{\"id\":\"3447\"},\"nonselection_glyph\":{\"id\":\"3446\"},\"selection_glyph\":{\"id\":\"3462\"},\"view\":{\"id\":\"3449\"}},\"id\":\"3448\",\"type\":\"GlyphRenderer\"},{\"attributes\":{\"fill_alpha\":{\"value\":0.2},\"fill_color\":{\"value\":\"#6d904f\"},\"hatch_alpha\":{\"value\":0.2},\"hatch_color\":{\"value\":\"#6d904f\"},\"line_alpha\":{\"value\":0.2},\"line_color\":{\"value\":\"#6d904f\"},\"size\":{\"value\":5.477225575051661},\"x\":{\"field\":\"NewCases\"},\"y\":{\"field\":\"Infection_Risk\"}},\"id\":\"3514\",\"type\":\"Scatter\"},{\"attributes\":{\"tools\":[{\"id\":\"3401\"},{\"id\":\"3423\"},{\"id\":\"3424\"},{\"id\":\"3425\"},{\"id\":\"3426\"},{\"id\":\"3427\"}]},\"id\":\"3429\",\"type\":\"Toolbar\"},{\"attributes\":{\"fill_alpha\":{\"value\":0.2},\"fill_color\":{\"value\":\"#30a2da\"},\"hatch_alpha\":{\"value\":0.2},\"hatch_color\":{\"value\":\"#30a2da\"},\"line_alpha\":{\"value\":0.2},\"line_color\":{\"value\":\"#30a2da\"},\"size\":{\"value\":5.477225575051661},\"x\":{\"field\":\"NewCases\"},\"y\":{\"field\":\"Infection_Risk\"}},\"id\":\"3447\",\"type\":\"Scatter\"},{\"attributes\":{\"click_policy\":\"mute\",\"coordinates\":null,\"group\":null,\"items\":[{\"id\":\"3461\"},{\"id\":\"3483\"},{\"id\":\"3507\"},{\"id\":\"3533\"},{\"id\":\"3561\"}],\"location\":[0,0],\"title\":\"class\"},\"id\":\"3460\",\"type\":\"Legend\"},{\"attributes\":{\"label\":{\"value\":\"4\"},\"renderers\":[{\"id\":\"3541\"}]},\"id\":\"3561\",\"type\":\"LegendItem\"},{\"attributes\":{\"angle\":{\"value\":0.0},\"fill_alpha\":{\"value\":1.0},\"fill_color\":{\"value\":\"#e5ae38\"},\"hatch_alpha\":{\"value\":1.0},\"hatch_color\":{\"value\":\"#e5ae38\"},\"hatch_scale\":{\"value\":12.0},\"hatch_weight\":{\"value\":1.0},\"line_alpha\":{\"value\":1.0},\"line_cap\":{\"value\":\"butt\"},\"line_color\":{\"value\":\"#e5ae38\"},\"line_dash\":{\"value\":[]},\"line_dash_offset\":{\"value\":0},\"line_join\":{\"value\":\"bevel\"},\"line_width\":{\"value\":1},\"marker\":{\"value\":\"circle\"},\"size\":{\"value\":5.477225575051661},\"x\":{\"field\":\"NewCases\"},\"y\":{\"field\":\"Infection_Risk\"}},\"id\":\"3508\",\"type\":\"Scatter\"},{\"attributes\":{},\"id\":\"3536\",\"type\":\"Selection\"},{\"attributes\":{},\"id\":\"3558\",\"type\":\"UnionRenderers\"},{\"attributes\":{\"label\":{\"value\":\"3\"},\"renderers\":[{\"id\":\"3515\"}]},\"id\":\"3533\",\"type\":\"LegendItem\"},{\"attributes\":{},\"id\":\"3413\",\"type\":\"LinearScale\"},{\"attributes\":{\"fill_alpha\":{\"value\":0.1},\"fill_color\":{\"value\":\"#8b8b8b\"},\"hatch_alpha\":{\"value\":0.1},\"hatch_color\":{\"value\":\"#8b8b8b\"},\"line_alpha\":{\"value\":0.1},\"line_color\":{\"value\":\"#8b8b8b\"},\"size\":{\"value\":5.477225575051661},\"x\":{\"field\":\"NewCases\"},\"y\":{\"field\":\"Infection_Risk\"}},\"id\":\"3539\",\"type\":\"Scatter\"},{\"attributes\":{\"source\":{\"id\":\"3535\"}},\"id\":\"3542\",\"type\":\"CDSView\"},{\"attributes\":{\"coordinates\":null,\"data_source\":{\"id\":\"3535\"},\"glyph\":{\"id\":\"3538\"},\"group\":null,\"hover_glyph\":null,\"muted_glyph\":{\"id\":\"3540\"},\"nonselection_glyph\":{\"id\":\"3539\"},\"selection_glyph\":{\"id\":\"3562\"},\"view\":{\"id\":\"3542\"}},\"id\":\"3541\",\"type\":\"GlyphRenderer\"},{\"attributes\":{\"fill_alpha\":{\"value\":0.1},\"fill_color\":{\"value\":\"#30a2da\"},\"hatch_alpha\":{\"value\":0.1},\"hatch_color\":{\"value\":\"#30a2da\"},\"line_alpha\":{\"value\":0.1},\"line_color\":{\"value\":\"#30a2da\"},\"size\":{\"value\":5.477225575051661},\"x\":{\"field\":\"NewCases\"},\"y\":{\"field\":\"Infection_Risk\"}},\"id\":\"3446\",\"type\":\"Scatter\"},{\"attributes\":{\"children\":[{\"id\":\"3398\"},{\"id\":\"3406\"},{\"id\":\"3725\"}],\"margin\":[0,0,0,0],\"name\":\"Row06953\",\"tags\":[\"embedded\"]},\"id\":\"3397\",\"type\":\"Row\"},{\"attributes\":{\"fill_alpha\":{\"value\":0.2},\"fill_color\":{\"value\":\"#8b8b8b\"},\"hatch_alpha\":{\"value\":0.2},\"hatch_color\":{\"value\":\"#8b8b8b\"},\"line_alpha\":{\"value\":0.2},\"line_color\":{\"value\":\"#8b8b8b\"},\"size\":{\"value\":5.477225575051661},\"x\":{\"field\":\"NewCases\"},\"y\":{\"field\":\"Infection_Risk\"}},\"id\":\"3540\",\"type\":\"Scatter\"},{\"attributes\":{\"angle\":{\"value\":0.0},\"fill_alpha\":{\"value\":1.0},\"fill_color\":{\"value\":\"#fc4f30\"},\"hatch_alpha\":{\"value\":1.0},\"hatch_color\":{\"value\":\"#fc4f30\"},\"hatch_scale\":{\"value\":12.0},\"hatch_weight\":{\"value\":1.0},\"line_alpha\":{\"value\":1.0},\"line_cap\":{\"value\":\"butt\"},\"line_color\":{\"value\":\"#fc4f30\"},\"line_dash\":{\"value\":[]},\"line_dash_offset\":{\"value\":0},\"line_join\":{\"value\":\"bevel\"},\"line_width\":{\"value\":1},\"marker\":{\"value\":\"circle\"},\"size\":{\"value\":5.477225575051661},\"x\":{\"field\":\"NewCases\"},\"y\":{\"field\":\"Infection_Risk\"}},\"id\":\"3484\",\"type\":\"Scatter\"},{\"attributes\":{\"end\":353941.54285714286,\"reset_end\":353941.54285714286,\"reset_start\":-14545.542857142857,\"start\":-14545.542857142857,\"tags\":[[[\"NewCases\",\"NewCases\",null]]]},\"id\":\"3399\",\"type\":\"Range1d\"},{\"attributes\":{},\"id\":\"3530\",\"type\":\"UnionRenderers\"},{\"attributes\":{\"end\":76.571,\"reset_end\":76.571,\"reset_start\":-6.961,\"start\":-6.961,\"tags\":[[[\"Infection_Risk\",\"Infection_Risk\",null]]]},\"id\":\"3400\",\"type\":\"Range1d\"},{\"attributes\":{\"fill_alpha\":{\"value\":0.2},\"fill_color\":{\"value\":\"#e5ae38\"},\"hatch_alpha\":{\"value\":0.2},\"hatch_color\":{\"value\":\"#e5ae38\"},\"line_alpha\":{\"value\":0.2},\"line_color\":{\"value\":\"#e5ae38\"},\"size\":{\"value\":5.477225575051661},\"x\":{\"field\":\"NewCases\"},\"y\":{\"field\":\"Infection_Risk\"}},\"id\":\"3490\",\"type\":\"Scatter\"},{\"attributes\":{},\"id\":\"3510\",\"type\":\"Selection\"},{\"attributes\":{\"coordinates\":null,\"data_source\":{\"id\":\"3509\"},\"glyph\":{\"id\":\"3512\"},\"group\":null,\"hover_glyph\":null,\"muted_glyph\":{\"id\":\"3514\"},\"nonselection_glyph\":{\"id\":\"3513\"},\"selection_glyph\":{\"id\":\"3534\"},\"view\":{\"id\":\"3516\"}},\"id\":\"3515\",\"type\":\"GlyphRenderer\"},{\"attributes\":{},\"id\":\"3411\",\"type\":\"LinearScale\"},{\"attributes\":{\"source\":{\"id\":\"3509\"}},\"id\":\"3516\",\"type\":\"CDSView\"},{\"attributes\":{\"margin\":[5,5,5,5],\"name\":\"HSpacer06958\",\"sizing_mode\":\"stretch_width\"},\"id\":\"3725\",\"type\":\"Spacer\"},{\"attributes\":{\"fill_color\":{\"value\":\"#30a2da\"},\"hatch_color\":{\"value\":\"#30a2da\"},\"line_color\":{\"value\":\"#30a2da\"},\"size\":{\"value\":5.477225575051661},\"x\":{\"field\":\"NewCases\"},\"y\":{\"field\":\"Infection_Risk\"}},\"id\":\"3445\",\"type\":\"Scatter\"},{\"attributes\":{\"angle\":{\"value\":0.0},\"fill_alpha\":{\"value\":1.0},\"fill_color\":{\"value\":\"#30a2da\"},\"hatch_alpha\":{\"value\":1.0},\"hatch_color\":{\"value\":\"#30a2da\"},\"hatch_scale\":{\"value\":12.0},\"hatch_weight\":{\"value\":1.0},\"line_alpha\":{\"value\":1.0},\"line_cap\":{\"value\":\"butt\"},\"line_color\":{\"value\":\"#30a2da\"},\"line_dash\":{\"value\":[]},\"line_dash_offset\":{\"value\":0},\"line_join\":{\"value\":\"bevel\"},\"line_width\":{\"value\":1},\"marker\":{\"value\":\"circle\"},\"size\":{\"value\":5.477225575051661},\"x\":{\"field\":\"NewCases\"},\"y\":{\"field\":\"Infection_Risk\"}},\"id\":\"3462\",\"type\":\"Scatter\"},{\"attributes\":{\"callback\":null,\"renderers\":[{\"id\":\"3448\"},{\"id\":\"3469\"},{\"id\":\"3491\"},{\"id\":\"3515\"},{\"id\":\"3541\"}],\"tags\":[\"hv_created\"],\"tooltips\":[[\"class\",\"@{class}\"],[\"NewCases\",\"@{NewCases}\"],[\"Infection_Risk\",\"@{Infection_Risk}\"]]},\"id\":\"3401\",\"type\":\"HoverTool\"},{\"attributes\":{\"fill_alpha\":{\"value\":0.1},\"fill_color\":{\"value\":\"#e5ae38\"},\"hatch_alpha\":{\"value\":0.1},\"hatch_color\":{\"value\":\"#e5ae38\"},\"line_alpha\":{\"value\":0.1},\"line_color\":{\"value\":\"#e5ae38\"},\"size\":{\"value\":5.477225575051661},\"x\":{\"field\":\"NewCases\"},\"y\":{\"field\":\"Infection_Risk\"}},\"id\":\"3489\",\"type\":\"Scatter\"},{\"attributes\":{},\"id\":\"3416\",\"type\":\"BasicTicker\"},{\"attributes\":{\"label\":{\"value\":\"0\"},\"renderers\":[{\"id\":\"3448\"}]},\"id\":\"3461\",\"type\":\"LegendItem\"},{\"attributes\":{\"data\":{\"Infection_Risk\":{\"__ndarray__\":\"w/UoXI/CN0BmZmZmZmYhQA==\",\"dtype\":\"float64\",\"order\":\"little\",\"shape\":[2]},\"NewCases\":[276746,0],\"class\":[2,2]},\"selected\":{\"id\":\"3486\"},\"selection_policy\":{\"id\":\"3504\"}},\"id\":\"3485\",\"type\":\"ColumnDataSource\"},{\"attributes\":{},\"id\":\"3486\",\"type\":\"Selection\"},{\"attributes\":{\"data\":{\"Infection_Risk\":{\"__ndarray__\":\"ZmZmZmZmOEA=\",\"dtype\":\"float64\",\"order\":\"little\",\"shape\":[1]},\"NewCases\":[11781],\"class\":[1]},\"selected\":{\"id\":\"3464\"},\"selection_policy\":{\"id\":\"3480\"}},\"id\":\"3463\",\"type\":\"ColumnDataSource\"},{\"attributes\":{},\"id\":\"3464\",\"type\":\"Selection\"},{\"attributes\":{\"below\":[{\"id\":\"3415\"}],\"center\":[{\"id\":\"3418\"},{\"id\":\"3422\"}],\"height\":300,\"left\":[{\"id\":\"3419\"}],\"margin\":[5,5,5,5],\"min_border_bottom\":10,\"min_border_left\":10,\"min_border_right\":10,\"min_border_top\":10,\"renderers\":[{\"id\":\"3448\"},{\"id\":\"3469\"},{\"id\":\"3491\"},{\"id\":\"3515\"},{\"id\":\"3541\"}],\"right\":[{\"id\":\"3460\"}],\"sizing_mode\":\"fixed\",\"title\":{\"id\":\"3407\"},\"toolbar\":{\"id\":\"3429\"},\"width\":700,\"x_range\":{\"id\":\"3399\"},\"x_scale\":{\"id\":\"3411\"},\"y_range\":{\"id\":\"3400\"},\"y_scale\":{\"id\":\"3413\"}},\"id\":\"3406\",\"subtype\":\"Figure\",\"type\":\"Plot\"},{\"attributes\":{\"coordinates\":null,\"group\":null,\"text_color\":\"black\",\"text_font_size\":\"12pt\"},\"id\":\"3407\",\"type\":\"Title\"},{\"attributes\":{\"fill_color\":{\"value\":\"#e5ae38\"},\"hatch_color\":{\"value\":\"#e5ae38\"},\"line_color\":{\"value\":\"#e5ae38\"},\"size\":{\"value\":5.477225575051661},\"x\":{\"field\":\"NewCases\"},\"y\":{\"field\":\"Infection_Risk\"}},\"id\":\"3488\",\"type\":\"Scatter\"},{\"attributes\":{\"data\":{\"Infection_Risk\":{\"__ndarray__\":\"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\",\"dtype\":\"float64\",\"order\":\"little\",\"shape\":[202]},\"NewCases\":[0,15303,339396,2572,1530,366,4857,3630,21839,17635,7174,13457,1557,411,0,26050,0,6344,16234,5351,3725,0,370,1949,102,2439,0,8104,590,329,9147,0,22,77,1333,10405,1815,378,836,7584,0,3314,12,1488,2802,288,348,0,0,0,1311,50,2819,0,99,234,0,0,317,0,0,15914,1462,852,0,385,41,0,60,103,22,0,3329,0,114,122,0,17,110,322,61,13,0,0,0,9,65,8,2179,10,831,0,0,2212,13,0,0,0,0,341,59,0,756,1,0,0,0,13,12,10,0,12,0,465,0,25,0,5,0,0,0,32,0,0,0,4,0,0,0,0,0,0,0,0,0,0,97,0,86,0,0,0,0,2,0,0,0,502,0,0,4,136,71,0,0,0,0,70,0,128,0,0,0,0,0,0,0,0,0,59,0,0,1,0,0,0,0,0,0,0,0,0,0,0,1,0,0,0,0,263,0,93,0,0,0,0,0,0,0,0,0,1366],\"class\":[0,0,0,0,0,0,0,0,0,0,0,0,0,0,0,0,0,0,0,0,0,0,0,0,0,0,0,0,0,0,0,0,0,0,0,0,0,0,0,0,0,0,0,0,0,0,0,0,0,0,0,0,0,0,0,0,0,0,0,0,0,0,0,0,0,0,0,0,0,0,0,0,0,0,0,0,0,0,0,0,0,0,0,0,0,0,0,0,0,0,0,0,0,0,0,0,0,0,0,0,0,0,0,0,0,0,0,0,0,0,0,0,0,0,0,0,0,0,0,0,0,0,0,0,0,0,0,0,0,0,0,0,0,0,0,0,0,0,0,0,0,0,0,0,0,0,0,0,0,0,0,0,0,0,0,0,0,0,0,0,0,0,0,0,0,0,0,0,0,0,0,0,0,0,0,0,0,0,0,0,0,0,0,0,0,0,0,0,0,0,0,0,0,0,0,0,0,0,0,0,0,0]},\"selected\":{\"id\":\"3443\"},\"selection_policy\":{\"id\":\"3457\"}},\"id\":\"3442\",\"type\":\"ColumnDataSource\"},{\"attributes\":{\"source\":{\"id\":\"3442\"}},\"id\":\"3449\",\"type\":\"CDSView\"},{\"attributes\":{\"axis\":{\"id\":\"3415\"},\"coordinates\":null,\"grid_line_color\":null,\"group\":null,\"ticker\":null},\"id\":\"3418\",\"type\":\"Grid\"},{\"attributes\":{\"axis_label\":\"NewCases\",\"coordinates\":null,\"formatter\":{\"id\":\"3437\"},\"group\":null,\"major_label_policy\":{\"id\":\"3438\"},\"ticker\":{\"id\":\"3416\"}},\"id\":\"3415\",\"type\":\"LinearAxis\"},{\"attributes\":{},\"id\":\"3441\",\"type\":\"AllLabels\"},{\"attributes\":{\"margin\":[5,5,5,5],\"name\":\"HSpacer06957\",\"sizing_mode\":\"stretch_width\"},\"id\":\"3398\",\"type\":\"Spacer\"}],\"root_ids\":[\"3397\"]},\"title\":\"Bokeh Application\",\"version\":\"2.4.2\"}};\n",
       "    var render_items = [{\"docid\":\"1203fb23-2470-4396-abae-48771e86581e\",\"root_ids\":[\"3397\"],\"roots\":{\"3397\":\"1fa4ee96-6ba3-447a-80e3-524fe7f3fdb1\"}}];\n",
       "    root.Bokeh.embed.embed_items_notebook(docs_json, render_items);\n",
       "  }\n",
       "  if (root.Bokeh !== undefined && root.Bokeh.Panel !== undefined) {\n",
       "    embed_document(root);\n",
       "  } else {\n",
       "    var attempts = 0;\n",
       "    var timer = setInterval(function(root) {\n",
       "      if (root.Bokeh !== undefined && root.Bokeh.Panel !== undefined) {\n",
       "        clearInterval(timer);\n",
       "        embed_document(root);\n",
       "      } else if (document.readyState == \"complete\") {\n",
       "        attempts++;\n",
       "        if (attempts > 200) {\n",
       "          clearInterval(timer);\n",
       "          console.log(\"Bokeh: ERROR: Unable to run BokehJS code because BokehJS library is missing\");\n",
       "        }\n",
       "      }\n",
       "    }, 25, root)\n",
       "  }\n",
       "})(window);</script>"
      ],
      "text/plain": [
       ":NdOverlay   [class]\n",
       "   :Scatter   [NewCases]   (Infection_Risk)"
      ]
     },
     "execution_count": 32,
     "metadata": {
      "application/vnd.holoviews_exec.v0+json": {
       "id": "3397"
      }
     },
     "output_type": "execute_result"
    }
   ],
   "source": [
    "# Create a scatterplot of covid_data\n",
    "covid_data_df.hvplot.scatter(x=\"NewCases\", y=\"Infection_Risk\", by=\"class\")"
   ]
  },
  {
   "cell_type": "code",
   "execution_count": 33,
   "metadata": {},
   "outputs": [
    {
     "data": {
      "application/vnd.plotly.v1+json": {
       "config": {
        "plotlyServerURL": "https://plot.ly"
       },
       "data": [
        {
         "hovertemplate": "class=%{marker.color}<br>NewCases=%{x}<br>Infection_Risk=%{y}<br>NewDeaths=%{z}<extra></extra>",
         "legendgroup": "1",
         "marker": {
          "color": [
           1
          ],
          "coloraxis": "coloraxis",
          "symbol": "circle"
         },
         "mode": "markers",
         "name": "1",
         "scene": "scene",
         "showlegend": true,
         "type": "scatter3d",
         "x": [
          11781
         ],
         "y": [
          24.4
         ],
         "z": [
          354
         ]
        },
        {
         "hovertemplate": "class=%{marker.color}<br>NewCases=%{x}<br>Infection_Risk=%{y}<br>NewDeaths=%{z}<extra></extra>",
         "legendgroup": "0",
         "marker": {
          "color": [
           0,
           0,
           0,
           0,
           0,
           0,
           0,
           0,
           0,
           0,
           0,
           0,
           0,
           0,
           0,
           0,
           0,
           0,
           0,
           0,
           0,
           0,
           0,
           0,
           0,
           0,
           0,
           0,
           0,
           0,
           0,
           0,
           0,
           0,
           0,
           0,
           0,
           0,
           0,
           0,
           0,
           0,
           0,
           0,
           0,
           0,
           0,
           0,
           0,
           0,
           0,
           0,
           0,
           0,
           0,
           0,
           0,
           0,
           0,
           0,
           0,
           0,
           0,
           0,
           0,
           0,
           0,
           0,
           0,
           0,
           0,
           0,
           0,
           0,
           0,
           0,
           0,
           0,
           0,
           0,
           0,
           0,
           0,
           0,
           0,
           0,
           0,
           0,
           0,
           0,
           0,
           0,
           0,
           0,
           0,
           0,
           0,
           0,
           0,
           0,
           0,
           0,
           0,
           0,
           0,
           0,
           0,
           0,
           0,
           0,
           0,
           0,
           0,
           0,
           0,
           0,
           0,
           0,
           0,
           0,
           0,
           0,
           0,
           0,
           0,
           0,
           0,
           0,
           0,
           0,
           0,
           0,
           0,
           0,
           0,
           0,
           0,
           0,
           0,
           0,
           0,
           0,
           0,
           0,
           0,
           0,
           0,
           0,
           0,
           0,
           0,
           0,
           0,
           0,
           0,
           0,
           0,
           0,
           0,
           0,
           0,
           0,
           0,
           0,
           0,
           0,
           0,
           0,
           0,
           0,
           0,
           0,
           0,
           0,
           0,
           0,
           0,
           0,
           0,
           0,
           0,
           0,
           0,
           0,
           0,
           0,
           0,
           0,
           0,
           0,
           0,
           0,
           0,
           0,
           0,
           0,
           0,
           0,
           0,
           0,
           0,
           0
          ],
          "coloraxis": "coloraxis",
          "symbol": "diamond"
         },
         "mode": "markers",
         "name": "0",
         "scene": "scene",
         "showlegend": true,
         "type": "scatter3d",
         "x": [
          0,
          15303,
          339396,
          2572,
          1530,
          366,
          4857,
          3630,
          21839,
          17635,
          7174,
          13457,
          1557,
          411,
          0,
          26050,
          0,
          6344,
          16234,
          5351,
          3725,
          0,
          370,
          1949,
          102,
          2439,
          0,
          8104,
          590,
          329,
          9147,
          0,
          22,
          77,
          1333,
          10405,
          1815,
          378,
          836,
          7584,
          0,
          3314,
          12,
          1488,
          2802,
          288,
          348,
          0,
          0,
          0,
          1311,
          50,
          2819,
          0,
          99,
          234,
          0,
          0,
          317,
          0,
          0,
          15914,
          1462,
          852,
          0,
          385,
          41,
          0,
          60,
          103,
          22,
          0,
          3329,
          0,
          114,
          122,
          0,
          17,
          110,
          322,
          61,
          13,
          0,
          0,
          0,
          9,
          65,
          8,
          2179,
          10,
          831,
          0,
          0,
          2212,
          13,
          0,
          0,
          0,
          0,
          341,
          59,
          0,
          756,
          1,
          0,
          0,
          0,
          13,
          12,
          10,
          0,
          12,
          0,
          465,
          0,
          25,
          0,
          5,
          0,
          0,
          0,
          32,
          0,
          0,
          0,
          4,
          0,
          0,
          0,
          0,
          0,
          0,
          0,
          0,
          0,
          0,
          97,
          0,
          86,
          0,
          0,
          0,
          0,
          2,
          0,
          0,
          0,
          502,
          0,
          0,
          4,
          136,
          71,
          0,
          0,
          0,
          0,
          70,
          0,
          128,
          0,
          0,
          0,
          0,
          0,
          0,
          0,
          0,
          0,
          59,
          0,
          0,
          1,
          0,
          0,
          0,
          0,
          0,
          0,
          0,
          0,
          0,
          0,
          0,
          1,
          0,
          0,
          0,
          0,
          263,
          0,
          93,
          0,
          0,
          0,
          0,
          0,
          0,
          0,
          0,
          0,
          1366
         ],
         "y": [
          3.07,
          17.2,
          21.74,
          19.66,
          8.33,
          11.74,
          2.15,
          11.44,
          12.4,
          41.13,
          35.16,
          32.3,
          6.12,
          3.28,
          10.5,
          4.96,
          34.09,
          8.97,
          28.06,
          49.58,
          14.91,
          24.31,
          5.55,
          22.66,
          1.16,
          19.12,
          16.28,
          30.65,
          41.38,
          0.67,
          28.27,
          25.35,
          6.81,
          3.09,
          16.51,
          14.62,
          26.87,
          16.1,
          9.59,
          17.89,
          8.59,
          38.01,
          3.26,
          10.13,
          45.8,
          7.54,
          8.81,
          25.22,
          4.72,
          16.12,
          4.45,
          7.69,
          42.53,
          17.21,
          2.1,
          3.06,
          8.89,
          14.34,
          1.11,
          10.95,
          5.23,
          11.46,
          41.4,
          30.48,
          1.84,
          12.74,
          7.13,
          0.47,
          0.39,
          13.89,
          14.21,
          4.11,
          32.76,
          7.28,
          11.55,
          12.84,
          36.1,
          0.58,
          1.64,
          14.62,
          9.52,
          0.59,
          10.85,
          0.12,
          1.61,
          0.69,
          37.03,
          0.69,
          32.36,
          2.99,
          51.7,
          0.44,
          31.36,
          2.2,
          0.34,
          2.46,
          0.5,
          6.01,
          37.73,
          9.7,
          0.79,
          32.66,
          29.2,
          0.96,
          4.31,
          0.43,
          0.29,
          0.09,
          0.49,
          0.43,
          0.3,
          13.28,
          25.21,
          17.21,
          25.33,
          5.9,
          37.17,
          7.09,
          0.22,
          7.97,
          0.14,
          20.73,
          1.21,
          20.18,
          13.95,
          9.88,
          0.31,
          2.05,
          0.45,
          40.23,
          24.12,
          51.26,
          0.31,
          0.43,
          12.93,
          0.27,
          2.81,
          69.61,
          31.55,
          0.05,
          8.32,
          1.51,
          0.26,
          0.14,
          31.85,
          0.21,
          0.16,
          3.09,
          0.42,
          12.38,
          1.68,
          0.09,
          0.1,
          29.13,
          0.27,
          0.18,
          0.15,
          49.3,
          1.07,
          41.47,
          1.54,
          43.95,
          0.29,
          12.31,
          19.96,
          0.47,
          20.99,
          0.04,
          16.3,
          26.41,
          1.46,
          24.9,
          0.27,
          22.14,
          0.03,
          0.4,
          0.9,
          30.17,
          0.09,
          7.53,
          0.14,
          0.04,
          6.05,
          19.96,
          2.63,
          14.86,
          10.3,
          38.07,
          17.28,
          0.61,
          31,
          0.44,
          0,
          4.17,
          3.48,
          3.26,
          0.01,
          3.61,
          0,
          0,
          0.01,
          0.01
         ],
         "z": [
          0,
          68,
          392,
          66,
          52,
          13,
          120,
          32,
          53,
          5,
          12,
          27,
          7,
          60,
          0,
          69,
          0,
          49,
          35,
          24,
          32,
          0,
          7,
          10,
          0,
          38,
          0,
          20,
          10,
          3,
          17,
          0,
          1,
          0,
          29,
          192,
          10,
          5,
          0,
          13,
          0,
          13,
          0,
          8,
          8,
          3,
          0,
          0,
          0,
          0,
          7,
          3,
          10,
          0,
          2,
          2,
          0,
          0,
          0,
          0,
          0,
          9,
          6,
          2,
          0,
          1,
          5,
          0,
          0,
          0,
          3,
          0,
          3,
          0,
          7,
          0,
          0,
          0,
          1,
          6,
          1,
          0,
          0,
          0,
          0,
          0,
          0,
          0,
          2,
          1,
          2,
          0,
          0,
          2,
          0,
          0,
          0,
          0,
          0,
          2,
          0,
          0,
          0,
          0,
          0,
          0,
          0,
          0,
          0,
          0,
          0,
          0,
          0,
          1,
          0,
          0,
          0,
          0,
          0,
          0,
          0,
          0,
          0,
          0,
          0,
          0,
          0,
          0,
          0,
          0,
          0,
          0,
          0,
          0,
          0,
          0,
          0,
          0,
          0,
          0,
          0,
          0,
          0,
          0,
          0,
          0,
          0,
          0,
          0,
          0,
          0,
          0,
          6,
          0,
          0,
          0,
          0,
          0,
          0,
          0,
          0,
          0,
          0,
          0,
          0,
          0,
          0,
          0,
          0,
          0,
          0,
          0,
          0,
          0,
          0,
          0,
          0,
          0,
          0,
          0,
          0,
          0,
          0,
          0,
          0,
          0,
          0,
          0,
          0,
          0,
          0,
          0,
          0,
          0,
          0,
          0,
          0,
          0,
          0,
          0,
          0,
          0
         ]
        },
        {
         "hovertemplate": "class=%{marker.color}<br>NewCases=%{x}<br>Infection_Risk=%{y}<br>NewDeaths=%{z}<extra></extra>",
         "legendgroup": "3",
         "marker": {
          "color": [
           3,
           3,
           3,
           3,
           3,
           3,
           3,
           3,
           3,
           3,
           3
          ],
          "coloraxis": "coloraxis",
          "symbol": "square"
         },
         "mode": "markers",
         "name": "3",
         "scene": "scene",
         "showlegend": true,
         "type": "scatter3d",
         "x": [
          34576,
          25382,
          24298,
          49063,
          8241,
          3658,
          58235,
          37910,
          8761,
          11188,
          10675
         ],
         "y": [
          13.85,
          12.13,
          24.48,
          4.96,
          15.71,
          4.3,
          16.07,
          40.3,
          17.71,
          38.84,
          15.2
         ],
         "z": [
          199,
          398,
          113,
          129,
          110,
          155,
          26,
          40,
          75,
          2,
          34
         ]
        },
        {
         "hovertemplate": "class=%{marker.color}<br>NewCases=%{x}<br>Infection_Risk=%{y}<br>NewDeaths=%{z}<extra></extra>",
         "legendgroup": "4",
         "marker": {
          "color": [
           4,
           4,
           4,
           4
          ],
          "coloraxis": "coloraxis",
          "symbol": "x"
         },
         "mode": "markers",
         "name": "4",
         "scene": "scene",
         "showlegend": true,
         "type": "scatter3d",
         "x": [
          143571,
          39925,
          75616,
          34989
         ],
         "y": [
          37.82,
          30.21,
          23.59,
          44.77
         ],
         "z": [
          121,
          172,
          146,
          20
         ]
        },
        {
         "hovertemplate": "class=%{marker.color}<br>NewCases=%{x}<br>Infection_Risk=%{y}<br>NewDeaths=%{z}<extra></extra>",
         "legendgroup": "2",
         "marker": {
          "color": [
           2,
           2
          ],
          "coloraxis": "coloraxis",
          "symbol": "cross"
         },
         "mode": "markers",
         "name": "2",
         "scene": "scene",
         "showlegend": true,
         "type": "scatter3d",
         "x": [
          276746,
          0
         ],
         "y": [
          23.76,
          8.7
         ],
         "z": [
          300,
          0
         ]
        }
       ],
       "layout": {
        "coloraxis": {
         "colorbar": {
          "title": {
           "text": "class"
          }
         },
         "colorscale": [
          [
           0,
           "#0d0887"
          ],
          [
           0.1111111111111111,
           "#46039f"
          ],
          [
           0.2222222222222222,
           "#7201a8"
          ],
          [
           0.3333333333333333,
           "#9c179e"
          ],
          [
           0.4444444444444444,
           "#bd3786"
          ],
          [
           0.5555555555555556,
           "#d8576b"
          ],
          [
           0.6666666666666666,
           "#ed7953"
          ],
          [
           0.7777777777777778,
           "#fb9f3a"
          ],
          [
           0.8888888888888888,
           "#fdca26"
          ],
          [
           1,
           "#f0f921"
          ]
         ]
        },
        "legend": {
         "title": {
          "text": "class"
         },
         "tracegroupgap": 0,
         "x": 0,
         "y": 1
        },
        "margin": {
         "t": 60
        },
        "scene": {
         "domain": {
          "x": [
           0,
           1
          ],
          "y": [
           0,
           1
          ]
         },
         "xaxis": {
          "title": {
           "text": "NewCases"
          }
         },
         "yaxis": {
          "title": {
           "text": "Infection_Risk"
          }
         },
         "zaxis": {
          "title": {
           "text": "NewDeaths"
          }
         }
        },
        "template": {
         "data": {
          "bar": [
           {
            "error_x": {
             "color": "#2a3f5f"
            },
            "error_y": {
             "color": "#2a3f5f"
            },
            "marker": {
             "line": {
              "color": "#E5ECF6",
              "width": 0.5
             },
             "pattern": {
              "fillmode": "overlay",
              "size": 10,
              "solidity": 0.2
             }
            },
            "type": "bar"
           }
          ],
          "barpolar": [
           {
            "marker": {
             "line": {
              "color": "#E5ECF6",
              "width": 0.5
             },
             "pattern": {
              "fillmode": "overlay",
              "size": 10,
              "solidity": 0.2
             }
            },
            "type": "barpolar"
           }
          ],
          "carpet": [
           {
            "aaxis": {
             "endlinecolor": "#2a3f5f",
             "gridcolor": "white",
             "linecolor": "white",
             "minorgridcolor": "white",
             "startlinecolor": "#2a3f5f"
            },
            "baxis": {
             "endlinecolor": "#2a3f5f",
             "gridcolor": "white",
             "linecolor": "white",
             "minorgridcolor": "white",
             "startlinecolor": "#2a3f5f"
            },
            "type": "carpet"
           }
          ],
          "choropleth": [
           {
            "colorbar": {
             "outlinewidth": 0,
             "ticks": ""
            },
            "type": "choropleth"
           }
          ],
          "contour": [
           {
            "colorbar": {
             "outlinewidth": 0,
             "ticks": ""
            },
            "colorscale": [
             [
              0,
              "#0d0887"
             ],
             [
              0.1111111111111111,
              "#46039f"
             ],
             [
              0.2222222222222222,
              "#7201a8"
             ],
             [
              0.3333333333333333,
              "#9c179e"
             ],
             [
              0.4444444444444444,
              "#bd3786"
             ],
             [
              0.5555555555555556,
              "#d8576b"
             ],
             [
              0.6666666666666666,
              "#ed7953"
             ],
             [
              0.7777777777777778,
              "#fb9f3a"
             ],
             [
              0.8888888888888888,
              "#fdca26"
             ],
             [
              1,
              "#f0f921"
             ]
            ],
            "type": "contour"
           }
          ],
          "contourcarpet": [
           {
            "colorbar": {
             "outlinewidth": 0,
             "ticks": ""
            },
            "type": "contourcarpet"
           }
          ],
          "heatmap": [
           {
            "colorbar": {
             "outlinewidth": 0,
             "ticks": ""
            },
            "colorscale": [
             [
              0,
              "#0d0887"
             ],
             [
              0.1111111111111111,
              "#46039f"
             ],
             [
              0.2222222222222222,
              "#7201a8"
             ],
             [
              0.3333333333333333,
              "#9c179e"
             ],
             [
              0.4444444444444444,
              "#bd3786"
             ],
             [
              0.5555555555555556,
              "#d8576b"
             ],
             [
              0.6666666666666666,
              "#ed7953"
             ],
             [
              0.7777777777777778,
              "#fb9f3a"
             ],
             [
              0.8888888888888888,
              "#fdca26"
             ],
             [
              1,
              "#f0f921"
             ]
            ],
            "type": "heatmap"
           }
          ],
          "heatmapgl": [
           {
            "colorbar": {
             "outlinewidth": 0,
             "ticks": ""
            },
            "colorscale": [
             [
              0,
              "#0d0887"
             ],
             [
              0.1111111111111111,
              "#46039f"
             ],
             [
              0.2222222222222222,
              "#7201a8"
             ],
             [
              0.3333333333333333,
              "#9c179e"
             ],
             [
              0.4444444444444444,
              "#bd3786"
             ],
             [
              0.5555555555555556,
              "#d8576b"
             ],
             [
              0.6666666666666666,
              "#ed7953"
             ],
             [
              0.7777777777777778,
              "#fb9f3a"
             ],
             [
              0.8888888888888888,
              "#fdca26"
             ],
             [
              1,
              "#f0f921"
             ]
            ],
            "type": "heatmapgl"
           }
          ],
          "histogram": [
           {
            "marker": {
             "pattern": {
              "fillmode": "overlay",
              "size": 10,
              "solidity": 0.2
             }
            },
            "type": "histogram"
           }
          ],
          "histogram2d": [
           {
            "colorbar": {
             "outlinewidth": 0,
             "ticks": ""
            },
            "colorscale": [
             [
              0,
              "#0d0887"
             ],
             [
              0.1111111111111111,
              "#46039f"
             ],
             [
              0.2222222222222222,
              "#7201a8"
             ],
             [
              0.3333333333333333,
              "#9c179e"
             ],
             [
              0.4444444444444444,
              "#bd3786"
             ],
             [
              0.5555555555555556,
              "#d8576b"
             ],
             [
              0.6666666666666666,
              "#ed7953"
             ],
             [
              0.7777777777777778,
              "#fb9f3a"
             ],
             [
              0.8888888888888888,
              "#fdca26"
             ],
             [
              1,
              "#f0f921"
             ]
            ],
            "type": "histogram2d"
           }
          ],
          "histogram2dcontour": [
           {
            "colorbar": {
             "outlinewidth": 0,
             "ticks": ""
            },
            "colorscale": [
             [
              0,
              "#0d0887"
             ],
             [
              0.1111111111111111,
              "#46039f"
             ],
             [
              0.2222222222222222,
              "#7201a8"
             ],
             [
              0.3333333333333333,
              "#9c179e"
             ],
             [
              0.4444444444444444,
              "#bd3786"
             ],
             [
              0.5555555555555556,
              "#d8576b"
             ],
             [
              0.6666666666666666,
              "#ed7953"
             ],
             [
              0.7777777777777778,
              "#fb9f3a"
             ],
             [
              0.8888888888888888,
              "#fdca26"
             ],
             [
              1,
              "#f0f921"
             ]
            ],
            "type": "histogram2dcontour"
           }
          ],
          "mesh3d": [
           {
            "colorbar": {
             "outlinewidth": 0,
             "ticks": ""
            },
            "type": "mesh3d"
           }
          ],
          "parcoords": [
           {
            "line": {
             "colorbar": {
              "outlinewidth": 0,
              "ticks": ""
             }
            },
            "type": "parcoords"
           }
          ],
          "pie": [
           {
            "automargin": true,
            "type": "pie"
           }
          ],
          "scatter": [
           {
            "marker": {
             "colorbar": {
              "outlinewidth": 0,
              "ticks": ""
             }
            },
            "type": "scatter"
           }
          ],
          "scatter3d": [
           {
            "line": {
             "colorbar": {
              "outlinewidth": 0,
              "ticks": ""
             }
            },
            "marker": {
             "colorbar": {
              "outlinewidth": 0,
              "ticks": ""
             }
            },
            "type": "scatter3d"
           }
          ],
          "scattercarpet": [
           {
            "marker": {
             "colorbar": {
              "outlinewidth": 0,
              "ticks": ""
             }
            },
            "type": "scattercarpet"
           }
          ],
          "scattergeo": [
           {
            "marker": {
             "colorbar": {
              "outlinewidth": 0,
              "ticks": ""
             }
            },
            "type": "scattergeo"
           }
          ],
          "scattergl": [
           {
            "marker": {
             "colorbar": {
              "outlinewidth": 0,
              "ticks": ""
             }
            },
            "type": "scattergl"
           }
          ],
          "scattermapbox": [
           {
            "marker": {
             "colorbar": {
              "outlinewidth": 0,
              "ticks": ""
             }
            },
            "type": "scattermapbox"
           }
          ],
          "scatterpolar": [
           {
            "marker": {
             "colorbar": {
              "outlinewidth": 0,
              "ticks": ""
             }
            },
            "type": "scatterpolar"
           }
          ],
          "scatterpolargl": [
           {
            "marker": {
             "colorbar": {
              "outlinewidth": 0,
              "ticks": ""
             }
            },
            "type": "scatterpolargl"
           }
          ],
          "scatterternary": [
           {
            "marker": {
             "colorbar": {
              "outlinewidth": 0,
              "ticks": ""
             }
            },
            "type": "scatterternary"
           }
          ],
          "surface": [
           {
            "colorbar": {
             "outlinewidth": 0,
             "ticks": ""
            },
            "colorscale": [
             [
              0,
              "#0d0887"
             ],
             [
              0.1111111111111111,
              "#46039f"
             ],
             [
              0.2222222222222222,
              "#7201a8"
             ],
             [
              0.3333333333333333,
              "#9c179e"
             ],
             [
              0.4444444444444444,
              "#bd3786"
             ],
             [
              0.5555555555555556,
              "#d8576b"
             ],
             [
              0.6666666666666666,
              "#ed7953"
             ],
             [
              0.7777777777777778,
              "#fb9f3a"
             ],
             [
              0.8888888888888888,
              "#fdca26"
             ],
             [
              1,
              "#f0f921"
             ]
            ],
            "type": "surface"
           }
          ],
          "table": [
           {
            "cells": {
             "fill": {
              "color": "#EBF0F8"
             },
             "line": {
              "color": "white"
             }
            },
            "header": {
             "fill": {
              "color": "#C8D4E3"
             },
             "line": {
              "color": "white"
             }
            },
            "type": "table"
           }
          ]
         },
         "layout": {
          "annotationdefaults": {
           "arrowcolor": "#2a3f5f",
           "arrowhead": 0,
           "arrowwidth": 1
          },
          "autotypenumbers": "strict",
          "coloraxis": {
           "colorbar": {
            "outlinewidth": 0,
            "ticks": ""
           }
          },
          "colorscale": {
           "diverging": [
            [
             0,
             "#8e0152"
            ],
            [
             0.1,
             "#c51b7d"
            ],
            [
             0.2,
             "#de77ae"
            ],
            [
             0.3,
             "#f1b6da"
            ],
            [
             0.4,
             "#fde0ef"
            ],
            [
             0.5,
             "#f7f7f7"
            ],
            [
             0.6,
             "#e6f5d0"
            ],
            [
             0.7,
             "#b8e186"
            ],
            [
             0.8,
             "#7fbc41"
            ],
            [
             0.9,
             "#4d9221"
            ],
            [
             1,
             "#276419"
            ]
           ],
           "sequential": [
            [
             0,
             "#0d0887"
            ],
            [
             0.1111111111111111,
             "#46039f"
            ],
            [
             0.2222222222222222,
             "#7201a8"
            ],
            [
             0.3333333333333333,
             "#9c179e"
            ],
            [
             0.4444444444444444,
             "#bd3786"
            ],
            [
             0.5555555555555556,
             "#d8576b"
            ],
            [
             0.6666666666666666,
             "#ed7953"
            ],
            [
             0.7777777777777778,
             "#fb9f3a"
            ],
            [
             0.8888888888888888,
             "#fdca26"
            ],
            [
             1,
             "#f0f921"
            ]
           ],
           "sequentialminus": [
            [
             0,
             "#0d0887"
            ],
            [
             0.1111111111111111,
             "#46039f"
            ],
            [
             0.2222222222222222,
             "#7201a8"
            ],
            [
             0.3333333333333333,
             "#9c179e"
            ],
            [
             0.4444444444444444,
             "#bd3786"
            ],
            [
             0.5555555555555556,
             "#d8576b"
            ],
            [
             0.6666666666666666,
             "#ed7953"
            ],
            [
             0.7777777777777778,
             "#fb9f3a"
            ],
            [
             0.8888888888888888,
             "#fdca26"
            ],
            [
             1,
             "#f0f921"
            ]
           ]
          },
          "colorway": [
           "#636efa",
           "#EF553B",
           "#00cc96",
           "#ab63fa",
           "#FFA15A",
           "#19d3f3",
           "#FF6692",
           "#B6E880",
           "#FF97FF",
           "#FECB52"
          ],
          "font": {
           "color": "#2a3f5f"
          },
          "geo": {
           "bgcolor": "white",
           "lakecolor": "white",
           "landcolor": "#E5ECF6",
           "showlakes": true,
           "showland": true,
           "subunitcolor": "white"
          },
          "hoverlabel": {
           "align": "left"
          },
          "hovermode": "closest",
          "mapbox": {
           "style": "light"
          },
          "paper_bgcolor": "white",
          "plot_bgcolor": "#E5ECF6",
          "polar": {
           "angularaxis": {
            "gridcolor": "white",
            "linecolor": "white",
            "ticks": ""
           },
           "bgcolor": "#E5ECF6",
           "radialaxis": {
            "gridcolor": "white",
            "linecolor": "white",
            "ticks": ""
           }
          },
          "scene": {
           "xaxis": {
            "backgroundcolor": "#E5ECF6",
            "gridcolor": "white",
            "gridwidth": 2,
            "linecolor": "white",
            "showbackground": true,
            "ticks": "",
            "zerolinecolor": "white"
           },
           "yaxis": {
            "backgroundcolor": "#E5ECF6",
            "gridcolor": "white",
            "gridwidth": 2,
            "linecolor": "white",
            "showbackground": true,
            "ticks": "",
            "zerolinecolor": "white"
           },
           "zaxis": {
            "backgroundcolor": "#E5ECF6",
            "gridcolor": "white",
            "gridwidth": 2,
            "linecolor": "white",
            "showbackground": true,
            "ticks": "",
            "zerolinecolor": "white"
           }
          },
          "shapedefaults": {
           "line": {
            "color": "#2a3f5f"
           }
          },
          "ternary": {
           "aaxis": {
            "gridcolor": "white",
            "linecolor": "white",
            "ticks": ""
           },
           "baxis": {
            "gridcolor": "white",
            "linecolor": "white",
            "ticks": ""
           },
           "bgcolor": "#E5ECF6",
           "caxis": {
            "gridcolor": "white",
            "linecolor": "white",
            "ticks": ""
           }
          },
          "title": {
           "x": 0.05
          },
          "xaxis": {
           "automargin": true,
           "gridcolor": "white",
           "linecolor": "white",
           "ticks": "",
           "title": {
            "standoff": 15
           },
           "zerolinecolor": "white",
           "zerolinewidth": 2
          },
          "yaxis": {
           "automargin": true,
           "gridcolor": "white",
           "linecolor": "white",
           "ticks": "",
           "title": {
            "standoff": 15
           },
           "zerolinecolor": "white",
           "zerolinewidth": 2
          }
         }
        }
       }
      },
      "text/html": [
       "<div>                            <div id=\"d6a88063-279a-4a93-a30c-35b0a1874cfe\" class=\"plotly-graph-div\" style=\"height:525px; width:100%;\"></div>            <script type=\"text/javascript\">                require([\"plotly\"], function(Plotly) {                    window.PLOTLYENV=window.PLOTLYENV || {};                                    if (document.getElementById(\"d6a88063-279a-4a93-a30c-35b0a1874cfe\")) {                    Plotly.newPlot(                        \"d6a88063-279a-4a93-a30c-35b0a1874cfe\",                        [{\"hovertemplate\":\"class=%{marker.color}<br>NewCases=%{x}<br>Infection_Risk=%{y}<br>NewDeaths=%{z}<extra></extra>\",\"legendgroup\":\"1\",\"marker\":{\"color\":[1],\"coloraxis\":\"coloraxis\",\"symbol\":\"circle\"},\"mode\":\"markers\",\"name\":\"1\",\"scene\":\"scene\",\"showlegend\":true,\"x\":[11781],\"y\":[24.4],\"z\":[354],\"type\":\"scatter3d\"},{\"hovertemplate\":\"class=%{marker.color}<br>NewCases=%{x}<br>Infection_Risk=%{y}<br>NewDeaths=%{z}<extra></extra>\",\"legendgroup\":\"0\",\"marker\":{\"color\":[0,0,0,0,0,0,0,0,0,0,0,0,0,0,0,0,0,0,0,0,0,0,0,0,0,0,0,0,0,0,0,0,0,0,0,0,0,0,0,0,0,0,0,0,0,0,0,0,0,0,0,0,0,0,0,0,0,0,0,0,0,0,0,0,0,0,0,0,0,0,0,0,0,0,0,0,0,0,0,0,0,0,0,0,0,0,0,0,0,0,0,0,0,0,0,0,0,0,0,0,0,0,0,0,0,0,0,0,0,0,0,0,0,0,0,0,0,0,0,0,0,0,0,0,0,0,0,0,0,0,0,0,0,0,0,0,0,0,0,0,0,0,0,0,0,0,0,0,0,0,0,0,0,0,0,0,0,0,0,0,0,0,0,0,0,0,0,0,0,0,0,0,0,0,0,0,0,0,0,0,0,0,0,0,0,0,0,0,0,0,0,0,0,0,0,0,0,0,0,0,0,0],\"coloraxis\":\"coloraxis\",\"symbol\":\"diamond\"},\"mode\":\"markers\",\"name\":\"0\",\"scene\":\"scene\",\"showlegend\":true,\"x\":[0,15303,339396,2572,1530,366,4857,3630,21839,17635,7174,13457,1557,411,0,26050,0,6344,16234,5351,3725,0,370,1949,102,2439,0,8104,590,329,9147,0,22,77,1333,10405,1815,378,836,7584,0,3314,12,1488,2802,288,348,0,0,0,1311,50,2819,0,99,234,0,0,317,0,0,15914,1462,852,0,385,41,0,60,103,22,0,3329,0,114,122,0,17,110,322,61,13,0,0,0,9,65,8,2179,10,831,0,0,2212,13,0,0,0,0,341,59,0,756,1,0,0,0,13,12,10,0,12,0,465,0,25,0,5,0,0,0,32,0,0,0,4,0,0,0,0,0,0,0,0,0,0,97,0,86,0,0,0,0,2,0,0,0,502,0,0,4,136,71,0,0,0,0,70,0,128,0,0,0,0,0,0,0,0,0,59,0,0,1,0,0,0,0,0,0,0,0,0,0,0,1,0,0,0,0,263,0,93,0,0,0,0,0,0,0,0,0,1366],\"y\":[3.07,17.2,21.74,19.66,8.33,11.74,2.15,11.44,12.4,41.13,35.16,32.3,6.12,3.28,10.5,4.96,34.09,8.97,28.06,49.58,14.91,24.31,5.55,22.66,1.16,19.12,16.28,30.65,41.38,0.67,28.27,25.35,6.81,3.09,16.51,14.62,26.87,16.1,9.59,17.89,8.59,38.01,3.26,10.13,45.8,7.54,8.81,25.22,4.72,16.12,4.45,7.69,42.53,17.21,2.1,3.06,8.89,14.34,1.11,10.95,5.23,11.46,41.4,30.48,1.84,12.74,7.13,0.47,0.39,13.89,14.21,4.11,32.76,7.28,11.55,12.84,36.1,0.58,1.64,14.62,9.52,0.59,10.85,0.12,1.61,0.69,37.03,0.69,32.36,2.99,51.7,0.44,31.36,2.2,0.34,2.46,0.5,6.01,37.73,9.7,0.79,32.66,29.2,0.96,4.31,0.43,0.29,0.09,0.49,0.43,0.3,13.28,25.21,17.21,25.33,5.9,37.17,7.09,0.22,7.97,0.14,20.73,1.21,20.18,13.95,9.88,0.31,2.05,0.45,40.23,24.12,51.26,0.31,0.43,12.93,0.27,2.81,69.61,31.55,0.05,8.32,1.51,0.26,0.14,31.85,0.21,0.16,3.09,0.42,12.38,1.68,0.09,0.1,29.13,0.27,0.18,0.15,49.3,1.07,41.47,1.54,43.95,0.29,12.31,19.96,0.47,20.99,0.04,16.3,26.41,1.46,24.9,0.27,22.14,0.03,0.4,0.9,30.17,0.09,7.53,0.14,0.04,6.05,19.96,2.63,14.86,10.3,38.07,17.28,0.61,31.0,0.44,0.0,4.17,3.48,3.26,0.01,3.61,0.0,0.0,0.01,0.01],\"z\":[0,68,392,66,52,13,120,32,53,5,12,27,7,60,0,69,0,49,35,24,32,0,7,10,0,38,0,20,10,3,17,0,1,0,29,192,10,5,0,13,0,13,0,8,8,3,0,0,0,0,7,3,10,0,2,2,0,0,0,0,0,9,6,2,0,1,5,0,0,0,3,0,3,0,7,0,0,0,1,6,1,0,0,0,0,0,0,0,2,1,2,0,0,2,0,0,0,0,0,2,0,0,0,0,0,0,0,0,0,0,0,0,0,1,0,0,0,0,0,0,0,0,0,0,0,0,0,0,0,0,0,0,0,0,0,0,0,0,0,0,0,0,0,0,0,0,0,0,0,0,0,0,6,0,0,0,0,0,0,0,0,0,0,0,0,0,0,0,0,0,0,0,0,0,0,0,0,0,0,0,0,0,0,0,0,0,0,0,0,0,0,0,0,0,0,0,0,0,0,0,0,0],\"type\":\"scatter3d\"},{\"hovertemplate\":\"class=%{marker.color}<br>NewCases=%{x}<br>Infection_Risk=%{y}<br>NewDeaths=%{z}<extra></extra>\",\"legendgroup\":\"3\",\"marker\":{\"color\":[3,3,3,3,3,3,3,3,3,3,3],\"coloraxis\":\"coloraxis\",\"symbol\":\"square\"},\"mode\":\"markers\",\"name\":\"3\",\"scene\":\"scene\",\"showlegend\":true,\"x\":[34576,25382,24298,49063,8241,3658,58235,37910,8761,11188,10675],\"y\":[13.85,12.13,24.48,4.96,15.71,4.3,16.07,40.3,17.71,38.84,15.2],\"z\":[199,398,113,129,110,155,26,40,75,2,34],\"type\":\"scatter3d\"},{\"hovertemplate\":\"class=%{marker.color}<br>NewCases=%{x}<br>Infection_Risk=%{y}<br>NewDeaths=%{z}<extra></extra>\",\"legendgroup\":\"4\",\"marker\":{\"color\":[4,4,4,4],\"coloraxis\":\"coloraxis\",\"symbol\":\"x\"},\"mode\":\"markers\",\"name\":\"4\",\"scene\":\"scene\",\"showlegend\":true,\"x\":[143571,39925,75616,34989],\"y\":[37.82,30.21,23.59,44.77],\"z\":[121,172,146,20],\"type\":\"scatter3d\"},{\"hovertemplate\":\"class=%{marker.color}<br>NewCases=%{x}<br>Infection_Risk=%{y}<br>NewDeaths=%{z}<extra></extra>\",\"legendgroup\":\"2\",\"marker\":{\"color\":[2,2],\"coloraxis\":\"coloraxis\",\"symbol\":\"cross\"},\"mode\":\"markers\",\"name\":\"2\",\"scene\":\"scene\",\"showlegend\":true,\"x\":[276746,0],\"y\":[23.76,8.7],\"z\":[300,0],\"type\":\"scatter3d\"}],                        {\"template\":{\"data\":{\"bar\":[{\"error_x\":{\"color\":\"#2a3f5f\"},\"error_y\":{\"color\":\"#2a3f5f\"},\"marker\":{\"line\":{\"color\":\"#E5ECF6\",\"width\":0.5},\"pattern\":{\"fillmode\":\"overlay\",\"size\":10,\"solidity\":0.2}},\"type\":\"bar\"}],\"barpolar\":[{\"marker\":{\"line\":{\"color\":\"#E5ECF6\",\"width\":0.5},\"pattern\":{\"fillmode\":\"overlay\",\"size\":10,\"solidity\":0.2}},\"type\":\"barpolar\"}],\"carpet\":[{\"aaxis\":{\"endlinecolor\":\"#2a3f5f\",\"gridcolor\":\"white\",\"linecolor\":\"white\",\"minorgridcolor\":\"white\",\"startlinecolor\":\"#2a3f5f\"},\"baxis\":{\"endlinecolor\":\"#2a3f5f\",\"gridcolor\":\"white\",\"linecolor\":\"white\",\"minorgridcolor\":\"white\",\"startlinecolor\":\"#2a3f5f\"},\"type\":\"carpet\"}],\"choropleth\":[{\"colorbar\":{\"outlinewidth\":0,\"ticks\":\"\"},\"type\":\"choropleth\"}],\"contour\":[{\"colorbar\":{\"outlinewidth\":0,\"ticks\":\"\"},\"colorscale\":[[0.0,\"#0d0887\"],[0.1111111111111111,\"#46039f\"],[0.2222222222222222,\"#7201a8\"],[0.3333333333333333,\"#9c179e\"],[0.4444444444444444,\"#bd3786\"],[0.5555555555555556,\"#d8576b\"],[0.6666666666666666,\"#ed7953\"],[0.7777777777777778,\"#fb9f3a\"],[0.8888888888888888,\"#fdca26\"],[1.0,\"#f0f921\"]],\"type\":\"contour\"}],\"contourcarpet\":[{\"colorbar\":{\"outlinewidth\":0,\"ticks\":\"\"},\"type\":\"contourcarpet\"}],\"heatmap\":[{\"colorbar\":{\"outlinewidth\":0,\"ticks\":\"\"},\"colorscale\":[[0.0,\"#0d0887\"],[0.1111111111111111,\"#46039f\"],[0.2222222222222222,\"#7201a8\"],[0.3333333333333333,\"#9c179e\"],[0.4444444444444444,\"#bd3786\"],[0.5555555555555556,\"#d8576b\"],[0.6666666666666666,\"#ed7953\"],[0.7777777777777778,\"#fb9f3a\"],[0.8888888888888888,\"#fdca26\"],[1.0,\"#f0f921\"]],\"type\":\"heatmap\"}],\"heatmapgl\":[{\"colorbar\":{\"outlinewidth\":0,\"ticks\":\"\"},\"colorscale\":[[0.0,\"#0d0887\"],[0.1111111111111111,\"#46039f\"],[0.2222222222222222,\"#7201a8\"],[0.3333333333333333,\"#9c179e\"],[0.4444444444444444,\"#bd3786\"],[0.5555555555555556,\"#d8576b\"],[0.6666666666666666,\"#ed7953\"],[0.7777777777777778,\"#fb9f3a\"],[0.8888888888888888,\"#fdca26\"],[1.0,\"#f0f921\"]],\"type\":\"heatmapgl\"}],\"histogram\":[{\"marker\":{\"pattern\":{\"fillmode\":\"overlay\",\"size\":10,\"solidity\":0.2}},\"type\":\"histogram\"}],\"histogram2d\":[{\"colorbar\":{\"outlinewidth\":0,\"ticks\":\"\"},\"colorscale\":[[0.0,\"#0d0887\"],[0.1111111111111111,\"#46039f\"],[0.2222222222222222,\"#7201a8\"],[0.3333333333333333,\"#9c179e\"],[0.4444444444444444,\"#bd3786\"],[0.5555555555555556,\"#d8576b\"],[0.6666666666666666,\"#ed7953\"],[0.7777777777777778,\"#fb9f3a\"],[0.8888888888888888,\"#fdca26\"],[1.0,\"#f0f921\"]],\"type\":\"histogram2d\"}],\"histogram2dcontour\":[{\"colorbar\":{\"outlinewidth\":0,\"ticks\":\"\"},\"colorscale\":[[0.0,\"#0d0887\"],[0.1111111111111111,\"#46039f\"],[0.2222222222222222,\"#7201a8\"],[0.3333333333333333,\"#9c179e\"],[0.4444444444444444,\"#bd3786\"],[0.5555555555555556,\"#d8576b\"],[0.6666666666666666,\"#ed7953\"],[0.7777777777777778,\"#fb9f3a\"],[0.8888888888888888,\"#fdca26\"],[1.0,\"#f0f921\"]],\"type\":\"histogram2dcontour\"}],\"mesh3d\":[{\"colorbar\":{\"outlinewidth\":0,\"ticks\":\"\"},\"type\":\"mesh3d\"}],\"parcoords\":[{\"line\":{\"colorbar\":{\"outlinewidth\":0,\"ticks\":\"\"}},\"type\":\"parcoords\"}],\"pie\":[{\"automargin\":true,\"type\":\"pie\"}],\"scatter\":[{\"marker\":{\"colorbar\":{\"outlinewidth\":0,\"ticks\":\"\"}},\"type\":\"scatter\"}],\"scatter3d\":[{\"line\":{\"colorbar\":{\"outlinewidth\":0,\"ticks\":\"\"}},\"marker\":{\"colorbar\":{\"outlinewidth\":0,\"ticks\":\"\"}},\"type\":\"scatter3d\"}],\"scattercarpet\":[{\"marker\":{\"colorbar\":{\"outlinewidth\":0,\"ticks\":\"\"}},\"type\":\"scattercarpet\"}],\"scattergeo\":[{\"marker\":{\"colorbar\":{\"outlinewidth\":0,\"ticks\":\"\"}},\"type\":\"scattergeo\"}],\"scattergl\":[{\"marker\":{\"colorbar\":{\"outlinewidth\":0,\"ticks\":\"\"}},\"type\":\"scattergl\"}],\"scattermapbox\":[{\"marker\":{\"colorbar\":{\"outlinewidth\":0,\"ticks\":\"\"}},\"type\":\"scattermapbox\"}],\"scatterpolar\":[{\"marker\":{\"colorbar\":{\"outlinewidth\":0,\"ticks\":\"\"}},\"type\":\"scatterpolar\"}],\"scatterpolargl\":[{\"marker\":{\"colorbar\":{\"outlinewidth\":0,\"ticks\":\"\"}},\"type\":\"scatterpolargl\"}],\"scatterternary\":[{\"marker\":{\"colorbar\":{\"outlinewidth\":0,\"ticks\":\"\"}},\"type\":\"scatterternary\"}],\"surface\":[{\"colorbar\":{\"outlinewidth\":0,\"ticks\":\"\"},\"colorscale\":[[0.0,\"#0d0887\"],[0.1111111111111111,\"#46039f\"],[0.2222222222222222,\"#7201a8\"],[0.3333333333333333,\"#9c179e\"],[0.4444444444444444,\"#bd3786\"],[0.5555555555555556,\"#d8576b\"],[0.6666666666666666,\"#ed7953\"],[0.7777777777777778,\"#fb9f3a\"],[0.8888888888888888,\"#fdca26\"],[1.0,\"#f0f921\"]],\"type\":\"surface\"}],\"table\":[{\"cells\":{\"fill\":{\"color\":\"#EBF0F8\"},\"line\":{\"color\":\"white\"}},\"header\":{\"fill\":{\"color\":\"#C8D4E3\"},\"line\":{\"color\":\"white\"}},\"type\":\"table\"}]},\"layout\":{\"annotationdefaults\":{\"arrowcolor\":\"#2a3f5f\",\"arrowhead\":0,\"arrowwidth\":1},\"autotypenumbers\":\"strict\",\"coloraxis\":{\"colorbar\":{\"outlinewidth\":0,\"ticks\":\"\"}},\"colorscale\":{\"diverging\":[[0,\"#8e0152\"],[0.1,\"#c51b7d\"],[0.2,\"#de77ae\"],[0.3,\"#f1b6da\"],[0.4,\"#fde0ef\"],[0.5,\"#f7f7f7\"],[0.6,\"#e6f5d0\"],[0.7,\"#b8e186\"],[0.8,\"#7fbc41\"],[0.9,\"#4d9221\"],[1,\"#276419\"]],\"sequential\":[[0.0,\"#0d0887\"],[0.1111111111111111,\"#46039f\"],[0.2222222222222222,\"#7201a8\"],[0.3333333333333333,\"#9c179e\"],[0.4444444444444444,\"#bd3786\"],[0.5555555555555556,\"#d8576b\"],[0.6666666666666666,\"#ed7953\"],[0.7777777777777778,\"#fb9f3a\"],[0.8888888888888888,\"#fdca26\"],[1.0,\"#f0f921\"]],\"sequentialminus\":[[0.0,\"#0d0887\"],[0.1111111111111111,\"#46039f\"],[0.2222222222222222,\"#7201a8\"],[0.3333333333333333,\"#9c179e\"],[0.4444444444444444,\"#bd3786\"],[0.5555555555555556,\"#d8576b\"],[0.6666666666666666,\"#ed7953\"],[0.7777777777777778,\"#fb9f3a\"],[0.8888888888888888,\"#fdca26\"],[1.0,\"#f0f921\"]]},\"colorway\":[\"#636efa\",\"#EF553B\",\"#00cc96\",\"#ab63fa\",\"#FFA15A\",\"#19d3f3\",\"#FF6692\",\"#B6E880\",\"#FF97FF\",\"#FECB52\"],\"font\":{\"color\":\"#2a3f5f\"},\"geo\":{\"bgcolor\":\"white\",\"lakecolor\":\"white\",\"landcolor\":\"#E5ECF6\",\"showlakes\":true,\"showland\":true,\"subunitcolor\":\"white\"},\"hoverlabel\":{\"align\":\"left\"},\"hovermode\":\"closest\",\"mapbox\":{\"style\":\"light\"},\"paper_bgcolor\":\"white\",\"plot_bgcolor\":\"#E5ECF6\",\"polar\":{\"angularaxis\":{\"gridcolor\":\"white\",\"linecolor\":\"white\",\"ticks\":\"\"},\"bgcolor\":\"#E5ECF6\",\"radialaxis\":{\"gridcolor\":\"white\",\"linecolor\":\"white\",\"ticks\":\"\"}},\"scene\":{\"xaxis\":{\"backgroundcolor\":\"#E5ECF6\",\"gridcolor\":\"white\",\"gridwidth\":2,\"linecolor\":\"white\",\"showbackground\":true,\"ticks\":\"\",\"zerolinecolor\":\"white\"},\"yaxis\":{\"backgroundcolor\":\"#E5ECF6\",\"gridcolor\":\"white\",\"gridwidth\":2,\"linecolor\":\"white\",\"showbackground\":true,\"ticks\":\"\",\"zerolinecolor\":\"white\"},\"zaxis\":{\"backgroundcolor\":\"#E5ECF6\",\"gridcolor\":\"white\",\"gridwidth\":2,\"linecolor\":\"white\",\"showbackground\":true,\"ticks\":\"\",\"zerolinecolor\":\"white\"}},\"shapedefaults\":{\"line\":{\"color\":\"#2a3f5f\"}},\"ternary\":{\"aaxis\":{\"gridcolor\":\"white\",\"linecolor\":\"white\",\"ticks\":\"\"},\"baxis\":{\"gridcolor\":\"white\",\"linecolor\":\"white\",\"ticks\":\"\"},\"bgcolor\":\"#E5ECF6\",\"caxis\":{\"gridcolor\":\"white\",\"linecolor\":\"white\",\"ticks\":\"\"}},\"title\":{\"x\":0.05},\"xaxis\":{\"automargin\":true,\"gridcolor\":\"white\",\"linecolor\":\"white\",\"ticks\":\"\",\"title\":{\"standoff\":15},\"zerolinecolor\":\"white\",\"zerolinewidth\":2},\"yaxis\":{\"automargin\":true,\"gridcolor\":\"white\",\"linecolor\":\"white\",\"ticks\":\"\",\"title\":{\"standoff\":15},\"zerolinecolor\":\"white\",\"zerolinewidth\":2}}},\"scene\":{\"domain\":{\"x\":[0.0,1.0],\"y\":[0.0,1.0]},\"xaxis\":{\"title\":{\"text\":\"NewCases\"}},\"yaxis\":{\"title\":{\"text\":\"Infection_Risk\"}},\"zaxis\":{\"title\":{\"text\":\"NewDeaths\"}}},\"coloraxis\":{\"colorbar\":{\"title\":{\"text\":\"class\"}},\"colorscale\":[[0.0,\"#0d0887\"],[0.1111111111111111,\"#46039f\"],[0.2222222222222222,\"#7201a8\"],[0.3333333333333333,\"#9c179e\"],[0.4444444444444444,\"#bd3786\"],[0.5555555555555556,\"#d8576b\"],[0.6666666666666666,\"#ed7953\"],[0.7777777777777778,\"#fb9f3a\"],[0.8888888888888888,\"#fdca26\"],[1.0,\"#f0f921\"]]},\"legend\":{\"title\":{\"text\":\"class\"},\"tracegroupgap\":0,\"x\":0,\"y\":1},\"margin\":{\"t\":60}},                        {\"responsive\": true}                    ).then(function(){\n",
       "                            \n",
       "var gd = document.getElementById('d6a88063-279a-4a93-a30c-35b0a1874cfe');\n",
       "var x = new MutationObserver(function (mutations, observer) {{\n",
       "        var display = window.getComputedStyle(gd).display;\n",
       "        if (!display || display === 'none') {{\n",
       "            console.log([gd, 'removed!']);\n",
       "            Plotly.purge(gd);\n",
       "            observer.disconnect();\n",
       "        }}\n",
       "}});\n",
       "\n",
       "// Listen for the removal of the full notebook cells\n",
       "var notebookContainer = gd.closest('#notebook-container');\n",
       "if (notebookContainer) {{\n",
       "    x.observe(notebookContainer, {childList: true});\n",
       "}}\n",
       "\n",
       "// Listen for the clearing of the current output cell\n",
       "var outputEl = gd.closest('.output');\n",
       "if (outputEl) {{\n",
       "    x.observe(outputEl, {childList: true});\n",
       "}}\n",
       "\n",
       "                        })                };                });            </script>        </div>"
      ]
     },
     "metadata": {},
     "output_type": "display_data"
    }
   ],
   "source": [
    "fig = px.scatter_3d(\n",
    "    covid_data_df,\n",
    "    x=\"NewCases\",\n",
    "    y=\"Infection_Risk\",\n",
    "    z=\"NewDeaths\",\n",
    "    color=\"class\",\n",
    "    symbol=\"class\"\n",
    ")\n",
    "fig.update_layout(legend=dict(x=0, y=1))\n",
    "fig.show()"
   ]
  },
  {
   "cell_type": "code",
   "execution_count": null,
   "metadata": {},
   "outputs": [],
   "source": []
  }
 ],
 "metadata": {
  "interpreter": {
   "hash": "fa17c508ea183e3053b2fc5d5455f9c2c0be1c05ebdcc68f18396186d6a94e43"
  },
  "kernelspec": {
   "display_name": "mlenv",
   "language": "python",
   "name": "mlenv"
  },
  "language_info": {
   "codemirror_mode": {
    "name": "ipython",
    "version": 3
   },
   "file_extension": ".py",
   "mimetype": "text/x-python",
   "name": "python",
   "nbconvert_exporter": "python",
   "pygments_lexer": "ipython3",
   "version": "3.9.7"
  }
 },
 "nbformat": 4,
 "nbformat_minor": 2
}
